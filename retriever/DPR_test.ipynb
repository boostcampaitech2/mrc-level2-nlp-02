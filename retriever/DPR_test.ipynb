{
 "cells": [
  {
   "cell_type": "code",
   "execution_count": 2,
   "metadata": {},
   "outputs": [],
   "source": [
    "import torch\n",
    "import torch.nn as nn\n",
    "import torch.nn.functional as F\n",
    "from torch.utils.data import DataLoader, RandomSampler, TensorDataset\n",
    "\n",
    "from typing import List, Tuple, NoReturn, Any, Optional, Union\n",
    "import pandas as pd\n",
    "import numpy as np\n",
    "\n",
    "from datasets import (\n",
    "    Dataset,\n",
    "    load_from_disk,\n",
    "    concatenate_datasets,\n",
    ")\n",
    "\n",
    "from tqdm.auto import tqdm, trange\n",
    "import os\n",
    "\n",
    "import datasets\n",
    "from datasets import load_dataset, load_from_disk\n",
    "from transformers import AutoTokenizer, HfArgumentParser"
   ]
  },
  {
   "cell_type": "code",
   "execution_count": 3,
   "metadata": {},
   "outputs": [
    {
     "data": {
      "text/plain": [
       "DatasetDict({\n",
       "    train: Dataset({\n",
       "        features: ['__index_level_0__', 'answers', 'context', 'document_id', 'id', 'question', 'title'],\n",
       "        num_rows: 3952\n",
       "    })\n",
       "    validation: Dataset({\n",
       "        features: ['__index_level_0__', 'answers', 'context', 'document_id', 'id', 'question', 'title'],\n",
       "        num_rows: 240\n",
       "    })\n",
       "})"
      ]
     },
     "execution_count": 3,
     "metadata": {},
     "output_type": "execute_result"
    }
   ],
   "source": [
    "dataset = load_from_disk(\"/opt/ml/data/train_dataset\")\n",
    "train_dataset = dataset[\"train\"]\n",
    "valid_dataset = dataset[\"validation\"]\n",
    "dataset"
   ]
  },
  {
   "cell_type": "code",
   "execution_count": 4,
   "metadata": {},
   "outputs": [],
   "source": [
    "model_checkpoint = \"klue/roberta-large\"\n",
    "tokenizer = AutoTokenizer.from_pretrained(model_checkpoint)"
   ]
  },
  {
   "cell_type": "code",
   "execution_count": 5,
   "metadata": {},
   "outputs": [
    {
     "ename": "FileNotFoundError",
     "evalue": "[Errno 2] No such file or directory: '/opt/ml/data/bm25/bm25_valid.csv'",
     "output_type": "error",
     "traceback": [
      "\u001b[0;31m---------------------------------------------------------------------------\u001b[0m",
      "\u001b[0;31mFileNotFoundError\u001b[0m                         Traceback (most recent call last)",
      "\u001b[0;32m/tmp/ipykernel_18091/3880022804.py\u001b[0m in \u001b[0;36m<module>\u001b[0;34m\u001b[0m\n\u001b[0;32m----> 1\u001b[0;31m \u001b[0mdf\u001b[0m \u001b[0;34m=\u001b[0m \u001b[0mpd\u001b[0m\u001b[0;34m.\u001b[0m\u001b[0mread_csv\u001b[0m\u001b[0;34m(\u001b[0m\u001b[0;34m\"/opt/ml/data/bm25/bm25_valid.csv\"\u001b[0m\u001b[0;34m,\u001b[0m \u001b[0mindex_col\u001b[0m \u001b[0;34m=\u001b[0m \u001b[0;36m0\u001b[0m\u001b[0;34m)\u001b[0m\u001b[0;34m\u001b[0m\u001b[0;34m\u001b[0m\u001b[0m\n\u001b[0m\u001b[1;32m      2\u001b[0m \u001b[0mdf\u001b[0m\u001b[0;34m.\u001b[0m\u001b[0mhead\u001b[0m\u001b[0;34m(\u001b[0m\u001b[0;34m)\u001b[0m\u001b[0;34m\u001b[0m\u001b[0;34m\u001b[0m\u001b[0m\n",
      "\u001b[0;32m/opt/conda/lib/python3.8/site-packages/pandas/io/parsers.py\u001b[0m in \u001b[0;36mread_csv\u001b[0;34m(filepath_or_buffer, sep, delimiter, header, names, index_col, usecols, squeeze, prefix, mangle_dupe_cols, dtype, engine, converters, true_values, false_values, skipinitialspace, skiprows, skipfooter, nrows, na_values, keep_default_na, na_filter, verbose, skip_blank_lines, parse_dates, infer_datetime_format, keep_date_col, date_parser, dayfirst, cache_dates, iterator, chunksize, compression, thousands, decimal, lineterminator, quotechar, quoting, doublequote, escapechar, comment, encoding, dialect, error_bad_lines, warn_bad_lines, delim_whitespace, low_memory, memory_map, float_precision)\u001b[0m\n\u001b[1;32m    686\u001b[0m     )\n\u001b[1;32m    687\u001b[0m \u001b[0;34m\u001b[0m\u001b[0m\n\u001b[0;32m--> 688\u001b[0;31m     \u001b[0;32mreturn\u001b[0m \u001b[0m_read\u001b[0m\u001b[0;34m(\u001b[0m\u001b[0mfilepath_or_buffer\u001b[0m\u001b[0;34m,\u001b[0m \u001b[0mkwds\u001b[0m\u001b[0;34m)\u001b[0m\u001b[0;34m\u001b[0m\u001b[0;34m\u001b[0m\u001b[0m\n\u001b[0m\u001b[1;32m    689\u001b[0m \u001b[0;34m\u001b[0m\u001b[0m\n\u001b[1;32m    690\u001b[0m \u001b[0;34m\u001b[0m\u001b[0m\n",
      "\u001b[0;32m/opt/conda/lib/python3.8/site-packages/pandas/io/parsers.py\u001b[0m in \u001b[0;36m_read\u001b[0;34m(filepath_or_buffer, kwds)\u001b[0m\n\u001b[1;32m    452\u001b[0m \u001b[0;34m\u001b[0m\u001b[0m\n\u001b[1;32m    453\u001b[0m     \u001b[0;31m# Create the parser.\u001b[0m\u001b[0;34m\u001b[0m\u001b[0;34m\u001b[0m\u001b[0;34m\u001b[0m\u001b[0m\n\u001b[0;32m--> 454\u001b[0;31m     \u001b[0mparser\u001b[0m \u001b[0;34m=\u001b[0m \u001b[0mTextFileReader\u001b[0m\u001b[0;34m(\u001b[0m\u001b[0mfp_or_buf\u001b[0m\u001b[0;34m,\u001b[0m \u001b[0;34m**\u001b[0m\u001b[0mkwds\u001b[0m\u001b[0;34m)\u001b[0m\u001b[0;34m\u001b[0m\u001b[0;34m\u001b[0m\u001b[0m\n\u001b[0m\u001b[1;32m    455\u001b[0m \u001b[0;34m\u001b[0m\u001b[0m\n\u001b[1;32m    456\u001b[0m     \u001b[0;32mif\u001b[0m \u001b[0mchunksize\u001b[0m \u001b[0;32mor\u001b[0m \u001b[0miterator\u001b[0m\u001b[0;34m:\u001b[0m\u001b[0;34m\u001b[0m\u001b[0;34m\u001b[0m\u001b[0m\n",
      "\u001b[0;32m/opt/conda/lib/python3.8/site-packages/pandas/io/parsers.py\u001b[0m in \u001b[0;36m__init__\u001b[0;34m(self, f, engine, **kwds)\u001b[0m\n\u001b[1;32m    946\u001b[0m             \u001b[0mself\u001b[0m\u001b[0;34m.\u001b[0m\u001b[0moptions\u001b[0m\u001b[0;34m[\u001b[0m\u001b[0;34m\"has_index_names\"\u001b[0m\u001b[0;34m]\u001b[0m \u001b[0;34m=\u001b[0m \u001b[0mkwds\u001b[0m\u001b[0;34m[\u001b[0m\u001b[0;34m\"has_index_names\"\u001b[0m\u001b[0;34m]\u001b[0m\u001b[0;34m\u001b[0m\u001b[0;34m\u001b[0m\u001b[0m\n\u001b[1;32m    947\u001b[0m \u001b[0;34m\u001b[0m\u001b[0m\n\u001b[0;32m--> 948\u001b[0;31m         \u001b[0mself\u001b[0m\u001b[0;34m.\u001b[0m\u001b[0m_make_engine\u001b[0m\u001b[0;34m(\u001b[0m\u001b[0mself\u001b[0m\u001b[0;34m.\u001b[0m\u001b[0mengine\u001b[0m\u001b[0;34m)\u001b[0m\u001b[0;34m\u001b[0m\u001b[0;34m\u001b[0m\u001b[0m\n\u001b[0m\u001b[1;32m    949\u001b[0m \u001b[0;34m\u001b[0m\u001b[0m\n\u001b[1;32m    950\u001b[0m     \u001b[0;32mdef\u001b[0m \u001b[0mclose\u001b[0m\u001b[0;34m(\u001b[0m\u001b[0mself\u001b[0m\u001b[0;34m)\u001b[0m\u001b[0;34m:\u001b[0m\u001b[0;34m\u001b[0m\u001b[0;34m\u001b[0m\u001b[0m\n",
      "\u001b[0;32m/opt/conda/lib/python3.8/site-packages/pandas/io/parsers.py\u001b[0m in \u001b[0;36m_make_engine\u001b[0;34m(self, engine)\u001b[0m\n\u001b[1;32m   1178\u001b[0m     \u001b[0;32mdef\u001b[0m \u001b[0m_make_engine\u001b[0m\u001b[0;34m(\u001b[0m\u001b[0mself\u001b[0m\u001b[0;34m,\u001b[0m \u001b[0mengine\u001b[0m\u001b[0;34m=\u001b[0m\u001b[0;34m\"c\"\u001b[0m\u001b[0;34m)\u001b[0m\u001b[0;34m:\u001b[0m\u001b[0;34m\u001b[0m\u001b[0;34m\u001b[0m\u001b[0m\n\u001b[1;32m   1179\u001b[0m         \u001b[0;32mif\u001b[0m \u001b[0mengine\u001b[0m \u001b[0;34m==\u001b[0m \u001b[0;34m\"c\"\u001b[0m\u001b[0;34m:\u001b[0m\u001b[0;34m\u001b[0m\u001b[0;34m\u001b[0m\u001b[0m\n\u001b[0;32m-> 1180\u001b[0;31m             \u001b[0mself\u001b[0m\u001b[0;34m.\u001b[0m\u001b[0m_engine\u001b[0m \u001b[0;34m=\u001b[0m \u001b[0mCParserWrapper\u001b[0m\u001b[0;34m(\u001b[0m\u001b[0mself\u001b[0m\u001b[0;34m.\u001b[0m\u001b[0mf\u001b[0m\u001b[0;34m,\u001b[0m \u001b[0;34m**\u001b[0m\u001b[0mself\u001b[0m\u001b[0;34m.\u001b[0m\u001b[0moptions\u001b[0m\u001b[0;34m)\u001b[0m\u001b[0;34m\u001b[0m\u001b[0;34m\u001b[0m\u001b[0m\n\u001b[0m\u001b[1;32m   1181\u001b[0m         \u001b[0;32melse\u001b[0m\u001b[0;34m:\u001b[0m\u001b[0;34m\u001b[0m\u001b[0;34m\u001b[0m\u001b[0m\n\u001b[1;32m   1182\u001b[0m             \u001b[0;32mif\u001b[0m \u001b[0mengine\u001b[0m \u001b[0;34m==\u001b[0m \u001b[0;34m\"python\"\u001b[0m\u001b[0;34m:\u001b[0m\u001b[0;34m\u001b[0m\u001b[0;34m\u001b[0m\u001b[0m\n",
      "\u001b[0;32m/opt/conda/lib/python3.8/site-packages/pandas/io/parsers.py\u001b[0m in \u001b[0;36m__init__\u001b[0;34m(self, src, **kwds)\u001b[0m\n\u001b[1;32m   2008\u001b[0m         \u001b[0mkwds\u001b[0m\u001b[0;34m[\u001b[0m\u001b[0;34m\"usecols\"\u001b[0m\u001b[0;34m]\u001b[0m \u001b[0;34m=\u001b[0m \u001b[0mself\u001b[0m\u001b[0;34m.\u001b[0m\u001b[0musecols\u001b[0m\u001b[0;34m\u001b[0m\u001b[0;34m\u001b[0m\u001b[0m\n\u001b[1;32m   2009\u001b[0m \u001b[0;34m\u001b[0m\u001b[0m\n\u001b[0;32m-> 2010\u001b[0;31m         \u001b[0mself\u001b[0m\u001b[0;34m.\u001b[0m\u001b[0m_reader\u001b[0m \u001b[0;34m=\u001b[0m \u001b[0mparsers\u001b[0m\u001b[0;34m.\u001b[0m\u001b[0mTextReader\u001b[0m\u001b[0;34m(\u001b[0m\u001b[0msrc\u001b[0m\u001b[0;34m,\u001b[0m \u001b[0;34m**\u001b[0m\u001b[0mkwds\u001b[0m\u001b[0;34m)\u001b[0m\u001b[0;34m\u001b[0m\u001b[0;34m\u001b[0m\u001b[0m\n\u001b[0m\u001b[1;32m   2011\u001b[0m         \u001b[0mself\u001b[0m\u001b[0;34m.\u001b[0m\u001b[0munnamed_cols\u001b[0m \u001b[0;34m=\u001b[0m \u001b[0mself\u001b[0m\u001b[0;34m.\u001b[0m\u001b[0m_reader\u001b[0m\u001b[0;34m.\u001b[0m\u001b[0munnamed_cols\u001b[0m\u001b[0;34m\u001b[0m\u001b[0;34m\u001b[0m\u001b[0m\n\u001b[1;32m   2012\u001b[0m \u001b[0;34m\u001b[0m\u001b[0m\n",
      "\u001b[0;32mpandas/_libs/parsers.pyx\u001b[0m in \u001b[0;36mpandas._libs.parsers.TextReader.__cinit__\u001b[0;34m()\u001b[0m\n",
      "\u001b[0;32mpandas/_libs/parsers.pyx\u001b[0m in \u001b[0;36mpandas._libs.parsers.TextReader._setup_parser_source\u001b[0;34m()\u001b[0m\n",
      "\u001b[0;31mFileNotFoundError\u001b[0m: [Errno 2] No such file or directory: '/opt/ml/data/bm25/bm25_valid.csv'"
     ]
    }
   ],
   "source": [
    "df = pd.read_csv(\"/opt/ml/data/bm25/bm25_valid.csv\", index_col = 0)\n",
    "df.head()"
   ]
  },
  {
   "cell_type": "code",
   "execution_count": 9,
   "metadata": {},
   "outputs": [
    {
     "data": {
      "text/plain": [
       "(240, 240, 240)"
      ]
     },
     "execution_count": 9,
     "metadata": {},
     "output_type": "execute_result"
    }
   ],
   "source": [
    "len(answers), len(question), len(original_context)"
   ]
  },
  {
   "cell_type": "code",
   "execution_count": 10,
   "metadata": {},
   "outputs": [],
   "source": [
    "for idx, passages in enumerate(df.context.tolist()):\n",
    "    p_list = passages.split('▦')\n",
    "    \n",
    "    if original_context[idx] in p_list:\n",
    "        top_k_passage.append(p_list)\n",
    "        target_index = p_list.index(original_context[idx])\n",
    "        target.append(target_index)\n",
    "    else :\n",
    "        p_list = [original_context[idx]] + p_list[:-1]\n",
    "        top_k_passage.append(p_list)\n",
    "        target.append(0)"
   ]
  },
  {
   "cell_type": "code",
   "execution_count": 11,
   "metadata": {},
   "outputs": [
    {
     "data": {
      "text/plain": [
       "['순천여자고등학교 졸업, 1973년 이화여자대학교를 졸업하고 1975년 제17회 사법시험에 합격하여 판사로 임용되었고 대법원 재판연구관, 수원지법 부장판사, 사법연수원 교수, 특허법원 부장판사 등을 거쳐 능력을 인정받았다. 2003년 최종영 대법원장의 지명으로 헌법재판소 재판관을 역임하였다.\\n\\n경제민주화위원회(위원장 장하성이 소액주주들을 대표해 한보철강 부실대출에 책임이 있는 이철수 전 제일은행장 등 임원 4명을 상대로 제기한 손해배상청구소송에서 서울지방법원 민사합의17부는 1998년 7월 24일에 \"한보철강에 부실 대출하여 은행에 막대한 손해를 끼친 점이 인정된다\"며 \"원고가 배상을 청구한 400억원 전액을 은행에 배상하라\"고 하면서 부실 경영인에 대한 최초의 배상 판결을 했다.  \\n\\n2004년 10월 신행정수도의건설을위한특별조치법 위헌 확인 소송에서 9인의 재판관 중 유일하게 각하 견해를 내었다. 소수의견에서 전효숙 재판관은 다수견해의 문제점을 지적하면서 관습헌법 법리를 부정하였다. 전효숙 재판관은 서울대학교 근대법학교육 백주년 기념관에서 열린 강연에서, 국회가 고도의 정치적인 사안을 정치로 풀기보다는 헌법재판소에 무조건 맡겨서 해결하려는 자세는 헌법재판소에게 부담스럽다며 소회를 밝힌 바 있다.',\n",
       " '순천여자고등학교 졸업, 1973년 이화여자대학교를 졸업하고 1975년 제17회 사법시험에 합격하여 판사로 임용되었고 대법원 재판연구관, 수원지법 부장판사, 사법연수원 교수, 특허법원 부장판사 등을 거쳐 능력을 인정받았다. 2003년 최종영 대법원장의 지명으로 헌법재판소 재판관을 역임하였다.\\\\n\\\\n경제민주화위원회(위원장 장하성이 소액주주들을 대표해 한보철강 부실대출에 책임이 있는 이철수 전 제일은행장 등 임원 4명을 상대로 제기한 손해배상청구소송에서 서울지방법원 민사합의17부는 1998년 7월 24일에 \"한보철강에 부실 대출하여 은행에 막대한 손해를 끼친 점이 인정된다\"며 \"원고가 배상을 청구한 400억원 전액을 은행에 배상하라\"고 하면서 부실 경영인에 대한 최초의 배상 판결을 했다. \\\\n\\\\n2004년 10월 신행정수도의건설을위한특별조치법 위헌 확인 소송에서 9인의 재판관 중 유일하게 각하 견해를 내었다. 소수의견에서 전효숙 재판관은 다수견해의 문제점을 지적하면서 관습헌법 법리를 부정하였다. 전효숙 재판관은 서울대학교 근대법학교육 백주년 기념관에서 열린 강연에서, 국회가 고도의 정치적인 사안을 정치로 풀기보다는 헌법재판소에 무조건 맡겨서 해결하려는 자세는 헌법재판소에게 부담스럽다며 소회를 밝힌 바 있다.',\n",
       " '세계 1차 대전이 일어나자, 메테스키는 미국 해병대에 지원해 전기 전공자로 상하이의 미국 영사관에서 복무했다. 집으로 돌아온 그는, 미혼인 여동생들과 코네티컷주 워터베리에 거주하며 컨솔러데이티드 에디슨 자회사에 기계공으로 근무하였다. 1931년, 메테스키는 회사의 헬 게이트 내 발전기 청소부로서 근무하고 있었다. 근무 중 보일러 역화로 인한 폭발에 휩싸여 유독 가스에 질식했다. 사고로 인하여 메테스키는 장애를 겪게 되었고 26주 간 병가 급여를 받은 후 해고되었다. 사고로 인해 폐렴에서 결핵이 되었다고 주장했으나 컨솔러레이티드 에디슨은 제출 기한이 지났다는 이유로 근로자 보상을 거부했다. 이후 세 차례의 항소를 했으나 기각되었다. 1936년 말, 그는 보상 사건에서 회사의 검사와 증언한 세 명의 직장 동료에 적개심이 커졌는데, 회사의 구미에 맞게 위증해주어 기각이 되었다고 믿었기 때문이다. \\\\n\\\\n이후 메테스키는 1940년 11월 16일, 맨해튼에 위치한 컨솔러데이티드 에디슨 발전소 창턱에 폭탄을 처음 설치했다.',\n",
       " '2008년 11월 현재 전 세계 CDS 규모는 40 ~ 60조 달러로서, 전 세계 GDP 규모와 비슷하며 동시에 전 세계 금융자산의 1/3 정도 되는 것으로 추정되고 있다.\\n\\n1. 2008년 상반기 미국 금융기관의 사상최악 부실이 본격화되며 세상에 알려졌으며, CDS를 이해하기 위해서는 원천이 되는 CDO를 이해해야 하고, CDO를 이해하기 위해서는 MBS를 이해해야 한다.\\n\\n2. CDS는 신용파생상품으로서 CDO(다수의 MBS를 묶은 종합 채권)를 발행할 때, CDO의 위험 부문을 따로 떼어 내서 상품화한 받고, 만약에 CDO에 부실이 발생하면 부실이 발생하는 만큼 B투자자에게 손실액을 갚아 주게 된다.\\n\\n3. 참고로 IMF 이전 국내 업체가 회사채를 발행하게 되면, 회사채 발행한 회사가 채권 원리금을 지급하지 못하는 사태를 대비해서, 금융기관(은행, 증권회사,)이 보증료(원금의5% 내외)를 받고 보증을 해 주었다. IMF 구제금융 당시 다수',\n",
       " '그린란드는 50-100마리의 늑대가 서식중이며 가축 피해에 대한 보상은 받을 수 없지만 서식지의 90% 이상이 보호받고 있다. \\n\\n포르투갈은 모두 보호를 받는 200-300마리가 서식하고 있다. 가축 피해에 대한 보상이 지급된다\\n\\n스페인의 늑대 개체는 2,000마리로 꾸준히 증가하고 있다. 늑대는 사냥 가능 동물로 간주되지만, 남부 지역에서는 보호받고 있다. 가축 피해에 관한 보상은 지역 법률마다 다르지만 보상받고 있다\\n\\n이탈리아에서는 늑대가 보호종으로 현재 야생에서 서식하는 늑대는 약 500-700마리로 추정되고 있다.(다른 추정으로는 800마리 이상도 있다)  늑대가 가장 많이 몰려있는 곳은 아부루조의 드 아부루조 국립 공원, 칼라브리아의 폴리노 국립 공원, 알프스의 알페니노 토스코-에밀리노 국립 공원 등 국립 공원에 많은 개체가 서식한다. 또한, 고립된 각각의 개체들이 인간들이 이미 대형으로 거주하고 있는 토스카, 볼로냐, 파르마, 타르퀴니아 등의 지역에서 목격된 바가 있다 또한, 늑대들은 로마 40km 내에서 발견되었으며 아마도 카스텔리 로마니 근처의 작은 공원에서 서식하는 것으로 추정한다.   현재 이탈리아의 늑대 개체수는 1970년대 이후 6% 비율로 증가하고 있으며, 매년 총 늑대 개체수의 15%가 불법 밀렵과 로드킬로 사망한다고 추정하고 있다.  가축 피해 보상은 지방 정부가 지불한다 이탈리아의 로마 라 사피엔차 대학교의 교수이자 생물학자인 루이기 보이타니는 이탈리아의 늑대 복구 성공에 관해 우려를 제기하며 향후 늑대 개체수 증가로 인한 관리 부분의 공개를 거부한다는 것에 의문을 제기했다\\n\\n1992년부터 늑대들은 이탈리아에서 프랑스로 이주하기 시작했고, 현재 개체수는 약 40~50마리이며 계속 성장하고 있는 것으로 추정한다. 가축 피해에 관한 보상은 제공된다\\n\\n독일의 늑대는 1988년 제일 처음 발견되었고, 아마도 폴란드 서부에서 이주한 것으로 추정한다.  현재, 독일에는 150마리 22쌍의 무리가 살고 있으며 대부분 루사티아에 몰려 있고, 현재 동쪽과 북쪽으로 서식지를 확장하고 있다.  2012년 7월에는 150년 만에 니더작센주 헤이데크레스(Heidekreis) 늑대 새끼가 태어났으며, 이는 독일 동부에서 늑대가 확산되었다는 것을 의미한다.   독일법에 따라, 늑대는 보호종으로 취급되며 일부 주에 대해 가축 피해에 관한 보상 프로그램이 존재한다\\n\\n2011년 벨기에와 네덜란드의 늑대는 몇몇 지역에 분포하고 있다. 이탈리아와 프랑스의 외톨이 늑대 개체 수가 많은 것으로 추측하고 있다.   고속도로의 야생 동물 통로의 늑대 횡단 보고 이후 네덜란드의 야생 지역의 벨루위줌 국립 공원, 독일의 오오스트바르데르플레슨(Oostvaardersplassen) 같은 곳 건축되기 시작했으며, 자연 보호 단체의 예상으로는 독일의 늑대가 조만간 저지대 국가로 확산될 것이라 추측하고 있다.   \\n\\n스위스의 늑대 개체수는 불확실하지만 1~2마리 각각이서 사는 것으로 추정하고 있다. 늑대는 보호받고 있으며, 가축 피해에 대한 보상은 스위스의 주 범위에서 이루어지고 있다\\n\\n스칸디나비아에서는 약 200마리의 늑대(2007/2008년 공식 기록 166~210마)가 서식하고 있으며, 대부분은 스웨덴과 노르웨이 사이에서 서식한다. 노르웨이의 개체수는 남동부의 스웨덴 국경에 몰려 있으며 12~18마리로 추정한다 이 개체는 보호받고 있으며 가축 피해에 대한 보상은 지급된다 스웨덴은 200마리의 늑대가 서식하고 증가하고 있으며, 보호받고 있고 가축 피해에 관한 보상이 지급된다   덴마크에는 마지막 늑대가 1813년 발견되었지만, 2009년, 2010년, 2012년 독일에서 이탈한 늑대가 덴마크 국경을 넘은 것이 관측되었으며 마지막 관측 기록은 다이 지자체의 국립공원이다.   이것은 부검 후 특정 늑대가 암 종양의 부작용으로 사망했다고 결론을 내린 것이 확인되었다. 이것은 199년 만에 덴마크에서 처음 알려진 늑대이다.  스웨덴의 늑대는 중심의 산림 지역에 제한적으로 서식하고 있다. 스칸디나비아 늑대의 일부는 핀란드를 통해 유입되기도 한다.\\n\\n핀란드에는 116~123마리의 늑대가 안정적으로 서식하고 있다 늑대는 법적으로 순록이 많이 서식하고 있는 지역에서 사냥이 허가된다. 가축 피해에 대한 보상은 국가 및 보험 회사가 지불한다 이 개체들은 러시아의 늑대 개체와 연관되어 있다\\n\\n폴란드는 약 7~800마리의 늑대가 서식하고 있으며 비에스쟈디 산(Bieszczady Mountains)에서 보호를 받고 있다. 가축 피해에 대한 보상은 지불하지 않는다\\n\\n에스토니아에서는 1990년대 중반 기준 500마리 이하 200마리 이상의 안정적인 개체수를 가지고 있다. 공식적인 입장은 최저 기준인 1~200마리가 서식한다고 고려하고 있다.  서식 범위 스케일은 전 국토를 포함하고 있다.  2007년, 자연 보호에 관한 법률 새 판은 가축 피해 보상에 대한 지급을 명시화했다. \\n\\n리투아니아에서는 약 300~400마리가 서식하고 있으며  계속해서 개체수가 증가하고 있다. 이 종은 보호받지 못하며, 가축 피해에 대한 보상은 지불하지 않는다\\n\\n라트비아에서는 약 600마리가 서식하지만 보호받지 못하며, 1990년대 중반에는 900마리로 지속적으로 감소하고 있다.  가축 피해에 대한 보상은 지불하지 않는다.\\n\\n벨라루스에서는 약 1,500~2,000마리의 늑대가 서식하고 있다.  자연 보호 구역의 표본종을 제외한 모든 늑대는 보호받고 있지 않다. 벨라루스에서는 늑대가 사냥 가능 동물로 지정되어 늑대를 죽인 것이 인정될 때 마다 60~70유로(한화 87,000~101,000원)의 현상금을 지급받는다. 이 국가의 월 평균 임금이 230유로(한화 334,000원)으로 상당한 양의 보상금이 책정되어 있는 상태이다.  가축 피해 보상은 이뤄지지 않는다\\n\\n우크라이나에서는 2,000마리의 늑대가 보호받고 있으며, 개체수는 안정 상태에 있다. 가축 피해에 대한 보상금은 받지 못한다 늑대 개체의 대부분은 큰 위협을 받고 있는 체르노빌 원자력 발전소 사고가 일어난 체르노빌 출입 금지 지역에 서식하고 있다. 이 영역은 벨라루스 부분에도 동등하게 설정되어 있다. \\n\\n체코에서는 20마리의 늑대가 보호받은 채 서식하고 있으며, 가축 피해에 대한 보상금은 없다\\n\\n슬로바키아에서는 350~400마리의 늑대가 보호받은 채 서식하고 있으며, 개체수는 안정 상태에 있다. 가축 피해에 대한 보상은 지급되지 않는다\\n\\n슬로베니아에서는 70~100마리의 늑대가 서식하고 있으며 개체수가 증가하고 있다. 1991년부터는 보호종으로 지정되었으며 가축 피해에 대한 보상이 지급된다.\\n\\n크로아티아에서는 200마리의 늑대가 서식하고 있다.  1995년 5월부터 보호종으로 지정되었으며 고의적으로 늑대를 죽일 경우에는 6,000$의 벌금을 내야 한다. 그러나, 자그레브 대학의 듀로 후버 박사에 따르면, 보호 체계가 시작된 이후 불법적인 늑대 사냥이 시작되어 늑대 40마리가 죽었다고 주장한다 가축 피해에 대한 보상이 지급된다\\n\\n보스니아 헤르체고비나에서는 400마리의 늑대가 서식하지만 수가 감소하고 있고, 법적인 보호를 받지 못한다. 가축 피해에 대한 보상은 지급되지 않는다\\n\\n세르비아와 몬테네그로에는 약 500마리의 늑대가 서식하고 있고, 보호종으로 지정되었으며 가축 피해에 대한 보상은 지급되지 않는다\\n\\n헝가리에서는 250마리의 늑대가 서식하고 있고, 일부 예외를 제외한 모든 개체가 보호받고 있다. 가축 피해에 대한 보상은 지급되지 않는다\\n\\n루마니아에서는 2,500마리가 법적으로 보호를 받지 못한 채 서식하고 있다 가축 피해에 대한 보상은 지급되지 않는다\\n\\n불가리아에서는 1,000~1,200마리의 늑대가 법적 보호를 받지 못한 채 서식하고 있다 늑대가 귀찮은 동물로 취급되고 이들에 대한 보상금 체계가 활성화되어 있다. 가축 피해에 대한 보상은 지급되지 않는다\\n\\n그리스에서는 200~300마리의 늑대가 법적 보호를 받은 채 서식하고 있다. 가축 피해에 대한 보상은 보험의 80% 이상 지급된다\\n\\n마케도니아 공화국에서는 1,000마리의 늑대가 법적 보호를 받지 못한 채 성장하고 있으며, 개체수는 증가하고 있다. 가축 피해에 대한 보상은 지급되지 않는다\\n\\n알바니아에서는 250마리의 늑대가 보호받은 채 서식하고 있으며, 개체수는 증가하는 추세이다. 가축 손실에 대한 보상은 지급하지 않는다\\n\\n터키에서는 700마리의 늑대가 서식하고 있다. 특히 터키의 서부 지역에 늑대의 지역 멸종이 나타났으며, 전체적인 터키의 늑대 개체수는 감소하고 있다. 역사적으로, 늑대는 공식적으로 해수로 간주되어 제한 없이 1년 내내 사냥할 수 있었다. 오직 2003년에만 늑대가 사냥 가능 동물로 지정되었었다. 법적으로 늑대가 보호받고 있는 것은 아니지만 사냥이 허용된 종에 대해서는 오직 사냥철에만 할당량의 늑대만 사냥할 수 있고, 특허증을 발급받은 사람만 사냥할 수 있는 방식이 적용되고 있다.  No compensation is paid for livestock damage\\n\\n비록, 러시아의 늑대는 보호받지 못하고 있지만 약 25,000~30,000마리가 서식하고 있고 코랴크 자치구와 칼미크 공화국 등의 일부 지 에서 증가하는 추세이다 체첸 공화국 나드테레친스키 주(Nadterechny district)의 일부 마을은 군사 활동의 감소로 인해 늑대 개체수가 증가하고 있다.  반면에, 중앙 및 남부 러시아의 늑대 개체수는 매우 적다.  몇몇 지역에서는 늑대굴 파괴에 대한 현상금이 지급되기도 한다.  시호테알린 산맥 지역에 서식하는 늑대도 호랑이와의 경쟁에서 도태되어 개체수가 감소하고 있다.  호랑이로 인한 늑대의 경쟁 배제 현상은 극동에서 대형 고양잇과를 보호하자는 사냥꾼의 주장에 반박하는 러시아 자연보호주의자들이 이용하는 근거이며, 이들은 늑대보다 더 작은 개체수 제한으로 인해 늑대의 개체수를 효과적으로 조절할 수 있다고 말한다.  가축 피해에 대한 보상은 지급되지 않는다']"
      ]
     },
     "execution_count": 11,
     "metadata": {},
     "output_type": "execute_result"
    }
   ],
   "source": [
    "top_k_passage[0]"
   ]
  },
  {
   "cell_type": "code",
   "execution_count": 79,
   "metadata": {},
   "outputs": [
    {
     "data": {
      "text/plain": [
       "(240, 240)"
      ]
     },
     "execution_count": 79,
     "metadata": {},
     "output_type": "execute_result"
    }
   ],
   "source": [
    "len(top_k_passage), len(target)"
   ]
  },
  {
   "cell_type": "code",
   "execution_count": 80,
   "metadata": {},
   "outputs": [
    {
     "data": {
      "text/plain": [
       "[\"{'answer_start': [284], 'text': ['한보철강']}\",\n",
       " \"{'answer_start': [146], 'text': ['1871년']}\",\n",
       " \"{'answer_start': [517], 'text': ['나뭇잎']}\",\n",
       " \"{'answer_start': [1109], 'text': ['금대야']}\",\n",
       " \"{'answer_start': [386], 'text': ['수평적 관계']}\",\n",
       " \"{'answer_start': [408], 'text': ['옥음방송']}\",\n",
       " \"{'answer_start': [192], 'text': ['코칭 스티치']}\",\n",
       " \"{'answer_start': [31], 'text': ['복잡한 감염병']}\",\n",
       " \"{'answer_start': [625], 'text': ['스페인']}\",\n",
       " \"{'answer_start': [71], 'text': ['20세기 초']}\",\n",
       " '{\\'answer_start\\': [274], \\'text\\': [\\'\"5월의 왕\"\\']}',\n",
       " '{\\'answer_start\\': [901], \\'text\\': [\"\\'일급 비밀 프로젝트 2501\\'\"]}',\n",
       " \"{'answer_start': [430], 'text': ['테헤란']}\",\n",
       " \"{'answer_start': [317], 'text': ['역사교육과정개발추진위원회']}\",\n",
       " \"{'answer_start': [1429], 'text': ['1967년 11월 15일']}\",\n",
       " \"{'answer_start': [0], 'text': ['1965년']}\",\n",
       " \"{'answer_start': [162], 'text': ['아리크 부케']}\",\n",
       " \"{'answer_start': [709], 'text': ['〈중앙일보〉']}\",\n",
       " \"{'answer_start': [304], 'text': ['미타케성']}\",\n",
       " \"{'answer_start': [536], 'text': ['전체 4순위']}\",\n",
       " \"{'answer_start': [689], 'text': ['뇌물']}\",\n",
       " \"{'answer_start': [78], 'text': ['보통 유형 준융합성 천연두']}\",\n",
       " \"{'answer_start': [366], 'text': ['데스탱 장군']}\",\n",
       " \"{'answer_start': [197], 'text': ['박트리아']}\",\n",
       " '{\\'answer_start\\': [70], \\'text\\': [\"\\'진전(陳田)\\'이라 새겨진 기와조각\"]}',\n",
       " \"{'answer_start': [354], 'text': ['《국가》']}\",\n",
       " \"{'answer_start': [6], 'text': ['2011년 3월 19일']}\",\n",
       " \"{'answer_start': [61], 'text': ['유럽 포르투갈어']}\",\n",
       " \"{'answer_start': [585], 'text': ['메이저 릿지']}\",\n",
       " \"{'answer_start': [726], 'text': ['요희']}\",\n",
       " \"{'answer_start': [604], 'text': ['포드 극장']}\",\n",
       " \"{'answer_start': [317], 'text': ['만주국 관리']}\",\n",
       " \"{'answer_start': [312], 'text': ['『협동조합에 관하여』']}\",\n",
       " \"{'answer_start': [61], 'text': ['도고쿠']}\",\n",
       " \"{'answer_start': [192], 'text': ['몽키 D. 가프']}\",\n",
       " \"{'answer_start': [180], 'text': ['조류']}\",\n",
       " \"{'answer_start': [540], 'text': ['광주교도소']}\",\n",
       " \"{'answer_start': [978], 'text': ['작가 베게티우스']}\",\n",
       " \"{'answer_start': [212], 'text': ['가오슝 시']}\",\n",
       " \"{'answer_start': [580], 'text': ['쇠망치']}\",\n",
       " \"{'answer_start': [1036], 'text': ['마리즈 교수']}\",\n",
       " \"{'answer_start': [1424], 'text': ['런던']}\",\n",
       " \"{'answer_start': [71], 'text': ['이틀']}\",\n",
       " \"{'answer_start': [35], 'text': ['의상대사']}\",\n",
       " \"{'answer_start': [135], 'text': ['홋카이도']}\",\n",
       " \"{'answer_start': [170], 'text': ['‘우유의 바다’']}\",\n",
       " \"{'answer_start': [305], 'text': ['장어']}\",\n",
       " \"{'answer_start': [377], 'text': ['소련']}\",\n",
       " \"{'answer_start': [305], 'text': ['전치']}\",\n",
       " \"{'answer_start': [104], 'text': ['흑색육(黑色肉)']}\",\n",
       " \"{'answer_start': [81], 'text': ['욱']}\",\n",
       " \"{'answer_start': [624], 'text': ['독일인민당']}\",\n",
       " \"{'answer_start': [429], 'text': ['하기노 역']}\",\n",
       " \"{'answer_start': [13], 'text': ['회칠']}\",\n",
       " \"{'answer_start': [534], 'text': ['황강다리']}\",\n",
       " \"{'answer_start': [278], 'text': ['직업 교육']}\",\n",
       " \"{'answer_start': [255], 'text': ['공산당']}\",\n",
       " \"{'answer_start': [564], 'text': ['매년 음력 정월']}\",\n",
       " \"{'answer_start': [258], 'text': ['조계종']}\",\n",
       " \"{'answer_start': [89], 'text': ['베이징']}\",\n",
       " \"{'answer_start': [219], 'text': ['독일군']}\",\n",
       " \"{'answer_start': [47], 'text': ['1932년']}\",\n",
       " \"{'answer_start': [0], 'text': ['제서지전(齊西之戰)이후']}\",\n",
       " \"{'answer_start': [231], 'text': ['가루아']}\",\n",
       " \"{'answer_start': [155], 'text': ['출생 천궁도']}\",\n",
       " \"{'answer_start': [915], 'text': ['나말여초']}\",\n",
       " \"{'answer_start': [1114], 'text': ['1939년']}\",\n",
       " \"{'answer_start': [555], 'text': ['창 절제술']}\",\n",
       " \"{'answer_start': [302], 'text': ['도버 밀']}\",\n",
       " \"{'answer_start': [33], 'text': ['여정현(呂正鉉)']}\",\n",
       " \"{'answer_start': [277], 'text': ['광배']}\",\n",
       " \"{'answer_start': [446], 'text': ['울산']}\",\n",
       " \"{'answer_start': [504], 'text': ['땅(은색)과 하늘(금색)을 맺고 푸는 권한']}\",\n",
       " \"{'answer_start': [435], 'text': ['저수지']}\",\n",
       " \"{'answer_start': [215], 'text': ['퀘이커 교']}\",\n",
       " \"{'answer_start': [206], 'text': ['피에르 오주로']}\",\n",
       " \"{'answer_start': [121], 'text': ['지분']}\",\n",
       " \"{'answer_start': [108], 'text': ['독일']}\",\n",
       " \"{'answer_start': [412], 'text': ['제 3자']}\",\n",
       " \"{'answer_start': [75], 'text': ['페이팔']}\",\n",
       " \"{'answer_start': [1013], 'text': ['가리타 히사노리']}\",\n",
       " \"{'answer_start': [101], 'text': ['점수']}\",\n",
       " \"{'answer_start': [250], 'text': ['코스모케라톱스']}\",\n",
       " '{\\'answer_start\\': [536], \\'text\\': [\"\\'사채회사\\'\"]}',\n",
       " \"{'answer_start': [386], 'text': ['스위스']}\",\n",
       " '{\\'answer_start\\': [272], \\'text\\': [\\'\"공유지의 비극\"\\']}',\n",
       " \"{'answer_start': [1222], 'text': ['그 자체가 계급 모순을 가지는 체제']}\",\n",
       " \"{'answer_start': [228], 'text': ['해리 트루먼 대통령']}\",\n",
       " \"{'answer_start': [256], 'text': ['무위태수']}\",\n",
       " \"{'answer_start': [522], 'text': ['크라운라이터']}\",\n",
       " \"{'answer_start': [10], 'text': ['1990년 9월']}\",\n",
       " '{\\'answer_start\\': [459], \\'text\\': [\\'\"인간과 요괴의 완전한 평등\"\\']}',\n",
       " \"{'answer_start': [209], 'text': ['경순왕']}\",\n",
       " \"{'answer_start': [13], 'text': ['도널드 트럼프 미국 대통령']}\",\n",
       " \"{'answer_start': [264], 'text': ['바르톨로메오 브뤼기에르']}\",\n",
       " \"{'answer_start': [83], 'text': ['불교']}\",\n",
       " \"{'answer_start': [591], 'text': ['경위대식 망원경']}\",\n",
       " \"{'answer_start': [523], 'text': ['남큐슈 자동차 전용 도로']}\",\n",
       " \"{'answer_start': [520], 'text': ['세실리아 페인']}\",\n",
       " \"{'answer_start': [135], 'text': ['웹 2.0']}\",\n",
       " \"{'answer_start': [191], 'text': ['수녀']}\",\n",
       " \"{'answer_start': [476], 'text': ['맨해튼']}\",\n",
       " \"{'answer_start': [90], 'text': ['상대성이론']}\",\n",
       " \"{'answer_start': [459], 'text': ['손권']}\",\n",
       " \"{'answer_start': [790], 'text': ['350년']}\",\n",
       " \"{'answer_start': [75], 'text': ['펜실베이니아주 출신']}\",\n",
       " \"{'answer_start': [120], 'text': ['트렁크']}\",\n",
       " \"{'answer_start': [1029], 'text': ['데코행진']}\",\n",
       " \"{'answer_start': [155], 'text': ['약 600년']}\",\n",
       " \"{'answer_start': [637], 'text': ['깃털 셔틀콕의 타구감을 선호하고, 또한 플라스틱보다 깃털 셔틀콕이 정교한 컨트롤을 하기에 보다 더 적합하기 때문이다']}\",\n",
       " \"{'answer_start': [505], 'text': ['1998년']}\",\n",
       " \"{'answer_start': [493], 'text': ['드라']}\",\n",
       " \"{'answer_start': [530], 'text': ['가르미슈파르텐키르헨']}\",\n",
       " \"{'answer_start': [92], 'text': ['정태적인 자본주의']}\",\n",
       " \"{'answer_start': [454], 'text': ['데미안']}\",\n",
       " \"{'answer_start': [61], 'text': ['목판']}\",\n",
       " \"{'answer_start': [397], 'text': ['34자']}\",\n",
       " \"{'answer_start': [251], 'text': ['혼묘지']}\",\n",
       " \"{'answer_start': [67], 'text': ['바르바로사 작전']}\",\n",
       " \"{'answer_start': [82], 'text': ['동계건조(wintertrocken)']}\",\n",
       " \"{'answer_start': [444], 'text': ['혹']}\",\n",
       " \"{'answer_start': [331], 'text': ['중간 생산물']}\",\n",
       " \"{'answer_start': [177], 'text': ['귀인 평향과 행동의 상관 관계']}\",\n",
       " \"{'answer_start': [20], 'text': ['높은 전위의 전극']}\",\n",
       " \"{'answer_start': [333], 'text': ['기독교']}\",\n",
       " \"{'answer_start': [106], 'text': ['1945년']}\",\n",
       " \"{'answer_start': [353], 'text': ['브리튼인들']}\",\n",
       " \"{'answer_start': [84], 'text': ['미국']}\",\n",
       " \"{'answer_start': [351], 'text': ['1기']}\",\n",
       " \"{'answer_start': [251], 'text': ['전쟁']}\",\n",
       " \"{'answer_start': [870], 'text': ['뇌졸중']}\",\n",
       " \"{'answer_start': [0], 'text': ['김수환 추기경']}\",\n",
       " \"{'answer_start': [248], 'text': ['60년간']}\",\n",
       " \"{'answer_start': [34], 'text': ['페름기']}\",\n",
       " \"{'answer_start': [143], 'text': ['서남쪽']}\",\n",
       " \"{'answer_start': [498], 'text': ['대형 항공 모함 도로스']}\",\n",
       " \"{'answer_start': [1094], 'text': ['성벽에 목이 매달리는 교수형']}\",\n",
       " \"{'answer_start': [151], 'text': ['곽상']}\",\n",
       " \"{'answer_start': [34], 'text': ['신도 케이']}\",\n",
       " \"{'answer_start': [369], 'text': ['디오게네스']}\",\n",
       " \"{'answer_start': [718], 'text': ['비밀 투표']}\",\n",
       " \"{'answer_start': [0], 'text': ['61화']}\",\n",
       " \"{'answer_start': [836], 'text': ['카누']}\",\n",
       " \"{'answer_start': [55], 'text': ['알프스 전기 주식회사']}\",\n",
       " \"{'answer_start': [48], 'text': ['크리스타']}\",\n",
       " \"{'answer_start': [279], 'text': ['배상금을 주기 위하여']}\",\n",
       " \"{'answer_start': [852], 'text': ['본국 의회가 식민지에 대한 입법을 “어떤 경우에도 행할 수” 있도록 하였다']}\",\n",
       " \"{'answer_start': [42], 'text': ['속도별 배치']}\",\n",
       " \"{'answer_start': [943], 'text': ['1975년']}\",\n",
       " \"{'answer_start': [251], 'text': ['제비초리']}\",\n",
       " \"{'answer_start': [317], 'text': ['석달']}\",\n",
       " \"{'answer_start': [727], 'text': ['보은군 남쪽 상용리(현 영동군 용산면 상용리) 마을']}\",\n",
       " \"{'answer_start': [115], 'text': ['태화관(서울시 종로구 인사동 소재)']}\",\n",
       " \"{'answer_start': [186], 'text': ['식재료']}\",\n",
       " \"{'answer_start': [119], 'text': ['하노이']}\",\n",
       " \"{'answer_start': [468], 'text': ['공정']}\",\n",
       " \"{'answer_start': [835], 'text': ['좌우대칭']}\",\n",
       " \"{'answer_start': [885], 'text': ['1913년']}\",\n",
       " \"{'answer_start': [515], 'text': ['바라나시']}\",\n",
       " \"{'answer_start': [185], 'text': ['대령']}\",\n",
       " \"{'answer_start': [0], 'text': ['걸프 카르텔(카르텔 델 골포: Cartel del golfo)']}\",\n",
       " \"{'answer_start': [72], 'text': ['피터 케스카트 왓슨']}\",\n",
       " \"{'answer_start': [435], 'text': ['충격파']}\",\n",
       " \"{'answer_start': [531], 'text': ['대한민국 3보병사단']}\",\n",
       " \"{'answer_start': [234], 'text': ['우리의 훌륭한 중국 동료']}\",\n",
       " \"{'answer_start': [811], 'text': ['감정 전염']}\",\n",
       " \"{'answer_start': [803], 'text': ['스위치 이더넷']}\",\n",
       " \"{'answer_start': [365], 'text': ['소비감소']}\",\n",
       " \"{'answer_start': [357], 'text': ['마츠키 촌']}\",\n",
       " \"{'answer_start': [929], 'text': ['사춘기에서 흔히 볼 수 있는 정서적 불안정성']}\",\n",
       " \"{'answer_start': [1190], 'text': ['시트르산 회로']}\",\n",
       " \"{'answer_start': [502], 'text': ['아케디아']}\",\n",
       " \"{'answer_start': [171], 'text': ['에마뉘엘의 과시하는 듯한 신앙심']}\",\n",
       " \"{'answer_start': [296], 'text': ['소비자들의 반응']}\",\n",
       " \"{'answer_start': [843], 'text': ['아일랜드 선교자 골룸바노']}\",\n",
       " \"{'answer_start': [161], 'text': ['다케다']}\",\n",
       " \"{'answer_start': [174], 'text': ['악당']}\",\n",
       " \"{'answer_start': [362], 'text': ['유이엔']}\",\n",
       " \"{'answer_start': [335], 'text': ['트레뻬제 부대']}\",\n",
       " \"{'answer_start': [390], 'text': ['포스카르네트']}\",\n",
       " \"{'answer_start': [127], 'text': ['면세증']}\",\n",
       " \"{'answer_start': [285], 'text': ['숙의 정씨']}\",\n",
       " \"{'answer_start': [58], 'text': ['남성연대 홈페이지']}\",\n",
       " \"{'answer_start': [1018], 'text': ['1895년']}\",\n",
       " \"{'answer_start': [379], 'text': ['《천체의 회전에 관하여》']}\",\n",
       " \"{'answer_start': [738], 'text': ['히로시마']}\",\n",
       " \"{'answer_start': [884], 'text': ['5·16 광장(여의도 광장)']}\",\n",
       " \"{'answer_start': [514], 'text': ['6m']}\",\n",
       " \"{'answer_start': [243], 'text': ['이등공송덕비건의소']}\",\n",
       " \"{'answer_start': [609], 'text': ['헬리오시스']}\",\n",
       " \"{'answer_start': [209], 'text': ['할머니']}\",\n",
       " \"{'answer_start': [444], 'text': ['탄광']}\",\n",
       " \"{'answer_start': [864], 'text': ['1796년']}\",\n",
       " \"{'answer_start': [79], 'text': ['피자헛']}\",\n",
       " \"{'answer_start': [302], 'text': ['가산']}\",\n",
       " \"{'answer_start': [781], 'text': ['마거릿 대처 전 영국수상']}\",\n",
       " \"{'answer_start': [59], 'text': ['디지털 컴퓨터']}\",\n",
       " \"{'answer_start': [995], 'text': ['35년']}\",\n",
       " \"{'answer_start': [524], 'text': ['트르피미로비치 왕조(Trpimirović) 출신의 문치미르']}\",\n",
       " \"{'answer_start': [327], 'text': ['1947년']}\",\n",
       " \"{'answer_start': [442], 'text': ['아이치 전기 전용선']}\",\n",
       " '{\\'answer_start\\': [789], \\'text\\': [\"\\'달빛 정원\\'(Moonlight Garden)\"]}',\n",
       " \"{'answer_start': [693], 'text': ['란다우 튜브']}\",\n",
       " \"{'answer_start': [406], 'text': ['우천']}\",\n",
       " \"{'answer_start': [214], 'text': ['＜젊은 근위대＞']}\",\n",
       " \"{'answer_start': [163], 'text': ['10만필']}\",\n",
       " \"{'answer_start': [226], 'text': ['군대']}\",\n",
       " \"{'answer_start': [471], 'text': ['차고나라 전투']}\",\n",
       " \"{'answer_start': [33], 'text': ['봅슬레이']}\",\n",
       " \"{'answer_start': [301], 'text': ['일등병 토머스']}\",\n",
       " \"{'answer_start': [1290], 'text': ['1966년']}\",\n",
       " \"{'answer_start': [579], 'text': ['클레몽트']}\",\n",
       " \"{'answer_start': [549], 'text': ['17세기 조선 시대']}\",\n",
       " \"{'answer_start': [369], 'text': ['모']}\",\n",
       " \"{'answer_start': [1056], 'text': ['수입 금지 조치']}\",\n",
       " '{\\'answer_start\\': [70], \\'text\\': [\\'\"광휘에의 각성\"(코키에노 메자메)\\']}',\n",
       " \"{'answer_start': [574], 'text': ['카바레나 클럽']}\",\n",
       " \"{'answer_start': [525], 'text': ['보수']}\",\n",
       " \"{'answer_start': [418], 'text': ['리퍼']}\",\n",
       " \"{'answer_start': [391], 'text': ['국무회의']}\",\n",
       " \"{'answer_start': [52], 'text': ['비단']}\",\n",
       " \"{'answer_start': [28], 'text': ['사흘']}\",\n",
       " \"{'answer_start': [174], 'text': ['모든 관직을 거친 대과 급제자']}\",\n",
       " \"{'answer_start': [63], 'text': ['오사카']}\",\n",
       " \"{'answer_start': [1085], 'text': ['제1부인']}\",\n",
       " \"{'answer_start': [440], 'text': ['빈자의 십자군']}\",\n",
       " \"{'answer_start': [166], 'text': ['멕시코']}\",\n",
       " \"{'answer_start': [14], 'text': ['지질 과산화 생성물']}\",\n",
       " \"{'answer_start': [605], 'text': ['독감']}\",\n",
       " \"{'answer_start': [592], 'text': ['양당(楊黨)']}\",\n",
       " \"{'answer_start': [207], 'text': ['슈바이츠 암 존탁']}\",\n",
       " \"{'answer_start': [215], 'text': ['퀘이커 교도였던 앨리스 페어살 스미스']}\",\n",
       " \"{'answer_start': [242], 'text': ['다수결']}\",\n",
       " \"{'answer_start': [373], 'text': ['코프먼과 저스티슨']}\",\n",
       " \"{'answer_start': [491], 'text': ['물적 성과(物的成果)']}\",\n",
       " \"{'answer_start': [1084], 'text': ['제 양왕']}\",\n",
       " '{\\'answer_start\\': [343], \\'text\\': [\"\\'일곱 개의 신전 광장\\'\"]}',\n",
       " \"{'answer_start': [247], 'text': ['미나미 지로']}\",\n",
       " \"{'answer_start': [563], 'text': ['200,000명']}\",\n",
       " \"{'answer_start': [811], 'text': ['공산주의']}\"]"
      ]
     },
     "execution_count": 80,
     "metadata": {},
     "output_type": "execute_result"
    }
   ],
   "source": [
    "answers"
   ]
  },
  {
   "cell_type": "code",
   "execution_count": 82,
   "metadata": {},
   "outputs": [],
   "source": [
    "custom_dataset = {}"
   ]
  },
  {
   "cell_type": "code",
   "execution_count": 83,
   "metadata": {},
   "outputs": [],
   "source": [
    "custom_dataset[\"answers\"] = answers\n",
    "custom_dataset[\"question\"] = question\n",
    "custom_dataset[\"original_context\"] = original_context\n",
    "custom_dataset[\"top_k_passage\"] = top_k_passage\n",
    "custom_dataset[\"target\"] = target"
   ]
  },
  {
   "cell_type": "code",
   "execution_count": 2,
   "metadata": {},
   "outputs": [
    {
     "data": {
      "text/plain": [
       "['/opt/ml/mrc-level2-nlp-02/retriever',\n",
       " '/opt/ml/.vscode-server/extensions/ms-toolsai.jupyter-2021.9.1101343141/pythonFiles',\n",
       " '/opt/ml/.vscode-server/extensions/ms-toolsai.jupyter-2021.9.1101343141/pythonFiles/lib/python',\n",
       " '/opt/conda/lib/python38.zip',\n",
       " '/opt/conda/lib/python3.8',\n",
       " '/opt/conda/lib/python3.8/lib-dynload',\n",
       " '',\n",
       " '/opt/conda/lib/python3.8/site-packages',\n",
       " '/opt/conda/lib/python3.8/site-packages/IPython/extensions',\n",
       " '/opt/ml/.ipython']"
      ]
     },
     "execution_count": 2,
     "metadata": {},
     "output_type": "execute_result"
    }
   ],
   "source": [
    "import sys\n",
    "sys.path"
   ]
  },
  {
   "cell_type": "code",
   "execution_count": null,
   "metadata": {},
   "outputs": [],
   "source": []
  }
 ],
 "metadata": {
  "interpreter": {
   "hash": "d4d1e4263499bec80672ea0156c357c1ee493ec2b1c70f0acce89fc37c4a6abe"
  },
  "kernelspec": {
   "display_name": "Python 3.8.5 64-bit ('base': conda)",
   "name": "python3"
  },
  "language_info": {
   "codemirror_mode": {
    "name": "ipython",
    "version": 3
   },
   "file_extension": ".py",
   "mimetype": "text/x-python",
   "name": "python",
   "nbconvert_exporter": "python",
   "pygments_lexer": "ipython3",
   "version": "3.8.5"
  },
  "orig_nbformat": 4
 },
 "nbformat": 4,
 "nbformat_minor": 2
}
