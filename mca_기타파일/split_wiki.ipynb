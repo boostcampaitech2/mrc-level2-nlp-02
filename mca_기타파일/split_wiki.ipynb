{
 "cells": [
  {
   "cell_type": "code",
   "execution_count": 2,
   "metadata": {},
   "outputs": [],
   "source": [
    "from elasticsearch import Elasticsearch\n",
    "import pandas as pd\n",
    "from transformers import AutoTokenizer, AutoModel\n",
    "import re\n",
    "import math\n",
    "from tqdm import tqdm\n",
    "import numpy as np\n",
    "import seaborn as sns\n",
    "import matplotlib.pyplot as plt\n",
    "\n",
    "import torch"
   ]
  },
  {
   "cell_type": "markdown",
   "metadata": {},
   "source": [
    "# 데이터 가져오기"
   ]
  },
  {
   "cell_type": "code",
   "execution_count": 2,
   "metadata": {},
   "outputs": [],
   "source": [
    "df = pd.read_json('../../data/wikipedia_documents.json').T"
   ]
  },
  {
   "cell_type": "code",
   "execution_count": 3,
   "metadata": {},
   "outputs": [
    {
     "data": {
      "text/html": [
       "<div>\n",
       "<style scoped>\n",
       "    .dataframe tbody tr th:only-of-type {\n",
       "        vertical-align: middle;\n",
       "    }\n",
       "\n",
       "    .dataframe tbody tr th {\n",
       "        vertical-align: top;\n",
       "    }\n",
       "\n",
       "    .dataframe thead th {\n",
       "        text-align: right;\n",
       "    }\n",
       "</style>\n",
       "<table border=\"1\" class=\"dataframe\">\n",
       "  <thead>\n",
       "    <tr style=\"text-align: right;\">\n",
       "      <th></th>\n",
       "      <th>text</th>\n",
       "      <th>corpus_source</th>\n",
       "      <th>url</th>\n",
       "      <th>domain</th>\n",
       "      <th>title</th>\n",
       "      <th>author</th>\n",
       "      <th>html</th>\n",
       "      <th>document_id</th>\n",
       "    </tr>\n",
       "  </thead>\n",
       "  <tbody>\n",
       "    <tr>\n",
       "      <th>0</th>\n",
       "      <td>이 문서는 나라 목록이며, 전 세계 206개 나라의 각 현황과 주권 승인 정보를 개...</td>\n",
       "      <td>위키피디아</td>\n",
       "      <td>TODO</td>\n",
       "      <td>None</td>\n",
       "      <td>나라 목록</td>\n",
       "      <td>None</td>\n",
       "      <td>None</td>\n",
       "      <td>0</td>\n",
       "    </tr>\n",
       "    <tr>\n",
       "      <th>1</th>\n",
       "      <td>이 목록에 실린 국가 기준은 1933년 몬테비데오 협약 1장을 참고로 하였다. 협정...</td>\n",
       "      <td>위키피디아</td>\n",
       "      <td>TODO</td>\n",
       "      <td>None</td>\n",
       "      <td>나라 목록</td>\n",
       "      <td>None</td>\n",
       "      <td>None</td>\n",
       "      <td>1</td>\n",
       "    </tr>\n",
       "    <tr>\n",
       "      <th>2</th>\n",
       "      <td>현 서울특별시 종로구 서린동 (구 일제 강점기 경기도 경성부 서린정) 출신이다. 친...</td>\n",
       "      <td>위키피디아</td>\n",
       "      <td>TODO</td>\n",
       "      <td>None</td>\n",
       "      <td>백남준</td>\n",
       "      <td>None</td>\n",
       "      <td>None</td>\n",
       "      <td>2</td>\n",
       "    </tr>\n",
       "    <tr>\n",
       "      <th>3</th>\n",
       "      <td>아오조라 문고(靑空文庫, あおぞらぶんこ|아오조라 분고)는 ‘일본어판 구텐베르크 프로...</td>\n",
       "      <td>위키피디아</td>\n",
       "      <td>TODO</td>\n",
       "      <td>None</td>\n",
       "      <td>아오조라 문고</td>\n",
       "      <td>None</td>\n",
       "      <td>None</td>\n",
       "      <td>3</td>\n",
       "    </tr>\n",
       "    <tr>\n",
       "      <th>4</th>\n",
       "      <td>저자 사망 이후 50년이 지나 저작권이 소멸한 메이지 시대부터 쇼와 시대 초기까지의...</td>\n",
       "      <td>위키피디아</td>\n",
       "      <td>TODO</td>\n",
       "      <td>None</td>\n",
       "      <td>아오조라 문고</td>\n",
       "      <td>None</td>\n",
       "      <td>None</td>\n",
       "      <td>4</td>\n",
       "    </tr>\n",
       "  </tbody>\n",
       "</table>\n",
       "</div>"
      ],
      "text/plain": [
       "                                                text corpus_source   url  \\\n",
       "0  이 문서는 나라 목록이며, 전 세계 206개 나라의 각 현황과 주권 승인 정보를 개...         위키피디아  TODO   \n",
       "1  이 목록에 실린 국가 기준은 1933년 몬테비데오 협약 1장을 참고로 하였다. 협정...         위키피디아  TODO   \n",
       "2  현 서울특별시 종로구 서린동 (구 일제 강점기 경기도 경성부 서린정) 출신이다. 친...         위키피디아  TODO   \n",
       "3  아오조라 문고(靑空文庫, あおぞらぶんこ|아오조라 분고)는 ‘일본어판 구텐베르크 프로...         위키피디아  TODO   \n",
       "4  저자 사망 이후 50년이 지나 저작권이 소멸한 메이지 시대부터 쇼와 시대 초기까지의...         위키피디아  TODO   \n",
       "\n",
       "  domain    title author  html document_id  \n",
       "0   None    나라 목록   None  None           0  \n",
       "1   None    나라 목록   None  None           1  \n",
       "2   None      백남준   None  None           2  \n",
       "3   None  아오조라 문고   None  None           3  \n",
       "4   None  아오조라 문고   None  None           4  "
      ]
     },
     "execution_count": 3,
     "metadata": {},
     "output_type": "execute_result"
    }
   ],
   "source": [
    "df.head()"
   ]
  },
  {
   "cell_type": "code",
   "execution_count": 4,
   "metadata": {},
   "outputs": [
    {
     "data": {
      "text/plain": [
       "text             56737\n",
       "corpus_source        1\n",
       "url                  1\n",
       "domain               0\n",
       "title            31726\n",
       "author               0\n",
       "html                 0\n",
       "document_id      56737\n",
       "dtype: int64"
      ]
     },
     "execution_count": 4,
     "metadata": {},
     "output_type": "execute_result"
    }
   ],
   "source": [
    "df = df.drop_duplicates(subset=['text'])\n",
    "df.nunique()"
   ]
  },
  {
   "cell_type": "code",
   "execution_count": 5,
   "metadata": {},
   "outputs": [],
   "source": [
    "tokenizer = AutoTokenizer.from_pretrained('klue/bert-base')"
   ]
  },
  {
   "cell_type": "code",
   "execution_count": 6,
   "metadata": {},
   "outputs": [],
   "source": [
    "def tokenized_len(row):\n",
    "  return len(tokenizer.tokenize(row))"
   ]
  },
  {
   "cell_type": "code",
   "execution_count": 7,
   "metadata": {},
   "outputs": [
    {
     "name": "stderr",
     "output_type": "stream",
     "text": [
      "Token indices sequence length is longer than the specified maximum sequence length for this model (1131 > 512). Running this sequence through the model will result in indexing errors\n"
     ]
    }
   ],
   "source": [
    "df['tokenizedCount'] = df['text'].apply(tokenized_len)"
   ]
  },
  {
   "cell_type": "code",
   "execution_count": 8,
   "metadata": {},
   "outputs": [
    {
     "data": {
      "text/plain": [
       "<AxesSubplot:xlabel='tokenizedCount', ylabel='Count'>"
      ]
     },
     "execution_count": 8,
     "metadata": {},
     "output_type": "execute_result"
    },
    {
     "data": {
      "image/png": "[encoded data removed]",
      "text/plain": [
       "<Figure size 864x576 with 1 Axes>"
      ]
     },
     "metadata": {
      "needs_background": "light"
     },
     "output_type": "display_data"
    }
   ],
   "source": [
    "fig, ax = plt.subplots(1, 1, figsize=(12, 8))\n",
    "sns.histplot(x='tokenizedCount', data=df, bins=1000)"
   ]
  },
  {
   "cell_type": "code",
   "execution_count": 9,
   "metadata": {},
   "outputs": [
    {
     "data": {
      "text/plain": [
       "count    56737.000000\n",
       "mean       401.889208\n",
       "std        392.152975\n",
       "min         54.000000\n",
       "25%        221.000000\n",
       "50%        308.000000\n",
       "75%        457.000000\n",
       "max      27539.000000\n",
       "Name: tokenizedCount, dtype: float64"
      ]
     },
     "execution_count": 9,
     "metadata": {},
     "output_type": "execute_result"
    }
   ],
   "source": [
    "df['tokenizedCount'].describe()"
   ]
  },
  {
   "cell_type": "code",
   "execution_count": null,
   "metadata": {},
   "outputs": [],
   "source": [
    "df['text'][60]"
   ]
  },
  {
   "cell_type": "code",
   "execution_count": 11,
   "metadata": {},
   "outputs": [
    {
     "data": {
      "text/plain": [
       "440"
      ]
     },
     "execution_count": 11,
     "metadata": {},
     "output_type": "execute_result"
    }
   ],
   "source": [
    "len(tokenizer.tokenize(df['text'][60]))"
   ]
  },
  {
   "cell_type": "code",
   "execution_count": 12,
   "metadata": {},
   "outputs": [],
   "source": [
    "end_of_sentences = re.findall(r'[가-힣]+\\S*\\.', df['text'][60])"
   ]
  },
  {
   "cell_type": "code",
   "execution_count": 13,
   "metadata": {},
   "outputs": [],
   "source": [
    "sentences = re.split(r'[가-힣]+\\S\\.', df['text'][60])"
   ]
  },
  {
   "cell_type": "code",
   "execution_count": 14,
   "metadata": {},
   "outputs": [
    {
     "name": "stdout",
     "output_type": "stream",
     "text": [
      "['연결되었습니다.', '마감...'] 2\n",
      "['KETEL의 초기화면\\n\\n\\n\\u3000CONNECT 240\\n\\u3000[[[[[[[\\n\\u3000### ketel에 ', '(korea:pc\\n\\u3000### Welcome to ketel!!\\n\\u3000### 서비스 명에 ketel을 입력하십시오\\n\\u3000### Please type \"ke\" for KETEL English Service\\n\\u3000서비스 명(login):kete\\n\\n\\n\\u3000\\u3000\\u3000\\u3000\\u3000\\u3000\\u3000KK\\u3000 KKK\\u3000\\u3000EEEEE\\u3000TTTTTTTT\\u3000\\u3000EEEEEE\\u3000 Lt\\n\\u3000\\u3000\\u3000\\u3000\\u3000\\u3000 KK\\u3000KK\\u3000\\u3000\\u3000EE\\u3000\\u3000\\u3000\\u3000 \\u3000TT\\u3000\\u3000\\u3000 EE\\u3000\\u3000\\u3000\\u3000\\n\\u3000\\u3000\\u3000\\u3000\\u3000\\u3000KKK\\u3000\\u3000\\u3000\\u3000 EEEE\\u3000\\u3000\\u3000\\u3000TT\\u3000\\u3000\\u3000EEEE\\u3000\\u3000 L\\n\\u3000\\u3000\\u3000\\u3000\\u3000 KK KK\\u3000\\u3000\\u3000 EE\\u3000\\u3000\\u3000\\u3000\\u3000TT\\u3000\\u3000\\u3000EE\\u3000\\u3000\\u3000\\u3000L\\n\\u3000\\u3000\\u3000\\u3000\\u3000KK\\u3000 KKK\\u3000EEEEEE\\u3000\\u3000 TT\\u3000\\u3000\\u3000EEEEEE\\u3000 LLLLLLL\\n\\u3000\\u3000\\u3000\\u3000\\u3000\\u3000\\u3000\\u3000\\u3000\\u3000\\u3000\\u3000 <<<알립니다>>\\n\\u30001.<<KETEL 정보서비스 일시 정지 안내>\\n\\u30002.KETEL 전용 단말기 서비스 안\\n\\u30003.>>사용자 번호 변경 업무 개시<\\n\\u30004.>>KETEL ID 신청 메뉴 서비스 제공개시<\\n\\u30005.<<PC 라인 재판 발행>\\n\\u30006.<<동호회 신청 1차 ', '. KETEL>\\n\\u30007.한경의 기사를 공모합니다\\n\\u3000\\u3000** 공지사항을 보시겠습니까(번호/N/z)\\n\\u3000사용자번호 :\\n\\n\\n\\u3000<<< 한경 KETEL >>>\\u3000\\u3000\\u3000\\u3000 (TOP\\n\\u3000 1. 서비스 안내\\u3000\\u3000\\u3000\\u30002. KETEL-UNICOM NEW\\n\\u300011. 조선일보뉴스\\u3000\\u3000\\u300012. 동아일보뉴스\\u3000\\u3000\\u3000\\u300013. 전남일보뉴\\n\\u300014. 부산일보뉴스\\u3000\\u3000\\u300015. 영남일보뉴\\n\\u300019. 한국경제신문뉴\\n\\u300021. 증권/금융\\u3000\\u3000\\u3000\\u3000 22. 기업/경제통제\\u3000\\u3000\\u3000 23. 무\\n\\u300024. 환율/금리\\u3000\\u3000\\u3000\\u3000 25. 중소기업지원 정\\n\\u300031. 유통/물가\\u3000\\u3000\\u3000\\u3000 32. 부동산\\u3000\\u3000\\u3000\\u3000\\u3000\\u3000\\u300033. 세\\n\\u300034. 문화/레저\\u3000\\u3000\\u3000\\u3000 35. 날\\n\\u300041. 의/약/건강\\u3000\\u3000\\u3000\\u300042. 농업정\\n\\u300051. 전자우편\\u3000\\u3000\\u3000\\u3000\\u300052. 게시판\\u3000\\u3000\\u3000\\u3000\\u3000\\u3000\\u300053. 토론의 광\\n\\u300054. 대화실\\u3000\\u3000\\u3000\\u3000\\u3000\\u300055. 동호인 코너\\u3000\\u3000\\u3000\\u3000 56. 컴퓨터/통\\n\\u300057. PC 라\\n\\u3000번호/명령(H,GO,PF,ME,Z,X\\n\\u3000>>'] 3\n"
     ]
    }
   ],
   "source": [
    "print(end_of_sentences, len(end_of_sentences))\n",
    "print(sentences, len(sentences))"
   ]
  },
  {
   "cell_type": "markdown",
   "metadata": {},
   "source": [
    "# 데이터 쪼개기"
   ]
  },
  {
   "cell_type": "code",
   "execution_count": 15,
   "metadata": {},
   "outputs": [],
   "source": [
    "splited_documents = []"
   ]
  },
  {
   "cell_type": "code",
   "execution_count": 16,
   "metadata": {},
   "outputs": [
    {
     "name": "stderr",
     "output_type": "stream",
     "text": [
      "56737it [03:18, 285.32it/s]\n"
     ]
    }
   ],
   "source": [
    "count = 0\n",
    "for index, document in tqdm(df.iterrows()):\n",
    "  # print(\"==================count=====================\",count)\n",
    "  \n",
    "  original_passage = document['text']\n",
    "\n",
    "  length_of_tokenized_text = len(tokenizer.tokenize(original_passage))\n",
    "\n",
    "  number_of_passages_to_create = math.ceil(length_of_tokenized_text / 400)  # 510으로 안하는 이유는 110만큼의 buffer를 주기 위해서\n",
    "  min_required_length = length_of_tokenized_text // number_of_passages_to_create  # 최소 길이\n",
    "  max_possible_length = min_required_length + 110  # 최대길이\n",
    "\n",
    "  end_of_sentences = re.findall(r'[가-힣]+\\S*\\.', original_passage)\n",
    "  sentences = re.split(r'[가-힣]+\\S*\\.', original_passage)\n",
    "  sentence_counter = 0\n",
    "\n",
    "\n",
    "  # print(min_required_length)\n",
    "  for i in range(number_of_passages_to_create):\n",
    "    partial_text = ''\n",
    "    partial_text_length = 0\n",
    "\n",
    "    if sentence_counter == len(end_of_sentences)-1:\n",
    "      break\n",
    "    \n",
    "    for j in range(len(sentences) - 1):\n",
    "      partial_text += sentences[sentence_counter] + end_of_sentences[sentence_counter]\n",
    "      partial_text_length += len(tokenizer.tokenize(sentences[sentence_counter] + end_of_sentences[sentence_counter]))\n",
    "      # print('==============================', sentence_counter, len(sentences)-1, len(end_of_sentences)-1)\n",
    "      # print(partial_text, partial_text_length)\n",
    "      sentence_counter += 1\n",
    "      if partial_text_length >= min_required_length or sentence_counter == len(end_of_sentences)-1:\n",
    "        \n",
    "        if sentence_counter == len(end_of_sentences)-1:\n",
    "          partial_text += sentences[-1]\n",
    "        document_to_be_added = {\n",
    "          'text': partial_text,\n",
    "          'title': document['title'],\n",
    "          'document_id': count # document['document_id']\n",
    "        }\n",
    "\n",
    "        splited_documents.append(document_to_be_added)\n",
    "        count +=1\n",
    "        break\n",
    "  "
   ]
  },
  {
   "cell_type": "code",
   "execution_count": 17,
   "metadata": {},
   "outputs": [
    {
     "data": {
      "text/plain": [
       "78411"
      ]
     },
     "execution_count": 17,
     "metadata": {},
     "output_type": "execute_result"
    }
   ],
   "source": [
    "len(splited_documents)"
   ]
  },
  {
   "cell_type": "code",
   "execution_count": 18,
   "metadata": {},
   "outputs": [
    {
     "data": {
      "text/plain": [
       "{'text': '빌렌도르프의 비너스(Venus von Willendorf)는 1908년 오스트리아 니더외스터라이히주 빌렌도르프 근교의 구석기 시대 지층에서 고고학자 요제프 촘바티가 발견한 11.1 cm 키의 여자 조각상이다. 그 지역에서 나지 않는 어란상 석회암으로 만들어졌으며 석간주로 칠해졌다.\\\\n\\\\n1990년 조각상 발견지점 주변 유적의 층위를 조사해 분석한 결과에 따르면 이 석상은 2만 2000년에서 2만 4000년 전에 만들어진 것으로 추정된다. 왜, 어떻게 만들어졌으며 문화적으로 어떤 의미가 있는지에 대해서 알려져 있는 것은 매우 적다.\\\\n\\\\n빌렌도르프의 비너스는 사실적이라기보다는 이상적으로 표현한 여성상이다. 커다란 유방을 늘어뜨리고, 허리는 매우 굵었으며, 배는 불룩 나와 있고, 지방이 풍부한 엉덩이는 매우 잘 발달해 있고 성기가 강조되어 있어서, 생식과 출산, 다산의 상징으로 주술적 숭배의 대상이 되었던 것으로 판단된다. 작은 팔은 가슴 위에 올려져 있다.',\n",
       " 'title': '빌렌도르프의 비너스',\n",
       " 'document_id': 7504}"
      ]
     },
     "execution_count": 18,
     "metadata": {},
     "output_type": "execute_result"
    }
   ],
   "source": [
    "splited_documents[7504]"
   ]
  },
  {
   "cell_type": "code",
   "execution_count": 3,
   "metadata": {},
   "outputs": [
    {
     "name": "stderr",
     "output_type": "stream",
     "text": [
      "/opt/conda/lib/python3.8/site-packages/elasticsearch/connection/base.py:209: ElasticsearchWarning: Elasticsearch built-in security features are not enabled. Without authentication, your cluster could be accessible to anyone. See https://www.elastic.co/guide/en/elasticsearch/reference/7.15/security-minimal-setup.html to enable security.\n",
      "  warnings.warn(message, category=ElasticsearchWarning)\n"
     ]
    },
    {
     "data": {
      "text/plain": [
       "True"
      ]
     },
     "execution_count": 3,
     "metadata": {},
     "output_type": "execute_result"
    }
   ],
   "source": [
    "es = Elasticsearch([{'host': 'localhost', 'port': 9200}])\n",
    "es.ping()"
   ]
  },
  {
   "cell_type": "code",
   "execution_count": 141,
   "metadata": {},
   "outputs": [
    {
     "data": {
      "text/plain": [
       "{'acknowledged': True}"
      ]
     },
     "execution_count": 141,
     "metadata": {},
     "output_type": "execute_result"
    }
   ],
   "source": [
    "es.indices.delete(index='wiki_documents_dense', ignore=[400, 404])"
   ]
  },
  {
   "cell_type": "code",
   "execution_count": 17,
   "metadata": {},
   "outputs": [
    {
     "name": "stdout",
     "output_type": "stream",
     "text": [
      ".kibana-event-log-7.15.1-000001\n",
      ".tasks\n",
      "wiki_documents\n",
      ".apm-agent-configuration\n",
      ".apm-custom-link\n",
      ".kibana_7.15.1_001\n",
      "wiki_documents_splited\n",
      "wiki_documents_splited_dense\n",
      ".kibana_task_manager_7.15.1_001\n"
     ]
    },
    {
     "name": "stderr",
     "output_type": "stream",
     "text": [
      "/tmp/ipykernel_14592/3052314421.py:1: DeprecationWarning: Using positional arguments for APIs is deprecated and will be disabled in 8.0.0. Instead use only keyword arguments for all APIs. See https://github.com/elastic/elasticsearch-py/issues/1698 for more information\n",
      "  res = es.indices.get_alias(\"*\")\n",
      "/opt/conda/lib/python3.8/site-packages/elasticsearch/connection/base.py:209: ElasticsearchWarning: this request accesses system indices: [.tasks, .apm-agent-configuration, .apm-custom-link, .kibana_7.15.1_001, .kibana_task_manager_7.15.1_001], but in a future major version, direct access to system indices will be prevented by default\n",
      "  warnings.warn(message, category=ElasticsearchWarning)\n"
     ]
    }
   ],
   "source": [
    "res = es.indices.get_alias(\"*\")\n",
    "for Name in res:\n",
    "  print(Name)"
   ]
  },
  {
   "cell_type": "code",
   "execution_count": 18,
   "metadata": {},
   "outputs": [],
   "source": [
    "def generator(splited_documents):\n",
    "  for c, line in enumerate(splited_documents):\n",
    "    yield {\n",
    "      '_index': 'wiki_documents_splited',\n",
    "      '_type': '_doc',\n",
    "      '_id': line.get('document_id', None),\n",
    "      '_source': {\n",
    "        'title': line.get('title', ''),\n",
    "        'text': line.get('text', '')\n",
    "      }\n",
    "    }\n",
    "  raise StopIteration"
   ]
  },
  {
   "cell_type": "code",
   "execution_count": 19,
   "metadata": {},
   "outputs": [],
   "source": [
    "CONFIG = {\n",
    "  'settings':{\n",
    "    'number_of_shards':1,\n",
    "    'number_of_replicas':1,\n",
    "    'analysis':{\n",
    "      'analyzer': {\n",
    "        'nori_analyzer':{\n",
    "          'type': 'custom',\n",
    "          'tokenizer': 'nori_tokenizer'\n",
    "        }\n",
    "      },\n",
    "    }\n",
    "  },\n",
    "  'mappings':{\n",
    "    'properties':{\n",
    "      'title':{\n",
    "        'type':'text'\n",
    "      },\n",
    "      'text':{\n",
    "        'type':'text',\n",
    "        \"analyzer\": \"nori_analyzer\"\n",
    "      }\n",
    "    }\n",
    "  }\n",
    "}"
   ]
  },
  {
   "cell_type": "code",
   "execution_count": 20,
   "metadata": {},
   "outputs": [
    {
     "name": "stderr",
     "output_type": "stream",
     "text": [
      "/tmp/ipykernel_14592/923970138.py:1: DeprecationWarning: The 'body' parameter is deprecated for the 'create' API and will be removed in a future version. Instead use API parameters directly. See https://github.com/elastic/elasticsearch-py/issues/1698 for more information\n",
      "  es.indices.create(index='wiki_documents_splited', ignore=[400,404], body=CONFIG)\n"
     ]
    },
    {
     "data": {
      "text/plain": [
       "{'error': {'root_cause': [{'type': 'resource_already_exists_exception',\n",
       "    'reason': 'index [wiki_documents_splited/8vEBkMI-RqS7TiK1t1mIhA] already exists',\n",
       "    'index_uuid': '8vEBkMI-RqS7TiK1t1mIhA',\n",
       "    'index': 'wiki_documents_splited'}],\n",
       "  'type': 'resource_already_exists_exception',\n",
       "  'reason': 'index [wiki_documents_splited/8vEBkMI-RqS7TiK1t1mIhA] already exists',\n",
       "  'index_uuid': '8vEBkMI-RqS7TiK1t1mIhA',\n",
       "  'index': 'wiki_documents_splited'},\n",
       " 'status': 400}"
      ]
     },
     "execution_count": 20,
     "metadata": {},
     "output_type": "execute_result"
    }
   ],
   "source": [
    "es.indices.create(index='wiki_documents_splited', ignore=[400,404], body=CONFIG)"
   ]
  },
  {
   "cell_type": "code",
   "execution_count": 146,
   "metadata": {},
   "outputs": [],
   "source": [
    "from elasticsearch import helpers\n",
    "gen = generator(splited_documents)"
   ]
  },
  {
   "cell_type": "code",
   "execution_count": 147,
   "metadata": {},
   "outputs": [
    {
     "name": "stdout",
     "output_type": "stream",
     "text": [
      "generator raised StopIteration\n",
      "Done\n"
     ]
    }
   ],
   "source": [
    "try:\n",
    "  res = helpers.bulk(es, gen, chunk_size = 1)\n",
    "  # print(res)\n",
    "except Exception as e:\n",
    "  print(e)\n",
    "  print('Done')"
   ]
  },
  {
   "cell_type": "code",
   "execution_count": null,
   "metadata": {},
   "outputs": [],
   "source": [
    "class BertEncoder(BertPreTrainedModel):  \n",
    "  def __init__(self, config):\n",
    "    super(BertEncoder, self).__init__(config)\n",
    "\n",
    "    # self.bert = RobertaModel(config)\n",
    "    self.bert = BertModel(config)\n",
    "    self.init_weights()\n",
    "      \n",
    "  def forward(self, input_ids, \n",
    "              attention_mask=None, token_type_ids=None): \n",
    "  \n",
    "      outputs = self.bert(input_ids,\n",
    "                          attention_mask=attention_mask,\n",
    "                          token_type_ids=token_type_ids #roberta시 주석\n",
    "                          )\n",
    "      \n",
    "      pooled_output = outputs[1]\n",
    "\n",
    "      return pooled_output"
   ]
  },
  {
   "cell_type": "code",
   "execution_count": 6,
   "metadata": {},
   "outputs": [],
   "source": [
    "p_encoder = AutoModel.from_pretrained('../encoders/p_encoder').to('cuda')"
   ]
  },
  {
   "cell_type": "code",
   "execution_count": 18,
   "metadata": {},
   "outputs": [
    {
     "data": {
      "text/plain": [
       "{'count': 78410,\n",
       " '_shards': {'total': 1, 'successful': 1, 'skipped': 0, 'failed': 0}}"
      ]
     },
     "execution_count": 18,
     "metadata": {},
     "output_type": "execute_result"
    }
   ],
   "source": [
    "es.count(index = 'wiki_documents_splited')"
   ]
  },
  {
   "cell_type": "code",
   "execution_count": 19,
   "metadata": {},
   "outputs": [
    {
     "data": {
      "text/plain": [
       "{'text': '이 문서는 나라 목록이며, 전 세계 206개 나라의 각 현황과 주권 승인 정보를 개요 형태로 나열하고 있다.\\n\\n이 목록은 명료화를 위해 두 부분으로 나뉘어 있다.\\n\\n# 첫 번째 부분은 바티칸 시국과 팔레스타인을 포함하여 유엔 등 국제 기구에 가입되어 국제적인 승인을 널리 받았다고 여기는 195개 나라를 나열하고 있다.\\n# 두 번째 부분은 일부 지역의 주권을 사실상 (데 팍토) 행사하고 있지만, 아직 국제적인 승인을 널리 받지 않았다고 여기는 11개 나라를 나열하고 있다.\\n\\n두 목록은 모두 가나다 순이다.\\n\\n일부 국가의 경우 국가로서의 자격에 논쟁의 여부가 있으며, 이 때문에 이러한 목록을 엮는 것은 매우 어렵고 논란이 생길 수 있는 과정이다. 이 목록을 구성하고 있는 국가를 선정하는 기준에 대한 정보는 \"포함 기준\" 단락을 통해 설명하였다.',\n",
       " 'title': '나라 목록',\n",
       " 'document_id': 0}"
      ]
     },
     "execution_count": 19,
     "metadata": {},
     "output_type": "execute_result"
    }
   ],
   "source": [
    "splited_documents[0]"
   ]
  },
  {
   "cell_type": "code",
   "execution_count": 22,
   "metadata": {},
   "outputs": [
    {
     "name": "stderr",
     "output_type": "stream",
     "text": [
      "100%|██████████| 78411/78411 [20:48<00:00, 62.81it/s]\n"
     ]
    }
   ],
   "source": [
    "p_embs = []\n",
    "for document in tqdm(splited_documents):\n",
    "  with torch.no_grad():\n",
    "    p_encoder.eval()\n",
    "    p_val = tokenizer([document['text']], padding=\"max_length\", truncation=True, return_tensors='pt', max_length=510).to('cuda')\n",
    "\n",
    "    p_emb = p_encoder(**p_val)\n",
    "    p_embs.append(p_emb[1].cpu().detach().numpy().tolist()[0])"
   ]
  },
  {
   "cell_type": "code",
   "execution_count": null,
   "metadata": {},
   "outputs": [],
   "source": [
    "p_emb[1].cpu().detach().numpy().tolist()[0]"
   ]
  },
  {
   "cell_type": "code",
   "execution_count": 24,
   "metadata": {},
   "outputs": [
    {
     "ename": "NameError",
     "evalue": "name 'vec' is not defined",
     "output_type": "error",
     "traceback": [
      "\u001b[0;31m---------------------------------------------------------------------------\u001b[0m",
      "\u001b[0;31mNameError\u001b[0m                                 Traceback (most recent call last)",
      "\u001b[0;32m/tmp/ipykernel_24055/1703986081.py\u001b[0m in \u001b[0;36m<module>\u001b[0;34m\u001b[0m\n\u001b[0;32m----> 1\u001b[0;31m \u001b[0mlen\u001b[0m\u001b[0;34m(\u001b[0m\u001b[0mvec\u001b[0m\u001b[0;34m)\u001b[0m\u001b[0;34m\u001b[0m\u001b[0;34m\u001b[0m\u001b[0m\n\u001b[0m",
      "\u001b[0;31mNameError\u001b[0m: name 'vec' is not defined"
     ]
    }
   ],
   "source": [
    "len(vec)"
   ]
  },
  {
   "cell_type": "code",
   "execution_count": 13,
   "metadata": {},
   "outputs": [],
   "source": [
    "CONFIG = {\n",
    "  'settings':{\n",
    "    'number_of_shards':1,\n",
    "    'number_of_replicas':1,\n",
    "    'analysis':{\n",
    "      'analyzer': {\n",
    "        'nori_analyzer':{\n",
    "          'type': 'custom',\n",
    "          'tokenizer': 'nori_tokenizer'\n",
    "        }\n",
    "      },\n",
    "    }\n",
    "  },\n",
    "  'mappings':{\n",
    "    'properties':{\n",
    "      'text':{\n",
    "        'type':'text',\n",
    "        \"analyzer\": \"nori_analyzer\"\n",
    "      },\n",
    "      'vector':{\n",
    "        'type':'dense_vector',\n",
    "        'dims':768\n",
    "      }\n",
    "    }\n",
    "  }\n",
    "}"
   ]
  },
  {
   "cell_type": "code",
   "execution_count": 26,
   "metadata": {},
   "outputs": [
    {
     "name": "stderr",
     "output_type": "stream",
     "text": [
      "/opt/conda/lib/python3.8/site-packages/elasticsearch/connection/base.py:209: ElasticsearchWarning: Elasticsearch built-in security features are not enabled. Without authentication, your cluster could be accessible to anyone. See https://www.elastic.co/guide/en/elasticsearch/reference/7.15/security-minimal-setup.html to enable security.\n",
      "  warnings.warn(message, category=ElasticsearchWarning)\n"
     ]
    },
    {
     "data": {
      "text/plain": [
       "{'acknowledged': True}"
      ]
     },
     "execution_count": 26,
     "metadata": {},
     "output_type": "execute_result"
    }
   ],
   "source": [
    "es.indices.delete(index='wiki_documents_splited_dense', ignore=[400, 404])"
   ]
  },
  {
   "cell_type": "code",
   "execution_count": 27,
   "metadata": {},
   "outputs": [
    {
     "name": "stderr",
     "output_type": "stream",
     "text": [
      "/tmp/ipykernel_24055/2560678228.py:1: DeprecationWarning: The 'body' parameter is deprecated for the 'create' API and will be removed in a future version. Instead use API parameters directly. See https://github.com/elastic/elasticsearch-py/issues/1698 for more information\n",
      "  es.indices.create(index='wiki_documents_splited_dense', ignore=[400,404], body=CONFIG)\n"
     ]
    },
    {
     "data": {
      "text/plain": [
       "{'acknowledged': True,\n",
       " 'shards_acknowledged': True,\n",
       " 'index': 'wiki_documents_splited_dense'}"
      ]
     },
     "execution_count": 27,
     "metadata": {},
     "output_type": "execute_result"
    }
   ],
   "source": [
    "es.indices.create(index='wiki_documents_splited_dense', ignore=[400,404], body=CONFIG)"
   ]
  },
  {
   "cell_type": "code",
   "execution_count": 28,
   "metadata": {},
   "outputs": [],
   "source": [
    "def generator(splited_documents, p_embs):\n",
    "  for document, vector in zip(splited_documents, p_embs):\n",
    "    yield {\n",
    "      '_index': 'wiki_documents_splited_dense',\n",
    "      '_type': '_doc',\n",
    "      '_id': document.get('document_id', None),\n",
    "      '_source': {\n",
    "        'text': document.get('text', ''),\n",
    "        'vector': vector\n",
    "      }\n",
    "    }\n",
    "  raise StopIteration"
   ]
  },
  {
   "cell_type": "code",
   "execution_count": 25,
   "metadata": {},
   "outputs": [],
   "source": [
    "from elasticsearch import helpers"
   ]
  },
  {
   "cell_type": "code",
   "execution_count": 30,
   "metadata": {},
   "outputs": [
    {
     "name": "stderr",
     "output_type": "stream",
     "text": [
      "/opt/conda/lib/python3.8/site-packages/elasticsearch/connection/base.py:209: ElasticsearchWarning: [types removal] Specifying types in bulk requests is deprecated.\n",
      "  warnings.warn(message, category=ElasticsearchWarning)\n"
     ]
    },
    {
     "name": "stdout",
     "output_type": "stream",
     "text": [
      "generator raised StopIteration\n",
      "Done\n"
     ]
    }
   ],
   "source": [
    "gen = generator(splited_documents, p_embs)\n",
    "try:\n",
    "  res = helpers.bulk(es, gen, chunk_size = 1)\n",
    "  # print(res)\n",
    "except Exception as e:\n",
    "  print(e)\n",
    "  print('Done')"
   ]
  },
  {
   "cell_type": "code",
   "execution_count": null,
   "metadata": {},
   "outputs": [],
   "source": [
    "es.get(index='wiki_documents_splited_dense', id=0)"
   ]
  },
  {
   "cell_type": "code",
   "execution_count": 32,
   "metadata": {},
   "outputs": [],
   "source": [
    "q_encoder = AutoModel.from_pretrained('../encoders/q_encoder').to('cuda')"
   ]
  },
  {
   "cell_type": "code",
   "execution_count": 62,
   "metadata": {},
   "outputs": [],
   "source": [
    "with torch.no_grad():\n",
    "  q_encoder.eval()\n",
    "  q_val = tokenizer(['이 문서는 나라 목록이며, 전 세계 206개 나라의 각 현황과 주권 승인 정보를 개요 형태로 나열하고 있다.'], padding=\"max_length\", truncation=True, return_tensors='pt', max_length = 510).to('cuda')\n",
    "\n",
    "  q_emb = q_encoder(**q_val)\n",
    "  q_output = q_emb[1].cpu().detach().numpy().tolist()[0]"
   ]
  },
  {
   "cell_type": "code",
   "execution_count": 63,
   "metadata": {},
   "outputs": [],
   "source": [
    "# q_output"
   ]
  },
  {
   "cell_type": "code",
   "execution_count": 66,
   "metadata": {},
   "outputs": [
    {
     "name": "stderr",
     "output_type": "stream",
     "text": [
      "/tmp/ipykernel_24055/1053273568.py:1: DeprecationWarning: The 'body' parameter is deprecated for the 'search' API and will be removed in a future version. Instead use API parameters directly. See https://github.com/elastic/elasticsearch-py/issues/1698 for more information\n",
      "  res = es.search(\n"
     ]
    }
   ],
   "source": [
    "res = es.search(\n",
    "  index='wiki_documents_splited_dense',\n",
    "  body={\n",
    "    'query':{\n",
    "      \"script_score\": {\n",
    "        \"query\" : {\n",
    "          \"match_all\" : {}\n",
    "        },\n",
    "        \"script\": {\n",
    "          # \"source\": \"1 / (1 + l2norm(params.queryVector, doc['vector']))\",\n",
    "          \"source\": \"cosineSimilarity(params.queryVector, doc['vector']) + 1.0\",\n",
    "          \"params\": {\n",
    "            \"queryVector\": q_output\n",
    "          }\n",
    "        }\n",
    "      }\n",
    "    }\n",
    "  },\n",
    "  size= 100\n",
    ")"
   ]
  },
  {
   "cell_type": "code",
   "execution_count": null,
   "metadata": {},
   "outputs": [],
   "source": [
    "for i in range(100):\n",
    "  print(res['hits']['hits'][i]['_source']['text'])\n",
    "  print('============================================')"
   ]
  },
  {
   "cell_type": "markdown",
   "metadata": {},
   "source": [
    "# 쪼개지 않은 문서 임베딩"
   ]
  },
  {
   "cell_type": "code",
   "execution_count": 24,
   "metadata": {},
   "outputs": [],
   "source": [
    "text = df['text'].to_list()\n",
    "title = df['title'].to_list()\n",
    "document_id = df['document_id'].to_list()"
   ]
  },
  {
   "cell_type": "code",
   "execution_count": 8,
   "metadata": {},
   "outputs": [
    {
     "name": "stderr",
     "output_type": "stream",
     "text": [
      "56737it [24:53, 37.98it/s]\n"
     ]
    }
   ],
   "source": [
    "p_embs_not_splited = []\n",
    "for index, document in tqdm(df.iterrows()):\n",
    "  with torch.no_grad():\n",
    "    p_encoder.eval()\n",
    "    p_val = tokenizer([document['text']], padding=\"max_length\", truncation=True, return_tensors='pt', max_length=510).to('cuda')\n",
    "\n",
    "    p_emb = p_encoder(**p_val)\n",
    "    p_embs_not_splited.append(p_emb[1].cpu().detach().numpy().tolist()[0])"
   ]
  },
  {
   "cell_type": "markdown",
   "metadata": {},
   "source": [
    "# 안쪼갠 문서 올리기"
   ]
  },
  {
   "cell_type": "code",
   "execution_count": 14,
   "metadata": {},
   "outputs": [
    {
     "name": "stderr",
     "output_type": "stream",
     "text": [
      "/tmp/ipykernel_10466/308340908.py:1: DeprecationWarning: The 'body' parameter is deprecated for the 'create' API and will be removed in a future version. Instead use API parameters directly. See https://github.com/elastic/elasticsearch-py/issues/1698 for more information\n",
      "  es.indices.create(index='wiki_documents_dense', ignore=[400,404], body=CONFIG)\n"
     ]
    },
    {
     "data": {
      "text/plain": [
       "{'acknowledged': True,\n",
       " 'shards_acknowledged': True,\n",
       " 'index': 'wiki_documents_dense'}"
      ]
     },
     "execution_count": 14,
     "metadata": {},
     "output_type": "execute_result"
    }
   ],
   "source": [
    "es.indices.create(index='wiki_documents_dense', ignore=[400,404], body=CONFIG)"
   ]
  },
  {
   "cell_type": "code",
   "execution_count": 30,
   "metadata": {},
   "outputs": [],
   "source": [
    "def generator(text, title, document_id, p_embs_not_splited):\n",
    "  for text_el, title_el, document_id_el, p_embs_el in zip(text,title,document_id, p_embs_not_splited):\n",
    "    yield {\n",
    "      '_index': 'wiki_documents_dense',\n",
    "      '_type': '_doc',\n",
    "      '_id': document_id_el,\n",
    "      '_source': {\n",
    "        'text': text_el,\n",
    "        'vector': p_embs_el\n",
    "      }\n",
    "    }\n",
    "  raise StopIteration"
   ]
  },
  {
   "cell_type": "code",
   "execution_count": 31,
   "metadata": {},
   "outputs": [
    {
     "name": "stderr",
     "output_type": "stream",
     "text": [
      "/opt/conda/lib/python3.8/site-packages/elasticsearch/connection/base.py:209: ElasticsearchWarning: Elasticsearch built-in security features are not enabled. Without authentication, your cluster could be accessible to anyone. See https://www.elastic.co/guide/en/elasticsearch/reference/7.15/security-minimal-setup.html to enable security.\n",
      "  warnings.warn(message, category=ElasticsearchWarning)\n",
      "/opt/conda/lib/python3.8/site-packages/elasticsearch/connection/base.py:209: ElasticsearchWarning: [types removal] Specifying types in bulk requests is deprecated.\n",
      "  warnings.warn(message, category=ElasticsearchWarning)\n"
     ]
    },
    {
     "name": "stdout",
     "output_type": "stream",
     "text": [
      "generator raised StopIteration\n",
      "Done\n"
     ]
    }
   ],
   "source": [
    "gen = generator(text, title, document_id, p_embs_not_splited)\n",
    "try:\n",
    "  res = helpers.bulk(es, gen, chunk_size = 1)\n",
    "  # print(res)\n",
    "except Exception as e:\n",
    "  print(e)\n",
    "  print('Done')"
   ]
  },
  {
   "cell_type": "code",
   "execution_count": null,
   "metadata": {},
   "outputs": [],
   "source": [
    "es.get(index='wiki_documents_dense', id=0)"
   ]
  },
  {
   "cell_type": "code",
   "execution_count": 34,
   "metadata": {},
   "outputs": [],
   "source": [
    "q_encoder = AutoModel.from_pretrained('../encoders/q_encoder').to('cuda')"
   ]
  },
  {
   "cell_type": "code",
   "execution_count": 42,
   "metadata": {},
   "outputs": [],
   "source": [
    "with torch.no_grad():\n",
    "  q_encoder.eval()\n",
    "  q_val = tokenizer(['미국의 대통령은 누구인가?'], padding=\"max_length\", truncation=True, return_tensors='pt', max_length = 510).to('cuda')\n",
    "\n",
    "  q_emb = q_encoder(**q_val)\n",
    "  q_output = q_emb[1].cpu().detach().numpy().tolist()[0]"
   ]
  },
  {
   "cell_type": "code",
   "execution_count": 43,
   "metadata": {},
   "outputs": [
    {
     "name": "stderr",
     "output_type": "stream",
     "text": [
      "/tmp/ipykernel_10466/2225846546.py:1: DeprecationWarning: The 'body' parameter is deprecated for the 'search' API and will be removed in a future version. Instead use API parameters directly. See https://github.com/elastic/elasticsearch-py/issues/1698 for more information\n",
      "  res = es.search(\n"
     ]
    }
   ],
   "source": [
    "res = es.search(\n",
    "  index='wiki_documents_dense',\n",
    "  body={\n",
    "    'query':{\n",
    "      \"script_score\": {\n",
    "        \"query\" : {\n",
    "          \"match_all\" : {}\n",
    "        },\n",
    "        \"script\": {\n",
    "          # \"source\": \"1 / (1 + l2norm(params.queryVector, doc['vector']))\",\n",
    "          \"source\": \"cosineSimilarity(params.queryVector, doc['vector']) + 1.0\",\n",
    "          \"params\": {\n",
    "            \"queryVector\": q_output\n",
    "          }\n",
    "        }\n",
    "      }\n",
    "    }\n",
    "  },\n",
    "  size= 3\n",
    ")"
   ]
  },
  {
   "cell_type": "code",
   "execution_count": 44,
   "metadata": {},
   "outputs": [
    {
     "name": "stdout",
     "output_type": "stream",
     "text": [
      "Хеј Словени, јоште живи Реч (Дух) наших дедова\n",
      "Док за народ срце бије Њихових синова\n",
      "\n",
      "Живи, живи дух словенски Живеће веков'ма\n",
      "Залуд прети понор пакла, Залуд ватра грома\n",
      "\n",
      "Нек' се сада и над нама Буром све разнес\n",
      "Стена пуца, дуб се лама, Земља нек' се тресе\n",
      "\n",
      "Ми стојимо постојано Кано клисурине\n",
      "Проклет био издајица Своје домовине!\n",
      "|\n",
      "============================================\n",
      "border=1| | | | | |,|-|-|-|-|-|-|-|-|-|-|-|(\n",
      "\n",
      "border=1| | | | | |Q| | | |,|-|-|-|-|-|-|-|+|-|-|-|v|-|-|-|v|-|-|-|.\n",
      "\n",
      "border=1| | | | | | | | | |!| | | | | | | | | | | | | | | |!| | | | | |`|-|.| \n",
      "\n",
      "border=1| | | | | | | | | |!| | | | | | | | | | | | | | | |)|-|-|-|.\n",
      "\n",
      "border=1| | | | | |,|-|-|-|^|-|-|-|.| | | | | | | |,|-|-|-|+|-|-|-|.\n",
      "\n",
      "border=1| | | | | |!| | | | | | | |!| | | | | | | |!\n",
      "\n",
      "border=1| | | | | | | | | |!| | | |,|-|'| | | | | | | |!\n",
      "\n",
      "border=1| | | | | |,|-|'| | | | | | | | | | | | | | | |!\n",
      "\n",
      "border=1| | | | | |!\n",
      "\n",
      "\n",
      " HoM=| boxstyle_HoM=border-width:0px\n",
      "============================================\n",
      "Еј, Словени, жив е тука зборот свет на родот\n",
      "штом за народ срце чука преку син во внукот!\n",
      "\n",
      "Жив е вечно, жив е духот словенски во слога.\n",
      "Не нè плашат адски бездни ниту громов оган!\n",
      "\n",
      "Пустошејќи, нека бура и над нас се втурне!\n",
      "Пука даб и карпа сура, тлото ќе се урне:\n",
      "\n",
      "Стоиме на стамен-прагот - клисури и бедем!\n",
      "Проклет да е тој што предал Родина на врагот!\n",
      "|\n",
      "============================================\n"
     ]
    }
   ],
   "source": [
    "for i in range(3):\n",
    "  print(res['hits']['hits'][i]['_source']['text'])\n",
    "  print('============================================')"
   ]
  },
  {
   "cell_type": "code",
   "execution_count": null,
   "metadata": {},
   "outputs": [],
   "source": []
  }
 ],
 "metadata": {
  "interpreter": {
   "hash": "d4d1e4263499bec80672ea0156c357c1ee493ec2b1c70f0acce89fc37c4a6abe"
  },
  "kernelspec": {
   "display_name": "Python 3.8.5 64-bit ('base': conda)",
   "name": "python3"
  },
  "language_info": {
   "codemirror_mode": {
    "name": "ipython",
    "version": 3
   },
   "file_extension": ".py",
   "mimetype": "text/x-python",
   "name": "python",
   "nbconvert_exporter": "python",
   "pygments_lexer": "ipython3",
   "version": "3.8.5"
  },
  "orig_nbformat": 4
 },
 "nbformat": 4,
 "nbformat_minor": 2
}
