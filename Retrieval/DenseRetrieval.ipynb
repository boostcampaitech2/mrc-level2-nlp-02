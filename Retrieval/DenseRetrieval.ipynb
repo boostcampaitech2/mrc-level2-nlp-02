{
 "cells": [
  {
   "cell_type": "code",
   "execution_count": 1,
   "source": [
    "import logging\n",
    "import os\n",
    "import sys\n",
    "\n",
    "sys.path.append('../')\n",
    "\n",
    "from typing import List, Callable, NoReturn, NewType, Any\n",
    "from datasets import load_metric, load_from_disk, Dataset, DatasetDict\n",
    "\n",
    "from tqdm.notebook import tqdm, trange\n",
    "import numpy as np\n",
    "import pandas as pd\n",
    "\n",
    "from transformers import AutoConfig, AutoModelForQuestionAnswering, AutoTokenizer\n",
    "from transformers import (\n",
    "    DataCollatorWithPadding,\n",
    "    EvalPrediction,\n",
    "    HfArgumentParser,\n",
    "    TrainingArguments,\n",
    "    set_seed,\n",
    ")\n",
    "\n",
    "from retrieval import SparseRetrieval\n",
    "\n",
    "from utils_qa import postprocess_qa_predictions, check_no_error\n",
    "from trainer_qa import QuestionAnsweringTrainer\n",
    "\n",
    "from arguments import (\n",
    "    ModelArguments,\n",
    "    DataTrainingArguments,\n",
    "    LoggingArguments,\n",
    ")\n",
    "\n",
    "from custom_tokenizer import load_pretrained_tokenizer\n",
    "\n",
    "from dotenv import load_dotenv\n",
    "from preprocessor import Preprocessor"
   ],
   "outputs": [],
   "metadata": {}
  },
  {
   "cell_type": "markdown",
   "source": [
    "## Argument"
   ],
   "metadata": {}
  },
  {
   "cell_type": "code",
   "execution_count": 2,
   "source": [
    "model_args = ModelArguments\n",
    "data_args = DataTrainingArguments\n",
    "training_args = TrainingArguments"
   ],
   "outputs": [],
   "metadata": {}
  },
  {
   "cell_type": "code",
   "execution_count": 3,
   "source": [
    "set_seed(training_args.seed)"
   ],
   "outputs": [],
   "metadata": {}
  },
  {
   "cell_type": "markdown",
   "source": [
    "## Datasets"
   ],
   "metadata": {}
  },
  {
   "cell_type": "code",
   "execution_count": 4,
   "source": [
    "datasets = load_from_disk('/opt/ml/data/train_dataset')"
   ],
   "outputs": [],
   "metadata": {}
  },
  {
   "cell_type": "markdown",
   "source": [
    "## Preprocessing"
   ],
   "metadata": {}
  },
  {
   "cell_type": "code",
   "execution_count": 5,
   "source": [
    "datasets.cleanup_cache_files()\n",
    "datasets = Preprocessor.preprocessing(datasets, pt_num=\"13\")"
   ],
   "outputs": [
    {
     "output_type": "display_data",
     "data": {
      "text/plain": [
       "HBox(children=(FloatProgress(value=0.0, max=3952.0), HTML(value='')))"
      ],
      "application/vnd.jupyter.widget-view+json": {
       "version_major": 2,
       "version_minor": 0,
       "model_id": "5e69e2ef573a46c88c753d952a697db9"
      }
     },
     "metadata": {}
    },
    {
     "output_type": "stream",
     "name": "stdout",
     "text": [
      "\n"
     ]
    },
    {
     "output_type": "display_data",
     "data": {
      "text/plain": [
       "HBox(children=(FloatProgress(value=0.0, max=240.0), HTML(value='')))"
      ],
      "application/vnd.jupyter.widget-view+json": {
       "version_major": 2,
       "version_minor": 0,
       "model_id": "22a4bc6cdaa849ccbeb7e1db9f5a3d8e"
      }
     },
     "metadata": {}
    },
    {
     "output_type": "stream",
     "name": "stdout",
     "text": [
      "\n"
     ]
    }
   ],
   "metadata": {}
  },
  {
   "cell_type": "code",
   "execution_count": 6,
   "source": [
    "datasets['train'][0]"
   ],
   "outputs": [
    {
     "output_type": "execute_result",
     "data": {
      "text/plain": [
       "{'__index_level_0__': 42,\n",
       " 'answers': {'answer_start': [229], 'text': ['하원']},\n",
       " 'context': '미국 상의원 또는 미국 상원(United States Senate)은 양원제인 미국 의회의 상원이다. 미국 부통령이 상원의장이 된다. 각 주당 2명의 상원의원이 선출되어 100명의 상원의원으로 구성되어 있다. 임기는 6년이며, 2년마다 50개주 중 1/3씩 상원의원을 새로 선출하여 연방에 보낸다. 미국 상원은 미국 하원과는 다르게 미국 대통령을 수반으로 하는 미국 연방 행정부에 각종 동의를 하는 기관이다. 하원이 세금과 경제에 대한 권한, 대통령을 포함한 대다수의 공무원을 파면할 권한을 갖고 있는 국민을 대표하는 기관인 반면 상원은 미국의 주를 대표한다. 즉 캘리포니아주, 일리노이주 같이 주 정부와 주 의회를 대표하는 기관이다. 그로 인하여 군대의 파병, 관료의 임명에 대한 동의, 외국 조약에 대한 승인 등 신속을 요하는 권한은 모두 상원에게만 있다. 그리고 하원에 대한 견제 역할(하원의 법안을 거부할 권한 등)을 담당한다. 2년의 임기로 인하여 급진적일 수밖에 없는 하원은 지나치게 급진적인 법안을 만들기 쉽다. 대표적인 예로 건강보험 개혁 당시 하원이 미국 연방 행정부에게 퍼블릭 옵션(공공건강보험기관)의 조항이 있는 반면 상원의 경우 하원안이 지나치게 세금이 많이 든다는 이유로 퍼블릭 옵션 조항을 제외하고 비영리건강보험기관이나 보험회사가 담당하도록 한 것이다. 이 경우처럼 상원은 하원이나 내각책임제가 빠지기 쉬운 국가들의 국회처럼 걸핏하면 발생하는 의회의 비정상적인 사태를 방지하는 기관이다. 상원은 급박한 처리사항의 경우가 아니면 법안을 먼저 내는 경우가 드물고 하원이 만든 법안을 수정하여 다시 하원에 되돌려보낸다. 이러한 방식으로 단원제가 빠지기 쉬운 함정을 미리 방지하는 것이다.날짜=2017-02-05',\n",
       " 'document_id': 18293,\n",
       " 'id': 'mrc-1-000067',\n",
       " 'question': '대통령을 포함한 미국의 행정부 견제권을 갖는 국가 기관은?',\n",
       " 'title': '미국 상원'}"
      ]
     },
     "metadata": {},
     "execution_count": 6
    }
   ],
   "metadata": {}
  },
  {
   "cell_type": "markdown",
   "source": [
    "## Tokenizer"
   ],
   "metadata": {}
  },
  {
   "cell_type": "code",
   "execution_count": 7,
   "source": [
    "model_args.model_name_or_path = 'klue/bert-base'\n",
    "tokenizer = AutoTokenizer.from_pretrained(model_args.model_name_or_path, use_fast=True)"
   ],
   "outputs": [
    {
     "output_type": "stream",
     "name": "stderr",
     "text": [
      "/opt/conda/lib/python3.8/site-packages/transformers/configuration_utils.py:336: UserWarning: Passing `gradient_checkpointing` to a config initialization is deprecated and will be removed in v5 Transformers. Using `model.gradient_checkpointing_enable()` instead, or if you are using the `Trainer` API, pass `gradient_checkpointing=True` in your `TrainingArguments`.\n",
      "  warnings.warn(\n"
     ]
    }
   ],
   "metadata": {}
  },
  {
   "cell_type": "code",
   "execution_count": 8,
   "source": [
    "tokenizer"
   ],
   "outputs": [
    {
     "output_type": "execute_result",
     "data": {
      "text/plain": [
       "PreTrainedTokenizerFast(name_or_path='klue/bert-base', vocab_size=32000, model_max_len=512, is_fast=True, padding_side='right', special_tokens={'unk_token': '[UNK]', 'sep_token': '[SEP]', 'pad_token': '[PAD]', 'cls_token': '[CLS]', 'mask_token': '[MASK]'})"
      ]
     },
     "metadata": {},
     "execution_count": 8
    }
   ],
   "metadata": {}
  },
  {
   "cell_type": "markdown",
   "source": [
    "## Wiki Data"
   ],
   "metadata": {}
  },
  {
   "cell_type": "code",
   "execution_count": 9,
   "source": [
    "import json\n",
    "\n",
    "data_path=\"/opt/ml/data/\"\n",
    "context_path= \"wikipedia_documents.json\"\n",
    "with open(os.path.join(data_path, context_path), \"r\", encoding=\"utf-8\") as f:\n",
    "    wiki = json.load(f)"
   ],
   "outputs": [],
   "metadata": {}
  },
  {
   "cell_type": "code",
   "execution_count": 10,
   "source": [
    "wiki_data = []\n",
    "\n",
    "for key in wiki.keys() :\n",
    "    data = wiki[key]\n",
    "    wiki_data.append(data['text'])"
   ],
   "outputs": [],
   "metadata": {}
  },
  {
   "cell_type": "code",
   "execution_count": 11,
   "source": [
    "wiki_data = Preprocessor.preprocessing(wiki_data, pt_num = \"13\")"
   ],
   "outputs": [],
   "metadata": {}
  },
  {
   "cell_type": "markdown",
   "source": [
    "## Retrieval"
   ],
   "metadata": {}
  },
  {
   "cell_type": "code",
   "execution_count": 12,
   "source": [
    "from retrieval_bm25 import SparseRetrieval"
   ],
   "outputs": [],
   "metadata": {}
  },
  {
   "cell_type": "code",
   "execution_count": 13,
   "source": [
    "retrieval_bm25 = SparseRetrieval(tokenize_fn=tokenizer.tokenize, contexts=wiki_data)"
   ],
   "outputs": [
    {
     "output_type": "stream",
     "name": "stdout",
     "text": [
      "Context Length : 55963 \n"
     ]
    }
   ],
   "metadata": {}
  },
  {
   "cell_type": "code",
   "execution_count": 14,
   "source": [
    "retrieval_bm25.get_sparse_BM25('./bm25', '13')"
   ],
   "outputs": [
    {
     "output_type": "stream",
     "name": "stdout",
     "text": [
      "BM25 Embedding pickle ./bm25/BM25_embedding_13.bin loaded.\n"
     ]
    }
   ],
   "metadata": {}
  },
  {
   "cell_type": "code",
   "execution_count": 15,
   "source": [
    "train_data = datasets['train']\n",
    "#train_retrieval = retrieval_bm25.retrieve_BM25(train_data)"
   ],
   "outputs": [],
   "metadata": {}
  },
  {
   "cell_type": "markdown",
   "source": [],
   "metadata": {}
  },
  {
   "cell_type": "code",
   "execution_count": 16,
   "source": [
    "with open('./train_retrieval.json', \"r\", encoding=\"utf-8\") as f:\n",
    "    train_retrieval = json.load(f)"
   ],
   "outputs": [],
   "metadata": {}
  },
  {
   "cell_type": "code",
   "execution_count": 17,
   "source": [
    "train_retrieval = pd.DataFrame(train_retrieval)\n",
    "train_retrieval.head()"
   ],
   "outputs": [
    {
     "output_type": "execute_result",
     "data": {
      "text/plain": [
       "                                  question            id  \\\n",
       "0         대통령을 포함한 미국의 행정부 견제권을 갖는 국가 기관은?  mrc-1-000067   \n",
       "1                   현대적 인사조직관리의 시발점이 된 책은?  mrc-0-004397   \n",
       "2           강희제가 1717년에 쓴 글은 누구를 위해 쓰여졌는가?  mrc-1-000362   \n",
       "3  11~12세기에 제작된 본존불은 보통 어떤 나라의 특징이 전파되었나요?  mrc-0-001510   \n",
       "4               명문이 적힌 유물을 구성하는 그릇의 총 개수는?  mrc-0-000823   \n",
       "\n",
       "                                          context_id  \\\n",
       "0  [13725, 6031, 2269, 19333, 51552, 19752, 16322...   \n",
       "1  [47055, 47049, 47056, 47059, 47052, 47054, 470...   \n",
       "2  [474, 461, 470, 26650, 472, 34409, 11245, 466,...   \n",
       "3  [33351, 40980, 30820, 36303, 31981, 49284, 399...   \n",
       "4  [42757, 15050, 54529, 18144, 20265, 49273, 421...   \n",
       "\n",
       "                                             context  \n",
       "0  미국 상의원 또는 미국 상원(United States Senate)은 양원제인 미국...  \n",
       "1  '근대적 경영학' 또는 '고전적 경영학'에서 현대적 경영학으로 전환되는 시기는 19...  \n",
       "2  강희제는 강화된 황권으로 거의 황제 중심의 독단적으로 나라를 이끌어 갔기에 자칫 전...  \n",
       "3  불상을 모시기 위해 나무나 돌, 쇠 등을 깎아 일반적인 건축물보다 작은 규모로 만든...  \n",
       "4  동아대학교박물관에서 소장하고 있는 계사명 사리구는 총 4개의 용기로 구성된 조선후기...  "
      ],
      "text/html": [
       "<div>\n",
       "<style scoped>\n",
       "    .dataframe tbody tr th:only-of-type {\n",
       "        vertical-align: middle;\n",
       "    }\n",
       "\n",
       "    .dataframe tbody tr th {\n",
       "        vertical-align: top;\n",
       "    }\n",
       "\n",
       "    .dataframe thead th {\n",
       "        text-align: right;\n",
       "    }\n",
       "</style>\n",
       "<table border=\"1\" class=\"dataframe\">\n",
       "  <thead>\n",
       "    <tr style=\"text-align: right;\">\n",
       "      <th></th>\n",
       "      <th>question</th>\n",
       "      <th>id</th>\n",
       "      <th>context_id</th>\n",
       "      <th>context</th>\n",
       "    </tr>\n",
       "  </thead>\n",
       "  <tbody>\n",
       "    <tr>\n",
       "      <th>0</th>\n",
       "      <td>대통령을 포함한 미국의 행정부 견제권을 갖는 국가 기관은?</td>\n",
       "      <td>mrc-1-000067</td>\n",
       "      <td>[13725, 6031, 2269, 19333, 51552, 19752, 16322...</td>\n",
       "      <td>미국 상의원 또는 미국 상원(United States Senate)은 양원제인 미국...</td>\n",
       "    </tr>\n",
       "    <tr>\n",
       "      <th>1</th>\n",
       "      <td>현대적 인사조직관리의 시발점이 된 책은?</td>\n",
       "      <td>mrc-0-004397</td>\n",
       "      <td>[47055, 47049, 47056, 47059, 47052, 47054, 470...</td>\n",
       "      <td>'근대적 경영학' 또는 '고전적 경영학'에서 현대적 경영학으로 전환되는 시기는 19...</td>\n",
       "    </tr>\n",
       "    <tr>\n",
       "      <th>2</th>\n",
       "      <td>강희제가 1717년에 쓴 글은 누구를 위해 쓰여졌는가?</td>\n",
       "      <td>mrc-1-000362</td>\n",
       "      <td>[474, 461, 470, 26650, 472, 34409, 11245, 466,...</td>\n",
       "      <td>강희제는 강화된 황권으로 거의 황제 중심의 독단적으로 나라를 이끌어 갔기에 자칫 전...</td>\n",
       "    </tr>\n",
       "    <tr>\n",
       "      <th>3</th>\n",
       "      <td>11~12세기에 제작된 본존불은 보통 어떤 나라의 특징이 전파되었나요?</td>\n",
       "      <td>mrc-0-001510</td>\n",
       "      <td>[33351, 40980, 30820, 36303, 31981, 49284, 399...</td>\n",
       "      <td>불상을 모시기 위해 나무나 돌, 쇠 등을 깎아 일반적인 건축물보다 작은 규모로 만든...</td>\n",
       "    </tr>\n",
       "    <tr>\n",
       "      <th>4</th>\n",
       "      <td>명문이 적힌 유물을 구성하는 그릇의 총 개수는?</td>\n",
       "      <td>mrc-0-000823</td>\n",
       "      <td>[42757, 15050, 54529, 18144, 20265, 49273, 421...</td>\n",
       "      <td>동아대학교박물관에서 소장하고 있는 계사명 사리구는 총 4개의 용기로 구성된 조선후기...</td>\n",
       "    </tr>\n",
       "  </tbody>\n",
       "</table>\n",
       "</div>"
      ]
     },
     "metadata": {},
     "execution_count": 17
    }
   ],
   "metadata": {}
  },
  {
   "cell_type": "markdown",
   "source": [
    "## Negative Sampling"
   ],
   "metadata": {}
  },
  {
   "cell_type": "code",
   "execution_count": 18,
   "source": [
    "num_neg = 3\n",
    "train_size= len(train_data)\n",
    "\n",
    "p_with_neg = []\n",
    "\n",
    "for i in tqdm(range(len(train_retrieval))):\n",
    "    data_idx = train_retrieval.iloc[i]\n",
    "    question = data_idx['question']\n",
    "    context = data_idx['context']\n",
    "\n",
    "    similar_context_indices = data_idx['context_id']\n",
    "    simiar_contexts = [wiki_data[i] for i in similar_context_indices if wiki_data[i] != context]\n",
    "\n",
    "    p_with_neg.append(context)\n",
    "    p_with_neg.extend(simiar_contexts[:num_neg])"
   ],
   "outputs": [
    {
     "output_type": "display_data",
     "data": {
      "text/plain": [
       "HBox(children=(FloatProgress(value=0.0, max=3952.0), HTML(value='')))"
      ],
      "application/vnd.jupyter.widget-view+json": {
       "version_major": 2,
       "version_minor": 0,
       "model_id": "b26028bcea2e4a36b17f762760c0a07b"
      }
     },
     "metadata": {}
    },
    {
     "output_type": "stream",
     "name": "stdout",
     "text": [
      "\n"
     ]
    }
   ],
   "metadata": {}
  },
  {
   "cell_type": "code",
   "execution_count": 19,
   "source": [
    "print('Context Size with Negative Sampling : %d' %len(p_with_neg))"
   ],
   "outputs": [
    {
     "output_type": "stream",
     "name": "stdout",
     "text": [
      "Context Size with Negative Sampling : 15808\n"
     ]
    }
   ],
   "metadata": {}
  },
  {
   "cell_type": "code",
   "execution_count": 20,
   "source": [
    "from torch.utils.data import (DataLoader, RandomSampler, TensorDataset)\n",
    "\n",
    "# questions\n",
    "q_seqs = tokenizer(train_data['question'], \n",
    "    padding=\"max_length\", \n",
    "    truncation=True, \n",
    "    return_tensors='pt')\n",
    "\n",
    "# passages\n",
    "p_seqs = tokenizer(p_with_neg, \n",
    "    padding=\"max_length\", \n",
    "    truncation=True, \n",
    "    return_tensors='pt')"
   ],
   "outputs": [],
   "metadata": {}
  },
  {
   "cell_type": "code",
   "execution_count": 21,
   "source": [
    "max_len = p_seqs['input_ids'].size(-1)\n",
    "p_seqs['input_ids'] = p_seqs['input_ids'].view(-1, num_neg+1, max_len)\n",
    "p_seqs['attention_mask'] = p_seqs['attention_mask'].view(-1, num_neg+1, max_len)\n",
    "p_seqs['token_type_ids'] = p_seqs['token_type_ids'].view(-1, num_neg+1, max_len)"
   ],
   "outputs": [],
   "metadata": {}
  },
  {
   "cell_type": "code",
   "execution_count": 22,
   "source": [
    "print('Max Length : %d \\n' %max_len)\n",
    "print('Input Ids : {}'.format(p_seqs['input_ids'].shape))\n",
    "print('Attention Mask : {}'.format(p_seqs['attention_mask'].shape))\n",
    "print('Token Type Ids : {}'.format(p_seqs['token_type_ids'].shape))"
   ],
   "outputs": [
    {
     "output_type": "stream",
     "name": "stdout",
     "text": [
      "Max Length : 512 \n",
      "\n",
      "Input Ids : torch.Size([3952, 4, 512])\n",
      "Attention Mask : torch.Size([3952, 4, 512])\n",
      "Token Type Ids : torch.Size([3952, 4, 512])\n"
     ]
    }
   ],
   "metadata": {}
  },
  {
   "cell_type": "markdown",
   "source": [
    "## Datasets"
   ],
   "metadata": {}
  },
  {
   "cell_type": "code",
   "execution_count": 23,
   "source": [
    "# passage & question\n",
    "train_dataset = TensorDataset(p_seqs['input_ids'], \n",
    "    p_seqs['attention_mask'], \n",
    "    p_seqs['token_type_ids'],            \n",
    "    q_seqs['input_ids'], \n",
    "    q_seqs['attention_mask'], \n",
    "    q_seqs['token_type_ids'])"
   ],
   "outputs": [],
   "metadata": {}
  },
  {
   "cell_type": "markdown",
   "source": [
    "## Model"
   ],
   "metadata": {}
  },
  {
   "cell_type": "code",
   "execution_count": 24,
   "source": [
    "from transformers import BertPreTrainedModel, BertModel"
   ],
   "outputs": [],
   "metadata": {}
  },
  {
   "cell_type": "code",
   "execution_count": 25,
   "source": [
    "class BertEncoder(BertPreTrainedModel):\n",
    "    def __init__(self, config) :\n",
    "        super(BertEncoder, self).__init__(config)\n",
    "        self.bert = BertModel(config)\n",
    "        self.init_weights()\n",
    "\n",
    "    def forward(self, input_ids, attention_mask=None, token_type_ids=None): \n",
    "        outputs = self.bert(input_ids,\n",
    "            attention_mask=attention_mask,\n",
    "            token_type_ids=token_type_ids\n",
    "        )\n",
    "        pooled_output = outputs[1]\n",
    "        return pooled_output"
   ],
   "outputs": [],
   "metadata": {}
  },
  {
   "cell_type": "markdown",
   "source": [
    "## Training"
   ],
   "metadata": {}
  },
  {
   "cell_type": "code",
   "execution_count": 26,
   "source": [
    "import torch\n",
    "import torch.nn.functional as F\n",
    "from itertools import chain\n",
    "from transformers import BertModel, BertPreTrainedModel, AdamW, TrainingArguments, get_linear_schedule_with_warmup"
   ],
   "outputs": [],
   "metadata": {}
  },
  {
   "cell_type": "code",
   "execution_count": 27,
   "source": [
    "def progressLearning(value, endvalue, loss, bar_length=50):\n",
    "    percent = float(value + 1) / endvalue\n",
    "    arrow = '-' * int(round(percent * bar_length)-1) + '>'\n",
    "    spaces = ' ' * (bar_length - len(arrow))\n",
    "    sys.stdout.write(\"\\r[{0}] {1}/{2} \\t Loss : {3:.3f}\".format(arrow + spaces, value+1, endvalue, loss))\n",
    "    sys.stdout.flush()"
   ],
   "outputs": [],
   "metadata": {}
  },
  {
   "cell_type": "code",
   "execution_count": 28,
   "source": [
    "def train(args, dataset, p_model, q_model) :\n",
    "    train_sampler = RandomSampler(dataset)\n",
    "    train_dataloader = DataLoader(dataset, \n",
    "        sampler=train_sampler, \n",
    "        batch_size=args.per_device_train_batch_size,\n",
    "        drop_last=True)\n",
    "\n",
    "    model_parameters = chain(p_model.parameters(), q_model.parameters())\n",
    "    optimizer = AdamW(model_parameters, \n",
    "        lr=args.learning_rate, \n",
    "        weight_decay=args.weight_decay\n",
    "    )\n",
    "\n",
    "    t_total = len(train_dataloader) // args.gradient_accumulation_steps * args.num_train_epochs\n",
    "    scheduler = get_linear_schedule_with_warmup(optimizer, \n",
    "        num_warmup_steps=args.warmup_steps,\n",
    "        num_training_steps=t_total)\n",
    "\n",
    "    optimizer.zero_grad()\n",
    "    p_model.zero_grad()\n",
    "    q_model.zero_grad()\n",
    "\n",
    "    global_step = 0\n",
    "    min_loss = np.inf\n",
    "    for i in range(int(args.num_train_epochs)) :\n",
    "        q_model.train()\n",
    "        p_model.train()\n",
    "\n",
    "        step_idx = 0\n",
    "        mean_loss = 0.0\n",
    "        print('Epoch : %d' %i)\n",
    "        for step, batch in enumerate(train_dataloader):\n",
    "            targets = torch.zeros(args.per_device_train_batch_size).long()\n",
    "            if torch.cuda.is_available():\n",
    "                batch = tuple(t.cuda() for t in batch)\n",
    "                targets = targets.cuda()\n",
    "\n",
    "            p_inputs = {'input_ids': batch[0].view(args.per_device_train_batch_size*(num_neg+1), -1),\n",
    "                'attention_mask': batch[1].view(args.per_device_train_batch_size*(num_neg+1), -1),\n",
    "                'token_type_ids': batch[2].view(args.per_device_train_batch_size*(num_neg+1), -1)\n",
    "            }\n",
    "      \n",
    "            q_inputs = {'input_ids': batch[3],\n",
    "                'attention_mask': batch[4],\n",
    "                'token_type_ids': batch[5]\n",
    "            }\n",
    "\n",
    "            p_outputs = p_model(**p_inputs)  # (batch_size * (num_neg+1), emb_dim)\n",
    "            q_outputs = q_model(**q_inputs)  # (batch_size, emb_dim)\n",
    "\n",
    "            p_outputs = p_outputs.view(args.per_device_train_batch_size, num_neg+1, -1) # (batch_size, num_neg+1, emb_dim)\n",
    "            p_outputs = torch.transpose(p_outputs, 1, 2) # (batch_size, emb_dim, num_neg+1) \n",
    "\n",
    "            q_outputs = q_outputs.view(args.per_device_train_batch_size, 1, -1)\n",
    "\n",
    "            # (batch_size, 1, emb_dim) * (batch_size, emb_dim, num_neg+1) -> (batch_size, 1, num_neg+1)\n",
    "            sim_scores = torch.bmm(q_outputs, p_outputs).squeeze(1)  #(batch_size, num_neg+1)\n",
    "            sim_scores = F.log_softmax(sim_scores, dim=1)\n",
    "\n",
    "            loss = F.nll_loss(sim_scores, targets)\n",
    "            progressLearning(step_idx, len(train_dataloader), loss.item())\n",
    "            mean_loss += loss.item()\n",
    "\n",
    "            loss.backward()\n",
    "            optimizer.step()\n",
    "            scheduler.step()\n",
    "\n",
    "            optimizer.zero_grad()\n",
    "            p_model.zero_grad()\n",
    "            q_model.zero_grad()\n",
    "            step_idx += 1\n",
    "            global_step += 1\n",
    "\n",
    "        mean_loss /= len(train_dataloader)\n",
    "        if mean_loss < min_loss :\n",
    "            min_loss = loss \n",
    "            torch.save({'steps' : global_step,\n",
    "                'p_encoder_state_dict' : p_model.state_dict() , \n",
    "                'q_decoder_state_dict' : q_model.state_dict() , \n",
    "                'loss' : loss.item() }, \n",
    "            os.path.join(args.output_dir, 'dense_encoder.pt'))    \n",
    "\n",
    "        print('\\nMean Loss : %.3f\\n' %(mean_loss))\n",
    "        \n",
    "    return p_model, q_model\n"
   ],
   "outputs": [],
   "metadata": {}
  },
  {
   "cell_type": "code",
   "execution_count": 50,
   "source": [
    "args = TrainingArguments(\n",
    "    output_dir=\"./model\",\n",
    "    evaluation_strategy=\"epoch\",\n",
    "    learning_rate=1e-5,\n",
    "    per_device_train_batch_size=4,\n",
    "    num_train_epochs=4,\n",
    "    warmup_steps=2000,\n",
    "    weight_decay=1e-2\n",
    ")"
   ],
   "outputs": [],
   "metadata": {}
  },
  {
   "cell_type": "code",
   "execution_count": 51,
   "source": [
    "torch.cuda.empty_cache()\n",
    "\n",
    "p_encoder = BertEncoder.from_pretrained(model_args.model_name_or_path) # passage encoder\n",
    "q_encoder = BertEncoder.from_pretrained(model_args.model_name_or_path) # question encoder\n",
    "\n",
    "if torch.cuda.is_available() :\n",
    "    p_encoder.cuda()\n",
    "    q_encoder.cuda()"
   ],
   "outputs": [
    {
     "output_type": "stream",
     "name": "stderr",
     "text": [
      "/opt/conda/lib/python3.8/site-packages/transformers/configuration_utils.py:336: UserWarning: Passing `gradient_checkpointing` to a config initialization is deprecated and will be removed in v5 Transformers. Using `model.gradient_checkpointing_enable()` instead, or if you are using the `Trainer` API, pass `gradient_checkpointing=True` in your `TrainingArguments`.\n",
      "  warnings.warn(\n",
      "Some weights of the model checkpoint at klue/bert-base were not used when initializing BertEncoder: ['cls.predictions.transform.LayerNorm.bias', 'cls.predictions.decoder.bias', 'cls.seq_relationship.weight', 'cls.predictions.transform.LayerNorm.weight', 'cls.seq_relationship.bias', 'cls.predictions.decoder.weight', 'cls.predictions.transform.dense.weight', 'cls.predictions.bias', 'cls.predictions.transform.dense.bias']\n",
      "- This IS expected if you are initializing BertEncoder from the checkpoint of a model trained on another task or with another architecture (e.g. initializing a BertForSequenceClassification model from a BertForPreTraining model).\n",
      "- This IS NOT expected if you are initializing BertEncoder from the checkpoint of a model that you expect to be exactly identical (initializing a BertForSequenceClassification model from a BertForSequenceClassification model).\n",
      "Some weights of the model checkpoint at klue/bert-base were not used when initializing BertEncoder: ['cls.predictions.transform.LayerNorm.bias', 'cls.predictions.decoder.bias', 'cls.seq_relationship.weight', 'cls.predictions.transform.LayerNorm.weight', 'cls.seq_relationship.bias', 'cls.predictions.decoder.weight', 'cls.predictions.transform.dense.weight', 'cls.predictions.bias', 'cls.predictions.transform.dense.bias']\n",
      "- This IS expected if you are initializing BertEncoder from the checkpoint of a model trained on another task or with another architecture (e.g. initializing a BertForSequenceClassification model from a BertForPreTraining model).\n",
      "- This IS NOT expected if you are initializing BertEncoder from the checkpoint of a model that you expect to be exactly identical (initializing a BertForSequenceClassification model from a BertForSequenceClassification model).\n"
     ]
    }
   ],
   "metadata": {}
  },
  {
   "cell_type": "code",
   "execution_count": 52,
   "source": [
    "p_encoder, q_encoder = train(args, train_dataset, p_encoder, q_encoder)"
   ],
   "outputs": [
    {
     "output_type": "stream",
     "name": "stdout",
     "text": [
      "Epoch : 0\n",
      "[------------------------------------------------->] 988/988 \t Loss : 0.900\n",
      "Mean Loss : 5.642\n",
      "\n",
      "Epoch : 1\n",
      "[------------------------------------------------->] 988/988 \t Loss : 1.272\n",
      "Mean Loss : 1.156\n",
      "\n",
      "Epoch : 2\n",
      "[------------------------------------------------->] 988/988 \t Loss : 0.062\n",
      "Mean Loss : 0.769\n",
      "\n",
      "Epoch : 3\n",
      "[------------------------------------------------->] 988/988 \t Loss : 0.334\n",
      "Mean Loss : 0.541\n",
      "\n"
     ]
    }
   ],
   "metadata": {}
  },
  {
   "cell_type": "markdown",
   "source": [
    "## Similarity"
   ],
   "metadata": {}
  },
  {
   "cell_type": "code",
   "execution_count": 53,
   "source": [
    "val_data = datasets['validation']"
   ],
   "outputs": [],
   "metadata": {}
  },
  {
   "cell_type": "code",
   "execution_count": 54,
   "source": [
    "test_query = val_data['question'][0]\n",
    "test_context = val_data['context'][0]"
   ],
   "outputs": [],
   "metadata": {}
  },
  {
   "cell_type": "code",
   "execution_count": 55,
   "source": [
    "print('Query : %s \\n' %test_query)\n",
    "print('Ground Truth Context : %s \\n' %test_context)"
   ],
   "outputs": [
    {
     "output_type": "stream",
     "name": "stdout",
     "text": [
      "Query : 처음으로 부실 경영인에 대한 보상 선고를 받은 회사는? \n",
      "\n",
      "Ground Truth Context : 순천여자고등학교 졸업, 1973년 이화여자대학교를 졸업하고 1975년 제17회 사법시험에 합격하여 판사로 임용되었고 대법원 재판연구관, 수원지법 부장판사, 사법연수원 교수, 특허법원 부장판사 등을 거쳐 능력을 인정받았다. 2003년 최종영 대법원장의 지명으로 헌법재판소 재판관을 역임하였다. 경제민주화위원회(위원장 장하성이 소액주주들을 대표해 한보철강 부실대출에 책임이 있는 이철수 전 제일은행장 등 임원 4명을 상대로 제기한 손해배상청구소송에서 서울지방법원 민사합의17부는 1998년 7월 24일에 \"한보철강에 부실 대출하여 은행에 막대한 손해를 끼친 점이 인정된다\"며 \"원고가 배상을 청구한 400억원 전액을 은행에 배상하라\"고 하면서 부실 경영인에 대한 최초의 배상 판결을 했다. 2004년 10월 신행정수도의건설을위한특별조치법 위헌 확인 소송에서 9인의 재판관 중 유일하게 각하 견해를 내었다. 소수의견에서 전효숙 재판관은 다수견해의 문제점을 지적하면서 관습헌법 법리를 부정하였다. 전효숙 재판관은 서울대학교 근대법학교육 백주년 기념관에서 열린 강연에서, 국회가 고도의 정치적인 사안을 정치로 풀기보다는 헌법재판소에 무조건 맡겨서 해결하려는 자세는 헌법재판소에게 부담스럽다며 소회를 밝힌 바 있다. \n",
      "\n"
     ]
    }
   ],
   "metadata": {}
  },
  {
   "cell_type": "code",
   "execution_count": 56,
   "source": [
    "q_val_seqs = tokenizer([test_query], \n",
    "    padding=\"max_length\", \n",
    "    truncation=True, \n",
    "    return_tensors='pt') # question"
   ],
   "outputs": [],
   "metadata": {}
  },
  {
   "cell_type": "code",
   "execution_count": 57,
   "source": [
    "def make_wiki_embedding(p_model, tokenizer, wiki_data) :\n",
    "\n",
    "    print('Tokenizing Wiki Corpus Data')\n",
    "    p_wiki_seqs = tokenizer(wiki_data, \n",
    "        padding=\"max_length\", \n",
    "        truncation=True, \n",
    "        return_tensors='pt'\n",
    "    )\n",
    "\n",
    "    p_embs = []\n",
    "\n",
    "    print('Make Dense Embedding from Wiki Corpus Data')\n",
    "    with torch.no_grad() :\n",
    "        p_wiki_seqs = p_wiki_seqs.to('cuda')\n",
    "        wiki_size = len(wiki_data)\n",
    "        for i in tqdm(range(wiki_size)) :\n",
    "            p_input_ids = p_wiki_seqs['input_ids'][i].unsqueeze(0)\n",
    "            p_attention_mask = p_wiki_seqs['attention_mask'][i].unsqueeze(0)\n",
    "            p_token_type_ids = p_wiki_seqs['token_type_ids'][i].unsqueeze(0)\n",
    "\n",
    "            p_emb_tensor = p_model(input_ids = p_input_ids, \n",
    "                attention_mask = p_attention_mask, \n",
    "                token_type_ids = p_token_type_ids) # (1, hidden_size)\n",
    "\n",
    "            p_embs.append(p_emb_tensor.to('cpu').numpy())        \n",
    "\n",
    "        p_embs = torch.Tensor(p_embs).squeeze(1) # (wiki data size, hidden_size)\n",
    "        p_embs = p_embs.detach().numpy() # torch tensor to numpy ndarray\n",
    "\n",
    "    return p_embs"
   ],
   "outputs": [],
   "metadata": {}
  },
  {
   "cell_type": "code",
   "execution_count": 58,
   "source": [
    "p_wiki_emb = make_wiki_embedding(p_encoder, tokenizer, wiki_data)"
   ],
   "outputs": [
    {
     "output_type": "stream",
     "name": "stdout",
     "text": [
      "Tokenizing Wiki Corpus Data\n",
      "Make Dense Embedding from Wiki Corpus Data\n"
     ]
    },
    {
     "output_type": "display_data",
     "data": {
      "text/plain": [
       "HBox(children=(FloatProgress(value=0.0, max=55963.0), HTML(value='')))"
      ],
      "application/vnd.jupyter.widget-view+json": {
       "version_major": 2,
       "version_minor": 0,
       "model_id": "519a5402ffba41a9bc1554761d232981"
      }
     },
     "metadata": {}
    },
    {
     "output_type": "stream",
     "name": "stdout",
     "text": [
      "\n"
     ]
    }
   ],
   "metadata": {}
  },
  {
   "cell_type": "code",
   "execution_count": 59,
   "source": [
    "print('Wiki Embedding array Shape : %s' %str(p_wiki_emb.shape))"
   ],
   "outputs": [
    {
     "output_type": "stream",
     "name": "stdout",
     "text": [
      "Wiki Embedding array Shape : (55963, 768)\n"
     ]
    }
   ],
   "metadata": {}
  },
  {
   "cell_type": "code",
   "execution_count": 60,
   "source": [
    "def to_cuda(batch):\n",
    "    return tuple(t.cuda() for t in batch)"
   ],
   "outputs": [],
   "metadata": {}
  },
  {
   "cell_type": "code",
   "execution_count": 61,
   "source": [
    "def retrieve(q_model, query, p_embs, topK=10) :\n",
    "\n",
    "    with torch.no_grad() :\n",
    "        q_model.eval()\n",
    " \n",
    "        q_tensor = tokenizer([query], padding=\"max_length\", truncation=True, return_tensors='pt').to('cuda')\n",
    "        q_embs = q_model(**q_tensor).to('cpu').detach().numpy() # (1, hidden_size)\n",
    "\n",
    "    sim_scores = np.matmul(q_embs, p_embs.T)[0]\n",
    "    sim_scores_rank = np.argsort(sim_scores)[::-1]\n",
    "\n",
    "    topk_wiki_index = list(sim_scores_rank[:topK])\n",
    "    topk_sim_score = [sim_scores[i] for i in topk_wiki_index]\n",
    "    return topk_sim_score, topk_wiki_index"
   ],
   "outputs": [],
   "metadata": {}
  },
  {
   "cell_type": "code",
   "execution_count": 62,
   "source": [
    "test_sim_score, test_sim_indices = retrieve(q_encoder, test_query, p_wiki_emb)"
   ],
   "outputs": [],
   "metadata": {}
  },
  {
   "cell_type": "code",
   "execution_count": 63,
   "source": [
    "print('Top 10 Wiki Contexts Indices from test Query')\n",
    "print(test_sim_indices)\n",
    "\n",
    "print('\\nTop 10 Wiki Contexts Simiarlity Scores')\n",
    "print(test_sim_score)"
   ],
   "outputs": [
    {
     "output_type": "stream",
     "name": "stdout",
     "text": [
      "Top 10 Wiki Contexts Indices from test Query\n",
      "[12711, 33998, 5771, 41449, 22427, 5483, 3091, 17173, 14828, 29040]\n",
      "\n",
      "Top 10 Wiki Contexts Simiarlity Scores\n",
      "[183.87338, 183.61378, 183.39635, 183.22435, 183.13113, 183.1278, 183.08435, 183.07104, 182.85785, 182.83836]\n"
     ]
    }
   ],
   "metadata": {}
  },
  {
   "cell_type": "markdown",
   "source": [
    "## Recall@K"
   ],
   "metadata": {}
  },
  {
   "cell_type": "code",
   "execution_count": 64,
   "source": [
    "import matplotlib.pyplot as plt\n",
    "import collections"
   ],
   "outputs": [],
   "metadata": {}
  },
  {
   "cell_type": "code",
   "execution_count": 65,
   "source": [
    "val_data = datasets['validation']"
   ],
   "outputs": [],
   "metadata": {}
  },
  {
   "cell_type": "code",
   "execution_count": 66,
   "source": [
    "pos_data = []\n",
    "\n",
    "for i in tqdm(range(len(val_data))) :\n",
    "    query = val_data['question'][i]\n",
    "    context = val_data['context'][i]\n",
    "\n",
    "    topk_scores, topK_indices = retrieve(q_encoder, query, p_wiki_emb)\n",
    "    topK_contexts = [wiki_data[j] for j in topK_indices]\n",
    "\n",
    "    if context in topK_contexts :\n",
    "        pos_data.append(topK_contexts.index(context))\n",
    "    else :\n",
    "        pos_data.append(-5)\n"
   ],
   "outputs": [
    {
     "output_type": "display_data",
     "data": {
      "text/plain": [
       "HBox(children=(FloatProgress(value=0.0, max=240.0), HTML(value='')))"
      ],
      "application/vnd.jupyter.widget-view+json": {
       "version_major": 2,
       "version_minor": 0,
       "model_id": "51317e505ec645f0a1910d1af04bd911"
      }
     },
     "metadata": {}
    },
    {
     "output_type": "stream",
     "name": "stdout",
     "text": [
      "\n"
     ]
    }
   ],
   "metadata": {}
  },
  {
   "cell_type": "code",
   "execution_count": 67,
   "source": [
    "def visualize(pos_data, name) :\n",
    "    counter = collections.Counter()\n",
    "    counter.update(pos_data)\n",
    "    count_items = sorted(counter.items(), key = lambda x : x[0])\n",
    "\n",
    "    plt.figure(figsize = (8,6))\n",
    "    x_vals = [item[0] for item in count_items]\n",
    "    y_vals = [item[1] for item in count_items]\n",
    "\n",
    "    plt.bar(x_vals, y_vals, 0.75, color = \"skyblue\")\n",
    "    plt.title(name, fontsize=15)\n",
    "  \n",
    "    for i in range(len(y_vals)):\n",
    "        y_val = y_vals[i]\n",
    "        x_val = x_vals[i]\n",
    "        plt.text(x_val , y_val+3, str(y_val), \n",
    "            color = 'blue', fontweight = 'bold')\n",
    "    plt.show()"
   ],
   "outputs": [],
   "metadata": {}
  },
  {
   "cell_type": "code",
   "execution_count": 70,
   "source": [
    "visualize(pos_data, 'klue/bert-base dense embedding Top10')"
   ],
   "outputs": [
    {
     "output_type": "display_data",
     "data": {
      "text/plain": [
       "<Figure size 576x432 with 1 Axes>"
      ],
      "image/svg+xml": "<?xml version=\"1.0\" encoding=\"utf-8\" standalone=\"no\"?>\n<!DOCTYPE svg PUBLIC \"-//W3C//DTD SVG 1.1//EN\"\n  \"http://www.w3.org/Graphics/SVG/1.1/DTD/svg11.dtd\">\n<svg height=\"374.635781pt\" version=\"1.1\" viewBox=\"0 0 490.154777 374.635781\" width=\"490.154777pt\" xmlns=\"http://www.w3.org/2000/svg\" xmlns:xlink=\"http://www.w3.org/1999/xlink\">\n <metadata>\n  <rdf:RDF xmlns:cc=\"http://creativecommons.org/ns#\" xmlns:dc=\"http://purl.org/dc/elements/1.1/\" xmlns:rdf=\"http://www.w3.org/1999/02/22-rdf-syntax-ns#\">\n   <cc:Work>\n    <dc:type rdf:resource=\"http://purl.org/dc/dcmitype/StillImage\"/>\n    <dc:date>2021-11-02T05:25:43.674469</dc:date>\n    <dc:format>image/svg+xml</dc:format>\n    <dc:creator>\n     <cc:Agent>\n      <dc:title>Matplotlib v3.4.3, https://matplotlib.org/</dc:title>\n     </cc:Agent>\n    </dc:creator>\n   </cc:Work>\n  </rdf:RDF>\n </metadata>\n <defs>\n  <style type=\"text/css\">*{stroke-linecap:butt;stroke-linejoin:round;}</style>\n </defs>\n <g id=\"figure_1\">\n  <g id=\"patch_1\">\n   <path d=\"M 0 374.635781 \nL 490.154777 374.635781 \nL 490.154777 0 \nL 0 0 \nz\n\" style=\"fill:none;\"/>\n  </g>\n  <g id=\"axes_1\">\n   <g id=\"patch_2\">\n    <path d=\"M 33.2875 350.757656 \nL 479.6875 350.757656 \nL 479.6875 24.597656 \nL 33.2875 24.597656 \nz\n\" style=\"fill:#ffffff;\"/>\n   </g>\n   <g id=\"patch_3\">\n    <path clip-path=\"url(#pecac23ac05)\" d=\"M 53.578409 350.757656 \nL 74.213232 350.757656 \nL 74.213232 40.129085 \nL 53.578409 40.129085 \nz\n\" style=\"fill:#87ceeb;\"/>\n   </g>\n   <g id=\"patch_4\">\n    <path clip-path=\"url(#pecac23ac05)\" d=\"M 191.143894 350.757656 \nL 211.778717 350.757656 \nL 211.778717 310.16415 \nL 191.143894 310.16415 \nz\n\" style=\"fill:#87ceeb;\"/>\n   </g>\n   <g id=\"patch_5\">\n    <path clip-path=\"url(#pecac23ac05)\" d=\"M 218.656992 350.757656 \nL 239.291814 350.757656 \nL 239.291814 327.8135 \nL 218.656992 327.8135 \nz\n\" style=\"fill:#87ceeb;\"/>\n   </g>\n   <g id=\"patch_6\">\n    <path clip-path=\"url(#pecac23ac05)\" d=\"M 246.170089 350.757656 \nL 266.804911 350.757656 \nL 266.804911 343.697916 \nL 246.170089 343.697916 \nz\n\" style=\"fill:#87ceeb;\"/>\n   </g>\n   <g id=\"patch_7\">\n    <path clip-path=\"url(#pecac23ac05)\" d=\"M 273.683186 350.757656 \nL 294.318008 350.757656 \nL 294.318008 343.697916 \nL 273.683186 343.697916 \nz\n\" style=\"fill:#87ceeb;\"/>\n   </g>\n   <g id=\"patch_8\">\n    <path clip-path=\"url(#pecac23ac05)\" d=\"M 301.196283 350.757656 \nL 321.831106 350.757656 \nL 321.831106 343.697916 \nL 301.196283 343.697916 \nz\n\" style=\"fill:#87ceeb;\"/>\n   </g>\n   <g id=\"patch_9\">\n    <path clip-path=\"url(#pecac23ac05)\" d=\"M 328.70938 350.757656 \nL 349.344203 350.757656 \nL 349.344203 343.697916 \nL 328.70938 343.697916 \nz\n\" style=\"fill:#87ceeb;\"/>\n   </g>\n   <g id=\"patch_10\">\n    <path clip-path=\"url(#pecac23ac05)\" d=\"M 356.222477 350.757656 \nL 376.8573 350.757656 \nL 376.8573 345.462851 \nL 356.222477 345.462851 \nz\n\" style=\"fill:#87ceeb;\"/>\n   </g>\n   <g id=\"patch_11\">\n    <path clip-path=\"url(#pecac23ac05)\" d=\"M 383.735574 350.757656 \nL 404.370397 350.757656 \nL 404.370397 345.462851 \nL 383.735574 345.462851 \nz\n\" style=\"fill:#87ceeb;\"/>\n   </g>\n   <g id=\"patch_12\">\n    <path clip-path=\"url(#pecac23ac05)\" d=\"M 411.248671 350.757656 \nL 431.883494 350.757656 \nL 431.883494 348.992721 \nL 411.248671 348.992721 \nz\n\" style=\"fill:#87ceeb;\"/>\n   </g>\n   <g id=\"patch_13\">\n    <path clip-path=\"url(#pecac23ac05)\" d=\"M 438.761768 350.757656 \nL 459.396591 350.757656 \nL 459.396591 341.932981 \nL 438.761768 341.932981 \nz\n\" style=\"fill:#87ceeb;\"/>\n   </g>\n   <g id=\"matplotlib.axis_1\">\n    <g id=\"xtick_1\">\n     <g id=\"line2d_1\">\n      <defs>\n       <path d=\"M 0 0 \nL 0 3.5 \n\" id=\"md0c957cb5c\" style=\"stroke:#000000;stroke-width:0.8;\"/>\n      </defs>\n      <g>\n       <use style=\"stroke:#000000;stroke-width:0.8;\" x=\"36.382723\" xlink:href=\"#md0c957cb5c\" y=\"350.757656\"/>\n      </g>\n     </g>\n     <g id=\"text_1\">\n      <!-- −6 -->\n      <g transform=\"translate(29.01163 365.356094)scale(0.1 -0.1)\">\n       <defs>\n        <path d=\"M 678 2272 \nL 4684 2272 \nL 4684 1741 \nL 678 1741 \nL 678 2272 \nz\n\" id=\"DejaVuSans-2212\" transform=\"scale(0.015625)\"/>\n        <path d=\"M 2113 2584 \nQ 1688 2584 1439 2293 \nQ 1191 2003 1191 1497 \nQ 1191 994 1439 701 \nQ 1688 409 2113 409 \nQ 2538 409 2786 701 \nQ 3034 994 3034 1497 \nQ 3034 2003 2786 2293 \nQ 2538 2584 2113 2584 \nz\nM 3366 4563 \nL 3366 3988 \nQ 3128 4100 2886 4159 \nQ 2644 4219 2406 4219 \nQ 1781 4219 1451 3797 \nQ 1122 3375 1075 2522 \nQ 1259 2794 1537 2939 \nQ 1816 3084 2150 3084 \nQ 2853 3084 3261 2657 \nQ 3669 2231 3669 1497 \nQ 3669 778 3244 343 \nQ 2819 -91 2113 -91 \nQ 1303 -91 875 529 \nQ 447 1150 447 2328 \nQ 447 3434 972 4092 \nQ 1497 4750 2381 4750 \nQ 2619 4750 2861 4703 \nQ 3103 4656 3366 4563 \nz\n\" id=\"DejaVuSans-36\" transform=\"scale(0.015625)\"/>\n       </defs>\n       <use xlink:href=\"#DejaVuSans-2212\"/>\n       <use x=\"83.789062\" xlink:href=\"#DejaVuSans-36\"/>\n      </g>\n     </g>\n    </g>\n    <g id=\"xtick_2\">\n     <g id=\"line2d_2\">\n      <g>\n       <use style=\"stroke:#000000;stroke-width:0.8;\" x=\"91.408918\" xlink:href=\"#md0c957cb5c\" y=\"350.757656\"/>\n      </g>\n     </g>\n     <g id=\"text_2\">\n      <!-- −4 -->\n      <g transform=\"translate(84.037824 365.356094)scale(0.1 -0.1)\">\n       <defs>\n        <path d=\"M 2419 4116 \nL 825 1625 \nL 2419 1625 \nL 2419 4116 \nz\nM 2253 4666 \nL 3047 4666 \nL 3047 1625 \nL 3713 1625 \nL 3713 1100 \nL 3047 1100 \nL 3047 0 \nL 2419 0 \nL 2419 1100 \nL 313 1100 \nL 313 1709 \nL 2253 4666 \nz\n\" id=\"DejaVuSans-34\" transform=\"scale(0.015625)\"/>\n       </defs>\n       <use xlink:href=\"#DejaVuSans-2212\"/>\n       <use x=\"83.789062\" xlink:href=\"#DejaVuSans-34\"/>\n      </g>\n     </g>\n    </g>\n    <g id=\"xtick_3\">\n     <g id=\"line2d_3\">\n      <g>\n       <use style=\"stroke:#000000;stroke-width:0.8;\" x=\"146.435112\" xlink:href=\"#md0c957cb5c\" y=\"350.757656\"/>\n      </g>\n     </g>\n     <g id=\"text_3\">\n      <!-- −2 -->\n      <g transform=\"translate(139.064018 365.356094)scale(0.1 -0.1)\">\n       <defs>\n        <path d=\"M 1228 531 \nL 3431 531 \nL 3431 0 \nL 469 0 \nL 469 531 \nQ 828 903 1448 1529 \nQ 2069 2156 2228 2338 \nQ 2531 2678 2651 2914 \nQ 2772 3150 2772 3378 \nQ 2772 3750 2511 3984 \nQ 2250 4219 1831 4219 \nQ 1534 4219 1204 4116 \nQ 875 4013 500 3803 \nL 500 4441 \nQ 881 4594 1212 4672 \nQ 1544 4750 1819 4750 \nQ 2544 4750 2975 4387 \nQ 3406 4025 3406 3419 \nQ 3406 3131 3298 2873 \nQ 3191 2616 2906 2266 \nQ 2828 2175 2409 1742 \nQ 1991 1309 1228 531 \nz\n\" id=\"DejaVuSans-32\" transform=\"scale(0.015625)\"/>\n       </defs>\n       <use xlink:href=\"#DejaVuSans-2212\"/>\n       <use x=\"83.789062\" xlink:href=\"#DejaVuSans-32\"/>\n      </g>\n     </g>\n    </g>\n    <g id=\"xtick_4\">\n     <g id=\"line2d_4\">\n      <g>\n       <use style=\"stroke:#000000;stroke-width:0.8;\" x=\"201.461306\" xlink:href=\"#md0c957cb5c\" y=\"350.757656\"/>\n      </g>\n     </g>\n     <g id=\"text_4\">\n      <!-- 0 -->\n      <g transform=\"translate(198.280056 365.356094)scale(0.1 -0.1)\">\n       <defs>\n        <path d=\"M 2034 4250 \nQ 1547 4250 1301 3770 \nQ 1056 3291 1056 2328 \nQ 1056 1369 1301 889 \nQ 1547 409 2034 409 \nQ 2525 409 2770 889 \nQ 3016 1369 3016 2328 \nQ 3016 3291 2770 3770 \nQ 2525 4250 2034 4250 \nz\nM 2034 4750 \nQ 2819 4750 3233 4129 \nQ 3647 3509 3647 2328 \nQ 3647 1150 3233 529 \nQ 2819 -91 2034 -91 \nQ 1250 -91 836 529 \nQ 422 1150 422 2328 \nQ 422 3509 836 4129 \nQ 1250 4750 2034 4750 \nz\n\" id=\"DejaVuSans-30\" transform=\"scale(0.015625)\"/>\n       </defs>\n       <use xlink:href=\"#DejaVuSans-30\"/>\n      </g>\n     </g>\n    </g>\n    <g id=\"xtick_5\">\n     <g id=\"line2d_5\">\n      <g>\n       <use style=\"stroke:#000000;stroke-width:0.8;\" x=\"256.4875\" xlink:href=\"#md0c957cb5c\" y=\"350.757656\"/>\n      </g>\n     </g>\n     <g id=\"text_5\">\n      <!-- 2 -->\n      <g transform=\"translate(253.30625 365.356094)scale(0.1 -0.1)\">\n       <use xlink:href=\"#DejaVuSans-32\"/>\n      </g>\n     </g>\n    </g>\n    <g id=\"xtick_6\">\n     <g id=\"line2d_6\">\n      <g>\n       <use style=\"stroke:#000000;stroke-width:0.8;\" x=\"311.513694\" xlink:href=\"#md0c957cb5c\" y=\"350.757656\"/>\n      </g>\n     </g>\n     <g id=\"text_6\">\n      <!-- 4 -->\n      <g transform=\"translate(308.332444 365.356094)scale(0.1 -0.1)\">\n       <use xlink:href=\"#DejaVuSans-34\"/>\n      </g>\n     </g>\n    </g>\n    <g id=\"xtick_7\">\n     <g id=\"line2d_7\">\n      <g>\n       <use style=\"stroke:#000000;stroke-width:0.8;\" x=\"366.539888\" xlink:href=\"#md0c957cb5c\" y=\"350.757656\"/>\n      </g>\n     </g>\n     <g id=\"text_7\">\n      <!-- 6 -->\n      <g transform=\"translate(363.358638 365.356094)scale(0.1 -0.1)\">\n       <use xlink:href=\"#DejaVuSans-36\"/>\n      </g>\n     </g>\n    </g>\n    <g id=\"xtick_8\">\n     <g id=\"line2d_8\">\n      <g>\n       <use style=\"stroke:#000000;stroke-width:0.8;\" x=\"421.566082\" xlink:href=\"#md0c957cb5c\" y=\"350.757656\"/>\n      </g>\n     </g>\n     <g id=\"text_8\">\n      <!-- 8 -->\n      <g transform=\"translate(418.384832 365.356094)scale(0.1 -0.1)\">\n       <defs>\n        <path d=\"M 2034 2216 \nQ 1584 2216 1326 1975 \nQ 1069 1734 1069 1313 \nQ 1069 891 1326 650 \nQ 1584 409 2034 409 \nQ 2484 409 2743 651 \nQ 3003 894 3003 1313 \nQ 3003 1734 2745 1975 \nQ 2488 2216 2034 2216 \nz\nM 1403 2484 \nQ 997 2584 770 2862 \nQ 544 3141 544 3541 \nQ 544 4100 942 4425 \nQ 1341 4750 2034 4750 \nQ 2731 4750 3128 4425 \nQ 3525 4100 3525 3541 \nQ 3525 3141 3298 2862 \nQ 3072 2584 2669 2484 \nQ 3125 2378 3379 2068 \nQ 3634 1759 3634 1313 \nQ 3634 634 3220 271 \nQ 2806 -91 2034 -91 \nQ 1263 -91 848 271 \nQ 434 634 434 1313 \nQ 434 1759 690 2068 \nQ 947 2378 1403 2484 \nz\nM 1172 3481 \nQ 1172 3119 1398 2916 \nQ 1625 2713 2034 2713 \nQ 2441 2713 2670 2916 \nQ 2900 3119 2900 3481 \nQ 2900 3844 2670 4047 \nQ 2441 4250 2034 4250 \nQ 1625 4250 1398 4047 \nQ 1172 3844 1172 3481 \nz\n\" id=\"DejaVuSans-38\" transform=\"scale(0.015625)\"/>\n       </defs>\n       <use xlink:href=\"#DejaVuSans-38\"/>\n      </g>\n     </g>\n    </g>\n    <g id=\"xtick_9\">\n     <g id=\"line2d_9\">\n      <g>\n       <use style=\"stroke:#000000;stroke-width:0.8;\" x=\"476.592277\" xlink:href=\"#md0c957cb5c\" y=\"350.757656\"/>\n      </g>\n     </g>\n     <g id=\"text_9\">\n      <!-- 10 -->\n      <g transform=\"translate(470.229777 365.356094)scale(0.1 -0.1)\">\n       <defs>\n        <path d=\"M 794 531 \nL 1825 531 \nL 1825 4091 \nL 703 3866 \nL 703 4441 \nL 1819 4666 \nL 2450 4666 \nL 2450 531 \nL 3481 531 \nL 3481 0 \nL 794 0 \nL 794 531 \nz\n\" id=\"DejaVuSans-31\" transform=\"scale(0.015625)\"/>\n       </defs>\n       <use xlink:href=\"#DejaVuSans-31\"/>\n       <use x=\"63.623047\" xlink:href=\"#DejaVuSans-30\"/>\n      </g>\n     </g>\n    </g>\n   </g>\n   <g id=\"matplotlib.axis_2\">\n    <g id=\"ytick_1\">\n     <g id=\"line2d_10\">\n      <defs>\n       <path d=\"M 0 0 \nL -3.5 0 \n\" id=\"m9318da25fc\" style=\"stroke:#000000;stroke-width:0.8;\"/>\n      </defs>\n      <g>\n       <use style=\"stroke:#000000;stroke-width:0.8;\" x=\"33.2875\" xlink:href=\"#m9318da25fc\" y=\"350.757656\"/>\n      </g>\n     </g>\n     <g id=\"text_10\">\n      <!-- 0 -->\n      <g transform=\"translate(19.925 354.556875)scale(0.1 -0.1)\">\n       <use xlink:href=\"#DejaVuSans-30\"/>\n      </g>\n     </g>\n    </g>\n    <g id=\"ytick_2\">\n     <g id=\"line2d_11\">\n      <g>\n       <use style=\"stroke:#000000;stroke-width:0.8;\" x=\"33.2875\" xlink:href=\"#m9318da25fc\" y=\"306.63428\"/>\n      </g>\n     </g>\n     <g id=\"text_11\">\n      <!-- 25 -->\n      <g transform=\"translate(13.5625 310.433498)scale(0.1 -0.1)\">\n       <defs>\n        <path d=\"M 691 4666 \nL 3169 4666 \nL 3169 4134 \nL 1269 4134 \nL 1269 2991 \nQ 1406 3038 1543 3061 \nQ 1681 3084 1819 3084 \nQ 2600 3084 3056 2656 \nQ 3513 2228 3513 1497 \nQ 3513 744 3044 326 \nQ 2575 -91 1722 -91 \nQ 1428 -91 1123 -41 \nQ 819 9 494 109 \nL 494 744 \nQ 775 591 1075 516 \nQ 1375 441 1709 441 \nQ 2250 441 2565 725 \nQ 2881 1009 2881 1497 \nQ 2881 1984 2565 2268 \nQ 2250 2553 1709 2553 \nQ 1456 2553 1204 2497 \nQ 953 2441 691 2322 \nL 691 4666 \nz\n\" id=\"DejaVuSans-35\" transform=\"scale(0.015625)\"/>\n       </defs>\n       <use xlink:href=\"#DejaVuSans-32\"/>\n       <use x=\"63.623047\" xlink:href=\"#DejaVuSans-35\"/>\n      </g>\n     </g>\n    </g>\n    <g id=\"ytick_3\">\n     <g id=\"line2d_12\">\n      <g>\n       <use style=\"stroke:#000000;stroke-width:0.8;\" x=\"33.2875\" xlink:href=\"#m9318da25fc\" y=\"262.510903\"/>\n      </g>\n     </g>\n     <g id=\"text_12\">\n      <!-- 50 -->\n      <g transform=\"translate(13.5625 266.310122)scale(0.1 -0.1)\">\n       <use xlink:href=\"#DejaVuSans-35\"/>\n       <use x=\"63.623047\" xlink:href=\"#DejaVuSans-30\"/>\n      </g>\n     </g>\n    </g>\n    <g id=\"ytick_4\">\n     <g id=\"line2d_13\">\n      <g>\n       <use style=\"stroke:#000000;stroke-width:0.8;\" x=\"33.2875\" xlink:href=\"#m9318da25fc\" y=\"218.387526\"/>\n      </g>\n     </g>\n     <g id=\"text_13\">\n      <!-- 75 -->\n      <g transform=\"translate(13.5625 222.186745)scale(0.1 -0.1)\">\n       <defs>\n        <path d=\"M 525 4666 \nL 3525 4666 \nL 3525 4397 \nL 1831 0 \nL 1172 0 \nL 2766 4134 \nL 525 4134 \nL 525 4666 \nz\n\" id=\"DejaVuSans-37\" transform=\"scale(0.015625)\"/>\n       </defs>\n       <use xlink:href=\"#DejaVuSans-37\"/>\n       <use x=\"63.623047\" xlink:href=\"#DejaVuSans-35\"/>\n      </g>\n     </g>\n    </g>\n    <g id=\"ytick_5\">\n     <g id=\"line2d_14\">\n      <g>\n       <use style=\"stroke:#000000;stroke-width:0.8;\" x=\"33.2875\" xlink:href=\"#m9318da25fc\" y=\"174.26415\"/>\n      </g>\n     </g>\n     <g id=\"text_14\">\n      <!-- 100 -->\n      <g transform=\"translate(7.2 178.063369)scale(0.1 -0.1)\">\n       <use xlink:href=\"#DejaVuSans-31\"/>\n       <use x=\"63.623047\" xlink:href=\"#DejaVuSans-30\"/>\n       <use x=\"127.246094\" xlink:href=\"#DejaVuSans-30\"/>\n      </g>\n     </g>\n    </g>\n    <g id=\"ytick_6\">\n     <g id=\"line2d_15\">\n      <g>\n       <use style=\"stroke:#000000;stroke-width:0.8;\" x=\"33.2875\" xlink:href=\"#m9318da25fc\" y=\"130.140773\"/>\n      </g>\n     </g>\n     <g id=\"text_15\">\n      <!-- 125 -->\n      <g transform=\"translate(7.2 133.939992)scale(0.1 -0.1)\">\n       <use xlink:href=\"#DejaVuSans-31\"/>\n       <use x=\"63.623047\" xlink:href=\"#DejaVuSans-32\"/>\n       <use x=\"127.246094\" xlink:href=\"#DejaVuSans-35\"/>\n      </g>\n     </g>\n    </g>\n    <g id=\"ytick_7\">\n     <g id=\"line2d_16\">\n      <g>\n       <use style=\"stroke:#000000;stroke-width:0.8;\" x=\"33.2875\" xlink:href=\"#m9318da25fc\" y=\"86.017397\"/>\n      </g>\n     </g>\n     <g id=\"text_16\">\n      <!-- 150 -->\n      <g transform=\"translate(7.2 89.816615)scale(0.1 -0.1)\">\n       <use xlink:href=\"#DejaVuSans-31\"/>\n       <use x=\"63.623047\" xlink:href=\"#DejaVuSans-35\"/>\n       <use x=\"127.246094\" xlink:href=\"#DejaVuSans-30\"/>\n      </g>\n     </g>\n    </g>\n    <g id=\"ytick_8\">\n     <g id=\"line2d_17\">\n      <g>\n       <use style=\"stroke:#000000;stroke-width:0.8;\" x=\"33.2875\" xlink:href=\"#m9318da25fc\" y=\"41.89402\"/>\n      </g>\n     </g>\n     <g id=\"text_17\">\n      <!-- 175 -->\n      <g transform=\"translate(7.2 45.693239)scale(0.1 -0.1)\">\n       <use xlink:href=\"#DejaVuSans-31\"/>\n       <use x=\"63.623047\" xlink:href=\"#DejaVuSans-37\"/>\n       <use x=\"127.246094\" xlink:href=\"#DejaVuSans-35\"/>\n      </g>\n     </g>\n    </g>\n   </g>\n   <g id=\"patch_14\">\n    <path d=\"M 33.2875 350.757656 \nL 33.2875 24.597656 \n\" style=\"fill:none;stroke:#000000;stroke-linecap:square;stroke-linejoin:miter;stroke-width:0.8;\"/>\n   </g>\n   <g id=\"patch_15\">\n    <path d=\"M 479.6875 350.757656 \nL 479.6875 24.597656 \n\" style=\"fill:none;stroke:#000000;stroke-linecap:square;stroke-linejoin:miter;stroke-width:0.8;\"/>\n   </g>\n   <g id=\"patch_16\">\n    <path d=\"M 33.2875 350.757656 \nL 479.6875 350.757656 \n\" style=\"fill:none;stroke:#000000;stroke-linecap:square;stroke-linejoin:miter;stroke-width:0.8;\"/>\n   </g>\n   <g id=\"patch_17\">\n    <path d=\"M 33.2875 24.597656 \nL 479.6875 24.597656 \n\" style=\"fill:none;stroke:#000000;stroke-linecap:square;stroke-linejoin:miter;stroke-width:0.8;\"/>\n   </g>\n   <g id=\"text_18\">\n    <!-- 176 -->\n    <g style=\"fill:#0000ff;\" transform=\"translate(63.89582 34.83428)scale(0.1 -0.1)\">\n     <defs>\n      <path d=\"M 750 831 \nL 1813 831 \nL 1813 3847 \nL 722 3622 \nL 722 4441 \nL 1806 4666 \nL 2950 4666 \nL 2950 831 \nL 4013 831 \nL 4013 0 \nL 750 0 \nL 750 831 \nz\n\" id=\"DejaVuSans-Bold-31\" transform=\"scale(0.015625)\"/>\n      <path d=\"M 428 4666 \nL 3944 4666 \nL 3944 3988 \nL 2125 0 \nL 953 0 \nL 2675 3781 \nL 428 3781 \nL 428 4666 \nz\n\" id=\"DejaVuSans-Bold-37\" transform=\"scale(0.015625)\"/>\n      <path d=\"M 2316 2303 \nQ 2000 2303 1842 2098 \nQ 1684 1894 1684 1484 \nQ 1684 1075 1842 870 \nQ 2000 666 2316 666 \nQ 2634 666 2792 870 \nQ 2950 1075 2950 1484 \nQ 2950 1894 2792 2098 \nQ 2634 2303 2316 2303 \nz\nM 3803 4544 \nL 3803 3681 \nQ 3506 3822 3243 3889 \nQ 2981 3956 2731 3956 \nQ 2194 3956 1894 3657 \nQ 1594 3359 1544 2772 \nQ 1750 2925 1990 3001 \nQ 2231 3078 2516 3078 \nQ 3231 3078 3670 2659 \nQ 4109 2241 4109 1563 \nQ 4109 813 3618 361 \nQ 3128 -91 2303 -91 \nQ 1394 -91 895 523 \nQ 397 1138 397 2266 \nQ 397 3422 980 4083 \nQ 1563 4744 2578 4744 \nQ 2900 4744 3203 4694 \nQ 3506 4644 3803 4544 \nz\n\" id=\"DejaVuSans-Bold-36\" transform=\"scale(0.015625)\"/>\n     </defs>\n     <use xlink:href=\"#DejaVuSans-Bold-31\"/>\n     <use x=\"69.580078\" xlink:href=\"#DejaVuSans-Bold-37\"/>\n     <use x=\"139.160156\" xlink:href=\"#DejaVuSans-Bold-36\"/>\n    </g>\n   </g>\n   <g id=\"text_19\">\n    <!-- 23 -->\n    <g style=\"fill:#0000ff;\" transform=\"translate(201.461306 304.869345)scale(0.1 -0.1)\">\n     <defs>\n      <path d=\"M 1844 884 \nL 3897 884 \nL 3897 0 \nL 506 0 \nL 506 884 \nL 2209 2388 \nQ 2438 2594 2547 2791 \nQ 2656 2988 2656 3200 \nQ 2656 3528 2436 3728 \nQ 2216 3928 1850 3928 \nQ 1569 3928 1234 3808 \nQ 900 3688 519 3450 \nL 519 4475 \nQ 925 4609 1322 4679 \nQ 1719 4750 2100 4750 \nQ 2938 4750 3402 4381 \nQ 3866 4013 3866 3353 \nQ 3866 2972 3669 2642 \nQ 3472 2313 2841 1759 \nL 1844 884 \nz\n\" id=\"DejaVuSans-Bold-32\" transform=\"scale(0.015625)\"/>\n      <path d=\"M 2981 2516 \nQ 3453 2394 3698 2092 \nQ 3944 1791 3944 1325 \nQ 3944 631 3412 270 \nQ 2881 -91 1863 -91 \nQ 1503 -91 1142 -33 \nQ 781 25 428 141 \nL 428 1069 \nQ 766 900 1098 814 \nQ 1431 728 1753 728 \nQ 2231 728 2486 893 \nQ 2741 1059 2741 1369 \nQ 2741 1688 2480 1852 \nQ 2219 2016 1709 2016 \nL 1228 2016 \nL 1228 2791 \nL 1734 2791 \nQ 2188 2791 2409 2933 \nQ 2631 3075 2631 3366 \nQ 2631 3634 2415 3781 \nQ 2200 3928 1806 3928 \nQ 1516 3928 1219 3862 \nQ 922 3797 628 3669 \nL 628 4550 \nQ 984 4650 1334 4700 \nQ 1684 4750 2022 4750 \nQ 2931 4750 3382 4451 \nQ 3834 4153 3834 3553 \nQ 3834 3144 3618 2883 \nQ 3403 2622 2981 2516 \nz\n\" id=\"DejaVuSans-Bold-33\" transform=\"scale(0.015625)\"/>\n     </defs>\n     <use xlink:href=\"#DejaVuSans-Bold-32\"/>\n     <use x=\"69.580078\" xlink:href=\"#DejaVuSans-Bold-33\"/>\n    </g>\n   </g>\n   <g id=\"text_20\">\n    <!-- 13 -->\n    <g style=\"fill:#0000ff;\" transform=\"translate(228.974403 322.518695)scale(0.1 -0.1)\">\n     <use xlink:href=\"#DejaVuSans-Bold-31\"/>\n     <use x=\"69.580078\" xlink:href=\"#DejaVuSans-Bold-33\"/>\n    </g>\n   </g>\n   <g id=\"text_21\">\n    <!-- 4 -->\n    <g style=\"fill:#0000ff;\" transform=\"translate(256.4875 338.403111)scale(0.1 -0.1)\">\n     <defs>\n      <path d=\"M 2356 3675 \nL 1038 1722 \nL 2356 1722 \nL 2356 3675 \nz\nM 2156 4666 \nL 3494 4666 \nL 3494 1722 \nL 4159 1722 \nL 4159 850 \nL 3494 850 \nL 3494 0 \nL 2356 0 \nL 2356 850 \nL 288 850 \nL 288 1881 \nL 2156 4666 \nz\n\" id=\"DejaVuSans-Bold-34\" transform=\"scale(0.015625)\"/>\n     </defs>\n     <use xlink:href=\"#DejaVuSans-Bold-34\"/>\n    </g>\n   </g>\n   <g id=\"text_22\">\n    <!-- 4 -->\n    <g style=\"fill:#0000ff;\" transform=\"translate(284.000597 338.403111)scale(0.1 -0.1)\">\n     <use xlink:href=\"#DejaVuSans-Bold-34\"/>\n    </g>\n   </g>\n   <g id=\"text_23\">\n    <!-- 4 -->\n    <g style=\"fill:#0000ff;\" transform=\"translate(311.513694 338.403111)scale(0.1 -0.1)\">\n     <use xlink:href=\"#DejaVuSans-Bold-34\"/>\n    </g>\n   </g>\n   <g id=\"text_24\">\n    <!-- 4 -->\n    <g style=\"fill:#0000ff;\" transform=\"translate(339.026791 338.403111)scale(0.1 -0.1)\">\n     <use xlink:href=\"#DejaVuSans-Bold-34\"/>\n    </g>\n   </g>\n   <g id=\"text_25\">\n    <!-- 3 -->\n    <g style=\"fill:#0000ff;\" transform=\"translate(366.539888 340.168046)scale(0.1 -0.1)\">\n     <use xlink:href=\"#DejaVuSans-Bold-33\"/>\n    </g>\n   </g>\n   <g id=\"text_26\">\n    <!-- 3 -->\n    <g style=\"fill:#0000ff;\" transform=\"translate(394.052985 340.168046)scale(0.1 -0.1)\">\n     <use xlink:href=\"#DejaVuSans-Bold-33\"/>\n    </g>\n   </g>\n   <g id=\"text_27\">\n    <!-- 1 -->\n    <g style=\"fill:#0000ff;\" transform=\"translate(421.566082 343.697916)scale(0.1 -0.1)\">\n     <use xlink:href=\"#DejaVuSans-Bold-31\"/>\n    </g>\n   </g>\n   <g id=\"text_28\">\n    <!-- 5 -->\n    <g style=\"fill:#0000ff;\" transform=\"translate(449.07918 336.638176)scale(0.1 -0.1)\">\n     <defs>\n      <path d=\"M 678 4666 \nL 3669 4666 \nL 3669 3781 \nL 1638 3781 \nL 1638 3059 \nQ 1775 3097 1914 3117 \nQ 2053 3138 2203 3138 \nQ 3056 3138 3531 2711 \nQ 4006 2284 4006 1522 \nQ 4006 766 3489 337 \nQ 2972 -91 2053 -91 \nQ 1656 -91 1267 -14 \nQ 878 63 494 219 \nL 494 1166 \nQ 875 947 1217 837 \nQ 1559 728 1863 728 \nQ 2300 728 2551 942 \nQ 2803 1156 2803 1522 \nQ 2803 1891 2551 2103 \nQ 2300 2316 1863 2316 \nQ 1603 2316 1309 2248 \nQ 1016 2181 678 2041 \nL 678 4666 \nz\n\" id=\"DejaVuSans-Bold-35\" transform=\"scale(0.015625)\"/>\n     </defs>\n     <use xlink:href=\"#DejaVuSans-Bold-35\"/>\n    </g>\n   </g>\n   <g id=\"text_29\">\n    <!-- klue/bert-base dense embedding Top10 -->\n    <g transform=\"translate(107.7625 18.597656)scale(0.15 -0.15)\">\n     <defs>\n      <path d=\"M 581 4863 \nL 1159 4863 \nL 1159 1991 \nL 2875 3500 \nL 3609 3500 \nL 1753 1863 \nL 3688 0 \nL 2938 0 \nL 1159 1709 \nL 1159 0 \nL 581 0 \nL 581 4863 \nz\n\" id=\"DejaVuSans-6b\" transform=\"scale(0.015625)\"/>\n      <path d=\"M 603 4863 \nL 1178 4863 \nL 1178 0 \nL 603 0 \nL 603 4863 \nz\n\" id=\"DejaVuSans-6c\" transform=\"scale(0.015625)\"/>\n      <path d=\"M 544 1381 \nL 544 3500 \nL 1119 3500 \nL 1119 1403 \nQ 1119 906 1312 657 \nQ 1506 409 1894 409 \nQ 2359 409 2629 706 \nQ 2900 1003 2900 1516 \nL 2900 3500 \nL 3475 3500 \nL 3475 0 \nL 2900 0 \nL 2900 538 \nQ 2691 219 2414 64 \nQ 2138 -91 1772 -91 \nQ 1169 -91 856 284 \nQ 544 659 544 1381 \nz\nM 1991 3584 \nL 1991 3584 \nz\n\" id=\"DejaVuSans-75\" transform=\"scale(0.015625)\"/>\n      <path d=\"M 3597 1894 \nL 3597 1613 \nL 953 1613 \nQ 991 1019 1311 708 \nQ 1631 397 2203 397 \nQ 2534 397 2845 478 \nQ 3156 559 3463 722 \nL 3463 178 \nQ 3153 47 2828 -22 \nQ 2503 -91 2169 -91 \nQ 1331 -91 842 396 \nQ 353 884 353 1716 \nQ 353 2575 817 3079 \nQ 1281 3584 2069 3584 \nQ 2775 3584 3186 3129 \nQ 3597 2675 3597 1894 \nz\nM 3022 2063 \nQ 3016 2534 2758 2815 \nQ 2500 3097 2075 3097 \nQ 1594 3097 1305 2825 \nQ 1016 2553 972 2059 \nL 3022 2063 \nz\n\" id=\"DejaVuSans-65\" transform=\"scale(0.015625)\"/>\n      <path d=\"M 1625 4666 \nL 2156 4666 \nL 531 -594 \nL 0 -594 \nL 1625 4666 \nz\n\" id=\"DejaVuSans-2f\" transform=\"scale(0.015625)\"/>\n      <path d=\"M 3116 1747 \nQ 3116 2381 2855 2742 \nQ 2594 3103 2138 3103 \nQ 1681 3103 1420 2742 \nQ 1159 2381 1159 1747 \nQ 1159 1113 1420 752 \nQ 1681 391 2138 391 \nQ 2594 391 2855 752 \nQ 3116 1113 3116 1747 \nz\nM 1159 2969 \nQ 1341 3281 1617 3432 \nQ 1894 3584 2278 3584 \nQ 2916 3584 3314 3078 \nQ 3713 2572 3713 1747 \nQ 3713 922 3314 415 \nQ 2916 -91 2278 -91 \nQ 1894 -91 1617 61 \nQ 1341 213 1159 525 \nL 1159 0 \nL 581 0 \nL 581 4863 \nL 1159 4863 \nL 1159 2969 \nz\n\" id=\"DejaVuSans-62\" transform=\"scale(0.015625)\"/>\n      <path d=\"M 2631 2963 \nQ 2534 3019 2420 3045 \nQ 2306 3072 2169 3072 \nQ 1681 3072 1420 2755 \nQ 1159 2438 1159 1844 \nL 1159 0 \nL 581 0 \nL 581 3500 \nL 1159 3500 \nL 1159 2956 \nQ 1341 3275 1631 3429 \nQ 1922 3584 2338 3584 \nQ 2397 3584 2469 3576 \nQ 2541 3569 2628 3553 \nL 2631 2963 \nz\n\" id=\"DejaVuSans-72\" transform=\"scale(0.015625)\"/>\n      <path d=\"M 1172 4494 \nL 1172 3500 \nL 2356 3500 \nL 2356 3053 \nL 1172 3053 \nL 1172 1153 \nQ 1172 725 1289 603 \nQ 1406 481 1766 481 \nL 2356 481 \nL 2356 0 \nL 1766 0 \nQ 1100 0 847 248 \nQ 594 497 594 1153 \nL 594 3053 \nL 172 3053 \nL 172 3500 \nL 594 3500 \nL 594 4494 \nL 1172 4494 \nz\n\" id=\"DejaVuSans-74\" transform=\"scale(0.015625)\"/>\n      <path d=\"M 313 2009 \nL 1997 2009 \nL 1997 1497 \nL 313 1497 \nL 313 2009 \nz\n\" id=\"DejaVuSans-2d\" transform=\"scale(0.015625)\"/>\n      <path d=\"M 2194 1759 \nQ 1497 1759 1228 1600 \nQ 959 1441 959 1056 \nQ 959 750 1161 570 \nQ 1363 391 1709 391 \nQ 2188 391 2477 730 \nQ 2766 1069 2766 1631 \nL 2766 1759 \nL 2194 1759 \nz\nM 3341 1997 \nL 3341 0 \nL 2766 0 \nL 2766 531 \nQ 2569 213 2275 61 \nQ 1981 -91 1556 -91 \nQ 1019 -91 701 211 \nQ 384 513 384 1019 \nQ 384 1609 779 1909 \nQ 1175 2209 1959 2209 \nL 2766 2209 \nL 2766 2266 \nQ 2766 2663 2505 2880 \nQ 2244 3097 1772 3097 \nQ 1472 3097 1187 3025 \nQ 903 2953 641 2809 \nL 641 3341 \nQ 956 3463 1253 3523 \nQ 1550 3584 1831 3584 \nQ 2591 3584 2966 3190 \nQ 3341 2797 3341 1997 \nz\n\" id=\"DejaVuSans-61\" transform=\"scale(0.015625)\"/>\n      <path d=\"M 2834 3397 \nL 2834 2853 \nQ 2591 2978 2328 3040 \nQ 2066 3103 1784 3103 \nQ 1356 3103 1142 2972 \nQ 928 2841 928 2578 \nQ 928 2378 1081 2264 \nQ 1234 2150 1697 2047 \nL 1894 2003 \nQ 2506 1872 2764 1633 \nQ 3022 1394 3022 966 \nQ 3022 478 2636 193 \nQ 2250 -91 1575 -91 \nQ 1294 -91 989 -36 \nQ 684 19 347 128 \nL 347 722 \nQ 666 556 975 473 \nQ 1284 391 1588 391 \nQ 1994 391 2212 530 \nQ 2431 669 2431 922 \nQ 2431 1156 2273 1281 \nQ 2116 1406 1581 1522 \nL 1381 1569 \nQ 847 1681 609 1914 \nQ 372 2147 372 2553 \nQ 372 3047 722 3315 \nQ 1072 3584 1716 3584 \nQ 2034 3584 2315 3537 \nQ 2597 3491 2834 3397 \nz\n\" id=\"DejaVuSans-73\" transform=\"scale(0.015625)\"/>\n      <path id=\"DejaVuSans-20\" transform=\"scale(0.015625)\"/>\n      <path d=\"M 2906 2969 \nL 2906 4863 \nL 3481 4863 \nL 3481 0 \nL 2906 0 \nL 2906 525 \nQ 2725 213 2448 61 \nQ 2172 -91 1784 -91 \nQ 1150 -91 751 415 \nQ 353 922 353 1747 \nQ 353 2572 751 3078 \nQ 1150 3584 1784 3584 \nQ 2172 3584 2448 3432 \nQ 2725 3281 2906 2969 \nz\nM 947 1747 \nQ 947 1113 1208 752 \nQ 1469 391 1925 391 \nQ 2381 391 2643 752 \nQ 2906 1113 2906 1747 \nQ 2906 2381 2643 2742 \nQ 2381 3103 1925 3103 \nQ 1469 3103 1208 2742 \nQ 947 2381 947 1747 \nz\n\" id=\"DejaVuSans-64\" transform=\"scale(0.015625)\"/>\n      <path d=\"M 3513 2113 \nL 3513 0 \nL 2938 0 \nL 2938 2094 \nQ 2938 2591 2744 2837 \nQ 2550 3084 2163 3084 \nQ 1697 3084 1428 2787 \nQ 1159 2491 1159 1978 \nL 1159 0 \nL 581 0 \nL 581 3500 \nL 1159 3500 \nL 1159 2956 \nQ 1366 3272 1645 3428 \nQ 1925 3584 2291 3584 \nQ 2894 3584 3203 3211 \nQ 3513 2838 3513 2113 \nz\n\" id=\"DejaVuSans-6e\" transform=\"scale(0.015625)\"/>\n      <path d=\"M 3328 2828 \nQ 3544 3216 3844 3400 \nQ 4144 3584 4550 3584 \nQ 5097 3584 5394 3201 \nQ 5691 2819 5691 2113 \nL 5691 0 \nL 5113 0 \nL 5113 2094 \nQ 5113 2597 4934 2840 \nQ 4756 3084 4391 3084 \nQ 3944 3084 3684 2787 \nQ 3425 2491 3425 1978 \nL 3425 0 \nL 2847 0 \nL 2847 2094 \nQ 2847 2600 2669 2842 \nQ 2491 3084 2119 3084 \nQ 1678 3084 1418 2786 \nQ 1159 2488 1159 1978 \nL 1159 0 \nL 581 0 \nL 581 3500 \nL 1159 3500 \nL 1159 2956 \nQ 1356 3278 1631 3431 \nQ 1906 3584 2284 3584 \nQ 2666 3584 2933 3390 \nQ 3200 3197 3328 2828 \nz\n\" id=\"DejaVuSans-6d\" transform=\"scale(0.015625)\"/>\n      <path d=\"M 603 3500 \nL 1178 3500 \nL 1178 0 \nL 603 0 \nL 603 3500 \nz\nM 603 4863 \nL 1178 4863 \nL 1178 4134 \nL 603 4134 \nL 603 4863 \nz\n\" id=\"DejaVuSans-69\" transform=\"scale(0.015625)\"/>\n      <path d=\"M 2906 1791 \nQ 2906 2416 2648 2759 \nQ 2391 3103 1925 3103 \nQ 1463 3103 1205 2759 \nQ 947 2416 947 1791 \nQ 947 1169 1205 825 \nQ 1463 481 1925 481 \nQ 2391 481 2648 825 \nQ 2906 1169 2906 1791 \nz\nM 3481 434 \nQ 3481 -459 3084 -895 \nQ 2688 -1331 1869 -1331 \nQ 1566 -1331 1297 -1286 \nQ 1028 -1241 775 -1147 \nL 775 -588 \nQ 1028 -725 1275 -790 \nQ 1522 -856 1778 -856 \nQ 2344 -856 2625 -561 \nQ 2906 -266 2906 331 \nL 2906 616 \nQ 2728 306 2450 153 \nQ 2172 0 1784 0 \nQ 1141 0 747 490 \nQ 353 981 353 1791 \nQ 353 2603 747 3093 \nQ 1141 3584 1784 3584 \nQ 2172 3584 2450 3431 \nQ 2728 3278 2906 2969 \nL 2906 3500 \nL 3481 3500 \nL 3481 434 \nz\n\" id=\"DejaVuSans-67\" transform=\"scale(0.015625)\"/>\n      <path d=\"M -19 4666 \nL 3928 4666 \nL 3928 4134 \nL 2272 4134 \nL 2272 0 \nL 1638 0 \nL 1638 4134 \nL -19 4134 \nL -19 4666 \nz\n\" id=\"DejaVuSans-54\" transform=\"scale(0.015625)\"/>\n      <path d=\"M 1959 3097 \nQ 1497 3097 1228 2736 \nQ 959 2375 959 1747 \nQ 959 1119 1226 758 \nQ 1494 397 1959 397 \nQ 2419 397 2687 759 \nQ 2956 1122 2956 1747 \nQ 2956 2369 2687 2733 \nQ 2419 3097 1959 3097 \nz\nM 1959 3584 \nQ 2709 3584 3137 3096 \nQ 3566 2609 3566 1747 \nQ 3566 888 3137 398 \nQ 2709 -91 1959 -91 \nQ 1206 -91 779 398 \nQ 353 888 353 1747 \nQ 353 2609 779 3096 \nQ 1206 3584 1959 3584 \nz\n\" id=\"DejaVuSans-6f\" transform=\"scale(0.015625)\"/>\n      <path d=\"M 1159 525 \nL 1159 -1331 \nL 581 -1331 \nL 581 3500 \nL 1159 3500 \nL 1159 2969 \nQ 1341 3281 1617 3432 \nQ 1894 3584 2278 3584 \nQ 2916 3584 3314 3078 \nQ 3713 2572 3713 1747 \nQ 3713 922 3314 415 \nQ 2916 -91 2278 -91 \nQ 1894 -91 1617 61 \nQ 1341 213 1159 525 \nz\nM 3116 1747 \nQ 3116 2381 2855 2742 \nQ 2594 3103 2138 3103 \nQ 1681 3103 1420 2742 \nQ 1159 2381 1159 1747 \nQ 1159 1113 1420 752 \nQ 1681 391 2138 391 \nQ 2594 391 2855 752 \nQ 3116 1113 3116 1747 \nz\n\" id=\"DejaVuSans-70\" transform=\"scale(0.015625)\"/>\n     </defs>\n     <use xlink:href=\"#DejaVuSans-6b\"/>\n     <use x=\"57.910156\" xlink:href=\"#DejaVuSans-6c\"/>\n     <use x=\"85.693359\" xlink:href=\"#DejaVuSans-75\"/>\n     <use x=\"149.072266\" xlink:href=\"#DejaVuSans-65\"/>\n     <use x=\"210.595703\" xlink:href=\"#DejaVuSans-2f\"/>\n     <use x=\"244.287109\" xlink:href=\"#DejaVuSans-62\"/>\n     <use x=\"307.763672\" xlink:href=\"#DejaVuSans-65\"/>\n     <use x=\"369.287109\" xlink:href=\"#DejaVuSans-72\"/>\n     <use x=\"410.400391\" xlink:href=\"#DejaVuSans-74\"/>\n     <use x=\"449.609375\" xlink:href=\"#DejaVuSans-2d\"/>\n     <use x=\"485.693359\" xlink:href=\"#DejaVuSans-62\"/>\n     <use x=\"549.169922\" xlink:href=\"#DejaVuSans-61\"/>\n     <use x=\"610.449219\" xlink:href=\"#DejaVuSans-73\"/>\n     <use x=\"662.548828\" xlink:href=\"#DejaVuSans-65\"/>\n     <use x=\"724.072266\" xlink:href=\"#DejaVuSans-20\"/>\n     <use x=\"755.859375\" xlink:href=\"#DejaVuSans-64\"/>\n     <use x=\"819.335938\" xlink:href=\"#DejaVuSans-65\"/>\n     <use x=\"880.859375\" xlink:href=\"#DejaVuSans-6e\"/>\n     <use x=\"944.238281\" xlink:href=\"#DejaVuSans-73\"/>\n     <use x=\"996.337891\" xlink:href=\"#DejaVuSans-65\"/>\n     <use x=\"1057.861328\" xlink:href=\"#DejaVuSans-20\"/>\n     <use x=\"1089.648438\" xlink:href=\"#DejaVuSans-65\"/>\n     <use x=\"1151.171875\" xlink:href=\"#DejaVuSans-6d\"/>\n     <use x=\"1248.583984\" xlink:href=\"#DejaVuSans-62\"/>\n     <use x=\"1312.060547\" xlink:href=\"#DejaVuSans-65\"/>\n     <use x=\"1373.583984\" xlink:href=\"#DejaVuSans-64\"/>\n     <use x=\"1437.060547\" xlink:href=\"#DejaVuSans-64\"/>\n     <use x=\"1500.537109\" xlink:href=\"#DejaVuSans-69\"/>\n     <use x=\"1528.320312\" xlink:href=\"#DejaVuSans-6e\"/>\n     <use x=\"1591.699219\" xlink:href=\"#DejaVuSans-67\"/>\n     <use x=\"1655.175781\" xlink:href=\"#DejaVuSans-20\"/>\n     <use x=\"1686.962891\" xlink:href=\"#DejaVuSans-54\"/>\n     <use x=\"1731.046875\" xlink:href=\"#DejaVuSans-6f\"/>\n     <use x=\"1792.228516\" xlink:href=\"#DejaVuSans-70\"/>\n     <use x=\"1855.705078\" xlink:href=\"#DejaVuSans-31\"/>\n     <use x=\"1919.328125\" xlink:href=\"#DejaVuSans-30\"/>\n    </g>\n   </g>\n  </g>\n </g>\n <defs>\n  <clipPath id=\"pecac23ac05\">\n   <rect height=\"326.16\" width=\"446.4\" x=\"33.2875\" y=\"24.597656\"/>\n  </clipPath>\n </defs>\n</svg>\n",
      "image/png": "[encoded data removed]"
     },
     "metadata": {
      "needs_background": "light"
     }
    }
   ],
   "metadata": {}
  }
 ],
 "metadata": {
  "orig_nbformat": 4,
  "language_info": {
   "name": "python",
   "version": "3.8.5",
   "mimetype": "text/x-python",
   "codemirror_mode": {
    "name": "ipython",
    "version": 3
   },
   "pygments_lexer": "ipython3",
   "nbconvert_exporter": "python",
   "file_extension": ".py"
  },
  "kernelspec": {
   "name": "python3",
   "display_name": "Python 3.8.5 64-bit ('base': conda)"
  },
  "interpreter": {
   "hash": "98b0a9b7b4eaaa670588a142fd0a9b87eaafe866f1db4228be72b4211d12040f"
  }
 },
 "nbformat": 4,
 "nbformat_minor": 2
}