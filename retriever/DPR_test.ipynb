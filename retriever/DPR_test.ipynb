{
 "cells": [
  {
   "cell_type": "code",
   "execution_count": 1,
   "metadata": {},
   "outputs": [],
   "source": [
    "import torch\n",
    "import torch.nn as nn\n",
    "import torch.nn.functional as F\n",
    "from torch.utils.data import DataLoader, RandomSampler, TensorDataset\n",
    "\n",
    "from typing import List, Tuple, NoReturn, Any, Optional, Union\n",
    "import pandas as pd\n",
    "import numpy as np\n",
    "import random\n",
    "\n",
    "from datasets import (\n",
    "    Dataset,\n",
    "    load_from_disk,\n",
    "    concatenate_datasets,\n",
    ")\n",
    "\n",
    "from tqdm.auto import tqdm, trange\n",
    "import os\n",
    "\n",
    "import datasets\n",
    "from datasets import load_dataset, load_from_disk\n",
    "from transformers import AutoTokenizer, HfArgumentParser\n",
    "import re"
   ]
  },
  {
   "cell_type": "code",
   "execution_count": 2,
   "metadata": {},
   "outputs": [
    {
     "data": {
      "text/plain": [
       "DatasetDict({\n",
       "    train: Dataset({\n",
       "        features: ['__index_level_0__', 'answers', 'context', 'document_id', 'id', 'question', 'title'],\n",
       "        num_rows: 3952\n",
       "    })\n",
       "    validation: Dataset({\n",
       "        features: ['__index_level_0__', 'answers', 'context', 'document_id', 'id', 'question', 'title'],\n",
       "        num_rows: 240\n",
       "    })\n",
       "})"
      ]
     },
     "execution_count": 2,
     "metadata": {},
     "output_type": "execute_result"
    }
   ],
   "source": [
    "dataset = load_from_disk(\"/opt/ml/data/train_dataset\")\n",
    "train_dataset = dataset[\"train\"]\n",
    "valid_dataset = dataset[\"validation\"]\n",
    "dataset"
   ]
  },
  {
   "cell_type": "code",
   "execution_count": 3,
   "metadata": {},
   "outputs": [
    {
     "data": {
      "text/html": [
       "<div>\n",
       "<style scoped>\n",
       "    .dataframe tbody tr th:only-of-type {\n",
       "        vertical-align: middle;\n",
       "    }\n",
       "\n",
       "    .dataframe tbody tr th {\n",
       "        vertical-align: top;\n",
       "    }\n",
       "\n",
       "    .dataframe thead th {\n",
       "        text-align: right;\n",
       "    }\n",
       "</style>\n",
       "<table border=\"1\" class=\"dataframe\">\n",
       "  <thead>\n",
       "    <tr style=\"text-align: right;\">\n",
       "      <th></th>\n",
       "      <th>title</th>\n",
       "      <th>context</th>\n",
       "      <th>question</th>\n",
       "      <th>id</th>\n",
       "      <th>answers</th>\n",
       "      <th>document_id</th>\n",
       "      <th>__index_level_0__</th>\n",
       "    </tr>\n",
       "  </thead>\n",
       "  <tbody>\n",
       "    <tr>\n",
       "      <th>0</th>\n",
       "      <td>전효숙</td>\n",
       "      <td>순천여자고등학교 졸업, 1973년 이화여자대학교를 졸업하고 1975년 제17회 사법...</td>\n",
       "      <td>처음으로 부실 경영인에 대한 보상 선고를 받은 회사는?</td>\n",
       "      <td>mrc-0-003264</td>\n",
       "      <td>{'answer_start': [284], 'text': ['한보철강']}</td>\n",
       "      <td>9027</td>\n",
       "      <td>2146</td>\n",
       "    </tr>\n",
       "    <tr>\n",
       "      <th>1</th>\n",
       "      <td>스토우빌선</td>\n",
       "      <td>요크 카운티 동쪽에 처음으로 여객 열차 운행이 시작한 시점은 1868년 토론토 &amp; ...</td>\n",
       "      <td>스카버러 남쪽과 코보콘그 마을의 철도 노선이 처음 연장된 연도는?</td>\n",
       "      <td>mrc-0-004762</td>\n",
       "      <td>{'answer_start': [146], 'text': ['1871년']}</td>\n",
       "      <td>51765</td>\n",
       "      <td>3106</td>\n",
       "    </tr>\n",
       "    <tr>\n",
       "      <th>2</th>\n",
       "      <td>촐라</td>\n",
       "      <td>촐라 정부\\n 촐라의 정부 체제는 전제군주제였으며,2001 촐라의 군주는 절대적인 ...</td>\n",
       "      <td>촌락에서 운영 위원 후보자 이름을 쓰기위해 사용된 것은?</td>\n",
       "      <td>mrc-1-001810</td>\n",
       "      <td>{'answer_start': [517], 'text': ['나뭇잎']}</td>\n",
       "      <td>15694</td>\n",
       "      <td>1180</td>\n",
       "    </tr>\n",
       "    <tr>\n",
       "      <th>3</th>\n",
       "      <td>백조 기사</td>\n",
       "      <td>프랑스의 십자군 무훈시는 1099년 예루살렘 왕국의 통치자가 된 고드프루아 드 부용...</td>\n",
       "      <td>로타이르가 백조를 구하기 위해 사용한 것은?</td>\n",
       "      <td>mrc-1-000219</td>\n",
       "      <td>{'answer_start': [1109], 'text': ['금대야']}</td>\n",
       "      <td>59536</td>\n",
       "      <td>141</td>\n",
       "    </tr>\n",
       "    <tr>\n",
       "      <th>4</th>\n",
       "      <td>탈관료제화</td>\n",
       "      <td>탈관료제화는 현대사회에서 관료제 성격이 약화되는 현상이다. 현대사회에서 관료제는 약...</td>\n",
       "      <td>의견을 자유롭게 나누는 것은 조직 내 어떤 관계에서 가능한가?</td>\n",
       "      <td>mrc-1-000285</td>\n",
       "      <td>{'answer_start': [386], 'text': ['수평적 관계']}</td>\n",
       "      <td>32991</td>\n",
       "      <td>184</td>\n",
       "    </tr>\n",
       "  </tbody>\n",
       "</table>\n",
       "</div>"
      ],
      "text/plain": [
       "   title                                            context  \\\n",
       "0    전효숙  순천여자고등학교 졸업, 1973년 이화여자대학교를 졸업하고 1975년 제17회 사법...   \n",
       "1  스토우빌선  요크 카운티 동쪽에 처음으로 여객 열차 운행이 시작한 시점은 1868년 토론토 & ...   \n",
       "2     촐라  촐라 정부\\n 촐라의 정부 체제는 전제군주제였으며,2001 촐라의 군주는 절대적인 ...   \n",
       "3  백조 기사  프랑스의 십자군 무훈시는 1099년 예루살렘 왕국의 통치자가 된 고드프루아 드 부용...   \n",
       "4  탈관료제화  탈관료제화는 현대사회에서 관료제 성격이 약화되는 현상이다. 현대사회에서 관료제는 약...   \n",
       "\n",
       "                               question            id  \\\n",
       "0        처음으로 부실 경영인에 대한 보상 선고를 받은 회사는?  mrc-0-003264   \n",
       "1  스카버러 남쪽과 코보콘그 마을의 철도 노선이 처음 연장된 연도는?  mrc-0-004762   \n",
       "2       촌락에서 운영 위원 후보자 이름을 쓰기위해 사용된 것은?  mrc-1-001810   \n",
       "3              로타이르가 백조를 구하기 위해 사용한 것은?  mrc-1-000219   \n",
       "4    의견을 자유롭게 나누는 것은 조직 내 어떤 관계에서 가능한가?  mrc-1-000285   \n",
       "\n",
       "                                       answers  document_id  __index_level_0__  \n",
       "0    {'answer_start': [284], 'text': ['한보철강']}         9027               2146  \n",
       "1   {'answer_start': [146], 'text': ['1871년']}        51765               3106  \n",
       "2     {'answer_start': [517], 'text': ['나뭇잎']}        15694               1180  \n",
       "3    {'answer_start': [1109], 'text': ['금대야']}        59536                141  \n",
       "4  {'answer_start': [386], 'text': ['수평적 관계']}        32991                184  "
      ]
     },
     "execution_count": 3,
     "metadata": {},
     "output_type": "execute_result"
    }
   ],
   "source": [
    "df = valid_dataset.to_pandas()\n",
    "df.head()"
   ]
  },
  {
   "cell_type": "code",
   "execution_count": 4,
   "metadata": {},
   "outputs": [
    {
     "data": {
      "text/plain": [
       "['처음으로 부실 경영인에 대한 보상 선고를 받은 회사는?',\n",
       " '스카버러 남쪽과 코보콘그 마을의 철도 노선이 처음 연장된 연도는?',\n",
       " '촌락에서 운영 위원 후보자 이름을 쓰기위해 사용된 것은?',\n",
       " '로타이르가 백조를 구하기 위해 사용한 것은?',\n",
       " '의견을 자유롭게 나누는 것은 조직 내 어떤 관계에서 가능한가?',\n",
       " '1945년 쇼와천황의 항복 선언이 발표된 라디오 방송은?',\n",
       " '징금수는 서양 자수의 어떤 기법과 같은 기술을 사용하는가?',\n",
       " '다른 과 의사들은 감염내과 전문의들로부터 어떤 것에 대해 조언을 받는가?',\n",
       " '루이 14세의 왕비 마리아 테래사는 어느 나라 공주인가?',\n",
       " '헤자즈 왕국이 실존했던 것은 언제까지인가?',\n",
       " '버드 교장이 5월의 여왕의 대안으로 제시한 것은?',\n",
       " \"인형사'를 만들어낸 것으로 추측되는 사업의 이름은?\",\n",
       " '멘데스가 요원들을 구하기 위해 간 도시는 어디인가?',\n",
       " '교과부의 행동에 화가나 여러명이 사직한 기구의 이름은?',\n",
       " '반대동맹이 공산당과 갈라서겠다고 얘기한 날은 언제인가?',\n",
       " '피어슨이 다시 의회를 해산했던 년도는?',\n",
       " '몽케가 죽은 뒤 쿠릴타이에서 대칸의 지위를 얻은 사람의 이름은?',\n",
       " '이흥구의 사법시험 이야기를 기사로 작성한 곳은?',\n",
       " '남북조 시대에서 이이 씨가 전쟁이 발생했을 때, 생활했던 장소는?',\n",
       " '박지훈은 1라운드에서 몇 순위를 차지했는가?',\n",
       " '데메카론에는 무엇을 풍자하는 이야기가 들어있나요?',\n",
       " '병에 걸려 죽을 확률이 약 25~50%에 달하는 유형의 질병은?',\n",
       " '설리반이 불만을 표시한 대상은 누구인가?',\n",
       " '베소스는 어디서 추방당했는가?',\n",
       " '진전사의 명칭이 드러나는 데 영향을 준 물건은?',\n",
       " '자신의 이상적인 국가관이 스파르타와 닮아 있다고 생각하는 플라톤의 저서는?',\n",
       " '박제된 북극곰이 사망한 날짜는?',\n",
       " '문법 측면에서 더 보수적인 포르투갈어 표준은?',\n",
       " '로스 수장이 살해한 사람은 어느 당 회원인가?',\n",
       " '조경숙왕의 아들인 요자의 친어머니는 누구인가?',\n",
       " '오래플린과 부스의 마지막 계획에 따르면 그들은 어디서 링컨을 납치하려고 했는가?',\n",
       " '김득황이 친일파로 취급되었던 것은 무슨 경력 때문인가?',\n",
       " '레닌이 출간한 책 중 농민의 자발적 참여에 대한 내용이 포함되어있는 것은?',\n",
       " '신란의 동반자가 죽었다고 전해지는 지역은?',\n",
       " '칭자오의 머리가 엄청난 위력을 발휘할 수 없게 된 것은 누구 때문인가?',\n",
       " '해초나 조류 표면에서 자라는 유기체 중 가장 비율이 높은 것은?',\n",
       " '류한욱이 두 번째 뇌출혈로 쓰러진 공간은?',\n",
       " '로마의 공성무기에 대한 기록을 남긴 사람은?',\n",
       " '동반자 등록제를 최초로 실시한 중국의 도시는?',\n",
       " '장대호가 사용한 흉기는?',\n",
       " '스뮈츠에게 학비를 지원해 준 사람은?',\n",
       " '브루투스가 세운도시의 현재 이름은?',\n",
       " '일본의 대학 입시는 며칠간 진행되는가?',\n",
       " '국내 화엄종의 선구자는 누구인가?',\n",
       " '다케다 노부히로가 통치한 지역은 어디인가?',\n",
       " '둥근 해자를 건너는 다리 난간에는 어떤 신화의 내용이 새겨져 있나?',\n",
       " '우나동의 주요 식재료는?',\n",
       " '제2차 세계 대전 이후 동부 갈리치아 지방은 누구에게 지배를 받았는가?',\n",
       " '치환과 결합되어 파이스텔 암호 사용을 가능케 하는 것은?',\n",
       " '적색육을 지칭하는 또 다른 이름은?',\n",
       " '정민과 이별한 이후 옥림의 매력에 마음을 빼앗겨버린 인물은?',\n",
       " '슈트레제만이 이끌었던 당은 무엇인가?',\n",
       " '닛폰 제지 시라오이 공장과 가까운 역은?',\n",
       " '벽에 천녀를 그리기 전에 하는 밑작업은?',\n",
       " '합천에서 나루터 역할을 대신하고 있는 것은?',\n",
       " '독일의 취업자들이 주로 기술을 습득한 방법은?',\n",
       " '김준연은 김구가 누구와 몰래 교류하고 있다고 주장했나요?',\n",
       " '당산제를 시행하던 날은 언제였는가?',\n",
       " '육조혜능의 이름을 모방한 불교의 종파는?',\n",
       " '더우징퉁의 부모가 결혼한 곳은 어디인가?',\n",
       " '벨기에가 리에주 전투에서 맞서 싸운 상대방은?',\n",
       " '아킬레 라티가 추기경으로 추대된 해는?',\n",
       " '제나라가 쇠약해진 시기는?',\n",
       " '갈라파고스 제도의 9월 날씨에 무엇이 계속 오는가?',\n",
       " '진행 천궁도의 가치는 무엇의 형태에 영향을 받나요?',\n",
       " '서울 주변에서 자주 볼 수 없는 불상은?',\n",
       " '교황 비오 11세가 사망한 연도는?',\n",
       " '닭의 관절 재생을 유도할 수 있는 재생 기술은?',\n",
       " '엘디 서쪽 리틀강에 위차하는 마을은?',\n",
       " '몽양 여운형의 아버지 이름은 무엇인가요?',\n",
       " '부처의 몸에서 뿜어져 나오는 빛을 형상화한 것은 무엇인가?',\n",
       " '2012년 당시 곽태휘의 소속팀은?',\n",
       " '교황의 문장에서 교차한 금빛 열쇠와 은빛 열쇠가 뜻하는 바는?',\n",
       " '돌을 캐고 난 빈 채석장은 어떠한 용도로 이용하였나?',\n",
       " '러셀의 여자 친구의 종교는?',\n",
       " '쿠데타를 위해 초대된 나폴레옹의 수하는?',\n",
       " '엠넷미디어와 YG엔터테인먼트는 각자 상대방의 무엇을 얻어 협력관계를 맺었는가?',\n",
       " '할더가 히틀러의 공격안을 반대한 결과는?',\n",
       " '대한민국 민법에서 채권의 권리가 누구에게 있으면 채권이 사라지지 않는다고 명시하는가?',\n",
       " '이베이의 계산 방법으로 아디옌이 많이 보급될수록 필요성이 없어지는 결제 방법은?',\n",
       " '일본 프로 야구에서 처음으로 가쿠사다마를 사용한 선수는?',\n",
       " '수를 놓을 때에 사용하는 기법 중 아주 작은 점으로 표현하는 방식은?',\n",
       " '각룡류 중에서 가장 짧은 프릴을 가지고 있는 공룡은?',\n",
       " '러시앤캐시는 광고를 통해 어떤 회사라는 이미지에서 탈피하고 싶어하는가?',\n",
       " '1954년 샤넬이 프랑스로 돌아오기 전 머무르던 국가는?',\n",
       " '경제학의 어떤 개념을 통해 개방경지제의 공동 방목지가 능률이 떨어지는 이유를 이해할 수 있는가?',\n",
       " '쿠에바가 생각하는 자본주의 체제는?',\n",
       " '와그너가 국내 건강보험과 민생을 위해 입법하는 것에 열정적으로 지지했던 인물은?',\n",
       " '무위의 오랑캐들의 횡포로 길이 끊긴 사실을 소칙에게 알린 사람의 관직은?',\n",
       " '요미우리가 먼저 에가와를 지명할 수 없게 만든 구단은?',\n",
       " '충주 조동리유적의 존재 사실을 언제 알게 되었는가?',\n",
       " '뱌쿠롄과 레이무 일행은 어떤 철학 때문에 싸우게 되었나?',\n",
       " '견훤에게 살해당한 인물과 함께 태조를 대접한 왕은?',\n",
       " '인도 총리에게 말라리아와 루푸스 치료제를 보내달라고 요구한 인물은?',\n",
       " '1831년 조선 대목구의 첫 주교 직위를 맡은 사람은?',\n",
       " '탱화는 어느 종교와 관련이 있는가?',\n",
       " '천체 관측과 동시에 고도와 방위각을 알 수 있는 망원경은?',\n",
       " '철도보다 자가용 이용이 많아지면서, 히사쓰 오렌지 철도 노선의 대항마로 부상한 것은?',\n",
       " '태양이 대부분 철로 이루어지지 않음을 발견한 인물은?',\n",
       " '클라이언트이자 서버인 경우가 많아지는 상황에서 변화가 생기고 있는 환경은?',\n",
       " '캐서린 스윈포드의 언니의 직업은?',\n",
       " '메테스키가 최초로 폭탄을 설치하였던 지역은?',\n",
       " '시노하라에 의하면 아인슈타인은 무엇으로 원자폭탄 제작에 도움을 주었는가?',\n",
       " '주이로부터 문흠의 가짜 항복 소식을 들은 인물은?',\n",
       " '콘스탄스를 죽인 것은 누구인가?',\n",
       " '댈러스 이전에 법무장관 직을 거부한 인물은 어디 출신인가요?',\n",
       " '로얄 살롱에 부착된 후면 번호판의 기존 위치는 어디인가?',\n",
       " '카르가 반대입장으로 돌아서자 반란세력이 진행한 것은?',\n",
       " '팔라바국이 9세기 초까지 텔랑가나와 타밀나두 북쪽 지역을 다스린 기간은?',\n",
       " '어느정도 규모 이상의 대회에서 깃털 셔틀콕만을 사용하는 이유는?',\n",
       " '한일생명 축구단의 감독에게 감사패를 준 축제가 열린 해는?',\n",
       " '교황에 의해 새롭게 토지 개발된 최초의 관리지역은?',\n",
       " '2003년 세계 태권도 선수권 대회가 개최되었던 장소는?',\n",
       " '슘페터는 경제적 이윤도 전혀 발생시키지 않고 아무 발전이 없는 사회를 무엇이라 정의했나?',\n",
       " '트레이 파커가 목소리를 맡은 등장인물의 자식은 누구인가?',\n",
       " '뒤러는 어디에 코뿔소를 그렸는가?',\n",
       " '받침 굽에 새겨져 있는 글자의 수는?',\n",
       " '상사병으로 사망한 소녀의 장례식이 열린 곳은 어디인가?',\n",
       " '러시아에 있는 다량의 천연자원을 약탈하려했던 계획은?',\n",
       " '냉대 동계 소우 기후의 w는 무엇의 약자인가?',\n",
       " '이인국 박사가 석방되는 결과를 가져온 병은?',\n",
       " '생산물 중 다른 물건을 만들기 위해 사용되는 것은?',\n",
       " '동기부여적 설명이 효과가 있는지 알아내기 위해 현재 연구되고 있는 것은 무엇인가?',\n",
       " '코로나를 발생시키는 것은?',\n",
       " '애니미즘만을 믿던 세부아노족들에게 전파된 외부 종교는?',\n",
       " '아이오와주에 수많은 산업체들이 들어오기 시작한 것은 언제인가?',\n",
       " '제10군단의 아퀼리페르가 아퀼라를 든 채 배 밖으로 뛰어들었을 당시, 카이사르군대가 두려워한 대상은?',\n",
       " '《악마는 프라다를 입는다》은 어느 국가의 영화인가요?',\n",
       " '161개의 집터 근처에서 발견된 석실묘의 개수는?',\n",
       " '송나라가 돈을 지불하여 피하고자 했던 것은?',\n",
       " '마이어의 사인은?',\n",
       " '장면을 가톨릭 성자로 추앙하려 했던 사람은?',\n",
       " '김준연은 김옥성과 몇 년간 함께 살았나요?',\n",
       " '석탄기 다음 시대는?',\n",
       " '돈대에서 무너져내린 포좌부분이 있는 위치는?',\n",
       " '기렌 총수가 살해당한 직후에 파괴된 군함은?',\n",
       " '크레센티우스 2세가 받은 형벌은?',\n",
       " '왕필과 함께 대표적인 현학자로 불리며 《장자》에 주석을 단 사람은?',\n",
       " '요시카와 하루오의 어린시절 역을 맡은 성우는?',\n",
       " '반바리사이파의 반발을 불러일으킨 원인은 누구의 사망이었나요?',\n",
       " '외국어영화상 위원회에서 최종 후보 다섯 편을 추리는 방법은?',\n",
       " '쿠데타가 있었던 회차는?',\n",
       " '스즈키 증장이 전사할 당시에 타고 있던 것은?',\n",
       " '전자부품에 특화된 종합물류서비스를 제공하는 기업의 모회사는?',\n",
       " '네이딘의 하나뿐인 친구는?',\n",
       " '바이마르 정부가 화폐를 수없이 찍어낸 이유는?',\n",
       " '본국 의회가 제정한 선언법은 식민지와 관련하여 무엇을 의미하는가?',\n",
       " '효율적인 운영을 도와주는 열차선 배치 방법은?',\n",
       " '쓰치야 히로시가 마지막으로 활동한 해는?',\n",
       " '어피인장함의 뒷면에 붙은 경첩은 무엇의 형태인가?',\n",
       " '예루살렘의 공방전이 지속된 기간은?',\n",
       " '길버트 J. 체크 중령이 7월 23일 저녁에 공격을 막기 위해 준비한 곳은 어디 주변이었나?',\n",
       " '조선의 민족대표들이 조선이 독립국임을 선언한 곳은?',\n",
       " 'Mr.9은 라분을 무엇으로 사용하려고 했는가?',\n",
       " '1881년 리비에르의 목적지는?',\n",
       " '거북이가 더 나쁘다고 하는 사람들이 문제삼는 것은?',\n",
       " '비슷한 양의 골편이 두종류가 발견되는것으로 알 수 있는 A.수페르스테스의 몸의 형태는?',\n",
       " '성당의 서쪽과 남쪽 부분에 난방이 가능해진 시기는?',\n",
       " '빔비사라가 왕위에 오른 뒤 마가다가 지배권을 얻은 도시는 어디인가?',\n",
       " '1835년 선출된 텍사스 지원군 지휘관이 제임스 보이에게 임명한 직책은?',\n",
       " '2011년이후 세력이 약해진 조직은?',\n",
       " '확증편향이라는 단어를 처음으로 인용한 것은 누구인가?',\n",
       " '입자들의 속도가 줄 때, 방출되는 에너지가 만들어내는 것은?',\n",
       " '10월 1일 북진으로 압록강 근처까지 전쟁 지역을 이르게 한 부대는?',\n",
       " '캠벨에게 원주민 성직자 양성의 중요성을 일깨워준 사람은?',\n",
       " '학생들이 선생님과 같은 열정과 에너지를 가지게 되는 것은 무엇을 통해서인가?',\n",
       " '토큰링이 빠른 속도로 퇴보하는데 영향을 준 기술은?',\n",
       " '중고령자의 채취업 활성화로 경제 주체마저 옮겨가는 바람에 생기는 부작용 중 하나는?',\n",
       " '1901년에 연기로 인해 타격을 받아 황폐한 마을이 되어버린 곳은?',\n",
       " '조현병은 무엇으로 오해하기 쉬운가?',\n",
       " '탄수화물의 최종적 분해가 이루어지는 곳은?',\n",
       " '수행에 대해 근본적으로 의문을 제기함으로써 영적 수행자의 수행 의지를 갉아먹는 것은 무엇인가?',\n",
       " '알베르가 에마뉘엘을 \"성 에마뉘엘\"로 부른 것은 무엇 때문인가?',\n",
       " '네거티브 광고를 할 때 기업은 법적인 문제 외에 또 무엇을 생각해야 하는가?',\n",
       " '아길루프의 요구에 의해 보니파시오 4세에게 서신을 쓴 사람은?',\n",
       " '나오치카는 주살의 위험을 피해 누구의 영지로 도망갔나요?',\n",
       " '기타 케이스에 기타 외의 물건이 있는 인물은 어떤 역할 인가요?',\n",
       " '《탄이초》의 작자에 가장 적합한 인물로 알려진 것은?',\n",
       " '베르니츠 강과 라슈트 강이 만나는 곳 부근에서 코네티컷 연대와 만나 전투를 벌였던 프랑스 부대는 어디인가?',\n",
       " '면역력이 약해져서 아시클로버의 약효가 발휘되지 않을 때 쓰는 것은 무엇인가?',\n",
       " '동맹항에서의 교역에서 세금을 내지 않으려면 지참해야 하는 것은 무엇인가?',\n",
       " '동궁전 화재에서 인종을 구한 사람은 누구인가?',\n",
       " \"굿보이'에 대한 비판글이 올라온 곳은?\",\n",
       " '봉은사 영산전 석가불상의 색을 다시 칠한 시기는?',\n",
       " '코페르니쿠스의 지동설에 대한 내용으로 그의 사후에 발간된 책은?',\n",
       " '요나미네가 야쿠자 팬으로부터 협박을 받았던 도시는 어디였는가?',\n",
       " '박정희 전 대통령이 활주로가 있던 자리에 새로 지은 것은?',\n",
       " '행정청사 옥상으로 피신했던 직원들이 알고 있었던 쓰나미의 높이는?',\n",
       " '윤진학이 동아찬영회에 들어가기 전에 속해있었던 곳은?',\n",
       " '태양풍을 멈추게 하는 것과 말단 충격의 틈을 무엇이라 부르는가?',\n",
       " '여자가 안드레우치오의 디 피에트로에 대한 정보를 얻었던 인물은?',\n",
       " '<석탄형성에 관한 관찰 기록>은 무엇에 관한 내용인가?',\n",
       " '아이작 웨인의 아버지가 세상을 떠난 것은 몇 년도인가?',\n",
       " '타코벨과 달리 대한민국에서 많은 성과를 달성했던 업체는?',\n",
       " '8월 18일 대구역 근처에 박격포를 쏜 적군은 어디에서 침투했나?',\n",
       " '1988년에 영국에 있는 파커의 공장을 찾아온 정치인은?',\n",
       " '소프트웨어 공학이 이전과는 다른 분야로 나아가게 된 계기는?',\n",
       " '아카키우스 분열은 얼마나 유지됐는가?',\n",
       " '브라니미르의 뒤를 이어 크로아티아 공작의 직위를 승계받은 인물은?',\n",
       " '볼드윈이 \"당신들은 나를 야유합니까?\"라는 말을 한 연도는?',\n",
       " '대형 변압기 수송에 사용되는 전용선은?',\n",
       " '타지마할의 실제 구조를 밝히는데 도움을 준 것은?',\n",
       " '자기장의 강도가 높아짐에 따라 페르미 면 외부로 옮겨지는 것의 명칭은?',\n",
       " '나가시마의 은퇴경기는 무엇 때문에 미뤄졌나?',\n",
       " '그녀의 첫 작품이 데뷔한 곳은?',\n",
       " '송이 금에게 바친 공물은 은 30만량과 비단 몇 필인가?',\n",
       " '미래의 군사 능력은 무엇의 능력에 의해 결정되는가?',\n",
       " '카를로 말라테스타가 포로로 잡혀간 전쟁은?',\n",
       " '푸에르토리코의 미카엘 곤살레스 선수가 참가하고자 했던 동계올림픽의 종목은?',\n",
       " '마오를 직접적으로 죽인 사람은?',\n",
       " '워너가 자신의 회사를 매도했던 해는?',\n",
       " '조르댕의 딸은 누구를 좋아하는가?',\n",
       " '동도서기라는 구호를 사용한 나라에서 처음 서구화와 접한 시기는?',\n",
       " '극처럼 점단위 공격이 가능한 무기는?',\n",
       " '미국 남부 지방에서 급격하게 영국산 제품이 많이 팔린 계기가 된 조치는?',\n",
       " '샤이닝 폼을 무엇이라고 칭하기도 하나요?',\n",
       " '악단이 재정적으로 힘들 때 단원들은 어디서 돈을 벌었는가?',\n",
       " '정부의 성향이 진보에 가까울 때 사법적극주의를 띠는 법원은 어떤 성향을 갖나?',\n",
       " '블랙워치의 지도자가 게임에서 불리는 이름은 무엇인가?',\n",
       " '통합진보당 해산 청구에 관한 안건을 의결한 기구는?',\n",
       " '화순 춘산영당에 소장된 최익현의 초상화는 무엇에다 그린 것인가?',\n",
       " '제6회 전조선축구대회가 진행된 기간은?',\n",
       " '대제학을 지낼 수 있는 유일한 사람은?',\n",
       " '센니치마에 선의 관리권은 어디에 있나?',\n",
       " '배현경과 신숭겸 등이 일을 꾀하여 찾아간 인물의 부인은 누구인가?',\n",
       " '십자군 설교를 통해 집한한 자들은?',\n",
       " \"한국을 '형제의 나라'라고 칭한 나라는 어디인가요?\",\n",
       " '정상적인 조건에서 아라키돈 산이 염증을 일으키는데 필요한 물질은?',\n",
       " '페루치가 피사에서 한달을 지체한 이유는 무엇인가?',\n",
       " '갑훈에 의해 1천만여 전의 뇌물을 받았다는 사실이 밝혀진 인물은?',\n",
       " '성직자들의 실체에 대해 말한 용병의 기사는 누가 작성하였나요?',\n",
       " '러셀은 누구의 가족과 함께 1889년 파리 박람회에 갔는가?',\n",
       " '1표로 간주하기 위한 의견 수렴 방식은?',\n",
       " '데이비드 스튜어트는 누구의 해독방법을 다른 지협 문자 자료에 적용해보았나요?',\n",
       " '인적 성과와 더불어 기업의 성과를 평가하는 요소는?',\n",
       " '전단이 연나라와의 전쟁에서 승리했을 당시 제나라의 왕은 누구인가?',\n",
       " '공놀이 경기장 중 일부는 어디에 위치하고 있나?',\n",
       " '창씨개명령의 시행일을 미루는 것을 수락한 인물은?',\n",
       " '망코 잉카가 쿠스코를 되찾기 위해 마련한 군사는 총 몇 명인가?',\n",
       " '마르크스주의자들의 사상은?']"
      ]
     },
     "execution_count": 4,
     "metadata": {},
     "output_type": "execute_result"
    }
   ],
   "source": [
    "test = df.question.tolist()\n",
    "test"
   ]
  },
  {
   "cell_type": "code",
   "execution_count": 6,
   "metadata": {},
   "outputs": [
    {
     "data": {
      "text/html": [
       "<div>\n",
       "<style scoped>\n",
       "    .dataframe tbody tr th:only-of-type {\n",
       "        vertical-align: middle;\n",
       "    }\n",
       "\n",
       "    .dataframe tbody tr th {\n",
       "        vertical-align: top;\n",
       "    }\n",
       "\n",
       "    .dataframe thead th {\n",
       "        text-align: right;\n",
       "    }\n",
       "</style>\n",
       "<table border=\"1\" class=\"dataframe\">\n",
       "  <thead>\n",
       "    <tr style=\"text-align: right;\">\n",
       "      <th></th>\n",
       "      <th>title</th>\n",
       "      <th>context</th>\n",
       "      <th>question</th>\n",
       "      <th>id</th>\n",
       "      <th>answers</th>\n",
       "      <th>document_id</th>\n",
       "      <th>__index_level_0__</th>\n",
       "    </tr>\n",
       "  </thead>\n",
       "  <tbody>\n",
       "    <tr>\n",
       "      <th>0</th>\n",
       "      <td>전효숙</td>\n",
       "      <td>처음으로 부실 경영인에 대한 보상 선고를 받은 회사는?</td>\n",
       "      <td>처음으로 부실 경영인에 대한 보상 선고를 받은 회사는?</td>\n",
       "      <td>mrc-0-003264</td>\n",
       "      <td>{'answer_start': [284], 'text': ['한보철강']}</td>\n",
       "      <td>9027</td>\n",
       "      <td>2146</td>\n",
       "    </tr>\n",
       "    <tr>\n",
       "      <th>1</th>\n",
       "      <td>스토우빌선</td>\n",
       "      <td>스카버러 남쪽과 코보콘그 마을의 철도 노선이 처음 연장된 연도는?</td>\n",
       "      <td>스카버러 남쪽과 코보콘그 마을의 철도 노선이 처음 연장된 연도는?</td>\n",
       "      <td>mrc-0-004762</td>\n",
       "      <td>{'answer_start': [146], 'text': ['1871년']}</td>\n",
       "      <td>51765</td>\n",
       "      <td>3106</td>\n",
       "    </tr>\n",
       "    <tr>\n",
       "      <th>2</th>\n",
       "      <td>촐라</td>\n",
       "      <td>촌락에서 운영 위원 후보자 이름을 쓰기위해 사용된 것은?</td>\n",
       "      <td>촌락에서 운영 위원 후보자 이름을 쓰기위해 사용된 것은?</td>\n",
       "      <td>mrc-1-001810</td>\n",
       "      <td>{'answer_start': [517], 'text': ['나뭇잎']}</td>\n",
       "      <td>15694</td>\n",
       "      <td>1180</td>\n",
       "    </tr>\n",
       "    <tr>\n",
       "      <th>3</th>\n",
       "      <td>백조 기사</td>\n",
       "      <td>로타이르가 백조를 구하기 위해 사용한 것은?</td>\n",
       "      <td>로타이르가 백조를 구하기 위해 사용한 것은?</td>\n",
       "      <td>mrc-1-000219</td>\n",
       "      <td>{'answer_start': [1109], 'text': ['금대야']}</td>\n",
       "      <td>59536</td>\n",
       "      <td>141</td>\n",
       "    </tr>\n",
       "    <tr>\n",
       "      <th>4</th>\n",
       "      <td>탈관료제화</td>\n",
       "      <td>의견을 자유롭게 나누는 것은 조직 내 어떤 관계에서 가능한가?</td>\n",
       "      <td>의견을 자유롭게 나누는 것은 조직 내 어떤 관계에서 가능한가?</td>\n",
       "      <td>mrc-1-000285</td>\n",
       "      <td>{'answer_start': [386], 'text': ['수평적 관계']}</td>\n",
       "      <td>32991</td>\n",
       "      <td>184</td>\n",
       "    </tr>\n",
       "  </tbody>\n",
       "</table>\n",
       "</div>"
      ],
      "text/plain": [
       "   title                               context  \\\n",
       "0    전효숙        처음으로 부실 경영인에 대한 보상 선고를 받은 회사는?   \n",
       "1  스토우빌선  스카버러 남쪽과 코보콘그 마을의 철도 노선이 처음 연장된 연도는?   \n",
       "2     촐라       촌락에서 운영 위원 후보자 이름을 쓰기위해 사용된 것은?   \n",
       "3  백조 기사              로타이르가 백조를 구하기 위해 사용한 것은?   \n",
       "4  탈관료제화    의견을 자유롭게 나누는 것은 조직 내 어떤 관계에서 가능한가?   \n",
       "\n",
       "                               question            id  \\\n",
       "0        처음으로 부실 경영인에 대한 보상 선고를 받은 회사는?  mrc-0-003264   \n",
       "1  스카버러 남쪽과 코보콘그 마을의 철도 노선이 처음 연장된 연도는?  mrc-0-004762   \n",
       "2       촌락에서 운영 위원 후보자 이름을 쓰기위해 사용된 것은?  mrc-1-001810   \n",
       "3              로타이르가 백조를 구하기 위해 사용한 것은?  mrc-1-000219   \n",
       "4    의견을 자유롭게 나누는 것은 조직 내 어떤 관계에서 가능한가?  mrc-1-000285   \n",
       "\n",
       "                                       answers  document_id  __index_level_0__  \n",
       "0    {'answer_start': [284], 'text': ['한보철강']}         9027               2146  \n",
       "1   {'answer_start': [146], 'text': ['1871년']}        51765               3106  \n",
       "2     {'answer_start': [517], 'text': ['나뭇잎']}        15694               1180  \n",
       "3    {'answer_start': [1109], 'text': ['금대야']}        59536                141  \n",
       "4  {'answer_start': [386], 'text': ['수평적 관계']}        32991                184  "
      ]
     },
     "execution_count": 6,
     "metadata": {},
     "output_type": "execute_result"
    }
   ],
   "source": [
    "df.context = test\n",
    "df.head()"
   ]
  },
  {
   "cell_type": "code",
   "execution_count": 3,
   "metadata": {},
   "outputs": [],
   "source": [
    "model_checkpoint = \"klue/roberta-large\"\n",
    "tokenizer = AutoTokenizer.from_pretrained(model_checkpoint)"
   ]
  },
  {
   "cell_type": "code",
   "execution_count": null,
   "metadata": {},
   "outputs": [],
   "source": []
  },
  {
   "cell_type": "code",
   "execution_count": 42,
   "metadata": {},
   "outputs": [
    {
     "ename": "FileNotFoundError",
     "evalue": "[Errno 2] No such file or directory: '/opt/ml/data/bm25/bm25_top5_pp1_val.csv'",
     "output_type": "error",
     "traceback": [
      "\u001b[0;31m---------------------------------------------------------------------------\u001b[0m",
      "\u001b[0;31mFileNotFoundError\u001b[0m                         Traceback (most recent call last)",
      "\u001b[0;32m/tmp/ipykernel_1103/2726798161.py\u001b[0m in \u001b[0;36m<module>\u001b[0;34m\u001b[0m\n\u001b[0;32m----> 1\u001b[0;31m \u001b[0mdf\u001b[0m \u001b[0;34m=\u001b[0m \u001b[0mpd\u001b[0m\u001b[0;34m.\u001b[0m\u001b[0mread_csv\u001b[0m\u001b[0;34m(\u001b[0m\u001b[0;34m\"/opt/ml/data/bm25/bm25_top5_pp1_val.csv\"\u001b[0m\u001b[0;34m)\u001b[0m\u001b[0;34m\u001b[0m\u001b[0;34m\u001b[0m\u001b[0m\n\u001b[0m\u001b[1;32m      2\u001b[0m \u001b[0mdf\u001b[0m\u001b[0;34m.\u001b[0m\u001b[0mhead\u001b[0m\u001b[0;34m(\u001b[0m\u001b[0;34m)\u001b[0m\u001b[0;34m\u001b[0m\u001b[0;34m\u001b[0m\u001b[0m\n",
      "\u001b[0;32m/opt/conda/lib/python3.8/site-packages/pandas/io/parsers.py\u001b[0m in \u001b[0;36mread_csv\u001b[0;34m(filepath_or_buffer, sep, delimiter, header, names, index_col, usecols, squeeze, prefix, mangle_dupe_cols, dtype, engine, converters, true_values, false_values, skipinitialspace, skiprows, skipfooter, nrows, na_values, keep_default_na, na_filter, verbose, skip_blank_lines, parse_dates, infer_datetime_format, keep_date_col, date_parser, dayfirst, cache_dates, iterator, chunksize, compression, thousands, decimal, lineterminator, quotechar, quoting, doublequote, escapechar, comment, encoding, dialect, error_bad_lines, warn_bad_lines, delim_whitespace, low_memory, memory_map, float_precision)\u001b[0m\n\u001b[1;32m    686\u001b[0m     )\n\u001b[1;32m    687\u001b[0m \u001b[0;34m\u001b[0m\u001b[0m\n\u001b[0;32m--> 688\u001b[0;31m     \u001b[0;32mreturn\u001b[0m \u001b[0m_read\u001b[0m\u001b[0;34m(\u001b[0m\u001b[0mfilepath_or_buffer\u001b[0m\u001b[0;34m,\u001b[0m \u001b[0mkwds\u001b[0m\u001b[0;34m)\u001b[0m\u001b[0;34m\u001b[0m\u001b[0;34m\u001b[0m\u001b[0m\n\u001b[0m\u001b[1;32m    689\u001b[0m \u001b[0;34m\u001b[0m\u001b[0m\n\u001b[1;32m    690\u001b[0m \u001b[0;34m\u001b[0m\u001b[0m\n",
      "\u001b[0;32m/opt/conda/lib/python3.8/site-packages/pandas/io/parsers.py\u001b[0m in \u001b[0;36m_read\u001b[0;34m(filepath_or_buffer, kwds)\u001b[0m\n\u001b[1;32m    452\u001b[0m \u001b[0;34m\u001b[0m\u001b[0m\n\u001b[1;32m    453\u001b[0m     \u001b[0;31m# Create the parser.\u001b[0m\u001b[0;34m\u001b[0m\u001b[0;34m\u001b[0m\u001b[0;34m\u001b[0m\u001b[0m\n\u001b[0;32m--> 454\u001b[0;31m     \u001b[0mparser\u001b[0m \u001b[0;34m=\u001b[0m \u001b[0mTextFileReader\u001b[0m\u001b[0;34m(\u001b[0m\u001b[0mfp_or_buf\u001b[0m\u001b[0;34m,\u001b[0m \u001b[0;34m**\u001b[0m\u001b[0mkwds\u001b[0m\u001b[0;34m)\u001b[0m\u001b[0;34m\u001b[0m\u001b[0;34m\u001b[0m\u001b[0m\n\u001b[0m\u001b[1;32m    455\u001b[0m \u001b[0;34m\u001b[0m\u001b[0m\n\u001b[1;32m    456\u001b[0m     \u001b[0;32mif\u001b[0m \u001b[0mchunksize\u001b[0m \u001b[0;32mor\u001b[0m \u001b[0miterator\u001b[0m\u001b[0;34m:\u001b[0m\u001b[0;34m\u001b[0m\u001b[0;34m\u001b[0m\u001b[0m\n",
      "\u001b[0;32m/opt/conda/lib/python3.8/site-packages/pandas/io/parsers.py\u001b[0m in \u001b[0;36m__init__\u001b[0;34m(self, f, engine, **kwds)\u001b[0m\n\u001b[1;32m    946\u001b[0m             \u001b[0mself\u001b[0m\u001b[0;34m.\u001b[0m\u001b[0moptions\u001b[0m\u001b[0;34m[\u001b[0m\u001b[0;34m\"has_index_names\"\u001b[0m\u001b[0;34m]\u001b[0m \u001b[0;34m=\u001b[0m \u001b[0mkwds\u001b[0m\u001b[0;34m[\u001b[0m\u001b[0;34m\"has_index_names\"\u001b[0m\u001b[0;34m]\u001b[0m\u001b[0;34m\u001b[0m\u001b[0;34m\u001b[0m\u001b[0m\n\u001b[1;32m    947\u001b[0m \u001b[0;34m\u001b[0m\u001b[0m\n\u001b[0;32m--> 948\u001b[0;31m         \u001b[0mself\u001b[0m\u001b[0;34m.\u001b[0m\u001b[0m_make_engine\u001b[0m\u001b[0;34m(\u001b[0m\u001b[0mself\u001b[0m\u001b[0;34m.\u001b[0m\u001b[0mengine\u001b[0m\u001b[0;34m)\u001b[0m\u001b[0;34m\u001b[0m\u001b[0;34m\u001b[0m\u001b[0m\n\u001b[0m\u001b[1;32m    949\u001b[0m \u001b[0;34m\u001b[0m\u001b[0m\n\u001b[1;32m    950\u001b[0m     \u001b[0;32mdef\u001b[0m \u001b[0mclose\u001b[0m\u001b[0;34m(\u001b[0m\u001b[0mself\u001b[0m\u001b[0;34m)\u001b[0m\u001b[0;34m:\u001b[0m\u001b[0;34m\u001b[0m\u001b[0;34m\u001b[0m\u001b[0m\n",
      "\u001b[0;32m/opt/conda/lib/python3.8/site-packages/pandas/io/parsers.py\u001b[0m in \u001b[0;36m_make_engine\u001b[0;34m(self, engine)\u001b[0m\n\u001b[1;32m   1178\u001b[0m     \u001b[0;32mdef\u001b[0m \u001b[0m_make_engine\u001b[0m\u001b[0;34m(\u001b[0m\u001b[0mself\u001b[0m\u001b[0;34m,\u001b[0m \u001b[0mengine\u001b[0m\u001b[0;34m=\u001b[0m\u001b[0;34m\"c\"\u001b[0m\u001b[0;34m)\u001b[0m\u001b[0;34m:\u001b[0m\u001b[0;34m\u001b[0m\u001b[0;34m\u001b[0m\u001b[0m\n\u001b[1;32m   1179\u001b[0m         \u001b[0;32mif\u001b[0m \u001b[0mengine\u001b[0m \u001b[0;34m==\u001b[0m \u001b[0;34m\"c\"\u001b[0m\u001b[0;34m:\u001b[0m\u001b[0;34m\u001b[0m\u001b[0;34m\u001b[0m\u001b[0m\n\u001b[0;32m-> 1180\u001b[0;31m             \u001b[0mself\u001b[0m\u001b[0;34m.\u001b[0m\u001b[0m_engine\u001b[0m \u001b[0;34m=\u001b[0m \u001b[0mCParserWrapper\u001b[0m\u001b[0;34m(\u001b[0m\u001b[0mself\u001b[0m\u001b[0;34m.\u001b[0m\u001b[0mf\u001b[0m\u001b[0;34m,\u001b[0m \u001b[0;34m**\u001b[0m\u001b[0mself\u001b[0m\u001b[0;34m.\u001b[0m\u001b[0moptions\u001b[0m\u001b[0;34m)\u001b[0m\u001b[0;34m\u001b[0m\u001b[0;34m\u001b[0m\u001b[0m\n\u001b[0m\u001b[1;32m   1181\u001b[0m         \u001b[0;32melse\u001b[0m\u001b[0;34m:\u001b[0m\u001b[0;34m\u001b[0m\u001b[0;34m\u001b[0m\u001b[0m\n\u001b[1;32m   1182\u001b[0m             \u001b[0;32mif\u001b[0m \u001b[0mengine\u001b[0m \u001b[0;34m==\u001b[0m \u001b[0;34m\"python\"\u001b[0m\u001b[0;34m:\u001b[0m\u001b[0;34m\u001b[0m\u001b[0;34m\u001b[0m\u001b[0m\n",
      "\u001b[0;32m/opt/conda/lib/python3.8/site-packages/pandas/io/parsers.py\u001b[0m in \u001b[0;36m__init__\u001b[0;34m(self, src, **kwds)\u001b[0m\n\u001b[1;32m   2008\u001b[0m         \u001b[0mkwds\u001b[0m\u001b[0;34m[\u001b[0m\u001b[0;34m\"usecols\"\u001b[0m\u001b[0;34m]\u001b[0m \u001b[0;34m=\u001b[0m \u001b[0mself\u001b[0m\u001b[0;34m.\u001b[0m\u001b[0musecols\u001b[0m\u001b[0;34m\u001b[0m\u001b[0;34m\u001b[0m\u001b[0m\n\u001b[1;32m   2009\u001b[0m \u001b[0;34m\u001b[0m\u001b[0m\n\u001b[0;32m-> 2010\u001b[0;31m         \u001b[0mself\u001b[0m\u001b[0;34m.\u001b[0m\u001b[0m_reader\u001b[0m \u001b[0;34m=\u001b[0m \u001b[0mparsers\u001b[0m\u001b[0;34m.\u001b[0m\u001b[0mTextReader\u001b[0m\u001b[0;34m(\u001b[0m\u001b[0msrc\u001b[0m\u001b[0;34m,\u001b[0m \u001b[0;34m**\u001b[0m\u001b[0mkwds\u001b[0m\u001b[0;34m)\u001b[0m\u001b[0;34m\u001b[0m\u001b[0;34m\u001b[0m\u001b[0m\n\u001b[0m\u001b[1;32m   2011\u001b[0m         \u001b[0mself\u001b[0m\u001b[0;34m.\u001b[0m\u001b[0munnamed_cols\u001b[0m \u001b[0;34m=\u001b[0m \u001b[0mself\u001b[0m\u001b[0;34m.\u001b[0m\u001b[0m_reader\u001b[0m\u001b[0;34m.\u001b[0m\u001b[0munnamed_cols\u001b[0m\u001b[0;34m\u001b[0m\u001b[0;34m\u001b[0m\u001b[0m\n\u001b[1;32m   2012\u001b[0m \u001b[0;34m\u001b[0m\u001b[0m\n",
      "\u001b[0;32mpandas/_libs/parsers.pyx\u001b[0m in \u001b[0;36mpandas._libs.parsers.TextReader.__cinit__\u001b[0;34m()\u001b[0m\n",
      "\u001b[0;32mpandas/_libs/parsers.pyx\u001b[0m in \u001b[0;36mpandas._libs.parsers.TextReader._setup_parser_source\u001b[0;34m()\u001b[0m\n",
      "\u001b[0;31mFileNotFoundError\u001b[0m: [Errno 2] No such file or directory: '/opt/ml/data/bm25/bm25_top5_pp1_val.csv'"
     ]
    }
   ],
   "source": [
    "df = pd.read_csv(\"/opt/ml/data/bm25/bm25_top5_pp1_val.csv\")\n",
    "df.head()"
   ]
  },
  {
   "cell_type": "code",
   "execution_count": 35,
   "metadata": {},
   "outputs": [],
   "source": [
    "answers = df.answers.to_list()\n",
    "question = df.question.to_list()\n",
    "context_id = df.context_id.to_list()\n",
    "original_context = df.original_context.to_list()\n",
    "top_k_passage = []\n",
    "target = []"
   ]
  },
  {
   "cell_type": "code",
   "execution_count": 36,
   "metadata": {},
   "outputs": [
    {
     "data": {
      "text/plain": [
       "(240, 240, 240)"
      ]
     },
     "execution_count": 36,
     "metadata": {},
     "output_type": "execute_result"
    }
   ],
   "source": [
    "len(answers), len(question), len(original_context)"
   ]
  },
  {
   "cell_type": "code",
   "execution_count": 37,
   "metadata": {},
   "outputs": [],
   "source": [
    "for idx, passages in enumerate(df.context.tolist()):\n",
    "    p_list = passages.split('▦')\n",
    "    \n",
    "    if original_context[idx] in p_list:\n",
    "        top_k_passage.append(p_list)\n",
    "        target_index = p_list.index(original_context[idx])\n",
    "        target.append(target_index)\n",
    "    else :\n",
    "        p_list = [original_context[idx]] + p_list[:-1]\n",
    "        top_k_passage.append(p_list)\n",
    "        target.append(0)"
   ]
  },
  {
   "cell_type": "code",
   "execution_count": 39,
   "metadata": {},
   "outputs": [
    {
     "data": {
      "text/plain": [
       "'순천여자고등학교 졸업, 1973년 이화여자대학교를 졸업하고 1975년 제17회 사법시험에 합격하여 판사로 임용되었고 대법원 재판연구관, 수원지법 부장판사, 사법연수원 교수, 특허법원 부장판사 등을 거쳐 능력을 인정받았다. 2003년 최종영 대법원장의 지명으로 헌법재판소 재판관을 역임하였다.\\\\n\\\\n경제민주화위원회(위원장 장하성이 소액주주들을 대표해 한보철강 부실대출에 책임이 있는 이철수 전 제일은행장 등 임원 4명을 상대로 제기한 손해배상청구소송에서 서울지방법원 민사합의17부는 1998년 7월 24일에 \"한보철강에 부실 대출하여 은행에 막대한 손해를 끼친 점이 인정된다\"며 \"원고가 배상을 청구한 400억원 전액을 은행에 배상하라\"고 하면서 부실 경영인에 대한 최초의 배상 판결을 했다. \\\\n\\\\n2004년 10월 신행정수도의건설을위한특별조치법 위헌 확인 소송에서 9인의 재판관 중 유일하게 각하 견해를 내었다. 소수의견에서 전효숙 재판관은 다수견해의 문제점을 지적하면서 관습헌법 법리를 부정하였다. 전효숙 재판관은 서울대학교 근대법학교육 백주년 기념관에서 열린 강연에서, 국회가 고도의 정치적인 사안을 정치로 풀기보다는 헌법재판소에 무조건 맡겨서 해결하려는 자세는 헌법재판소에게 부담스럽다며 소회를 밝힌 바 있다.'"
      ]
     },
     "execution_count": 39,
     "metadata": {},
     "output_type": "execute_result"
    }
   ],
   "source": [
    "original_context[0]"
   ]
  },
  {
   "cell_type": "code",
   "execution_count": 11,
   "metadata": {},
   "outputs": [],
   "source": [
    "file_name = \"dksahjklvjxzckl \\\n",
    "asdkljklzxjckljvcxzk \\\n",
    "ksdajklxzcvjklvxcz\\\n",
    "fjklasdjkldscv\\\n",
    "dfsjkljxckzl\""
   ]
  },
  {
   "cell_type": "code",
   "execution_count": 12,
   "metadata": {},
   "outputs": [
    {
     "data": {
      "text/plain": [
       "'dksahjklvjxzckl asdkljklzxjckljvcxzk ksdajklxzcvjklvxczfjklasdjkldscvdfsjkljxckzl'"
      ]
     },
     "execution_count": 12,
     "metadata": {},
     "output_type": "execute_result"
    }
   ],
   "source": [
    "file_name"
   ]
  },
  {
   "cell_type": "code",
   "execution_count": 5,
   "metadata": {},
   "outputs": [],
   "source": [
    "train_custom_pickle = os.path.join(\n",
    "    \"/opt/ml/data/train_pickle\", f\"bm25_top10_pp1.pickle\"\n",
    "    )\n",
    "valid_custom_pickle = os.path.join(\n",
    "    \"/opt/ml/data/valid_pickle\", f\"bm25_top10_pp1.pickle\"\n",
    "    )"
   ]
  },
  {
   "cell_type": "code",
   "execution_count": 6,
   "metadata": {},
   "outputs": [],
   "source": [
    "import pickle\n",
    "with open(train_custom_pickle, \"rb\") as f:\n",
    "    train_dataset = pickle.load(f)\n",
    "with open(valid_custom_pickle, \"rb\") as f:\n",
    "    valid_dataset = pickle.load(f)"
   ]
  },
  {
   "cell_type": "code",
   "execution_count": 8,
   "metadata": {},
   "outputs": [
    {
     "ename": "KeyError",
     "evalue": "'context'",
     "output_type": "error",
     "traceback": [
      "\u001b[0;31m---------------------------------------------------------------------------\u001b[0m",
      "\u001b[0;31mKeyError\u001b[0m                                  Traceback (most recent call last)",
      "\u001b[0;32m/tmp/ipykernel_29524/3271081490.py\u001b[0m in \u001b[0;36m<module>\u001b[0;34m\u001b[0m\n\u001b[0;32m----> 1\u001b[0;31m \u001b[0mvalid_dataset\u001b[0m\u001b[0;34m[\u001b[0m\u001b[0;34m'context'\u001b[0m\u001b[0;34m]\u001b[0m\u001b[0;34m\u001b[0m\u001b[0;34m\u001b[0m\u001b[0m\n\u001b[0m",
      "\u001b[0;31mKeyError\u001b[0m: 'context'"
     ]
    }
   ],
   "source": [
    "valid_dataset['context']"
   ]
  },
  {
   "cell_type": "code",
   "execution_count": 9,
   "metadata": {},
   "outputs": [
    {
     "data": {
      "text/plain": [
       "181"
      ]
     },
     "execution_count": 9,
     "metadata": {},
     "output_type": "execute_result"
    }
   ],
   "source": [
    "import random\n",
    "i = random.randrange(240)\n",
    "i"
   ]
  },
  {
   "cell_type": "code",
   "execution_count": 10,
   "metadata": {},
   "outputs": [
    {
     "data": {
      "text/plain": [
       "('엘리노어 여사가 사망한 해는?', '동궁전 화재에서 인종을 구한 사람은 누구인가?')"
      ]
     },
     "execution_count": 10,
     "metadata": {},
     "output_type": "execute_result"
    }
   ],
   "source": [
    "train_dataset['question'][i], valid_dataset['question'][i]"
   ]
  },
  {
   "cell_type": "code",
   "execution_count": 11,
   "metadata": {},
   "outputs": [
    {
     "data": {
      "text/plain": [
       "({'answer_start': [584], 'text': ['2007년']},\n",
       " {'answer_start': [285], 'text': ['숙의 정씨']})"
      ]
     },
     "execution_count": 11,
     "metadata": {},
     "output_type": "execute_result"
    }
   ],
   "source": [
    "train_dataset['answers'][i], valid_dataset['answers'][i]"
   ]
  },
  {
   "cell_type": "code",
   "execution_count": 13,
   "metadata": {},
   "outputs": [
    {
     "data": {
      "text/plain": [
       "(3, 0)"
      ]
     },
     "execution_count": 13,
     "metadata": {},
     "output_type": "execute_result"
    }
   ],
   "source": [
    "train_dataset['target'][i], valid_dataset['target'][i]"
   ]
  },
  {
   "cell_type": "code",
   "execution_count": 14,
   "metadata": {},
   "outputs": [
    {
     "data": {
      "text/plain": [
       "('1972년 패주 후에 맥거번은 상원에 자신의 의석으로 복귀하였다. 그는 자유주의 직위들을 위하여 지속적으로 웅변적이고 변덕스러운 옹호자였다. 10년의 세월들 동안 민주당의 당수들은 1972년 대선 운동과 선거를 두고 논쟁하였다. 그 일은 맥거번의 선거 운동으로부터 민주당원들 중에서 그와 거리를 두는 표준이 되었다. 맥거번은 자신이 재선을 위한 입찰을 패했던 1980년까지 상원을 지냈다. 그는 퇴직에 활동적으로 남아 자신이 중요한 것으로 믿은 문제들에 쓰고 연설하였다. 1994년 맥거번과 그의 부인 엘리노어 여사는 알콜중독으로부터 고통을 겪은 그들의 성인 딸인 테리가 그녀의 자동차에서 얼어 죽었을 때 비극을 견디었다. 자신의 큰 슬픔을 극복하는 데 맥거번은 〈테리:알콜중독과 함께 분투한 나의 딸의 인생과 사망〉 이라는 책을 저서하였다. 그는 그러고나서 알콜과 마약 중독에 옹호자가 되어 연설하였다. 빌 클린턴 대통령은 맥거번을 식량 농업 기구의 미국 대사로 임명하였다. 케네디 행정부에서 자신의 업무의 30년 후에 그는 식량과 기아 문제들에 다시 옹호하였다. 맥거번과 그의 부인은 사우스다코타주로 돌아왔다. 부인은 2007년에 사망하였다. 퇴직에서 활동으로 남아있던 맥거번은 자신의 88세 생일에 스카이 다이빙을 하러 갔다. 2012년 10월 21일 수폴스에서 90세의 나이로 사망하였다.',\n",
       " '한번은 동궁에 불이 붙었는데 빈궁이 옆에서 잠자다 깨어 발을 구르면서 얼른 뛰쳐나가자고 세자에게 애원하였다. 그러나 인종은 동궁에 불이난 것이 계모인 문정왕후의 뜻이라고 짐작하고는 빈궁보고만 먼저 나가라고 하였다 때마침 중종이 자신을 애타게 부르는 소리를 듣고서야 죽는 게 아버지에게 불효하는 것이라는 생각이 들어 불길을 헤치고 나왔다는 것이다 그러나 이는 문정왕후를 의도적으로 깎아내리는 야사일 뿐이고, 실제로 동궁전 화재 당시 인종은 깊게 잠들어 화재를 피하지 못하였는데 화재 현장을 목격한 인종의 후궁인 숙의 정씨가 직접 불길 속으로 뛰어 들어가 인종을 구했다고 한다. 추후 숙의 정씨는 그 공로를 인정받아 귀인으로 오른다. 동궁전 화재 사건의 배후로 윤임은 문정왕후가 뜬소문을 조작해 사람을 혹하게 하고, 궁위(내전)을 모해하려는 증거 명백하다고 주장했다. 이어 증거가 드러났으니 문정왕후에게 법에 따라 사약을 내려야 한다고 주장하였다. 그러나 마음약한 인종은 계모가 그러지 않았다며 문정왕후를 변호했고 그녀는 극적으로 폐출의 위기를 모면하였다.')"
      ]
     },
     "execution_count": 14,
     "metadata": {},
     "output_type": "execute_result"
    }
   ],
   "source": [
    "train_dataset['original_context'][i], valid_dataset['original_context'][i]"
   ]
  },
  {
   "cell_type": "code",
   "execution_count": 15,
   "metadata": {},
   "outputs": [
    {
     "data": {
      "text/plain": [
       "(['플로리다주 잭슨빌에서 6명의 자식들 중의 하나로 태어났다. 그녀가 2세 때 그녀의 부모가 사망하였다. 부모의 사망에 이어 새비지와 그녀의 형제, 자매들은 뉴저지주로 이주한 그녀의 고모와 함께 살러 갔다. 10세의 나이로 새비지는 뉴저지 주립 유색 여성 연맹을 대표하여 영부인에게 꽃을 전하는 데 선택되었을 때 엘리노어 루스벨트 여사를 만났다. 아무것도 말하지 말라고 가르쳤어도 새비지는 루스벨트 여사의 일생의 나머지를 위하여 둘이 펜팔이 되는 데 이끈 것에 그녀에게 감사를 표하였다. 12세의 나이로 그녀는 전미 흑인 지위 향상 협회에 가입하였다.',\n",
       "  '프랭클린 D. 루스벨트가 1933년 대통령 임기를 시작할 때 엘리너 여사는 드라마적으로 영부인의 역할을 바꾸었다. 배경에 머물고 국내적 문제들을 다루는 데 만족하지 않은 그녀는 전국적으로 강의를 위한 만유를 하고 여성 리포터들 만을 위하여 350회의 기자 회견을 가졌으며, 일간 신문의 본란과 잡지들을 위한 많은 문서들을 썼다. 또한 젊은이들과 혜택받지 못한 사람들과 함께 소수 민족들을 위한 인권 투쟁을 벌이기도 하였다. 제2차 세계 대전이 일어나는 동안 미군들을 방문하러 세계를 순회하였다. 그녀는 1945년 4월 12일 프랭클린의 사망 때까지 영부인의 역할을 맡았다. == 유엔과 대통령의 임명들 == 남편의 사망에 이어 엘리너 여사는 기자 회견에서 자신이 공공적 서비스를 지속할 계획들이 없다고 말하였다. 하지만 해리 트루먼 대통령은 엘리너 여사를 유엔 총회의 사절단으로 임명하여 그녀는 그 직에 1945년부터 1953년까지 지냈다. 그녀는 유엔인권이사회의 의장이 되어 세계인권선언을 쓰는 도움을 주었으며 자신의 거대한 성과로 숙고한 노력이었다. 존 F. 케네디 대통령은 1961년 그녀를 유엔의 미국 사절단으로 재임명하였고, 후에 미국 평화 봉사단의 국가 안보 위원회와 대통령 여성 지위 자문회의 의장으로 임명하였다.',\n",
       "  '엘리사베타는 만토바 후작 페데리코 1세 곤차가와 마르가레테 폰 바이에른 사이에서 둘째 딸로 만토바에서 태어났다. 그녀의 형제로는 프란체스코 2세 곤차가가 있다. 그녀는 1489년에 우르비노의 공작 구이도발도 다 몬테펠트로와 혼인했다. 구이도발도는 병약하고 성적으로 무능력하였기에, 그들은 자식을 두지 못했으나, 엘리사베타는 이혼을 거부하고 그의 병을 간호하였다. 엘리사베타의 교육은 15세기 후반 이탈리아의 일부 훌륭한 인격을 지닌 자들의 무리를 그녀의 삶으로 이끌게 하였다. 그녀의 궁정은 작가, 예술가, 학자들을 이끌게 했다. 그녀의 귀족 지위는 16세기의 강력한 정치에 접촉과 개입을 하게 해주었다. 그녀는 르네상스의 영햑력있는 후원가이자 정치인이였던 이사벨라 데스테의 시누이이기도 했다. 1502년 6월 21일 체사레 보르자는 우르비노를 점령하고, 구이도발도를 싸우게 만들고 엘리사베타를 손님으로서 묶고 있던 만토바에 강제로 남게하였다. 그녀는 1503년까지 그곳에 머물다가 베네치아에서 구이도발도와 재회하였다. 그들은 1504년에 그들의 권력을 되찾았다. 자식이 없었던 그들은 같은 해에 상속을 확실히 하기 위해 14세였던 구이도발도의 자매의 아이인 프란체스코 마리아 1세 델라 로베레를 입양한다. 1506년에 엘리사베타는 알폰소 1세 데스테와 혼인하러 페라라로 향하던 루크레치아 보르자의 여행길에 어쩔수없이 동참했었다. 또한 동시대의 증인들은 그 결혼식에서 그녀를 묘사하기를: text=페라라에 들어갈때, 그녀는 황금색으로 수를 놓은 검은 벨벳 천을 씌운 검정색의 노새를 탔으며, 황금색이 박힌 삼각형이 흩어져 있는 검은 벨벳의 망토를 입었다; 어느날 실내에서 그녀는 트임이 있는 갈색 벨벳 망토를 입었으며, 많은 황금 사슬로 연결되어 있었다; 또다른 날에는 금실로 수를 높은 검은 벨벳으로 만든 드레스와 보석으로 장식한 목걸이와 왕관을 썼다; 어떤 날에는, 글자가 수놓아져있는 검은 벨벳으로 된 예복을 입었다 g36세의 나이로 1508년에 구이도발도가 사망하자, 그녀는 미성년자인 후계자의 섭정으로서 우르비노에서의 거주를 계속하였다. 1509년에 프란체스코 마리아 1세는 가문을 더욱 번성게 한 엘리사베타의 조카인 엘레오노라 곤차가와 혼인을 했다 그러나 1516년 6월에 그녀는 자신의 조카였던 로렌초 데 메디치(로렌치노라고 불린 로렌초 2세 디 피에로)에게 우르비노 공국을 주길 원한 교황 레오 10세에 의해 우르비노에서 추방당하고만다. 함께 추방당한 그녀의 조카 엘레오노라와 한푼도 없었던 그들은 페라라로 피난을 갔으며, 그곳에서 엘리사베타는 1526년에 사망했다.',\n",
       "  '1972년 패주 후에 맥거번은 상원에 자신의 의석으로 복귀하였다. 그는 자유주의 직위들을 위하여 지속적으로 웅변적이고 변덕스러운 옹호자였다. 10년의 세월들 동안 민주당의 당수들은 1972년 대선 운동과 선거를 두고 논쟁하였다. 그 일은 맥거번의 선거 운동으로부터 민주당원들 중에서 그와 거리를 두는 표준이 되었다. 맥거번은 자신이 재선을 위한 입찰을 패했던 1980년까지 상원을 지냈다. 그는 퇴직에 활동적으로 남아 자신이 중요한 것으로 믿은 문제들에 쓰고 연설하였다. 1994년 맥거번과 그의 부인 엘리노어 여사는 알콜중독으로부터 고통을 겪은 그들의 성인 딸인 테리가 그녀의 자동차에서 얼어 죽었을 때 비극을 견디었다. 자신의 큰 슬픔을 극복하는 데 맥거번은 〈테리:알콜중독과 함께 분투한 나의 딸의 인생과 사망〉 이라는 책을 저서하였다. 그는 그러고나서 알콜과 마약 중독에 옹호자가 되어 연설하였다. 빌 클린턴 대통령은 맥거번을 식량 농업 기구의 미국 대사로 임명하였다. 케네디 행정부에서 자신의 업무의 30년 후에 그는 식량과 기아 문제들에 다시 옹호하였다. 맥거번과 그의 부인은 사우스다코타주로 돌아왔다. 부인은 2007년에 사망하였다. 퇴직에서 활동으로 남아있던 맥거번은 자신의 88세 생일에 스카이 다이빙을 하러 갔다. 2012년 10월 21일 수폴스에서 90세의 나이로 사망하였다.',\n",
       "  '머랭은 스위스 베른 주 오버하슐리(Oberhasli)의 마이링겐의 요리대회에서 이탈리아 요리사 가스파리니(Gasparini)가 처음 만든 것이라고 한다. 문헌상으로는 프랑수아 마샬로(François Massialot)의 1692년 요리책에 처음으로 머랭이라는 말이 등장하며, 영국에서는 마샬로 책의 영문 번역서에서 처음 등장하였다. 1604년 영국 버크셔주의 엘리너 페티플래이스 여사(Elinor Fettiplace, 1570 - 1647)의 조리책자에서는 머랭 조리법 같은 것이 실려 있는데, \"하얀 비스킷 빵\"이라고 소개하고 있다. 한편 켄트주의 래이철 페인 여사(Rachel Fane, 1612/13 - 1680)가 쓴 요리법 모음집 원고에는 \\'페츠(pets)\\'라고 소개되기도 하였다.',\n",
       "  '우리 주 예수님은 재림의 시간에 다시 오십니다. 그리고 똑같이 엘리야도 다시 와서 주님이 오시기 전 길을 예비한다는 것이 성경의 내용입니다. 계11장에 보시면 두 증인이 나오는데 그분들이 바로 모세와 엘리야입니다. 두 증인이 죽고 부활한 뒤에 예수님이 재림하십니다. 두 증인이 모세와 엘리야라고 알 수 있는 여러 구절이 있지만 짧게만 나누자면 계11:6. 그들이 권능을 가지고 하늘을 닫아 그 예언을 하는 날 동안 비가 오지 못하게 하고 또 권능을 가지고 물을 피로 변하게 하고 아무 때든지 원하는 대로 여러 가지 재앙으로 땅을 치리로다 위 구절에서도 모세와 엘리야의 특징이 잘 설명이 됩니다. 1.비가 오지 못하게 하는 [엘리야 / 왕상17:1] 2.물을 피로 변하게 하는 [모세 /출7:20] 3.온갖 재앙으로 땅을 치던 [모세 / 민16:30] [이방인의 휴거와 두 증인도 중요한 관계가 있지만 여기서는 이스라엘과 두 증인에 대해서만 말씀 드리겠습니다.] 유대인들이 예수님을 받아들이게 될 그때에 결정적인 역할을 하는 것이 두 증인이라는 것도 계시록 11장 12장을 통해 볼 수 있습니다. [계시록 11:3,8 / 12:14] 이 내용에 대해 자세히 보시기 원하는 분들은 아래를 클릭하시면 됩니다. [] 이방인 교회가 휴거 된 뒤에 7년 대환란 속에서 유대인들이 두 증인인 모세와 엘리야를 통해 예수님을 믿게 됩니다. \"찬송하리로다 주의 이름으로 오시는 이여\"라고 고백합니다. 그것이 계시록과 로마서에 자세히 나온 말입니다 7년 대환란 전인 지금 시점의 유대인들에 대해 먼저 나누어 보겠습니다. 지금 이 시대에도 유대인들은 엘리야를 기다립니다. 매년 돌아오는 유월절 세데르 때마다 엘리야의 잔[5번째 잔]을 따르며 외칩니다. \"이것은 엘리야의 잔입니다.\" 그 뒤 어린아이 중 한 아이가 엘리야가 올 수 있도록 문을 엽니다. 문을 여는 이유는 엘리야가 와서 그들을 메시아에게 인도해 줄 것을 믿기 때문입니다. 이스라엘은 지금도 엘리야를 그렇게 기다리고 있습니다. [엘리야후 하나비]그들은 엘리야가 이스라엘을 메시아께로 인도해줄 것에 대해 의심을 하지 않습니다. 예수님의 초림 당시에도 이스라엘 백성들은 알고 있었습니다. 메시아가 오기 전에 엘리야가 와야 한다는 것을요. 마17:10 주의 제자들이 주께 물어 말씀드리기를 \"어찌하여 서기관들은 엘리야가 먼저 와야 한다고 말하나이까?\" 11. 예수께서 대답하여 이르시되 엘리야가 과연 먼저 와서 모든 일을 회복하리라 12. 내가 너희에게 말하노니 엘리야가 이미 왔으되 사람들이 알지 못하고 임의로 대우하였도다 인자도 이와 같이 그들에게 고난을 받으리라 하시니 13. 그제서야 제자들이 예수께서 말씀하신 것이 세례 요한인 줄을 깨달으니라 그래서 그들은 그렇게 엘리야를 찾는 것이고 예수님도 엘리야가 먼저 와서 회복한다고 하는 것입니다. 이스라엘 백성들은 엘리야를 열심히 찾았으며 드디어 공식적으로[정부가 관여하여] 엘리야로 인정한 분이 데이비드오워 선지자입니다.',\n",
       "  '퇴임에서 볼드윈의 세월은 조용하였다. 네빌 체임벌린이 사망하면서 전쟁 이전의 유화 정책에서 볼드윈의 지각된 부분은 제2차 세계 대전이 일어난 동안과 그 후에 그를 인기없는 인물로 만들었다. 신문의 캠페인은 그를 전쟁 생산에 자신의 시골 저택의 철문을 기부하지 않은 것으로 사냥하였다. 전쟁이 일어난 동안 윈스턴 처칠은 에이먼 데 벌레라의 아일랜드의 지속적인 중립을 향한 더욱 힘든 경향을 취하는 영국의 조언에 그를 단 한번 상담하였다. 1945년 6월 부인 루시 여사가 사망하였다. 이제 볼드윈 자신은 관절염을 겪어 걸어다는 데 지팡이가 필요하였다. 조지 5세의 동상의 공개식에 1947년 런던에서 자신의 최종 공개적인 출연을 이루었다. 관중들은 전직 총리를 알아주어 그를 응원하였으나 이 당시 볼드윈은 귀머거리였고, 그들에게 \"당신들은 나를 야유합니까?\"라고 의문하였다. 1930년 케임브리지 대학교의 총장으로 만들어진 그는 1947년 12월 14일 80세의 나이에 우스터셔주 스투어포트온세번 근처 애슬리홀에서 수면 중 자신의 사망까지 이 수용력에 지속하였다. 그는 화장되었고, 그의 재는 우스터 대성당에 안치되었다.',\n",
       "  '오바산조는 3번이나 결혼하였다고 한다. 처음에 자신의 초기 자식들의 모친이었던 올루레미 여사에게 결혼하였으며, 그 당시 자식들 중에 가장 잘 알려진 이는 전 오군 주의 상원 이야보 오바산조-벨로 박사이다. 그의 두번째 부인은 린다 여사였는 데 그녀는 1987년 자신의 차로부터 나오라고 명령한 무장 남자들에 의하여 살해되었다. 그의 세번째 부인은 나이지리아의 영부인을 지낸 스텔라 여사이다. 그녀는 2005년 스페인에서 표면 수술을 맏은 후에 사망하였다. 오바산조의 다른 현저한 자식들은 마이크로소프트를 위한 주요 프로그램 매니저 다레 오바산조와 플래토주에서 3 사단의 중령 아데보예 오바산조를 포함한다.',\n",
       "  '페데리코는 스폴레토의 공작이자 우르비노, 구비오, 카스텔두란테의 군주인 구이단토니오 다 몬테펠트로의 사생아로서 구비오의 페트로이아 성에서 태어났다. 2년 뒤, 교황 마르티노 5세는 자신의 조카딸 카테리나 콜론나를 구이단토니오의 아내로 동의하면서, 그를 적출로 인정하였다. 1433년 페라라와의 평화(롬바르디아 전쟁) 여파로, 그는 볼모로서 베네치아와 만토바에서 거주했다. 1437년, 신성 로마 황제 지기스문트에게 기사 작위를 수여받았고, 같은 해에 구비오에서 젠틸레 브란칼레오니(Gentile Brancaleoni)와 혼인을 하였다. 16세 나이에 그는 니콜로 피치니노 하에서 콘도티에로로서 경력을 시작했다. 1441년에 그는 그가 남은 생애를 보낸 성 레오 성을 정복하면서 그를 유명하게 만들었다. 피치니노와 결별한 이후, 그는 페사로(Pesaro)로 가, 마르케에서 리미니의 군주 시지스몬도 판돌포 말라테스타를 상대로 방어전을 펼쳤다. 1444년 7월 22일, 최근 교황 에우제니오 4세에 의해 우르비노 공작이 된 그의 배다른 형제 오단토니오 다 몬테펠트로가 페데리코가 가담했을 것이라고 추정되나 밝혀지지는 않은 음모 속에서 암살되었고, 그 뒤에 우르비노는 포위를 당하게 되었다. 하지만 소국의 경제 상황은 악화되고 있었지만, 그는 콘도티에로로서 전쟁을 벌였다. 그의 첫 콘도타(condotta, 계약)는 프란체스코 1세 스포르차와 였으며, 당시 페데리코는 300명의 기사들을 거느린 콘도티에로 중 한 명으로서, 부하들에게 충성심을 갖게 하던 평판이 있었다. 절대로 무보수로 싸운적이 없는 페데리코는 스포르차 가문의 계약으로, 13,000 플로린에, 시지스몬도 판돌포 말라테스타를 분노하게 하던 포솜브로네를 그의 소유로 받는 조건에 스포르차의 페사로 통치를 위해 이동을 하게 되었다. 페데리코의 노력에도 불구하고, 마르케에서 스포르차 가문의 통치권은 다음 해에 상실해버리고 말았다. 스포르차 가문이 롬바르디아 지역에서 떠날때, 시지스몬도는 포솜브로네에 폭동을 조성했으나, 페데리코는 3일만에 이것을 진압한다. 피렌체에서 6년을 일한 뒤, 페데리코는 당시 밀라노의 공작 가문이던 스포르차 가문에 고용된다. 하지만 그가 마상대회에서 오른쪽 눈을 잃으면서, 그의 임무들을 할 수가 없게 되었다. 그는 그뒤로 남은 생 동안 어마어마하고 흉측한 상처를 지니게 되었고, 이로 인해 그의 초상화를 그릴때는 \"좋은\" 면 만을 그리게 되었다. 말라테스타는 그의 부상으로 스포르차 하에서 지위를 얻는데 이익을 얻었다. 그 때문에, 1451년 10월에 페데리코는 대신 나폴리의 군주인 아라곤의 알폰소 5세의 제안을 받아들여, 피렌체를 상대로 전쟁을 벌인다. 오른쪽 눈을 잃은 후, 음모에 익숙하고 《군주론》을 쓴 니콜로 마키아벨리에게 인상을 받은 지도자 중 하나인 페데리코는 그의 콧대(그 사건으로 인해 다쳤던)를 제거하는 외과 수술을 하였다. 이 수술로 그의 시야가 현저하게 개선되었고, 암살 시도에 덜 취약하게 해주었으며, 야전 사령관으로서 그의 장점을 회복시켜주어, 그후 그의 성공적인 경력을 할 수 있게 하였다. 1453년에 나폴리 군대가 말라리아로 타격을 입었고, 페데리코 자신도 그의 건강한 눈을 잃을 뻔 하였다. 다음 해에 로디 조약으로 그의 군사 지휘관으로서 능력을 보일 기회를 빼앗기고 말았다. 1458년에 알폰소 5세와 그의 총애를 받던 사생아 부온콘테(Buonconte)가 세상을 뜨면서, 페데리코의 분위기를 일으켜 주지 못 하였다. 그의 운은 페데리코를 문화인라며 호감을 지니던 교황 비오 2세가 교황으로 선출되고 그를 신성 로마 교회의 곤팔로니에레로 선언하면서 회복되었다. 나폴리 왕국에서 일부 주목할만한 업적을 거둔 후, 그는 말라테스타를 상대로 마르케에서 싸웠고, 세니갈리아 인근 체사노 강(1462년)에서 철저하게 그를 격퇴시켰다. 다음 해 그는 파노와 세니갈리아를 함락시켰고 시지스몬도 판돌포를 포로로 붙잡았다. 교황은 정복한 영토의 사제로 그를 임명하였다. 1464년, 신임 교황 교황 바오로 2세는 교황이 지배하던 라치오 북부 지역을 점거한 안구일라라 가문을 몰아내기 위해 페데리코를 부른다. 다음 해, 그는 로마냐의 체세나, 베르티노로를 함락시킨다. 1466년에 프란체스코 스포르차가 사망하자, 페데리코는 그의 동생 갈레아초 스포르차를 도왔고, 또한 바르톨로메오 콜레오니를 상대로 전투를 벌이기도 하였다. 1467년 몰리넬라 전투에 참여했다. 1469년 시지스몬도 판돌포가 사망하자, 바오로 2세는 리미니를 차지하기 위해 그를 보냈으나, 리미니에서 교황의 힘이 지나치게 강하게 되어 자신의 본진인 우르비노 역시도 위협 받을 것을 우려하여 리미니를 점거한다. 1469년 8월 30일에 교황의 군대를 격퇴시킨 후, 그는 시지스몬도의 아들 로베르토 말라테스타에게 리미니를 양도한다. 이 사태는 페데리코의 딸 조반나(Giovanna)와 결혼한 자신의 총애하던 조카 조반니 델라 로베레를 둔 교황 식스토 4세가 교황으로 선출되면서 해결되었고, 1474년에 페데리코를 공작으로 임명하였으며, 그의 또 다른 딸 엘리사베타(Elisabetta)를 로베르토 말라테스타와 결혼시켰다. 당시 그는 그의 옛 후원자들인 피렌체를 상대로 싸웠고, 교황이 그를 몰아내고 교황의 친척인 지롤라모 리아리오를 위해 우르비노를 넘겨주려던 시도도 저지시켜냈다. 1478년에 그는 파치 음모에 연루됐었다. 하지만 25살의 나이에 일곱 번째 아이를 낳고 회복되지 못한 그의 사랑받는 둘째 아내 바티스타 스포르차(엘리사베타 말라테스타[Elisabetta Malatesta]와 알레산드로 스포르차의 딸)가 사망한 후, 페데리코는 대부분의 시간을 궁전에서 보냈다. 1482년에 그는 에르콜레 1세 데스테가 베네치아를 상대로 일으킨 전쟁에 그의 군대를 지휘하기 위해 왔지만, 고열로 인해 쓰러져 9월 페라라에서 사망한다. 페데리코의 아들 구이도발도는 만토바의 군주인 페데리코 1세 곤차가의 뛰어나고 학식있는 딸인 엘리사베타 곤차가와 결혼하였다. 1508년, 구이도발도의 사망으로 우르비노의 공작직은 교황 가문인 델라 로베레 가문에게 넘어간다. 구이발도가 후손이 없이 죽자 조카 프란체스코 마리아 1세 델라 로베레가 우르비노 공작을 이어 받았다.',\n",
       "  '캐릭터 이미지송과 바이노럴 녹음 미니드라마가 수록된 앨범. 2010년 3월 19일에 코나미스타일 한정으로 Vol.1 Vol.2 두 종류로 발매. vol.1 이미지송 *호시카와 마키(오오가메 아스카) \"당신과 메모리얼\" *고도 츠구미(야하기 사유리) \"좋아!? 싫어!?\" *코오리야마 아키(쇼지 우메카) \"당신과 나의 chemistry\" *미즈키 하루나(키쿠치 유우미) \"꿈은 데코레이션 케이크\" *오오쿠라 미야코(후쿠엔 미사토) \"물 속의 토끼\" *마에다 이츠키(카토 에미리) \"It\\'s Revolution\" vol.2 이미지송 *사츠키 유우(타키타 쥬리) \"일곱빛깔 Season\" *나나카와 루이(미즈하시 카오리) \"모에모에해피DAYS\" *엘리사 D 나루세(타테노 카나코) \"순정가련소녀다CHA\" *야나기 후미코(이구치 유코) \"DOKIDOKI러브모드\" *류코지 카이(마츠우라 치에) \"꿈의 길 저편\" *쿄우노 리즈미(하나자와 카나) \"Love is Melody\"'],\n",
       " ['한번은 동궁에 불이 붙었는데 빈궁이 옆에서 잠자다 깨어 발을 구르면서 얼른 뛰쳐나가자고 세자에게 애원하였다. 그러나 인종은 동궁에 불이난 것이 계모인 문정왕후의 뜻이라고 짐작하고는 빈궁보고만 먼저 나가라고 하였다 때마침 중종이 자신을 애타게 부르는 소리를 듣고서야 죽는 게 아버지에게 불효하는 것이라는 생각이 들어 불길을 헤치고 나왔다는 것이다 그러나 이는 문정왕후를 의도적으로 깎아내리는 야사일 뿐이고, 실제로 동궁전 화재 당시 인종은 깊게 잠들어 화재를 피하지 못하였는데 화재 현장을 목격한 인종의 후궁인 숙의 정씨가 직접 불길 속으로 뛰어 들어가 인종을 구했다고 한다. 추후 숙의 정씨는 그 공로를 인정받아 귀인으로 오른다. 동궁전 화재 사건의 배후로 윤임은 문정왕후가 뜬소문을 조작해 사람을 혹하게 하고, 궁위(내전)을 모해하려는 증거 명백하다고 주장했다. 이어 증거가 드러났으니 문정왕후에게 법에 따라 사약을 내려야 한다고 주장하였다. 그러나 마음약한 인종은 계모가 그러지 않았다며 문정왕후를 변호했고 그녀는 극적으로 폐출의 위기를 모면하였다.',\n",
       "  '승경궁주는 강릉공 왕온의 아들 공화후 왕영과 혼인하여 1남 1녀를 낳았다. 공화백은 후에 공화후로 진봉되었으며 1186년(명종 16년) 61세를 일기로 사망하였다. 시호는 정의(定懿)이. 한편 공화백과 승경궁주의 혼인은 7촌 숙질간에 이루어진 근친혼이다 . 아들은 광릉공 왕면이며 의종의 딸 화순궁주와 혼인하였다. 성격이 순수하고 후덕하며, 침착하고 냉정하였다고 한다. 또 여러 기술을 많이 가지고 있었다고도 한다. 왕면은 1218년(고종 5년) 사망하였다 딸은 이름은 전하지 않으며 혼인은 하지 않았고, 1185년(명종 15년) 36세를 일기로 창신사(彰信寺)에서 사망하였다. 남동생인 광릉공이 묘지명을 지었으며, 현재 서울특별시 용산구에 있는 국립중앙박물관에 승경궁주의 딸의 묘지명이 남아있다 승경궁주의 시아버지인 강릉공은 자신의 아들을 인종의 딸과 결혼시키고, 자신의 네 딸은 모두 인종의 아들들과 결혼시켜 왕비가 되는 등 인종과 무려 다섯 겹사돈 관계를 맺고 있다. * 아버지 : 제17대 인종(仁宗, 1109~1146, 재위:1122~1146) * 어머니 : 인종 제3비 공예왕후(恭睿王后, 1109~1183) ** 남매 : 제18대 의종(毅宗, 1127~1173, 재위:1147~1170) ** 남매 : 대령후 왕경(大寧侯 王暻, 1130~?) ** 남매 : 제19대 명종(明宗, 1131~1202, 재위:1170~1197) *** 조카 : 제22대 강종(康宗, 1152~1213, 재위:1211~1213) ** 남매 : 원경국사 왕충희(元敬國師 王冲曦, ?~1183) ** 남매 : 제20대 신종(神宗, 1144~1204, 재위:1197~1204) *** 조카 : 제21대 희종(熙宗, 1181~1237, 재위:1204~1211) ** 동생 : 덕녕궁주(德寧宮主, ?~1192) ** 동생 : 창락궁주(昌樂宮主, ?~1216) ** 동생 : 영화궁주(永和宮主, 1141~1208) * 시아버지 : 강릉공 왕온(江陵公 王溫, ?~1146) * 시어머니 : 미상 ** 남편 : 공화후 왕영(恭化侯 王瑛, 1126~1186) *** 아들 : 광릉공 왕면(廣陵公 王沔, ?~1218) *** 딸 : 왕씨 (王氏, 1150~1185)',\n",
       "  '1895년(메이지 28년) 3월 15일에, 헤이안쿄 천도 1100주년을 기념해 교토에서는 내국권업박람회가 열렸는데, 이때 주요 행사장의 하나로 쓰기 위해서 헤이안쿄로 천도할 당시의 다이다이리(大內裏)의 일부 복원이 계획되었는데, 실제 다이다이리가 있던 위치인 센본마루타쵸(千本丸太町)에 스자쿠몬(朱雀門)을 세운다는 당초의 계획은 부지 매입 실패로 수정되어, 당시 교토 교외에 해당하던 오카자키에 실제 크기의 5/8 규모로 복원되었다. 박람회가 끝난 뒤 건물은 그대로, 헤이안쿄로 천도한 당사자인 제50대 간무(桓武) 천황을 모시는 신사로 바뀌었다. 이것이 헤이안 신궁의 시초이다. 《일본서기》의 기록을 근거로 천황가의 창시자 진무(神武) 천황 이래 황기(皇紀) 2600년에 해당하는 1940년(쇼와 15년), 교토(헤이안쿄)에서 재위했던 마지막 천황인 121대 고메이(孝明) 천황이 신궁의 제신으로 더해졌다. 1976년 1월 6일에 방화로 인한 화재가 발생해 신궁의 본전(本殿)과 내배전(內拜殿) 등 아홉 동(棟)의 건물이 소실되었다. 창건 시기도 당시에는 비교적 최근(메이지 시대)인데다 문화재 지정도 되어있지 않았고, 당시 일본의 소방 관련 법 규정에는 목조건물의 자동 화재알림 설비 설치가 의무화되지 않았기 때문에, 발견이 늦어서 대규모 화재로 번졌을 뿐 아니라, 소실에 대한 정부로부터의 보조금은 지원되지 않았고 대신 전국으로부터 모금한 성금으로 3년 뒤에 재건된다. 이 화재는 훗날 일본의 신좌익(新左翼) 활동가인 가토 사부로(加藤三郞)의 범행으로 판명되었다. 가토는 \"자신의 권위를 과시하기 위해 백성들을 괴롭혀 도탄에 빠지게 한 헤이안쿄를 짓고, 영토확장의 야심 때문에 에미시(蝦夷)를 침략해 수많은 에미시인을 살해하고 노예로 삼은\" 간무 천황을 신으로 모신다는 것은 \\'신\\'에 대한 모독으로 간주하고 헤이안 신궁 방화를 결의했다고 한다.',\n",
       "  '덕녕궁주는 강양공 왕감과 혼인하여 딸 하나를 낳았다. 강양공은 1141년(인종 19년) 음력 8월 10일 검교사공에 올랐으며 , 1168년(의종 22년) 음력 2월 14일 강양후로 , 이후 강양공으로 진봉되었. 한편 강양공과 덕녕궁주의 딸은 1168년(의종 22년) 음력 1월 26일 의종의 아들이자 덕녕궁주의 조카인 효령태자에게 시집가 태자비에 책봉되었다 . 그러나 1170년(의종 24년) 의종이 폐위되고 효령태자도 진도현 )으로 유배를 가면서 , 강양공의 딸은 왕비의 자리에 오르지 못하였다. * 아버지 : 제17대 인종(仁宗, 1109~1146, 재위:1122~1146) * 어머니 : 인종의 제3비 공예왕후(恭睿王后, 1109~1183) ** 남매(사돈) : 제18대 의종(毅宗, 1127~1173, 재위:1147~1170) *** 조카(사위) : 효령태자(孝靈太子, 생몰년 미상) ** 남매 : 대령후 왕경(大寧侯 王暻, 1130~?) ** 남매 : 제19대 명종(明宗, 1131~1202, 재위:1170~1197) *** 조카 : 제22대 강종(康宗, 1152~1213, 재위:1211~1213) ** 남매 : 원경국사 왕충희(元敬國師 王冲曦, ?~1183) ** 남매 : 제20대 신종(神宗, 1144~1204, 재위:1197~1204) *** 조카 : 제21대 희종(熙宗, 1181~1237, 재위:1204~1211) ** 언니 : 승경궁주(承慶宮主, 생몰년 미상) ** 동생 : 창락궁주(昌樂宮主, ?~1216) ** 동생 : 영화궁주(永和宮主, 1141~1208) * 시아버지(종조부) : 대원공 왕효(大原公 王侾, ?~1170) ** 남편 : 강양공 왕감(江陽公 王瑊, 생몰년 미상) *** 딸 : 효령태자의 태자비',\n",
       "  '중명전 터는 원래 궁궐에 포함되지 않은 땅으로 1890년대까지 주로 서양에서 온 선교사들이 거주하던 곳이었다. 1897년 궁궐을 확대하면서 궁지로 편입되었고, 현재의 중명전 자리에 서양식 전각 수옥헌(漱玉軒)을 지어 황실 도서관으로 삼았다. 1899년 준공된 옛 전각은 서양식 1층 건물이었으며 한성부 건축기사로 초빙된 다이(J.H. Dye)가 설계하였다. 그는 당시 미국 군사고문으로 서울에 와 있던 윌리엄 다이(William McEntyre Dye)의 아들이었다. 고종 즉위 당시 덕수궁은 경운궁으로 불렸는데, 고종은 흥선대원군이 대대적으로 복원한 경복궁을 비우고 경운궁으로 환궁하였다. 당시 경운궁의 북측 지역은 각국의 공사관과 인접하여 고종의 경운궁 환궁은 일본의 간섭을 견제할 목적이었다. 경운궁 북쪽 지역을 매입하고 궁궐에 편입한 뒤 중명전 외에도 만희당, 흠문각, 장기당, 양복당, 경효전, 환벽정 등 각종 전각을 지었다. 제일 북쪽에 위치한 환벽정은 러시아 공사관과 바로 맞닿아 있었다. 고종은 확장된 덕수궁 북쪽 지역에서 경희궁 새문안길로 넘어가는 구름다리를 건설하기도 하였다. 이 구름다리는 1908년 헐렸다. 1901년 화재로 수옥헌이 전소되자 독립문, 정관헌 등을 설계한 러시아 건축가 아파나시 세레딘사바틴(A. I. Sabatin)의 설계로 2층 벽돌 건물로 재건되었다. 1904년 4월 14일 경운궁 대화재가 일어나자 고종 황제가 거처를 수옥헌으로 옮기고 이름을 중명전으로 바꾸어 편전으로 사용하였다 1905년 11월 이토 히로부미는 중명전 건너편의 손탁호텔을 거처로 삼고 정동 일대를 일본군이 장악한 상태에서 〈을사늑약〉을 강요하였다. 을사늑약은 중명전에서 강요에 의해 체결되었다. 이후 고종이 〈을사늑약〉의 부당함을 국제 사회에 알리고자 1907년 4월 20일 헤이그 특사로 이준 등을 파견한 곳도 중명전이다. 1907년 7월 일제는 헤이그 특사 파견을 빌미로 을사조약의 무효를 주장하는 고종 황제를 강제 퇴위시켰다. 새롭게 즉위한 순종은 1907년 창덕궁으로 이어할 때까지 중명전을 집무실로 사용하였다 순종이 이어한 뒤 경운궁은 덕수궁으로 이름을 바꾸었다. 1909년 덕수궁 석조전이 완공된 후 고종은 중명전을 떠나 석조전을 거처로 삼았다. 1910년 일제는 한국을 강점하였다. 일제의 강점 이후 대한제국의 황실은 이왕가로 격하되었다. 고종이 덕수궁에 계속 거처하고 있었지만, 1915년 일제는 덕수궁 영역을 축소하면서 중명전을 궁궐 경내에서 제외하였다. 중명전은 경성구락부(Seoul Club)에 임대되었다. 1925년 중명전에 화재가 일어나 외벽만 남기고 소실되었다. 소실 당시 경찰은 주방의 요리사에 의한 과실, 누전에 의한 화재 등을 의심하고 화재 원인을 조사하였다. 당시 건물은 화재보험에 가입되어 있었다. 화재 뒤 다시 재건하여 외국인을 위한 사교 클럽으로 주로 사용되었는데 이미 원형을 알아보기 힘들 정도로 변형되었다. 1945년 광복 이후 국유재산으로 편입되었다가, 1963년 당시 대통령이었던 박정희가 영구 귀국한 영친왕과 이방자에게 중명전의 소유권을 이전하였다. 1977년 중명전은 다시 민간에 매각되었는데 관리 소홀과 개조로 원형을 짐작할 수 없을 정도로 훼손되었다. 1983년 서울특별시는 중명전을 유형문화재 제53호로 지정하였다. 그 후 2003년 정동극장에서 매입한 뒤 2006년 문화재청에 관리 전환하여, 2007년 2월 7일 사적 제124호로 덕수궁에 편입되었다 2009년 12월 복원을 거쳐 2010년 8월부터 전시관으로 일반에 공개하고 있다. 문화재청은 문화유산국민신탁에게 중명전 전시관의 관리 운영 및 안내해설사 배치 운용을 위탁하였다 현재의 복원에 대하여는 1904년 준공 당시의 모습과 차이가 있다는 비판이 있다.',\n",
       "  '1544년 중종이 병사하였다. 그러나 보위를 재빨리 인종이 접수함으로써 경원대군 추대 시도는 실패한다. 이윽고 허약한 인종이 등극하였다. 이에 문정왕후는 대비가 되었는데, 야사에 의하면 문안차 대비전에 들어온 인종에게 문정왕후 윤씨는 어린 경원대군을 옆에 앉혀 두고 \"우리 모자가 전하의 손에 죽는 날이 멀지 않았소. 그려, 언제쯤 죽이려 하오?\"하고 협박하듯이 따져 물었다는 이야기가 전해진다 그런데 인종은 등극 8개월 만에 의문의 변사를 당하고 만다 나중에 사람들은 인종의 죽음을 문정왕후의 소행이라 의심하였다. 일설에는 인종이 그녀가 건네준 독이 든 떡을 먹고 죽었다는 설도 있다 모진 학대로 인종을 괴롭히던 문정왕후는 모처럼 인자한 웃음을 띠며 새 왕 인종에게 아첨이나 하듯 떡을 손수 가지고 들어와 권하였고, 마음 약한 인종은 계모에게 효성을 다하는 뜻에서 독이 든 그 떡을 먹고 그만 급사하고 말았던 것이다 그러나 인종이 억울하게 죽은 사실은 궐밖으로 새어나가게 되었다. 인종의 억울한 죽음에 대한 이야기는 궁중의 높은 담을 넘어 저자 거리에까지 퍼져 나갔다 그러나 어디까지나 설에 불과하고 실제로 인종승하의 큰 원인은 체질적으로 병약했던 원인도 있던데다 중종이 승하하고 빈전을 설치하는 과정에서 문정왕후가 교태전 근처에 있는 통명전에 빈전을 설치하여 남편인 중종을 모시고 싶었는데 문제는 통명전은 협소한데다 인종이 머무는 강녕전과는 거리가 있어 인종이 자주 방문하기에는 문제가 있었다. 결국 무리하게 빈소를 지키다보니 병약한 체력을 이기지 못하고 승하했다고 대부분 역사학자들은 보고 있다.',\n",
       "  '왕교는 혼인하여 딸 하나를 두었다. 왕교의 딸은 숙부인 대방공의 아들 왕유와 혼인하여 왕공을 낳았다. 왕공은 인종의 딸 영화궁주와 혼인하였으며, 훗날 소성후(邵城侯)로 책봉되었다 . * 조부 : 고려 제11대 문종(文宗, 1019년~1083년, 재위:1046년~1083년) * 조모 : 인예왕후(仁睿王后, ?~1092년) ** 백부 : 고려 제12대 순종(順宗, 1047년~1083년, 재위:1083년) ** 백부 : 고려 제13대 선종(宣宗, 1049년~1094년, 재위:1083년~1094년) *** 사촌 : 고려 제14대 헌종(獻宗, 1084년~1097년, 재위:1094년~1095년) ** 아버지 : 고려 제15대 숙종(肅宗, 1054년~1105년, 재위:1095년~1105년) * 외조부 : 유홍(柳洪, ?~1091년) ** 어머니 : 명의왕후(明懿王后, ?~1112년) *** 형 : 고려 제16대 예종(睿宗, 1079년~1122년, 재위:1105년~1122년) **** 조카 : 고려 제17대 인종(仁宗, 1109년~1146년, 재위:1122년~1146년) *** 형 : 상당후 왕필(上黨侯 王佖, ?~1099년) *** 형 : 원명국사 징엄(圓明國師 澄儼, 1090년~1141년) *** 형 : 대방공 왕보(帶方公 王俌, ?~1128년) **** 조카, 사위 : 왕유(王瑜, ?~1141년) *** 형 : 대원공 왕효(大原公 王侾, ?~1170년) *** 형 : 제안공 왕서(齊安公 王偦, ? ~ 1131년) *** 누나 : 대령궁주(大寧宮主, ?~1114년) *** 누나 : 흥수궁주(興壽宮主, ?~1122년) *** 누나 : 안수궁주(安壽宮主, 생몰년 미상) *** 누나 : 복녕궁주(福寧宮主, 1096년~1133년) *** 아내 **** 딸 : 왕씨 ****사위 : 왕유 ***** 외손자 : 소성후 왕공(邵城侯 王珙, 생몰년 미상)',\n",
       "  '인정전 안에는 정면에 임금님의 용상이 있고 그 뒤에는 나무로 만든 곡병과 곡병 뒤에는 일월오악도(日月五岳圖)라는 병풍이 있다.(근정전과 인정전 둘다똑았음) 병풍에는 음양을 뜻하는 해와 달이 있으며 이는 다시 왕과 왕비를 상징한다. 그 아래 다섯 개의 산봉우리는 우리나라의 동,서,남,북,중앙의 다섯 산을 가리키며 이는 국토를 의미한다. 이것은 임금이 중앙에서 사방을 다스리고, 음양의 이치에 따라 정치를 펼친다는 뜻을 담고 있기도 하다. 그리고 주변에는 유리창을 비롯하여 전구나 커튼 등 서양 장신구가 설치되어 있는데, 이는 구한말 외국과의 수교 후 다양한 외래 문물이 들어 온 것이며, 1907년 순종이 덕수궁에서 창덕궁으로 이어한 후에 인정전의 실내바닥이 전돌에서 마루로 바뀌고, 전구가 설치되는 등 부분적인 변화가 일어났다. 참고로 5대궁 중에서 처음으로 전기가 들어온 곳은 1887년 경복궁이다.',\n",
       "  '복녕궁주는 종실인 진강백 왕연에게 시집갔다. 진강백은 문종과 인경현비의 아들인 진한공 왕유의 아들로, 복녕궁주와는 친사촌간이다. 1120년(예종 15년) 음력 12월 25일에 검교사도 수사공 진강백에 봉해졌으며 , 1146년(인종 24년) 음력 2월 20일에 죽었다 . * 조부 : 고려 제11대 문종(文宗, 1019년~1083년, 재위:1046년~1083년) * 조모 : 문종 제2비 인예왕후(仁睿王后, ?~1092년) ** 백부 : 고려 제12대 순종(順宗, 1047년~1083년, 재위:1083년) ** 백부 : 고려 제13대 선종(宣宗, 1049년~1094년, 재위:1083년~1094년) *** 사촌 : 고려 제14대 헌종(獻宗, 1084년~1097년, 재위:1094년~1095년) ** 아버지 : 고려 제15대 숙종(肅宗, 1054년~1105년, 재위:1095년~1105년) * 외조부 : 유홍(柳洪, ?~1091년) ** 어머니 : 명의왕후(明懿王后, ?~1112년) *** 남매 : 고려 제16대 예종(睿宗, 1079년~1122년, 재위:1105년~1122년) **** 조카 : 고려 제17대 인종(仁宗, 1109년~1146년, 재위:1122년~1146년) *** 남매 : 상당후 왕필(上黨侯 王佖, ?~1099년) *** 남매 : 원명국사 징엄(圓明國師 澄儼, 1090년~1141년) *** 남매 : 대방공 왕보(帶方公 王俌, ?~1128년) *** 남매 : 대원공 왕효(大原公 王侾, 1093~1161 ) *** 남매 : 제안공 왕서(齊安公 王偦, ? ~ 1131년) *** 남매 : 통의후 왕교(通義侯 王僑, 1097년~1119년) *** 언니 : 대령궁주(大寧宮主, ?~1114년) *** 언니 : 흥수궁주(興壽宮主, ?~1123년) *** 언니 : 안수궁주(安壽宮主, 생몰년 미상) * 시조모 : 문종 제3비 인경현비(仁敬賢妃, 생몰년 미상) ** 시아버지 : 진한공 왕유(辰韓公 王愉, ?~1099년) *** 남편 : 진강백 왕연(晉康伯 王演, ?~1146년)',\n",
       "  '대령궁주는 진한공 왕유의 아들 회안백 왕기와 혼인하였다. 진한공은 문종의 아들로, 숙종의 이모인 인경현비 소생이다. 따라서 회안백과 대령궁주는 사촌 이자 육촌 이 되며, 이 둘의 혼인은 근친혼의 한 사례이다. 회안백은 예종 때 검교사공에 봉해졌다가, 대령궁주와 혼인한 후 검교사도 수사공 회안백에 봉해지고 식읍 2,000호와 식실 300호를 받았다. 그러나 훗날 최도원, 백사윤 등의 무리와 어울려 다니며 무뢰한 짓을 일삼다가 유배를 가게 되었고, 다시 개경으로 소환되었다가 1126년(인종 4년) 음력 2월 21일에 죽었다 . * 조부 : 고려 제11대 문종(文宗, 1019~1083, 재위:1046~1083) * 조모 : 문종 제2비 인예왕후(仁睿王后, ?~1092) ** 백부 : 고려 제12대 순종(順宗, 1047~1083, 재위:1083) ** 백부 : 고려 제13대 선종(宣宗, 1049~1094, 재위:1083~1094) *** 사촌 : 고려 제14대 헌종(獻宗, 1084~1097, 재위:1094~1095) ** 아버지 : 고려 제15대 숙종(肅宗, 1054~1105, 재위:1095~1105) * 외조부 : 유홍(柳洪, ?~1091) ** 어머니 : 명의왕후(明懿王后, ?~1112) *** 남매 : 고려 제16대 예종(睿宗, 1079~1122, 재위:1105~1122) **** 조카 : 고려 제17대 인종(仁宗, 1109~1146, 재위:1122~1146) *** 남매 : 상당후 왕필(上黨侯 王佖, ?~1099) *** 남매 : 원명국사 징엄(圓明國師 澄儼, 1090~1141) *** 남매 : 대방공 왕보(帶方公 王俌, ?~1128) *** 남매 : 대원공 왕효(大原公 王侾, ? ~ 1170) *** 남매 : 제안공 왕서(齊安公 王偦, ? ~ 1131) *** 동생 : 통의후 왕교(通義侯 王僑, 1097~1119) *** 동생 : 흥수궁주(興壽宮主, ?~1122) *** 동생 : 안수궁주(安壽宮主, 생몰년 미상) *** 동생 : 복녕궁주(福寧宮主, 1096~1133) * 시조모 : 문종 제3비 인경현비(仁敬賢妃, 생몰년 미상) ** 시아버지 : 진한공 왕유(辰韓公 王愉, ?~1099) *** 남편 : 회안백 왕기(淮安伯 王沂, ?~1126)'])"
      ]
     },
     "execution_count": 15,
     "metadata": {},
     "output_type": "execute_result"
    }
   ],
   "source": [
    "train_dataset['top_k_passage'][i], valid_dataset['top_k_passage'][i]"
   ]
  },
  {
   "cell_type": "code",
   "execution_count": 1,
   "metadata": {},
   "outputs": [],
   "source": [
    "import pickle\n",
    "with open(\"/opt/ml/data/valid_pickle/bm25_top10_pp1.pickle\", \"rb\") as f:\n",
    "    v = pickle.load(f)"
   ]
  },
  {
   "cell_type": "code",
   "execution_count": 6,
   "metadata": {},
   "outputs": [
    {
     "data": {
      "text/plain": [
       "('순천여자고등학교 졸업, 1973년 이화여자대학교를 졸업하고 1975년 제17회 사법시험에 합격하여 판사로 임용되었고 대법원 재판연구관, 수원지법 부장판사, 사법연수원 교수, 특허법원 부장판사 등을 거쳐 능력을 인정받았다. 2003년 최종영 대법원장의 지명으로 헌법재판소 재판관을 역임하였다. 경제민주화위원회(위원장 장하성이 소액주주들을 대표해 한보철강 부실대출에 책임이 있는 이철수 전 제일은행장 등 임원 4명을 상대로 제기한 손해배상청구소송에서 서울지방법원 민사합의17부는 1998년 7월 24일에 \"한보철강에 부실 대출하여 은행에 막대한 손해를 끼친 점이 인정된다\"며 \"원고가 배상을 청구한 400억원 전액을 은행에 배상하라\"고 하면서 부실 경영인에 대한 최초의 배상 판결을 했다. 2004년 10월 신행정수도의건설을위한특별조치법 위헌 확인 소송에서 9인의 재판관 중 유일하게 각하 견해를 내었다. 소수의견에서 전효숙 재판관은 다수견해의 문제점을 지적하면서 관습헌법 법리를 부정하였다. 전효숙 재판관은 서울대학교 근대법학교육 백주년 기념관에서 열린 강연에서, 국회가 고도의 정치적인 사안을 정치로 풀기보다는 헌법재판소에 무조건 맡겨서 해결하려는 자세는 헌법재판소에게 부담스럽다며 소회를 밝힌 바 있다.',\n",
       " 0,\n",
       " 10)"
      ]
     },
     "execution_count": 6,
     "metadata": {},
     "output_type": "execute_result"
    }
   ],
   "source": [
    "v['original_context'][0], v['target'][0], len(v['top_k_passage'][0])"
   ]
  },
  {
   "cell_type": "code",
   "execution_count": null,
   "metadata": {},
   "outputs": [],
   "source": [
    "DPR_passage['original_context'][0]\n",
    "DPR_passage['context'][0]"
   ]
  },
  {
   "cell_type": "code",
   "execution_count": 15,
   "metadata": {},
   "outputs": [],
   "source": [
    "from glob import glob\n",
    "\n",
    "file_list = glob('/opt/ml/mrc-level2-nlp-02/retriever/encoders/*')"
   ]
  },
  {
   "cell_type": "code",
   "execution_count": 16,
   "metadata": {},
   "outputs": [
    {
     "data": {
      "text/plain": [
       "['/opt/ml/mrc-level2-nlp-02/retriever/encoders/bert-base_ep2_bs2_topk20_acs8_pp1_lr5e-05',\n",
       " '/opt/ml/mrc-level2-nlp-02/retriever/encoders/roberta-large_ep4_bs1_topk10_acs1_pp2_lr1e-05',\n",
       " '/opt/ml/mrc-level2-nlp-02/retriever/encoders/bert-base_ep2_bs1_topk10_acs8_pp1_lr5e-05']"
      ]
     },
     "execution_count": 16,
     "metadata": {},
     "output_type": "execute_result"
    }
   ],
   "source": [
    "file_list"
   ]
  },
  {
   "cell_type": "code",
   "execution_count": 18,
   "metadata": {},
   "outputs": [
    {
     "name": "stdout",
     "output_type": "stream",
     "text": [
      "0 : bert-base_ep2_bs2_topk20_acs8_pp1_lr5e-05\n",
      "1 : roberta-large_ep4_bs1_topk10_acs1_pp2_lr1e-05\n",
      "2 : bert-base_ep2_bs1_topk10_acs8_pp1_lr5e-05\n"
     ]
    }
   ],
   "source": [
    "for idx, file_name in   (file_list):\n",
    "    print(f\"{idx} : {file_name.split('/')[-1]}\")"
   ]
  },
  {
   "cell_type": "code",
   "execution_count": null,
   "metadata": {},
   "outputs": [],
   "source": []
  }
 ],
 "metadata": {
  "interpreter": {
   "hash": "d4d1e4263499bec80672ea0156c357c1ee493ec2b1c70f0acce89fc37c4a6abe"
  },
  "kernelspec": {
   "display_name": "Python 3.8.5 64-bit ('base': conda)",
   "name": "python3"
  },
  "language_info": {
   "codemirror_mode": {
    "name": "ipython",
    "version": 3
   },
   "file_extension": ".py",
   "mimetype": "text/x-python",
   "name": "python",
   "nbconvert_exporter": "python",
   "pygments_lexer": "ipython3",
   "version": "3.8.5"
  },
  "orig_nbformat": 4
 },
 "nbformat": 4,
 "nbformat_minor": 2
}
