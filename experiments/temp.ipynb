{
 "cells": [
  {
   "cell_type": "markdown",
   "id": "cdf2a29e-5079-4bf2-a902-7ba7fa43409c",
   "metadata": {
    "jp-MarkdownHeadingCollapsed": true,
    "tags": []
   },
   "source": [
    "# 원래 type_token_ids는 어떻게 나와야 할까? (확인 완)"
   ]
  },
  {
   "cell_type": "code",
   "execution_count": 1,
   "id": "6dde89ae-9f65-45ca-81c6-e448e9821298",
   "metadata": {},
   "outputs": [
    {
     "name": "stderr",
     "output_type": "stream",
     "text": [
      "Reusing dataset glue (/opt/ml/.cache/huggingface/datasets/glue/mrpc/1.0.0/7c99657241149a24692c402a5c3f34d4c9f1df5ac2e4c3759fadea38f6cb29c4)\n"
     ]
    },
    {
     "data": {
      "application/vnd.jupyter.widget-view+json": {
       "model_id": "2b0bc1b437f4494185ab349a9153f247",
       "version_major": 2,
       "version_minor": 0
      },
      "text/plain": [
       "HBox(children=(FloatProgress(value=0.0, max=4.0), HTML(value='')))"
      ]
     },
     "metadata": {},
     "output_type": "display_data"
    },
    {
     "name": "stdout",
     "output_type": "stream",
     "text": [
      "\n"
     ]
    },
    {
     "data": {
      "application/vnd.jupyter.widget-view+json": {
       "model_id": "a2539343552f4a9b8647333126f5018a",
       "version_major": 2,
       "version_minor": 0
      },
      "text/plain": [
       "HBox(children=(FloatProgress(value=0.0, max=1.0), HTML(value='')))"
      ]
     },
     "metadata": {},
     "output_type": "display_data"
    },
    {
     "name": "stdout",
     "output_type": "stream",
     "text": [
      "\n"
     ]
    },
    {
     "data": {
      "application/vnd.jupyter.widget-view+json": {
       "model_id": "105e579127ff4f9fb92ec1165de0a49e",
       "version_major": 2,
       "version_minor": 0
      },
      "text/plain": [
       "HBox(children=(FloatProgress(value=0.0, max=2.0), HTML(value='')))"
      ]
     },
     "metadata": {},
     "output_type": "display_data"
    },
    {
     "name": "stdout",
     "output_type": "stream",
     "text": [
      "\n"
     ]
    }
   ],
   "source": [
    "from datasets import load_dataset\n",
    "from transformers import AutoTokenizer, DataCollatorWithPadding, DataCollatorForLanguageModeling\n",
    "\n",
    "raw_datasets = load_dataset(\"glue\", \"mrpc\")\n",
    "checkpoint = \"bert-base-uncased\"\n",
    "tokenizer = AutoTokenizer.from_pretrained(checkpoint)\n",
    "\n",
    "def tokenize_function(example):\n",
    "    return tokenizer(example[\"sentence1\"], truncation=True)\n",
    "\n",
    "tokenized_datasets = raw_datasets.map(tokenize_function, batched=True)\n",
    "# data_collator = DataCollatorWithPadding(tokenizer=tokenizer)\n",
    "data_collator = DataCollatorForLanguageModeling(tokenizer=tokenizer)"
   ]
  },
  {
   "cell_type": "code",
   "execution_count": 2,
   "id": "c5e4e75b-b329-43fa-b9fe-3f5a5144e250",
   "metadata": {},
   "outputs": [
    {
     "data": {
      "text/plain": [
       "'Amrozi accused his brother , whom he called \" the witness \" , of deliberately distorting his evidence .'"
      ]
     },
     "execution_count": 2,
     "metadata": {},
     "output_type": "execute_result"
    }
   ],
   "source": [
    "raw_datasets['train']['sentence1'][0]"
   ]
  },
  {
   "cell_type": "code",
   "execution_count": 3,
   "id": "df943829-b751-48b1-a5b5-dc231f7662ef",
   "metadata": {},
   "outputs": [
    {
     "data": {
      "text/plain": [
       "['attention_mask', 'input_ids', 'labels', 'token_type_ids']"
      ]
     },
     "execution_count": 3,
     "metadata": {},
     "output_type": "execute_result"
    }
   ],
   "source": [
    "tokenized_datasets = tokenized_datasets.remove_columns(\n",
    "    [\"sentence1\", \"sentence2\", \"idx\"]\n",
    ") # 필요 없는 column 제거\n",
    "tokenized_datasets = tokenized_datasets.rename_column(\"label\", \"labels\") # column 이름 변경\n",
    "tokenized_datasets.set_format(\"torch\") # format 변경\n",
    "tokenized_datasets[\"train\"].column_names"
   ]
  },
  {
   "cell_type": "code",
   "execution_count": 4,
   "id": "b204deff-1d1a-4fa6-b91e-5f1167a9b189",
   "metadata": {},
   "outputs": [
    {
     "name": "stderr",
     "output_type": "stream",
     "text": [
      "/opt/conda/lib/python3.8/site-packages/datasets/formatting/formatting.py:147: VisibleDeprecationWarning: Creating an ndarray from ragged nested sequences (which is a list-or-tuple of lists-or-tuples-or ndarrays with different lengths or shapes) is deprecated. If you meant to do this, you must specify 'dtype=object' when creating the ndarray\n",
      "  return np.array(array, copy=False, **self.np_array_kwargs)\n"
     ]
    },
    {
     "data": {
      "text/plain": [
       "tensor([0, 0, 0, 0, 0, 0, 0, 0, 0, 0, 0, 0, 0, 0, 0, 0, 0, 0, 0, 0, 0, 0, 0, 0,\n",
       "        0])"
      ]
     },
     "execution_count": 4,
     "metadata": {},
     "output_type": "execute_result"
    }
   ],
   "source": [
    "tokenized_datasets[\"train\"]['token_type_ids'][0]"
   ]
  },
  {
   "cell_type": "code",
   "execution_count": 5,
   "id": "26d4bf42-8c0b-4e2d-a509-5c92cc8b4c73",
   "metadata": {},
   "outputs": [
    {
     "data": {
      "text/plain": [
       "'[CLS] amrozi accused his brother, whom he called \" the witness \", of deliberately distorting his evidence. [SEP]'"
      ]
     },
     "execution_count": 5,
     "metadata": {},
     "output_type": "execute_result"
    }
   ],
   "source": [
    "tokenizer.decode(tokenized_datasets[\"train\"]['input_ids'][0])"
   ]
  },
  {
   "cell_type": "code",
   "execution_count": 6,
   "id": "f2e28346-576f-4892-a122-be5c44b1cfc2",
   "metadata": {},
   "outputs": [],
   "source": [
    "from torch.utils.data import DataLoader\n",
    "\n",
    "train_dataloader = DataLoader(\n",
    "    tokenized_datasets[\"train\"], shuffle=False, batch_size=8, collate_fn=data_collator\n",
    ")"
   ]
  },
  {
   "cell_type": "code",
   "execution_count": 7,
   "id": "21d9d4cf-7b6f-4153-b433-27b655843de5",
   "metadata": {},
   "outputs": [
    {
     "data": {
      "text/plain": [
       "{'attention_mask': torch.Size([8, 41]),\n",
       " 'input_ids': torch.Size([8, 41]),\n",
       " 'labels': torch.Size([8, 41]),\n",
       " 'token_type_ids': torch.Size([8, 41])}"
      ]
     },
     "execution_count": 7,
     "metadata": {},
     "output_type": "execute_result"
    }
   ],
   "source": [
    "# data processing이 잘 되었는지 하나의 batch로 확인해보기\n",
    "for batch in train_dataloader:\n",
    "    break\n",
    "{k: v.shape for k, v in batch.items()}"
   ]
  },
  {
   "cell_type": "code",
   "execution_count": 8,
   "id": "5deb00c9-4969-4834-8324-3140f905e469",
   "metadata": {},
   "outputs": [
    {
     "data": {
      "text/plain": [
       "tensor([0, 0, 0, 0, 0, 0, 0, 0, 0, 0, 0, 0, 0, 0, 0, 0, 0, 0, 0, 0, 0, 0, 0, 0,\n",
       "        0, 0, 0, 0, 0, 0, 0, 0, 0, 0, 0, 0, 0, 0, 0, 0, 0])"
      ]
     },
     "execution_count": 8,
     "metadata": {},
     "output_type": "execute_result"
    }
   ],
   "source": [
    "batch.token_type_ids[0]"
   ]
  },
  {
   "cell_type": "code",
   "execution_count": 9,
   "id": "f1b3eef7-3dd8-4ef6-8596-ac6c3491ab96",
   "metadata": {},
   "outputs": [
    {
     "data": {
      "text/plain": [
       "'[CLS] amrozi accused his brother¢ whom he called \" [MASK] witness \", of deliberately [MASK]storting his evidence. [SEP] [PAD] [PAD] [PAD] [PAD] [PAD] [PAD] [PAD] [PAD] [PAD] [PAD] [PAD] [PAD] [PAD] [PAD] [PAD] [PAD]'"
      ]
     },
     "execution_count": 9,
     "metadata": {},
     "output_type": "execute_result"
    }
   ],
   "source": [
    "tokenizer.decode(batch.input_ids[0])"
   ]
  },
  {
   "cell_type": "markdown",
   "id": "012134b0-9e47-424f-8ce1-116a6d71a641",
   "metadata": {
    "tags": []
   },
   "source": [
    "# validation 데이터셋 눈으로 확인하기"
   ]
  },
  {
   "cell_type": "code",
   "execution_count": 10,
   "id": "d0f7d64c-230a-4f65-984a-a3301b670a7c",
   "metadata": {},
   "outputs": [],
   "source": [
    "import pandas as pd\n",
    "from datasets import load_from_disk"
   ]
  },
  {
   "cell_type": "code",
   "execution_count": 11,
   "id": "728a7242-95e9-4c15-a818-5771037ac29f",
   "metadata": {},
   "outputs": [],
   "source": [
    "val_dataset = load_from_disk('/opt/ml/data/train_dataset/validation')"
   ]
  },
  {
   "cell_type": "code",
   "execution_count": 12,
   "id": "344348e9-0205-4497-89bc-1f71b0ef0229",
   "metadata": {},
   "outputs": [
    {
     "data": {
      "text/plain": [
       "Dataset({\n",
       "    features: ['__index_level_0__', 'answers', 'context', 'document_id', 'id', 'question', 'title'],\n",
       "    num_rows: 240\n",
       "})"
      ]
     },
     "execution_count": 12,
     "metadata": {},
     "output_type": "execute_result"
    }
   ],
   "source": [
    "val_dataset"
   ]
  },
  {
   "cell_type": "markdown",
   "id": "e7d52795-319d-4a2e-9c36-71b2422c6a33",
   "metadata": {
    "jp-MarkdownHeadingCollapsed": true,
    "tags": []
   },
   "source": [
    "## Validation 데이터셋 - answers"
   ]
  },
  {
   "cell_type": "code",
   "execution_count": 14,
   "id": "bfe93e2b-8d2e-49ad-8f51-ddfe8cf65d86",
   "metadata": {},
   "outputs": [
    {
     "data": {
      "text/plain": [
       "[{'answer_start': [284], 'text': ['한보철강']},\n",
       " {'answer_start': [146], 'text': ['1871년']},\n",
       " {'answer_start': [517], 'text': ['나뭇잎']},\n",
       " {'answer_start': [1109], 'text': ['금대야']},\n",
       " {'answer_start': [386], 'text': ['수평적 관계']},\n",
       " {'answer_start': [408], 'text': ['옥음방송']},\n",
       " {'answer_start': [192], 'text': ['코칭 스티치']},\n",
       " {'answer_start': [31], 'text': ['복잡한 감염병']},\n",
       " {'answer_start': [625], 'text': ['스페인']},\n",
       " {'answer_start': [71], 'text': ['20세기 초']},\n",
       " {'answer_start': [274], 'text': ['\"5월의 왕\"']},\n",
       " {'answer_start': [901], 'text': [\"'일급 비밀 프로젝트 2501'\"]},\n",
       " {'answer_start': [430], 'text': ['테헤란']},\n",
       " {'answer_start': [317], 'text': ['역사교육과정개발추진위원회']},\n",
       " {'answer_start': [1429], 'text': ['1967년 11월 15일']},\n",
       " {'answer_start': [0], 'text': ['1965년']},\n",
       " {'answer_start': [162], 'text': ['아리크 부케']},\n",
       " {'answer_start': [709], 'text': ['〈중앙일보〉']},\n",
       " {'answer_start': [304], 'text': ['미타케성']},\n",
       " {'answer_start': [536], 'text': ['전체 4순위']},\n",
       " {'answer_start': [689], 'text': ['뇌물']},\n",
       " {'answer_start': [78], 'text': ['보통 유형 준융합성 천연두']},\n",
       " {'answer_start': [366], 'text': ['데스탱 장군']},\n",
       " {'answer_start': [197], 'text': ['박트리아']},\n",
       " {'answer_start': [70], 'text': [\"'진전(陳田)'이라 새겨진 기와조각\"]},\n",
       " {'answer_start': [354], 'text': ['《국가》']},\n",
       " {'answer_start': [6], 'text': ['2011년 3월 19일']},\n",
       " {'answer_start': [61], 'text': ['유럽 포르투갈어']},\n",
       " {'answer_start': [585], 'text': ['메이저 릿지']},\n",
       " {'answer_start': [726], 'text': ['요희']},\n",
       " {'answer_start': [604], 'text': ['포드 극장']},\n",
       " {'answer_start': [317], 'text': ['만주국 관리']},\n",
       " {'answer_start': [312], 'text': ['『협동조합에 관하여』']},\n",
       " {'answer_start': [61], 'text': ['도고쿠']},\n",
       " {'answer_start': [192], 'text': ['몽키 D. 가프']},\n",
       " {'answer_start': [180], 'text': ['조류']},\n",
       " {'answer_start': [540], 'text': ['광주교도소']},\n",
       " {'answer_start': [978], 'text': ['작가 베게티우스']},\n",
       " {'answer_start': [212], 'text': ['가오슝 시']},\n",
       " {'answer_start': [580], 'text': ['쇠망치']},\n",
       " {'answer_start': [1036], 'text': ['마리즈 교수']},\n",
       " {'answer_start': [1424], 'text': ['런던']},\n",
       " {'answer_start': [71], 'text': ['이틀']},\n",
       " {'answer_start': [35], 'text': ['의상대사']},\n",
       " {'answer_start': [135], 'text': ['홋카이도']},\n",
       " {'answer_start': [170], 'text': ['‘우유의 바다’']},\n",
       " {'answer_start': [305], 'text': ['장어']},\n",
       " {'answer_start': [377], 'text': ['소련']},\n",
       " {'answer_start': [305], 'text': ['전치']},\n",
       " {'answer_start': [104], 'text': ['흑색육(黑色肉)']},\n",
       " {'answer_start': [81], 'text': ['욱']},\n",
       " {'answer_start': [624], 'text': ['독일인민당']},\n",
       " {'answer_start': [429], 'text': ['하기노 역']},\n",
       " {'answer_start': [13], 'text': ['회칠']},\n",
       " {'answer_start': [534], 'text': ['황강다리']},\n",
       " {'answer_start': [278], 'text': ['직업 교육']},\n",
       " {'answer_start': [255], 'text': ['공산당']},\n",
       " {'answer_start': [564], 'text': ['매년 음력 정월']},\n",
       " {'answer_start': [258], 'text': ['조계종']},\n",
       " {'answer_start': [89], 'text': ['베이징']},\n",
       " {'answer_start': [219], 'text': ['독일군']},\n",
       " {'answer_start': [47], 'text': ['1932년']},\n",
       " {'answer_start': [0], 'text': ['제서지전(齊西之戰)이후']},\n",
       " {'answer_start': [231], 'text': ['가루아']},\n",
       " {'answer_start': [155], 'text': ['출생 천궁도']},\n",
       " {'answer_start': [915], 'text': ['나말여초']},\n",
       " {'answer_start': [1114], 'text': ['1939년']},\n",
       " {'answer_start': [555], 'text': ['창 절제술']},\n",
       " {'answer_start': [302], 'text': ['도버 밀']},\n",
       " {'answer_start': [33], 'text': ['여정현(呂正鉉)']},\n",
       " {'answer_start': [277], 'text': ['광배']},\n",
       " {'answer_start': [446], 'text': ['울산']},\n",
       " {'answer_start': [504], 'text': ['땅(은색)과 하늘(금색)을 맺고 푸는 권한']},\n",
       " {'answer_start': [435], 'text': ['저수지']},\n",
       " {'answer_start': [215], 'text': ['퀘이커 교']},\n",
       " {'answer_start': [206], 'text': ['피에르 오주로']},\n",
       " {'answer_start': [121], 'text': ['지분']},\n",
       " {'answer_start': [108], 'text': ['독일']},\n",
       " {'answer_start': [412], 'text': ['제 3자']},\n",
       " {'answer_start': [75], 'text': ['페이팔']},\n",
       " {'answer_start': [1013], 'text': ['가리타 히사노리']},\n",
       " {'answer_start': [101], 'text': ['점수']},\n",
       " {'answer_start': [250], 'text': ['코스모케라톱스']},\n",
       " {'answer_start': [536], 'text': [\"'사채회사'\"]},\n",
       " {'answer_start': [386], 'text': ['스위스']},\n",
       " {'answer_start': [272], 'text': ['\"공유지의 비극\"']},\n",
       " {'answer_start': [1222], 'text': ['그 자체가 계급 모순을 가지는 체제']},\n",
       " {'answer_start': [228], 'text': ['해리 트루먼 대통령']},\n",
       " {'answer_start': [256], 'text': ['무위태수']},\n",
       " {'answer_start': [522], 'text': ['크라운라이터']},\n",
       " {'answer_start': [10], 'text': ['1990년 9월']},\n",
       " {'answer_start': [459], 'text': ['\"인간과 요괴의 완전한 평등\"']},\n",
       " {'answer_start': [209], 'text': ['경순왕']},\n",
       " {'answer_start': [13], 'text': ['도널드 트럼프 미국 대통령']},\n",
       " {'answer_start': [264], 'text': ['바르톨로메오 브뤼기에르']},\n",
       " {'answer_start': [83], 'text': ['불교']},\n",
       " {'answer_start': [591], 'text': ['경위대식 망원경']},\n",
       " {'answer_start': [523], 'text': ['남큐슈 자동차 전용 도로']},\n",
       " {'answer_start': [520], 'text': ['세실리아 페인']},\n",
       " {'answer_start': [135], 'text': ['웹 2.0']},\n",
       " {'answer_start': [191], 'text': ['수녀']},\n",
       " {'answer_start': [476], 'text': ['맨해튼']},\n",
       " {'answer_start': [90], 'text': ['상대성이론']},\n",
       " {'answer_start': [459], 'text': ['손권']},\n",
       " {'answer_start': [790], 'text': ['350년']},\n",
       " {'answer_start': [75], 'text': ['펜실베이니아주 출신']},\n",
       " {'answer_start': [120], 'text': ['트렁크']},\n",
       " {'answer_start': [1029], 'text': ['데코행진']},\n",
       " {'answer_start': [155], 'text': ['약 600년']},\n",
       " {'answer_start': [637],\n",
       "  'text': ['깃털 셔틀콕의 타구감을 선호하고, 또한 플라스틱보다 깃털 셔틀콕이 정교한 컨트롤을 하기에 보다 더 적합하기 때문이다']},\n",
       " {'answer_start': [505], 'text': ['1998년']},\n",
       " {'answer_start': [493], 'text': ['드라']},\n",
       " {'answer_start': [530], 'text': ['가르미슈파르텐키르헨']},\n",
       " {'answer_start': [92], 'text': ['정태적인 자본주의']},\n",
       " {'answer_start': [454], 'text': ['데미안']},\n",
       " {'answer_start': [61], 'text': ['목판']},\n",
       " {'answer_start': [397], 'text': ['34자']},\n",
       " {'answer_start': [251], 'text': ['혼묘지']},\n",
       " {'answer_start': [67], 'text': ['바르바로사 작전']},\n",
       " {'answer_start': [82], 'text': ['동계건조(wintertrocken)']},\n",
       " {'answer_start': [444], 'text': ['혹']},\n",
       " {'answer_start': [331], 'text': ['중간 생산물']},\n",
       " {'answer_start': [177], 'text': ['귀인 평향과 행동의 상관 관계']},\n",
       " {'answer_start': [20], 'text': ['높은 전위의 전극']},\n",
       " {'answer_start': [333], 'text': ['기독교']},\n",
       " {'answer_start': [106], 'text': ['1945년']},\n",
       " {'answer_start': [353], 'text': ['브리튼인들']},\n",
       " {'answer_start': [84], 'text': ['미국']},\n",
       " {'answer_start': [351], 'text': ['1기']},\n",
       " {'answer_start': [251], 'text': ['전쟁']},\n",
       " {'answer_start': [870], 'text': ['뇌졸중']},\n",
       " {'answer_start': [0], 'text': ['김수환 추기경']},\n",
       " {'answer_start': [248], 'text': ['60년간']},\n",
       " {'answer_start': [34], 'text': ['페름기']},\n",
       " {'answer_start': [143], 'text': ['서남쪽']},\n",
       " {'answer_start': [498], 'text': ['대형 항공 모함 도로스']},\n",
       " {'answer_start': [1094], 'text': ['성벽에 목이 매달리는 교수형']},\n",
       " {'answer_start': [151], 'text': ['곽상']},\n",
       " {'answer_start': [34], 'text': ['신도 케이']},\n",
       " {'answer_start': [369], 'text': ['디오게네스']},\n",
       " {'answer_start': [718], 'text': ['비밀 투표']},\n",
       " {'answer_start': [0], 'text': ['61화']},\n",
       " {'answer_start': [836], 'text': ['카누']},\n",
       " {'answer_start': [55], 'text': ['알프스 전기 주식회사']},\n",
       " {'answer_start': [48], 'text': ['크리스타']},\n",
       " {'answer_start': [279], 'text': ['배상금을 주기 위하여']},\n",
       " {'answer_start': [852],\n",
       "  'text': ['본국 의회가 식민지에 대한 입법을 “어떤 경우에도 행할 수” 있도록 하였다']},\n",
       " {'answer_start': [42], 'text': ['속도별 배치']},\n",
       " {'answer_start': [943], 'text': ['1975년']},\n",
       " {'answer_start': [251], 'text': ['제비초리']},\n",
       " {'answer_start': [317], 'text': ['석달']},\n",
       " {'answer_start': [727], 'text': ['보은군 남쪽 상용리(현 영동군 용산면 상용리) 마을']},\n",
       " {'answer_start': [115], 'text': ['태화관(서울시 종로구 인사동 소재)']},\n",
       " {'answer_start': [186], 'text': ['식재료']},\n",
       " {'answer_start': [119], 'text': ['하노이']},\n",
       " {'answer_start': [468], 'text': ['공정']},\n",
       " {'answer_start': [835], 'text': ['좌우대칭']},\n",
       " {'answer_start': [885], 'text': ['1913년']},\n",
       " {'answer_start': [515], 'text': ['바라나시']},\n",
       " {'answer_start': [185], 'text': ['대령']},\n",
       " {'answer_start': [0], 'text': ['걸프 카르텔(카르텔 델 골포: Cartel del golfo)']},\n",
       " {'answer_start': [72], 'text': ['피터 케스카트 왓슨']},\n",
       " {'answer_start': [435], 'text': ['충격파']},\n",
       " {'answer_start': [531], 'text': ['대한민국 3보병사단']},\n",
       " {'answer_start': [234], 'text': ['우리의 훌륭한 중국 동료']},\n",
       " {'answer_start': [811], 'text': ['감정 전염']},\n",
       " {'answer_start': [803], 'text': ['스위치 이더넷']},\n",
       " {'answer_start': [365], 'text': ['소비감소']},\n",
       " {'answer_start': [357], 'text': ['마츠키 촌']},\n",
       " {'answer_start': [929], 'text': ['사춘기에서 흔히 볼 수 있는 정서적 불안정성']},\n",
       " {'answer_start': [1190], 'text': ['시트르산 회로']},\n",
       " {'answer_start': [502], 'text': ['아케디아']},\n",
       " {'answer_start': [171], 'text': ['에마뉘엘의 과시하는 듯한 신앙심']},\n",
       " {'answer_start': [296], 'text': ['소비자들의 반응']},\n",
       " {'answer_start': [843], 'text': ['아일랜드 선교자 골룸바노']},\n",
       " {'answer_start': [161], 'text': ['다케다']},\n",
       " {'answer_start': [174], 'text': ['악당']},\n",
       " {'answer_start': [362], 'text': ['유이엔']},\n",
       " {'answer_start': [335], 'text': ['트레뻬제 부대']},\n",
       " {'answer_start': [390], 'text': ['포스카르네트']},\n",
       " {'answer_start': [127], 'text': ['면세증']},\n",
       " {'answer_start': [285], 'text': ['숙의 정씨']},\n",
       " {'answer_start': [58], 'text': ['남성연대 홈페이지']},\n",
       " {'answer_start': [1018], 'text': ['1895년']},\n",
       " {'answer_start': [379], 'text': ['《천체의 회전에 관하여》']},\n",
       " {'answer_start': [738], 'text': ['히로시마']},\n",
       " {'answer_start': [884], 'text': ['5·16 광장(여의도 광장)']},\n",
       " {'answer_start': [514], 'text': ['6m']},\n",
       " {'answer_start': [243], 'text': ['이등공송덕비건의소']},\n",
       " {'answer_start': [609], 'text': ['헬리오시스']},\n",
       " {'answer_start': [209], 'text': ['할머니']},\n",
       " {'answer_start': [444], 'text': ['탄광']},\n",
       " {'answer_start': [864], 'text': ['1796년']},\n",
       " {'answer_start': [79], 'text': ['피자헛']},\n",
       " {'answer_start': [302], 'text': ['가산']},\n",
       " {'answer_start': [781], 'text': ['마거릿 대처 전 영국수상']},\n",
       " {'answer_start': [59], 'text': ['디지털 컴퓨터']},\n",
       " {'answer_start': [995], 'text': ['35년']},\n",
       " {'answer_start': [524], 'text': ['트르피미로비치 왕조(Trpimirović) 출신의 문치미르']},\n",
       " {'answer_start': [327], 'text': ['1947년']},\n",
       " {'answer_start': [442], 'text': ['아이치 전기 전용선']},\n",
       " {'answer_start': [789], 'text': [\"'달빛 정원'(Moonlight Garden)\"]},\n",
       " {'answer_start': [693], 'text': ['란다우 튜브']},\n",
       " {'answer_start': [406], 'text': ['우천']},\n",
       " {'answer_start': [214], 'text': ['＜젊은 근위대＞']},\n",
       " {'answer_start': [163], 'text': ['10만필']},\n",
       " {'answer_start': [226], 'text': ['군대']},\n",
       " {'answer_start': [471], 'text': ['차고나라 전투']},\n",
       " {'answer_start': [33], 'text': ['봅슬레이']},\n",
       " {'answer_start': [301], 'text': ['일등병 토머스']},\n",
       " {'answer_start': [1290], 'text': ['1966년']},\n",
       " {'answer_start': [579], 'text': ['클레몽트']},\n",
       " {'answer_start': [549], 'text': ['17세기 조선 시대']},\n",
       " {'answer_start': [369], 'text': ['모']},\n",
       " {'answer_start': [1056], 'text': ['수입 금지 조치']},\n",
       " {'answer_start': [70], 'text': ['\"광휘에의 각성\"(코키에노 메자메)']},\n",
       " {'answer_start': [574], 'text': ['카바레나 클럽']},\n",
       " {'answer_start': [525], 'text': ['보수']},\n",
       " {'answer_start': [418], 'text': ['리퍼']},\n",
       " {'answer_start': [391], 'text': ['국무회의']},\n",
       " {'answer_start': [52], 'text': ['비단']},\n",
       " {'answer_start': [28], 'text': ['사흘']},\n",
       " {'answer_start': [174], 'text': ['모든 관직을 거친 대과 급제자']},\n",
       " {'answer_start': [63], 'text': ['오사카']},\n",
       " {'answer_start': [1085], 'text': ['제1부인']},\n",
       " {'answer_start': [440], 'text': ['빈자의 십자군']},\n",
       " {'answer_start': [166], 'text': ['멕시코']},\n",
       " {'answer_start': [14], 'text': ['지질 과산화 생성물']},\n",
       " {'answer_start': [605], 'text': ['독감']},\n",
       " {'answer_start': [592], 'text': ['양당(楊黨)']},\n",
       " {'answer_start': [207], 'text': ['슈바이츠 암 존탁']},\n",
       " {'answer_start': [215], 'text': ['퀘이커 교도였던 앨리스 페어살 스미스']},\n",
       " {'answer_start': [242], 'text': ['다수결']},\n",
       " {'answer_start': [373], 'text': ['코프먼과 저스티슨']},\n",
       " {'answer_start': [491], 'text': ['물적 성과(物的成果)']},\n",
       " {'answer_start': [1084], 'text': ['제 양왕']},\n",
       " {'answer_start': [343], 'text': [\"'일곱 개의 신전 광장'\"]},\n",
       " {'answer_start': [247], 'text': ['미나미 지로']},\n",
       " {'answer_start': [563], 'text': ['200,000명']},\n",
       " {'answer_start': [811], 'text': ['공산주의']}]"
      ]
     },
     "execution_count": 14,
     "metadata": {},
     "output_type": "execute_result"
    }
   ],
   "source": [
    "val_dataset['answers']"
   ]
  },
  {
   "cell_type": "markdown",
   "id": "63bf5653-4b9b-433e-9959-f67a34d8d411",
   "metadata": {},
   "source": [
    "# Test dataset 확인하기"
   ]
  },
  {
   "cell_type": "code",
   "execution_count": 1,
   "id": "c5d991e9-0cae-46c5-9e9b-fcf7c540df1e",
   "metadata": {},
   "outputs": [],
   "source": [
    "import pandas as pd\n",
    "from datasets import load_from_disk"
   ]
  },
  {
   "cell_type": "code",
   "execution_count": 2,
   "id": "a12afbb8-8fe6-492f-afd5-7698adac7d15",
   "metadata": {},
   "outputs": [],
   "source": [
    "test_dataset = load_from_disk('/opt/ml/data/test_dataset/validation')"
   ]
  },
  {
   "cell_type": "code",
   "execution_count": 3,
   "id": "54476852-de0c-433d-946d-6c8e2c199075",
   "metadata": {},
   "outputs": [
    {
     "data": {
      "text/plain": [
       "Dataset({\n",
       "    features: ['question', 'id'],\n",
       "    num_rows: 600\n",
       "})"
      ]
     },
     "execution_count": 3,
     "metadata": {},
     "output_type": "execute_result"
    }
   ],
   "source": [
    "test_dataset"
   ]
  },
  {
   "cell_type": "code",
   "execution_count": 5,
   "id": "beaf806f-2100-4cef-86b5-94beded99125",
   "metadata": {},
   "outputs": [
    {
     "data": {
      "text/plain": [
       "'아시노 호가 만들어진 원인은 무엇인가?'"
      ]
     },
     "execution_count": 5,
     "metadata": {},
     "output_type": "execute_result"
    }
   ],
   "source": [
    "test_dataset['question'][7]"
   ]
  },
  {
   "cell_type": "code",
   "execution_count": 6,
   "id": "e5a409c5-389a-49ac-bcb5-be717ebc22e6",
   "metadata": {},
   "outputs": [
    {
     "data": {
      "text/plain": [
       "'통대를 뽑을 수 있었던 주체는 누구인가?'"
      ]
     },
     "execution_count": 6,
     "metadata": {},
     "output_type": "execute_result"
    }
   ],
   "source": [
    "test_dataset['question'][16]"
   ]
  },
  {
   "cell_type": "code",
   "execution_count": null,
   "id": "ade50ce7-1396-4a36-b03f-13786444831e",
   "metadata": {},
   "outputs": [],
   "source": []
  }
 ],
 "metadata": {
  "kernelspec": {
   "display_name": "Python 3 (ipykernel)",
   "language": "python",
   "name": "python3"
  },
  "language_info": {
   "codemirror_mode": {
    "name": "ipython",
    "version": 3
   },
   "file_extension": ".py",
   "mimetype": "text/x-python",
   "name": "python",
   "nbconvert_exporter": "python",
   "pygments_lexer": "ipython3",
   "version": "3.8.5"
  }
 },
 "nbformat": 4,
 "nbformat_minor": 5
}
