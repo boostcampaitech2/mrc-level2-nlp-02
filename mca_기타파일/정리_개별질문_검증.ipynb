{
 "cells": [
  {
   "cell_type": "code",
   "execution_count": 2,
   "metadata": {},
   "outputs": [],
   "source": [
    "import sys\n",
    "sys.path.append(\"/opt/ml/code/\")"
   ]
  },
  {
   "cell_type": "code",
   "execution_count": 3,
   "metadata": {},
   "outputs": [],
   "source": [
    "from datasets import load_from_disk\n",
    "import torch\n",
    "from transformers import AutoTokenizer\n",
    "from transformers import BertModel, BertPreTrainedModel, AdamW, TrainingArguments, get_linear_schedule_with_warmup\n",
    "\n",
    "import random\n",
    "\n",
    "import model_encoder"
   ]
  },
  {
   "cell_type": "markdown",
   "metadata": {},
   "source": [
    "## Load 데이터셋"
   ]
  },
  {
   "cell_type": "code",
   "execution_count": 4,
   "metadata": {},
   "outputs": [],
   "source": [
    "from datasets import load_dataset, load_from_disk\n",
    "\n",
    "dataset = load_from_disk('../../data/train_dataset')"
   ]
  },
  {
   "cell_type": "markdown",
   "metadata": {},
   "source": [
    "## Load 모델, 토크나이저"
   ]
  },
  {
   "cell_type": "code",
   "execution_count": 18,
   "metadata": {},
   "outputs": [],
   "source": [
    "p_encoder = model_encoder.BertEncoder.from_pretrained('../encoders/p_encoder_neg')\n",
    "q_encoder = model_encoder.BertEncoder.from_pretrained('../encoders/q_encoder_neg')\n",
    "\n",
    "tokenizer = AutoTokenizer.from_pretrained('klue/bert-base')\n",
    "\n",
    "if torch.cuda.is_available():\n",
    "  p_encoder.cuda()\n",
    "  q_encoder.cuda()"
   ]
  },
  {
   "cell_type": "markdown",
   "metadata": {},
   "source": [
    "## 검증"
   ]
  },
  {
   "cell_type": "code",
   "execution_count": 23,
   "metadata": {},
   "outputs": [
    {
     "name": "stdout",
     "output_type": "stream",
     "text": [
      "뱌쿠롄과 레이무 일행은 어떤 철학 때문에 싸우게 되었나?\n",
      "마계의 일부 '법계' 에 봉인되어 있던, 원래 인간이었던 마법사이다 . 『성련선』의 사건은 뱌쿠렌을 따르면 요괴들이 그녀의 봉인을 풀려고 하고 일어난 것이다.\\n전설의 승려인 묘우렌의 누이인 그녀 자신도 늙은 뒤 동생 묘우렌으로부터 법력을 배웠다. 묘우렌의 죽음을 계기로 죽음을 극도로 무서워하게 되고 법력이 아닌 요력, 마력과 같은 종류의 계략에 의한 회춘의 힘을 손에 넣었다. 승려로서 사람들의 신봉을 받고 겉으로는 요괴 퇴치를 의뢰하는 한편, 회춘의 요력을 유지하기 위해서 뒤에서는 요괴를 도왔다. 요괴를 돕는 동안에 요괴들의 안타까운 과거를 알고 아욕이 아닌 본심에서 요괴들의 힘이 될 수 있었으면 하게 됐다. 그 뒤 뱌쿠렌이 요괴를 도운 일이 인간들에게 발각되자, 그녀는 악마처럼 여겨졌고 마계에 봉인되고 말았다.\\n봉인에서 수백 년 하쿠레이 레이무 일행이 모은 비창의 파편에 의한 봉인에서 풀려났으나 뱌쿠렌의 \"인간과 요괴의 완전한 평등\" 이라는 사상이 레이무 일행에게 받아들여지지 않아 전투를 하였다.\\n그 뒤 환상향의 인간의 마을 근처에 성련선이 변화한 \"명련사\" 라는 절을 건립하고 요괴들을 널리 받아들인다. 보선(성련선)에서 달라진 사찰은 길하다고 인간 사이에서도 평판이 되고 다시 인간들의 신봉도 받게 됐다 .\\n엔딩에 따라서는 성련선을 유람선으로 운영하는 모습이 보인。\\n『신령묘』에서는 이름만 등장. 레이무에게 \"(종교적인 의미에서)장사 라이벌\" 로 알려졌다 . \n",
      "\n",
      "\n"
     ]
    }
   ],
   "source": [
    "valid_corpus = list(set([example['context'] for example in dataset['validation']]))#[:10]\n",
    "sample_idx = random.choice(range(len(dataset['validation'])))\n",
    "query = dataset['validation'][sample_idx]['question']\n",
    "ground_truth = dataset['validation'][sample_idx]['context']\n",
    "\n",
    "if not ground_truth in valid_corpus:\n",
    "  valid_corpus.append(ground_truth)\n",
    "\n",
    "print(query)\n",
    "print(ground_truth, '\\n\\n')\n"
   ]
  },
  {
   "cell_type": "code",
   "execution_count": 24,
   "metadata": {},
   "outputs": [
    {
     "name": "stdout",
     "output_type": "stream",
     "text": [
      "torch.Size([235, 768]) torch.Size([1, 768])\n"
     ]
    }
   ],
   "source": [
    "with torch.no_grad():\n",
    "  p_encoder.eval()\n",
    "  q_encoder.eval()\n",
    "\n",
    "  q_seqs_val = tokenizer([query], padding=\"max_length\", truncation=True, return_tensors='pt').to('cuda')\n",
    "  # q_seqs_val = tokenizer(['해바라기는 무슨 꽃일까?'], padding=\"max_length\", truncation=True, return_tensors='pt').to('cuda')\n",
    "  q_emb = q_encoder(**q_seqs_val).to('cpu')  #(num_query, emb_dim)\n",
    "\n",
    "  p_embs = []\n",
    "  for p in valid_corpus:\n",
    "    p = tokenizer(p, padding=\"max_length\", truncation=True, return_tensors='pt').to('cuda')\n",
    "    p_emb = p_encoder(**p).to('cpu').numpy()\n",
    "    p_embs.append(p_emb)\n",
    "\n",
    "p_embs = torch.Tensor(p_embs).squeeze()  # (num_passage, emb_dim)\n",
    "\n",
    "print(p_embs.size(), q_emb.size())"
   ]
  },
  {
   "cell_type": "code",
   "execution_count": 25,
   "metadata": {},
   "outputs": [
    {
     "name": "stdout",
     "output_type": "stream",
     "text": [
      "torch.Size([1, 235])\n"
     ]
    }
   ],
   "source": [
    "dot_prod_scores = torch.matmul(q_emb, torch.transpose(p_embs, 0, 1))\n",
    "print(dot_prod_scores.size())\n",
    "\n",
    "rank = torch.argsort(dot_prod_scores, dim=1, descending=True).squeeze()"
   ]
  },
  {
   "cell_type": "code",
   "execution_count": 26,
   "metadata": {},
   "outputs": [
    {
     "name": "stdout",
     "output_type": "stream",
     "text": [
      "[Search query]\n",
      " 뱌쿠롄과 레이무 일행은 어떤 철학 때문에 싸우게 되었나? \n",
      "\n",
      "[Ground truth passage]\n",
      "마계의 일부 '법계' 에 봉인되어 있던, 원래 인간이었던 마법사이다 . 『성련선』의 사건은 뱌쿠렌을 따르면 요괴들이 그녀의 봉인을 풀려고 하고 일어난 것이다.\\n전설의 승려인 묘우렌의 누이인 그녀 자신도 늙은 뒤 동생 묘우렌으로부터 법력을 배웠다. 묘우렌의 죽음을 계기로 죽음을 극도로 무서워하게 되고 법력이 아닌 요력, 마력과 같은 종류의 계략에 의한 회춘의 힘을 손에 넣었다. 승려로서 사람들의 신봉을 받고 겉으로는 요괴 퇴치를 의뢰하는 한편, 회춘의 요력을 유지하기 위해서 뒤에서는 요괴를 도왔다. 요괴를 돕는 동안에 요괴들의 안타까운 과거를 알고 아욕이 아닌 본심에서 요괴들의 힘이 될 수 있었으면 하게 됐다. 그 뒤 뱌쿠렌이 요괴를 도운 일이 인간들에게 발각되자, 그녀는 악마처럼 여겨졌고 마계에 봉인되고 말았다.\\n봉인에서 수백 년 하쿠레이 레이무 일행이 모은 비창의 파편에 의한 봉인에서 풀려났으나 뱌쿠렌의 \"인간과 요괴의 완전한 평등\" 이라는 사상이 레이무 일행에게 받아들여지지 않아 전투를 하였다.\\n그 뒤 환상향의 인간의 마을 근처에 성련선이 변화한 \"명련사\" 라는 절을 건립하고 요괴들을 널리 받아들인다. 보선(성련선)에서 달라진 사찰은 길하다고 인간 사이에서도 평판이 되고 다시 인간들의 신봉도 받게 됐다 .\\n엔딩에 따라서는 성련선을 유람선으로 운영하는 모습이 보인。\\n『신령묘』에서는 이름만 등장. 레이무에게 \"(종교적인 의미에서)장사 라이벌\" 로 알려졌다 . \n",
      "\n",
      "Top-1 passage with score 209.2675\n",
      "연방군 수뇌는 「지온에 시간을 주면, 다시 한번 솔라 레이를 사용할 기회를 주게 된다」하며 잔존 함대에 아 바오아 쿠 재진격을 명령했다.\\n12월 31일, 연방군은 전투함 마할,화이트 베이스를 중심으로 잔존 함대를 재편성하고 아 바오아 쿠로의 진격을 재개했다. 지온 군도 솔라 레이의 위력으로 사기는 오르고 있었다. 연방군은 요새포를 무력하게 하기 위해 퍼블릭 돌격정,우주 전투기를 여럿 투입했다. 그러나 솔로몬으로 교훈을 얻었던 지온 측은 대공 미사일로 응전, 돌격정은 차례차례로 격침되었다. 이미 요새 공략의 최후의 수단이었던 솔라 시스템 탑재 함정은 솔라 레이의 발사와 함께 잃어버려 대응 방법이 없는 연방군은 ＭＳ대를 사출, 각 함정도 아·바오아·쿠로 돌입했다.\\n\\n전국은 당초 지온 우위로 진행되었다. 그러나 전군을 지휘하고 있었던 기렌 총수가 키시리아 자비 소장의 손에 의해 암살되는 사건으로 국면이 변했다. 이에 일시적으로 지휘 계통의 혼란이 일어났고, 전선을 유지하고 있던 대형 항공 모함 도로스를 잃고 방위력이 저하되었다. 연방 함정은 차례차례 아·바오아·쿠에 접현, 싸움은 백병전화되었다. 이 격전 속에서 용명을 떨쳤던 화이트 베이스도 침몰되고 말았다. 정오를 지나는 무렵, 전세는 결정됐다. 지온 함정의 중에 불리함을 깨닫고 소행성 대의 우주 요새 액시즈나 암초 주역으로 멀리 달아나는 함도 나오기 시작했다. 전군을 지휘하고 있었던 키시리아 소장도 잔지발 급 기동 순양함으로 탈출을 꾀하려고 했지만, (기록상으로는)사라미스 급 순양함의 포격에 의해 격침되어 전사, 이에 따라 아 바오아 쿠는 함락되었다.\\n\\n*키시리아 자비가 전사한 실제 이유는 샤아 아즈나블이 함정 브릿지에 로켓 런쳐를 발사했기 때문.\n",
      "Top-2 passage with score 209.0924\n",
      "마계의 일부 '법계' 에 봉인되어 있던, 원래 인간이었던 마법사이다 . 『성련선』의 사건은 뱌쿠렌을 따르면 요괴들이 그녀의 봉인을 풀려고 하고 일어난 것이다.\\n전설의 승려인 묘우렌의 누이인 그녀 자신도 늙은 뒤 동생 묘우렌으로부터 법력을 배웠다. 묘우렌의 죽음을 계기로 죽음을 극도로 무서워하게 되고 법력이 아닌 요력, 마력과 같은 종류의 계략에 의한 회춘의 힘을 손에 넣었다. 승려로서 사람들의 신봉을 받고 겉으로는 요괴 퇴치를 의뢰하는 한편, 회춘의 요력을 유지하기 위해서 뒤에서는 요괴를 도왔다. 요괴를 돕는 동안에 요괴들의 안타까운 과거를 알고 아욕이 아닌 본심에서 요괴들의 힘이 될 수 있었으면 하게 됐다. 그 뒤 뱌쿠렌이 요괴를 도운 일이 인간들에게 발각되자, 그녀는 악마처럼 여겨졌고 마계에 봉인되고 말았다.\\n봉인에서 수백 년 하쿠레이 레이무 일행이 모은 비창의 파편에 의한 봉인에서 풀려났으나 뱌쿠렌의 \"인간과 요괴의 완전한 평등\" 이라는 사상이 레이무 일행에게 받아들여지지 않아 전투를 하였다.\\n그 뒤 환상향의 인간의 마을 근처에 성련선이 변화한 \"명련사\" 라는 절을 건립하고 요괴들을 널리 받아들인다. 보선(성련선)에서 달라진 사찰은 길하다고 인간 사이에서도 평판이 되고 다시 인간들의 신봉도 받게 됐다 .\\n엔딩에 따라서는 성련선을 유람선으로 운영하는 모습이 보인。\\n『신령묘』에서는 이름만 등장. 레이무에게 \"(종교적인 의미에서)장사 라이벌\" 로 알려졌다 .\n",
      "Top-3 passage with score 208.2299\n",
      "오세아니아 또는 오스트로네시아어족 사람들은 약 3만년 전에 세부 섬에 정착한 이들을 말라요-폴리네시안이라고 불렀다. 대부분의 세부아노족들은 오늘날 말라요-폴리네시아인들을 조상으로 두고 있다. 초기의 세부아노족들은 마이크로네시아 족 사람들과 본토 아시아로 해상 여행을 하는 유사한 문화를 발달시켰다. 세부아노족들도 또한 일본, 오키나와, 인도, 중국, 말레이시아, 인도네시아, 태국 그리고 스리랑카와 무역을 하였다. 고대 세부아노족들은 일본, 중국, 인도 그리고 보르네오에 영향력 있는 문화를 발달시켰다. 그들은 진주와 산호를 비단과 금, 무기, 그리고 향신료로 교환을 했다. 초기 세부아노족들은 기독교가 전파될 때까지 애니미즘만을 신봉하였고, ‘아니토스’(anitos , 신령 spirits이라는 의미)을 신봉하였다.\\n\\n탐험가 페르디난드 마젤란과 현지의 추장 라푸라푸와의 유명한 조우는 막탄 전투에서 마젤란의 죽음으로 끝났다. 세부아노족들은 세부를 식민지화시킨 멕시코 탐험가들이 올 때까지 식민지화를 늦출 수가 있었지만, 결국 스페인의 통치를 막지는 못했다.\\n\\n오늘날, 세부 섬의 인구는 약 3,850,000명에 이른다. 세부아노족들은 비사야 제도와 민다나오 곳곳에 거주하고 있다.\n",
      "Top-4 passage with score 208.1409\n",
      "이날 18일 저녁 북한군은 전차 5대를 포함한 보전협동 공격을 기도하였다. 북한군은 다부동 접근로에 미군이 투입된 것을 전혀 모르고 사격을 가하며 접근하고 있었다. 얼마 후 적 전차 2대가 미 제27연대의 F중대의 방어진지 안ㅍ으로 접근하였을 때 그 중 1대가 3.5인치 로켓포탄에 맞아 화염에 휩싸이자 다른 한 대의 승무원은 전차를 버리고 도주하였다. 후속하던 적 전차 3대도 미군의 치열한 포병사격을 받고 후퇴하였다. 그로부터 2시간 뒤 적은 다시 공격을 하였으나 미군의 탄막사격에 의해 격퇴되었다.\\n\\n그렇지만 8월 18일 새벽에는 가산에서 침투한 일부의 적이 사격한 박격포 포탄이 대구역 부근에 떨어지자 대구의 위기는 더욱 고조되었다. 이 출격으로 이날 정부가 부산으로 이동하고 피난령이 하달되어 대구는 일대 혼란에 휩싸였다. 그러나 조병옥 내무부 장관이 경찰과 함께 가두에 나서피난령을 취소하고 가까스로 민심을 수습하였다.\\n\\n다음날 19일은 소강상태로 하루를 보내고 8월 20일 주간에는 유엔공군의 대대적인 항공폭격이 실시되었다. 그러나 전투기를 유도하는 전방항공통제관이 제11연대 예하 대대에는 파견되지 않았던 탓으로 674고지의 아군이 오폭으로 많은 피해를 입었고, 또 448고지 일대에도 폭격하였기 때문에 이곳에 배치된 제11연대 제1대대가 진목정으로 철수하였다가 이날 저녁에 다시 그 고지로 이동하였다.\\n\\n이윽고 8월 20일 17:00시경에는 적의 포탄이 다부동 접근로로 연신되고 뒤이어 적 전차가 보병과 함께 은밀하게 접근하여 왔다. 이 때 미군은 침묵을 지키다가 그들이 진전 지뢰지대에 이르러 지뢰를 제거하자 탄막사격으로 적을 격퇴하였다. 이날 밤 02:00~03시 사이에 1개 대대 규모의 북한군이 접근하였다. 아군은 그들은 진전 50미터까지 바싹 유인한 다음 기습사격을 가하고 수류탄으로 살상지대를 형성하여 격멸하였다.\n",
      "Top-5 passage with score 208.0836\n",
      "본선부터 측선(임항선)이 분기하는 기부와, 그 1.5km있는 측선 종단의 통칭 '진야마치 임항역'부터이다. 측선의 일부는 무로란 본선의 구선을 전용했던 것이다. 역사 외의 상하 본선을 걸쳐 건너는 선과, 본선 · 측선의 분기점이 있다. 진야마치 임항역부터 서쪽의 유치선이 여러개, 후술하는 전용선의 야마테 선으로 따라 증설되고 있다.\\n\\n'진야마치 임항역'에는, 중국이나 한국과의 외국 무역 컨테이너 정기 항로용 안벽의 컨테이너 야드로 인접하는 컨테이너 승강장 외에는, 제 3 섹터의 무로란 개발이 운용을 위탁하고 있는 약 0.8km의 야마테 선과 약 1.5km의 가이테 선으로 불리는 2개의 전용선이 분기되고 있다. 가이테 선에는 목재 칩(펄프 · 종이의 원료)를 무개차로 짐을 싣는 설비가 있고, 열차 설정시는 무로란 항으로 양륙하는 닛폰 제지 시라오이 공장 (하기노 역 인접) 방향의 목재 칩 하역 작업이 실시되고 있지만, 현재는 트레일러에 의해 수송이 되고 있다.\\n\\n게다가, 말기까지 설정되어 있던 화물열차는 전용 화물열차로, 하기노 역과의 사이에 하루 1회 왕복 운행되고 있다. 전용으로 개조되었던 와무 48000형 유개화차 만으로 편성되어 있다.\n"
     ]
    }
   ],
   "source": [
    "k = 5\n",
    "print(\"[Search query]\\n\", query, \"\\n\")\n",
    "print(\"[Ground truth passage]\")\n",
    "print(ground_truth, \"\\n\")\n",
    "\n",
    "for i in range(k):\n",
    "  print(\"Top-%d passage with score %.4f\" % (i+1, dot_prod_scores.squeeze()[rank[i]]))\n",
    "  print(valid_corpus[rank[i]])"
   ]
  },
  {
   "cell_type": "code",
   "execution_count": null,
   "metadata": {},
   "outputs": [],
   "source": []
  },
  {
   "cell_type": "code",
   "execution_count": null,
   "metadata": {},
   "outputs": [],
   "source": []
  }
 ],
 "metadata": {
  "interpreter": {
   "hash": "d4d1e4263499bec80672ea0156c357c1ee493ec2b1c70f0acce89fc37c4a6abe"
  },
  "kernelspec": {
   "display_name": "Python 3.8.5 64-bit ('base': conda)",
   "name": "python3"
  },
  "language_info": {
   "codemirror_mode": {
    "name": "ipython",
    "version": 3
   },
   "file_extension": ".py",
   "mimetype": "text/x-python",
   "name": "python",
   "nbconvert_exporter": "python",
   "pygments_lexer": "ipython3",
   "version": "3.8.5"
  },
  "orig_nbformat": 4
 },
 "nbformat": 4,
 "nbformat_minor": 2
}
