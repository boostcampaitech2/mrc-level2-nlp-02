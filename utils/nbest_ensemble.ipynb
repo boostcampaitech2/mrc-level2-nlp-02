{
 "cells": [
  {
   "cell_type": "code",
   "execution_count": null,
   "metadata": {},
   "outputs": [],
   "source": [
    "import os\n",
    "import json\n",
    "\n",
    "data_path = './outputs'\n",
    "file_name1 = 'merge_ppg_ner_pre2_epoch1-eval'\n",
    "file_name2 = 'merge_ppg_ner_preX_epoch1-eval'\n",
    "\n",
    "file_name1 = os.path.join(data_path, file_name1, 'nbest_predictions.json')\n",
    "file_name2 = os.path.join(data_path, file_name2, 'nbest_predictions.json')\n",
    "\n",
    "with open(file_name1, 'r') as f1:\n",
    "    file1_nbest_json = json.load(f1)\n",
    "\n",
    "with open(file_name2, 'r') as f2:\n",
    "    file2_nbest_json = json.load(f2)"
   ]
  },
  {
   "cell_type": "code",
   "execution_count": null,
   "metadata": {},
   "outputs": [],
   "source": [
    "files_list = [file1_nbest_json, file2_nbest_json]"
   ]
  },
  {
   "cell_type": "code",
   "execution_count": null,
   "metadata": {},
   "outputs": [],
   "source": [
    "ids = list(file1_nbest_json.keys()) # 질문 번호\n",
    "n = len(files_list[0][ids[0]]) # 20\n",
    "\n",
    "ensemble_result = {}\n",
    "for id in ids:\n",
    "    answer_texts = {}\n",
    "    for answer_cand in range(n):\n",
    "        for nbest_answers in files_list: \n",
    "            if nbest_answers[id][answer_cand]['text'] not in answer_texts:\n",
    "                answer_texts[nbest_answers[id][answer_cand]['text']] = nbest_answers[id][answer_cand]['probability']\n",
    "            else:\n",
    "                answer_texts[nbest_answers[id][answer_cand]['text']] += nbest_answers[id][answer_cand]['probability']\n",
    "    ensemble_answer = max(answer_texts.keys(), key=(lambda k: answer_texts[k]))\n",
    "    ensemble_result[id] = ensemble_answer"
   ]
  },
  {
   "cell_type": "code",
   "execution_count": null,
   "metadata": {},
   "outputs": [],
   "source": [
    "out_filename = 'ensemble_result.json'\n",
    "\n",
    "with open(os.path.join('../outputs', out_filename), 'w', encoding='utf-8') as writer:\n",
    "    writer.write(\n",
    "        json.dumps(ensemble_result, indent=4, ensure_ascii=False) + \"\\n\"\n",
    "    )"
   ]
  }
 ],
 "metadata": {
  "interpreter": {
   "hash": "d4d1e4263499bec80672ea0156c357c1ee493ec2b1c70f0acce89fc37c4a6abe"
  },
  "kernelspec": {
   "display_name": "Python 3.8.5 64-bit ('base': conda)",
   "name": "python3"
  },
  "language_info": {
   "name": "python",
   "version": "3.8.5"
  },
  "orig_nbformat": 4
 },
 "nbformat": 4,
 "nbformat_minor": 2
}
