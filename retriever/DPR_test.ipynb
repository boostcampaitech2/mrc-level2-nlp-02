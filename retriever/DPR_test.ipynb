{
 "cells": [
  {
   "cell_type": "code",
   "execution_count": 24,
   "metadata": {},
   "outputs": [],
   "source": [
    "import torch\n",
    "import torch.nn as nn\n",
    "import torch.nn.functional as F\n",
    "from torch.utils.data import DataLoader, RandomSampler, TensorDataset\n",
    "\n",
    "from typing import List, Tuple, NoReturn, Any, Optional, Union\n",
    "import pandas as pd\n",
    "import numpy as np\n",
    "import random\n",
    "\n",
    "from datasets import (\n",
    "    Dataset,\n",
    "    load_from_disk,\n",
    "    concatenate_datasets,\n",
    ")\n",
    "\n",
    "from tqdm.auto import tqdm, trange\n",
    "import os\n",
    "\n",
    "import datasets\n",
    "from datasets import load_dataset, load_from_disk\n",
    "from transformers import AutoTokenizer, HfArgumentParser"
   ]
  },
  {
   "cell_type": "code",
   "execution_count": 6,
   "metadata": {},
   "outputs": [
    {
     "data": {
      "text/plain": [
       "DatasetDict({\n",
       "    train: Dataset({\n",
       "        features: ['__index_level_0__', 'answers', 'context', 'document_id', 'id', 'question', 'title'],\n",
       "        num_rows: 3952\n",
       "    })\n",
       "    validation: Dataset({\n",
       "        features: ['__index_level_0__', 'answers', 'context', 'document_id', 'id', 'question', 'title'],\n",
       "        num_rows: 240\n",
       "    })\n",
       "})"
      ]
     },
     "execution_count": 6,
     "metadata": {},
     "output_type": "execute_result"
    }
   ],
   "source": [
    "dataset = load_from_disk(\"/opt/ml/data/train_dataset\")\n",
    "train_dataset = dataset[\"train\"]\n",
    "valid_dataset = dataset[\"validation\"]\n",
    "dataset"
   ]
  },
  {
   "cell_type": "code",
   "execution_count": 78,
   "metadata": {},
   "outputs": [],
   "source": [
    "model_checkpoint = \"klue/roberta-large\"\n",
    "tokenizer = AutoTokenizer.from_pretrained(model_checkpoint)"
   ]
  },
  {
   "cell_type": "code",
   "execution_count": 11,
   "metadata": {},
   "outputs": [
    {
     "data": {
      "text/html": [
       "<div>\n",
       "<style scoped>\n",
       "    .dataframe tbody tr th:only-of-type {\n",
       "        vertical-align: middle;\n",
       "    }\n",
       "\n",
       "    .dataframe tbody tr th {\n",
       "        vertical-align: top;\n",
       "    }\n",
       "\n",
       "    .dataframe thead th {\n",
       "        text-align: right;\n",
       "    }\n",
       "</style>\n",
       "<table border=\"1\" class=\"dataframe\">\n",
       "  <thead>\n",
       "    <tr style=\"text-align: right;\">\n",
       "      <th></th>\n",
       "      <th>question</th>\n",
       "      <th>id</th>\n",
       "      <th>context_id</th>\n",
       "      <th>context</th>\n",
       "      <th>original_context</th>\n",
       "      <th>answers</th>\n",
       "    </tr>\n",
       "  </thead>\n",
       "  <tbody>\n",
       "    <tr>\n",
       "      <th>0</th>\n",
       "      <td>대통령을 포함한 미국의 행정부 견제권을 갖는 국가 기관은?</td>\n",
       "      <td>mrc-1-000067</td>\n",
       "      <td>[14489  6795  2269 20097 52322 20516 17086 325...</td>\n",
       "      <td>미국 상의원 또는 미국 상원(United States Senate)은 양원제인 미국...</td>\n",
       "      <td>미국 상의원 또는 미국 상원(United States Senate)은 양원제인 미국...</td>\n",
       "      <td>{'answer_start': [235], 'text': ['하원']}</td>\n",
       "    </tr>\n",
       "    <tr>\n",
       "      <th>1</th>\n",
       "      <td>현대적 인사조직관리의 시발점이 된 책은?</td>\n",
       "      <td>mrc-0-004397</td>\n",
       "      <td>[47823 47817 47824 47827 47820 47822 47815 478...</td>\n",
       "      <td>'근대적 경영학' 또는 '고전적 경영학'에서 현대적 경영학으로 전환되는 시기는 19...</td>\n",
       "      <td>'근대적 경영학' 또는 '고전적 경영학'에서 현대적 경영학으로 전환되는 시기는 19...</td>\n",
       "      <td>{'answer_start': [212], 'text': ['《경영의 실제》']}</td>\n",
       "    </tr>\n",
       "    <tr>\n",
       "      <th>2</th>\n",
       "      <td>강희제가 1717년에 쓴 글은 누구를 위해 쓰여졌는가?</td>\n",
       "      <td>mrc-1-000362</td>\n",
       "      <td>[  474  4628   461  4626   470 27415 35174   4...</td>\n",
       "      <td>강희제는 강화된 황권으로 거의 황제 중심의 독단적으로 나라를 이끌어 갔기에 자칫 전...</td>\n",
       "      <td>강희제는 강화된 황권으로 거의 황제 중심의 독단적으로 나라를 이끌어 갔기에 자칫 전...</td>\n",
       "      <td>{'answer_start': [510], 'text': ['백성']}</td>\n",
       "    </tr>\n",
       "    <tr>\n",
       "      <th>3</th>\n",
       "      <td>11~12세기에 제작된 본존불은 보통 어떤 나라의 특징이 전파되었나요?</td>\n",
       "      <td>mrc-0-001510</td>\n",
       "      <td>[34116 41747 31585 37068 32746 50052 40673 332...</td>\n",
       "      <td>이 불화는 17세기말에서 18세기 초 팔공산 일대에서 활발한 활동을 펼친 의균의 제...</td>\n",
       "      <td>불상을 모시기 위해 나무나 돌, 쇠 등을 깎아 일반적인 건축물보다 작은 규모로 만든...</td>\n",
       "      <td>{'answer_start': [625], 'text': ['중국']}</td>\n",
       "    </tr>\n",
       "    <tr>\n",
       "      <th>4</th>\n",
       "      <td>명문이 적힌 유물을 구성하는 그릇의 총 개수는?</td>\n",
       "      <td>mrc-0-000823</td>\n",
       "      <td>[43524 15814 55303 18908 21030 50041 42964 202...</td>\n",
       "      <td>동아대학교박물관에서 소장하고 있는 계사명 사리구는 총 4개의 용기로 구성된 조선후기...</td>\n",
       "      <td>동아대학교박물관에서 소장하고 있는 계사명 사리구는 총 4개의 용기로 구성된 조선후기...</td>\n",
       "      <td>{'answer_start': [30], 'text': ['4개']}</td>\n",
       "    </tr>\n",
       "  </tbody>\n",
       "</table>\n",
       "</div>"
      ],
      "text/plain": [
       "                                  question            id  \\\n",
       "0         대통령을 포함한 미국의 행정부 견제권을 갖는 국가 기관은?  mrc-1-000067   \n",
       "1                   현대적 인사조직관리의 시발점이 된 책은?  mrc-0-004397   \n",
       "2           강희제가 1717년에 쓴 글은 누구를 위해 쓰여졌는가?  mrc-1-000362   \n",
       "3  11~12세기에 제작된 본존불은 보통 어떤 나라의 특징이 전파되었나요?  mrc-0-001510   \n",
       "4               명문이 적힌 유물을 구성하는 그릇의 총 개수는?  mrc-0-000823   \n",
       "\n",
       "                                          context_id  \\\n",
       "0  [14489  6795  2269 20097 52322 20516 17086 325...   \n",
       "1  [47823 47817 47824 47827 47820 47822 47815 478...   \n",
       "2  [  474  4628   461  4626   470 27415 35174   4...   \n",
       "3  [34116 41747 31585 37068 32746 50052 40673 332...   \n",
       "4  [43524 15814 55303 18908 21030 50041 42964 202...   \n",
       "\n",
       "                                             context  \\\n",
       "0  미국 상의원 또는 미국 상원(United States Senate)은 양원제인 미국...   \n",
       "1  '근대적 경영학' 또는 '고전적 경영학'에서 현대적 경영학으로 전환되는 시기는 19...   \n",
       "2  강희제는 강화된 황권으로 거의 황제 중심의 독단적으로 나라를 이끌어 갔기에 자칫 전...   \n",
       "3  이 불화는 17세기말에서 18세기 초 팔공산 일대에서 활발한 활동을 펼친 의균의 제...   \n",
       "4  동아대학교박물관에서 소장하고 있는 계사명 사리구는 총 4개의 용기로 구성된 조선후기...   \n",
       "\n",
       "                                    original_context  \\\n",
       "0  미국 상의원 또는 미국 상원(United States Senate)은 양원제인 미국...   \n",
       "1  '근대적 경영학' 또는 '고전적 경영학'에서 현대적 경영학으로 전환되는 시기는 19...   \n",
       "2  강희제는 강화된 황권으로 거의 황제 중심의 독단적으로 나라를 이끌어 갔기에 자칫 전...   \n",
       "3  불상을 모시기 위해 나무나 돌, 쇠 등을 깎아 일반적인 건축물보다 작은 규모로 만든...   \n",
       "4  동아대학교박물관에서 소장하고 있는 계사명 사리구는 총 4개의 용기로 구성된 조선후기...   \n",
       "\n",
       "                                         answers  \n",
       "0        {'answer_start': [235], 'text': ['하원']}  \n",
       "1  {'answer_start': [212], 'text': ['《경영의 실제》']}  \n",
       "2        {'answer_start': [510], 'text': ['백성']}  \n",
       "3        {'answer_start': [625], 'text': ['중국']}  \n",
       "4         {'answer_start': [30], 'text': ['4개']}  "
      ]
     },
     "execution_count": 11,
     "metadata": {},
     "output_type": "execute_result"
    }
   ],
   "source": [
    "df = pd.read_csv(\"/opt/ml/data/bm25/bm25_top_10_0.csv\")\n",
    "df.head()"
   ]
  },
  {
   "cell_type": "code",
   "execution_count": 12,
   "metadata": {},
   "outputs": [],
   "source": [
    "answers = df.answers.to_list()\n",
    "question = df.question.to_list()\n",
    "original_context = df.original_context.to_list()\n",
    "top_k_passage = []\n",
    "target = []"
   ]
  },
  {
   "cell_type": "code",
   "execution_count": 13,
   "metadata": {},
   "outputs": [
    {
     "data": {
      "text/plain": [
       "(3952, 3952, 3952)"
      ]
     },
     "execution_count": 13,
     "metadata": {},
     "output_type": "execute_result"
    }
   ],
   "source": [
    "len(answers), len(question), len(original_context)"
   ]
  },
  {
   "cell_type": "code",
   "execution_count": 14,
   "metadata": {},
   "outputs": [],
   "source": [
    "for idx, passages in enumerate(df.context.tolist()):\n",
    "    p_list = passages.split('▦')\n",
    "    \n",
    "    if original_context[idx] in p_list:\n",
    "        top_k_passage.append(p_list)\n",
    "        target_index = p_list.index(original_context[idx])\n",
    "        target.append(target_index)\n",
    "    else :\n",
    "        p_list = [original_context[idx]] + p_list[:-1]\n",
    "        top_k_passage.append(p_list)\n",
    "        target.append(0)"
   ]
  },
  {
   "cell_type": "code",
   "execution_count": 21,
   "metadata": {},
   "outputs": [
    {
     "data": {
      "text/plain": [
       "(10, 1)"
      ]
     },
     "execution_count": 21,
     "metadata": {},
     "output_type": "execute_result"
    }
   ],
   "source": [
    "len(top_k_passage[3545]), target[3545]"
   ]
  },
  {
   "cell_type": "code",
   "execution_count": 45,
   "metadata": {},
   "outputs": [
    {
     "name": "stdout",
     "output_type": "stream",
     "text": [
      "모투부가 1959년에 다시 방문한 곳은? {'answer_start': [427], 'text': ['브뤼셀']}\n",
      "1956년 모부투는 \"de Banzy\"의 필명 아래 신문 기사들을 쓰기 시작하였다. 자신의 군사와 저널리즘 경력들을 통하여 그는 자유주의적 벨기에의 편집자와 상급 벨기에인 사관 마르리에르 대령 같은 권력적인 유럽의 후원자들을 찾았다. 그는 또한 킨샤사에서 새로운 아프리카의 엘리트들 중에 전망을 얻기도 하였다. 그의 단 하나의 문제는 자신을 이성적이나 적합한 도덕성 특성들을 결핍한 타락한 젊은 남자로 숙고한 가톨릭 교회와 였다. 모부투는 자신의 인생을 통하여 교회에 적대를 남겼다. 그는 자신의 부인과 가톨릭 전례의 결혼식을 올리는 것을 거부하였고, 그는 대통령으로서 전형적으로 반 임파 진영과 함께 결합하였다.\\n\\n1958년 모부투는 벨기에의 식민지 업적의 예들로서 브뤼셀 세계 박람회에서 전시된 콩고인들의 큰 대표단과 함께 브뤼셀로 갔다. 1959년 그는 브뤼셀을 재방문하여 식민지 선전국 \"인포르콩고\" (Inforcongo)에서 도제 살이를 지켰다. 이 게시는 그에게 브뤼셀 유학을 위한 기회들을 주었다. 1959년부터 1960년까지 정치적으로 야망의 콩고인들은 정치적 연락망들을 건설하는 데 바빴다.\\n\\n모부투는 브뤼셀에서 지속적으로 살며 갑자기 크게 나타난 초기 독립을 위한 번영으로서 벨기에에서 콩고인 국민주의자들과 연락을 만들고 있던 정보, 외교적과 재정적 이익들에 의하여 찾아졌다. 모부투는 이 시기 동안 재정가, CIA, 콩고인 학생들과 벨기에 안전군들 중에 연락들을 만들었다. 모부투는 다가오는 콩고를 위한 독립을 숙고한 브뤼셀에서 원탁 회의에 참석하였다. 그는 1957년에 시작된 파트리스 루뭄바와 우정을 개발하였고, 브뤼셀에서 MNC/L 사무소의 우두머리로 임명되었다. 그는 독립하기 3주 전에 콩고로 귀국하였다. \n",
      " ******************************************************************************************************************************************************\n",
      "1 10\n",
      "1956년 모부투는 \"de Banzy\"의 필명 아래 신문 기사들을 쓰기 시작하였다. 자신의 군사와 저널리즘 경력들을 통하여 그는 자유주의적 벨기에의 편집자와 상급 벨기에인 사관 마르리에르 대령 같은 권력적인 유럽의 후원자들을 찾았다. 그는 또한 킨샤사에서 새로운 아프리카의 엘리트들 중에 전망을 얻기도 하였다. 그의 단 하나의 문제는 자신을 이성적이나 적합한 도덕성 특성들을 결핍한 타락한 젊은 남자로 숙고한 가톨릭 교회와 였다. 모부투는 자신의 인생을 통하여 교회에 적대를 남겼다. 그는 자신의 부인과 가톨릭 전례의 결혼식을 올리는 것을 거부하였고, 그는 대통령으로서 전형적으로 반 임파 진영과 함께 결합하였다.\\n\\n1958년 모부투는 벨기에의 식민지 업적의 예들로서 브뤼셀 세계 박람회에서 전시된 콩고인들의 큰 대표단과 함께 브뤼셀로 갔다. 1959년 그는 브뤼셀을 재방문하여 식민지 선전국 \"인포르콩고\" (Inforcongo)에서 도제 살이를 지켰다. 이 게시는 그에게 브뤼셀 유학을 위한 기회들을 주었다. 1959년부터 1960년까지 정치적으로 야망의 콩고인들은 정치적 연락망들을 건설하는 데 바빴다.\\n\\n모부투는 브뤼셀에서 지속적으로 살며 갑자기 크게 나타난 초기 독립을 위한 번영으로서 벨기에에서 콩고인 국민주의자들과 연락을 만들고 있던 정보, 외교적과 재정적 이익들에 의하여 찾아졌다. 모부투는 이 시기 동안 재정가, CIA, 콩고인 학생들과 벨기에 안전군들 중에 연락들을 만들었다. 모부투는 다가오는 콩고를 위한 독립을 숙고한 브뤼셀에서 원탁 회의에 참석하였다. 그는 1957년에 시작된 파트리스 루뭄바와 우정을 개발하였고, 브뤼셀에서 MNC/L 사무소의 우두머리로 임명되었다. 그는 독립하기 3주 전에 콩고로 귀국하였다. \n",
      " ******************************************************************************************************************************************************\n"
     ]
    }
   ],
   "source": [
    "i = random.randrange(3952)\n",
    "i\n",
    "print(question[i], answers[i])\n",
    "print(original_context[i], '\\n', '*'*150)\n",
    "print(target[i], len(top_k_passage[i]))\n",
    "print(top_k_passage[i][target[i]], '\\n', '*'*150)\n"
   ]
  },
  {
   "cell_type": "code",
   "execution_count": 79,
   "metadata": {},
   "outputs": [],
   "source": [
    "p_seqs = tokenizer(\n",
    "            top_k_passage[i],\n",
    "            padding=\"max_length\",\n",
    "            truncation=True,\n",
    "            return_tensors=\"pt\",\n",
    "            return_token_type_ids=False,\n",
    "        )  # (top_k, 512)\n",
    "\n",
    "q_seqs = tokenizer(\n",
    "    question[i],\n",
    "    padding=\"max_length\",\n",
    "    truncation=True,\n",
    "    return_tensors=\"pt\",\n",
    "    return_token_type_ids=False ,\n",
    ")  # (1, 512)"
   ]
  },
  {
   "cell_type": "code",
   "execution_count": 80,
   "metadata": {},
   "outputs": [
    {
     "data": {
      "text/plain": [
       "torch.Size([10, 512])"
      ]
     },
     "execution_count": 80,
     "metadata": {},
     "output_type": "execute_result"
    }
   ],
   "source": [
    "p_seqs.input_ids.shape"
   ]
  },
  {
   "cell_type": "code",
   "execution_count": 81,
   "metadata": {},
   "outputs": [
    {
     "data": {
      "text/plain": [
       "torch.Size([1, 512])"
      ]
     },
     "execution_count": 81,
     "metadata": {},
     "output_type": "execute_result"
    }
   ],
   "source": [
    "q_seqs.input_ids.shape"
   ]
  },
  {
   "cell_type": "code",
   "execution_count": 82,
   "metadata": {},
   "outputs": [
    {
     "data": {
      "text/plain": [
       "'[CLS] 모부투는 위원들의 지원이 주로 젊은 대학 졸업생들이었던 위원 칼리지로 결성하면서 제1공화국 동안 잠시 다스렸다. 군인이자 정치적 인물 둘다인 모부투는 군사 독재자가 되는 데 관심이 없었다. 육군은 그의 주요 근거였으나 그는 자신의 복잡한 정치적 망상 조직을 지속하였고 정책을 만드는 정부에서 주요 참가자였다. 그는 1961년 8월 새로운 의회가 소집될 때까지 다스렸으며, 시릴 아둘라가 총리로서와 함께 새로운 정부가 형성되었다. 카사부부는 대통령으로서 남아있었다. 이 시기 동안 권력을 위하여 4개의 단체들 - 카사부부 아래 민간 정부, 앙투안 [UNK] 아래 북부 지방들, 카탕가에서 촘베와 알베르 칼론지에 의하여 지도된 카사이 주에서 분리 단체가 우열을 다투고 있었다. 촘베를 제외한 전부는 소란스러운 2년 동안 다스린 아둘라 아래 새로운 정부를 형성하는 데 가입하였다. 1964년 7월 촘베는 총리직을 취하고, \" 국가 일치의 정부 \" 로 알려진 새로운 국민 정부를 형성하는 데 촘베를 초청하였다. 8월 1일의 새 헌법은 연방주의의 조직을 합병한 대통령 제도를 설립하였다. = = 쿠데타를 이끌며 = = 제1공화국이었던 5년 완패 후, 모부투는 권력을 취하여 \" 정치적 지도자들은 이 국가의 시민들의 평안을 위하여 아무 여김없이 투쟁하는 무효의 권력을 위하여 정착하였다. \" 고 선언하였다. 1965년 쿠데타에 이어 모부투는 정부 그대로 제도적인 체제를 간직하였고, 새로운 공무원들과 함께 직위들을 채웠다. 그는 국가 원수가 되었고, 그의 부하 대령 ( 후에 장군 ) 레오나르 물람바는 총리로 임명되었다. 헌법적 정면의 뒤로 군인 직원은 유일한 효과적인 권한이 되었다. 모부투의 대통령직의 첫 5년은 그의 지배들과 직무로 들어가는 권력의 합동을 보았다. 가상 무정부 상태의 6년 후, 모부투는 자이르에 어떤 법률과 질서를 가져오는 데 성공하였다. 그가 국가 원수가 되었을 때 그는 \" 5년 동안 국가 [SEP]'"
      ]
     },
     "execution_count": 82,
     "metadata": {},
     "output_type": "execute_result"
    }
   ],
   "source": [
    "tokenizer.decode(p_seqs.input_ids[9])"
   ]
  },
  {
   "cell_type": "code",
   "execution_count": 11,
   "metadata": {},
   "outputs": [],
   "source": [
    "file_name = \"dksahjklvjxzckl \\\n",
    "asdkljklzxjckljvcxzk \\\n",
    "ksdajklxzcvjklvxcz\\\n",
    "fjklasdjkldscv\\\n",
    "dfsjkljxckzl\""
   ]
  },
  {
   "cell_type": "code",
   "execution_count": 12,
   "metadata": {},
   "outputs": [
    {
     "data": {
      "text/plain": [
       "'dksahjklvjxzckl asdkljklzxjckljvcxzk ksdajklxzcvjklvxczfjklasdjkldscvdfsjkljxckzl'"
      ]
     },
     "execution_count": 12,
     "metadata": {},
     "output_type": "execute_result"
    }
   ],
   "source": [
    "file_name"
   ]
  },
  {
   "cell_type": "code",
   "execution_count": null,
   "metadata": {},
   "outputs": [],
   "source": []
  }
 ],
 "metadata": {
  "interpreter": {
   "hash": "d4d1e4263499bec80672ea0156c357c1ee493ec2b1c70f0acce89fc37c4a6abe"
  },
  "kernelspec": {
   "display_name": "Python 3.8.5 64-bit ('base': conda)",
   "name": "python3"
  },
  "language_info": {
   "codemirror_mode": {
    "name": "ipython",
    "version": 3
   },
   "file_extension": ".py",
   "mimetype": "text/x-python",
   "name": "python",
   "nbconvert_exporter": "python",
   "pygments_lexer": "ipython3",
   "version": "3.8.5"
  },
  "orig_nbformat": 4
 },
 "nbformat": 4,
 "nbformat_minor": 2
}
