{
 "cells": [
  {
   "cell_type": "code",
   "execution_count": 1,
   "source": [
    "import logging\n",
    "import os\n",
    "import sys\n",
    "import copy\n",
    "import re\n",
    "\n",
    "import matplotlib.pyplot as plt\n",
    "import numpy as np\n",
    "\n",
    "from tqdm import tqdm\n",
    "from typing import List, Callable, NoReturn, NewType, Any\n",
    "import dataclasses\n",
    "from datasets import load_metric, load_from_disk, Dataset, DatasetDict\n",
    "\n",
    "from konlpy.tag import Mecab\n",
    "from transformers import AutoConfig, AutoModelForQuestionAnswering, AutoTokenizer\n",
    "from transformers import (\n",
    "    DataCollatorWithPadding,\n",
    "    EvalPrediction,\n",
    "    HfArgumentParser,\n",
    "    TrainingArguments,\n",
    "    set_seed,\n",
    ")"
   ],
   "outputs": [],
   "metadata": {}
  },
  {
   "cell_type": "code",
   "execution_count": 2,
   "source": [
    "sys.path.append('../')"
   ],
   "outputs": [],
   "metadata": {}
  },
  {
   "cell_type": "code",
   "execution_count": 3,
   "source": [
    "from tokenizers import Tokenizer\n",
    "from tokenizers.models import WordPiece\n",
    "\n",
    "from utils_qa import postprocess_qa_predictions, check_no_error\n",
    "from trainer_qa import QuestionAnsweringTrainer\n",
    "from retrieval import SparseRetrieval\n",
    "\n",
    "from arguments import (\n",
    "    ModelArguments,\n",
    "    DataTrainingArguments,\n",
    ")"
   ],
   "outputs": [],
   "metadata": {}
  },
  {
   "cell_type": "markdown",
   "source": [
    "## Raw Data"
   ],
   "metadata": {}
  },
  {
   "cell_type": "code",
   "execution_count": 4,
   "source": [
    "datasets = load_from_disk('/opt/ml/data/train_dataset')\n",
    "datasets"
   ],
   "outputs": [
    {
     "output_type": "execute_result",
     "data": {
      "text/plain": [
       "DatasetDict({\n",
       "    train: Dataset({\n",
       "        features: ['__index_level_0__', 'answers', 'context', 'document_id', 'id', 'question', 'title'],\n",
       "        num_rows: 3952\n",
       "    })\n",
       "    validation: Dataset({\n",
       "        features: ['__index_level_0__', 'answers', 'context', 'document_id', 'id', 'question', 'title'],\n",
       "        num_rows: 240\n",
       "    })\n",
       "})"
      ]
     },
     "metadata": {},
     "execution_count": 4
    }
   ],
   "metadata": {}
  },
  {
   "cell_type": "code",
   "execution_count": 5,
   "source": [
    "train_data = datasets['train']\n",
    "\n",
    "train_size = len(train_data)\n",
    "print('Size of Train Data: %d' %train_size)"
   ],
   "outputs": [
    {
     "output_type": "stream",
     "name": "stdout",
     "text": [
      "Size of Train Data: 3952\n"
     ]
    }
   ],
   "metadata": {}
  },
  {
   "cell_type": "markdown",
   "source": [
    "## Data Element"
   ],
   "metadata": {}
  },
  {
   "cell_type": "code",
   "execution_count": 6,
   "source": [
    "train_data[13]"
   ],
   "outputs": [
    {
     "output_type": "execute_result",
     "data": {
      "text/plain": [
       "{'title': '장면',\n",
       " 'context': '장면은 귀국전 국무총리에 임명되었으나 이듬해인 1951년 2월에 귀국한 후 정식으로 취임하였다. 귀국 무렵 대한민국 국회와 이승만은 갈등하고 있었다. 그는 중간에서 양자의 조정 역할을 하려 했으나 실패하였다 그는 귀국 즉시 총리직에 취임하지 않고, 1주일 간의 여유를 얻어 요인들을 만나 의논해 보았다 그는 “일반적으로 이 박사에 대한 평이 좋지 않아 총리직을 맡을 생각이 간절하지 않았으나 이왕 인준도 받았으니 하는 데까지 하다가 할 수 없으면 그만두라”라는 주변의 의견대로 총리직을 맡게 되었다 당초 이승만은 장면에게 인사권을 위임하겠다고 하였으나, “5석 중 3석을 총리가 정하였으니 내무에는 이순용(李淳鎔), 국방에는 이기붕을 써 주시오”하고 종용하자, 당초 약속과는 달랐으나 장면은 받아들였다 국무총리 재임 중 그는 호화로운 식단을 기피하고 직접 도시락을 싸들고 출퇴근하였다.\\\\n\\\\n \\\\n8월에는 자유당이 창당되자 자유당에 입당했다. 12월에는 원외 자유당이 결성되면서 장면이 속한 자유당은 원내 자유당으로 불리게 되었다. 원내 자유당에서는 1952년 제2대 정부통령 선거에서 그를 대통령 후보로 추대하려는 일파와, 내각 책임제로 개헌하여 대통령직을 유명무실화하게 한 뒤 그를 내각 책임제 하의 국무총리로 추대하려는 세력이 나타났다. 흥사단도 장면을 지지하였다. 이후 흥사단의 지지를 이유로 장면은 흥사단계로 분류되었으나 장면은 이를 부정하였다. 장면을 대통령 후보로 추대하려는 세력과 내각책임제 개헌 후 장면을 총리로 추대하려는 세력의 존재가 이승만의 귀에 들어가면서 장면은 정치적으로 궁지에 몰리게 된다.',\n",
       " 'question': '장면이 한국으로 돌아온 년도는?',\n",
       " 'id': 'mrc-0-001373',\n",
       " 'answers': {'answer_start': [26], 'text': ['1951년']},\n",
       " 'document_id': 6930,\n",
       " '__index_level_0__': 899}"
      ]
     },
     "metadata": {},
     "execution_count": 6
    }
   ],
   "metadata": {}
  },
  {
   "cell_type": "markdown",
   "source": [
    "## Aumentation"
   ],
   "metadata": {}
  },
  {
   "cell_type": "code",
   "execution_count": 7,
   "source": [
    "def left_augmentation(data, k=12) :\n",
    "    assert isinstance(data, dict)\n",
    "    \n",
    "    context = data['context']\n",
    "    answer = data['answers']\n",
    "    answer_pos, answer_text = answer['answer_start'][0], answer['text'][0]\n",
    "\n",
    "    answer_pos_left = answer_pos - k\n",
    "    while context[answer_pos_left] != ' ' :\n",
    "        answer_pos_left -= 1\n",
    "    answer_pos_left += 1\n",
    "    answer_text_left = context[answer_pos_left:answer_pos+len(answer_text)] \n",
    "\n",
    "    data_left = copy.deepcopy(data)\n",
    "    data_left['id'] = data['id'] + '_0'\n",
    "    data_left['answers'] = {'answer_start' : [answer_pos_left], 'text' : [answer_text_left]}\n",
    "    return data_left\n"
   ],
   "outputs": [],
   "metadata": {}
  },
  {
   "cell_type": "code",
   "execution_count": 11,
   "source": [
    "print(train_data[13]['answers'])"
   ],
   "outputs": [
    {
     "output_type": "stream",
     "name": "stdout",
     "text": [
      "{'answer_start': [26], 'text': ['1951년']}\n"
     ]
    }
   ],
   "metadata": {}
  },
  {
   "cell_type": "code",
   "execution_count": 8,
   "source": [
    "left_augmentation(train_data[13])"
   ],
   "outputs": [
    {
     "output_type": "execute_result",
     "data": {
      "text/plain": [
       "{'title': '장면',\n",
       " 'context': '장면은 귀국전 국무총리에 임명되었으나 이듬해인 1951년 2월에 귀국한 후 정식으로 취임하였다. 귀국 무렵 대한민국 국회와 이승만은 갈등하고 있었다. 그는 중간에서 양자의 조정 역할을 하려 했으나 실패하였다 그는 귀국 즉시 총리직에 취임하지 않고, 1주일 간의 여유를 얻어 요인들을 만나 의논해 보았다 그는 “일반적으로 이 박사에 대한 평이 좋지 않아 총리직을 맡을 생각이 간절하지 않았으나 이왕 인준도 받았으니 하는 데까지 하다가 할 수 없으면 그만두라”라는 주변의 의견대로 총리직을 맡게 되었다 당초 이승만은 장면에게 인사권을 위임하겠다고 하였으나, “5석 중 3석을 총리가 정하였으니 내무에는 이순용(李淳鎔), 국방에는 이기붕을 써 주시오”하고 종용하자, 당초 약속과는 달랐으나 장면은 받아들였다 국무총리 재임 중 그는 호화로운 식단을 기피하고 직접 도시락을 싸들고 출퇴근하였다.\\\\n\\\\n \\\\n8월에는 자유당이 창당되자 자유당에 입당했다. 12월에는 원외 자유당이 결성되면서 장면이 속한 자유당은 원내 자유당으로 불리게 되었다. 원내 자유당에서는 1952년 제2대 정부통령 선거에서 그를 대통령 후보로 추대하려는 일파와, 내각 책임제로 개헌하여 대통령직을 유명무실화하게 한 뒤 그를 내각 책임제 하의 국무총리로 추대하려는 세력이 나타났다. 흥사단도 장면을 지지하였다. 이후 흥사단의 지지를 이유로 장면은 흥사단계로 분류되었으나 장면은 이를 부정하였다. 장면을 대통령 후보로 추대하려는 세력과 내각책임제 개헌 후 장면을 총리로 추대하려는 세력의 존재가 이승만의 귀에 들어가면서 장면은 정치적으로 궁지에 몰리게 된다.',\n",
       " 'question': '장면이 한국으로 돌아온 년도는?',\n",
       " 'id': 'mrc-0-001373_0',\n",
       " 'answers': {'answer_start': [14], 'text': ['임명되었으나 이듬해인 1951년']},\n",
       " 'document_id': 6930,\n",
       " '__index_level_0__': 899}"
      ]
     },
     "metadata": {},
     "execution_count": 8
    }
   ],
   "metadata": {}
  },
  {
   "cell_type": "code",
   "execution_count": 15,
   "source": [
    "def right_augmentation(data) :\n",
    "    context = data['context']\n",
    "    answer = data['answers']\n",
    "    answer_pos, answer_text = answer['answer_start'][0], answer['text'][0]\n",
    "\n",
    "    answer_pos_right = min(len(context)-1,answer_pos + len(answer_text) + np.random.randint(12,24))\n",
    "    while context[answer_pos_right] != ' ' and answer_pos_right < len(context)-1:\n",
    "        answer_pos_right += 1\n",
    "    answer_text_right = context[answer_pos:answer_pos_right+1] \n",
    "\n",
    "    data_right = copy.deepcopy(data)\n",
    "    data_right['id'] = data['id'] + '_1'\n",
    "    data_right['answers'] = {'answer_start' : [answer_pos], 'text' : [answer_text_right]}\n",
    "    return data_right"
   ],
   "outputs": [],
   "metadata": {}
  },
  {
   "cell_type": "code",
   "execution_count": 13,
   "source": [
    "print(train_data[13]['answers'])"
   ],
   "outputs": [
    {
     "output_type": "stream",
     "name": "stdout",
     "text": [
      "{'answer_start': [26], 'text': ['1951년']}\n"
     ]
    }
   ],
   "metadata": {}
  },
  {
   "cell_type": "code",
   "execution_count": 16,
   "source": [
    "right_augmentation(train_data[13])"
   ],
   "outputs": [
    {
     "output_type": "execute_result",
     "data": {
      "text/plain": [
       "{'title': '장면',\n",
       " 'context': '장면은 귀국전 국무총리에 임명되었으나 이듬해인 1951년 2월에 귀국한 후 정식으로 취임하였다. 귀국 무렵 대한민국 국회와 이승만은 갈등하고 있었다. 그는 중간에서 양자의 조정 역할을 하려 했으나 실패하였다 그는 귀국 즉시 총리직에 취임하지 않고, 1주일 간의 여유를 얻어 요인들을 만나 의논해 보았다 그는 “일반적으로 이 박사에 대한 평이 좋지 않아 총리직을 맡을 생각이 간절하지 않았으나 이왕 인준도 받았으니 하는 데까지 하다가 할 수 없으면 그만두라”라는 주변의 의견대로 총리직을 맡게 되었다 당초 이승만은 장면에게 인사권을 위임하겠다고 하였으나, “5석 중 3석을 총리가 정하였으니 내무에는 이순용(李淳鎔), 국방에는 이기붕을 써 주시오”하고 종용하자, 당초 약속과는 달랐으나 장면은 받아들였다 국무총리 재임 중 그는 호화로운 식단을 기피하고 직접 도시락을 싸들고 출퇴근하였다.\\\\n\\\\n \\\\n8월에는 자유당이 창당되자 자유당에 입당했다. 12월에는 원외 자유당이 결성되면서 장면이 속한 자유당은 원내 자유당으로 불리게 되었다. 원내 자유당에서는 1952년 제2대 정부통령 선거에서 그를 대통령 후보로 추대하려는 일파와, 내각 책임제로 개헌하여 대통령직을 유명무실화하게 한 뒤 그를 내각 책임제 하의 국무총리로 추대하려는 세력이 나타났다. 흥사단도 장면을 지지하였다. 이후 흥사단의 지지를 이유로 장면은 흥사단계로 분류되었으나 장면은 이를 부정하였다. 장면을 대통령 후보로 추대하려는 세력과 내각책임제 개헌 후 장면을 총리로 추대하려는 세력의 존재가 이승만의 귀에 들어가면서 장면은 정치적으로 궁지에 몰리게 된다.',\n",
       " 'question': '장면이 한국으로 돌아온 년도는?',\n",
       " 'id': 'mrc-0-001373_1',\n",
       " 'answers': {'answer_start': [26], 'text': ['1951년 2월에 귀국한 후 정식으로 ']},\n",
       " 'document_id': 6930,\n",
       " '__index_level_0__': 899}"
      ]
     },
     "metadata": {},
     "execution_count": 16
    }
   ],
   "metadata": {}
  },
  {
   "cell_type": "code",
   "execution_count": 17,
   "source": [
    "def mid_augmentation(data, k=12) :\n",
    "    assert isinstance(data, dict)\n",
    "    \n",
    "    context = data['context']\n",
    "    answer = data['answers']\n",
    "    answer_pos = answer['answer_start'][0]\n",
    "\n",
    "    answer_pos_left = answer_pos - int(k/2)\n",
    "    while context[answer_pos_left] != ' ' :\n",
    "        answer_pos_left -= 1\n",
    "    answer_pos_left += 1\n",
    "\n",
    "    answer_pos_right = answer_pos + int(k/2)\n",
    "    while context[answer_pos_right] != ' ' :\n",
    "        answer_pos_right += 1\n",
    "\n",
    "    answer_text = context[answer_pos_left:answer_pos_right] \n",
    "    data_mid = copy.deepcopy(data)\n",
    "    data_mid['id'] = data['id'] + '_2'\n",
    "    data_mid['answers'] = {'answer_start' : [answer_pos], 'text' : [answer_text]}\n",
    "    return data_mid\n"
   ],
   "outputs": [],
   "metadata": {}
  },
  {
   "cell_type": "code",
   "execution_count": 21,
   "source": [
    "print(train_data['answers'][13])"
   ],
   "outputs": [
    {
     "output_type": "stream",
     "name": "stdout",
     "text": [
      "{'answer_start': [26], 'text': ['1951년']}\n"
     ]
    }
   ],
   "metadata": {}
  },
  {
   "cell_type": "code",
   "execution_count": 22,
   "source": [
    "mid_augmentation(train_data[13])"
   ],
   "outputs": [
    {
     "output_type": "execute_result",
     "data": {
      "text/plain": [
       "{'title': '장면',\n",
       " 'context': '장면은 귀국전 국무총리에 임명되었으나 이듬해인 1951년 2월에 귀국한 후 정식으로 취임하였다. 귀국 무렵 대한민국 국회와 이승만은 갈등하고 있었다. 그는 중간에서 양자의 조정 역할을 하려 했으나 실패하였다 그는 귀국 즉시 총리직에 취임하지 않고, 1주일 간의 여유를 얻어 요인들을 만나 의논해 보았다 그는 “일반적으로 이 박사에 대한 평이 좋지 않아 총리직을 맡을 생각이 간절하지 않았으나 이왕 인준도 받았으니 하는 데까지 하다가 할 수 없으면 그만두라”라는 주변의 의견대로 총리직을 맡게 되었다 당초 이승만은 장면에게 인사권을 위임하겠다고 하였으나, “5석 중 3석을 총리가 정하였으니 내무에는 이순용(李淳鎔), 국방에는 이기붕을 써 주시오”하고 종용하자, 당초 약속과는 달랐으나 장면은 받아들였다 국무총리 재임 중 그는 호화로운 식단을 기피하고 직접 도시락을 싸들고 출퇴근하였다.\\\\n\\\\n \\\\n8월에는 자유당이 창당되자 자유당에 입당했다. 12월에는 원외 자유당이 결성되면서 장면이 속한 자유당은 원내 자유당으로 불리게 되었다. 원내 자유당에서는 1952년 제2대 정부통령 선거에서 그를 대통령 후보로 추대하려는 일파와, 내각 책임제로 개헌하여 대통령직을 유명무실화하게 한 뒤 그를 내각 책임제 하의 국무총리로 추대하려는 세력이 나타났다. 흥사단도 장면을 지지하였다. 이후 흥사단의 지지를 이유로 장면은 흥사단계로 분류되었으나 장면은 이를 부정하였다. 장면을 대통령 후보로 추대하려는 세력과 내각책임제 개헌 후 장면을 총리로 추대하려는 세력의 존재가 이승만의 귀에 들어가면서 장면은 정치적으로 궁지에 몰리게 된다.',\n",
       " 'question': '장면이 한국으로 돌아온 년도는?',\n",
       " 'id': 'mrc-0-001373_2',\n",
       " 'answers': {'answer_start': [26], 'text': ['이듬해인 1951년 2월에']},\n",
       " 'document_id': 6930,\n",
       " '__index_level_0__': 899}"
      ]
     },
     "metadata": {},
     "execution_count": 22
    }
   ],
   "metadata": {}
  },
  {
   "cell_type": "code",
   "execution_count": 23,
   "source": [
    "class SpanAugmentation :\n",
    "    def __init__(self, n=4, p=0.8, max_len=24, min_len=6) :\n",
    "        self.n = n\n",
    "        self.p = p\n",
    "        self.max_len = max_len\n",
    "        self.min_len = min_len\n",
    "\n",
    "    def __call__(self, dataset) :\n",
    "        assert isinstance(train_data, Dataset)\n",
    "        data_list = [data for data in dataset]\n",
    "        data_size = len(data_list)\n",
    "\n",
    "        data_augmented = []\n",
    "        rand_prob = np.random.rand(data_size)\n",
    "        for i, data in enumerate(data_list) :\n",
    "            if rand_prob[i] > self.p :\n",
    "                continue\n",
    "            for j in range(self.n) :\n",
    "                direction = np.random.randint(3)\n",
    "                if direction == 0 : # left\n",
    "                    data_augmented.append(self.left_augmentation(data,j))\n",
    "                elif direction == 1 : # right\n",
    "                    data_augmented.append(self.right_augmentation(data,j))\n",
    "                else : # mid\n",
    "                    data_augmented.append(self.mid_augmentation(data,j))\n",
    "\n",
    "        data_augmented = self.convert_to_dict(data_augmented)\n",
    "        data_augmented = Dataset.from_dict(data_augmented)\n",
    "        return data_augmented\n",
    "\n",
    "    def convert_to_dict(self, data_list) :\n",
    "        data_dict = {}\n",
    "        for key in data_list[0].keys() :\n",
    "            val_list = [data[key] for data in data_list]\n",
    "            data_dict[key] = val_list\n",
    "        return data_dict\n",
    "    \n",
    "    def left_augmentation(self, data, j) :\n",
    "        context = data['context']\n",
    "        answer = data['answers']\n",
    "        answer_pos, answer_text = answer['answer_start'][0], answer['text'][0]\n",
    "\n",
    "        answer_pos_left = max(0,answer_pos - np.random.randint(self.min_len, self.max_len))\n",
    "        while context[answer_pos_left] != ' ' and answer_pos_left >= 0:\n",
    "            answer_pos_left -= 1\n",
    "        answer_pos_left += 1\n",
    "        answer_text_left = context[answer_pos_left:answer_pos+len(answer_text)] \n",
    "\n",
    "        data_left = copy.deepcopy(data)\n",
    "        data_left['id'] = data['id'] + '_0_' + str(j)\n",
    "        data_left['answers'] = {'answer_start' : [answer_pos_left], 'text' : [answer_text_left]}\n",
    "        return data_left\n",
    "\n",
    "    def right_augmentation(self, data, j) :\n",
    "        context = data['context']\n",
    "        answer = data['answers']\n",
    "        answer_pos, answer_text = answer['answer_start'][0], answer['text'][0]\n",
    "\n",
    "        answer_pos_right = min(len(context)-1,answer_pos + len(answer_text) + np.random.randint(self.min_len, self.max_len))\n",
    "        while context[answer_pos_right] != ' ' and answer_pos_right < len(context)-1:\n",
    "            answer_pos_right += 1\n",
    "        answer_text_right = context[answer_pos:answer_pos_right+1] \n",
    "\n",
    "        data_right = copy.deepcopy(data)\n",
    "        data_right['id'] = data['id'] + '_1_' + str(j)\n",
    "        data_right['answers'] = {'answer_start' : [answer_pos], 'text' : [answer_text_right]}\n",
    "        return data_right\n",
    "\n",
    "    def mid_augmentation(self, data, j) :   \n",
    "        context = data['context']\n",
    "        answer = data['answers']\n",
    "        answer_pos = answer['answer_start'][0]\n",
    "\n",
    "        answer_pos_left = max(0,answer_pos - np.random.randint(self.min_len/2, self.max_len/2))\n",
    "        while context[answer_pos_left] != ' ' and answer_pos_left >= 0 :\n",
    "            answer_pos_left -= 1\n",
    "        answer_pos_left += 1\n",
    "\n",
    "        answer_pos_right = min(len(context)-1,answer_pos + np.random.randint(self.min_len/2, self.max_len/2))\n",
    "        while context[answer_pos_right] != ' ' and answer_pos_right < len(context)-1:\n",
    "            answer_pos_right += 1\n",
    "\n",
    "        answer_text = context[answer_pos_left:answer_pos_right+1] \n",
    "        data_mid = copy.deepcopy(data)\n",
    "        data_mid['id'] = data['id'] + '_2_' + str(j)\n",
    "        data_mid['answers'] = {'answer_start' : [answer_pos], 'text' : [answer_text]}\n",
    "        return data_mid\n"
   ],
   "outputs": [],
   "metadata": {}
  }
 ],
 "metadata": {
  "orig_nbformat": 4,
  "language_info": {
   "name": "python",
   "version": "3.8.5",
   "mimetype": "text/x-python",
   "codemirror_mode": {
    "name": "ipython",
    "version": 3
   },
   "pygments_lexer": "ipython3",
   "nbconvert_exporter": "python",
   "file_extension": ".py"
  },
  "kernelspec": {
   "name": "python3",
   "display_name": "Python 3.8.5 64-bit ('base': conda)"
  },
  "interpreter": {
   "hash": "98b0a9b7b4eaaa670588a142fd0a9b87eaafe866f1db4228be72b4211d12040f"
  }
 },
 "nbformat": 4,
 "nbformat_minor": 2
}