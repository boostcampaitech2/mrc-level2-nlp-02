{
 "cells": [
  {
   "cell_type": "code",
   "execution_count": 1,
   "source": [
    "import logging\n",
    "import os\n",
    "import sys\n",
    "import re\n",
    "\n",
    "import matplotlib.pyplot as plt\n",
    "\n",
    "from tqdm import tqdm\n",
    "from typing import List, Callable, NoReturn, NewType, Any\n",
    "import dataclasses\n",
    "from datasets import load_metric, load_from_disk, Dataset, DatasetDict\n",
    "\n",
    "from transformers import AutoConfig, AutoModelForQuestionAnswering, AutoTokenizer\n",
    "from transformers import (\n",
    "    DataCollatorWithPadding,\n",
    "    EvalPrediction,\n",
    "    HfArgumentParser,\n",
    "    TrainingArguments,\n",
    "    set_seed,\n",
    ")"
   ],
   "outputs": [],
   "metadata": {}
  },
  {
   "cell_type": "code",
   "execution_count": 2,
   "source": [
    "sys.path.append('../')"
   ],
   "outputs": [],
   "metadata": {}
  },
  {
   "cell_type": "code",
   "execution_count": 3,
   "source": [
    "from tokenizers import Tokenizer\n",
    "from tokenizers.models import WordPiece\n",
    "\n",
    "from utils_qa import postprocess_qa_predictions, check_no_error\n",
    "from trainer_qa import QuestionAnsweringTrainer\n",
    "from retriever.retriever_sparse_BM25 import SparseRetrieval\n",
    "\n",
    "from arguments import (\n",
    "    ModelArguments,\n",
    "    DataTrainingArguments,\n",
    ")"
   ],
   "outputs": [],
   "metadata": {}
  },
  {
   "cell_type": "markdown",
   "source": [
    "## Raw Data"
   ],
   "metadata": {}
  },
  {
   "cell_type": "code",
   "execution_count": 4,
   "source": [
    "datasets = load_from_disk('/opt/ml/data/train_dataset')"
   ],
   "outputs": [],
   "metadata": {}
  },
  {
   "cell_type": "code",
   "execution_count": 5,
   "source": [
    "datasets"
   ],
   "outputs": [
    {
     "output_type": "execute_result",
     "data": {
      "text/plain": [
       "DatasetDict({\n",
       "    train: Dataset({\n",
       "        features: ['__index_level_0__', 'answers', 'context', 'document_id', 'id', 'question', 'title'],\n",
       "        num_rows: 3952\n",
       "    })\n",
       "    validation: Dataset({\n",
       "        features: ['__index_level_0__', 'answers', 'context', 'document_id', 'id', 'question', 'title'],\n",
       "        num_rows: 240\n",
       "    })\n",
       "})"
      ]
     },
     "metadata": {},
     "execution_count": 5
    }
   ],
   "metadata": {}
  },
  {
   "cell_type": "code",
   "execution_count": 6,
   "source": [
    "train_data = datasets['train']\n",
    "train_size = len(train_data)"
   ],
   "outputs": [],
   "metadata": {}
  },
  {
   "cell_type": "code",
   "execution_count": 18,
   "source": [
    "for i,con in enumerate(train_data) :\n",
    "\n",
    "    if re.search('['+chr(55204)+'-'+chr(63743)']', con['context']) != None:\n",
    "        print(i)"
   ],
   "outputs": [
    {
     "output_type": "error",
     "ename": "SyntaxError",
     "evalue": "invalid syntax (4039469234.py, line 3)",
     "traceback": [
      "\u001b[0;36m  File \u001b[0;32m\"/tmp/ipykernel_29454/4039469234.py\"\u001b[0;36m, line \u001b[0;32m3\u001b[0m\n\u001b[0;31m    if re.search('['chr(55204)+'-'+chr(63743)']', con['context']) != None:\u001b[0m\n\u001b[0m                    ^\u001b[0m\n\u001b[0;31mSyntaxError\u001b[0m\u001b[0;31m:\u001b[0m invalid syntax\n"
     ]
    }
   ],
   "metadata": {}
  },
  {
   "cell_type": "code",
   "execution_count": 16,
   "source": [
    "con"
   ],
   "outputs": [
    {
     "output_type": "execute_result",
     "data": {
      "text/plain": [
       "{'title': '미국 상원',\n",
       " 'context': '미국 상의원 또는 미국 상원(United States Senate)은 양원제인 미국 의회의 상원이다.\\\\n\\\\n미국 부통령이 상원의장이 된다. 각 주당 2명의 상원의원이 선출되어 100명의 상원의원으로 구성되어 있다. 임기는 6년이며, 2년마다 50개주 중 1/3씩 상원의원을 새로 선출하여 연방에 보낸다.\\\\n\\\\n미국 상원은 미국 하원과는 다르게 미국 대통령을 수반으로 하는 미국 연방 행정부에 각종 동의를 하는 기관이다. 하원이 세금과 경제에 대한 권한, 대통령을 포함한 대다수의 공무원을 파면할 권한을 갖고 있는 국민을 대표하는 기관인 반면 상원은 미국의 주를 대표한다. 즉 캘리포니아주, 일리노이주 같이 주 정부와 주 의회를 대표하는 기관이다. 그로 인하여 군대의 파병, 관료의 임명에 대한 동의, 외국 조약에 대한 승인 등 신속을 요하는 권한은 모두 상원에게만 있다. 그리고 하원에 대한 견제 역할(하원의 법안을 거부할 권한 등)을 담당한다. 2년의 임기로 인하여 급진적일 수밖에 없는 하원은 지나치게 급진적인 법안을 만들기 쉽다. 대표적인 예로 건강보험 개혁 당시 하원이 미국 연방 행정부에게 퍼블릭 옵션(공공건강보험기관)의 조항이 있는 반면 상원의 경우 하원안이 지나치게 세금이 많이 든다는 이유로 퍼블릭 옵션 조항을 제외하고 비영리건강보험기관이나 보험회사가 담당하도록 한 것이다. 이 경우처럼 상원은 하원이나 내각책임제가 빠지기 쉬운 국가들의 국회처럼 걸핏하면 발생하는 의회의 비정상적인 사태를 방지하는 기관이다. 상원은 급박한 처리사항의 경우가 아니면 법안을 먼저 내는 경우가 드물고 하원이 만든 법안을 수정하여 다시 하원에 되돌려보낸다. 이러한 방식으로 단원제가 빠지기 쉬운 함정을 미리 방지하는 것이다.날짜=2017-02-05',\n",
       " 'question': '대통령을 포함한 미국의 행정부 견제권을 갖는 국가 기관은?',\n",
       " 'id': 'mrc-1-000067',\n",
       " 'answers': {'answer_start': [235], 'text': ['하원']},\n",
       " 'document_id': 18293,\n",
       " '__index_level_0__': 42}"
      ]
     },
     "metadata": {},
     "execution_count": 16
    }
   ],
   "metadata": {}
  },
  {
   "cell_type": "code",
   "execution_count": null,
   "source": [],
   "outputs": [],
   "metadata": {}
  },
  {
   "cell_type": "code",
   "execution_count": 11,
   "source": [
    "len('\\u3000')"
   ],
   "outputs": [
    {
     "output_type": "execute_result",
     "data": {
      "text/plain": [
       "1"
      ]
     },
     "metadata": {},
     "execution_count": 11
    }
   ],
   "metadata": {}
  },
  {
   "cell_type": "code",
   "execution_count": 10,
   "source": [
    "con"
   ],
   "outputs": [
    {
     "output_type": "execute_result",
     "data": {
      "text/plain": [
       "{'title': '윤치호',\n",
       " 'context': \"그러나 한편으로는 미국 사회의 인종차별주의적, 흑인을 차별하는 태도를 목격하면서 백인들의 오만함에 대한 부정적인 생각을 갖게 되었다. 미국 체류 중 황인종을 멸시하는 백인 불량배들에게 끌려가 가끔 얻어맞기도 하고, “유색 인종”이라는 이유로 호텔 투숙을 거절당해 정거장에서 밤을 지샜는가 하면, 세례 교인이었던 그와 가장 가까워야 할 미국인 선교사에게마저 늘\\u3000은근히 - 그리고 가끔은 매우 노골적으로 - “왕따”당하는 처지였다 귀국 이후에 조선에서 만난 미국인 선교사들도 비슷하게 그를 대우했다.\\\\n\\\\n당시의 그에 대해 후일 노르웨이 오슬로 대학 교수 박노자는 '백인 인종주의에 상처받아 만신창이가 되었을 그의 마음 상태 '를 지적하기도 했다.\\\\n\\\\n만약 내가 마음대로 내 고국을 선택할 수 있다면, 나는 일본을 선택할 것이다. 오, 축복받은 일본이여! 동방의 낙원이여! |1893년 11월 1일자 일기 \\\\n\\\\n그는 평소 조선인들의 불결한 위생과 겉치레, 감정적 대응 등을 내심 경멸해왔다. 그리고 서구의 기독교사상과 일한 만큼만 대가를 받는다는 청교도 정신, 합리주의의 수용을 통해 이를 개선하려 했다. 그러나 평소 기독교선교사들로부터도 자기 일 처리도 못하는 작은 아이, 원주민, 예의를 지키지 않아도 될 만한 사람의 대접을 늘 받아 온 윤치호는, 인종주의야말로 미국의 가장 중요한 특징이라는 결론을 내리게 되었다 그 뒤 그는 조선에도 민주주의와 자유주의, 기독교 정신의 도입이 시급하다고 봤다. 그러나 미국의 민주주의와 자유주의, 기독교 사상과 개척정신은 높이 평가하면서도 내심 백인종을 혐오하는 이중적인 태도와 인종주의적인 사고를 갖게 되었다.\\\\n\\\\n어느 교회에서 남부 출신 남감리교회 목사들이 예배 시간에 흑인을 박멸해야 된다는 설교, 흑인들을 아프리카로 추방해야 된다는 설교를 듣고는 충격을 받기도 했다 그들이 목사인가 기독교인인가 자체를 의심하기도 했다. 하지만 흑인이 백인들로부터 차별대우를 받는 것에는 분노하면서도 흑인에 대해서는 1893년 2월 17일자 일기에 '(아프리카인들이 미국에 끌려와) 영어를 배운 것만으로도 그들의 노예생활에 대해 충분히 보상받은 것이다. 라는 이중적인 시각을 갖게 된다. 귀국 이후 그는 국내 인사들이 미국을 무조건적으로 의존하거나 일제와는 다른 선량한 국가일 것이라는 생각을 비판, 경계하기도 했다.\",\n",
       " 'question': '평상시 기독교선교사들로부터 차별적 대우를 받은 윤치호가 생각한 미국의 중대한 속성은?',\n",
       " 'id': 'mrc-0-001069',\n",
       " 'answers': {'answer_start': [645], 'text': ['인종주의']},\n",
       " 'document_id': 5284,\n",
       " '__index_level_0__': 705}"
      ]
     },
     "metadata": {},
     "execution_count": 10
    }
   ],
   "metadata": {}
  },
  {
   "cell_type": "markdown",
   "source": [
    "## Check Length"
   ],
   "metadata": {}
  },
  {
   "cell_type": "code",
   "execution_count": 8,
   "source": [
    "q_len = []\n",
    "c_len = []\n",
    "\n",
    "for data in train_data :\n",
    "    question = data['question']\n",
    "    context = data['context'] \n",
    "    q_len.append(len(question))\n",
    "    c_len.append(len(context))"
   ],
   "outputs": [],
   "metadata": {}
  },
  {
   "cell_type": "markdown",
   "source": [
    "## Tokenizer"
   ],
   "metadata": {}
  },
  {
   "cell_type": "code",
   "execution_count": 10,
   "source": [
    "model_args = ModelArguments\n",
    "\n",
    "config = AutoConfig.from_pretrained(\n",
    "    model_args.config_name \n",
    "    if model_args.config_name is not None\n",
    "    else model_args.model_name_or_path,\n",
    ")\n",
    "\n",
    "# -- Tokenizer\n",
    "tokenizer = AutoTokenizer.from_pretrained(\n",
    "    model_args.tokenizer_name\n",
    "    if model_args.tokenizer_name is not None\n",
    "    else model_args.model_name_or_path,\n",
    "    # 'use_fast' argument를 True로 설정할 경우 rust로 구현된 tokenizer를 사용할 수 있습니다.\n",
    "    # False로 설정할 경우 python으로 구현된 tokenizer를 사용할 수 있으며,\n",
    "    # rust version이 비교적 속도가 빠릅니다.\n",
    "    use_fast=True,\n",
    ")\n",
    " "
   ],
   "outputs": [],
   "metadata": {}
  },
  {
   "cell_type": "code",
   "execution_count": 11,
   "source": [
    "tokenizer"
   ],
   "outputs": [
    {
     "output_type": "execute_result",
     "data": {
      "text/plain": [
       "PreTrainedTokenizerFast(name_or_path='klue/roberta-large', vocab_size=32000, model_max_len=512, is_fast=True, padding_side='right', special_tokens={'bos_token': '[CLS]', 'eos_token': '[SEP]', 'unk_token': '[UNK]', 'sep_token': '[SEP]', 'pad_token': '[PAD]', 'cls_token': '[CLS]', 'mask_token': '[MASK]'})"
      ]
     },
     "metadata": {},
     "execution_count": 11
    }
   ],
   "metadata": {}
  },
  {
   "cell_type": "code",
   "execution_count": 12,
   "source": [
    "q_tok_len = []\n",
    "c_tok_len = []\n",
    "\n",
    "for data in train_data :\n",
    "    question = tokenizer.tokenize(data['question'])\n",
    "    context = tokenizer.tokenize(data['context'])\n",
    "    q_tok_len.append(len(question))\n",
    "    c_tok_len.append(len(context))"
   ],
   "outputs": [
    {
     "output_type": "stream",
     "name": "stderr",
     "text": [
      "Token indices sequence length is longer than the specified maximum sequence length for this model (1020 > 512). Running this sequence through the model will result in indexing errors\n"
     ]
    }
   ],
   "metadata": {}
  },
  {
   "cell_type": "code",
   "execution_count": 18,
   "source": [
    "fig, axes = plt.subplots(1,2, figsize=(12,6))\n",
    "\n",
    "axes[0].set_title('Histogram of Question : str', fontsize = 15)\n",
    "axes[0].hist(q_tok_len, bins=30, color='skyblue')\n",
    "\n",
    "axes[1].set_title('Histogram of Context : tokenized' , fontsize = 15)\n",
    "axes[1].hist(c_tok_len, bins=50, color='orange')\n",
    "\n",
    "plt.show()"
   ],
   "outputs": [
    {
     "output_type": "display_data",
     "data": {
      "text/plain": [
       "<Figure size 864x432 with 2 Axes>"
      ],
      "image/svg+xml": "<?xml version=\"1.0\" encoding=\"utf-8\" standalone=\"no\"?>\n<!DOCTYPE svg PUBLIC \"-//W3C//DTD SVG 1.1//EN\"\n  \"http://www.w3.org/Graphics/SVG/1.1/DTD/svg11.dtd\">\n<svg height=\"374.635781pt\" version=\"1.1\" viewBox=\"0 0 717.281581 374.635781\" width=\"717.281581pt\" xmlns=\"http://www.w3.org/2000/svg\" xmlns:xlink=\"http://www.w3.org/1999/xlink\">\n <metadata>\n  <rdf:RDF xmlns:cc=\"http://creativecommons.org/ns#\" xmlns:dc=\"http://purl.org/dc/elements/1.1/\" xmlns:rdf=\"http://www.w3.org/1999/02/22-rdf-syntax-ns#\">\n   <cc:Work>\n    <dc:type rdf:resource=\"http://purl.org/dc/dcmitype/StillImage\"/>\n    <dc:date>2021-10-20T06:38:26.667789</dc:date>\n    <dc:format>image/svg+xml</dc:format>\n    <dc:creator>\n     <cc:Agent>\n      <dc:title>Matplotlib v3.4.3, https://matplotlib.org/</dc:title>\n     </cc:Agent>\n    </dc:creator>\n   </cc:Work>\n  </rdf:RDF>\n </metadata>\n <defs>\n  <style type=\"text/css\">*{stroke-linecap:butt;stroke-linejoin:round;}</style>\n </defs>\n <g id=\"figure_1\">\n  <g id=\"patch_1\">\n   <path d=\"M 0 374.635781 \nL 717.281581 374.635781 \nL 717.281581 0 \nL 0 0 \nz\n\" style=\"fill:none;\"/>\n  </g>\n  <g id=\"axes_1\">\n   <g id=\"patch_2\">\n    <path d=\"M 33.2875 350.757656 \nL 337.651136 350.757656 \nL 337.651136 24.597656 \nL 33.2875 24.597656 \nz\n\" style=\"fill:#ffffff;\"/>\n   </g>\n   <g id=\"patch_3\">\n    <path clip-path=\"url(#pe52e0d19ca)\" d=\"M 47.122211 350.757656 \nL 56.345351 350.757656 \nL 56.345351 348.946411 \nL 47.122211 348.946411 \nz\n\" style=\"fill:#87ceeb;\"/>\n   </g>\n   <g id=\"patch_4\">\n    <path clip-path=\"url(#pe52e0d19ca)\" d=\"M 56.345351 350.757656 \nL 65.568492 350.757656 \nL 65.568492 335.814882 \nL 56.345351 335.814882 \nz\n\" style=\"fill:#87ceeb;\"/>\n   </g>\n   <g id=\"patch_5\">\n    <path clip-path=\"url(#pe52e0d19ca)\" d=\"M 65.568492 350.757656 \nL 74.791632 350.757656 \nL 74.791632 320.872109 \nL 65.568492 320.872109 \nz\n\" style=\"fill:#87ceeb;\"/>\n   </g>\n   <g id=\"patch_6\">\n    <path clip-path=\"url(#pe52e0d19ca)\" d=\"M 74.791632 350.757656 \nL 84.014773 350.757656 \nL 84.014773 236.649201 \nL 74.791632 236.649201 \nz\n\" style=\"fill:#87ceeb;\"/>\n   </g>\n   <g id=\"patch_7\">\n    <path clip-path=\"url(#pe52e0d19ca)\" d=\"M 84.014773 350.757656 \nL 93.237913 350.757656 \nL 93.237913 254.308843 \nL 84.014773 254.308843 \nz\n\" style=\"fill:#87ceeb;\"/>\n   </g>\n   <g id=\"patch_8\">\n    <path clip-path=\"url(#pe52e0d19ca)\" d=\"M 93.237913 350.757656 \nL 102.461054 350.757656 \nL 102.461054 232.573899 \nL 93.237913 232.573899 \nz\n\" style=\"fill:#87ceeb;\"/>\n   </g>\n   <g id=\"patch_9\">\n    <path clip-path=\"url(#pe52e0d19ca)\" d=\"M 102.461054 350.757656 \nL 111.684194 350.757656 \nL 111.684194 222.159239 \nL 102.461054 222.159239 \nz\n\" style=\"fill:#87ceeb;\"/>\n   </g>\n   <g id=\"patch_10\">\n    <path clip-path=\"url(#pe52e0d19ca)\" d=\"M 111.684194 350.757656 \nL 120.907335 350.757656 \nL 120.907335 40.129085 \nL 111.684194 40.129085 \nz\n\" style=\"fill:#87ceeb;\"/>\n   </g>\n   <g id=\"patch_11\">\n    <path clip-path=\"url(#pe52e0d19ca)\" d=\"M 120.907335 350.757656 \nL 130.130475 350.757656 \nL 130.130475 192.726503 \nL 120.907335 192.726503 \nz\n\" style=\"fill:#87ceeb;\"/>\n   </g>\n   <g id=\"patch_12\">\n    <path clip-path=\"url(#pe52e0d19ca)\" d=\"M 130.130475 350.757656 \nL 139.353616 350.757656 \nL 139.353616 193.179314 \nL 130.130475 193.179314 \nz\n\" style=\"fill:#87ceeb;\"/>\n   </g>\n   <g id=\"patch_13\">\n    <path clip-path=\"url(#pe52e0d19ca)\" d=\"M 139.353616 350.757656 \nL 148.576756 350.757656 \nL 148.576756 217.178314 \nL 139.353616 217.178314 \nz\n\" style=\"fill:#87ceeb;\"/>\n   </g>\n   <g id=\"patch_14\">\n    <path clip-path=\"url(#pe52e0d19ca)\" d=\"M 148.576756 350.757656 \nL 157.799897 350.757656 \nL 157.799897 132.502596 \nL 148.576756 132.502596 \nz\n\" style=\"fill:#87ceeb;\"/>\n   </g>\n   <g id=\"patch_15\">\n    <path clip-path=\"url(#pe52e0d19ca)\" d=\"M 157.799897 350.757656 \nL 167.023037 350.757656 \nL 167.023037 259.742579 \nL 157.799897 259.742579 \nz\n\" style=\"fill:#87ceeb;\"/>\n   </g>\n   <g id=\"patch_16\">\n    <path clip-path=\"url(#pe52e0d19ca)\" d=\"M 167.023037 350.757656 \nL 176.246178 350.757656 \nL 176.246178 288.722504 \nL 167.023037 288.722504 \nz\n\" style=\"fill:#87ceeb;\"/>\n   </g>\n   <g id=\"patch_17\">\n    <path clip-path=\"url(#pe52e0d19ca)\" d=\"M 176.246178 350.757656 \nL 185.469318 350.757656 \nL 185.469318 305.929335 \nL 176.246178 305.929335 \nz\n\" style=\"fill:#87ceeb;\"/>\n   </g>\n   <g id=\"patch_18\">\n    <path clip-path=\"url(#pe52e0d19ca)\" d=\"M 185.469318 350.757656 \nL 194.692459 350.757656 \nL 194.692459 294.609052 \nL 185.469318 294.609052 \nz\n\" style=\"fill:#87ceeb;\"/>\n   </g>\n   <g id=\"patch_19\">\n    <path clip-path=\"url(#pe52e0d19ca)\" d=\"M 194.692459 350.757656 \nL 203.915599 350.757656 \nL 203.915599 334.003637 \nL 194.692459 334.003637 \nz\n\" style=\"fill:#87ceeb;\"/>\n   </g>\n   <g id=\"patch_20\">\n    <path clip-path=\"url(#pe52e0d19ca)\" d=\"M 203.915599 350.757656 \nL 213.13874 350.757656 \nL 213.13874 343.965486 \nL 203.915599 343.965486 \nz\n\" style=\"fill:#87ceeb;\"/>\n   </g>\n   <g id=\"patch_21\">\n    <path clip-path=\"url(#pe52e0d19ca)\" d=\"M 213.13874 350.757656 \nL 222.36188 350.757656 \nL 222.36188 335.814882 \nL 213.13874 335.814882 \nz\n\" style=\"fill:#87ceeb;\"/>\n   </g>\n   <g id=\"patch_22\">\n    <path clip-path=\"url(#pe52e0d19ca)\" d=\"M 222.36188 350.757656 \nL 231.585021 350.757656 \nL 231.585021 346.229543 \nL 222.36188 346.229543 \nz\n\" style=\"fill:#87ceeb;\"/>\n   </g>\n   <g id=\"patch_23\">\n    <path clip-path=\"url(#pe52e0d19ca)\" d=\"M 231.585021 350.757656 \nL 240.808161 350.757656 \nL 240.808161 346.682354 \nL 231.585021 346.682354 \nz\n\" style=\"fill:#87ceeb;\"/>\n   </g>\n   <g id=\"patch_24\">\n    <path clip-path=\"url(#pe52e0d19ca)\" d=\"M 240.808161 350.757656 \nL 250.031302 350.757656 \nL 250.031302 348.040788 \nL 240.808161 348.040788 \nz\n\" style=\"fill:#87ceeb;\"/>\n   </g>\n   <g id=\"patch_25\">\n    <path clip-path=\"url(#pe52e0d19ca)\" d=\"M 250.031302 350.757656 \nL 259.254442 350.757656 \nL 259.254442 349.852034 \nL 250.031302 349.852034 \nz\n\" style=\"fill:#87ceeb;\"/>\n   </g>\n   <g id=\"patch_26\">\n    <path clip-path=\"url(#pe52e0d19ca)\" d=\"M 259.254442 350.757656 \nL 268.477583 350.757656 \nL 268.477583 350.757656 \nL 259.254442 350.757656 \nz\n\" style=\"fill:#87ceeb;\"/>\n   </g>\n   <g id=\"patch_27\">\n    <path clip-path=\"url(#pe52e0d19ca)\" d=\"M 268.477583 350.757656 \nL 277.700723 350.757656 \nL 277.700723 348.946411 \nL 268.477583 348.946411 \nz\n\" style=\"fill:#87ceeb;\"/>\n   </g>\n   <g id=\"patch_28\">\n    <path clip-path=\"url(#pe52e0d19ca)\" d=\"M 277.700723 350.757656 \nL 286.923864 350.757656 \nL 286.923864 350.757656 \nL 277.700723 350.757656 \nz\n\" style=\"fill:#87ceeb;\"/>\n   </g>\n   <g id=\"patch_29\">\n    <path clip-path=\"url(#pe52e0d19ca)\" d=\"M 286.923864 350.757656 \nL 296.147004 350.757656 \nL 296.147004 350.304845 \nL 286.923864 350.304845 \nz\n\" style=\"fill:#87ceeb;\"/>\n   </g>\n   <g id=\"patch_30\">\n    <path clip-path=\"url(#pe52e0d19ca)\" d=\"M 296.147004 350.757656 \nL 305.370145 350.757656 \nL 305.370145 350.757656 \nL 296.147004 350.757656 \nz\n\" style=\"fill:#87ceeb;\"/>\n   </g>\n   <g id=\"patch_31\">\n    <path clip-path=\"url(#pe52e0d19ca)\" d=\"M 305.370145 350.757656 \nL 314.593285 350.757656 \nL 314.593285 350.757656 \nL 305.370145 350.757656 \nz\n\" style=\"fill:#87ceeb;\"/>\n   </g>\n   <g id=\"patch_32\">\n    <path clip-path=\"url(#pe52e0d19ca)\" d=\"M 314.593285 350.757656 \nL 323.816426 350.757656 \nL 323.816426 350.304845 \nL 314.593285 350.304845 \nz\n\" style=\"fill:#87ceeb;\"/>\n   </g>\n   <g id=\"matplotlib.axis_1\">\n    <g id=\"xtick_1\">\n     <g id=\"line2d_1\">\n      <defs>\n       <path d=\"M 0 0 \nL 0 3.5 \n\" id=\"m3696eee966\" style=\"stroke:#000000;stroke-width:0.8;\"/>\n      </defs>\n      <g>\n       <use style=\"stroke:#000000;stroke-width:0.8;\" x=\"47.122211\" xlink:href=\"#m3696eee966\" y=\"350.757656\"/>\n      </g>\n     </g>\n     <g id=\"text_1\">\n      <!-- 5 -->\n      <g transform=\"translate(43.940961 365.356094)scale(0.1 -0.1)\">\n       <defs>\n        <path d=\"M 691 4666 \nL 3169 4666 \nL 3169 4134 \nL 1269 4134 \nL 1269 2991 \nQ 1406 3038 1543 3061 \nQ 1681 3084 1819 3084 \nQ 2600 3084 3056 2656 \nQ 3513 2228 3513 1497 \nQ 3513 744 3044 326 \nQ 2575 -91 1722 -91 \nQ 1428 -91 1123 -41 \nQ 819 9 494 109 \nL 494 744 \nQ 775 591 1075 516 \nQ 1375 441 1709 441 \nQ 2250 441 2565 725 \nQ 2881 1009 2881 1497 \nQ 2881 1984 2565 2268 \nQ 2250 2553 1709 2553 \nQ 1456 2553 1204 2497 \nQ 953 2441 691 2322 \nL 691 4666 \nz\n\" id=\"DejaVuSans-35\" transform=\"scale(0.015625)\"/>\n       </defs>\n       <use xlink:href=\"#DejaVuSans-35\"/>\n      </g>\n     </g>\n    </g>\n    <g id=\"xtick_2\">\n     <g id=\"line2d_2\">\n      <g>\n       <use style=\"stroke:#000000;stroke-width:0.8;\" x=\"83.529344\" xlink:href=\"#m3696eee966\" y=\"350.757656\"/>\n      </g>\n     </g>\n     <g id=\"text_2\">\n      <!-- 10 -->\n      <g transform=\"translate(77.166844 365.356094)scale(0.1 -0.1)\">\n       <defs>\n        <path d=\"M 794 531 \nL 1825 531 \nL 1825 4091 \nL 703 3866 \nL 703 4441 \nL 1819 4666 \nL 2450 4666 \nL 2450 531 \nL 3481 531 \nL 3481 0 \nL 794 0 \nL 794 531 \nz\n\" id=\"DejaVuSans-31\" transform=\"scale(0.015625)\"/>\n        <path d=\"M 2034 4250 \nQ 1547 4250 1301 3770 \nQ 1056 3291 1056 2328 \nQ 1056 1369 1301 889 \nQ 1547 409 2034 409 \nQ 2525 409 2770 889 \nQ 3016 1369 3016 2328 \nQ 3016 3291 2770 3770 \nQ 2525 4250 2034 4250 \nz\nM 2034 4750 \nQ 2819 4750 3233 4129 \nQ 3647 3509 3647 2328 \nQ 3647 1150 3233 529 \nQ 2819 -91 2034 -91 \nQ 1250 -91 836 529 \nQ 422 1150 422 2328 \nQ 422 3509 836 4129 \nQ 1250 4750 2034 4750 \nz\n\" id=\"DejaVuSans-30\" transform=\"scale(0.015625)\"/>\n       </defs>\n       <use xlink:href=\"#DejaVuSans-31\"/>\n       <use x=\"63.623047\" xlink:href=\"#DejaVuSans-30\"/>\n      </g>\n     </g>\n    </g>\n    <g id=\"xtick_3\">\n     <g id=\"line2d_3\">\n      <g>\n       <use style=\"stroke:#000000;stroke-width:0.8;\" x=\"119.936478\" xlink:href=\"#m3696eee966\" y=\"350.757656\"/>\n      </g>\n     </g>\n     <g id=\"text_3\">\n      <!-- 15 -->\n      <g transform=\"translate(113.573978 365.356094)scale(0.1 -0.1)\">\n       <use xlink:href=\"#DejaVuSans-31\"/>\n       <use x=\"63.623047\" xlink:href=\"#DejaVuSans-35\"/>\n      </g>\n     </g>\n    </g>\n    <g id=\"xtick_4\">\n     <g id=\"line2d_4\">\n      <g>\n       <use style=\"stroke:#000000;stroke-width:0.8;\" x=\"156.343611\" xlink:href=\"#m3696eee966\" y=\"350.757656\"/>\n      </g>\n     </g>\n     <g id=\"text_4\">\n      <!-- 20 -->\n      <g transform=\"translate(149.981111 365.356094)scale(0.1 -0.1)\">\n       <defs>\n        <path d=\"M 1228 531 \nL 3431 531 \nL 3431 0 \nL 469 0 \nL 469 531 \nQ 828 903 1448 1529 \nQ 2069 2156 2228 2338 \nQ 2531 2678 2651 2914 \nQ 2772 3150 2772 3378 \nQ 2772 3750 2511 3984 \nQ 2250 4219 1831 4219 \nQ 1534 4219 1204 4116 \nQ 875 4013 500 3803 \nL 500 4441 \nQ 881 4594 1212 4672 \nQ 1544 4750 1819 4750 \nQ 2544 4750 2975 4387 \nQ 3406 4025 3406 3419 \nQ 3406 3131 3298 2873 \nQ 3191 2616 2906 2266 \nQ 2828 2175 2409 1742 \nQ 1991 1309 1228 531 \nz\n\" id=\"DejaVuSans-32\" transform=\"scale(0.015625)\"/>\n       </defs>\n       <use xlink:href=\"#DejaVuSans-32\"/>\n       <use x=\"63.623047\" xlink:href=\"#DejaVuSans-30\"/>\n      </g>\n     </g>\n    </g>\n    <g id=\"xtick_5\">\n     <g id=\"line2d_5\">\n      <g>\n       <use style=\"stroke:#000000;stroke-width:0.8;\" x=\"192.750745\" xlink:href=\"#m3696eee966\" y=\"350.757656\"/>\n      </g>\n     </g>\n     <g id=\"text_5\">\n      <!-- 25 -->\n      <g transform=\"translate(186.388245 365.356094)scale(0.1 -0.1)\">\n       <use xlink:href=\"#DejaVuSans-32\"/>\n       <use x=\"63.623047\" xlink:href=\"#DejaVuSans-35\"/>\n      </g>\n     </g>\n    </g>\n    <g id=\"xtick_6\">\n     <g id=\"line2d_6\">\n      <g>\n       <use style=\"stroke:#000000;stroke-width:0.8;\" x=\"229.157878\" xlink:href=\"#m3696eee966\" y=\"350.757656\"/>\n      </g>\n     </g>\n     <g id=\"text_6\">\n      <!-- 30 -->\n      <g transform=\"translate(222.795378 365.356094)scale(0.1 -0.1)\">\n       <defs>\n        <path d=\"M 2597 2516 \nQ 3050 2419 3304 2112 \nQ 3559 1806 3559 1356 \nQ 3559 666 3084 287 \nQ 2609 -91 1734 -91 \nQ 1441 -91 1130 -33 \nQ 819 25 488 141 \nL 488 750 \nQ 750 597 1062 519 \nQ 1375 441 1716 441 \nQ 2309 441 2620 675 \nQ 2931 909 2931 1356 \nQ 2931 1769 2642 2001 \nQ 2353 2234 1838 2234 \nL 1294 2234 \nL 1294 2753 \nL 1863 2753 \nQ 2328 2753 2575 2939 \nQ 2822 3125 2822 3475 \nQ 2822 3834 2567 4026 \nQ 2313 4219 1838 4219 \nQ 1578 4219 1281 4162 \nQ 984 4106 628 3988 \nL 628 4550 \nQ 988 4650 1302 4700 \nQ 1616 4750 1894 4750 \nQ 2613 4750 3031 4423 \nQ 3450 4097 3450 3541 \nQ 3450 3153 3228 2886 \nQ 3006 2619 2597 2516 \nz\n\" id=\"DejaVuSans-33\" transform=\"scale(0.015625)\"/>\n       </defs>\n       <use xlink:href=\"#DejaVuSans-33\"/>\n       <use x=\"63.623047\" xlink:href=\"#DejaVuSans-30\"/>\n      </g>\n     </g>\n    </g>\n    <g id=\"xtick_7\">\n     <g id=\"line2d_7\">\n      <g>\n       <use style=\"stroke:#000000;stroke-width:0.8;\" x=\"265.565012\" xlink:href=\"#m3696eee966\" y=\"350.757656\"/>\n      </g>\n     </g>\n     <g id=\"text_7\">\n      <!-- 35 -->\n      <g transform=\"translate(259.202512 365.356094)scale(0.1 -0.1)\">\n       <use xlink:href=\"#DejaVuSans-33\"/>\n       <use x=\"63.623047\" xlink:href=\"#DejaVuSans-35\"/>\n      </g>\n     </g>\n    </g>\n    <g id=\"xtick_8\">\n     <g id=\"line2d_8\">\n      <g>\n       <use style=\"stroke:#000000;stroke-width:0.8;\" x=\"301.972145\" xlink:href=\"#m3696eee966\" y=\"350.757656\"/>\n      </g>\n     </g>\n     <g id=\"text_8\">\n      <!-- 40 -->\n      <g transform=\"translate(295.609645 365.356094)scale(0.1 -0.1)\">\n       <defs>\n        <path d=\"M 2419 4116 \nL 825 1625 \nL 2419 1625 \nL 2419 4116 \nz\nM 2253 4666 \nL 3047 4666 \nL 3047 1625 \nL 3713 1625 \nL 3713 1100 \nL 3047 1100 \nL 3047 0 \nL 2419 0 \nL 2419 1100 \nL 313 1100 \nL 313 1709 \nL 2253 4666 \nz\n\" id=\"DejaVuSans-34\" transform=\"scale(0.015625)\"/>\n       </defs>\n       <use xlink:href=\"#DejaVuSans-34\"/>\n       <use x=\"63.623047\" xlink:href=\"#DejaVuSans-30\"/>\n      </g>\n     </g>\n    </g>\n   </g>\n   <g id=\"matplotlib.axis_2\">\n    <g id=\"ytick_1\">\n     <g id=\"line2d_9\">\n      <defs>\n       <path d=\"M 0 0 \nL -3.5 0 \n\" id=\"m30641e0653\" style=\"stroke:#000000;stroke-width:0.8;\"/>\n      </defs>\n      <g>\n       <use style=\"stroke:#000000;stroke-width:0.8;\" x=\"33.2875\" xlink:href=\"#m30641e0653\" y=\"350.757656\"/>\n      </g>\n     </g>\n     <g id=\"text_9\">\n      <!-- 0 -->\n      <g transform=\"translate(19.925 354.556875)scale(0.1 -0.1)\">\n       <use xlink:href=\"#DejaVuSans-30\"/>\n      </g>\n     </g>\n    </g>\n    <g id=\"ytick_2\">\n     <g id=\"line2d_10\">\n      <g>\n       <use style=\"stroke:#000000;stroke-width:0.8;\" x=\"33.2875\" xlink:href=\"#m30641e0653\" y=\"305.476523\"/>\n      </g>\n     </g>\n     <g id=\"text_10\">\n      <!-- 100 -->\n      <g transform=\"translate(7.2 309.275742)scale(0.1 -0.1)\">\n       <use xlink:href=\"#DejaVuSans-31\"/>\n       <use x=\"63.623047\" xlink:href=\"#DejaVuSans-30\"/>\n       <use x=\"127.246094\" xlink:href=\"#DejaVuSans-30\"/>\n      </g>\n     </g>\n    </g>\n    <g id=\"ytick_3\">\n     <g id=\"line2d_11\">\n      <g>\n       <use style=\"stroke:#000000;stroke-width:0.8;\" x=\"33.2875\" xlink:href=\"#m30641e0653\" y=\"260.195391\"/>\n      </g>\n     </g>\n     <g id=\"text_11\">\n      <!-- 200 -->\n      <g transform=\"translate(7.2 263.994609)scale(0.1 -0.1)\">\n       <use xlink:href=\"#DejaVuSans-32\"/>\n       <use x=\"63.623047\" xlink:href=\"#DejaVuSans-30\"/>\n       <use x=\"127.246094\" xlink:href=\"#DejaVuSans-30\"/>\n      </g>\n     </g>\n    </g>\n    <g id=\"ytick_4\">\n     <g id=\"line2d_12\">\n      <g>\n       <use style=\"stroke:#000000;stroke-width:0.8;\" x=\"33.2875\" xlink:href=\"#m30641e0653\" y=\"214.914258\"/>\n      </g>\n     </g>\n     <g id=\"text_12\">\n      <!-- 300 -->\n      <g transform=\"translate(7.2 218.713476)scale(0.1 -0.1)\">\n       <use xlink:href=\"#DejaVuSans-33\"/>\n       <use x=\"63.623047\" xlink:href=\"#DejaVuSans-30\"/>\n       <use x=\"127.246094\" xlink:href=\"#DejaVuSans-30\"/>\n      </g>\n     </g>\n    </g>\n    <g id=\"ytick_5\">\n     <g id=\"line2d_13\">\n      <g>\n       <use style=\"stroke:#000000;stroke-width:0.8;\" x=\"33.2875\" xlink:href=\"#m30641e0653\" y=\"169.633125\"/>\n      </g>\n     </g>\n     <g id=\"text_13\">\n      <!-- 400 -->\n      <g transform=\"translate(7.2 173.432344)scale(0.1 -0.1)\">\n       <use xlink:href=\"#DejaVuSans-34\"/>\n       <use x=\"63.623047\" xlink:href=\"#DejaVuSans-30\"/>\n       <use x=\"127.246094\" xlink:href=\"#DejaVuSans-30\"/>\n      </g>\n     </g>\n    </g>\n    <g id=\"ytick_6\">\n     <g id=\"line2d_14\">\n      <g>\n       <use style=\"stroke:#000000;stroke-width:0.8;\" x=\"33.2875\" xlink:href=\"#m30641e0653\" y=\"124.351992\"/>\n      </g>\n     </g>\n     <g id=\"text_14\">\n      <!-- 500 -->\n      <g transform=\"translate(7.2 128.151211)scale(0.1 -0.1)\">\n       <use xlink:href=\"#DejaVuSans-35\"/>\n       <use x=\"63.623047\" xlink:href=\"#DejaVuSans-30\"/>\n       <use x=\"127.246094\" xlink:href=\"#DejaVuSans-30\"/>\n      </g>\n     </g>\n    </g>\n    <g id=\"ytick_7\">\n     <g id=\"line2d_15\">\n      <g>\n       <use style=\"stroke:#000000;stroke-width:0.8;\" x=\"33.2875\" xlink:href=\"#m30641e0653\" y=\"79.070859\"/>\n      </g>\n     </g>\n     <g id=\"text_15\">\n      <!-- 600 -->\n      <g transform=\"translate(7.2 82.870078)scale(0.1 -0.1)\">\n       <defs>\n        <path d=\"M 2113 2584 \nQ 1688 2584 1439 2293 \nQ 1191 2003 1191 1497 \nQ 1191 994 1439 701 \nQ 1688 409 2113 409 \nQ 2538 409 2786 701 \nQ 3034 994 3034 1497 \nQ 3034 2003 2786 2293 \nQ 2538 2584 2113 2584 \nz\nM 3366 4563 \nL 3366 3988 \nQ 3128 4100 2886 4159 \nQ 2644 4219 2406 4219 \nQ 1781 4219 1451 3797 \nQ 1122 3375 1075 2522 \nQ 1259 2794 1537 2939 \nQ 1816 3084 2150 3084 \nQ 2853 3084 3261 2657 \nQ 3669 2231 3669 1497 \nQ 3669 778 3244 343 \nQ 2819 -91 2113 -91 \nQ 1303 -91 875 529 \nQ 447 1150 447 2328 \nQ 447 3434 972 4092 \nQ 1497 4750 2381 4750 \nQ 2619 4750 2861 4703 \nQ 3103 4656 3366 4563 \nz\n\" id=\"DejaVuSans-36\" transform=\"scale(0.015625)\"/>\n       </defs>\n       <use xlink:href=\"#DejaVuSans-36\"/>\n       <use x=\"63.623047\" xlink:href=\"#DejaVuSans-30\"/>\n       <use x=\"127.246094\" xlink:href=\"#DejaVuSans-30\"/>\n      </g>\n     </g>\n    </g>\n    <g id=\"ytick_8\">\n     <g id=\"line2d_16\">\n      <g>\n       <use style=\"stroke:#000000;stroke-width:0.8;\" x=\"33.2875\" xlink:href=\"#m30641e0653\" y=\"33.789726\"/>\n      </g>\n     </g>\n     <g id=\"text_16\">\n      <!-- 700 -->\n      <g transform=\"translate(7.2 37.588945)scale(0.1 -0.1)\">\n       <defs>\n        <path d=\"M 525 4666 \nL 3525 4666 \nL 3525 4397 \nL 1831 0 \nL 1172 0 \nL 2766 4134 \nL 525 4134 \nL 525 4666 \nz\n\" id=\"DejaVuSans-37\" transform=\"scale(0.015625)\"/>\n       </defs>\n       <use xlink:href=\"#DejaVuSans-37\"/>\n       <use x=\"63.623047\" xlink:href=\"#DejaVuSans-30\"/>\n       <use x=\"127.246094\" xlink:href=\"#DejaVuSans-30\"/>\n      </g>\n     </g>\n    </g>\n   </g>\n   <g id=\"patch_33\">\n    <path d=\"M 33.2875 350.757656 \nL 33.2875 24.597656 \n\" style=\"fill:none;stroke:#000000;stroke-linecap:square;stroke-linejoin:miter;stroke-width:0.8;\"/>\n   </g>\n   <g id=\"patch_34\">\n    <path d=\"M 337.651136 350.757656 \nL 337.651136 24.597656 \n\" style=\"fill:none;stroke:#000000;stroke-linecap:square;stroke-linejoin:miter;stroke-width:0.8;\"/>\n   </g>\n   <g id=\"patch_35\">\n    <path d=\"M 33.2875 350.757656 \nL 337.651136 350.757656 \n\" style=\"fill:none;stroke:#000000;stroke-linecap:square;stroke-linejoin:miter;stroke-width:0.8;\"/>\n   </g>\n   <g id=\"patch_36\">\n    <path d=\"M 33.2875 24.597656 \nL 337.651136 24.597656 \n\" style=\"fill:none;stroke:#000000;stroke-linecap:square;stroke-linejoin:miter;stroke-width:0.8;\"/>\n   </g>\n   <g id=\"text_17\">\n    <!-- Histogram of Question : str -->\n    <g transform=\"translate(83.797443 18.597656)scale(0.15 -0.15)\">\n     <defs>\n      <path d=\"M 628 4666 \nL 1259 4666 \nL 1259 2753 \nL 3553 2753 \nL 3553 4666 \nL 4184 4666 \nL 4184 0 \nL 3553 0 \nL 3553 2222 \nL 1259 2222 \nL 1259 0 \nL 628 0 \nL 628 4666 \nz\n\" id=\"DejaVuSans-48\" transform=\"scale(0.015625)\"/>\n      <path d=\"M 603 3500 \nL 1178 3500 \nL 1178 0 \nL 603 0 \nL 603 3500 \nz\nM 603 4863 \nL 1178 4863 \nL 1178 4134 \nL 603 4134 \nL 603 4863 \nz\n\" id=\"DejaVuSans-69\" transform=\"scale(0.015625)\"/>\n      <path d=\"M 2834 3397 \nL 2834 2853 \nQ 2591 2978 2328 3040 \nQ 2066 3103 1784 3103 \nQ 1356 3103 1142 2972 \nQ 928 2841 928 2578 \nQ 928 2378 1081 2264 \nQ 1234 2150 1697 2047 \nL 1894 2003 \nQ 2506 1872 2764 1633 \nQ 3022 1394 3022 966 \nQ 3022 478 2636 193 \nQ 2250 -91 1575 -91 \nQ 1294 -91 989 -36 \nQ 684 19 347 128 \nL 347 722 \nQ 666 556 975 473 \nQ 1284 391 1588 391 \nQ 1994 391 2212 530 \nQ 2431 669 2431 922 \nQ 2431 1156 2273 1281 \nQ 2116 1406 1581 1522 \nL 1381 1569 \nQ 847 1681 609 1914 \nQ 372 2147 372 2553 \nQ 372 3047 722 3315 \nQ 1072 3584 1716 3584 \nQ 2034 3584 2315 3537 \nQ 2597 3491 2834 3397 \nz\n\" id=\"DejaVuSans-73\" transform=\"scale(0.015625)\"/>\n      <path d=\"M 1172 4494 \nL 1172 3500 \nL 2356 3500 \nL 2356 3053 \nL 1172 3053 \nL 1172 1153 \nQ 1172 725 1289 603 \nQ 1406 481 1766 481 \nL 2356 481 \nL 2356 0 \nL 1766 0 \nQ 1100 0 847 248 \nQ 594 497 594 1153 \nL 594 3053 \nL 172 3053 \nL 172 3500 \nL 594 3500 \nL 594 4494 \nL 1172 4494 \nz\n\" id=\"DejaVuSans-74\" transform=\"scale(0.015625)\"/>\n      <path d=\"M 1959 3097 \nQ 1497 3097 1228 2736 \nQ 959 2375 959 1747 \nQ 959 1119 1226 758 \nQ 1494 397 1959 397 \nQ 2419 397 2687 759 \nQ 2956 1122 2956 1747 \nQ 2956 2369 2687 2733 \nQ 2419 3097 1959 3097 \nz\nM 1959 3584 \nQ 2709 3584 3137 3096 \nQ 3566 2609 3566 1747 \nQ 3566 888 3137 398 \nQ 2709 -91 1959 -91 \nQ 1206 -91 779 398 \nQ 353 888 353 1747 \nQ 353 2609 779 3096 \nQ 1206 3584 1959 3584 \nz\n\" id=\"DejaVuSans-6f\" transform=\"scale(0.015625)\"/>\n      <path d=\"M 2906 1791 \nQ 2906 2416 2648 2759 \nQ 2391 3103 1925 3103 \nQ 1463 3103 1205 2759 \nQ 947 2416 947 1791 \nQ 947 1169 1205 825 \nQ 1463 481 1925 481 \nQ 2391 481 2648 825 \nQ 2906 1169 2906 1791 \nz\nM 3481 434 \nQ 3481 -459 3084 -895 \nQ 2688 -1331 1869 -1331 \nQ 1566 -1331 1297 -1286 \nQ 1028 -1241 775 -1147 \nL 775 -588 \nQ 1028 -725 1275 -790 \nQ 1522 -856 1778 -856 \nQ 2344 -856 2625 -561 \nQ 2906 -266 2906 331 \nL 2906 616 \nQ 2728 306 2450 153 \nQ 2172 0 1784 0 \nQ 1141 0 747 490 \nQ 353 981 353 1791 \nQ 353 2603 747 3093 \nQ 1141 3584 1784 3584 \nQ 2172 3584 2450 3431 \nQ 2728 3278 2906 2969 \nL 2906 3500 \nL 3481 3500 \nL 3481 434 \nz\n\" id=\"DejaVuSans-67\" transform=\"scale(0.015625)\"/>\n      <path d=\"M 2631 2963 \nQ 2534 3019 2420 3045 \nQ 2306 3072 2169 3072 \nQ 1681 3072 1420 2755 \nQ 1159 2438 1159 1844 \nL 1159 0 \nL 581 0 \nL 581 3500 \nL 1159 3500 \nL 1159 2956 \nQ 1341 3275 1631 3429 \nQ 1922 3584 2338 3584 \nQ 2397 3584 2469 3576 \nQ 2541 3569 2628 3553 \nL 2631 2963 \nz\n\" id=\"DejaVuSans-72\" transform=\"scale(0.015625)\"/>\n      <path d=\"M 2194 1759 \nQ 1497 1759 1228 1600 \nQ 959 1441 959 1056 \nQ 959 750 1161 570 \nQ 1363 391 1709 391 \nQ 2188 391 2477 730 \nQ 2766 1069 2766 1631 \nL 2766 1759 \nL 2194 1759 \nz\nM 3341 1997 \nL 3341 0 \nL 2766 0 \nL 2766 531 \nQ 2569 213 2275 61 \nQ 1981 -91 1556 -91 \nQ 1019 -91 701 211 \nQ 384 513 384 1019 \nQ 384 1609 779 1909 \nQ 1175 2209 1959 2209 \nL 2766 2209 \nL 2766 2266 \nQ 2766 2663 2505 2880 \nQ 2244 3097 1772 3097 \nQ 1472 3097 1187 3025 \nQ 903 2953 641 2809 \nL 641 3341 \nQ 956 3463 1253 3523 \nQ 1550 3584 1831 3584 \nQ 2591 3584 2966 3190 \nQ 3341 2797 3341 1997 \nz\n\" id=\"DejaVuSans-61\" transform=\"scale(0.015625)\"/>\n      <path d=\"M 3328 2828 \nQ 3544 3216 3844 3400 \nQ 4144 3584 4550 3584 \nQ 5097 3584 5394 3201 \nQ 5691 2819 5691 2113 \nL 5691 0 \nL 5113 0 \nL 5113 2094 \nQ 5113 2597 4934 2840 \nQ 4756 3084 4391 3084 \nQ 3944 3084 3684 2787 \nQ 3425 2491 3425 1978 \nL 3425 0 \nL 2847 0 \nL 2847 2094 \nQ 2847 2600 2669 2842 \nQ 2491 3084 2119 3084 \nQ 1678 3084 1418 2786 \nQ 1159 2488 1159 1978 \nL 1159 0 \nL 581 0 \nL 581 3500 \nL 1159 3500 \nL 1159 2956 \nQ 1356 3278 1631 3431 \nQ 1906 3584 2284 3584 \nQ 2666 3584 2933 3390 \nQ 3200 3197 3328 2828 \nz\n\" id=\"DejaVuSans-6d\" transform=\"scale(0.015625)\"/>\n      <path id=\"DejaVuSans-20\" transform=\"scale(0.015625)\"/>\n      <path d=\"M 2375 4863 \nL 2375 4384 \nL 1825 4384 \nQ 1516 4384 1395 4259 \nQ 1275 4134 1275 3809 \nL 1275 3500 \nL 2222 3500 \nL 2222 3053 \nL 1275 3053 \nL 1275 0 \nL 697 0 \nL 697 3053 \nL 147 3053 \nL 147 3500 \nL 697 3500 \nL 697 3744 \nQ 697 4328 969 4595 \nQ 1241 4863 1831 4863 \nL 2375 4863 \nz\n\" id=\"DejaVuSans-66\" transform=\"scale(0.015625)\"/>\n      <path d=\"M 2522 4238 \nQ 1834 4238 1429 3725 \nQ 1025 3213 1025 2328 \nQ 1025 1447 1429 934 \nQ 1834 422 2522 422 \nQ 3209 422 3611 934 \nQ 4013 1447 4013 2328 \nQ 4013 3213 3611 3725 \nQ 3209 4238 2522 4238 \nz\nM 3406 84 \nL 4238 -825 \nL 3475 -825 \nL 2784 -78 \nQ 2681 -84 2626 -87 \nQ 2572 -91 2522 -91 \nQ 1538 -91 948 567 \nQ 359 1225 359 2328 \nQ 359 3434 948 4092 \nQ 1538 4750 2522 4750 \nQ 3503 4750 4090 4092 \nQ 4678 3434 4678 2328 \nQ 4678 1516 4351 937 \nQ 4025 359 3406 84 \nz\n\" id=\"DejaVuSans-51\" transform=\"scale(0.015625)\"/>\n      <path d=\"M 544 1381 \nL 544 3500 \nL 1119 3500 \nL 1119 1403 \nQ 1119 906 1312 657 \nQ 1506 409 1894 409 \nQ 2359 409 2629 706 \nQ 2900 1003 2900 1516 \nL 2900 3500 \nL 3475 3500 \nL 3475 0 \nL 2900 0 \nL 2900 538 \nQ 2691 219 2414 64 \nQ 2138 -91 1772 -91 \nQ 1169 -91 856 284 \nQ 544 659 544 1381 \nz\nM 1991 3584 \nL 1991 3584 \nz\n\" id=\"DejaVuSans-75\" transform=\"scale(0.015625)\"/>\n      <path d=\"M 3597 1894 \nL 3597 1613 \nL 953 1613 \nQ 991 1019 1311 708 \nQ 1631 397 2203 397 \nQ 2534 397 2845 478 \nQ 3156 559 3463 722 \nL 3463 178 \nQ 3153 47 2828 -22 \nQ 2503 -91 2169 -91 \nQ 1331 -91 842 396 \nQ 353 884 353 1716 \nQ 353 2575 817 3079 \nQ 1281 3584 2069 3584 \nQ 2775 3584 3186 3129 \nQ 3597 2675 3597 1894 \nz\nM 3022 2063 \nQ 3016 2534 2758 2815 \nQ 2500 3097 2075 3097 \nQ 1594 3097 1305 2825 \nQ 1016 2553 972 2059 \nL 3022 2063 \nz\n\" id=\"DejaVuSans-65\" transform=\"scale(0.015625)\"/>\n      <path d=\"M 3513 2113 \nL 3513 0 \nL 2938 0 \nL 2938 2094 \nQ 2938 2591 2744 2837 \nQ 2550 3084 2163 3084 \nQ 1697 3084 1428 2787 \nQ 1159 2491 1159 1978 \nL 1159 0 \nL 581 0 \nL 581 3500 \nL 1159 3500 \nL 1159 2956 \nQ 1366 3272 1645 3428 \nQ 1925 3584 2291 3584 \nQ 2894 3584 3203 3211 \nQ 3513 2838 3513 2113 \nz\n\" id=\"DejaVuSans-6e\" transform=\"scale(0.015625)\"/>\n      <path d=\"M 750 794 \nL 1409 794 \nL 1409 0 \nL 750 0 \nL 750 794 \nz\nM 750 3309 \nL 1409 3309 \nL 1409 2516 \nL 750 2516 \nL 750 3309 \nz\n\" id=\"DejaVuSans-3a\" transform=\"scale(0.015625)\"/>\n     </defs>\n     <use xlink:href=\"#DejaVuSans-48\"/>\n     <use x=\"75.195312\" xlink:href=\"#DejaVuSans-69\"/>\n     <use x=\"102.978516\" xlink:href=\"#DejaVuSans-73\"/>\n     <use x=\"155.078125\" xlink:href=\"#DejaVuSans-74\"/>\n     <use x=\"194.287109\" xlink:href=\"#DejaVuSans-6f\"/>\n     <use x=\"255.46875\" xlink:href=\"#DejaVuSans-67\"/>\n     <use x=\"318.945312\" xlink:href=\"#DejaVuSans-72\"/>\n     <use x=\"360.058594\" xlink:href=\"#DejaVuSans-61\"/>\n     <use x=\"421.337891\" xlink:href=\"#DejaVuSans-6d\"/>\n     <use x=\"518.75\" xlink:href=\"#DejaVuSans-20\"/>\n     <use x=\"550.537109\" xlink:href=\"#DejaVuSans-6f\"/>\n     <use x=\"611.71875\" xlink:href=\"#DejaVuSans-66\"/>\n     <use x=\"646.923828\" xlink:href=\"#DejaVuSans-20\"/>\n     <use x=\"678.710938\" xlink:href=\"#DejaVuSans-51\"/>\n     <use x=\"757.421875\" xlink:href=\"#DejaVuSans-75\"/>\n     <use x=\"820.800781\" xlink:href=\"#DejaVuSans-65\"/>\n     <use x=\"882.324219\" xlink:href=\"#DejaVuSans-73\"/>\n     <use x=\"934.423828\" xlink:href=\"#DejaVuSans-74\"/>\n     <use x=\"973.632812\" xlink:href=\"#DejaVuSans-69\"/>\n     <use x=\"1001.416016\" xlink:href=\"#DejaVuSans-6f\"/>\n     <use x=\"1062.597656\" xlink:href=\"#DejaVuSans-6e\"/>\n     <use x=\"1125.976562\" xlink:href=\"#DejaVuSans-20\"/>\n     <use x=\"1157.763672\" xlink:href=\"#DejaVuSans-3a\"/>\n     <use x=\"1191.455078\" xlink:href=\"#DejaVuSans-20\"/>\n     <use x=\"1223.242188\" xlink:href=\"#DejaVuSans-73\"/>\n     <use x=\"1275.341797\" xlink:href=\"#DejaVuSans-74\"/>\n     <use x=\"1314.550781\" xlink:href=\"#DejaVuSans-72\"/>\n    </g>\n   </g>\n  </g>\n  <g id=\"axes_2\">\n   <g id=\"patch_37\">\n    <path d=\"M 398.523864 350.757656 \nL 702.8875 350.757656 \nL 702.8875 24.597656 \nL 398.523864 24.597656 \nz\n\" style=\"fill:#ffffff;\"/>\n   </g>\n   <g id=\"patch_38\">\n    <path clip-path=\"url(#pfb2a00ff38)\" d=\"M 412.358574 350.757656 \nL 417.892459 350.757656 \nL 417.892459 330.859741 \nL 412.358574 330.859741 \nz\n\" style=\"fill:#ffa500;\"/>\n   </g>\n   <g id=\"patch_39\">\n    <path clip-path=\"url(#pfb2a00ff38)\" d=\"M 417.892459 350.757656 \nL 423.426343 350.757656 \nL 423.426343 238.002801 \nL 417.892459 238.002801 \nz\n\" style=\"fill:#ffa500;\"/>\n   </g>\n   <g id=\"patch_40\">\n    <path clip-path=\"url(#pfb2a00ff38)\" d=\"M 423.426343 350.757656 \nL 428.960227 350.757656 \nL 428.960227 152.88394 \nL 423.426343 152.88394 \nz\n\" style=\"fill:#ffa500;\"/>\n   </g>\n   <g id=\"patch_41\">\n    <path clip-path=\"url(#pfb2a00ff38)\" d=\"M 428.960227 350.757656 \nL 434.494112 350.757656 \nL 434.494112 90.979314 \nL 428.960227 90.979314 \nz\n\" style=\"fill:#ffa500;\"/>\n   </g>\n   <g id=\"patch_42\">\n    <path clip-path=\"url(#pfb2a00ff38)\" d=\"M 434.494112 350.757656 \nL 440.027996 350.757656 \nL 440.027996 40.129085 \nL 434.494112 40.129085 \nz\n\" style=\"fill:#ffa500;\"/>\n   </g>\n   <g id=\"patch_43\">\n    <path clip-path=\"url(#pfb2a00ff38)\" d=\"M 440.027996 350.757656 \nL 445.56188 350.757656 \nL 445.56188 104.244591 \nL 440.027996 104.244591 \nz\n\" style=\"fill:#ffa500;\"/>\n   </g>\n   <g id=\"patch_44\">\n    <path clip-path=\"url(#pfb2a00ff38)\" d=\"M 445.56188 350.757656 \nL 451.095764 350.757656 \nL 451.095764 97.611952 \nL 445.56188 97.611952 \nz\n\" style=\"fill:#ffa500;\"/>\n   </g>\n   <g id=\"patch_45\">\n    <path clip-path=\"url(#pfb2a00ff38)\" d=\"M 451.095764 350.757656 \nL 456.629649 350.757656 \nL 456.629649 103.139151 \nL 451.095764 103.139151 \nz\n\" style=\"fill:#ffa500;\"/>\n   </g>\n   <g id=\"patch_46\">\n    <path clip-path=\"url(#pfb2a00ff38)\" d=\"M 456.629649 350.757656 \nL 462.163533 350.757656 \nL 462.163533 165.043777 \nL 456.629649 165.043777 \nz\n\" style=\"fill:#ffa500;\"/>\n   </g>\n   <g id=\"patch_47\">\n    <path clip-path=\"url(#pfb2a00ff38)\" d=\"M 462.163533 350.757656 \nL 467.697417 350.757656 \nL 467.697417 148.462181 \nL 462.163533 148.462181 \nz\n\" style=\"fill:#ffa500;\"/>\n   </g>\n   <g id=\"patch_48\">\n    <path clip-path=\"url(#pfb2a00ff38)\" d=\"M 467.697417 350.757656 \nL 473.231302 350.757656 \nL 473.231302 184.941693 \nL 467.697417 184.941693 \nz\n\" style=\"fill:#ffa500;\"/>\n   </g>\n   <g id=\"patch_49\">\n    <path clip-path=\"url(#pfb2a00ff38)\" d=\"M 473.231302 350.757656 \nL 478.765186 350.757656 \nL 478.765186 165.043777 \nL 473.231302 165.043777 \nz\n\" style=\"fill:#ffa500;\"/>\n   </g>\n   <g id=\"patch_50\">\n    <path clip-path=\"url(#pfb2a00ff38)\" d=\"M 478.765186 350.757656 \nL 484.29907 350.757656 \nL 484.29907 178.309054 \nL 478.765186 178.309054 \nz\n\" style=\"fill:#ffa500;\"/>\n   </g>\n   <g id=\"patch_51\">\n    <path clip-path=\"url(#pfb2a00ff38)\" d=\"M 484.29907 350.757656 \nL 489.832955 350.757656 \nL 489.832955 173.887295 \nL 484.29907 173.887295 \nz\n\" style=\"fill:#ffa500;\"/>\n   </g>\n   <g id=\"patch_52\">\n    <path clip-path=\"url(#pfb2a00ff38)\" d=\"M 489.832955 350.757656 \nL 495.366839 350.757656 \nL 495.366839 228.053843 \nL 489.832955 228.053843 \nz\n\" style=\"fill:#ffa500;\"/>\n   </g>\n   <g id=\"patch_53\">\n    <path clip-path=\"url(#pfb2a00ff38)\" d=\"M 495.366839 350.757656 \nL 500.900723 350.757656 \nL 500.900723 235.791922 \nL 495.366839 235.791922 \nz\n\" style=\"fill:#ffa500;\"/>\n   </g>\n   <g id=\"patch_54\">\n    <path clip-path=\"url(#pfb2a00ff38)\" d=\"M 500.900723 350.757656 \nL 506.434607 350.757656 \nL 506.434607 225.842964 \nL 500.900723 225.842964 \nz\n\" style=\"fill:#ffa500;\"/>\n   </g>\n   <g id=\"patch_55\">\n    <path clip-path=\"url(#pfb2a00ff38)\" d=\"M 506.434607 350.757656 \nL 511.968492 350.757656 \nL 511.968492 271.165994 \nL 506.434607 271.165994 \nz\n\" style=\"fill:#ffa500;\"/>\n   </g>\n   <g id=\"patch_56\">\n    <path clip-path=\"url(#pfb2a00ff38)\" d=\"M 511.968492 350.757656 \nL 517.502376 350.757656 \nL 517.502376 238.002801 \nL 511.968492 238.002801 \nz\n\" style=\"fill:#ffa500;\"/>\n   </g>\n   <g id=\"patch_57\">\n    <path clip-path=\"url(#pfb2a00ff38)\" d=\"M 517.502376 350.757656 \nL 523.03626 350.757656 \nL 523.03626 255.689837 \nL 517.502376 255.689837 \nz\n\" style=\"fill:#ffa500;\"/>\n   </g>\n   <g id=\"patch_58\">\n    <path clip-path=\"url(#pfb2a00ff38)\" d=\"M 523.03626 350.757656 \nL 528.570145 350.757656 \nL 528.570145 285.536711 \nL 523.03626 285.536711 \nz\n\" style=\"fill:#ffa500;\"/>\n   </g>\n   <g id=\"patch_59\">\n    <path clip-path=\"url(#pfb2a00ff38)\" d=\"M 528.570145 350.757656 \nL 534.104029 350.757656 \nL 534.104029 274.482313 \nL 528.570145 274.482313 \nz\n\" style=\"fill:#ffa500;\"/>\n   </g>\n   <g id=\"patch_60\">\n    <path clip-path=\"url(#pfb2a00ff38)\" d=\"M 534.104029 350.757656 \nL 539.637913 350.757656 \nL 539.637913 262.322476 \nL 534.104029 262.322476 \nz\n\" style=\"fill:#ffa500;\"/>\n   </g>\n   <g id=\"patch_61\">\n    <path clip-path=\"url(#pfb2a00ff38)\" d=\"M 539.637913 350.757656 \nL 545.171798 350.757656 \nL 545.171798 293.274789 \nL 539.637913 293.274789 \nz\n\" style=\"fill:#ffa500;\"/>\n   </g>\n   <g id=\"patch_62\">\n    <path clip-path=\"url(#pfb2a00ff38)\" d=\"M 545.171798 350.757656 \nL 550.705682 350.757656 \nL 550.705682 280.009512 \nL 545.171798 280.009512 \nz\n\" style=\"fill:#ffa500;\"/>\n   </g>\n   <g id=\"patch_63\">\n    <path clip-path=\"url(#pfb2a00ff38)\" d=\"M 550.705682 350.757656 \nL 556.239566 350.757656 \nL 556.239566 301.012867 \nL 550.705682 301.012867 \nz\n\" style=\"fill:#ffa500;\"/>\n   </g>\n   <g id=\"patch_64\">\n    <path clip-path=\"url(#pfb2a00ff38)\" d=\"M 556.239566 350.757656 \nL 561.77345 350.757656 \nL 561.77345 310.961825 \nL 556.239566 310.961825 \nz\n\" style=\"fill:#ffa500;\"/>\n   </g>\n   <g id=\"patch_65\">\n    <path clip-path=\"url(#pfb2a00ff38)\" d=\"M 561.77345 350.757656 \nL 567.307335 350.757656 \nL 567.307335 316.489024 \nL 561.77345 316.489024 \nz\n\" style=\"fill:#ffa500;\"/>\n   </g>\n   <g id=\"patch_66\">\n    <path clip-path=\"url(#pfb2a00ff38)\" d=\"M 567.307335 350.757656 \nL 572.841219 350.757656 \nL 572.841219 302.118307 \nL 567.307335 302.118307 \nz\n\" style=\"fill:#ffa500;\"/>\n   </g>\n   <g id=\"patch_67\">\n    <path clip-path=\"url(#pfb2a00ff38)\" d=\"M 572.841219 350.757656 \nL 578.375103 350.757656 \nL 578.375103 309.856385 \nL 572.841219 309.856385 \nz\n\" style=\"fill:#ffa500;\"/>\n   </g>\n   <g id=\"patch_68\">\n    <path clip-path=\"url(#pfb2a00ff38)\" d=\"M 578.375103 350.757656 \nL 583.908988 350.757656 \nL 583.908988 308.750946 \nL 578.375103 308.750946 \nz\n\" style=\"fill:#ffa500;\"/>\n   </g>\n   <g id=\"patch_69\">\n    <path clip-path=\"url(#pfb2a00ff38)\" d=\"M 583.908988 350.757656 \nL 589.442872 350.757656 \nL 589.442872 319.805343 \nL 583.908988 319.805343 \nz\n\" style=\"fill:#ffa500;\"/>\n   </g>\n   <g id=\"patch_70\">\n    <path clip-path=\"url(#pfb2a00ff38)\" d=\"M 589.442872 350.757656 \nL 594.976756 350.757656 \nL 594.976756 317.594464 \nL 589.442872 317.594464 \nz\n\" style=\"fill:#ffa500;\"/>\n   </g>\n   <g id=\"patch_71\">\n    <path clip-path=\"url(#pfb2a00ff38)\" d=\"M 594.976756 350.757656 \nL 600.51064 350.757656 \nL 600.51064 320.910783 \nL 594.976756 320.910783 \nz\n\" style=\"fill:#ffa500;\"/>\n   </g>\n   <g id=\"patch_72\">\n    <path clip-path=\"url(#pfb2a00ff38)\" d=\"M 600.51064 350.757656 \nL 606.044525 350.757656 \nL 606.044525 323.121662 \nL 600.51064 323.121662 \nz\n\" style=\"fill:#ffa500;\"/>\n   </g>\n   <g id=\"patch_73\">\n    <path clip-path=\"url(#pfb2a00ff38)\" d=\"M 606.044525 350.757656 \nL 611.578409 350.757656 \nL 611.578409 320.910783 \nL 606.044525 320.910783 \nz\n\" style=\"fill:#ffa500;\"/>\n   </g>\n   <g id=\"patch_74\">\n    <path clip-path=\"url(#pfb2a00ff38)\" d=\"M 611.578409 350.757656 \nL 617.112293 350.757656 \nL 617.112293 331.96518 \nL 611.578409 331.96518 \nz\n\" style=\"fill:#ffa500;\"/>\n   </g>\n   <g id=\"patch_75\">\n    <path clip-path=\"url(#pfb2a00ff38)\" d=\"M 617.112293 350.757656 \nL 622.646178 350.757656 \nL 622.646178 328.648861 \nL 617.112293 328.648861 \nz\n\" style=\"fill:#ffa500;\"/>\n   </g>\n   <g id=\"patch_76\">\n    <path clip-path=\"url(#pfb2a00ff38)\" d=\"M 622.646178 350.757656 \nL 628.180062 350.757656 \nL 628.180062 336.386939 \nL 622.646178 336.386939 \nz\n\" style=\"fill:#ffa500;\"/>\n   </g>\n   <g id=\"patch_77\">\n    <path clip-path=\"url(#pfb2a00ff38)\" d=\"M 628.180062 350.757656 \nL 633.713946 350.757656 \nL 633.713946 315.383584 \nL 628.180062 315.383584 \nz\n\" style=\"fill:#ffa500;\"/>\n   </g>\n   <g id=\"patch_78\">\n    <path clip-path=\"url(#pfb2a00ff38)\" d=\"M 633.713946 350.757656 \nL 639.247831 350.757656 \nL 639.247831 336.386939 \nL 633.713946 336.386939 \nz\n\" style=\"fill:#ffa500;\"/>\n   </g>\n   <g id=\"patch_79\">\n    <path clip-path=\"url(#pfb2a00ff38)\" d=\"M 639.247831 350.757656 \nL 644.781715 350.757656 \nL 644.781715 337.492379 \nL 639.247831 337.492379 \nz\n\" style=\"fill:#ffa500;\"/>\n   </g>\n   <g id=\"patch_80\">\n    <path clip-path=\"url(#pfb2a00ff38)\" d=\"M 644.781715 350.757656 \nL 650.315599 350.757656 \nL 650.315599 338.597819 \nL 644.781715 338.597819 \nz\n\" style=\"fill:#ffa500;\"/>\n   </g>\n   <g id=\"patch_81\">\n    <path clip-path=\"url(#pfb2a00ff38)\" d=\"M 650.315599 350.757656 \nL 655.849483 350.757656 \nL 655.849483 333.07062 \nL 650.315599 333.07062 \nz\n\" style=\"fill:#ffa500;\"/>\n   </g>\n   <g id=\"patch_82\">\n    <path clip-path=\"url(#pfb2a00ff38)\" d=\"M 655.849483 350.757656 \nL 661.383368 350.757656 \nL 661.383368 330.859741 \nL 655.849483 330.859741 \nz\n\" style=\"fill:#ffa500;\"/>\n   </g>\n   <g id=\"patch_83\">\n    <path clip-path=\"url(#pfb2a00ff38)\" d=\"M 661.383368 350.757656 \nL 666.917252 350.757656 \nL 666.917252 336.386939 \nL 661.383368 336.386939 \nz\n\" style=\"fill:#ffa500;\"/>\n   </g>\n   <g id=\"patch_84\">\n    <path clip-path=\"url(#pfb2a00ff38)\" d=\"M 666.917252 350.757656 \nL 672.451136 350.757656 \nL 672.451136 330.859741 \nL 666.917252 330.859741 \nz\n\" style=\"fill:#ffa500;\"/>\n   </g>\n   <g id=\"patch_85\">\n    <path clip-path=\"url(#pfb2a00ff38)\" d=\"M 672.451136 350.757656 \nL 677.985021 350.757656 \nL 677.985021 346.335897 \nL 672.451136 346.335897 \nz\n\" style=\"fill:#ffa500;\"/>\n   </g>\n   <g id=\"patch_86\">\n    <path clip-path=\"url(#pfb2a00ff38)\" d=\"M 677.985021 350.757656 \nL 683.518905 350.757656 \nL 683.518905 341.914138 \nL 677.985021 341.914138 \nz\n\" style=\"fill:#ffa500;\"/>\n   </g>\n   <g id=\"patch_87\">\n    <path clip-path=\"url(#pfb2a00ff38)\" d=\"M 683.518905 350.757656 \nL 689.052789 350.757656 \nL 689.052789 349.652216 \nL 683.518905 349.652216 \nz\n\" style=\"fill:#ffa500;\"/>\n   </g>\n   <g id=\"matplotlib.axis_3\">\n    <g id=\"xtick_9\">\n     <g id=\"line2d_17\">\n      <g>\n       <use style=\"stroke:#000000;stroke-width:0.8;\" x=\"400.792578\" xlink:href=\"#m3696eee966\" y=\"350.757656\"/>\n      </g>\n     </g>\n     <g id=\"text_18\">\n      <!-- 200 -->\n      <g transform=\"translate(391.248828 365.356094)scale(0.1 -0.1)\">\n       <use xlink:href=\"#DejaVuSans-32\"/>\n       <use x=\"63.623047\" xlink:href=\"#DejaVuSans-30\"/>\n       <use x=\"127.246094\" xlink:href=\"#DejaVuSans-30\"/>\n      </g>\n     </g>\n    </g>\n    <g id=\"xtick_10\">\n     <g id=\"line2d_18\">\n      <g>\n       <use style=\"stroke:#000000;stroke-width:0.8;\" x=\"460.105379\" xlink:href=\"#m3696eee966\" y=\"350.757656\"/>\n      </g>\n     </g>\n     <g id=\"text_19\">\n      <!-- 400 -->\n      <g transform=\"translate(450.561629 365.356094)scale(0.1 -0.1)\">\n       <use xlink:href=\"#DejaVuSans-34\"/>\n       <use x=\"63.623047\" xlink:href=\"#DejaVuSans-30\"/>\n       <use x=\"127.246094\" xlink:href=\"#DejaVuSans-30\"/>\n      </g>\n     </g>\n    </g>\n    <g id=\"xtick_11\">\n     <g id=\"line2d_19\">\n      <g>\n       <use style=\"stroke:#000000;stroke-width:0.8;\" x=\"519.418179\" xlink:href=\"#m3696eee966\" y=\"350.757656\"/>\n      </g>\n     </g>\n     <g id=\"text_20\">\n      <!-- 600 -->\n      <g transform=\"translate(509.874429 365.356094)scale(0.1 -0.1)\">\n       <use xlink:href=\"#DejaVuSans-36\"/>\n       <use x=\"63.623047\" xlink:href=\"#DejaVuSans-30\"/>\n       <use x=\"127.246094\" xlink:href=\"#DejaVuSans-30\"/>\n      </g>\n     </g>\n    </g>\n    <g id=\"xtick_12\">\n     <g id=\"line2d_20\">\n      <g>\n       <use style=\"stroke:#000000;stroke-width:0.8;\" x=\"578.73098\" xlink:href=\"#m3696eee966\" y=\"350.757656\"/>\n      </g>\n     </g>\n     <g id=\"text_21\">\n      <!-- 800 -->\n      <g transform=\"translate(569.18723 365.356094)scale(0.1 -0.1)\">\n       <defs>\n        <path d=\"M 2034 2216 \nQ 1584 2216 1326 1975 \nQ 1069 1734 1069 1313 \nQ 1069 891 1326 650 \nQ 1584 409 2034 409 \nQ 2484 409 2743 651 \nQ 3003 894 3003 1313 \nQ 3003 1734 2745 1975 \nQ 2488 2216 2034 2216 \nz\nM 1403 2484 \nQ 997 2584 770 2862 \nQ 544 3141 544 3541 \nQ 544 4100 942 4425 \nQ 1341 4750 2034 4750 \nQ 2731 4750 3128 4425 \nQ 3525 4100 3525 3541 \nQ 3525 3141 3298 2862 \nQ 3072 2584 2669 2484 \nQ 3125 2378 3379 2068 \nQ 3634 1759 3634 1313 \nQ 3634 634 3220 271 \nQ 2806 -91 2034 -91 \nQ 1263 -91 848 271 \nQ 434 634 434 1313 \nQ 434 1759 690 2068 \nQ 947 2378 1403 2484 \nz\nM 1172 3481 \nQ 1172 3119 1398 2916 \nQ 1625 2713 2034 2713 \nQ 2441 2713 2670 2916 \nQ 2900 3119 2900 3481 \nQ 2900 3844 2670 4047 \nQ 2441 4250 2034 4250 \nQ 1625 4250 1398 4047 \nQ 1172 3844 1172 3481 \nz\n\" id=\"DejaVuSans-38\" transform=\"scale(0.015625)\"/>\n       </defs>\n       <use xlink:href=\"#DejaVuSans-38\"/>\n       <use x=\"63.623047\" xlink:href=\"#DejaVuSans-30\"/>\n       <use x=\"127.246094\" xlink:href=\"#DejaVuSans-30\"/>\n      </g>\n     </g>\n    </g>\n    <g id=\"xtick_13\">\n     <g id=\"line2d_21\">\n      <g>\n       <use style=\"stroke:#000000;stroke-width:0.8;\" x=\"638.043781\" xlink:href=\"#m3696eee966\" y=\"350.757656\"/>\n      </g>\n     </g>\n     <g id=\"text_22\">\n      <!-- 1000 -->\n      <g transform=\"translate(625.318781 365.356094)scale(0.1 -0.1)\">\n       <use xlink:href=\"#DejaVuSans-31\"/>\n       <use x=\"63.623047\" xlink:href=\"#DejaVuSans-30\"/>\n       <use x=\"127.246094\" xlink:href=\"#DejaVuSans-30\"/>\n       <use x=\"190.869141\" xlink:href=\"#DejaVuSans-30\"/>\n      </g>\n     </g>\n    </g>\n    <g id=\"xtick_14\">\n     <g id=\"line2d_22\">\n      <g>\n       <use style=\"stroke:#000000;stroke-width:0.8;\" x=\"697.356581\" xlink:href=\"#m3696eee966\" y=\"350.757656\"/>\n      </g>\n     </g>\n     <g id=\"text_23\">\n      <!-- 1200 -->\n      <g transform=\"translate(684.631581 365.356094)scale(0.1 -0.1)\">\n       <use xlink:href=\"#DejaVuSans-31\"/>\n       <use x=\"63.623047\" xlink:href=\"#DejaVuSans-32\"/>\n       <use x=\"127.246094\" xlink:href=\"#DejaVuSans-30\"/>\n       <use x=\"190.869141\" xlink:href=\"#DejaVuSans-30\"/>\n      </g>\n     </g>\n    </g>\n   </g>\n   <g id=\"matplotlib.axis_4\">\n    <g id=\"ytick_9\">\n     <g id=\"line2d_23\">\n      <g>\n       <use style=\"stroke:#000000;stroke-width:0.8;\" x=\"398.523864\" xlink:href=\"#m30641e0653\" y=\"350.757656\"/>\n      </g>\n     </g>\n     <g id=\"text_24\">\n      <!-- 0 -->\n      <g transform=\"translate(385.161364 354.556875)scale(0.1 -0.1)\">\n       <use xlink:href=\"#DejaVuSans-30\"/>\n      </g>\n     </g>\n    </g>\n    <g id=\"ytick_10\">\n     <g id=\"line2d_24\">\n      <g>\n       <use style=\"stroke:#000000;stroke-width:0.8;\" x=\"398.523864\" xlink:href=\"#m30641e0653\" y=\"295.485668\"/>\n      </g>\n     </g>\n     <g id=\"text_25\">\n      <!-- 50 -->\n      <g transform=\"translate(378.798864 299.284887)scale(0.1 -0.1)\">\n       <use xlink:href=\"#DejaVuSans-35\"/>\n       <use x=\"63.623047\" xlink:href=\"#DejaVuSans-30\"/>\n      </g>\n     </g>\n    </g>\n    <g id=\"ytick_11\">\n     <g id=\"line2d_25\">\n      <g>\n       <use style=\"stroke:#000000;stroke-width:0.8;\" x=\"398.523864\" xlink:href=\"#m30641e0653\" y=\"240.213681\"/>\n      </g>\n     </g>\n     <g id=\"text_26\">\n      <!-- 100 -->\n      <g transform=\"translate(372.436364 244.012899)scale(0.1 -0.1)\">\n       <use xlink:href=\"#DejaVuSans-31\"/>\n       <use x=\"63.623047\" xlink:href=\"#DejaVuSans-30\"/>\n       <use x=\"127.246094\" xlink:href=\"#DejaVuSans-30\"/>\n      </g>\n     </g>\n    </g>\n    <g id=\"ytick_12\">\n     <g id=\"line2d_26\">\n      <g>\n       <use style=\"stroke:#000000;stroke-width:0.8;\" x=\"398.523864\" xlink:href=\"#m30641e0653\" y=\"184.941693\"/>\n      </g>\n     </g>\n     <g id=\"text_27\">\n      <!-- 150 -->\n      <g transform=\"translate(372.436364 188.740912)scale(0.1 -0.1)\">\n       <use xlink:href=\"#DejaVuSans-31\"/>\n       <use x=\"63.623047\" xlink:href=\"#DejaVuSans-35\"/>\n       <use x=\"127.246094\" xlink:href=\"#DejaVuSans-30\"/>\n      </g>\n     </g>\n    </g>\n    <g id=\"ytick_13\">\n     <g id=\"line2d_27\">\n      <g>\n       <use style=\"stroke:#000000;stroke-width:0.8;\" x=\"398.523864\" xlink:href=\"#m30641e0653\" y=\"129.669705\"/>\n      </g>\n     </g>\n     <g id=\"text_28\">\n      <!-- 200 -->\n      <g transform=\"translate(372.436364 133.468924)scale(0.1 -0.1)\">\n       <use xlink:href=\"#DejaVuSans-32\"/>\n       <use x=\"63.623047\" xlink:href=\"#DejaVuSans-30\"/>\n       <use x=\"127.246094\" xlink:href=\"#DejaVuSans-30\"/>\n      </g>\n     </g>\n    </g>\n    <g id=\"ytick_14\">\n     <g id=\"line2d_28\">\n      <g>\n       <use style=\"stroke:#000000;stroke-width:0.8;\" x=\"398.523864\" xlink:href=\"#m30641e0653\" y=\"74.397717\"/>\n      </g>\n     </g>\n     <g id=\"text_29\">\n      <!-- 250 -->\n      <g transform=\"translate(372.436364 78.196936)scale(0.1 -0.1)\">\n       <use xlink:href=\"#DejaVuSans-32\"/>\n       <use x=\"63.623047\" xlink:href=\"#DejaVuSans-35\"/>\n       <use x=\"127.246094\" xlink:href=\"#DejaVuSans-30\"/>\n      </g>\n     </g>\n    </g>\n   </g>\n   <g id=\"patch_88\">\n    <path d=\"M 398.523864 350.757656 \nL 398.523864 24.597656 \n\" style=\"fill:none;stroke:#000000;stroke-linecap:square;stroke-linejoin:miter;stroke-width:0.8;\"/>\n   </g>\n   <g id=\"patch_89\">\n    <path d=\"M 702.8875 350.757656 \nL 702.8875 24.597656 \n\" style=\"fill:none;stroke:#000000;stroke-linecap:square;stroke-linejoin:miter;stroke-width:0.8;\"/>\n   </g>\n   <g id=\"patch_90\">\n    <path d=\"M 398.523864 350.757656 \nL 702.8875 350.757656 \n\" style=\"fill:none;stroke:#000000;stroke-linecap:square;stroke-linejoin:miter;stroke-width:0.8;\"/>\n   </g>\n   <g id=\"patch_91\">\n    <path d=\"M 398.523864 24.597656 \nL 702.8875 24.597656 \n\" style=\"fill:none;stroke:#000000;stroke-linecap:square;stroke-linejoin:miter;stroke-width:0.8;\"/>\n   </g>\n   <g id=\"text_30\">\n    <!-- Histogram of Context : tokenized -->\n    <g transform=\"translate(426.762322 18.597656)scale(0.15 -0.15)\">\n     <defs>\n      <path d=\"M 4122 4306 \nL 4122 3641 \nQ 3803 3938 3442 4084 \nQ 3081 4231 2675 4231 \nQ 1875 4231 1450 3742 \nQ 1025 3253 1025 2328 \nQ 1025 1406 1450 917 \nQ 1875 428 2675 428 \nQ 3081 428 3442 575 \nQ 3803 722 4122 1019 \nL 4122 359 \nQ 3791 134 3420 21 \nQ 3050 -91 2638 -91 \nQ 1578 -91 968 557 \nQ 359 1206 359 2328 \nQ 359 3453 968 4101 \nQ 1578 4750 2638 4750 \nQ 3056 4750 3426 4639 \nQ 3797 4528 4122 4306 \nz\n\" id=\"DejaVuSans-43\" transform=\"scale(0.015625)\"/>\n      <path d=\"M 3513 3500 \nL 2247 1797 \nL 3578 0 \nL 2900 0 \nL 1881 1375 \nL 863 0 \nL 184 0 \nL 1544 1831 \nL 300 3500 \nL 978 3500 \nL 1906 2253 \nL 2834 3500 \nL 3513 3500 \nz\n\" id=\"DejaVuSans-78\" transform=\"scale(0.015625)\"/>\n      <path d=\"M 581 4863 \nL 1159 4863 \nL 1159 1991 \nL 2875 3500 \nL 3609 3500 \nL 1753 1863 \nL 3688 0 \nL 2938 0 \nL 1159 1709 \nL 1159 0 \nL 581 0 \nL 581 4863 \nz\n\" id=\"DejaVuSans-6b\" transform=\"scale(0.015625)\"/>\n      <path d=\"M 353 3500 \nL 3084 3500 \nL 3084 2975 \nL 922 459 \nL 3084 459 \nL 3084 0 \nL 275 0 \nL 275 525 \nL 2438 3041 \nL 353 3041 \nL 353 3500 \nz\n\" id=\"DejaVuSans-7a\" transform=\"scale(0.015625)\"/>\n      <path d=\"M 2906 2969 \nL 2906 4863 \nL 3481 4863 \nL 3481 0 \nL 2906 0 \nL 2906 525 \nQ 2725 213 2448 61 \nQ 2172 -91 1784 -91 \nQ 1150 -91 751 415 \nQ 353 922 353 1747 \nQ 353 2572 751 3078 \nQ 1150 3584 1784 3584 \nQ 2172 3584 2448 3432 \nQ 2725 3281 2906 2969 \nz\nM 947 1747 \nQ 947 1113 1208 752 \nQ 1469 391 1925 391 \nQ 2381 391 2643 752 \nQ 2906 1113 2906 1747 \nQ 2906 2381 2643 2742 \nQ 2381 3103 1925 3103 \nQ 1469 3103 1208 2742 \nQ 947 2381 947 1747 \nz\n\" id=\"DejaVuSans-64\" transform=\"scale(0.015625)\"/>\n     </defs>\n     <use xlink:href=\"#DejaVuSans-48\"/>\n     <use x=\"75.195312\" xlink:href=\"#DejaVuSans-69\"/>\n     <use x=\"102.978516\" xlink:href=\"#DejaVuSans-73\"/>\n     <use x=\"155.078125\" xlink:href=\"#DejaVuSans-74\"/>\n     <use x=\"194.287109\" xlink:href=\"#DejaVuSans-6f\"/>\n     <use x=\"255.46875\" xlink:href=\"#DejaVuSans-67\"/>\n     <use x=\"318.945312\" xlink:href=\"#DejaVuSans-72\"/>\n     <use x=\"360.058594\" xlink:href=\"#DejaVuSans-61\"/>\n     <use x=\"421.337891\" xlink:href=\"#DejaVuSans-6d\"/>\n     <use x=\"518.75\" xlink:href=\"#DejaVuSans-20\"/>\n     <use x=\"550.537109\" xlink:href=\"#DejaVuSans-6f\"/>\n     <use x=\"611.71875\" xlink:href=\"#DejaVuSans-66\"/>\n     <use x=\"646.923828\" xlink:href=\"#DejaVuSans-20\"/>\n     <use x=\"678.710938\" xlink:href=\"#DejaVuSans-43\"/>\n     <use x=\"748.535156\" xlink:href=\"#DejaVuSans-6f\"/>\n     <use x=\"809.716797\" xlink:href=\"#DejaVuSans-6e\"/>\n     <use x=\"873.095703\" xlink:href=\"#DejaVuSans-74\"/>\n     <use x=\"912.304688\" xlink:href=\"#DejaVuSans-65\"/>\n     <use x=\"972.078125\" xlink:href=\"#DejaVuSans-78\"/>\n     <use x=\"1031.257812\" xlink:href=\"#DejaVuSans-74\"/>\n     <use x=\"1070.466797\" xlink:href=\"#DejaVuSans-20\"/>\n     <use x=\"1102.253906\" xlink:href=\"#DejaVuSans-3a\"/>\n     <use x=\"1135.945312\" xlink:href=\"#DejaVuSans-20\"/>\n     <use x=\"1167.732422\" xlink:href=\"#DejaVuSans-74\"/>\n     <use x=\"1206.941406\" xlink:href=\"#DejaVuSans-6f\"/>\n     <use x=\"1268.123047\" xlink:href=\"#DejaVuSans-6b\"/>\n     <use x=\"1322.408203\" xlink:href=\"#DejaVuSans-65\"/>\n     <use x=\"1383.931641\" xlink:href=\"#DejaVuSans-6e\"/>\n     <use x=\"1447.310547\" xlink:href=\"#DejaVuSans-69\"/>\n     <use x=\"1475.09375\" xlink:href=\"#DejaVuSans-7a\"/>\n     <use x=\"1527.583984\" xlink:href=\"#DejaVuSans-65\"/>\n     <use x=\"1589.107422\" xlink:href=\"#DejaVuSans-64\"/>\n    </g>\n   </g>\n  </g>\n </g>\n <defs>\n  <clipPath id=\"pe52e0d19ca\">\n   <rect height=\"326.16\" width=\"304.363636\" x=\"33.2875\" y=\"24.597656\"/>\n  </clipPath>\n  <clipPath id=\"pfb2a00ff38\">\n   <rect height=\"326.16\" width=\"304.363636\" x=\"398.523864\" y=\"24.597656\"/>\n  </clipPath>\n </defs>\n</svg>\n",
      "image/png": "[encoded data removed]"
     },
     "metadata": {
      "needs_background": "light"
     }
    }
   ],
   "metadata": {}
  },
  {
   "cell_type": "markdown",
   "source": [
    "## Highlit"
   ],
   "metadata": {}
  },
  {
   "cell_type": "code",
   "execution_count": 14,
   "source": [
    "from IPython.core.display import HTML\n",
    "\n",
    "def word_highligt_html(txt, word, color, highlight=None):\n",
    "    txt = txt.replace(word, f'<span style=\"color: {color}; background-color:{highlight}\">{word}</span>')\n",
    "    return txt"
   ],
   "outputs": [],
   "metadata": {}
  },
  {
   "cell_type": "code",
   "execution_count": 15,
   "source": [
    "questions = []\n",
    "for data in train_data :\n",
    "    questions.append(data['question'])"
   ],
   "outputs": [],
   "metadata": {}
  },
  {
   "cell_type": "code",
   "execution_count": 16,
   "source": [
    "unk_id = tokenizer.convert_tokens_to_ids('[UNK]')"
   ],
   "outputs": [],
   "metadata": {}
  },
  {
   "cell_type": "code",
   "execution_count": 17,
   "source": [
    "unk_ans_count = 0\n",
    "\n",
    "for q in questions : \n",
    "    ids = tokenizer.encode(q)\n",
    "    if unk_id in ids : \n",
    "        unk_ans_count += 1"
   ],
   "outputs": [],
   "metadata": {}
  },
  {
   "cell_type": "code",
   "execution_count": 19,
   "source": [
    "print('Size of questions which has unk token : %d' %unk_ans_count)"
   ],
   "outputs": [
    {
     "output_type": "stream",
     "name": "stdout",
     "text": [
      "Size of questions which has unk token : 64\n"
     ]
    }
   ],
   "metadata": {}
  },
  {
   "cell_type": "code",
   "execution_count": 20,
   "source": [
    "q_highlited = ''\n",
    "\n",
    "for i in tqdm(range(train_size)) :\n",
    "    q = questions[i]\n",
    "    \n",
    "    flag = False\n",
    "    for ch in q :\n",
    "        if ch == ' ' :\n",
    "            continue\n",
    "        ids = tokenizer.convert_tokens_to_ids(ch)\n",
    "        if ids == unk_id :\n",
    "            q = word_highligt_html(q, ch, 'black', '#B19CD9')\n",
    "            flag = True\n",
    "    \n",
    "    if flag == True :\n",
    "        q_highlited += str(i) + ' - ' + q + '<br/>'"
   ],
   "outputs": [
    {
     "output_type": "stream",
     "name": "stderr",
     "text": [
      "100%|██████████| 3952/3952 [00:00<00:00, 42198.67it/s]\n"
     ]
    }
   ],
   "metadata": {}
  },
  {
   "cell_type": "code",
   "execution_count": 21,
   "source": [
    "HTML(q_highlited)"
   ],
   "outputs": [
    {
     "output_type": "execute_result",
     "data": {
      "text/plain": [
       "<IPython.core.display.HTML object>"
      ],
      "text/html": [
       "53 - 홀<span style=\"color: black; background-color:#B19CD9\">뮴</span>이 평소와 다르게 강자성을 가지게 되는 온도는?<br/>137 - <span style=\"color: black; background-color:#B19CD9\">옻</span>칠의 가장 중요한 요소는 무엇인가?<br/>157 - 카를 체르니가 공연한 <span style=\"color: black; background-color:#B19CD9\">쾰</span>른토나토아 극장은 어느 도시에 있는가?<br/>290 - 프롱트<span style=\"color: black; background-color:#B19CD9\">낵</span> 요새를 공격한 영국군의 지휘자는?<br/>361 - 배<span style=\"color: black; background-color:#B19CD9\">곯</span>는 아이들에게 도움이 된 식량 보급 제도는?<br/>394 - <span style=\"color: black; background-color:#B19CD9\">뮈</span>라가 나폴리의 왕으로 부임하기 전 직위는?<br/>413 - 2개 이상의 폴리<span style=\"color: black; background-color:#B19CD9\">펩</span>타이드 사슬로 구성된 단백질 구조는 무엇인가?<br/>438 - 튀코가 <span style=\"color: black; background-color:#B19CD9\">놋</span>쇠로 된 보형물을 사용했다는 사실은 언제 알려졌는가?<br/>509 - 1968년 대선 당시 후보로 출마된 수<span style=\"color: black; background-color:#B19CD9\">퇘</span>지의 이름은?<br/>554 - 갓난아기의 딸국질을 <span style=\"color: black; background-color:#B19CD9\">멎</span>게 하려면 아기한테 무엇을 주는 것이 좋은가?<br/>574 - 도스토<span style=\"color: black; background-color:#B19CD9\">옙</span>스키의 시력이 망가졌을 때 그는 어떤 방식으로 작품을 완성할 수 있었나?<br/>586 - 선발 투수로서 첫 해에 <span style=\"color: black; background-color:#B19CD9\">젱</span>킨스의 삼진 갯수는?<br/>890 - 알프레드가 아버지를 여<span style=\"color: black; background-color:#B19CD9\">읜</span> 것은 몇 년도인가?<br/>905 - 아델리<span style=\"color: black; background-color:#B19CD9\">펭</span>귄 새끼들이 먹이를 달라고 칭얼거릴 때 무엇과 유사한 소리를 내는가?<br/>976 - 도스토<span style=\"color: black; background-color:#B19CD9\">옙</span>스키는 젊었을 때 어떤 사상을 추구하는 정치 클럽에 참여하였나?<br/>1048 - 도스토<span style=\"color: black; background-color:#B19CD9\">옙</span>스키의 작품에 담긴 기독교 사상은 무엇에 기반한 것인가?<br/>1074 - 리위안<span style=\"color: black; background-color:#B19CD9\">훙</span>이 총통 자리에 있을 때 베이징에서 쿠데타를 일으킨 사람은 누구인가?<br/>1152 - 트롱트<span style=\"color: black; background-color:#B19CD9\">낵</span> 요새는 어느 나라가 사용하는 요새인가?<br/>1165 - 존스 일행은 살인 장면을 보고 범인을 <span style=\"color: black; background-color:#B19CD9\">쫒</span>을 때 무엇을 타고 이동하는가?<br/>1190 - 경상도가 만들어질 <span style=\"color: black; background-color:#B19CD9\">떄</span> 중점이 되었던 곳은?<br/>1246 - 스<span style=\"color: black; background-color:#B19CD9\">콴</span>토가 고향으로 귀향한 년도는?<br/>1467 - <존 <span style=\"color: black; background-color:#B19CD9\">윅</span>>의 장르는?<br/>1486 - 굿펠로우나무타기<span style=\"color: black; background-color:#B19CD9\">캥</span>거루가 주로 생활하는 장소는 어디인가?<br/>1520 - 제2차 보어 전쟁의 중반에 스<span style=\"color: black; background-color:#B19CD9\">뮈</span>츠가 지휘를 받은 인물은?<br/>1530 - 아델리<span style=\"color: black; background-color:#B19CD9\">펭</span>귄의 보온을 유지하기 위한 물질은 어디서 나오는가?<br/>1841 - <span style=\"color: black; background-color:#B19CD9\">줏</span>키의 이름을 작명한 사람은 누구인가?<br/>1883 - 세포 <span style=\"color: black; background-color:#B19CD9\">셧</span>다운을 실행해야하는 단백질은 어디에 있는가?<br/>1949 - 기욤 <span style=\"color: black; background-color:#B19CD9\">뮈</span>소가 집필하는 소설의 장르는?<br/>1952 - 부녀자가 얼굴을 가리기위해 <span style=\"color: black; background-color:#B19CD9\">썻</span>던 것 중, 고려시대에 사용한 것은?<br/>2095 - 꼬리가 있는 도롱<span style=\"color: black; background-color:#B19CD9\">뇽</span>과 달리 개구리는 분추류에서 갈라져 나왔다고 제시한 사람은?<br/>2198 - 강가이콘다 <span style=\"color: black; background-color:#B19CD9\">촐</span>라푸람을 수도로 지정한 황제는?<br/>2283 - 수<span style=\"color: black; background-color:#B19CD9\">탉</span>은 누구에 의해 공개되었나요?<br/>2286 - 그리스를 배반한 인물이 테르모<span style=\"color: black; background-color:#B19CD9\">퓔</span>라이 습격을 돕기 위해 말해준 것은?<br/>2335 - MLB 최초로 두명의 형제가 경기를 함<span style=\"color: black; background-color:#B19CD9\">꼐</span> 뛴 날은?<br/>2440 - husroum (<span style=\"color: black; background-color:#B19CD9\">ح</span><span style=\"color: black; background-color:#B19CD9\">ص</span><span style=\"color: black; background-color:#B19CD9\">ر</span><span style=\"color: black; background-color:#B19CD9\">و</span><span style=\"color: black; background-color:#B19CD9\">م</span>)을 페르시아어로 번역하면?<br/>2449 - 하<span style=\"color: black; background-color:#B19CD9\">탸</span>야 중위가 니도로 섬 동부에 상륙할 당시 이용한 보트는 어느 부대 소속인가?<br/>2470 - 푸들이나 비<span style=\"color: black; background-color:#B19CD9\">숑</span> 프리제처럼 개 알레르기 반응을 거의 일으키지 않는 동물 부류는 무엇인가?<br/>2760 - 스<span style=\"color: black; background-color:#B19CD9\">퀠</span><span style=\"color: black; background-color:#B19CD9\">쾨</span>더가 남군 해군에 인도된 시기는?<br/>2853 - 이브라임 <span style=\"color: black; background-color:#B19CD9\">퍄</span>샤는 누구의 자식인가?<br/>2870 - 아르군 칸이 호노리오 4세에게 보낸 친서의 번역본이 보<span style=\"color: black; background-color:#B19CD9\">괸</span>되어 있는 곳은?<br/>2953 - 아이제나흐파(<span style=\"color: black; background-color:#B19CD9\">派</span>)의 중요인물은 누구인가요?<br/>3002 - 오자와가 <span style=\"color: black; background-color:#B19CD9\">핼</span>시를 꾀어내기 위해 손실을 감수한 것은?<br/>3099 - 크세르크세스 1세의 두 번<span style=\"color: black; background-color:#B19CD9\">쨰</span> 침공이 실패한 원인이 된 전투는?<br/>3170 - 이고르 <span style=\"color: black; background-color:#B19CD9\">댜</span>틀로프가 이끄는 모임에서 가장 먼저 빠진 사람은?-<br/>3190 - <span style=\"color: black; background-color:#B19CD9\">펨</span>토의 전생은 누구인가?<br/>3231 - <span style=\"color: black; background-color:#B19CD9\">옻</span>칠의 종류 중 유일하게 물질의 산화를 막기위해 칠하는 것은?<br/>3240 - 경성제국대학과 <span style=\"color: black; background-color:#B19CD9\">홋</span>카이도제국대학의 예과 수업연한이 동일해진 것은 몇 년인가?<br/>3262 - <span style=\"color: black; background-color:#B19CD9\">뮈</span>라가 축출하려한 사람은?<br/>3317 - 니콜라<span style=\"color: black; background-color:#B19CD9\">옙</span>스크 사건을 주동한 빨치산의 리더 중 자유단 세력에 희생된 이는 누구인가?<br/>3458 - 하산 부즈루그가 쿠<span style=\"color: black; background-color:#B19CD9\">첵</span>에게 패배 후 쫓겨난 곳은?<br/>3508 - 이<span style=\"color: black; background-color:#B19CD9\">셴</span> 층을 두가지 방법으로 측정했을 때 다른 결과가 나온 부분은?<br/>3544 - 이고르 <span style=\"color: black; background-color:#B19CD9\">댜</span>틀로프를 중심으로 만들어진 탐사대에서 다수를 차지한 성별은?<br/>3558 - 니클라스 <span style=\"color: black; background-color:#B19CD9\">쥘</span>레의 팀은 경기에서 몇 km를 뛰었는가?<br/>3593 - 시오야<span style=\"color: black; background-color:#B19CD9\">슌</span>이 붕대를 감고 촬영한 이유는?<br/>3596 - 방글라데시와 <span style=\"color: black; background-color:#B19CD9\">벵</span>골만 서쪽 지역에서 점심 식사 후에 잠깐 자는 잠을 무엇이라고 부르는가?<br/>3667 - 10군단의 장교가 아<span style=\"color: black; background-color:#B19CD9\">퀼</span>라를 들고 적진으로 향할 당시 군대를 통솔하던 인물은 누구인가?<br/>3685 - 가장 최근에 <span style=\"color: black; background-color:#B19CD9\">윔</span>블던과 프랑스 오픈에서 모두 우승을 거머쥔 남성 선수는?<br/>3688 - 하산 쿠<span style=\"color: black; background-color:#B19CD9\">첵</span>과의 싸움에서 진 하산 부즈루그가 결국 쫓겨간 곳은?<br/>3691 - AMP-69에서 어<span style=\"color: black; background-color:#B19CD9\">댑</span>터로 작동되는 부품은?<br/>3737 - <span style=\"color: black; background-color:#B19CD9\">갬</span>블러 VS. 초능력자의 작가는 누구인가?<br/>3791 - 기욤 <span style=\"color: black; background-color:#B19CD9\">뮈</span>소의 작품에서는 주로 서스펜스와 어떤 장르의 조합을 볼 수 있는가?<br/>3795 - <span style=\"color: black; background-color:#B19CD9\">뫼</span>비우스가 도마뱀의 유전자를 이용하여 만든 인물은?<br/>3877 - 굿펠로우나무타기<span style=\"color: black; background-color:#B19CD9\">캥</span>거루가 몸을 앞으로 숙여서 균형을 맞추려 하는 신체부위는?<br/>3889 - 오드리 <span style=\"color: black; background-color:#B19CD9\">헵</span>번과 그랜트의 나이 차이는?<br/>"
      ]
     },
     "metadata": {},
     "execution_count": 21
    }
   ],
   "metadata": {}
  },
  {
   "cell_type": "code",
   "execution_count": 22,
   "source": [
    "ans_span = []\n",
    "ans_pos = []\n",
    "\n",
    "for data in train_data :\n",
    "    pos, span = data['answers']['answer_start'], data['answers']['text']\n",
    "    ans_span.append(span[0])\n",
    "    ans_pos.append(pos[0])"
   ],
   "outputs": [],
   "metadata": {}
  },
  {
   "cell_type": "code",
   "execution_count": 23,
   "source": [
    "ans_tok_len = [len(tokenizer.tokenize(ans)) for ans in ans_span]"
   ],
   "outputs": [],
   "metadata": {}
  },
  {
   "cell_type": "code",
   "execution_count": 25,
   "source": [
    "plt.figure(figsize=(8,5))\n",
    "plt.title('Answer Tokenized Length', fontsize = 15)\n",
    "plt.hist(ans_tok_len, bins=50)\n",
    "plt.show()"
   ],
   "outputs": [
    {
     "output_type": "display_data",
     "data": {
      "text/plain": [
       "<Figure size 576x360 with 1 Axes>"
      ],
      "image/svg+xml": "<?xml version=\"1.0\" encoding=\"utf-8\" standalone=\"no\"?>\n<!DOCTYPE svg PUBLIC \"-//W3C//DTD SVG 1.1//EN\"\n  \"http://www.w3.org/Graphics/SVG/1.1/DTD/svg11.dtd\">\n<svg height=\"320.275781pt\" version=\"1.1\" viewBox=\"0 0 493.25 320.275781\" width=\"493.25pt\" xmlns=\"http://www.w3.org/2000/svg\" xmlns:xlink=\"http://www.w3.org/1999/xlink\">\n <metadata>\n  <rdf:RDF xmlns:cc=\"http://creativecommons.org/ns#\" xmlns:dc=\"http://purl.org/dc/elements/1.1/\" xmlns:rdf=\"http://www.w3.org/1999/02/22-rdf-syntax-ns#\">\n   <cc:Work>\n    <dc:type rdf:resource=\"http://purl.org/dc/dcmitype/StillImage\"/>\n    <dc:date>2021-10-20T06:38:42.636587</dc:date>\n    <dc:format>image/svg+xml</dc:format>\n    <dc:creator>\n     <cc:Agent>\n      <dc:title>Matplotlib v3.4.3, https://matplotlib.org/</dc:title>\n     </cc:Agent>\n    </dc:creator>\n   </cc:Work>\n  </rdf:RDF>\n </metadata>\n <defs>\n  <style type=\"text/css\">*{stroke-linecap:butt;stroke-linejoin:round;}</style>\n </defs>\n <g id=\"figure_1\">\n  <g id=\"patch_1\">\n   <path d=\"M 0 320.275781 \nL 493.25 320.275781 \nL 493.25 0 \nL 0 0 \nz\n\" style=\"fill:none;\"/>\n  </g>\n  <g id=\"axes_1\">\n   <g id=\"patch_2\">\n    <path d=\"M 39.65 296.397656 \nL 486.05 296.397656 \nL 486.05 24.597656 \nL 39.65 24.597656 \nz\n\" style=\"fill:#ffffff;\"/>\n   </g>\n   <g id=\"patch_3\">\n    <path clip-path=\"url(#p080eb27a55)\" d=\"M 59.940909 296.397656 \nL 68.057273 296.397656 \nL 68.057273 101.993854 \nL 59.940909 101.993854 \nz\n\" style=\"fill:#1f77b4;\"/>\n   </g>\n   <g id=\"patch_4\">\n    <path clip-path=\"url(#p080eb27a55)\" d=\"M 68.057273 296.397656 \nL 76.173636 296.397656 \nL 76.173636 37.540513 \nL 68.057273 37.540513 \nz\n\" style=\"fill:#1f77b4;\"/>\n   </g>\n   <g id=\"patch_5\">\n    <path clip-path=\"url(#p080eb27a55)\" d=\"M 76.173636 296.397656 \nL 84.29 296.397656 \nL 84.29 87.380951 \nL 76.173636 87.380951 \nz\n\" style=\"fill:#1f77b4;\"/>\n   </g>\n   <g id=\"patch_6\">\n    <path clip-path=\"url(#p080eb27a55)\" d=\"M 84.29 296.397656 \nL 92.406364 296.397656 \nL 92.406364 164.881527 \nL 84.29 164.881527 \nz\n\" style=\"fill:#1f77b4;\"/>\n   </g>\n   <g id=\"patch_7\">\n    <path clip-path=\"url(#p080eb27a55)\" d=\"M 92.406364 296.397656 \nL 100.522727 296.397656 \nL 100.522727 216.287633 \nL 92.406364 216.287633 \nz\n\" style=\"fill:#1f77b4;\"/>\n   </g>\n   <g id=\"patch_8\">\n    <path clip-path=\"url(#p080eb27a55)\" d=\"M 100.522727 296.397656 \nL 108.639091 296.397656 \nL 108.639091 242.382103 \nL 100.522727 242.382103 \nz\n\" style=\"fill:#1f77b4;\"/>\n   </g>\n   <g id=\"patch_9\">\n    <path clip-path=\"url(#p080eb27a55)\" d=\"M 108.639091 296.397656 \nL 116.755455 296.397656 \nL 116.755455 266.64996 \nL 108.639091 266.64996 \nz\n\" style=\"fill:#1f77b4;\"/>\n   </g>\n   <g id=\"patch_10\">\n    <path clip-path=\"url(#p080eb27a55)\" d=\"M 116.755455 296.397656 \nL 124.871818 296.397656 \nL 124.871818 276.826804 \nL 116.755455 276.826804 \nz\n\" style=\"fill:#1f77b4;\"/>\n   </g>\n   <g id=\"patch_11\">\n    <path clip-path=\"url(#p080eb27a55)\" d=\"M 124.871818 296.397656 \nL 132.988182 296.397656 \nL 132.988182 284.3942 \nL 124.871818 284.3942 \nz\n\" style=\"fill:#1f77b4;\"/>\n   </g>\n   <g id=\"patch_12\">\n    <path clip-path=\"url(#p080eb27a55)\" d=\"M 132.988182 296.397656 \nL 141.104545 296.397656 \nL 141.104545 284.916089 \nL 132.988182 284.916089 \nz\n\" style=\"fill:#1f77b4;\"/>\n   </g>\n   <g id=\"patch_13\">\n    <path clip-path=\"url(#p080eb27a55)\" d=\"M 141.104545 296.397656 \nL 149.220909 296.397656 \nL 149.220909 290.134983 \nL 141.104545 290.134983 \nz\n\" style=\"fill:#1f77b4;\"/>\n   </g>\n   <g id=\"patch_14\">\n    <path clip-path=\"url(#p080eb27a55)\" d=\"M 149.220909 296.397656 \nL 157.337273 296.397656 \nL 157.337273 290.917818 \nL 149.220909 290.917818 \nz\n\" style=\"fill:#1f77b4;\"/>\n   </g>\n   <g id=\"patch_15\">\n    <path clip-path=\"url(#p080eb27a55)\" d=\"M 157.337273 296.397656 \nL 165.453636 296.397656 \nL 165.453636 291.439707 \nL 157.337273 291.439707 \nz\n\" style=\"fill:#1f77b4;\"/>\n   </g>\n   <g id=\"patch_16\">\n    <path clip-path=\"url(#p080eb27a55)\" d=\"M 165.453636 296.397656 \nL 173.57 296.397656 \nL 173.57 293.527265 \nL 165.453636 293.527265 \nz\n\" style=\"fill:#1f77b4;\"/>\n   </g>\n   <g id=\"patch_17\">\n    <path clip-path=\"url(#p080eb27a55)\" d=\"M 173.57 296.397656 \nL 181.686364 296.397656 \nL 181.686364 293.527265 \nL 173.57 293.527265 \nz\n\" style=\"fill:#1f77b4;\"/>\n   </g>\n   <g id=\"patch_18\">\n    <path clip-path=\"url(#p080eb27a55)\" d=\"M 181.686364 296.397656 \nL 189.802727 296.397656 \nL 189.802727 294.310099 \nL 181.686364 294.310099 \nz\n\" style=\"fill:#1f77b4;\"/>\n   </g>\n   <g id=\"patch_19\">\n    <path clip-path=\"url(#p080eb27a55)\" d=\"M 189.802727 296.397656 \nL 197.919091 296.397656 \nL 197.919091 295.353877 \nL 189.802727 295.353877 \nz\n\" style=\"fill:#1f77b4;\"/>\n   </g>\n   <g id=\"patch_20\">\n    <path clip-path=\"url(#p080eb27a55)\" d=\"M 197.919091 296.397656 \nL 206.035455 296.397656 \nL 206.035455 294.571043 \nL 197.919091 294.571043 \nz\n\" style=\"fill:#1f77b4;\"/>\n   </g>\n   <g id=\"patch_21\">\n    <path clip-path=\"url(#p080eb27a55)\" d=\"M 206.035455 296.397656 \nL 214.151818 296.397656 \nL 214.151818 295.875767 \nL 206.035455 295.875767 \nz\n\" style=\"fill:#1f77b4;\"/>\n   </g>\n   <g id=\"patch_22\">\n    <path clip-path=\"url(#p080eb27a55)\" d=\"M 214.151818 296.397656 \nL 222.268182 296.397656 \nL 222.268182 296.397656 \nL 214.151818 296.397656 \nz\n\" style=\"fill:#1f77b4;\"/>\n   </g>\n   <g id=\"patch_23\">\n    <path clip-path=\"url(#p080eb27a55)\" d=\"M 222.268182 296.397656 \nL 230.384545 296.397656 \nL 230.384545 296.136712 \nL 222.268182 296.136712 \nz\n\" style=\"fill:#1f77b4;\"/>\n   </g>\n   <g id=\"patch_24\">\n    <path clip-path=\"url(#p080eb27a55)\" d=\"M 230.384545 296.397656 \nL 238.500909 296.397656 \nL 238.500909 296.397656 \nL 230.384545 296.397656 \nz\n\" style=\"fill:#1f77b4;\"/>\n   </g>\n   <g id=\"patch_25\">\n    <path clip-path=\"url(#p080eb27a55)\" d=\"M 238.500909 296.397656 \nL 246.617273 296.397656 \nL 246.617273 295.875767 \nL 238.500909 295.875767 \nz\n\" style=\"fill:#1f77b4;\"/>\n   </g>\n   <g id=\"patch_26\">\n    <path clip-path=\"url(#p080eb27a55)\" d=\"M 246.617273 296.397656 \nL 254.733636 296.397656 \nL 254.733636 296.136712 \nL 246.617273 296.136712 \nz\n\" style=\"fill:#1f77b4;\"/>\n   </g>\n   <g id=\"patch_27\">\n    <path clip-path=\"url(#p080eb27a55)\" d=\"M 254.733636 296.397656 \nL 262.85 296.397656 \nL 262.85 296.397656 \nL 254.733636 296.397656 \nz\n\" style=\"fill:#1f77b4;\"/>\n   </g>\n   <g id=\"patch_28\">\n    <path clip-path=\"url(#p080eb27a55)\" d=\"M 262.85 296.397656 \nL 270.966364 296.397656 \nL 270.966364 296.397656 \nL 262.85 296.397656 \nz\n\" style=\"fill:#1f77b4;\"/>\n   </g>\n   <g id=\"patch_29\">\n    <path clip-path=\"url(#p080eb27a55)\" d=\"M 270.966364 296.397656 \nL 279.082727 296.397656 \nL 279.082727 296.136712 \nL 270.966364 296.136712 \nz\n\" style=\"fill:#1f77b4;\"/>\n   </g>\n   <g id=\"patch_30\">\n    <path clip-path=\"url(#p080eb27a55)\" d=\"M 279.082727 296.397656 \nL 287.199091 296.397656 \nL 287.199091 296.136712 \nL 279.082727 296.136712 \nz\n\" style=\"fill:#1f77b4;\"/>\n   </g>\n   <g id=\"patch_31\">\n    <path clip-path=\"url(#p080eb27a55)\" d=\"M 287.199091 296.397656 \nL 295.315455 296.397656 \nL 295.315455 296.397656 \nL 287.199091 296.397656 \nz\n\" style=\"fill:#1f77b4;\"/>\n   </g>\n   <g id=\"patch_32\">\n    <path clip-path=\"url(#p080eb27a55)\" d=\"M 295.315455 296.397656 \nL 303.431818 296.397656 \nL 303.431818 296.397656 \nL 295.315455 296.397656 \nz\n\" style=\"fill:#1f77b4;\"/>\n   </g>\n   <g id=\"patch_33\">\n    <path clip-path=\"url(#p080eb27a55)\" d=\"M 303.431818 296.397656 \nL 311.548182 296.397656 \nL 311.548182 296.397656 \nL 303.431818 296.397656 \nz\n\" style=\"fill:#1f77b4;\"/>\n   </g>\n   <g id=\"patch_34\">\n    <path clip-path=\"url(#p080eb27a55)\" d=\"M 311.548182 296.397656 \nL 319.664545 296.397656 \nL 319.664545 296.397656 \nL 311.548182 296.397656 \nz\n\" style=\"fill:#1f77b4;\"/>\n   </g>\n   <g id=\"patch_35\">\n    <path clip-path=\"url(#p080eb27a55)\" d=\"M 319.664545 296.397656 \nL 327.780909 296.397656 \nL 327.780909 296.397656 \nL 319.664545 296.397656 \nz\n\" style=\"fill:#1f77b4;\"/>\n   </g>\n   <g id=\"patch_36\">\n    <path clip-path=\"url(#p080eb27a55)\" d=\"M 327.780909 296.397656 \nL 335.897273 296.397656 \nL 335.897273 296.397656 \nL 327.780909 296.397656 \nz\n\" style=\"fill:#1f77b4;\"/>\n   </g>\n   <g id=\"patch_37\">\n    <path clip-path=\"url(#p080eb27a55)\" d=\"M 335.897273 296.397656 \nL 344.013636 296.397656 \nL 344.013636 296.136712 \nL 335.897273 296.136712 \nz\n\" style=\"fill:#1f77b4;\"/>\n   </g>\n   <g id=\"patch_38\">\n    <path clip-path=\"url(#p080eb27a55)\" d=\"M 344.013636 296.397656 \nL 352.13 296.397656 \nL 352.13 295.875767 \nL 344.013636 295.875767 \nz\n\" style=\"fill:#1f77b4;\"/>\n   </g>\n   <g id=\"patch_39\">\n    <path clip-path=\"url(#p080eb27a55)\" d=\"M 352.13 296.397656 \nL 360.246364 296.397656 \nL 360.246364 296.397656 \nL 352.13 296.397656 \nz\n\" style=\"fill:#1f77b4;\"/>\n   </g>\n   <g id=\"patch_40\">\n    <path clip-path=\"url(#p080eb27a55)\" d=\"M 360.246364 296.397656 \nL 368.362727 296.397656 \nL 368.362727 296.397656 \nL 360.246364 296.397656 \nz\n\" style=\"fill:#1f77b4;\"/>\n   </g>\n   <g id=\"patch_41\">\n    <path clip-path=\"url(#p080eb27a55)\" d=\"M 368.362727 296.397656 \nL 376.479091 296.397656 \nL 376.479091 296.397656 \nL 368.362727 296.397656 \nz\n\" style=\"fill:#1f77b4;\"/>\n   </g>\n   <g id=\"patch_42\">\n    <path clip-path=\"url(#p080eb27a55)\" d=\"M 376.479091 296.397656 \nL 384.595455 296.397656 \nL 384.595455 296.397656 \nL 376.479091 296.397656 \nz\n\" style=\"fill:#1f77b4;\"/>\n   </g>\n   <g id=\"patch_43\">\n    <path clip-path=\"url(#p080eb27a55)\" d=\"M 384.595455 296.397656 \nL 392.711818 296.397656 \nL 392.711818 296.397656 \nL 384.595455 296.397656 \nz\n\" style=\"fill:#1f77b4;\"/>\n   </g>\n   <g id=\"patch_44\">\n    <path clip-path=\"url(#p080eb27a55)\" d=\"M 392.711818 296.397656 \nL 400.828182 296.397656 \nL 400.828182 296.397656 \nL 392.711818 296.397656 \nz\n\" style=\"fill:#1f77b4;\"/>\n   </g>\n   <g id=\"patch_45\">\n    <path clip-path=\"url(#p080eb27a55)\" d=\"M 400.828182 296.397656 \nL 408.944545 296.397656 \nL 408.944545 296.397656 \nL 400.828182 296.397656 \nz\n\" style=\"fill:#1f77b4;\"/>\n   </g>\n   <g id=\"patch_46\">\n    <path clip-path=\"url(#p080eb27a55)\" d=\"M 408.944545 296.397656 \nL 417.060909 296.397656 \nL 417.060909 296.397656 \nL 408.944545 296.397656 \nz\n\" style=\"fill:#1f77b4;\"/>\n   </g>\n   <g id=\"patch_47\">\n    <path clip-path=\"url(#p080eb27a55)\" d=\"M 417.060909 296.397656 \nL 425.177273 296.397656 \nL 425.177273 296.397656 \nL 417.060909 296.397656 \nz\n\" style=\"fill:#1f77b4;\"/>\n   </g>\n   <g id=\"patch_48\">\n    <path clip-path=\"url(#p080eb27a55)\" d=\"M 425.177273 296.397656 \nL 433.293636 296.397656 \nL 433.293636 296.397656 \nL 425.177273 296.397656 \nz\n\" style=\"fill:#1f77b4;\"/>\n   </g>\n   <g id=\"patch_49\">\n    <path clip-path=\"url(#p080eb27a55)\" d=\"M 433.293636 296.397656 \nL 441.41 296.397656 \nL 441.41 296.397656 \nL 433.293636 296.397656 \nz\n\" style=\"fill:#1f77b4;\"/>\n   </g>\n   <g id=\"patch_50\">\n    <path clip-path=\"url(#p080eb27a55)\" d=\"M 441.41 296.397656 \nL 449.526364 296.397656 \nL 449.526364 296.397656 \nL 441.41 296.397656 \nz\n\" style=\"fill:#1f77b4;\"/>\n   </g>\n   <g id=\"patch_51\">\n    <path clip-path=\"url(#p080eb27a55)\" d=\"M 449.526364 296.397656 \nL 457.642727 296.397656 \nL 457.642727 296.397656 \nL 449.526364 296.397656 \nz\n\" style=\"fill:#1f77b4;\"/>\n   </g>\n   <g id=\"patch_52\">\n    <path clip-path=\"url(#p080eb27a55)\" d=\"M 457.642727 296.397656 \nL 465.759091 296.397656 \nL 465.759091 296.136712 \nL 457.642727 296.136712 \nz\n\" style=\"fill:#1f77b4;\"/>\n   </g>\n   <g id=\"matplotlib.axis_1\">\n    <g id=\"xtick_1\">\n     <g id=\"line2d_1\">\n      <defs>\n       <path d=\"M 0 0 \nL 0 3.5 \n\" id=\"me4963c40b0\" style=\"stroke:#000000;stroke-width:0.8;\"/>\n      </defs>\n      <g>\n       <use style=\"stroke:#000000;stroke-width:0.8;\" x=\"51.486364\" xlink:href=\"#me4963c40b0\" y=\"296.397656\"/>\n      </g>\n     </g>\n     <g id=\"text_1\">\n      <!-- 0 -->\n      <g transform=\"translate(48.305114 310.996094)scale(0.1 -0.1)\">\n       <defs>\n        <path d=\"M 2034 4250 \nQ 1547 4250 1301 3770 \nQ 1056 3291 1056 2328 \nQ 1056 1369 1301 889 \nQ 1547 409 2034 409 \nQ 2525 409 2770 889 \nQ 3016 1369 3016 2328 \nQ 3016 3291 2770 3770 \nQ 2525 4250 2034 4250 \nz\nM 2034 4750 \nQ 2819 4750 3233 4129 \nQ 3647 3509 3647 2328 \nQ 3647 1150 3233 529 \nQ 2819 -91 2034 -91 \nQ 1250 -91 836 529 \nQ 422 1150 422 2328 \nQ 422 3509 836 4129 \nQ 1250 4750 2034 4750 \nz\n\" id=\"DejaVuSans-30\" transform=\"scale(0.015625)\"/>\n       </defs>\n       <use xlink:href=\"#DejaVuSans-30\"/>\n      </g>\n     </g>\n    </g>\n    <g id=\"xtick_2\">\n     <g id=\"line2d_2\">\n      <g>\n       <use style=\"stroke:#000000;stroke-width:0.8;\" x=\"136.031818\" xlink:href=\"#me4963c40b0\" y=\"296.397656\"/>\n      </g>\n     </g>\n     <g id=\"text_2\">\n      <!-- 10 -->\n      <g transform=\"translate(129.669318 310.996094)scale(0.1 -0.1)\">\n       <defs>\n        <path d=\"M 794 531 \nL 1825 531 \nL 1825 4091 \nL 703 3866 \nL 703 4441 \nL 1819 4666 \nL 2450 4666 \nL 2450 531 \nL 3481 531 \nL 3481 0 \nL 794 0 \nL 794 531 \nz\n\" id=\"DejaVuSans-31\" transform=\"scale(0.015625)\"/>\n       </defs>\n       <use xlink:href=\"#DejaVuSans-31\"/>\n       <use x=\"63.623047\" xlink:href=\"#DejaVuSans-30\"/>\n      </g>\n     </g>\n    </g>\n    <g id=\"xtick_3\">\n     <g id=\"line2d_3\">\n      <g>\n       <use style=\"stroke:#000000;stroke-width:0.8;\" x=\"220.577273\" xlink:href=\"#me4963c40b0\" y=\"296.397656\"/>\n      </g>\n     </g>\n     <g id=\"text_3\">\n      <!-- 20 -->\n      <g transform=\"translate(214.214773 310.996094)scale(0.1 -0.1)\">\n       <defs>\n        <path d=\"M 1228 531 \nL 3431 531 \nL 3431 0 \nL 469 0 \nL 469 531 \nQ 828 903 1448 1529 \nQ 2069 2156 2228 2338 \nQ 2531 2678 2651 2914 \nQ 2772 3150 2772 3378 \nQ 2772 3750 2511 3984 \nQ 2250 4219 1831 4219 \nQ 1534 4219 1204 4116 \nQ 875 4013 500 3803 \nL 500 4441 \nQ 881 4594 1212 4672 \nQ 1544 4750 1819 4750 \nQ 2544 4750 2975 4387 \nQ 3406 4025 3406 3419 \nQ 3406 3131 3298 2873 \nQ 3191 2616 2906 2266 \nQ 2828 2175 2409 1742 \nQ 1991 1309 1228 531 \nz\n\" id=\"DejaVuSans-32\" transform=\"scale(0.015625)\"/>\n       </defs>\n       <use xlink:href=\"#DejaVuSans-32\"/>\n       <use x=\"63.623047\" xlink:href=\"#DejaVuSans-30\"/>\n      </g>\n     </g>\n    </g>\n    <g id=\"xtick_4\">\n     <g id=\"line2d_4\">\n      <g>\n       <use style=\"stroke:#000000;stroke-width:0.8;\" x=\"305.122727\" xlink:href=\"#me4963c40b0\" y=\"296.397656\"/>\n      </g>\n     </g>\n     <g id=\"text_4\">\n      <!-- 30 -->\n      <g transform=\"translate(298.760227 310.996094)scale(0.1 -0.1)\">\n       <defs>\n        <path d=\"M 2597 2516 \nQ 3050 2419 3304 2112 \nQ 3559 1806 3559 1356 \nQ 3559 666 3084 287 \nQ 2609 -91 1734 -91 \nQ 1441 -91 1130 -33 \nQ 819 25 488 141 \nL 488 750 \nQ 750 597 1062 519 \nQ 1375 441 1716 441 \nQ 2309 441 2620 675 \nQ 2931 909 2931 1356 \nQ 2931 1769 2642 2001 \nQ 2353 2234 1838 2234 \nL 1294 2234 \nL 1294 2753 \nL 1863 2753 \nQ 2328 2753 2575 2939 \nQ 2822 3125 2822 3475 \nQ 2822 3834 2567 4026 \nQ 2313 4219 1838 4219 \nQ 1578 4219 1281 4162 \nQ 984 4106 628 3988 \nL 628 4550 \nQ 988 4650 1302 4700 \nQ 1616 4750 1894 4750 \nQ 2613 4750 3031 4423 \nQ 3450 4097 3450 3541 \nQ 3450 3153 3228 2886 \nQ 3006 2619 2597 2516 \nz\n\" id=\"DejaVuSans-33\" transform=\"scale(0.015625)\"/>\n       </defs>\n       <use xlink:href=\"#DejaVuSans-33\"/>\n       <use x=\"63.623047\" xlink:href=\"#DejaVuSans-30\"/>\n      </g>\n     </g>\n    </g>\n    <g id=\"xtick_5\">\n     <g id=\"line2d_5\">\n      <g>\n       <use style=\"stroke:#000000;stroke-width:0.8;\" x=\"389.668182\" xlink:href=\"#me4963c40b0\" y=\"296.397656\"/>\n      </g>\n     </g>\n     <g id=\"text_5\">\n      <!-- 40 -->\n      <g transform=\"translate(383.305682 310.996094)scale(0.1 -0.1)\">\n       <defs>\n        <path d=\"M 2419 4116 \nL 825 1625 \nL 2419 1625 \nL 2419 4116 \nz\nM 2253 4666 \nL 3047 4666 \nL 3047 1625 \nL 3713 1625 \nL 3713 1100 \nL 3047 1100 \nL 3047 0 \nL 2419 0 \nL 2419 1100 \nL 313 1100 \nL 313 1709 \nL 2253 4666 \nz\n\" id=\"DejaVuSans-34\" transform=\"scale(0.015625)\"/>\n       </defs>\n       <use xlink:href=\"#DejaVuSans-34\"/>\n       <use x=\"63.623047\" xlink:href=\"#DejaVuSans-30\"/>\n      </g>\n     </g>\n    </g>\n    <g id=\"xtick_6\">\n     <g id=\"line2d_6\">\n      <g>\n       <use style=\"stroke:#000000;stroke-width:0.8;\" x=\"474.213636\" xlink:href=\"#me4963c40b0\" y=\"296.397656\"/>\n      </g>\n     </g>\n     <g id=\"text_6\">\n      <!-- 50 -->\n      <g transform=\"translate(467.851136 310.996094)scale(0.1 -0.1)\">\n       <defs>\n        <path d=\"M 691 4666 \nL 3169 4666 \nL 3169 4134 \nL 1269 4134 \nL 1269 2991 \nQ 1406 3038 1543 3061 \nQ 1681 3084 1819 3084 \nQ 2600 3084 3056 2656 \nQ 3513 2228 3513 1497 \nQ 3513 744 3044 326 \nQ 2575 -91 1722 -91 \nQ 1428 -91 1123 -41 \nQ 819 9 494 109 \nL 494 744 \nQ 775 591 1075 516 \nQ 1375 441 1709 441 \nQ 2250 441 2565 725 \nQ 2881 1009 2881 1497 \nQ 2881 1984 2565 2268 \nQ 2250 2553 1709 2553 \nQ 1456 2553 1204 2497 \nQ 953 2441 691 2322 \nL 691 4666 \nz\n\" id=\"DejaVuSans-35\" transform=\"scale(0.015625)\"/>\n       </defs>\n       <use xlink:href=\"#DejaVuSans-35\"/>\n       <use x=\"63.623047\" xlink:href=\"#DejaVuSans-30\"/>\n      </g>\n     </g>\n    </g>\n   </g>\n   <g id=\"matplotlib.axis_2\">\n    <g id=\"ytick_1\">\n     <g id=\"line2d_7\">\n      <defs>\n       <path d=\"M 0 0 \nL -3.5 0 \n\" id=\"m5ed315128c\" style=\"stroke:#000000;stroke-width:0.8;\"/>\n      </defs>\n      <g>\n       <use style=\"stroke:#000000;stroke-width:0.8;\" x=\"39.65\" xlink:href=\"#m5ed315128c\" y=\"296.397656\"/>\n      </g>\n     </g>\n     <g id=\"text_7\">\n      <!-- 0 -->\n      <g transform=\"translate(26.2875 300.196875)scale(0.1 -0.1)\">\n       <use xlink:href=\"#DejaVuSans-30\"/>\n      </g>\n     </g>\n    </g>\n    <g id=\"ytick_2\">\n     <g id=\"line2d_8\">\n      <g>\n       <use style=\"stroke:#000000;stroke-width:0.8;\" x=\"39.65\" xlink:href=\"#m5ed315128c\" y=\"244.208716\"/>\n      </g>\n     </g>\n     <g id=\"text_8\">\n      <!-- 200 -->\n      <g transform=\"translate(13.5625 248.007935)scale(0.1 -0.1)\">\n       <use xlink:href=\"#DejaVuSans-32\"/>\n       <use x=\"63.623047\" xlink:href=\"#DejaVuSans-30\"/>\n       <use x=\"127.246094\" xlink:href=\"#DejaVuSans-30\"/>\n      </g>\n     </g>\n    </g>\n    <g id=\"ytick_3\">\n     <g id=\"line2d_9\">\n      <g>\n       <use style=\"stroke:#000000;stroke-width:0.8;\" x=\"39.65\" xlink:href=\"#m5ed315128c\" y=\"192.019776\"/>\n      </g>\n     </g>\n     <g id=\"text_9\">\n      <!-- 400 -->\n      <g transform=\"translate(13.5625 195.818995)scale(0.1 -0.1)\">\n       <use xlink:href=\"#DejaVuSans-34\"/>\n       <use x=\"63.623047\" xlink:href=\"#DejaVuSans-30\"/>\n       <use x=\"127.246094\" xlink:href=\"#DejaVuSans-30\"/>\n      </g>\n     </g>\n    </g>\n    <g id=\"ytick_4\">\n     <g id=\"line2d_10\">\n      <g>\n       <use style=\"stroke:#000000;stroke-width:0.8;\" x=\"39.65\" xlink:href=\"#m5ed315128c\" y=\"139.830836\"/>\n      </g>\n     </g>\n     <g id=\"text_10\">\n      <!-- 600 -->\n      <g transform=\"translate(13.5625 143.630055)scale(0.1 -0.1)\">\n       <defs>\n        <path d=\"M 2113 2584 \nQ 1688 2584 1439 2293 \nQ 1191 2003 1191 1497 \nQ 1191 994 1439 701 \nQ 1688 409 2113 409 \nQ 2538 409 2786 701 \nQ 3034 994 3034 1497 \nQ 3034 2003 2786 2293 \nQ 2538 2584 2113 2584 \nz\nM 3366 4563 \nL 3366 3988 \nQ 3128 4100 2886 4159 \nQ 2644 4219 2406 4219 \nQ 1781 4219 1451 3797 \nQ 1122 3375 1075 2522 \nQ 1259 2794 1537 2939 \nQ 1816 3084 2150 3084 \nQ 2853 3084 3261 2657 \nQ 3669 2231 3669 1497 \nQ 3669 778 3244 343 \nQ 2819 -91 2113 -91 \nQ 1303 -91 875 529 \nQ 447 1150 447 2328 \nQ 447 3434 972 4092 \nQ 1497 4750 2381 4750 \nQ 2619 4750 2861 4703 \nQ 3103 4656 3366 4563 \nz\n\" id=\"DejaVuSans-36\" transform=\"scale(0.015625)\"/>\n       </defs>\n       <use xlink:href=\"#DejaVuSans-36\"/>\n       <use x=\"63.623047\" xlink:href=\"#DejaVuSans-30\"/>\n       <use x=\"127.246094\" xlink:href=\"#DejaVuSans-30\"/>\n      </g>\n     </g>\n    </g>\n    <g id=\"ytick_5\">\n     <g id=\"line2d_11\">\n      <g>\n       <use style=\"stroke:#000000;stroke-width:0.8;\" x=\"39.65\" xlink:href=\"#m5ed315128c\" y=\"87.641896\"/>\n      </g>\n     </g>\n     <g id=\"text_11\">\n      <!-- 800 -->\n      <g transform=\"translate(13.5625 91.441115)scale(0.1 -0.1)\">\n       <defs>\n        <path d=\"M 2034 2216 \nQ 1584 2216 1326 1975 \nQ 1069 1734 1069 1313 \nQ 1069 891 1326 650 \nQ 1584 409 2034 409 \nQ 2484 409 2743 651 \nQ 3003 894 3003 1313 \nQ 3003 1734 2745 1975 \nQ 2488 2216 2034 2216 \nz\nM 1403 2484 \nQ 997 2584 770 2862 \nQ 544 3141 544 3541 \nQ 544 4100 942 4425 \nQ 1341 4750 2034 4750 \nQ 2731 4750 3128 4425 \nQ 3525 4100 3525 3541 \nQ 3525 3141 3298 2862 \nQ 3072 2584 2669 2484 \nQ 3125 2378 3379 2068 \nQ 3634 1759 3634 1313 \nQ 3634 634 3220 271 \nQ 2806 -91 2034 -91 \nQ 1263 -91 848 271 \nQ 434 634 434 1313 \nQ 434 1759 690 2068 \nQ 947 2378 1403 2484 \nz\nM 1172 3481 \nQ 1172 3119 1398 2916 \nQ 1625 2713 2034 2713 \nQ 2441 2713 2670 2916 \nQ 2900 3119 2900 3481 \nQ 2900 3844 2670 4047 \nQ 2441 4250 2034 4250 \nQ 1625 4250 1398 4047 \nQ 1172 3844 1172 3481 \nz\n\" id=\"DejaVuSans-38\" transform=\"scale(0.015625)\"/>\n       </defs>\n       <use xlink:href=\"#DejaVuSans-38\"/>\n       <use x=\"63.623047\" xlink:href=\"#DejaVuSans-30\"/>\n       <use x=\"127.246094\" xlink:href=\"#DejaVuSans-30\"/>\n      </g>\n     </g>\n    </g>\n    <g id=\"ytick_6\">\n     <g id=\"line2d_12\">\n      <g>\n       <use style=\"stroke:#000000;stroke-width:0.8;\" x=\"39.65\" xlink:href=\"#m5ed315128c\" y=\"35.452956\"/>\n      </g>\n     </g>\n     <g id=\"text_12\">\n      <!-- 1000 -->\n      <g transform=\"translate(7.2 39.252175)scale(0.1 -0.1)\">\n       <use xlink:href=\"#DejaVuSans-31\"/>\n       <use x=\"63.623047\" xlink:href=\"#DejaVuSans-30\"/>\n       <use x=\"127.246094\" xlink:href=\"#DejaVuSans-30\"/>\n       <use x=\"190.869141\" xlink:href=\"#DejaVuSans-30\"/>\n      </g>\n     </g>\n    </g>\n   </g>\n   <g id=\"patch_53\">\n    <path d=\"M 39.65 296.397656 \nL 39.65 24.597656 \n\" style=\"fill:none;stroke:#000000;stroke-linecap:square;stroke-linejoin:miter;stroke-width:0.8;\"/>\n   </g>\n   <g id=\"patch_54\">\n    <path d=\"M 486.05 296.397656 \nL 486.05 24.597656 \n\" style=\"fill:none;stroke:#000000;stroke-linecap:square;stroke-linejoin:miter;stroke-width:0.8;\"/>\n   </g>\n   <g id=\"patch_55\">\n    <path d=\"M 39.65 296.397656 \nL 486.05 296.397656 \n\" style=\"fill:none;stroke:#000000;stroke-linecap:square;stroke-linejoin:miter;stroke-width:0.8;\"/>\n   </g>\n   <g id=\"patch_56\">\n    <path d=\"M 39.65 24.597656 \nL 486.05 24.597656 \n\" style=\"fill:none;stroke:#000000;stroke-linecap:square;stroke-linejoin:miter;stroke-width:0.8;\"/>\n   </g>\n   <g id=\"text_13\">\n    <!-- Answer Tokenized Length -->\n    <g transform=\"translate(167.860156 18.597656)scale(0.15 -0.15)\">\n     <defs>\n      <path d=\"M 2188 4044 \nL 1331 1722 \nL 3047 1722 \nL 2188 4044 \nz\nM 1831 4666 \nL 2547 4666 \nL 4325 0 \nL 3669 0 \nL 3244 1197 \nL 1141 1197 \nL 716 0 \nL 50 0 \nL 1831 4666 \nz\n\" id=\"DejaVuSans-41\" transform=\"scale(0.015625)\"/>\n      <path d=\"M 3513 2113 \nL 3513 0 \nL 2938 0 \nL 2938 2094 \nQ 2938 2591 2744 2837 \nQ 2550 3084 2163 3084 \nQ 1697 3084 1428 2787 \nQ 1159 2491 1159 1978 \nL 1159 0 \nL 581 0 \nL 581 3500 \nL 1159 3500 \nL 1159 2956 \nQ 1366 3272 1645 3428 \nQ 1925 3584 2291 3584 \nQ 2894 3584 3203 3211 \nQ 3513 2838 3513 2113 \nz\n\" id=\"DejaVuSans-6e\" transform=\"scale(0.015625)\"/>\n      <path d=\"M 2834 3397 \nL 2834 2853 \nQ 2591 2978 2328 3040 \nQ 2066 3103 1784 3103 \nQ 1356 3103 1142 2972 \nQ 928 2841 928 2578 \nQ 928 2378 1081 2264 \nQ 1234 2150 1697 2047 \nL 1894 2003 \nQ 2506 1872 2764 1633 \nQ 3022 1394 3022 966 \nQ 3022 478 2636 193 \nQ 2250 -91 1575 -91 \nQ 1294 -91 989 -36 \nQ 684 19 347 128 \nL 347 722 \nQ 666 556 975 473 \nQ 1284 391 1588 391 \nQ 1994 391 2212 530 \nQ 2431 669 2431 922 \nQ 2431 1156 2273 1281 \nQ 2116 1406 1581 1522 \nL 1381 1569 \nQ 847 1681 609 1914 \nQ 372 2147 372 2553 \nQ 372 3047 722 3315 \nQ 1072 3584 1716 3584 \nQ 2034 3584 2315 3537 \nQ 2597 3491 2834 3397 \nz\n\" id=\"DejaVuSans-73\" transform=\"scale(0.015625)\"/>\n      <path d=\"M 269 3500 \nL 844 3500 \nL 1563 769 \nL 2278 3500 \nL 2956 3500 \nL 3675 769 \nL 4391 3500 \nL 4966 3500 \nL 4050 0 \nL 3372 0 \nL 2619 2869 \nL 1863 0 \nL 1184 0 \nL 269 3500 \nz\n\" id=\"DejaVuSans-77\" transform=\"scale(0.015625)\"/>\n      <path d=\"M 3597 1894 \nL 3597 1613 \nL 953 1613 \nQ 991 1019 1311 708 \nQ 1631 397 2203 397 \nQ 2534 397 2845 478 \nQ 3156 559 3463 722 \nL 3463 178 \nQ 3153 47 2828 -22 \nQ 2503 -91 2169 -91 \nQ 1331 -91 842 396 \nQ 353 884 353 1716 \nQ 353 2575 817 3079 \nQ 1281 3584 2069 3584 \nQ 2775 3584 3186 3129 \nQ 3597 2675 3597 1894 \nz\nM 3022 2063 \nQ 3016 2534 2758 2815 \nQ 2500 3097 2075 3097 \nQ 1594 3097 1305 2825 \nQ 1016 2553 972 2059 \nL 3022 2063 \nz\n\" id=\"DejaVuSans-65\" transform=\"scale(0.015625)\"/>\n      <path d=\"M 2631 2963 \nQ 2534 3019 2420 3045 \nQ 2306 3072 2169 3072 \nQ 1681 3072 1420 2755 \nQ 1159 2438 1159 1844 \nL 1159 0 \nL 581 0 \nL 581 3500 \nL 1159 3500 \nL 1159 2956 \nQ 1341 3275 1631 3429 \nQ 1922 3584 2338 3584 \nQ 2397 3584 2469 3576 \nQ 2541 3569 2628 3553 \nL 2631 2963 \nz\n\" id=\"DejaVuSans-72\" transform=\"scale(0.015625)\"/>\n      <path id=\"DejaVuSans-20\" transform=\"scale(0.015625)\"/>\n      <path d=\"M -19 4666 \nL 3928 4666 \nL 3928 4134 \nL 2272 4134 \nL 2272 0 \nL 1638 0 \nL 1638 4134 \nL -19 4134 \nL -19 4666 \nz\n\" id=\"DejaVuSans-54\" transform=\"scale(0.015625)\"/>\n      <path d=\"M 1959 3097 \nQ 1497 3097 1228 2736 \nQ 959 2375 959 1747 \nQ 959 1119 1226 758 \nQ 1494 397 1959 397 \nQ 2419 397 2687 759 \nQ 2956 1122 2956 1747 \nQ 2956 2369 2687 2733 \nQ 2419 3097 1959 3097 \nz\nM 1959 3584 \nQ 2709 3584 3137 3096 \nQ 3566 2609 3566 1747 \nQ 3566 888 3137 398 \nQ 2709 -91 1959 -91 \nQ 1206 -91 779 398 \nQ 353 888 353 1747 \nQ 353 2609 779 3096 \nQ 1206 3584 1959 3584 \nz\n\" id=\"DejaVuSans-6f\" transform=\"scale(0.015625)\"/>\n      <path d=\"M 581 4863 \nL 1159 4863 \nL 1159 1991 \nL 2875 3500 \nL 3609 3500 \nL 1753 1863 \nL 3688 0 \nL 2938 0 \nL 1159 1709 \nL 1159 0 \nL 581 0 \nL 581 4863 \nz\n\" id=\"DejaVuSans-6b\" transform=\"scale(0.015625)\"/>\n      <path d=\"M 603 3500 \nL 1178 3500 \nL 1178 0 \nL 603 0 \nL 603 3500 \nz\nM 603 4863 \nL 1178 4863 \nL 1178 4134 \nL 603 4134 \nL 603 4863 \nz\n\" id=\"DejaVuSans-69\" transform=\"scale(0.015625)\"/>\n      <path d=\"M 353 3500 \nL 3084 3500 \nL 3084 2975 \nL 922 459 \nL 3084 459 \nL 3084 0 \nL 275 0 \nL 275 525 \nL 2438 3041 \nL 353 3041 \nL 353 3500 \nz\n\" id=\"DejaVuSans-7a\" transform=\"scale(0.015625)\"/>\n      <path d=\"M 2906 2969 \nL 2906 4863 \nL 3481 4863 \nL 3481 0 \nL 2906 0 \nL 2906 525 \nQ 2725 213 2448 61 \nQ 2172 -91 1784 -91 \nQ 1150 -91 751 415 \nQ 353 922 353 1747 \nQ 353 2572 751 3078 \nQ 1150 3584 1784 3584 \nQ 2172 3584 2448 3432 \nQ 2725 3281 2906 2969 \nz\nM 947 1747 \nQ 947 1113 1208 752 \nQ 1469 391 1925 391 \nQ 2381 391 2643 752 \nQ 2906 1113 2906 1747 \nQ 2906 2381 2643 2742 \nQ 2381 3103 1925 3103 \nQ 1469 3103 1208 2742 \nQ 947 2381 947 1747 \nz\n\" id=\"DejaVuSans-64\" transform=\"scale(0.015625)\"/>\n      <path d=\"M 628 4666 \nL 1259 4666 \nL 1259 531 \nL 3531 531 \nL 3531 0 \nL 628 0 \nL 628 4666 \nz\n\" id=\"DejaVuSans-4c\" transform=\"scale(0.015625)\"/>\n      <path d=\"M 2906 1791 \nQ 2906 2416 2648 2759 \nQ 2391 3103 1925 3103 \nQ 1463 3103 1205 2759 \nQ 947 2416 947 1791 \nQ 947 1169 1205 825 \nQ 1463 481 1925 481 \nQ 2391 481 2648 825 \nQ 2906 1169 2906 1791 \nz\nM 3481 434 \nQ 3481 -459 3084 -895 \nQ 2688 -1331 1869 -1331 \nQ 1566 -1331 1297 -1286 \nQ 1028 -1241 775 -1147 \nL 775 -588 \nQ 1028 -725 1275 -790 \nQ 1522 -856 1778 -856 \nQ 2344 -856 2625 -561 \nQ 2906 -266 2906 331 \nL 2906 616 \nQ 2728 306 2450 153 \nQ 2172 0 1784 0 \nQ 1141 0 747 490 \nQ 353 981 353 1791 \nQ 353 2603 747 3093 \nQ 1141 3584 1784 3584 \nQ 2172 3584 2450 3431 \nQ 2728 3278 2906 2969 \nL 2906 3500 \nL 3481 3500 \nL 3481 434 \nz\n\" id=\"DejaVuSans-67\" transform=\"scale(0.015625)\"/>\n      <path d=\"M 1172 4494 \nL 1172 3500 \nL 2356 3500 \nL 2356 3053 \nL 1172 3053 \nL 1172 1153 \nQ 1172 725 1289 603 \nQ 1406 481 1766 481 \nL 2356 481 \nL 2356 0 \nL 1766 0 \nQ 1100 0 847 248 \nQ 594 497 594 1153 \nL 594 3053 \nL 172 3053 \nL 172 3500 \nL 594 3500 \nL 594 4494 \nL 1172 4494 \nz\n\" id=\"DejaVuSans-74\" transform=\"scale(0.015625)\"/>\n      <path d=\"M 3513 2113 \nL 3513 0 \nL 2938 0 \nL 2938 2094 \nQ 2938 2591 2744 2837 \nQ 2550 3084 2163 3084 \nQ 1697 3084 1428 2787 \nQ 1159 2491 1159 1978 \nL 1159 0 \nL 581 0 \nL 581 4863 \nL 1159 4863 \nL 1159 2956 \nQ 1366 3272 1645 3428 \nQ 1925 3584 2291 3584 \nQ 2894 3584 3203 3211 \nQ 3513 2838 3513 2113 \nz\n\" id=\"DejaVuSans-68\" transform=\"scale(0.015625)\"/>\n     </defs>\n     <use xlink:href=\"#DejaVuSans-41\"/>\n     <use x=\"68.408203\" xlink:href=\"#DejaVuSans-6e\"/>\n     <use x=\"131.787109\" xlink:href=\"#DejaVuSans-73\"/>\n     <use x=\"183.886719\" xlink:href=\"#DejaVuSans-77\"/>\n     <use x=\"265.673828\" xlink:href=\"#DejaVuSans-65\"/>\n     <use x=\"327.197266\" xlink:href=\"#DejaVuSans-72\"/>\n     <use x=\"368.310547\" xlink:href=\"#DejaVuSans-20\"/>\n     <use x=\"400.097656\" xlink:href=\"#DejaVuSans-54\"/>\n     <use x=\"444.181641\" xlink:href=\"#DejaVuSans-6f\"/>\n     <use x=\"505.363281\" xlink:href=\"#DejaVuSans-6b\"/>\n     <use x=\"559.648438\" xlink:href=\"#DejaVuSans-65\"/>\n     <use x=\"621.171875\" xlink:href=\"#DejaVuSans-6e\"/>\n     <use x=\"684.550781\" xlink:href=\"#DejaVuSans-69\"/>\n     <use x=\"712.333984\" xlink:href=\"#DejaVuSans-7a\"/>\n     <use x=\"764.824219\" xlink:href=\"#DejaVuSans-65\"/>\n     <use x=\"826.347656\" xlink:href=\"#DejaVuSans-64\"/>\n     <use x=\"889.824219\" xlink:href=\"#DejaVuSans-20\"/>\n     <use x=\"921.611328\" xlink:href=\"#DejaVuSans-4c\"/>\n     <use x=\"975.574219\" xlink:href=\"#DejaVuSans-65\"/>\n     <use x=\"1037.097656\" xlink:href=\"#DejaVuSans-6e\"/>\n     <use x=\"1100.476562\" xlink:href=\"#DejaVuSans-67\"/>\n     <use x=\"1163.953125\" xlink:href=\"#DejaVuSans-74\"/>\n     <use x=\"1203.162109\" xlink:href=\"#DejaVuSans-68\"/>\n    </g>\n   </g>\n  </g>\n </g>\n <defs>\n  <clipPath id=\"p080eb27a55\">\n   <rect height=\"271.8\" width=\"446.4\" x=\"39.65\" y=\"24.597656\"/>\n  </clipPath>\n </defs>\n</svg>\n",
      "image/png": "[encoded data removed]"
     },
     "metadata": {
      "needs_background": "light"
     }
    }
   ],
   "metadata": {}
  },
  {
   "cell_type": "code",
   "execution_count": 24,
   "source": [
    "unk_ans_count = 0\n",
    "\n",
    "for span in ans_span : \n",
    "    ids = tokenizer.encode(span)\n",
    "    if unk_id in ids : \n",
    "        unk_ans_count += 1\n",
    "\n",
    "print('Size of answers which has unk token : %d' %unk_ans_count)"
   ],
   "outputs": [
    {
     "output_type": "stream",
     "name": "stdout",
     "text": [
      "Size of answers which has unk token : 68\n"
     ]
    }
   ],
   "metadata": {}
  },
  {
   "cell_type": "code",
   "execution_count": 26,
   "source": [
    "ans_highlited = ''\n",
    "\n",
    "for i in tqdm(range(train_size)) :\n",
    "    span = ans_span[i]\n",
    "    \n",
    "    flag = False\n",
    "    for ch in span :\n",
    "        if ch == ' ' :\n",
    "            continue\n",
    "        ids = tokenizer.convert_tokens_to_ids(ch)\n",
    "        if ids == unk_id :\n",
    "            span = word_highligt_html(span, ch, 'black', '#96C4ED')\n",
    "            flag = True\n",
    "    \n",
    "    if flag == True :\n",
    "        ans_highlited += str(i) + ' - ' + span + '<br/>'"
   ],
   "outputs": [
    {
     "output_type": "stream",
     "name": "stderr",
     "text": [
      "100%|██████████| 3952/3952 [00:00<00:00, 149754.62it/s]\n"
     ]
    }
   ],
   "metadata": {}
  },
  {
   "cell_type": "code",
   "execution_count": 27,
   "source": [
    "HTML(ans_highlited)"
   ],
   "outputs": [
    {
     "output_type": "execute_result",
     "data": {
      "text/plain": [
       "<IPython.core.display.HTML object>"
      ],
      "text/html": [
       "30 - 우전왕(<span style=\"color: black; background-color:#96C4ED\">優</span><span style=\"color: black; background-color:#96C4ED\">塡</span>王)식 착의법<br/>89 - <span style=\"color: black; background-color:#96C4ED\">벵</span>골 분할령<br/>136 - ‘전의식’(前意<span style=\"color: black; background-color:#96C4ED\">識</span>)<br/>218 - <span style=\"color: black; background-color:#96C4ED\">햣</span>켄 해자<br/>228 - 나구모 주이치(南雲<span style=\"color: black; background-color:#96C4ED\">忠</span>一) 중장<br/>254 - <span style=\"color: black; background-color:#96C4ED\">괭</span>이갈매기<br/>269 - 노릉(<span style=\"color: black; background-color:#96C4ED\">魯</span><span style=\"color: black; background-color:#96C4ED\">陵</span>)<br/>363 - 탑신(<span style=\"color: black; background-color:#96C4ED\">塔</span>身)<br/>433 - <span style=\"color: black; background-color:#96C4ED\">쾰</span>른 대주교(안노 2세)<br/>525 - 편도(<span style=\"color: black; background-color:#96C4ED\">片</span><span style=\"color: black; background-color:#96C4ED\">刀</span>)<br/>544 - 최근의 반도의 경제사범 <span style=\"color: black; background-color:#96C4ED\"><span style=\"color: black; background-color:#96C4ED\">­</span></span>국민의 신경제 윤리의 파악을 위하여<span style=\"color: black; background-color:#96C4ED\"><span style=\"color: black; background-color:#96C4ED\">­</span></span><br/>574 - 도스토<span style=\"color: black; background-color:#96C4ED\">옙</span>스키가 침대 누워 구술한 것을 아내 안나가 속기 하여<br/>717 - 아버스<span style=\"color: black; background-color:#96C4ED\">놋</span><br/>733 - 진리(<span style=\"color: black; background-color:#96C4ED\">陳</span>理)<br/>987 - 군의(軍<span style=\"color: black; background-color:#96C4ED\">毅</span>)<br/>994 - 석총(<span style=\"color: black; background-color:#96C4ED\">釋</span><span style=\"color: black; background-color:#96C4ED\">總</span>)<br/>1030 - ‘<span style=\"color: black; background-color:#96C4ED\">∧</span>’ 모양<br/>1055 - <span style=\"color: black; background-color:#96C4ED\">맬</span>컴 글레이저<br/>1074 - 안휘도독 장쉰(張<span style=\"color: black; background-color:#96C4ED\">勳</span>)<br/>1144 - 파울 그레브너(Paul Gr<span style=\"color: black; background-color:#96C4ED\">ä</span>bner) SS대위<br/>1193 - 송공사(<span style=\"color: black; background-color:#96C4ED\">宋</span>公<span style=\"color: black; background-color:#96C4ED\">祠</span>)<br/>1210 - 가리발도 니<span style=\"color: black; background-color:#96C4ED\">촐</span>라<br/>1386 - 정기필(鄭<span style=\"color: black; background-color:#96C4ED\">夔</span><span style=\"color: black; background-color:#96C4ED\">弼</span>)<br/>1396 - '해련지탑(海<span style=\"color: black; background-color:#96C4ED\">蓮</span>之<span style=\"color: black; background-color:#96C4ED\">塔</span>)'<br/>1466 - “나리타처럼 되지 말자(成田の<span style=\"color: black; background-color:#96C4ED\"><span style=\"color: black; background-color:#96C4ED\"><span style=\"color: black; background-color:#96C4ED\">よ</span></span></span><span style=\"color: black; background-color:#96C4ED\"><span style=\"color: black; background-color:#96C4ED\"><span style=\"color: black; background-color:#96C4ED\">う</span></span></span><span style=\"color: black; background-color:#96C4ED\"><span style=\"color: black; background-color:#96C4ED\">に</span></span><span style=\"color: black; background-color:#96C4ED\"><span style=\"color: black; background-color:#96C4ED\">な</span></span><span style=\"color: black; background-color:#96C4ED\">ら</span><span style=\"color: black; background-color:#96C4ED\"><span style=\"color: black; background-color:#96C4ED\">な</span></span><span style=\"color: black; background-color:#96C4ED\">い</span><span style=\"color: black; background-color:#96C4ED\"><span style=\"color: black; background-color:#96C4ED\"><span style=\"color: black; background-color:#96C4ED\">よ</span></span></span><span style=\"color: black; background-color:#96C4ED\"><span style=\"color: black; background-color:#96C4ED\"><span style=\"color: black; background-color:#96C4ED\">う</span></span></span><span style=\"color: black; background-color:#96C4ED\"><span style=\"color: black; background-color:#96C4ED\">に</span></span><span style=\"color: black; background-color:#96C4ED\">し</span><span style=\"color: black; background-color:#96C4ED\"><span style=\"color: black; background-color:#96C4ED\"><span style=\"color: black; background-color:#96C4ED\">よ</span></span></span><span style=\"color: black; background-color:#96C4ED\"><span style=\"color: black; background-color:#96C4ED\"><span style=\"color: black; background-color:#96C4ED\">う</span></span></span> )”<br/>1509 - \"난생 단공류, 부분할란(部分<span style=\"color: black; background-color:#96C4ED\">割</span><span style=\"color: black; background-color:#96C4ED\">卵</span>)\"<br/>1517 - <span style=\"color: black; background-color:#96C4ED\">퓌</span>스콘<br/>1606 - 마라(<span style=\"color: black; background-color:#96C4ED\">麻</span><span style=\"color: black; background-color:#96C4ED\">辣</span>)<br/>1654 - 왕(<span style=\"color: black; background-color:#96C4ED\">汪</span>)씨 가족<br/>1723 - <span style=\"color: black; background-color:#96C4ED\">탯</span>줄(이툼부)<br/>1724 - 순자격식(<span style=\"color: black; background-color:#96C4ED\">循</span>資<span style=\"color: black; background-color:#96C4ED\">格</span>式)<br/>1768 - <span style=\"color: black; background-color:#96C4ED\">웡</span>원하오<br/>1784 - 히사카 역(日<span style=\"color: black; background-color:#96C4ED\">坂</span><span style=\"color: black; background-color:#96C4ED\">駅</span>)<br/>2019 - ‘광해’(<span style=\"color: black; background-color:#96C4ED\">鉱</span>害)<br/>2023 - 알렉산더 <span style=\"color: black; background-color:#96C4ED\">겜</span>린<br/>2116 - 솔레<span style=\"color: black; background-color:#96C4ED\">놉</span>신<br/>2121 - 장엄(<span style=\"color: black; background-color:#96C4ED\">蔣</span><span style=\"color: black; background-color:#96C4ED\">儼</span>)<br/>2122 - 베들레<span style=\"color: black; background-color:#96C4ED\">헴</span>의 한 동굴<br/>2127 - 텐류(<span style=\"color: black; background-color:#96C4ED\">流</span>)의 실증주의<br/>2154 - 조왕 천(<span style=\"color: black; background-color:#96C4ED\">遷</span>)<br/>2173 - 한독당의 김학규(金學<span style=\"color: black; background-color:#96C4ED\">奎</span>)<br/>2209 - 잉그보르그 <span style=\"color: black; background-color:#96C4ED\">벵</span>츠도터<br/>2392 - 매개념(<span style=\"color: black; background-color:#96C4ED\">媒</span><span style=\"color: black; background-color:#96C4ED\">槪</span><span style=\"color: black; background-color:#96C4ED\">念</span>)<br/>2507 - 부여현감(<span style=\"color: black; background-color:#96C4ED\">扶</span><span style=\"color: black; background-color:#96C4ED\">餘</span><span style=\"color: black; background-color:#96C4ED\">縣</span><span style=\"color: black; background-color:#96C4ED\">監</span>)<br/>2593 - 장자 유비(<span style=\"color: black; background-color:#96C4ED\">劉</span><span style=\"color: black; background-color:#96C4ED\">肥</span>)<br/>2734 - 동생(<span style=\"color: black; background-color:#96C4ED\">冬</span><span style=\"color: black; background-color:#96C4ED\">牲</span>)<br/>2856 - 화청지(華淸<span style=\"color: black; background-color:#96C4ED\">池</span>)<br/>2951 - 애혼성(愛<span style=\"color: black; background-color:#96C4ED\">琿</span>城, 아이훈 성)<br/>3078 - 우무학당(<span style=\"color: black; background-color:#96C4ED\">郵</span>務學堂)<br/>3094 - <span style=\"color: black; background-color:#96C4ED\">왝</span>시 고든<br/>3104 - 제단(<span style=\"color: black; background-color:#96C4ED\">祭</span><span style=\"color: black; background-color:#96C4ED\">壇</span>)<br/>3152 - 마드리드의 에스파<span style=\"color: black; background-color:#96C4ED\">뇰</span> 극장<br/>3184 - 고헤이(<span style=\"color: black; background-color:#96C4ED\">康</span>平) 5년(1062년)<br/>3257 - 문장대(文<span style=\"color: black; background-color:#96C4ED\">藏</span><span style=\"color: black; background-color:#96C4ED\">臺</span>)<br/>3280 - 27 <span style=\"color: black; background-color:#96C4ED\">°</span> C<br/>3319 - 조광(<span style=\"color: black; background-color:#96C4ED\">趙</span><span style=\"color: black; background-color:#96C4ED\">匡</span>)<br/>3335 - 오<span style=\"color: black; background-color:#96C4ED\">툉</span>의 리첼다<br/>3369 - 흥륜사(<span style=\"color: black; background-color:#96C4ED\">興</span><span style=\"color: black; background-color:#96C4ED\">輪</span>寺)의 승려 법척<br/>3381 - <span style=\"color: black; background-color:#96C4ED\">쾰</span>른<br/>3448 - <span style=\"color: black; background-color:#96C4ED\">횃</span>불<br/>3467 - 낭맹(<span style=\"color: black; background-color:#96C4ED\">狼</span><span style=\"color: black; background-color:#96C4ED\">孟</span>)<br/>3552 - <span style=\"color: black; background-color:#96C4ED\">귈</span>리엘모<br/>3575 - 하라타 진지(原田<span style=\"color: black; background-color:#96C4ED\">甚</span><span style=\"color: black; background-color:#96C4ED\">次</span>)<br/>3612 - 뉘마 <span style=\"color: black; background-color:#96C4ED\">퓌</span>스텔 드 쿨라주<br/>3641 - 청나라의 다<span style=\"color: black; background-color:#96C4ED\">롄</span><br/>3683 - 뮤코<span style=\"color: black; background-color:#96C4ED\">펩</span>티드<br/>3757 - USS 사라토가 호에서 조지 로<span style=\"color: black; background-color:#96C4ED\">엡</span>이 흑인 수병 해럴드 J. 맨스필드를 총으로 쏘아 살해한 사건<br/>3801 - 여초(<span style=\"color: black; background-color:#96C4ED\">呂</span><span style=\"color: black; background-color:#96C4ED\">超</span>)<br/>3946 - 연태조(<span style=\"color: black; background-color:#96C4ED\">淵</span>太<span style=\"color: black; background-color:#96C4ED\">祚</span>)<br/>"
      ]
     },
     "metadata": {},
     "execution_count": 27
    }
   ],
   "metadata": {}
  },
  {
   "cell_type": "markdown",
   "source": [
    "## Context & Length"
   ],
   "metadata": {}
  },
  {
   "cell_type": "code",
   "execution_count": 28,
   "source": [
    "contexts = []\n",
    "\n",
    "for data in train_data :\n",
    "    con = data['context']\n",
    "    contexts.append(con)"
   ],
   "outputs": [],
   "metadata": {}
  },
  {
   "cell_type": "code",
   "execution_count": 29,
   "source": [
    "def span_highligt_html(txt, start, end, color):\n",
    "    txt = txt[:start] + f'<span style=\"color: {color}\">{txt[start:end]}</span>' + txt[end:] \n",
    "    return txt"
   ],
   "outputs": [],
   "metadata": {}
  },
  {
   "cell_type": "code",
   "execution_count": 30,
   "source": [
    "def word_highligt_html(txt, word, highlight):\n",
    "    txt = txt.replace(word, f'<span style=\"background-color:{highlight}\">{word}</span>')\n",
    "    return txt"
   ],
   "outputs": [],
   "metadata": {}
  },
  {
   "cell_type": "code",
   "execution_count": 31,
   "source": [
    "def context_highligt_html(context, ans_word, ans_pos, color, highlit) :\n",
    "    start = ans_pos\n",
    "    end = ans_pos + len(ans_word)\n",
    "    \n",
    "    context = span_highligt_html(context, start, end, color)\n",
    "    context = word_highligt_html(context, ans_word, highlit)\n",
    "    \n",
    "    return context"
   ],
   "outputs": [],
   "metadata": {}
  },
  {
   "cell_type": "code",
   "execution_count": 32,
   "source": [
    "test1 = context_highligt_html(contexts[0], ans_span[0], ans_pos[0], 'white' , '#96C4ED')"
   ],
   "outputs": [],
   "metadata": {}
  },
  {
   "cell_type": "code",
   "execution_count": 33,
   "source": [
    "HTML(test1)"
   ],
   "outputs": [
    {
     "output_type": "execute_result",
     "data": {
      "text/plain": [
       "<IPython.core.display.HTML object>"
      ],
      "text/html": [
       "미국 상의원 또는 미국 상원(United States Senate)은 양원제인 미국 의회의 상원이다.\\n\\n미국 부통령이 상원의장이 된다. 각 주당 2명의 상원의원이 선출되어 100명의 상원의원으로 구성되어 있다. 임기는 6년이며, 2년마다 50개주 중 1/3씩 상원의원을 새로 선출하여 연방에 보낸다.\\n\\n미국 상원은 미국 <span style=\"background-color:#96C4ED\">하원</span>과는 다르게 미국 대통령을 수반으로 하는 미국 연방 행정부에 각종 동의를 하는 기관이다. <span style=\"color: white\"><span style=\"background-color:#96C4ED\">하원</span></span>이 세금과 경제에 대한 권한, 대통령을 포함한 대다수의 공무원을 파면할 권한을 갖고 있는 국민을 대표하는 기관인 반면 상원은 미국의 주를 대표한다. 즉 캘리포니아주, 일리노이주 같이 주 정부와 주 의회를 대표하는 기관이다. 그로 인하여 군대의 파병, 관료의 임명에 대한 동의, 외국 조약에 대한 승인 등 신속을 요하는 권한은 모두 상원에게만 있다. 그리고 <span style=\"background-color:#96C4ED\">하원</span>에 대한 견제 역할(<span style=\"background-color:#96C4ED\">하원</span>의 법안을 거부할 권한 등)을 담당한다. 2년의 임기로 인하여 급진적일 수밖에 없는 <span style=\"background-color:#96C4ED\">하원</span>은 지나치게 급진적인 법안을 만들기 쉽다. 대표적인 예로 건강보험 개혁 당시 <span style=\"background-color:#96C4ED\">하원</span>이 미국 연방 행정부에게 퍼블릭 옵션(공공건강보험기관)의 조항이 있는 반면 상원의 경우 <span style=\"background-color:#96C4ED\">하원</span>안이 지나치게 세금이 많이 든다는 이유로 퍼블릭 옵션 조항을 제외하고 비영리건강보험기관이나 보험회사가 담당하도록 한 것이다. 이 경우처럼 상원은 <span style=\"background-color:#96C4ED\">하원</span>이나 내각책임제가 빠지기 쉬운 국가들의 국회처럼 걸핏하면 발생하는 의회의 비정상적인 사태를 방지하는 기관이다. 상원은 급박한 처리사항의 경우가 아니면 법안을 먼저 내는 경우가 드물고 <span style=\"background-color:#96C4ED\">하원</span>이 만든 법안을 수정하여 다시 <span style=\"background-color:#96C4ED\">하원</span>에 되돌려보낸다. 이러한 방식으로 단원제가 빠지기 쉬운 함정을 미리 방지하는 것이다.날짜=2017-02-05"
      ]
     },
     "metadata": {},
     "execution_count": 33
    }
   ],
   "metadata": {}
  },
  {
   "cell_type": "code",
   "execution_count": 34,
   "source": [
    "test2 = context_highligt_html(contexts[350], ans_span[350], ans_pos[350], 'white' , '#96C4ED')"
   ],
   "outputs": [],
   "metadata": {}
  },
  {
   "cell_type": "code",
   "execution_count": 35,
   "source": [
    "HTML(test2)"
   ],
   "outputs": [
    {
     "output_type": "execute_result",
     "data": {
      "text/plain": [
       "<IPython.core.display.HTML object>"
      ],
      "text/html": [
       "향로란 절에서 마음의 때를 씻는다는 의미의 향을 피우는데 사용하는 도구이다.\\n\\n이 향로는 높이 40.1cm, 입 지름 30cm의 크기로 받침, <span style=\"background-color:#96C4ED\">몸체</span>, 입 3부분으로 되어있다. 입은 수평으로 넓게 퍼진 테를 가진 전이 있으며, 그 전을 구슬 무늬로 장식하고 연꽃과 덩굴 무늬를 새기고 은을 입혔다. <span style=\"color: white\"><span style=\"background-color:#96C4ED\">몸체</span></span>에는 대칭되는 위치에 꽃으로 창을 만들고 그 안에 용과 봉황을 세밀하게 은입사하였다. 남은 공간에는 갈대와 연꽃을 새기고 위에는 기러기를 새기고, 밑에 오리를 새겨 은을 입혔다.\\n\\n나팔형 받침은 위의 가장자리를 쌍선으로 굵게 표시하고, 위로 오르면서 덩굴무늬를, 하단에는 풀무늬를, 굽에는 꽃무늬를 은입사하였다. 은입사 문양은 모두 뛰어난 솜씨를 보여줄 뿐아니라 회화적 가치도 아주 높다. 받침 굽에는 34자의 글씨가 남아 있어, 이 향로가 충렬왕 15년(1289)에 제작되어 개풍군 흥왕사에 있었던 것임을 알려준다.\\n\\n세련된 은입사 기법과 연대를 알 수 있다는 점과 잘 사용하지 않던 용과 봉황을 문양으로 사용한 점은 이 향로의 가치를 높여 준다."
      ]
     },
     "metadata": {},
     "execution_count": 35
    }
   ],
   "metadata": {}
  },
  {
   "cell_type": "code",
   "execution_count": 36,
   "source": [
    "multi_count = 0\n",
    "\n",
    "for i in range(train_size) :\n",
    "    con = contexts[i]\n",
    "    span = ans_span[i]\n",
    "    span_list = re.findall(span, con)\n",
    "    \n",
    "    if len(span_list) > 1 :\n",
    "        multi_count += 1\n",
    "    "
   ],
   "outputs": [],
   "metadata": {}
  },
  {
   "cell_type": "code",
   "execution_count": 37,
   "source": [
    "print('Size of answer if appeared multiple times in context : %d' %multi_count)"
   ],
   "outputs": [
    {
     "output_type": "stream",
     "name": "stdout",
     "text": [
      "Size of answer if appeared multiple times in context : 1310\n"
     ]
    }
   ],
   "metadata": {}
  },
  {
   "cell_type": "markdown",
   "source": [
    "## Context UNK Token"
   ],
   "metadata": {}
  },
  {
   "cell_type": "code",
   "execution_count": 38,
   "source": [
    "print('Original Text \\n')\n",
    "print(contexts[0])"
   ],
   "outputs": [
    {
     "output_type": "stream",
     "name": "stdout",
     "text": [
      "Original Text \n",
      "\n",
      "미국 상의원 또는 미국 상원(United States Senate)은 양원제인 미국 의회의 상원이다.\\n\\n미국 부통령이 상원의장이 된다. 각 주당 2명의 상원의원이 선출되어 100명의 상원의원으로 구성되어 있다. 임기는 6년이며, 2년마다 50개주 중 1/3씩 상원의원을 새로 선출하여 연방에 보낸다.\\n\\n미국 상원은 미국 하원과는 다르게 미국 대통령을 수반으로 하는 미국 연방 행정부에 각종 동의를 하는 기관이다. 하원이 세금과 경제에 대한 권한, 대통령을 포함한 대다수의 공무원을 파면할 권한을 갖고 있는 국민을 대표하는 기관인 반면 상원은 미국의 주를 대표한다. 즉 캘리포니아주, 일리노이주 같이 주 정부와 주 의회를 대표하는 기관이다. 그로 인하여 군대의 파병, 관료의 임명에 대한 동의, 외국 조약에 대한 승인 등 신속을 요하는 권한은 모두 상원에게만 있다. 그리고 하원에 대한 견제 역할(하원의 법안을 거부할 권한 등)을 담당한다. 2년의 임기로 인하여 급진적일 수밖에 없는 하원은 지나치게 급진적인 법안을 만들기 쉽다. 대표적인 예로 건강보험 개혁 당시 하원이 미국 연방 행정부에게 퍼블릭 옵션(공공건강보험기관)의 조항이 있는 반면 상원의 경우 하원안이 지나치게 세금이 많이 든다는 이유로 퍼블릭 옵션 조항을 제외하고 비영리건강보험기관이나 보험회사가 담당하도록 한 것이다. 이 경우처럼 상원은 하원이나 내각책임제가 빠지기 쉬운 국가들의 국회처럼 걸핏하면 발생하는 의회의 비정상적인 사태를 방지하는 기관이다. 상원은 급박한 처리사항의 경우가 아니면 법안을 먼저 내는 경우가 드물고 하원이 만든 법안을 수정하여 다시 하원에 되돌려보낸다. 이러한 방식으로 단원제가 빠지기 쉬운 함정을 미리 방지하는 것이다.날짜=2017-02-05\n"
     ]
    }
   ],
   "metadata": {}
  },
  {
   "cell_type": "code",
   "execution_count": 39,
   "source": [
    "from nltk.tokenize import word_tokenize"
   ],
   "outputs": [],
   "metadata": {}
  },
  {
   "cell_type": "code",
   "execution_count": 40,
   "source": [
    "unk_tokens = []\n",
    "\n",
    "for i, con in enumerate(tqdm(contexts)) : \n",
    "    con = re.sub(r'\\\\n' , '', con)\n",
    "    word_list = word_tokenize(con)\n",
    "\n",
    "    for word in word_list :\n",
    "        ids_list = tokenizer.encode(word)\n",
    "        if unk_id in ids_list :\n",
    "            unk_tokens.append((i,word))"
   ],
   "outputs": [
    {
     "output_type": "stream",
     "name": "stderr",
     "text": [
      "100%|██████████| 3952/3952 [01:07<00:00, 58.70it/s]\n"
     ]
    }
   ],
   "metadata": {}
  },
  {
   "cell_type": "code",
   "execution_count": 43,
   "source": [
    "print('Size of word which make unk token : %d' %len(unk_tokens))"
   ],
   "outputs": [
    {
     "output_type": "stream",
     "name": "stdout",
     "text": [
      "Size of word which make unk token : 3972\n"
     ]
    }
   ],
   "metadata": {}
  },
  {
   "cell_type": "code",
   "execution_count": 44,
   "source": [
    "for i in range(20,40) :\n",
    "    print(unk_tokens[i])"
   ],
   "outputs": [
    {
     "output_type": "stream",
     "name": "stdout",
     "text": [
      "(13, '李淳鎔')\n",
      "(15, '草日記')\n",
      "(16, '베르됭에서')\n",
      "(16, '베르됭')\n",
      "(16, '베르됭은')\n",
      "(16, '베르됭에서의')\n",
      "(17, '깰')\n",
      "(18, '梅田')\n",
      "(20, '쪼갰고')\n",
      "(20, '恒山')\n",
      "(24, '羽化')\n",
      "(24, '過變態')\n",
      "(24, '前胸腺')\n",
      "(24, '相同器官')\n",
      "(24, '幼期')\n",
      "(24, '若蟲')\n",
      "(26, 'Πάτρα')\n",
      "(26, 'Πάτραι')\n",
      "(30, '素髮')\n",
      "(30, '優塡王')\n"
     ]
    }
   ],
   "metadata": {}
  },
  {
   "cell_type": "markdown",
   "source": [
    "### Korean"
   ],
   "metadata": {}
  },
  {
   "cell_type": "code",
   "execution_count": 45,
   "source": [
    "kor_start_idx = int('AC00', 16)\n",
    "kor_end_idx = int('D7A3', 16)"
   ],
   "outputs": [],
   "metadata": {}
  },
  {
   "cell_type": "code",
   "execution_count": 46,
   "source": [
    "kor_chars = []\n",
    "for i in range(kor_start_idx , kor_end_idx + 1) :\n",
    "    kor_chars.append(chr(i))"
   ],
   "outputs": [],
   "metadata": {}
  },
  {
   "cell_type": "markdown",
   "source": [
    "### Japanese"
   ],
   "metadata": {}
  },
  {
   "cell_type": "code",
   "execution_count": 47,
   "source": [
    "jp_start_idx = int('3040', 16)\n",
    "jp_end_idx = int('30FF', 16)"
   ],
   "outputs": [],
   "metadata": {}
  },
  {
   "cell_type": "code",
   "execution_count": 48,
   "source": [
    "jp_chars = []\n",
    "for i in range(jp_start_idx , jp_end_idx + 1) :\n",
    "    jp_chars.append(chr(i))"
   ],
   "outputs": [],
   "metadata": {}
  },
  {
   "cell_type": "markdown",
   "source": [
    "### Chinese"
   ],
   "metadata": {}
  },
  {
   "cell_type": "code",
   "execution_count": 49,
   "source": [
    "ch_start_idx = int('4E00', 16)\n",
    "ch_end_idx = int('9FFF', 16)"
   ],
   "outputs": [],
   "metadata": {}
  },
  {
   "cell_type": "code",
   "execution_count": 50,
   "source": [
    "ch_chars = []\n",
    "for i in range(ch_start_idx , ch_end_idx + 1) :\n",
    "    ch_chars.append(chr(i))"
   ],
   "outputs": [],
   "metadata": {}
  },
  {
   "cell_type": "code",
   "execution_count": 51,
   "source": [
    "def check_jp(word) :\n",
    "    for ch in word :\n",
    "        if ch not in jp_chars :\n",
    "            return False\n",
    "    return True\n",
    "\n",
    "def check_kr(word) :\n",
    "    for ch in word :\n",
    "        if ch not in kor_chars :\n",
    "            return False\n",
    "    return True\n",
    "\n",
    "def check_ch(word) :\n",
    "    for ch in word :\n",
    "        if ch not in ch_chars :\n",
    "            return False\n",
    "    return True\n"
   ],
   "outputs": [],
   "metadata": {}
  },
  {
   "cell_type": "code",
   "execution_count": 52,
   "source": [
    "def check_unk(word) :\n",
    "    if check_jp(word) :\n",
    "        return 'jp'\n",
    "    elif check_kr(word) :\n",
    "        return 'kr'\n",
    "    elif check_ch(word) :\n",
    "        return 'ch'\n",
    "    else :\n",
    "        return 'unknown'"
   ],
   "outputs": [],
   "metadata": {}
  },
  {
   "cell_type": "code",
   "execution_count": 61,
   "source": [
    "unk_kinds = [check_unk(unk[1]) for unk in unk_tokens]"
   ],
   "outputs": [],
   "metadata": {}
  },
  {
   "cell_type": "code",
   "execution_count": 62,
   "source": [
    "import collections\n",
    "counter = collections.Counter()"
   ],
   "outputs": [],
   "metadata": {}
  },
  {
   "cell_type": "code",
   "execution_count": 63,
   "source": [
    "counter.update(unk_kinds)"
   ],
   "outputs": [],
   "metadata": {}
  },
  {
   "cell_type": "code",
   "execution_count": 64,
   "source": [
    "counter = dict(counter)"
   ],
   "outputs": [],
   "metadata": {}
  },
  {
   "cell_type": "code",
   "execution_count": 65,
   "source": [
    "counter"
   ],
   "outputs": [
    {
     "output_type": "execute_result",
     "data": {
      "text/plain": [
       "{'ch': 2090, 'kr': 1313, 'unknown': 548, 'jp': 21}"
      ]
     },
     "metadata": {},
     "execution_count": 65
    }
   ],
   "metadata": {}
  },
  {
   "cell_type": "code",
   "execution_count": 66,
   "source": [
    "plt.figure(figsize = (8,4))\n",
    "\n",
    "x_list = list(counter.keys())\n",
    "y_list = list(counter.values())\n",
    "\n",
    "plt.title('Counts of words which make unk token', fontsize = 15)\n",
    "plt.bar(x_list, y_list)\n",
    "plt.xticks(fontsize = 12)\n",
    "\n",
    "plt.show()"
   ],
   "outputs": [
    {
     "output_type": "display_data",
     "data": {
      "text/plain": [
       "<Figure size 576x288 with 1 Axes>"
      ],
      "image/svg+xml": "<?xml version=\"1.0\" encoding=\"utf-8\" standalone=\"no\"?>\n<!DOCTYPE svg PUBLIC \"-//W3C//DTD SVG 1.1//EN\"\n  \"http://www.w3.org/Graphics/SVG/1.1/DTD/svg11.dtd\">\n<svg height=\"267.851406pt\" version=\"1.1\" viewBox=\"0 0 493.25 267.851406\" width=\"493.25pt\" xmlns=\"http://www.w3.org/2000/svg\" xmlns:xlink=\"http://www.w3.org/1999/xlink\">\n <metadata>\n  <rdf:RDF xmlns:cc=\"http://creativecommons.org/ns#\" xmlns:dc=\"http://purl.org/dc/elements/1.1/\" xmlns:rdf=\"http://www.w3.org/1999/02/22-rdf-syntax-ns#\">\n   <cc:Work>\n    <dc:type rdf:resource=\"http://purl.org/dc/dcmitype/StillImage\"/>\n    <dc:date>2021-10-20T06:41:47.680409</dc:date>\n    <dc:format>image/svg+xml</dc:format>\n    <dc:creator>\n     <cc:Agent>\n      <dc:title>Matplotlib v3.4.3, https://matplotlib.org/</dc:title>\n     </cc:Agent>\n    </dc:creator>\n   </cc:Work>\n  </rdf:RDF>\n </metadata>\n <defs>\n  <style type=\"text/css\">*{stroke-linecap:butt;stroke-linejoin:round;}</style>\n </defs>\n <g id=\"figure_1\">\n  <g id=\"patch_1\">\n   <path d=\"M 0 267.851406 \nL 493.25 267.851406 \nL 493.25 0 \nL 0 0 \nz\n\" style=\"fill:none;\"/>\n  </g>\n  <g id=\"axes_1\">\n   <g id=\"patch_2\">\n    <path d=\"M 39.65 242.037656 \nL 486.05 242.037656 \nL 486.05 24.597656 \nL 39.65 24.597656 \nz\n\" style=\"fill:#ffffff;\"/>\n   </g>\n   <g id=\"patch_3\">\n    <path clip-path=\"url(#pf3b6bc7de4)\" d=\"M 59.940909 242.037656 \nL 145.376316 242.037656 \nL 145.376316 34.951942 \nL 59.940909 34.951942 \nz\n\" style=\"fill:#1f77b4;\"/>\n   </g>\n   <g id=\"patch_4\">\n    <path clip-path=\"url(#pf3b6bc7de4)\" d=\"M 166.735167 242.037656 \nL 252.170574 242.037656 \nL 252.170574 111.940267 \nL 166.735167 111.940267 \nz\n\" style=\"fill:#1f77b4;\"/>\n   </g>\n   <g id=\"patch_5\">\n    <path clip-path=\"url(#pf3b6bc7de4)\" d=\"M 273.529426 242.037656 \nL 358.964833 242.037656 \nL 358.964833 187.739584 \nL 273.529426 187.739584 \nz\n\" style=\"fill:#1f77b4;\"/>\n   </g>\n   <g id=\"patch_6\">\n    <path clip-path=\"url(#pf3b6bc7de4)\" d=\"M 380.323684 242.037656 \nL 465.759091 242.037656 \nL 465.759091 239.956891 \nL 380.323684 239.956891 \nz\n\" style=\"fill:#1f77b4;\"/>\n   </g>\n   <g id=\"matplotlib.axis_1\">\n    <g id=\"xtick_1\">\n     <g id=\"line2d_1\">\n      <defs>\n       <path d=\"M 0 0 \nL 0 3.5 \n\" id=\"m0529ae18cc\" style=\"stroke:#000000;stroke-width:0.8;\"/>\n      </defs>\n      <g>\n       <use style=\"stroke:#000000;stroke-width:0.8;\" x=\"102.658612\" xlink:href=\"#m0529ae18cc\" y=\"242.037656\"/>\n      </g>\n     </g>\n     <g id=\"text_1\">\n      <!-- ch -->\n      <g transform=\"translate(95.55705 258.155781)scale(0.12 -0.12)\">\n       <defs>\n        <path d=\"M 3122 3366 \nL 3122 2828 \nQ 2878 2963 2633 3030 \nQ 2388 3097 2138 3097 \nQ 1578 3097 1268 2742 \nQ 959 2388 959 1747 \nQ 959 1106 1268 751 \nQ 1578 397 2138 397 \nQ 2388 397 2633 464 \nQ 2878 531 3122 666 \nL 3122 134 \nQ 2881 22 2623 -34 \nQ 2366 -91 2075 -91 \nQ 1284 -91 818 406 \nQ 353 903 353 1747 \nQ 353 2603 823 3093 \nQ 1294 3584 2113 3584 \nQ 2378 3584 2631 3529 \nQ 2884 3475 3122 3366 \nz\n\" id=\"DejaVuSans-63\" transform=\"scale(0.015625)\"/>\n        <path d=\"M 3513 2113 \nL 3513 0 \nL 2938 0 \nL 2938 2094 \nQ 2938 2591 2744 2837 \nQ 2550 3084 2163 3084 \nQ 1697 3084 1428 2787 \nQ 1159 2491 1159 1978 \nL 1159 0 \nL 581 0 \nL 581 4863 \nL 1159 4863 \nL 1159 2956 \nQ 1366 3272 1645 3428 \nQ 1925 3584 2291 3584 \nQ 2894 3584 3203 3211 \nQ 3513 2838 3513 2113 \nz\n\" id=\"DejaVuSans-68\" transform=\"scale(0.015625)\"/>\n       </defs>\n       <use xlink:href=\"#DejaVuSans-63\"/>\n       <use x=\"54.980469\" xlink:href=\"#DejaVuSans-68\"/>\n      </g>\n     </g>\n    </g>\n    <g id=\"xtick_2\">\n     <g id=\"line2d_2\">\n      <g>\n       <use style=\"stroke:#000000;stroke-width:0.8;\" x=\"209.452871\" xlink:href=\"#m0529ae18cc\" y=\"242.037656\"/>\n      </g>\n     </g>\n     <g id=\"text_2\">\n      <!-- kr -->\n      <g transform=\"translate(203.511933 258.155781)scale(0.12 -0.12)\">\n       <defs>\n        <path d=\"M 581 4863 \nL 1159 4863 \nL 1159 1991 \nL 2875 3500 \nL 3609 3500 \nL 1753 1863 \nL 3688 0 \nL 2938 0 \nL 1159 1709 \nL 1159 0 \nL 581 0 \nL 581 4863 \nz\n\" id=\"DejaVuSans-6b\" transform=\"scale(0.015625)\"/>\n        <path d=\"M 2631 2963 \nQ 2534 3019 2420 3045 \nQ 2306 3072 2169 3072 \nQ 1681 3072 1420 2755 \nQ 1159 2438 1159 1844 \nL 1159 0 \nL 581 0 \nL 581 3500 \nL 1159 3500 \nL 1159 2956 \nQ 1341 3275 1631 3429 \nQ 1922 3584 2338 3584 \nQ 2397 3584 2469 3576 \nQ 2541 3569 2628 3553 \nL 2631 2963 \nz\n\" id=\"DejaVuSans-72\" transform=\"scale(0.015625)\"/>\n       </defs>\n       <use xlink:href=\"#DejaVuSans-6b\"/>\n       <use x=\"57.910156\" xlink:href=\"#DejaVuSans-72\"/>\n      </g>\n     </g>\n    </g>\n    <g id=\"xtick_3\">\n     <g id=\"line2d_3\">\n      <g>\n       <use style=\"stroke:#000000;stroke-width:0.8;\" x=\"316.247129\" xlink:href=\"#m0529ae18cc\" y=\"242.037656\"/>\n      </g>\n     </g>\n     <g id=\"text_3\">\n      <!-- unknown -->\n      <g transform=\"translate(288.984629 258.155781)scale(0.12 -0.12)\">\n       <defs>\n        <path d=\"M 544 1381 \nL 544 3500 \nL 1119 3500 \nL 1119 1403 \nQ 1119 906 1312 657 \nQ 1506 409 1894 409 \nQ 2359 409 2629 706 \nQ 2900 1003 2900 1516 \nL 2900 3500 \nL 3475 3500 \nL 3475 0 \nL 2900 0 \nL 2900 538 \nQ 2691 219 2414 64 \nQ 2138 -91 1772 -91 \nQ 1169 -91 856 284 \nQ 544 659 544 1381 \nz\nM 1991 3584 \nL 1991 3584 \nz\n\" id=\"DejaVuSans-75\" transform=\"scale(0.015625)\"/>\n        <path d=\"M 3513 2113 \nL 3513 0 \nL 2938 0 \nL 2938 2094 \nQ 2938 2591 2744 2837 \nQ 2550 3084 2163 3084 \nQ 1697 3084 1428 2787 \nQ 1159 2491 1159 1978 \nL 1159 0 \nL 581 0 \nL 581 3500 \nL 1159 3500 \nL 1159 2956 \nQ 1366 3272 1645 3428 \nQ 1925 3584 2291 3584 \nQ 2894 3584 3203 3211 \nQ 3513 2838 3513 2113 \nz\n\" id=\"DejaVuSans-6e\" transform=\"scale(0.015625)\"/>\n        <path d=\"M 1959 3097 \nQ 1497 3097 1228 2736 \nQ 959 2375 959 1747 \nQ 959 1119 1226 758 \nQ 1494 397 1959 397 \nQ 2419 397 2687 759 \nQ 2956 1122 2956 1747 \nQ 2956 2369 2687 2733 \nQ 2419 3097 1959 3097 \nz\nM 1959 3584 \nQ 2709 3584 3137 3096 \nQ 3566 2609 3566 1747 \nQ 3566 888 3137 398 \nQ 2709 -91 1959 -91 \nQ 1206 -91 779 398 \nQ 353 888 353 1747 \nQ 353 2609 779 3096 \nQ 1206 3584 1959 3584 \nz\n\" id=\"DejaVuSans-6f\" transform=\"scale(0.015625)\"/>\n        <path d=\"M 269 3500 \nL 844 3500 \nL 1563 769 \nL 2278 3500 \nL 2956 3500 \nL 3675 769 \nL 4391 3500 \nL 4966 3500 \nL 4050 0 \nL 3372 0 \nL 2619 2869 \nL 1863 0 \nL 1184 0 \nL 269 3500 \nz\n\" id=\"DejaVuSans-77\" transform=\"scale(0.015625)\"/>\n       </defs>\n       <use xlink:href=\"#DejaVuSans-75\"/>\n       <use x=\"63.378906\" xlink:href=\"#DejaVuSans-6e\"/>\n       <use x=\"126.757812\" xlink:href=\"#DejaVuSans-6b\"/>\n       <use x=\"184.667969\" xlink:href=\"#DejaVuSans-6e\"/>\n       <use x=\"248.046875\" xlink:href=\"#DejaVuSans-6f\"/>\n       <use x=\"309.228516\" xlink:href=\"#DejaVuSans-77\"/>\n       <use x=\"391.015625\" xlink:href=\"#DejaVuSans-6e\"/>\n      </g>\n     </g>\n    </g>\n    <g id=\"xtick_4\">\n     <g id=\"line2d_4\">\n      <g>\n       <use style=\"stroke:#000000;stroke-width:0.8;\" x=\"423.041388\" xlink:href=\"#m0529ae18cc\" y=\"242.037656\"/>\n      </g>\n     </g>\n     <g id=\"text_4\">\n      <!-- jp -->\n      <g transform=\"translate(417.56545 258.155781)scale(0.12 -0.12)\">\n       <defs>\n        <path d=\"M 603 3500 \nL 1178 3500 \nL 1178 -63 \nQ 1178 -731 923 -1031 \nQ 669 -1331 103 -1331 \nL -116 -1331 \nL -116 -844 \nL 38 -844 \nQ 366 -844 484 -692 \nQ 603 -541 603 -63 \nL 603 3500 \nz\nM 603 4863 \nL 1178 4863 \nL 1178 4134 \nL 603 4134 \nL 603 4863 \nz\n\" id=\"DejaVuSans-6a\" transform=\"scale(0.015625)\"/>\n        <path d=\"M 1159 525 \nL 1159 -1331 \nL 581 -1331 \nL 581 3500 \nL 1159 3500 \nL 1159 2969 \nQ 1341 3281 1617 3432 \nQ 1894 3584 2278 3584 \nQ 2916 3584 3314 3078 \nQ 3713 2572 3713 1747 \nQ 3713 922 3314 415 \nQ 2916 -91 2278 -91 \nQ 1894 -91 1617 61 \nQ 1341 213 1159 525 \nz\nM 3116 1747 \nQ 3116 2381 2855 2742 \nQ 2594 3103 2138 3103 \nQ 1681 3103 1420 2742 \nQ 1159 2381 1159 1747 \nQ 1159 1113 1420 752 \nQ 1681 391 2138 391 \nQ 2594 391 2855 752 \nQ 3116 1113 3116 1747 \nz\n\" id=\"DejaVuSans-70\" transform=\"scale(0.015625)\"/>\n       </defs>\n       <use xlink:href=\"#DejaVuSans-6a\"/>\n       <use x=\"27.783203\" xlink:href=\"#DejaVuSans-70\"/>\n      </g>\n     </g>\n    </g>\n   </g>\n   <g id=\"matplotlib.axis_2\">\n    <g id=\"ytick_1\">\n     <g id=\"line2d_5\">\n      <defs>\n       <path d=\"M 0 0 \nL -3.5 0 \n\" id=\"mfa4842442f\" style=\"stroke:#000000;stroke-width:0.8;\"/>\n      </defs>\n      <g>\n       <use style=\"stroke:#000000;stroke-width:0.8;\" x=\"39.65\" xlink:href=\"#mfa4842442f\" y=\"242.037656\"/>\n      </g>\n     </g>\n     <g id=\"text_5\">\n      <!-- 0 -->\n      <g transform=\"translate(26.2875 245.836875)scale(0.1 -0.1)\">\n       <defs>\n        <path d=\"M 2034 4250 \nQ 1547 4250 1301 3770 \nQ 1056 3291 1056 2328 \nQ 1056 1369 1301 889 \nQ 1547 409 2034 409 \nQ 2525 409 2770 889 \nQ 3016 1369 3016 2328 \nQ 3016 3291 2770 3770 \nQ 2525 4250 2034 4250 \nz\nM 2034 4750 \nQ 2819 4750 3233 4129 \nQ 3647 3509 3647 2328 \nQ 3647 1150 3233 529 \nQ 2819 -91 2034 -91 \nQ 1250 -91 836 529 \nQ 422 1150 422 2328 \nQ 422 3509 836 4129 \nQ 1250 4750 2034 4750 \nz\n\" id=\"DejaVuSans-30\" transform=\"scale(0.015625)\"/>\n       </defs>\n       <use xlink:href=\"#DejaVuSans-30\"/>\n      </g>\n     </g>\n    </g>\n    <g id=\"ytick_2\">\n     <g id=\"line2d_6\">\n      <g>\n       <use style=\"stroke:#000000;stroke-width:0.8;\" x=\"39.65\" xlink:href=\"#mfa4842442f\" y=\"217.266638\"/>\n      </g>\n     </g>\n     <g id=\"text_6\">\n      <!-- 250 -->\n      <g transform=\"translate(13.5625 221.065857)scale(0.1 -0.1)\">\n       <defs>\n        <path d=\"M 1228 531 \nL 3431 531 \nL 3431 0 \nL 469 0 \nL 469 531 \nQ 828 903 1448 1529 \nQ 2069 2156 2228 2338 \nQ 2531 2678 2651 2914 \nQ 2772 3150 2772 3378 \nQ 2772 3750 2511 3984 \nQ 2250 4219 1831 4219 \nQ 1534 4219 1204 4116 \nQ 875 4013 500 3803 \nL 500 4441 \nQ 881 4594 1212 4672 \nQ 1544 4750 1819 4750 \nQ 2544 4750 2975 4387 \nQ 3406 4025 3406 3419 \nQ 3406 3131 3298 2873 \nQ 3191 2616 2906 2266 \nQ 2828 2175 2409 1742 \nQ 1991 1309 1228 531 \nz\n\" id=\"DejaVuSans-32\" transform=\"scale(0.015625)\"/>\n        <path d=\"M 691 4666 \nL 3169 4666 \nL 3169 4134 \nL 1269 4134 \nL 1269 2991 \nQ 1406 3038 1543 3061 \nQ 1681 3084 1819 3084 \nQ 2600 3084 3056 2656 \nQ 3513 2228 3513 1497 \nQ 3513 744 3044 326 \nQ 2575 -91 1722 -91 \nQ 1428 -91 1123 -41 \nQ 819 9 494 109 \nL 494 744 \nQ 775 591 1075 516 \nQ 1375 441 1709 441 \nQ 2250 441 2565 725 \nQ 2881 1009 2881 1497 \nQ 2881 1984 2565 2268 \nQ 2250 2553 1709 2553 \nQ 1456 2553 1204 2497 \nQ 953 2441 691 2322 \nL 691 4666 \nz\n\" id=\"DejaVuSans-35\" transform=\"scale(0.015625)\"/>\n       </defs>\n       <use xlink:href=\"#DejaVuSans-32\"/>\n       <use x=\"63.623047\" xlink:href=\"#DejaVuSans-35\"/>\n       <use x=\"127.246094\" xlink:href=\"#DejaVuSans-30\"/>\n      </g>\n     </g>\n    </g>\n    <g id=\"ytick_3\">\n     <g id=\"line2d_7\">\n      <g>\n       <use style=\"stroke:#000000;stroke-width:0.8;\" x=\"39.65\" xlink:href=\"#mfa4842442f\" y=\"192.495619\"/>\n      </g>\n     </g>\n     <g id=\"text_7\">\n      <!-- 500 -->\n      <g transform=\"translate(13.5625 196.294838)scale(0.1 -0.1)\">\n       <use xlink:href=\"#DejaVuSans-35\"/>\n       <use x=\"63.623047\" xlink:href=\"#DejaVuSans-30\"/>\n       <use x=\"127.246094\" xlink:href=\"#DejaVuSans-30\"/>\n      </g>\n     </g>\n    </g>\n    <g id=\"ytick_4\">\n     <g id=\"line2d_8\">\n      <g>\n       <use style=\"stroke:#000000;stroke-width:0.8;\" x=\"39.65\" xlink:href=\"#mfa4842442f\" y=\"167.724601\"/>\n      </g>\n     </g>\n     <g id=\"text_8\">\n      <!-- 750 -->\n      <g transform=\"translate(13.5625 171.52382)scale(0.1 -0.1)\">\n       <defs>\n        <path d=\"M 525 4666 \nL 3525 4666 \nL 3525 4397 \nL 1831 0 \nL 1172 0 \nL 2766 4134 \nL 525 4134 \nL 525 4666 \nz\n\" id=\"DejaVuSans-37\" transform=\"scale(0.015625)\"/>\n       </defs>\n       <use xlink:href=\"#DejaVuSans-37\"/>\n       <use x=\"63.623047\" xlink:href=\"#DejaVuSans-35\"/>\n       <use x=\"127.246094\" xlink:href=\"#DejaVuSans-30\"/>\n      </g>\n     </g>\n    </g>\n    <g id=\"ytick_5\">\n     <g id=\"line2d_9\">\n      <g>\n       <use style=\"stroke:#000000;stroke-width:0.8;\" x=\"39.65\" xlink:href=\"#mfa4842442f\" y=\"142.953582\"/>\n      </g>\n     </g>\n     <g id=\"text_9\">\n      <!-- 1000 -->\n      <g transform=\"translate(7.2 146.752801)scale(0.1 -0.1)\">\n       <defs>\n        <path d=\"M 794 531 \nL 1825 531 \nL 1825 4091 \nL 703 3866 \nL 703 4441 \nL 1819 4666 \nL 2450 4666 \nL 2450 531 \nL 3481 531 \nL 3481 0 \nL 794 0 \nL 794 531 \nz\n\" id=\"DejaVuSans-31\" transform=\"scale(0.015625)\"/>\n       </defs>\n       <use xlink:href=\"#DejaVuSans-31\"/>\n       <use x=\"63.623047\" xlink:href=\"#DejaVuSans-30\"/>\n       <use x=\"127.246094\" xlink:href=\"#DejaVuSans-30\"/>\n       <use x=\"190.869141\" xlink:href=\"#DejaVuSans-30\"/>\n      </g>\n     </g>\n    </g>\n    <g id=\"ytick_6\">\n     <g id=\"line2d_10\">\n      <g>\n       <use style=\"stroke:#000000;stroke-width:0.8;\" x=\"39.65\" xlink:href=\"#mfa4842442f\" y=\"118.182564\"/>\n      </g>\n     </g>\n     <g id=\"text_10\">\n      <!-- 1250 -->\n      <g transform=\"translate(7.2 121.981783)scale(0.1 -0.1)\">\n       <use xlink:href=\"#DejaVuSans-31\"/>\n       <use x=\"63.623047\" xlink:href=\"#DejaVuSans-32\"/>\n       <use x=\"127.246094\" xlink:href=\"#DejaVuSans-35\"/>\n       <use x=\"190.869141\" xlink:href=\"#DejaVuSans-30\"/>\n      </g>\n     </g>\n    </g>\n    <g id=\"ytick_7\">\n     <g id=\"line2d_11\">\n      <g>\n       <use style=\"stroke:#000000;stroke-width:0.8;\" x=\"39.65\" xlink:href=\"#mfa4842442f\" y=\"93.411546\"/>\n      </g>\n     </g>\n     <g id=\"text_11\">\n      <!-- 1500 -->\n      <g transform=\"translate(7.2 97.210764)scale(0.1 -0.1)\">\n       <use xlink:href=\"#DejaVuSans-31\"/>\n       <use x=\"63.623047\" xlink:href=\"#DejaVuSans-35\"/>\n       <use x=\"127.246094\" xlink:href=\"#DejaVuSans-30\"/>\n       <use x=\"190.869141\" xlink:href=\"#DejaVuSans-30\"/>\n      </g>\n     </g>\n    </g>\n    <g id=\"ytick_8\">\n     <g id=\"line2d_12\">\n      <g>\n       <use style=\"stroke:#000000;stroke-width:0.8;\" x=\"39.65\" xlink:href=\"#mfa4842442f\" y=\"68.640527\"/>\n      </g>\n     </g>\n     <g id=\"text_12\">\n      <!-- 1750 -->\n      <g transform=\"translate(7.2 72.439746)scale(0.1 -0.1)\">\n       <use xlink:href=\"#DejaVuSans-31\"/>\n       <use x=\"63.623047\" xlink:href=\"#DejaVuSans-37\"/>\n       <use x=\"127.246094\" xlink:href=\"#DejaVuSans-35\"/>\n       <use x=\"190.869141\" xlink:href=\"#DejaVuSans-30\"/>\n      </g>\n     </g>\n    </g>\n    <g id=\"ytick_9\">\n     <g id=\"line2d_13\">\n      <g>\n       <use style=\"stroke:#000000;stroke-width:0.8;\" x=\"39.65\" xlink:href=\"#mfa4842442f\" y=\"43.869509\"/>\n      </g>\n     </g>\n     <g id=\"text_13\">\n      <!-- 2000 -->\n      <g transform=\"translate(7.2 47.668727)scale(0.1 -0.1)\">\n       <use xlink:href=\"#DejaVuSans-32\"/>\n       <use x=\"63.623047\" xlink:href=\"#DejaVuSans-30\"/>\n       <use x=\"127.246094\" xlink:href=\"#DejaVuSans-30\"/>\n       <use x=\"190.869141\" xlink:href=\"#DejaVuSans-30\"/>\n      </g>\n     </g>\n    </g>\n   </g>\n   <g id=\"patch_7\">\n    <path d=\"M 39.65 242.037656 \nL 39.65 24.597656 \n\" style=\"fill:none;stroke:#000000;stroke-linecap:square;stroke-linejoin:miter;stroke-width:0.8;\"/>\n   </g>\n   <g id=\"patch_8\">\n    <path d=\"M 486.05 242.037656 \nL 486.05 24.597656 \n\" style=\"fill:none;stroke:#000000;stroke-linecap:square;stroke-linejoin:miter;stroke-width:0.8;\"/>\n   </g>\n   <g id=\"patch_9\">\n    <path d=\"M 39.65 242.037656 \nL 486.05 242.037656 \n\" style=\"fill:none;stroke:#000000;stroke-linecap:square;stroke-linejoin:miter;stroke-width:0.8;\"/>\n   </g>\n   <g id=\"patch_10\">\n    <path d=\"M 39.65 24.597656 \nL 486.05 24.597656 \n\" style=\"fill:none;stroke:#000000;stroke-linecap:square;stroke-linejoin:miter;stroke-width:0.8;\"/>\n   </g>\n   <g id=\"text_14\">\n    <!-- Counts of words which make unk token -->\n    <g transform=\"translate(115.544141 18.597656)scale(0.15 -0.15)\">\n     <defs>\n      <path d=\"M 4122 4306 \nL 4122 3641 \nQ 3803 3938 3442 4084 \nQ 3081 4231 2675 4231 \nQ 1875 4231 1450 3742 \nQ 1025 3253 1025 2328 \nQ 1025 1406 1450 917 \nQ 1875 428 2675 428 \nQ 3081 428 3442 575 \nQ 3803 722 4122 1019 \nL 4122 359 \nQ 3791 134 3420 21 \nQ 3050 -91 2638 -91 \nQ 1578 -91 968 557 \nQ 359 1206 359 2328 \nQ 359 3453 968 4101 \nQ 1578 4750 2638 4750 \nQ 3056 4750 3426 4639 \nQ 3797 4528 4122 4306 \nz\n\" id=\"DejaVuSans-43\" transform=\"scale(0.015625)\"/>\n      <path d=\"M 1172 4494 \nL 1172 3500 \nL 2356 3500 \nL 2356 3053 \nL 1172 3053 \nL 1172 1153 \nQ 1172 725 1289 603 \nQ 1406 481 1766 481 \nL 2356 481 \nL 2356 0 \nL 1766 0 \nQ 1100 0 847 248 \nQ 594 497 594 1153 \nL 594 3053 \nL 172 3053 \nL 172 3500 \nL 594 3500 \nL 594 4494 \nL 1172 4494 \nz\n\" id=\"DejaVuSans-74\" transform=\"scale(0.015625)\"/>\n      <path d=\"M 2834 3397 \nL 2834 2853 \nQ 2591 2978 2328 3040 \nQ 2066 3103 1784 3103 \nQ 1356 3103 1142 2972 \nQ 928 2841 928 2578 \nQ 928 2378 1081 2264 \nQ 1234 2150 1697 2047 \nL 1894 2003 \nQ 2506 1872 2764 1633 \nQ 3022 1394 3022 966 \nQ 3022 478 2636 193 \nQ 2250 -91 1575 -91 \nQ 1294 -91 989 -36 \nQ 684 19 347 128 \nL 347 722 \nQ 666 556 975 473 \nQ 1284 391 1588 391 \nQ 1994 391 2212 530 \nQ 2431 669 2431 922 \nQ 2431 1156 2273 1281 \nQ 2116 1406 1581 1522 \nL 1381 1569 \nQ 847 1681 609 1914 \nQ 372 2147 372 2553 \nQ 372 3047 722 3315 \nQ 1072 3584 1716 3584 \nQ 2034 3584 2315 3537 \nQ 2597 3491 2834 3397 \nz\n\" id=\"DejaVuSans-73\" transform=\"scale(0.015625)\"/>\n      <path id=\"DejaVuSans-20\" transform=\"scale(0.015625)\"/>\n      <path d=\"M 2375 4863 \nL 2375 4384 \nL 1825 4384 \nQ 1516 4384 1395 4259 \nQ 1275 4134 1275 3809 \nL 1275 3500 \nL 2222 3500 \nL 2222 3053 \nL 1275 3053 \nL 1275 0 \nL 697 0 \nL 697 3053 \nL 147 3053 \nL 147 3500 \nL 697 3500 \nL 697 3744 \nQ 697 4328 969 4595 \nQ 1241 4863 1831 4863 \nL 2375 4863 \nz\n\" id=\"DejaVuSans-66\" transform=\"scale(0.015625)\"/>\n      <path d=\"M 2906 2969 \nL 2906 4863 \nL 3481 4863 \nL 3481 0 \nL 2906 0 \nL 2906 525 \nQ 2725 213 2448 61 \nQ 2172 -91 1784 -91 \nQ 1150 -91 751 415 \nQ 353 922 353 1747 \nQ 353 2572 751 3078 \nQ 1150 3584 1784 3584 \nQ 2172 3584 2448 3432 \nQ 2725 3281 2906 2969 \nz\nM 947 1747 \nQ 947 1113 1208 752 \nQ 1469 391 1925 391 \nQ 2381 391 2643 752 \nQ 2906 1113 2906 1747 \nQ 2906 2381 2643 2742 \nQ 2381 3103 1925 3103 \nQ 1469 3103 1208 2742 \nQ 947 2381 947 1747 \nz\n\" id=\"DejaVuSans-64\" transform=\"scale(0.015625)\"/>\n      <path d=\"M 603 3500 \nL 1178 3500 \nL 1178 0 \nL 603 0 \nL 603 3500 \nz\nM 603 4863 \nL 1178 4863 \nL 1178 4134 \nL 603 4134 \nL 603 4863 \nz\n\" id=\"DejaVuSans-69\" transform=\"scale(0.015625)\"/>\n      <path d=\"M 3328 2828 \nQ 3544 3216 3844 3400 \nQ 4144 3584 4550 3584 \nQ 5097 3584 5394 3201 \nQ 5691 2819 5691 2113 \nL 5691 0 \nL 5113 0 \nL 5113 2094 \nQ 5113 2597 4934 2840 \nQ 4756 3084 4391 3084 \nQ 3944 3084 3684 2787 \nQ 3425 2491 3425 1978 \nL 3425 0 \nL 2847 0 \nL 2847 2094 \nQ 2847 2600 2669 2842 \nQ 2491 3084 2119 3084 \nQ 1678 3084 1418 2786 \nQ 1159 2488 1159 1978 \nL 1159 0 \nL 581 0 \nL 581 3500 \nL 1159 3500 \nL 1159 2956 \nQ 1356 3278 1631 3431 \nQ 1906 3584 2284 3584 \nQ 2666 3584 2933 3390 \nQ 3200 3197 3328 2828 \nz\n\" id=\"DejaVuSans-6d\" transform=\"scale(0.015625)\"/>\n      <path d=\"M 2194 1759 \nQ 1497 1759 1228 1600 \nQ 959 1441 959 1056 \nQ 959 750 1161 570 \nQ 1363 391 1709 391 \nQ 2188 391 2477 730 \nQ 2766 1069 2766 1631 \nL 2766 1759 \nL 2194 1759 \nz\nM 3341 1997 \nL 3341 0 \nL 2766 0 \nL 2766 531 \nQ 2569 213 2275 61 \nQ 1981 -91 1556 -91 \nQ 1019 -91 701 211 \nQ 384 513 384 1019 \nQ 384 1609 779 1909 \nQ 1175 2209 1959 2209 \nL 2766 2209 \nL 2766 2266 \nQ 2766 2663 2505 2880 \nQ 2244 3097 1772 3097 \nQ 1472 3097 1187 3025 \nQ 903 2953 641 2809 \nL 641 3341 \nQ 956 3463 1253 3523 \nQ 1550 3584 1831 3584 \nQ 2591 3584 2966 3190 \nQ 3341 2797 3341 1997 \nz\n\" id=\"DejaVuSans-61\" transform=\"scale(0.015625)\"/>\n      <path d=\"M 3597 1894 \nL 3597 1613 \nL 953 1613 \nQ 991 1019 1311 708 \nQ 1631 397 2203 397 \nQ 2534 397 2845 478 \nQ 3156 559 3463 722 \nL 3463 178 \nQ 3153 47 2828 -22 \nQ 2503 -91 2169 -91 \nQ 1331 -91 842 396 \nQ 353 884 353 1716 \nQ 353 2575 817 3079 \nQ 1281 3584 2069 3584 \nQ 2775 3584 3186 3129 \nQ 3597 2675 3597 1894 \nz\nM 3022 2063 \nQ 3016 2534 2758 2815 \nQ 2500 3097 2075 3097 \nQ 1594 3097 1305 2825 \nQ 1016 2553 972 2059 \nL 3022 2063 \nz\n\" id=\"DejaVuSans-65\" transform=\"scale(0.015625)\"/>\n     </defs>\n     <use xlink:href=\"#DejaVuSans-43\"/>\n     <use x=\"69.824219\" xlink:href=\"#DejaVuSans-6f\"/>\n     <use x=\"131.005859\" xlink:href=\"#DejaVuSans-75\"/>\n     <use x=\"194.384766\" xlink:href=\"#DejaVuSans-6e\"/>\n     <use x=\"257.763672\" xlink:href=\"#DejaVuSans-74\"/>\n     <use x=\"296.972656\" xlink:href=\"#DejaVuSans-73\"/>\n     <use x=\"349.072266\" xlink:href=\"#DejaVuSans-20\"/>\n     <use x=\"380.859375\" xlink:href=\"#DejaVuSans-6f\"/>\n     <use x=\"442.041016\" xlink:href=\"#DejaVuSans-66\"/>\n     <use x=\"477.246094\" xlink:href=\"#DejaVuSans-20\"/>\n     <use x=\"509.033203\" xlink:href=\"#DejaVuSans-77\"/>\n     <use x=\"590.820312\" xlink:href=\"#DejaVuSans-6f\"/>\n     <use x=\"652.001953\" xlink:href=\"#DejaVuSans-72\"/>\n     <use x=\"691.365234\" xlink:href=\"#DejaVuSans-64\"/>\n     <use x=\"754.841797\" xlink:href=\"#DejaVuSans-73\"/>\n     <use x=\"806.941406\" xlink:href=\"#DejaVuSans-20\"/>\n     <use x=\"838.728516\" xlink:href=\"#DejaVuSans-77\"/>\n     <use x=\"920.515625\" xlink:href=\"#DejaVuSans-68\"/>\n     <use x=\"983.894531\" xlink:href=\"#DejaVuSans-69\"/>\n     <use x=\"1011.677734\" xlink:href=\"#DejaVuSans-63\"/>\n     <use x=\"1066.658203\" xlink:href=\"#DejaVuSans-68\"/>\n     <use x=\"1130.037109\" xlink:href=\"#DejaVuSans-20\"/>\n     <use x=\"1161.824219\" xlink:href=\"#DejaVuSans-6d\"/>\n     <use x=\"1259.236328\" xlink:href=\"#DejaVuSans-61\"/>\n     <use x=\"1320.515625\" xlink:href=\"#DejaVuSans-6b\"/>\n     <use x=\"1374.800781\" xlink:href=\"#DejaVuSans-65\"/>\n     <use x=\"1436.324219\" xlink:href=\"#DejaVuSans-20\"/>\n     <use x=\"1468.111328\" xlink:href=\"#DejaVuSans-75\"/>\n     <use x=\"1531.490234\" xlink:href=\"#DejaVuSans-6e\"/>\n     <use x=\"1594.869141\" xlink:href=\"#DejaVuSans-6b\"/>\n     <use x=\"1652.779297\" xlink:href=\"#DejaVuSans-20\"/>\n     <use x=\"1684.566406\" xlink:href=\"#DejaVuSans-74\"/>\n     <use x=\"1723.775391\" xlink:href=\"#DejaVuSans-6f\"/>\n     <use x=\"1784.957031\" xlink:href=\"#DejaVuSans-6b\"/>\n     <use x=\"1839.242188\" xlink:href=\"#DejaVuSans-65\"/>\n     <use x=\"1900.765625\" xlink:href=\"#DejaVuSans-6e\"/>\n    </g>\n   </g>\n  </g>\n </g>\n <defs>\n  <clipPath id=\"pf3b6bc7de4\">\n   <rect height=\"217.44\" width=\"446.4\" x=\"39.65\" y=\"24.597656\"/>\n  </clipPath>\n </defs>\n</svg>\n",
      "image/png": "[encoded data removed]"
     },
     "metadata": {
      "needs_background": "light"
     }
    }
   ],
   "metadata": {}
  },
  {
   "cell_type": "markdown",
   "source": [
    "## Preprocessing\n",
    "\n",
    "  1. 개행문자 제거\n",
    "  2. 한국어 -> [UNK]를 불러일으키는 문자 띄어쓰기\n",
    "  3. 중국어 -> [UNK]아닌 [CHN] Special Token으로 변환\n",
    "  4. 한국어 -> [UNK]아닌 [KOR] Special Toke으로 변환\n",
    "  5. 나머지 -> [UNK]로 변환\n"
   ],
   "metadata": {}
  },
  {
   "cell_type": "code",
   "execution_count": 67,
   "source": [
    "from konlpy.tag import Mecab\n",
    "mecab = Mecab()"
   ],
   "outputs": [],
   "metadata": {}
  },
  {
   "cell_type": "markdown",
   "source": [
    "#### 개행문자 제거"
   ],
   "metadata": {}
  },
  {
   "cell_type": "code",
   "execution_count": 68,
   "source": [
    "test_con = contexts[0]\n",
    "test_q = questions[0]\n",
    "\n",
    "print('Orgiginal Question')\n",
    "print(test_q)\n",
    "print('\\n')\n",
    "print('Orginal Context')\n",
    "print(test_con)"
   ],
   "outputs": [
    {
     "output_type": "stream",
     "name": "stdout",
     "text": [
      "Orgiginal Question\n",
      "대통령을 포함한 미국의 행정부 견제권을 갖는 국가 기관은?\n",
      "\n",
      "\n",
      "Orginal Context\n",
      "미국 상의원 또는 미국 상원(United States Senate)은 양원제인 미국 의회의 상원이다.\\n\\n미국 부통령이 상원의장이 된다. 각 주당 2명의 상원의원이 선출되어 100명의 상원의원으로 구성되어 있다. 임기는 6년이며, 2년마다 50개주 중 1/3씩 상원의원을 새로 선출하여 연방에 보낸다.\\n\\n미국 상원은 미국 하원과는 다르게 미국 대통령을 수반으로 하는 미국 연방 행정부에 각종 동의를 하는 기관이다. 하원이 세금과 경제에 대한 권한, 대통령을 포함한 대다수의 공무원을 파면할 권한을 갖고 있는 국민을 대표하는 기관인 반면 상원은 미국의 주를 대표한다. 즉 캘리포니아주, 일리노이주 같이 주 정부와 주 의회를 대표하는 기관이다. 그로 인하여 군대의 파병, 관료의 임명에 대한 동의, 외국 조약에 대한 승인 등 신속을 요하는 권한은 모두 상원에게만 있다. 그리고 하원에 대한 견제 역할(하원의 법안을 거부할 권한 등)을 담당한다. 2년의 임기로 인하여 급진적일 수밖에 없는 하원은 지나치게 급진적인 법안을 만들기 쉽다. 대표적인 예로 건강보험 개혁 당시 하원이 미국 연방 행정부에게 퍼블릭 옵션(공공건강보험기관)의 조항이 있는 반면 상원의 경우 하원안이 지나치게 세금이 많이 든다는 이유로 퍼블릭 옵션 조항을 제외하고 비영리건강보험기관이나 보험회사가 담당하도록 한 것이다. 이 경우처럼 상원은 하원이나 내각책임제가 빠지기 쉬운 국가들의 국회처럼 걸핏하면 발생하는 의회의 비정상적인 사태를 방지하는 기관이다. 상원은 급박한 처리사항의 경우가 아니면 법안을 먼저 내는 경우가 드물고 하원이 만든 법안을 수정하여 다시 하원에 되돌려보낸다. 이러한 방식으로 단원제가 빠지기 쉬운 함정을 미리 방지하는 것이다.날짜=2017-02-05\n"
     ]
    }
   ],
   "metadata": {}
  },
  {
   "cell_type": "code",
   "execution_count": 69,
   "source": [
    " def remove_newline(txt) :\n",
    "    txt = re.sub(r'\\\\n' , '', txt)\n",
    "    return txt\n",
    "\n",
    "print(remove_newline(test_con))"
   ],
   "outputs": [
    {
     "output_type": "stream",
     "name": "stdout",
     "text": [
      "미국 상의원 또는 미국 상원(United States Senate)은 양원제인 미국 의회의 상원이다.미국 부통령이 상원의장이 된다. 각 주당 2명의 상원의원이 선출되어 100명의 상원의원으로 구성되어 있다. 임기는 6년이며, 2년마다 50개주 중 1/3씩 상원의원을 새로 선출하여 연방에 보낸다.미국 상원은 미국 하원과는 다르게 미국 대통령을 수반으로 하는 미국 연방 행정부에 각종 동의를 하는 기관이다. 하원이 세금과 경제에 대한 권한, 대통령을 포함한 대다수의 공무원을 파면할 권한을 갖고 있는 국민을 대표하는 기관인 반면 상원은 미국의 주를 대표한다. 즉 캘리포니아주, 일리노이주 같이 주 정부와 주 의회를 대표하는 기관이다. 그로 인하여 군대의 파병, 관료의 임명에 대한 동의, 외국 조약에 대한 승인 등 신속을 요하는 권한은 모두 상원에게만 있다. 그리고 하원에 대한 견제 역할(하원의 법안을 거부할 권한 등)을 담당한다. 2년의 임기로 인하여 급진적일 수밖에 없는 하원은 지나치게 급진적인 법안을 만들기 쉽다. 대표적인 예로 건강보험 개혁 당시 하원이 미국 연방 행정부에게 퍼블릭 옵션(공공건강보험기관)의 조항이 있는 반면 상원의 경우 하원안이 지나치게 세금이 많이 든다는 이유로 퍼블릭 옵션 조항을 제외하고 비영리건강보험기관이나 보험회사가 담당하도록 한 것이다. 이 경우처럼 상원은 하원이나 내각책임제가 빠지기 쉬운 국가들의 국회처럼 걸핏하면 발생하는 의회의 비정상적인 사태를 방지하는 기관이다. 상원은 급박한 처리사항의 경우가 아니면 법안을 먼저 내는 경우가 드물고 하원이 만든 법안을 수정하여 다시 하원에 되돌려보낸다. 이러한 방식으로 단원제가 빠지기 쉬운 함정을 미리 방지하는 것이다.날짜=2017-02-05\n"
     ]
    }
   ],
   "metadata": {}
  },
  {
   "cell_type": "markdown",
   "source": [
    "### 한국어 띄어쓰기"
   ],
   "metadata": {}
  },
  {
   "cell_type": "code",
   "execution_count": 70,
   "source": [
    "def space_nouns(context) :\n",
    "    noun_list = mecab.nouns(context)\n",
    "    def add_space(match) :\n",
    "        bracket = match.group()\n",
    "        added = ' ' + bracket\n",
    "        return added\n",
    "    \n",
    "    re_comp = re.compile('|'.join(noun_list))\n",
    "    context = re_comp.sub(add_space, context)\n",
    "    context = re.sub('\\s+', ' ', context)\n",
    "    return context.strip()\n",
    "\n",
    "print(space_nouns(remove_newline(test_con)))"
   ],
   "outputs": [
    {
     "output_type": "stream",
     "name": "stdout",
     "text": [
      "미국 상의원 또는 미국 상원(United States Senate)은 양원제인 미국 의회의 상원이다. 미국 부통령이 상원 의장이 된다. 각 주당 2 명의 상원 의원이 선출되어 100 명의 상원 의원으로 구성되어 있다. 임기는 6 년이며, 2 년마다 50 개주 중 1/3씩 상원 의원을 새로 선출하여 연방에 보낸다. 미국 상원은 미국 하원과는 다르게 미국 대통령을 수반으로 하는 미국 연방 행정부에 각종 동의를 하는 기관이다. 하원이 세금과 경제에 대한 권한, 대통령을 포함한 대다수의 공무원을 파면할 권한을 갖고 있는 국민을 대표하는 기관인 반면 상원은 미국의 주를 대표한다. 즉 캘리포니아주, 일리노이주 같이 주 정부와 주 의회를 대표하는 기관이다. 그로 인하여 군대의 파병, 관료의 임명에 대한 동의, 외국 조약에 대한 승인 등 신속을 요하는 권한은 모두 상원에게만 있다. 그리고 하원에 대한 견제 역할( 하원의 법안을 거부할 권한 등)을 담당한다. 2 년의 임기로 인하여 급진적일 수밖에 없는 하원은 지나치게 급진적인 법안을 만들기 쉽다. 대표적인 예로 건강 보험 개혁 당시 하원이 미국 연방 행정부에게 퍼블릭 옵션( 공공 건강 보험 기관)의 조항이 있는 반면 상원의 경우 하원 안이 지나치게 세금이 많이 든다는 이유로 퍼블릭 옵션 조항을 제외하고 비 영리 건강 보험 기관이나 보험 회사가 담당하도록 한 것이다. 이 경우처럼 상원은 하원이나 내각 책임 제가 빠지기 쉬운 국가들의 국회처럼 걸핏하면 발생하는 의회의 비 정상적인 사태를 방지하는 기관이다. 상원은 급박한 처리 사항의 경우가 아니면 법안을 먼저 내는 경우가 드물고 하원이 만든 법안을 수정하여 다시 하원에 되돌려보낸다. 이러한 방식으로 단원제가 빠지기 쉬운 함정을 미리 방지하는 것이다. 날짜=2017-02-05\n"
     ]
    }
   ],
   "metadata": {}
  },
  {
   "cell_type": "markdown",
   "source": [
    "##### 비교"
   ],
   "metadata": {}
  },
  {
   "cell_type": "code",
   "execution_count": 71,
   "source": [
    "a = '미국 연방 행정부에게 퍼블릭 옵션(공공건강보험기관)의 조항이 있는 반면 상원의 경우 하원안이 지나치게 세금이 많이 든다는 이유로 퍼블릭 옵션 조항을 제외하고 비영리건강보험기관이나 보험회사가 담당하도록 한 것이다.'"
   ],
   "outputs": [],
   "metadata": {}
  },
  {
   "cell_type": "code",
   "execution_count": 72,
   "source": [
    "b = space_nouns(a)"
   ],
   "outputs": [],
   "metadata": {}
  },
  {
   "cell_type": "code",
   "execution_count": 73,
   "source": [
    "tok_a_list = tokenizer.tokenize(a)\n",
    "tok_b_list = tokenizer.tokenize(b)\n",
    "\n",
    "for i in range(40) :\n",
    "    print('%s \\t %s' %(tok_a_list[i], tok_b_list[i]))"
   ],
   "outputs": [
    {
     "output_type": "stream",
     "name": "stdout",
     "text": [
      "미국 \t 미국\n",
      "연방 \t 연방\n",
      "행정부 \t 행정부\n",
      "##에 \t ##에\n",
      "##게 \t ##게\n",
      "퍼블 \t 퍼블\n",
      "##릭 \t ##릭\n",
      "옵션 \t 옵션\n",
      "( \t (\n",
      "공공 \t 공공\n",
      "##건 \t 건강\n",
      "##강 \t 보험\n",
      "##보험 \t 기관\n",
      "##기 \t )\n",
      "##관 \t 의\n",
      ") \t 조항\n",
      "의 \t ##이\n",
      "조항 \t 있\n",
      "##이 \t ##는\n",
      "있 \t 반면\n",
      "##는 \t 상원\n",
      "반면 \t ##의\n",
      "상원 \t 경우\n",
      "##의 \t 하원\n",
      "경우 \t 안이\n",
      "하원 \t 지나치\n",
      "##안 \t ##게\n",
      "##이 \t 세금\n",
      "지나치 \t ##이\n",
      "##게 \t 많이\n",
      "세금 \t 든다는\n",
      "##이 \t 이유로\n",
      "많이 \t 퍼블\n",
      "든다는 \t ##릭\n",
      "이유로 \t 옵션\n",
      "퍼블 \t 조항\n",
      "##릭 \t ##을\n",
      "옵션 \t 제외\n",
      "조항 \t ##하고\n",
      "##을 \t 비\n"
     ]
    }
   ],
   "metadata": {}
  },
  {
   "cell_type": "markdown",
   "source": [
    "#### Check Chinese Special Token"
   ],
   "metadata": {}
  },
  {
   "cell_type": "code",
   "execution_count": 74,
   "source": [
    "ch_start_idx = int('4E00', 16)\n",
    "ch_end_idx = int('9FFF', 16)"
   ],
   "outputs": [],
   "metadata": {}
  },
  {
   "cell_type": "code",
   "execution_count": 75,
   "source": [
    "ch_chars = []\n",
    "for i in range(ch_start_idx , ch_end_idx + 1) :\n",
    "    ch_chars.append(chr(i))"
   ],
   "outputs": [],
   "metadata": {}
  },
  {
   "cell_type": "code",
   "execution_count": 77,
   "source": [
    "ch_sub = re.compile('[' + ''.join(ch_chars) + ']')"
   ],
   "outputs": [],
   "metadata": {}
  },
  {
   "cell_type": "code",
   "execution_count": 120,
   "source": [
    "def convert_ch(txt) :\n",
    "    txt = ch_sub.sub('[CHN]' , txt)\n",
    "    txt = re.sub(r'(\\[CHN\\]){1,}', '[CHN]', txt)\n",
    "    return txt"
   ],
   "outputs": [],
   "metadata": {}
  },
  {
   "cell_type": "code",
   "execution_count": 123,
   "source": [
    "contexts[24]"
   ],
   "outputs": [
    {
     "output_type": "execute_result",
     "data": {
      "text/plain": [
       "'대부분의 곤충은 알에서 태어난다. 몇몇 종은 어미의 몸 속에서 깨어나 일정기간 자란 후 나오는 난태생을 하는 것도 있다. 곤충의 애벌래는 자라면서 껍질을 벗고 새로운 껍질이 생기는 탈피를 한다. 탈피를 한 번 할 때의 기간을 령이라고 하는데, 누에나방은 약 24일 동안 4번의 탈피를 하며 각각의 시기를 1령, 2령 하는 식으로 부른다. \\\\n\\\\n탈피(허물 벗기)는 모든 절지동물이 견뎌야 하는 복잡하고 시간이 걸리는 위험한 과정이다. 탈피는 곤충이 일정한 크기에 이르면 체벽에 잇는 감지기가 뇌에 신호를 보내면서 시작되는 것으로 알려져 있다. 허물 벗기는 묵은 큐티클을 새로 활성화한 표피에서 분리하고 새로운 큐티클을 만들어 단단하게 만든다. 곤충의 애벌레가 한번 탈피해서 다시 탈피할 때까지의 시기를 영으로 구분한다. 유충이 몇 번 탈피해서 성충이 되는가 하는 것은 종에 따라 다르다. 어떤 파리는 4번의 탈피로 끝내는가 하면, 딱정벌레의 유충은 번데기가 될 때까지 27번이나 탈피를 한다.\\\\n\\\\n애벌레는 성충이 되는 과정에서 형태가 변화는 변태를 한다. 변태는 애벌레의 모습이 남아있는 불완전 변태와 완전히 그 모습이 변하는 완전 변태로 나눈다. 유시아강에 속하는 곤충들 가운데 일부만이 완전변태를 한다. 불완전변태는 유충이 성충과 비슷한 점이 있고, 초기부터 날개와 외부생식기를 외부에서도 볼 수 있으며, 탈피할 때마다 커져 최후의 탈피에서 성충이 되는데 반하여, 완전변태는 유충이 성충과는 전혀 달라서 날개 등을 외부에서는 전혀 볼 수 없고, 휴지기인 번데기 시기에 최후의 탈피인 우화(羽化)를 함으로써 성충이 된다. 또 완전변태 중에서 유충기의 탈피 때마다 형태가 달라지는 기생벌 등이 있는데, 이런 경우를 과변태(過變態)라고 한다.\\\\n\\\\n변태와 탈피는 뇌의 분비세포에서 나온 호르몬이 전흉선(前胸腺) 또는 그 상동기관(相同器官)을 자극하여 에크디손(ecdyson)의 분비를 촉진시킴으로써 일어나는데, 그 때 알라타체(體)에서 나온 유충호르몬이 충분히 있어야 한다. 유충의 말기에 알라타체 호르몬의 분비가 정지되면 억제 당했던 성충의 형질이 나타나 번데기가 되고 이어서 우화가 일어난다.\\\\n\\\\n유충이란 좁은 뜻으로는 완전변태를 하는 종류의 유기(幼期)를 가리키는 것으로서, 성충과는 형태가 전혀 다르며 구더기, 장구벌레 등이 이 시기이다.이것은 번데기를 거쳐 성충이 되는데, 번데기로 될 때 고치를 짓거나 땅속에 집을 만드는 것도 있다. 불완전변태를 하는 종류의 유기를 약충(若蟲)이라하여 구별하기도 한다.'"
      ]
     },
     "metadata": {},
     "execution_count": 123
    }
   ],
   "metadata": {}
  },
  {
   "cell_type": "code",
   "execution_count": 124,
   "source": [
    "convert_ch(contexts[24])"
   ],
   "outputs": [
    {
     "output_type": "execute_result",
     "data": {
      "text/plain": [
       "'대부분의 곤충은 알에서 태어난다. 몇몇 종은 어미의 몸 속에서 깨어나 일정기간 자란 후 나오는 난태생을 하는 것도 있다. 곤충의 애벌래는 자라면서 껍질을 벗고 새로운 껍질이 생기는 탈피를 한다. 탈피를 한 번 할 때의 기간을 령이라고 하는데, 누에나방은 약 24일 동안 4번의 탈피를 하며 각각의 시기를 1령, 2령 하는 식으로 부른다. \\\\n\\\\n탈피(허물 벗기)는 모든 절지동물이 견뎌야 하는 복잡하고 시간이 걸리는 위험한 과정이다. 탈피는 곤충이 일정한 크기에 이르면 체벽에 잇는 감지기가 뇌에 신호를 보내면서 시작되는 것으로 알려져 있다. 허물 벗기는 묵은 큐티클을 새로 활성화한 표피에서 분리하고 새로운 큐티클을 만들어 단단하게 만든다. 곤충의 애벌레가 한번 탈피해서 다시 탈피할 때까지의 시기를 영으로 구분한다. 유충이 몇 번 탈피해서 성충이 되는가 하는 것은 종에 따라 다르다. 어떤 파리는 4번의 탈피로 끝내는가 하면, 딱정벌레의 유충은 번데기가 될 때까지 27번이나 탈피를 한다.\\\\n\\\\n애벌레는 성충이 되는 과정에서 형태가 변화는 변태를 한다. 변태는 애벌레의 모습이 남아있는 불완전 변태와 완전히 그 모습이 변하는 완전 변태로 나눈다. 유시아강에 속하는 곤충들 가운데 일부만이 완전변태를 한다. 불완전변태는 유충이 성충과 비슷한 점이 있고, 초기부터 날개와 외부생식기를 외부에서도 볼 수 있으며, 탈피할 때마다 커져 최후의 탈피에서 성충이 되는데 반하여, 완전변태는 유충이 성충과는 전혀 달라서 날개 등을 외부에서는 전혀 볼 수 없고, 휴지기인 번데기 시기에 최후의 탈피인 우화([CHN])를 함으로써 성충이 된다. 또 완전변태 중에서 유충기의 탈피 때마다 형태가 달라지는 기생벌 등이 있는데, 이런 경우를 과변태([CHN])라고 한다.\\\\n\\\\n변태와 탈피는 뇌의 분비세포에서 나온 호르몬이 전흉선([CHN]) 또는 그 상동기관([CHN])을 자극하여 에크디손(ecdyson)의 분비를 촉진시킴으로써 일어나는데, 그 때 알라타체([CHN])에서 나온 유충호르몬이 충분히 있어야 한다. 유충의 말기에 알라타체 호르몬의 분비가 정지되면 억제 당했던 성충의 형질이 나타나 번데기가 되고 이어서 우화가 일어난다.\\\\n\\\\n유충이란 좁은 뜻으로는 완전변태를 하는 종류의 유기([CHN])를 가리키는 것으로서, 성충과는 형태가 전혀 다르며 구더기, 장구벌레 등이 이 시기이다.이것은 번데기를 거쳐 성충이 되는데, 번데기로 될 때 고치를 짓거나 땅속에 집을 만드는 것도 있다. 불완전변태를 하는 종류의 유기를 약충([CHN])이라하여 구별하기도 한다.'"
      ]
     },
     "metadata": {},
     "execution_count": 124
    }
   ],
   "metadata": {}
  },
  {
   "cell_type": "markdown",
   "source": [
    "#### Check Korean Special Token"
   ],
   "metadata": {}
  },
  {
   "cell_type": "code",
   "execution_count": 125,
   "source": [
    "kor_start_idx = int('AC00', 16)\n",
    "kor_end_idx = int('D7A3', 16)"
   ],
   "outputs": [],
   "metadata": {}
  },
  {
   "cell_type": "code",
   "execution_count": 126,
   "source": [
    "kor_chars = []\n",
    "for i in range(kor_start_idx , kor_end_idx + 1) :\n",
    "    kor_chars.append(chr(i))"
   ],
   "outputs": [],
   "metadata": {}
  },
  {
   "cell_type": "code",
   "execution_count": 131,
   "source": [
    "kor_unks = []\n",
    "\n",
    "for ch in kor_chars : \n",
    "    if tokenizer.convert_tokens_to_ids(ch) == unk_id :\n",
    "        kor_unks.append(ch)\n",
    "\n",
    "print('Size of Korean UNK Characters : %d' %len(kor_unks))"
   ],
   "outputs": [
    {
     "output_type": "stream",
     "name": "stdout",
     "text": [
      "Size of Korean UNK Characters : 9741\n"
     ]
    }
   ],
   "metadata": {}
  },
  {
   "cell_type": "code",
   "execution_count": 143,
   "source": [
    "special_tokens_dict = {'additional_special_tokens': ['[KOR]','[CHN]']}\n",
    "num_added_toks = tokenizer.add_special_tokens(special_tokens_dict)"
   ],
   "outputs": [],
   "metadata": {}
  },
  {
   "cell_type": "code",
   "execution_count": 135,
   "source": [
    "kor_sub = re.compile('[' + ''.join(kor_unks) + ']')"
   ],
   "outputs": [],
   "metadata": {}
  },
  {
   "cell_type": "code",
   "execution_count": 136,
   "source": [
    "def convert_kr(txt) :\n",
    "    txt = kor_sub.sub('[KOR]' , txt)\n",
    "    txt = re.sub(r'(\\[KOR\\]){1,}', '[KOR]', txt)\n",
    "    return txt"
   ],
   "outputs": [],
   "metadata": {}
  },
  {
   "cell_type": "code",
   "execution_count": 154,
   "source": [
    "a = '도스토옙스키는 젊었을 때 어떤 사상을 추구하는 정치 클럽에 참여하였나?'\n",
    "b = convert_kr(a)"
   ],
   "outputs": [],
   "metadata": {}
  },
  {
   "cell_type": "code",
   "execution_count": 157,
   "source": [
    "tok_a_list = tokenizer.tokenize(a)\n",
    "tok_b_list = tokenizer.tokenize(b)\n",
    "\n",
    "for i in range(10) :\n",
    "    print('%s \\t %s' %(tok_a_list[i], tok_b_list[i]))"
   ],
   "outputs": [
    {
     "output_type": "stream",
     "name": "stdout",
     "text": [
      "[UNK] \t 도스토\n",
      "젊 \t [KOR]\n",
      "##었 \t 스키\n",
      "##을 \t ##는\n",
      "때 \t 젊\n",
      "어떤 \t ##었\n",
      "사상 \t ##을\n",
      "##을 \t 때\n",
      "추구 \t 어떤\n",
      "##하 \t 사상\n"
     ]
    }
   ],
   "metadata": {}
  },
  {
   "cell_type": "code",
   "execution_count": 158,
   "source": [
    "a = '카를 체르니가 공연한 쾰른토나토아 극장은 어느 도시에 있는가?'\n",
    "b = convert_kr(a)"
   ],
   "outputs": [],
   "metadata": {}
  },
  {
   "cell_type": "code",
   "execution_count": 160,
   "source": [
    "tok_a_list = tokenizer.tokenize(a)\n",
    "tok_b_list = tokenizer.tokenize(b)\n",
    "\n",
    "for i in range(15) :\n",
    "    print('%s \\t %s' %(tok_a_list[i], tok_b_list[i]))"
   ],
   "outputs": [
    {
     "output_type": "stream",
     "name": "stdout",
     "text": [
      "카를 \t 카를\n",
      "체 \t 체\n",
      "##르 \t ##르\n",
      "##니 \t ##니\n",
      "##가 \t ##가\n",
      "공연 \t 공연\n",
      "##한 \t ##한\n",
      "[UNK] \t [KOR]\n",
      "극장 \t 른\n",
      "##은 \t ##토\n",
      "어느 \t ##나\n",
      "도시 \t ##토\n",
      "##에 \t ##아\n",
      "있 \t 극장\n",
      "##는 \t ##은\n"
     ]
    }
   ],
   "metadata": {}
  }
 ],
 "metadata": {
  "orig_nbformat": 4,
  "language_info": {
   "name": "python",
   "version": "3.8.5",
   "mimetype": "text/x-python",
   "codemirror_mode": {
    "name": "ipython",
    "version": 3
   },
   "pygments_lexer": "ipython3",
   "nbconvert_exporter": "python",
   "file_extension": ".py"
  },
  "kernelspec": {
   "name": "python3",
   "display_name": "Python 3.8.5 64-bit ('base': conda)"
  },
  "interpreter": {
   "hash": "98b0a9b7b4eaaa670588a142fd0a9b87eaafe866f1db4228be72b4211d12040f"
  }
 },
 "nbformat": 4,
 "nbformat_minor": 2
}