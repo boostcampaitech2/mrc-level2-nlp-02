{
 "cells": [
  {
   "cell_type": "code",
   "execution_count": 141,
   "metadata": {},
   "outputs": [],
   "source": [
    "import os\n",
    "import sys\n",
    "import json\n",
    "\n",
    "import elasticsearch\n",
    "from elasticsearch import Elasticsearch, helpers\n",
    "import pandas as pd\n",
    "import torch\n",
    "\n",
    "from datasets import (\n",
    "    load_from_disk)"
   ]
  },
  {
   "cell_type": "code",
   "execution_count": 142,
   "metadata": {},
   "outputs": [],
   "source": [
    "es = Elasticsearch([{'host': 'localhost', 'port': 9200}])"
   ]
  },
  {
   "cell_type": "code",
   "execution_count": 143,
   "metadata": {},
   "outputs": [
    {
     "name": "stderr",
     "output_type": "stream",
     "text": [
      "/opt/conda/lib/python3.8/site-packages/elasticsearch/connection/base.py:209: ElasticsearchWarning: Elasticsearch built-in security features are not enabled. Without authentication, your cluster could be accessible to anyone. See https://www.elastic.co/guide/en/elasticsearch/reference/7.15/security-minimal-setup.html to enable security.\n",
      "  warnings.warn(message, category=ElasticsearchWarning)\n"
     ]
    },
    {
     "data": {
      "text/plain": [
       "True"
      ]
     },
     "execution_count": 143,
     "metadata": {},
     "output_type": "execute_result"
    }
   ],
   "source": [
    "es.ping()\n"
   ]
  },
  {
   "cell_type": "code",
   "execution_count": 232,
   "metadata": {},
   "outputs": [],
   "source": [
    "CONFIG = {\n",
    "  'settings':{\n",
    "    'number_of_shards':1,\n",
    "    'number_of_replicas':1,\n",
    "    'analysis':{\n",
    "      'analyzer': {\n",
    "        'nori_analyzer':{\n",
    "          'type': 'custom',\n",
    "          'tokenizer': 'nori_mixed',\n",
    "          'filter': [ 'shingle' ]\n",
    "          }\n",
    "        },\n",
    "      \"tokenizer\": {\n",
    "        \"nori_none\": {\n",
    "          \"type\": \"nori_tokenizer\",\n",
    "          \"decompound_mode\": \"none\"\n",
    "        },\n",
    "        \"nori_discard\": {\n",
    "          \"type\": \"nori_tokenizer\",\n",
    "          \"decompound_mode\": \"discard\"\n",
    "        },\n",
    "        \"nori_mixed\": {\n",
    "          \"type\": \"nori_tokenizer\",\n",
    "          \"decompound_mode\": \"mixed\"\n",
    "        }\n",
    "      }\n",
    "    },\n",
    "  },\n",
    "  'mappings':{\n",
    "    'properties':{\n",
    "      'text':{\n",
    "        'type':'text',\n",
    "        'analyzer': 'nori_analyzer'\n",
    "      }\n",
    "    }\n",
    "  }\n",
    "}\n"
   ]
  },
  {
   "cell_type": "code",
   "execution_count": 219,
   "metadata": {},
   "outputs": [
    {
     "data": {
      "text/plain": [
       "{'acknowledged': True}"
      ]
     },
     "execution_count": 219,
     "metadata": {},
     "output_type": "execute_result"
    }
   ],
   "source": [
    "es.indices.delete(index='test', ignore=[400, 404])"
   ]
  },
  {
   "cell_type": "code",
   "execution_count": 220,
   "metadata": {},
   "outputs": [
    {
     "name": "stderr",
     "output_type": "stream",
     "text": [
      "/tmp/ipykernel_30246/2421981795.py:1: DeprecationWarning: The 'body' parameter is deprecated for the 'create' API and will be removed in a future version. Instead use API parameters directly. See https://github.com/elastic/elasticsearch-py/issues/1698 for more information\n",
      "  es.indices.create(index='test', ignore=[400,404], body=CONFIG)\n"
     ]
    },
    {
     "data": {
      "text/plain": [
       "{'acknowledged': True, 'shards_acknowledged': True, 'index': 'test'}"
      ]
     },
     "execution_count": 220,
     "metadata": {},
     "output_type": "execute_result"
    }
   ],
   "source": [
    "es.indices.create(index='test', ignore=[400,404], body=CONFIG)"
   ]
  },
  {
   "cell_type": "code",
   "execution_count": 212,
   "metadata": {},
   "outputs": [],
   "source": [
    "DOCS = {\n",
    "    1: {\"content\": \"가, 가까스로, 가령, 각, 각각, 각자, 각종, 갖고말하자면, 이건 될까 안될까\"},\n",
    "    2: {\"content\": 'The quick brown fox jumps over the lazy dog.'},\n",
    "    }"
   ]
  },
  {
   "cell_type": "code",
   "execution_count": 221,
   "metadata": {},
   "outputs": [],
   "source": [
    "DOCS = {\n",
    "    1: {\"title\": \"My Love\",\n",
    "        \"content\": \"사랑해 그 말은 무엇보다 아픈 말 숨죽여서 하는 말 이젠 하기 힘든 말\"\n",
    "        },\n",
    "    2: {\"title\": \"듣고있나요\",\n",
    "        \"content\": \"끝내 우린 스쳐가나요 기억넘어 서로를 지워야하나요 내게 사랑이 준 깊은 상처는 어떻게 견디며 살아야하는지 매일 아픈 그리움속에 가슴 텅 빈채 살아도 그대를 사랑했던일 그것만은 죽어도 나 후회하지않아요\"\n",
    "        },\n",
    "    3: {\"title\": \"인연\",\n",
    "        \"content\": \"눈을 떠 바라보아요 그댄 정말 가셨나요 단 한번 보내준 그대 눈빛은 날 사랑했나요 또 다른 사랑이 와도 이젠 쉽게 허락되진 않아 견디기 힘들어 운명같은 우연을\"\n",
    "        },\n",
    "    4: {\"title\": \"말리 꽃\",\n",
    "        \"content\": [\"얼마나 더 견뎌야 하는지 짙은 어둠을 헤메고 있어\",\"내가 바란 꿈이라는 것은 없는걸까\", \"더 이상은 견딜수 없는 것\"]\n",
    "        },\n",
    "    5: {\"title\": \"그런 사람 또 없습니다\",\n",
    "        \"content\": \"천번 번이고 다시 태어난대도 그런 사람 또 없을테죠 슬픈 내삶을 따뜻하게 해준 잠 고마운 사람입니다\"\n",
    "        }\n",
    "}"
   ]
  },
  {
   "cell_type": "code",
   "execution_count": 222,
   "metadata": {},
   "outputs": [
    {
     "name": "stderr",
     "output_type": "stream",
     "text": [
      "/tmp/ipykernel_30246/3642452819.py:3: DeprecationWarning: The 'body' parameter is deprecated for the 'index' API and will be removed in a future version. Instead use the 'document' parameter. See https://github.com/elastic/elasticsearch-py/issues/1698 for more information\n",
      "  es.index(index='test', id=doc_id, body=doc)\n"
     ]
    }
   ],
   "source": [
    "import time\n",
    "for doc_id, doc in DOCS.items():\n",
    "    es.index(index='test', id=doc_id, body=doc)\n",
    "    time.sleep(1)"
   ]
  },
  {
   "cell_type": "code",
   "execution_count": 223,
   "metadata": {},
   "outputs": [
    {
     "data": {
      "text/plain": [
       "{'tokens': [{'token': '가',\n",
       "   'start_offset': 0,\n",
       "   'end_offset': 1,\n",
       "   'type': 'word',\n",
       "   'position': 0},\n",
       "  {'token': '가 가까스로',\n",
       "   'start_offset': 0,\n",
       "   'end_offset': 7,\n",
       "   'type': 'shingle',\n",
       "   'position': 0,\n",
       "   'positionLength': 2},\n",
       "  {'token': '가까스로',\n",
       "   'start_offset': 3,\n",
       "   'end_offset': 7,\n",
       "   'type': 'word',\n",
       "   'position': 1},\n",
       "  {'token': '가까스로 가령',\n",
       "   'start_offset': 3,\n",
       "   'end_offset': 11,\n",
       "   'type': 'shingle',\n",
       "   'position': 1,\n",
       "   'positionLength': 2},\n",
       "  {'token': '가령',\n",
       "   'start_offset': 9,\n",
       "   'end_offset': 11,\n",
       "   'type': 'word',\n",
       "   'position': 2},\n",
       "  {'token': '가령 각',\n",
       "   'start_offset': 9,\n",
       "   'end_offset': 14,\n",
       "   'type': 'shingle',\n",
       "   'position': 2,\n",
       "   'positionLength': 2},\n",
       "  {'token': '각',\n",
       "   'start_offset': 13,\n",
       "   'end_offset': 14,\n",
       "   'type': 'word',\n",
       "   'position': 3},\n",
       "  {'token': '각 각각',\n",
       "   'start_offset': 13,\n",
       "   'end_offset': 18,\n",
       "   'type': 'shingle',\n",
       "   'position': 3,\n",
       "   'positionLength': 2},\n",
       "  {'token': '각각',\n",
       "   'start_offset': 16,\n",
       "   'end_offset': 18,\n",
       "   'type': 'word',\n",
       "   'position': 4},\n",
       "  {'token': '각각 각자',\n",
       "   'start_offset': 16,\n",
       "   'end_offset': 22,\n",
       "   'type': 'shingle',\n",
       "   'position': 4,\n",
       "   'positionLength': 2},\n",
       "  {'token': '각자',\n",
       "   'start_offset': 20,\n",
       "   'end_offset': 22,\n",
       "   'type': 'word',\n",
       "   'position': 5}]}"
      ]
     },
     "execution_count": 223,
     "metadata": {},
     "output_type": "execute_result"
    }
   ],
   "source": [
    "es.indices.analyze(index='test', body={\"analyzer\" : \"nori_analyzer\", \"text\" : \"가, 가까스로, 가령, 각, 각각, 각자\"})\n"
   ]
  },
  {
   "cell_type": "code",
   "execution_count": 224,
   "metadata": {},
   "outputs": [
    {
     "name": "stdout",
     "output_type": "stream",
     "text": [
      "{'_shards': {'failed': 0, 'skipped': 0, 'successful': 1, 'total': 1},\n",
      " 'hits': {'hits': [{'_id': '3',\n",
      "                    '_index': 'test',\n",
      "                    '_score': 1.2458736,\n",
      "                    '_source': {'content': '눈을 떠 바라보아요 그댄 정말 가셨나요 단 한번 보내준 그대 '\n",
      "                                           '눈빛은 날 사랑했나요 또 다른 사랑이 와도 이젠 쉽게 허락되진 '\n",
      "                                           '않아 견디기 힘들어 운명같은 우연을',\n",
      "                                'title': '인연'},\n",
      "                    '_type': '_doc'}],\n",
      "          'max_score': 1.2458736,\n",
      "          'total': {'relation': 'eq', 'value': 1}},\n",
      " 'timed_out': False,\n",
      " 'took': 1}\n"
     ]
    }
   ],
   "source": [
    "query = \"사랑하지만 힘들어 죽겠네\"\n",
    "res = es.search(index='test', q=query, size=10)\n",
    "pprint.pprint(res)"
   ]
  },
  {
   "cell_type": "code",
   "execution_count": 208,
   "metadata": {},
   "outputs": [
    {
     "name": "stderr",
     "output_type": "stream",
     "text": [
      "/opt/conda/lib/python3.8/site-packages/elasticsearch/connection/base.py:209: ElasticsearchWarning: Elasticsearch built-in security features are not enabled. Without authentication, your cluster could be accessible to anyone. See https://www.elastic.co/guide/en/elasticsearch/reference/7.15/security-minimal-setup.html to enable security.\n",
      "  warnings.warn(message, category=ElasticsearchWarning)\n"
     ]
    },
    {
     "data": {
      "text/plain": [
       "{'took': 5,\n",
       " 'timed_out': False,\n",
       " '_shards': {'total': 1, 'successful': 1, 'skipped': 0, 'failed': 0},\n",
       " 'hits': {'total': {'value': 1, 'relation': 'eq'},\n",
       "  'max_score': 1.3977623,\n",
       "  'hits': [{'_index': 'test',\n",
       "    '_type': '_doc',\n",
       "    '_id': '3',\n",
       "    '_score': 1.3977623,\n",
       "    '_source': {'title': '인연',\n",
       "     'content': '눈을 떠 바라보아요 그댄 정말 가셨나요 단 한번 보내준 그대 눈빛은 날 사랑했나요 또 다른 사랑이 와도 이젠 쉽게 허락되진 않아 견디기 힘들어 운명같은 우연을'}}]}}"
      ]
     },
     "execution_count": 208,
     "metadata": {},
     "output_type": "execute_result"
    }
   ],
   "source": [
    "es.search(index='test', q=\"사랑하지만 힘들어 죽겠네, 가, 가까스로, 가령, 각, 각각?\", size =1)\n",
    "# es.search(index='wiki_documents', body={'size':1, 'query':{'match':{'text':q1}}})"
   ]
  },
  {
   "cell_type": "code",
   "execution_count": 49,
   "metadata": {},
   "outputs": [
    {
     "name": "stdout",
     "output_type": "stream",
     "text": [
      "test\n",
      "wiki_documents\n"
     ]
    },
    {
     "name": "stderr",
     "output_type": "stream",
     "text": [
      "/tmp/ipykernel_20892/3218817535.py:1: DeprecationWarning: Using positional arguments for APIs is deprecated and will be disabled in 8.0.0. Instead use only keyword arguments for all APIs. See https://github.com/elastic/elasticsearch-py/issues/1698 for more information\n",
      "  res = es.indices.get_alias(\"*\")\n"
     ]
    }
   ],
   "source": [
    "res = es.indices.get_alias(\"*\")\n",
    "for Name in res:\n",
    "    print(Name)"
   ]
  },
  {
   "cell_type": "code",
   "execution_count": 6,
   "metadata": {},
   "outputs": [
    {
     "data": {
      "text/plain": [
       "{'acknowledged': True}"
      ]
     },
     "execution_count": 6,
     "metadata": {},
     "output_type": "execute_result"
    }
   ],
   "source": [
    "es.indices.delete(index='toy_index', ignore=[400, 404])"
   ]
  },
  {
   "cell_type": "code",
   "execution_count": 7,
   "metadata": {},
   "outputs": [],
   "source": [
    "with open('/opt/ml/data/wikipedia_documents.json') as f :\n",
    "    data = json.load(f)"
   ]
  },
  {
   "cell_type": "code",
   "execution_count": 8,
   "metadata": {},
   "outputs": [
    {
     "data": {
      "text/plain": [
       "('0',\n",
       " {'text': '이 문서는 나라 목록이며, 전 세계 206개 나라의 각 현황과 주권 승인 정보를 개요 형태로 나열하고 있다.\\n\\n이 목록은 명료화를 위해 두 부분으로 나뉘어 있다.\\n\\n# 첫 번째 부분은 바티칸 시국과 팔레스타인을 포함하여 유엔 등 국제 기구에 가입되어 국제적인 승인을 널리 받았다고 여기는 195개 나라를 나열하고 있다.\\n# 두 번째 부분은 일부 지역의 주권을 사실상 (데 팍토) 행사하고 있지만, 아직 국제적인 승인을 널리 받지 않았다고 여기는 11개 나라를 나열하고 있다.\\n\\n두 목록은 모두 가나다 순이다.\\n\\n일부 국가의 경우 국가로서의 자격에 논쟁의 여부가 있으며, 이 때문에 이러한 목록을 엮는 것은 매우 어렵고 논란이 생길 수 있는 과정이다. 이 목록을 구성하고 있는 국가를 선정하는 기준에 대한 정보는 \"포함 기준\" 단락을 통해 설명하였다. 나라에 대한 일반적인 정보는 \"국가\" 문서에서 설명하고 있다.',\n",
       "  'corpus_source': '위키피디아',\n",
       "  'url': 'TODO',\n",
       "  'domain': None,\n",
       "  'title': '나라 목록',\n",
       "  'author': None,\n",
       "  'html': None,\n",
       "  'document_id': 0})"
      ]
     },
     "execution_count": 8,
     "metadata": {},
     "output_type": "execute_result"
    }
   ],
   "source": [
    "next(iter(data.items()))"
   ]
  },
  {
   "cell_type": "code",
   "execution_count": 9,
   "metadata": {},
   "outputs": [],
   "source": [
    "df = pd.read_json('/opt/ml/data/wikipedia_documents.json').T"
   ]
  },
  {
   "cell_type": "code",
   "execution_count": 10,
   "metadata": {},
   "outputs": [
    {
     "data": {
      "text/html": [
       "<div>\n",
       "<style scoped>\n",
       "    .dataframe tbody tr th:only-of-type {\n",
       "        vertical-align: middle;\n",
       "    }\n",
       "\n",
       "    .dataframe tbody tr th {\n",
       "        vertical-align: top;\n",
       "    }\n",
       "\n",
       "    .dataframe thead th {\n",
       "        text-align: right;\n",
       "    }\n",
       "</style>\n",
       "<table border=\"1\" class=\"dataframe\">\n",
       "  <thead>\n",
       "    <tr style=\"text-align: right;\">\n",
       "      <th></th>\n",
       "      <th>text</th>\n",
       "      <th>corpus_source</th>\n",
       "      <th>url</th>\n",
       "      <th>domain</th>\n",
       "      <th>title</th>\n",
       "      <th>author</th>\n",
       "      <th>html</th>\n",
       "      <th>document_id</th>\n",
       "    </tr>\n",
       "  </thead>\n",
       "  <tbody>\n",
       "    <tr>\n",
       "      <th>0</th>\n",
       "      <td>이 문서는 나라 목록이며, 전 세계 206개 나라의 각 현황과 주권 승인 정보를 개...</td>\n",
       "      <td>위키피디아</td>\n",
       "      <td>TODO</td>\n",
       "      <td>None</td>\n",
       "      <td>나라 목록</td>\n",
       "      <td>None</td>\n",
       "      <td>None</td>\n",
       "      <td>0</td>\n",
       "    </tr>\n",
       "    <tr>\n",
       "      <th>1</th>\n",
       "      <td>이 목록에 실린 국가 기준은 1933년 몬테비데오 협약 1장을 참고로 하였다. 협정...</td>\n",
       "      <td>위키피디아</td>\n",
       "      <td>TODO</td>\n",
       "      <td>None</td>\n",
       "      <td>나라 목록</td>\n",
       "      <td>None</td>\n",
       "      <td>None</td>\n",
       "      <td>1</td>\n",
       "    </tr>\n",
       "    <tr>\n",
       "      <th>2</th>\n",
       "      <td>현 서울특별시 종로구 서린동 (구 일제 강점기 경기도 경성부 서린정) 출신이다. 친...</td>\n",
       "      <td>위키피디아</td>\n",
       "      <td>TODO</td>\n",
       "      <td>None</td>\n",
       "      <td>백남준</td>\n",
       "      <td>None</td>\n",
       "      <td>None</td>\n",
       "      <td>2</td>\n",
       "    </tr>\n",
       "    <tr>\n",
       "      <th>3</th>\n",
       "      <td>아오조라 문고(靑空文庫, あおぞらぶんこ|아오조라 분고)는 ‘일본어판 구텐베르크 프로...</td>\n",
       "      <td>위키피디아</td>\n",
       "      <td>TODO</td>\n",
       "      <td>None</td>\n",
       "      <td>아오조라 문고</td>\n",
       "      <td>None</td>\n",
       "      <td>None</td>\n",
       "      <td>3</td>\n",
       "    </tr>\n",
       "    <tr>\n",
       "      <th>4</th>\n",
       "      <td>저자 사망 이후 50년이 지나 저작권이 소멸한 메이지 시대부터 쇼와 시대 초기까지의...</td>\n",
       "      <td>위키피디아</td>\n",
       "      <td>TODO</td>\n",
       "      <td>None</td>\n",
       "      <td>아오조라 문고</td>\n",
       "      <td>None</td>\n",
       "      <td>None</td>\n",
       "      <td>4</td>\n",
       "    </tr>\n",
       "  </tbody>\n",
       "</table>\n",
       "</div>"
      ],
      "text/plain": [
       "                                                text corpus_source   url  \\\n",
       "0  이 문서는 나라 목록이며, 전 세계 206개 나라의 각 현황과 주권 승인 정보를 개...         위키피디아  TODO   \n",
       "1  이 목록에 실린 국가 기준은 1933년 몬테비데오 협약 1장을 참고로 하였다. 협정...         위키피디아  TODO   \n",
       "2  현 서울특별시 종로구 서린동 (구 일제 강점기 경기도 경성부 서린정) 출신이다. 친...         위키피디아  TODO   \n",
       "3  아오조라 문고(靑空文庫, あおぞらぶんこ|아오조라 분고)는 ‘일본어판 구텐베르크 프로...         위키피디아  TODO   \n",
       "4  저자 사망 이후 50년이 지나 저작권이 소멸한 메이지 시대부터 쇼와 시대 초기까지의...         위키피디아  TODO   \n",
       "\n",
       "  domain    title author  html document_id  \n",
       "0   None    나라 목록   None  None           0  \n",
       "1   None    나라 목록   None  None           1  \n",
       "2   None      백남준   None  None           2  \n",
       "3   None  아오조라 문고   None  None           3  \n",
       "4   None  아오조라 문고   None  None           4  "
      ]
     },
     "execution_count": 10,
     "metadata": {},
     "output_type": "execute_result"
    }
   ],
   "source": [
    "df.head()"
   ]
  },
  {
   "cell_type": "code",
   "execution_count": 52,
   "metadata": {},
   "outputs": [],
   "source": [
    "df = pd.read_json('/opt/ml/data/wikipedia_documents.json').T\n",
    "df = df.drop_duplicates(subset=['text'])\n",
    "# df = df.to_dict('records')"
   ]
  },
  {
   "cell_type": "code",
   "execution_count": 64,
   "metadata": {},
   "outputs": [
    {
     "data": {
      "text/plain": [
       "56700"
      ]
     },
     "execution_count": 64,
     "metadata": {},
     "output_type": "execute_result"
    }
   ],
   "source": [
    "len(df)//100, len(df)%100\n",
    "\n",
    "len(df[:100*(len(df)//100)])"
   ]
  },
  {
   "cell_type": "code",
   "execution_count": 51,
   "metadata": {},
   "outputs": [
    {
     "data": {
      "text/plain": [
       "index            56737\n",
       "text             56737\n",
       "corpus_source        1\n",
       "url                  1\n",
       "domain               0\n",
       "title            31726\n",
       "author               0\n",
       "html                 0\n",
       "document_id      56737\n",
       "dtype: int64"
      ]
     },
     "execution_count": 51,
     "metadata": {},
     "output_type": "execute_result"
    }
   ],
   "source": [
    "df = df.drop_duplicates(subset=['text']).reset_index()\n",
    "df.nunique()"
   ]
  },
  {
   "cell_type": "code",
   "execution_count": 52,
   "metadata": {},
   "outputs": [
    {
     "data": {
      "text/plain": [
       "56737"
      ]
     },
     "execution_count": 52,
     "metadata": {},
     "output_type": "execute_result"
    }
   ],
   "source": [
    "len(df)"
   ]
  },
  {
   "cell_type": "code",
   "execution_count": 53,
   "metadata": {},
   "outputs": [],
   "source": [
    "df_rec_dict = df.to_dict('records')"
   ]
  },
  {
   "cell_type": "code",
   "execution_count": 54,
   "metadata": {},
   "outputs": [],
   "source": [
    "def generator(df):\n",
    "  for c, line in enumerate(df):\n",
    "    yield {\n",
    "      '_index': 'wiki_documents',\n",
    "      '_type': '_doc',\n",
    "      '_id': line.get('document_id', None),\n",
    "      '_source': {\n",
    "        'title': line.get('title', ''),\n",
    "        'text': line.get('text', '')\n",
    "      }\n",
    "    }\n",
    "  raise StopIteration"
   ]
  },
  {
   "cell_type": "code",
   "execution_count": 55,
   "metadata": {},
   "outputs": [],
   "source": [
    "CONFIG = {\n",
    "  'settings':{\n",
    "    'number_of_shards':1,\n",
    "    'number_of_replicas':1,\n",
    "    'analysis':{\n",
    "      'analyzer': {\n",
    "        'nori_analyzer':{\n",
    "          'type': 'custom',\n",
    "          'tokenizer': 'nori_tokenizer'\n",
    "        }\n",
    "      },\n",
    "    }\n",
    "  },\n",
    "  'mappings':{\n",
    "    'properties':{\n",
    "      'title':{\n",
    "        'type':'text'\n",
    "      },\n",
    "      'text':{\n",
    "        'type':'text',\n",
    "        \"analyzer\": \"nori_analyzer\"\n",
    "      }\n",
    "    }\n",
    "  }\n",
    "}"
   ]
  },
  {
   "cell_type": "code",
   "execution_count": 56,
   "metadata": {},
   "outputs": [
    {
     "name": "stderr",
     "output_type": "stream",
     "text": [
      "/tmp/ipykernel_18337/2280445778.py:1: DeprecationWarning: The 'body' parameter is deprecated for the 'create' API and will be removed in a future version. Instead use API parameters directly. See https://github.com/elastic/elasticsearch-py/issues/1698 for more information\n",
      "  es.indices.create(index='wiki_documents', ignore=[400,404], body=CONFIG)\n",
      "/opt/conda/lib/python3.8/site-packages/elasticsearch/connection/base.py:209: ElasticsearchWarning: Elasticsearch built-in security features are not enabled. Without authentication, your cluster could be accessible to anyone. See https://www.elastic.co/guide/en/elasticsearch/reference/7.15/security-minimal-setup.html to enable security.\n",
      "  warnings.warn(message, category=ElasticsearchWarning)\n"
     ]
    },
    {
     "data": {
      "text/plain": [
       "{'error': {'root_cause': [{'type': 'resource_already_exists_exception',\n",
       "    'reason': 'index [wiki_documents/lwi98_RFRrCPTBRGTlIrRg] already exists',\n",
       "    'index_uuid': 'lwi98_RFRrCPTBRGTlIrRg',\n",
       "    'index': 'wiki_documents'}],\n",
       "  'type': 'resource_already_exists_exception',\n",
       "  'reason': 'index [wiki_documents/lwi98_RFRrCPTBRGTlIrRg] already exists',\n",
       "  'index_uuid': 'lwi98_RFRrCPTBRGTlIrRg',\n",
       "  'index': 'wiki_documents'},\n",
       " 'status': 400}"
      ]
     },
     "execution_count": 56,
     "metadata": {},
     "output_type": "execute_result"
    }
   ],
   "source": [
    "es.indices.create(index='wiki_documents', ignore=[400,404], body=CONFIG)"
   ]
  },
  {
   "cell_type": "code",
   "execution_count": 57,
   "metadata": {},
   "outputs": [],
   "source": [
    "gen = generator(df_rec_dict)"
   ]
  },
  {
   "cell_type": "code",
   "execution_count": 58,
   "metadata": {},
   "outputs": [
    {
     "name": "stderr",
     "output_type": "stream",
     "text": [
      "/opt/conda/lib/python3.8/site-packages/elasticsearch/connection/base.py:209: ElasticsearchWarning: [types removal] Specifying types in bulk requests is deprecated.\n",
      "  warnings.warn(message, category=ElasticsearchWarning)\n"
     ]
    },
    {
     "name": "stdout",
     "output_type": "stream",
     "text": [
      "generator raised StopIteration\n",
      "Done\n"
     ]
    }
   ],
   "source": [
    "try:\n",
    "  res = helpers.bulk(es, gen, chunk_size = 1)\n",
    "  # print(res)\n",
    "except Exception as e:\n",
    "  print(e)\n",
    "  print('Done')"
   ]
  },
  {
   "cell_type": "code",
   "execution_count": 66,
   "metadata": {},
   "outputs": [
    {
     "data": {
      "text/plain": [
       "(0, [])"
      ]
     },
     "execution_count": 66,
     "metadata": {},
     "output_type": "execute_result"
    }
   ],
   "source": [
    "res"
   ]
  },
  {
   "cell_type": "code",
   "execution_count": 67,
   "metadata": {},
   "outputs": [
    {
     "data": {
      "text/plain": [
       "{'count': 56736,\n",
       " '_shards': {'total': 1, 'successful': 1, 'skipped': 0, 'failed': 0}}"
      ]
     },
     "execution_count": 67,
     "metadata": {},
     "output_type": "execute_result"
    }
   ],
   "source": [
    "es.count(index = 'wiki_documents')"
   ]
  },
  {
   "cell_type": "code",
   "execution_count": 68,
   "metadata": {},
   "outputs": [
    {
     "data": {
      "text/plain": [
       "{'_index': 'wiki_documents',\n",
       " '_type': '_doc',\n",
       " '_id': '60000',\n",
       " '_version': 2,\n",
       " '_seq_no': 113928,\n",
       " '_primary_term': 1,\n",
       " 'found': True,\n",
       " '_source': {'title': '설원 (책)',\n",
       "  'text': '≪설원≫은 유가의 정치사상과 윤리도덕의 관념을 깊이 반영했다. 이것은 유향이 유가사상가이자 학자로서 자신의 책무를 수행하려 했던 결과다. 또한 왕조가 쇠퇴하는 추세뿐 아니라 지도층의 부정부패와 사치를 목격하고서, 제국을 바로잡아 보려는 노력을 반영한 것이기도 하다. 그래서 순임금, 우임금으로부터 진한(秦漢)에 이르기까지 여러 인물의 언행이나 사건 또는 일화를 모아 정치의 흥망을 엿볼 수 있는 역사의 거울을 제공했다. 이를 통해 군주와 신하들을 권면하고 조정을 정돈하며, 당시의 폐단을 바로잡으려 했던 것이다. 이에 유향은 각 고사를 통해서 제왕, 장상(將相), 사대부 들에게 어떻게 해야 바른 군주, 바른 신하, 바른 백성이 될 것인가, 그리고 어떻게 해야 제국을 일으키고 백성을 다스리며 외교를 처리할 것인가를 제시했다.\\n\\n이렇게 유향이 모은 이야기들에는 백성이 치국의 근본이 되어야 한다든가, 세금을 경감해야 한다든가, 욕구를 억제하고 사치를 경계해야 한다든가, 통치자는 현신과 간신을 구별해야 한다든가, 현사를 높이고 예우해야 한다는 주장 등, 통치자라면 누구나 따라야 할 통치의 모든 덕목이 담겨 있다.'}}"
      ]
     },
     "execution_count": 68,
     "metadata": {},
     "output_type": "execute_result"
    }
   ],
   "source": [
    "es.get(index='wiki_documents', id=60000)"
   ]
  },
  {
   "cell_type": "code",
   "execution_count": 89,
   "metadata": {},
   "outputs": [
    {
     "data": {
      "text/plain": [
       "DatasetDict({\n",
       "    validation: Dataset({\n",
       "        features: ['id', 'question'],\n",
       "        num_rows: 600\n",
       "    })\n",
       "})"
      ]
     },
     "execution_count": 89,
     "metadata": {},
     "output_type": "execute_result"
    }
   ],
   "source": [
    "tmp = load_from_disk('/opt/ml/data/test_dataset')\n",
    "tmp"
   ]
  },
  {
   "cell_type": "code",
   "execution_count": 64,
   "metadata": {},
   "outputs": [],
   "source": [
    "datasets = load_from_disk('/opt/ml/data/train_dataset') \n",
    "train_df = pd.DataFrame(datasets[\"train\"])"
   ]
  },
  {
   "cell_type": "code",
   "execution_count": 75,
   "metadata": {},
   "outputs": [],
   "source": [
    "q1 = train_df.loc[0,'question']"
   ]
  },
  {
   "cell_type": "code",
   "execution_count": 76,
   "metadata": {},
   "outputs": [
    {
     "name": "stderr",
     "output_type": "stream",
     "text": [
      "/tmp/ipykernel_18337/1279345985.py:1: DeprecationWarning: The 'body' parameter is deprecated for the 'search' API and will be removed in a future version. Instead use API parameters directly. See https://github.com/elastic/elasticsearch-py/issues/1698 for more information\n",
      "  es.search(index='wiki_documents', body={'size':1, 'query':{'match':{'text':q1}}})\n",
      "/opt/conda/lib/python3.8/site-packages/elasticsearch/connection/base.py:209: ElasticsearchWarning: Elasticsearch built-in security features are not enabled. Without authentication, your cluster could be accessible to anyone. See https://www.elastic.co/guide/en/elasticsearch/reference/7.15/security-minimal-setup.html to enable security.\n",
      "  warnings.warn(message, category=ElasticsearchWarning)\n"
     ]
    },
    {
     "data": {
      "text/plain": [
       "{'took': 16,\n",
       " 'timed_out': False,\n",
       " '_shards': {'total': 1, 'successful': 1, 'skipped': 0, 'failed': 0},\n",
       " 'hits': {'total': {'value': 10000, 'relation': 'gte'},\n",
       "  'max_score': 37.232613,\n",
       "  'hits': [{'_index': 'wiki_documents',\n",
       "    '_type': '_doc',\n",
       "    '_id': '10598',\n",
       "    '_score': 37.232613,\n",
       "    '_source': {'title': '내각',\n",
       "     'text': '내각(內閣, cabinet)은 행정부의 주요 각료들로 구성되는 국가의 주요기관이다.\\n\\n의원내각제에서 내각은 수상과 여러 장관으로 조직되는 합의체로, 국가의 행정권을 담당하고 국회에 대한 연대책임을 갖는다. 의원내각제에 있어서 내각은 국가행정의 최고기관인 한편 국민이 구성시키는 의회에 의하여 철저히 견제되어 의회민주주의 체제를 이룬다.\\n\\n그 직접적 유래는 영국에서 국왕의 정치를 자문하던 추밀원에서 찾을 수 있다. 특히 내각은 추밀원의 일개 회의에서 시작하였다가 권한이 집중되어 분리된 기관으로, 이후 국왕의 실권이 사라지고 일명 웨스트민스터 시스템으로 불리는 의원내각제가 성립하면서 의회에 의한 민주적 행정부를 이루게 되었다.\\n\\n한편 국가원수에게 대부분의 권력이 집중되는 대통령중심제와 군주제에서 내각은 원칙적으로 의결권이 없거나 의결의 구속력이 없는 보좌기관에 불과한 경우가 많다.(예: 대한민국의 국무회의)\\n\\n대한민국은 국무회의가 내각에 속하며 권한이 대통령에 비해 제한적이다. 과거 왕조시대 때는 고려시대의 중서문하성, 중추원, 육부 또는 조선시대의 의정부와 육조가 내각과 비슷한 성향을 지니고 있었다.'}}]}}"
      ]
     },
     "execution_count": 76,
     "metadata": {},
     "output_type": "execute_result"
    }
   ],
   "source": [
    "es.search(index='wiki_documents', body={'size':1, 'query':{'match':{'text':q1}}})"
   ]
  },
  {
   "cell_type": "code",
   "execution_count": 83,
   "metadata": {},
   "outputs": [
    {
     "data": {
      "text/plain": [
       "{'wiki_documents': {'mappings': {'properties': {'text': {'type': 'text',\n",
       "     'analyzer': 'nori_analyzer'},\n",
       "    'title': {'type': 'text'}}}}}"
      ]
     },
     "execution_count": 83,
     "metadata": {},
     "output_type": "execute_result"
    }
   ],
   "source": [
    "es.indices.get_mapping(index='wiki_documents')"
   ]
  },
  {
   "cell_type": "code",
   "execution_count": 84,
   "metadata": {},
   "outputs": [],
   "source": [
    "settings = {\n",
    "  'settings':{\n",
    "    'number_of_shards':1,\n",
    "    'number_of_replicas':1,\n",
    "    'analysis':{\n",
    "      'analyzer': {\n",
    "        'nori_analyzer':{\n",
    "          'type': 'custom',\n",
    "          'tokenizer': 'nori'\n",
    "        }\n",
    "      }\n",
    "    }\n",
    "  }\n",
    "}"
   ]
  },
  {
   "cell_type": "code",
   "execution_count": 86,
   "metadata": {},
   "outputs": [
    {
     "data": {
      "text/plain": [
       "{'tokens': [{'token': '문서',\n",
       "   'start_offset': 2,\n",
       "   'end_offset': 4,\n",
       "   'type': 'word',\n",
       "   'position': 1},\n",
       "  {'token': '나라',\n",
       "   'start_offset': 6,\n",
       "   'end_offset': 8,\n",
       "   'type': 'word',\n",
       "   'position': 3},\n",
       "  {'token': '목록',\n",
       "   'start_offset': 9,\n",
       "   'end_offset': 11,\n",
       "   'type': 'word',\n",
       "   'position': 4},\n",
       "  {'token': '이',\n",
       "   'start_offset': 11,\n",
       "   'end_offset': 12,\n",
       "   'type': 'word',\n",
       "   'position': 5},\n",
       "  {'token': '세계',\n",
       "   'start_offset': 17,\n",
       "   'end_offset': 19,\n",
       "   'type': 'word',\n",
       "   'position': 8},\n",
       "  {'token': '206',\n",
       "   'start_offset': 20,\n",
       "   'end_offset': 23,\n",
       "   'type': 'word',\n",
       "   'position': 9},\n",
       "  {'token': '개',\n",
       "   'start_offset': 23,\n",
       "   'end_offset': 24,\n",
       "   'type': 'word',\n",
       "   'position': 10},\n",
       "  {'token': '나라',\n",
       "   'start_offset': 25,\n",
       "   'end_offset': 27,\n",
       "   'type': 'word',\n",
       "   'position': 11},\n",
       "  {'token': '현황',\n",
       "   'start_offset': 31,\n",
       "   'end_offset': 33,\n",
       "   'type': 'word',\n",
       "   'position': 14},\n",
       "  {'token': '주권',\n",
       "   'start_offset': 35,\n",
       "   'end_offset': 37,\n",
       "   'type': 'word',\n",
       "   'position': 16},\n",
       "  {'token': '승인',\n",
       "   'start_offset': 38,\n",
       "   'end_offset': 40,\n",
       "   'type': 'word',\n",
       "   'position': 17},\n",
       "  {'token': '정보',\n",
       "   'start_offset': 41,\n",
       "   'end_offset': 43,\n",
       "   'type': 'word',\n",
       "   'position': 18},\n",
       "  {'token': '개요',\n",
       "   'start_offset': 45,\n",
       "   'end_offset': 47,\n",
       "   'type': 'word',\n",
       "   'position': 20},\n",
       "  {'token': '형태',\n",
       "   'start_offset': 48,\n",
       "   'end_offset': 50,\n",
       "   'type': 'word',\n",
       "   'position': 21},\n",
       "  {'token': '나열',\n",
       "   'start_offset': 52,\n",
       "   'end_offset': 54,\n",
       "   'type': 'word',\n",
       "   'position': 23},\n",
       "  {'token': '있',\n",
       "   'start_offset': 57,\n",
       "   'end_offset': 58,\n",
       "   'type': 'word',\n",
       "   'position': 26},\n",
       "  {'token': '목록',\n",
       "   'start_offset': 64,\n",
       "   'end_offset': 66,\n",
       "   'type': 'word',\n",
       "   'position': 29},\n",
       "  {'token': '명료',\n",
       "   'start_offset': 68,\n",
       "   'end_offset': 70,\n",
       "   'type': 'word',\n",
       "   'position': 31},\n",
       "  {'token': '위하',\n",
       "   'start_offset': 73,\n",
       "   'end_offset': 75,\n",
       "   'type': 'word',\n",
       "   'position': 34},\n",
       "  {'token': '부분',\n",
       "   'start_offset': 78,\n",
       "   'end_offset': 80,\n",
       "   'type': 'word',\n",
       "   'position': 37},\n",
       "  {'token': '나뉘',\n",
       "   'start_offset': 83,\n",
       "   'end_offset': 85,\n",
       "   'type': 'word',\n",
       "   'position': 39},\n",
       "  {'token': '있',\n",
       "   'start_offset': 87,\n",
       "   'end_offset': 88,\n",
       "   'type': 'word',\n",
       "   'position': 41}]}"
      ]
     },
     "execution_count": 86,
     "metadata": {},
     "output_type": "execute_result"
    }
   ],
   "source": [
    "es.indices.analyze(\n",
    "  body={\n",
    "    'text': '이 문서는 나라 목록이며, 전 세계 206개 나라의 각 현황과 주권 승인 정보를 개요 형태로 나열하고 있다.\\n\\n이 목록은 명료화를 위해 두 부분으로 나뉘어 있다.',\n",
    "    'analyzer':'nori',\n",
    "  }\n",
    ")"
   ]
  },
  {
   "cell_type": "code",
   "execution_count": 87,
   "metadata": {},
   "outputs": [
    {
     "name": "stderr",
     "output_type": "stream",
     "text": [
      "/tmp/ipykernel_18337/1677013031.py:1: DeprecationWarning: The 'body' parameter is deprecated for the 'search' API and will be removed in a future version. Instead use API parameters directly. See https://github.com/elastic/elasticsearch-py/issues/1698 for more information\n",
      "  es.search(\n"
     ]
    },
    {
     "data": {
      "text/plain": [
       "{'took': 36,\n",
       " 'timed_out': False,\n",
       " '_shards': {'total': 1, 'successful': 1, 'skipped': 0, 'failed': 0},\n",
       " 'hits': {'total': {'value': 10000, 'relation': 'gte'},\n",
       "  'max_score': 21.451807,\n",
       "  'hits': [{'_index': 'wiki_documents',\n",
       "    '_type': '_doc',\n",
       "    '_id': '20081',\n",
       "    '_score': 21.451807,\n",
       "    '_source': {'title': '크리스 니코스키',\n",
       "     'text': 'SK에서 방출된 이후 그는 일본을 여행하며 잠시 신변을 정리하고 있었다. 그 때 좌완 선발 투수가 필요하여 니코스키에게 관심을 두고 있었던 두산 베어스가 SK 와이번스에 계약 양도를 신청하여 곧바로 맷 왓슨의 대체 용병으로 두산 베어스로 이적했고 두산 베어스의 선발진에 합류하여 비로소 첫 승을 따 냈으며  승리를 대부분 한화 이글스전에서 기록하여 한화 이글스에는 강력한 천적으로 자리매김했다.  그러나 예전부터 주로 원포인트 및 중간계투로 뛰다가 선발로 전환한 탓에 선발로는 아직 익숙하지 않아 3회까지 투구수가 70개 가까이 되는 경기가 대부분이라는 단점이 있었다.  2009년 9월 13일 KIA 타이거즈전에서 비로소 초반에 급격하게 늘어나는 투구수를 극복하여 승리를 따 내기도 했다.  두산 베어스 합류 후 12경기에 더 나서고 2009년 정규 시즌을 4승 8패, 평균 자책 3.78로 마무리했다. 완전한 선발 전업 후 후반기에 조금씩 나아지는 모습을 보였으나, 잠실야구장에서 롯데 자이언츠와 맞붙었던 2009년 9월 29일 준 플레이오프 1차전에서 무실점으로 3이닝을 호투하던 중 갑작스러운 어깨 통증으로 조기 강판당했고, 그 날 두산 베어스는 롯데 자이언츠에게 1차전을 내주었다. 진단 결과 극상근 손상 판정을 받아 포스트 시즌 전력에서 완전히 이탈하고 말았다. 플레이오프가 끝난 이후 이닝 소화 능력이 떨어진다는 이유로 두산 베어스가 재계약을 포기하면서 대한민국을 떠나게 되었다.  두산에서의 마지막이 좋지 않았지만, 그가 두산에 입단하여 2군에서 불펜 피칭을 했을 때 그를 지켜보았던 박종훈 당시 2군 감독은 니코스키를 두고 성격이 좋았다고 하였다.'}},\n",
       "   {'_index': 'wiki_documents',\n",
       "    '_type': '_doc',\n",
       "    '_id': '13590',\n",
       "    '_score': 20.417538,\n",
       "    '_source': {'title': '오퍼레이션7',\n",
       "     'text': '냉전 종식 이후 전 세계적으로 소규모의 끊임없는 국지 분쟁들이 생겨나고 강대국들의 잦은 내정간섭과 문화침공, 강제간섭 등은 안정되지 않은 많은 나라의 골칫거리들이 되었다. 이처럼 많은 분쟁과 폭동, 혼란을 틈타 용병산업이 호황을 누리게 되었다. 2010년 용병회사들은 다국적 거대기업으로 성장하면서 각국의 정규군에 못지않은 화력을 갖추고 고도로 훈련된 외인부대들이 적게는 수십 명에서 많게는 수천 명에 이르는 전쟁 베테랑들로 즉각 출동할 수 있는 동원능력을 갖추고 있으며 보유장비 또한 최신형 개인화기, 장갑차, 헬기, 전차, 전투기 등 작은 나라의 군사력 이상을 능가할 정도이다. 외국정부를 상대로 계약을 따내면 파병하여 계약된 임무를 완수하는 형태로 많은 분쟁을 막고 때로는 돈에 의해 용병들 간의 전투가 끊이지 않는다. 또 작은 나라의 정규군을 훈련, 요인 경호 등도 파병의 대상이 되었으며 때로는 그 대가로 광산채굴권을 관리하기도 했다.\\\\n2010년 이후 점점 확대되어가는 용병산업으로 각국은 앞다투어 용병회사의 파병을 요청하였고 몇몇 나라는 국가 차원의 용병을 생산하기도 하였다. 이렇게 생산된 용병들은 작은 폭동진압에서부터 대규모 데모 진압은 물론 거대기업 간의 암투, 소규모 국지전 등에 투입되며 그 명성과 존재 가치가 더욱 높아지는 형태로 자리 잡았다.\\\\n또 용병들의 파병으로 제3국에 수출되고 이러한 막대한 경제이익을 생산하여 전 세계는 용병들의 시대를 예고하였다. 이를 피의 수출이라고도 한다. 수많은 용병단의 출현으로 많은 분쟁이 끊이지 않았으나 이젠 용병들이 존재하지 않고는 그 수많은 문제를 국가 차원에서 해결하기 쉽지 않았다. 그 때문에 무기생산과 피의 수출로 말미암은 경제적 가치는 수많은 나라와 수많은 사람이 살아가는 중요한 이유가 되었다.\\\\n용병들은 훈련된 외인부대로 그 활용성이 매우 높으며 어려운 임무에는 많은 수익을 보장받는다 하여 많은 젊은이가 자원하고 나섰다.\\\\n그러나 이런 용병회사와 계약한 나라들이 계약한 보수를 지급하지 않는 사건들이 자주 발생하게 되고 이에 따라 용병들의 약탈과 계약 불이행이 잇달았다. 때로는 도가 지나친 약탈과 행패 때문에 몇몇의 용병단은 내분으로 말미암은 파행의 경우도 속출 되었다. 이렇게 파행된 용병단의 용병들은 용병대장을 추대하고 독립적인 용병단을 구성하거나 회사로 만드는 일도 종종 있었다.\\\\n그리하여 지금! 용병들의 춘추전국시대가 도래한 것이다.'}},\n",
       "   {'_index': 'wiki_documents',\n",
       "    '_type': '_doc',\n",
       "    '_id': '10323',\n",
       "    '_score': 19.946838,\n",
       "    '_source': {'title': '디자인 플래닝',\n",
       "     'text': '디자인 플래닝(Design Planning)은 디자인을 전략적 관점에서 기획하고 디자인 프로젝트를 수행해 나가기 위한 계획을 수립하는 일이다.\\n\\n어떤 디자인을 만들고자 할 때 \\'무엇을 디자인할 것인가?\\'와 \\'어떻게 그 디자인을 만들어낼 것인가?\\'의 두 가지 질문에 따라 디자인을 해 나가는 절차적 활동을 할 수 있다. 이때 이러한 시작부터 디자인의 결과물이 나오는 시점까지의 계획이 필요하다. 이때 특히 디자인 플래닝은 \"무엇을 디자인할 것인가?\"에 대한 답을 구하는 일련의 디자인 프로세스를 위한 사전 활동이다. 디자인의 결과는 제품, 서비스 혹은 절차나 조직이 될 수도 있으며 이러한 활동을 통해 실제 만드는 과정에서의 목표를 확실히 하며 좋은 결과물에 대한 평가의 지침이 될 수 있다.'}}]}}"
      ]
     },
     "execution_count": 87,
     "metadata": {},
     "output_type": "execute_result"
    }
   ],
   "source": [
    "es.search(\n",
    "  index='wiki_documents', \n",
    "  body={\n",
    "    'query':{\n",
    "      'match':{\n",
    "        'text':'용병회사의 경기가 좋아진 것은 무엇이 끝난 이후부터인가?',\n",
    "        # 'tokenizer': 'nori'\n",
    "      }\n",
    "    }\n",
    "  },\n",
    "  size=3\n",
    ")"
   ]
  },
  {
   "cell_type": "code",
   "execution_count": null,
   "metadata": {},
   "outputs": [],
   "source": []
  }
 ],
 "metadata": {
  "interpreter": {
   "hash": "d4d1e4263499bec80672ea0156c357c1ee493ec2b1c70f0acce89fc37c4a6abe"
  },
  "kernelspec": {
   "display_name": "Python 3.8.5 64-bit ('base': conda)",
   "name": "python3"
  },
  "language_info": {
   "codemirror_mode": {
    "name": "ipython",
    "version": 3
   },
   "file_extension": ".py",
   "mimetype": "text/x-python",
   "name": "python",
   "nbconvert_exporter": "python",
   "pygments_lexer": "ipython3",
   "version": "3.8.5"
  },
  "orig_nbformat": 4
 },
 "nbformat": 4,
 "nbformat_minor": 2
}
