{
 "cells": [
  {
   "cell_type": "markdown",
   "metadata": {},
   "source": [
    "# Setting"
   ]
  },
  {
   "cell_type": "code",
   "execution_count": 1,
   "metadata": {},
   "outputs": [
    {
     "ename": "SyntaxError",
     "evalue": "invalid syntax (573790628.py, line 34)",
     "output_type": "error",
     "traceback": [
      "\u001b[0;36m  File \u001b[0;32m\"/tmp/ipykernel_19352/573790628.py\"\u001b[0;36m, line \u001b[0;32m34\u001b[0m\n\u001b[0;31m    from ... import retriever.model_encoder import RobertaEncoder, BertEncoder\u001b[0m\n\u001b[0m                             ^\u001b[0m\n\u001b[0;31mSyntaxError\u001b[0m\u001b[0;31m:\u001b[0m invalid syntax\n"
     ]
    }
   ],
   "source": [
    "import os\n",
    "import json\n",
    "import argparse\n",
    "import numpy as np\n",
    "import pandas as pd\n",
    "from collections import defaultdict, Counter\n",
    "\n",
    "from typing import Callable, List, Dict, NoReturn, Tuple, Union\n",
    "from tqdm.auto import tqdm\n",
    "\n",
    "import matplotlib as mpl\n",
    "import matplotlib.pyplot as plt\n",
    "import seaborn as sns\n",
    "\n",
    "from transformers import (\n",
    "    AutoTokenizer,\n",
    "    AutoConfig,\n",
    "    AdamW,\n",
    "    get_linear_schedule_with_warmup,\n",
    "    TrainingArguments,\n",
    "    set_seed\n",
    ")\n",
    "\n",
    "from datasets import (\n",
    "    load_metric,\n",
    "    load_from_disk,\n",
    "    Sequence,\n",
    "    Value,\n",
    "    Features,\n",
    "    Dataset,\n",
    "    DatasetDict,\n",
    ")\n",
    "\n",
    "from ... import retriever.model_encoder import RobertaEncoder, BertEncoder\n",
    "from ... import retriever.retriever_dense import DenseRetrieval\n",
    "# from retriever.retriever_sparse_TFIDF import SparseRetrievalTFIDF\n",
    "# from retriever.retriever_sparse_BM25 import SparseRetrievalBM25\n",
    "# from retriever.elastic_search import run_elastic_sparse_retrieval"
   ]
  },
  {
   "cell_type": "code",
   "execution_count": 19,
   "metadata": {},
   "outputs": [],
   "source": [
    "args = argparse.Namespace(\n",
    "    dataset_name=\"../data\",\n",
    "    model_name_or_path=\"klue/bert-base\",\n",
    "    data_path=\"/opt/ml/data\",\n",
    "    context_path=\"wikipedia_documents.json\",\n",
    "    save_dir=\"./encoders\",\n",
    "    num_neg=0,  \n",
    "    device=\"cuda:0\",\n",
    "    reconfig='False'\n",
    ")\n",
    "\n",
    "dense_args = TrainingArguments(\n",
    "    output_dir=\"dense_retireval\",\n",
    "    evaluation_strategy=\"epoch\",\n",
    "    learning_rate=5e-5,\n",
    "    per_device_train_batch_size=4,\n",
    "    per_device_eval_batch_size=4,\n",
    "    num_train_epochs=3,\n",
    "    weight_decay=0.01,\n",
    ")\n",
    "\n",
    "set_seed(dense_args.seed)\n",
    "\n",
    "datasets = load_from_disk('/opt/ml/data/train_dataset') \n",
    "val_df = pd.DataFrame(datasets[\"validation\"])\n",
    "\n",
    "model_checkpoint = args.model_name_or_path  # klue/bert-base\n",
    "tokenizer = AutoTokenizer.from_pretrained(model_checkpoint)"
   ]
  },
  {
   "cell_type": "code",
   "execution_count": 20,
   "metadata": {},
   "outputs": [
    {
     "name": "stdout",
     "output_type": "stream",
     "text": [
      "Lengths of unique contexts : 56737\n"
     ]
    }
   ],
   "source": [
    "with open(os.path.join(args.dataset_name, args.context_path), \"r\", encoding=\"utf-8\") as f:\n",
    "    wiki = json.load(f)\n",
    "wiki_contexts = list(\n",
    "    dict.fromkeys([v[\"text\"] for v in wiki.values()])\n",
    ")  # set 은 매번 순서가 바뀌므로\n",
    "print(f\"Lengths of unique contexts : {len(wiki_contexts)}\")"
   ]
  },
  {
   "cell_type": "code",
   "execution_count": 21,
   "metadata": {},
   "outputs": [
    {
     "name": "stdout",
     "output_type": "stream",
     "text": [
      "remove answer columns\n"
     ]
    },
    {
     "data": {
      "text/plain": [
       "title                228\n",
       "context              235\n",
       "question             240\n",
       "id                   240\n",
       "document_id          235\n",
       "__index_level_0__    238\n",
       "dtype: int64"
      ]
     },
     "execution_count": 21,
     "metadata": {},
     "output_type": "execute_result"
    }
   ],
   "source": [
    "if 'answers' in val_df.columns :\n",
    "    print('remove answer columns')\n",
    "    val_df = val_df.drop('answers', 1)\n",
    "val_df.nunique()"
   ]
  },
  {
   "cell_type": "markdown",
   "metadata": {},
   "source": [
    "# Klue_dense 선언"
   ]
  },
  {
   "cell_type": "code",
   "execution_count": 22,
   "metadata": {},
   "outputs": [
    {
     "name": "stderr",
     "output_type": "stream",
     "text": [
      "Some weights of the model checkpoint at klue/bert-base were not used when initializing BertEncoder: ['cls.predictions.decoder.bias', 'cls.predictions.transform.LayerNorm.bias', 'cls.seq_relationship.weight', 'cls.predictions.transform.LayerNorm.weight', 'cls.predictions.decoder.weight', 'cls.seq_relationship.bias', 'cls.predictions.transform.dense.bias', 'cls.predictions.bias', 'cls.predictions.transform.dense.weight']\n",
      "- This IS expected if you are initializing BertEncoder from the checkpoint of a model trained on another task or with another architecture (e.g. initializing a BertForSequenceClassification model from a BertForPreTraining model).\n",
      "- This IS NOT expected if you are initializing BertEncoder from the checkpoint of a model that you expect to be exactly identical (initializing a BertForSequenceClassification model from a BertForSequenceClassification model).\n",
      "Some weights of the model checkpoint at klue/bert-base were not used when initializing BertEncoder: ['cls.predictions.decoder.bias', 'cls.predictions.transform.LayerNorm.bias', 'cls.seq_relationship.weight', 'cls.predictions.transform.LayerNorm.weight', 'cls.predictions.decoder.weight', 'cls.seq_relationship.bias', 'cls.predictions.transform.dense.bias', 'cls.predictions.bias', 'cls.predictions.transform.dense.weight']\n",
      "- This IS expected if you are initializing BertEncoder from the checkpoint of a model trained on another task or with another architecture (e.g. initializing a BertForSequenceClassification model from a BertForPreTraining model).\n",
      "- This IS NOT expected if you are initializing BertEncoder from the checkpoint of a model that you expect to be exactly identical (initializing a BertForSequenceClassification model from a BertForSequenceClassification model).\n"
     ]
    },
    {
     "name": "stdout",
     "output_type": "stream",
     "text": [
      "Lengths of unique contexts : 56737\n",
      "prepare in_batch dataset !!!\n",
      "loading in_batch encoder !!!\n"
     ]
    }
   ],
   "source": [
    "## Dense retriever\n",
    "p_encoder = BertEncoder.from_pretrained(model_checkpoint).to(dense_args.device)\n",
    "q_encoder = BertEncoder.from_pretrained(model_checkpoint).to(dense_args.device)\n",
    "\n",
    "klue_dense= DenseRetrieval(\n",
    "    args=dense_args,\n",
    "    data_path=\"../data/train_dataset\",\n",
    "    num_neg=args.num_neg,\n",
    "    tokenizer=tokenizer,\n",
    "    p_encoder=p_encoder,\n",
    "    q_encoder=q_encoder,\n",
    "    save_dir=args.save_dir,\n",
    ")\n",
    "klue_dense.load_encoder()\n",
    "# klue_dense.make_wiki_embedding(batch_size=64)\n"
   ]
  },
  {
   "cell_type": "code",
   "execution_count": 5,
   "metadata": {},
   "outputs": [],
   "source": [
    "wiki_embedding = pd.read_csv('/opt/ml/data/wiki_embedding.csv')"
   ]
  },
  {
   "cell_type": "markdown",
   "metadata": {},
   "source": [
    "# TFIDF 선언"
   ]
  },
  {
   "cell_type": "code",
   "execution_count": 118,
   "metadata": {},
   "outputs": [
    {
     "name": "stdout",
     "output_type": "stream",
     "text": [
      "Lengths of unique contexts : 56737\n",
      "Embedding pickle load.\n"
     ]
    }
   ],
   "source": [
    "TFIDF = SparseRetrievalTFIDF(\n",
    "    tokenize_fn=tokenizer.tokenize,\n",
    "    data_path=args.dataset_name,\n",
    "    context_path=args.context_path,\n",
    "    topR=0\n",
    ")\n",
    "TFIDF.get_sparse_embedding()"
   ]
  },
  {
   "cell_type": "markdown",
   "metadata": {},
   "source": [
    "# BM25 선언"
   ]
  },
  {
   "cell_type": "code",
   "execution_count": 119,
   "metadata": {},
   "outputs": [],
   "source": [
    "#### BM25 bulk 계산 빨리하는 방안"
   ]
  },
  {
   "cell_type": "code",
   "execution_count": 6,
   "metadata": {},
   "outputs": [
    {
     "name": "stdout",
     "output_type": "stream",
     "text": [
      "Lengths of unique contexts : 56737\n",
      "BM25 Embedding pickle load.\n"
     ]
    }
   ],
   "source": [
    "BM25 = SparseRetrievalBM25(\n",
    "    tokenize_fn=tokenizer.tokenize,\n",
    "    data_path=args.dataset_name,\n",
    "    context_path=args.context_path,\n",
    "    topR=0\n",
    ")\n",
    "BM25.get_sparse_embedding()"
   ]
  },
  {
   "cell_type": "markdown",
   "metadata": {},
   "source": [
    "# ES 선언"
   ]
  },
  {
   "cell_type": "code",
   "execution_count": 24,
   "metadata": {},
   "outputs": [
    {
     "name": "stdout",
     "output_type": "stream",
     "text": [
      "(0) Stopwords.txt\n",
      "(1) Stopwords2.txt\n",
      "(2) test.txt\n",
      "Elastic search config file is: /opt/ml/mrc-level2-nlp-02/retriever/ElasticSearchConfig/Stopwords.txt\n",
      "Elasticsearch object created.\n"
     ]
    },
    {
     "name": "stderr",
     "output_type": "stream",
     "text": [
      "/opt/conda/lib/python3.8/site-packages/elasticsearch/connection/base.py:209: ElasticsearchWarning: Elasticsearch built-in security features are not enabled. Without authentication, your cluster could be accessible to anyone. See https://www.elastic.co/guide/en/elasticsearch/reference/7.15/security-minimal-setup.html to enable security.\n",
      "  warnings.warn(message, category=ElasticsearchWarning)\n"
     ]
    },
    {
     "ename": "AttributeError",
     "evalue": "'Namespace' object has no attribute 'reconfig'",
     "output_type": "error",
     "traceback": [
      "\u001b[0;31m---------------------------------------------------------------------------\u001b[0m",
      "\u001b[0;31mAttributeError\u001b[0m                            Traceback (most recent call last)",
      "\u001b[0;32m/tmp/ipykernel_9617/4009887175.py\u001b[0m in \u001b[0;36m<module>\u001b[0;34m\u001b[0m\n\u001b[0;32m----> 1\u001b[0;31m EL_stopword_df = run_elastic_sparse_retrieval(\n\u001b[0m\u001b[1;32m      2\u001b[0m                 \u001b[0mdatasets\u001b[0m\u001b[0;34m,\u001b[0m\u001b[0;34m\u001b[0m\u001b[0;34m\u001b[0m\u001b[0m\n\u001b[1;32m      3\u001b[0m                 \u001b[0margs\u001b[0m\u001b[0;34m,\u001b[0m\u001b[0;34m\u001b[0m\u001b[0;34m\u001b[0m\u001b[0m\n\u001b[1;32m      4\u001b[0m                 args)\n",
      "\u001b[0;32m~/mrc-level2-nlp-02/retriever/elastic_search.py\u001b[0m in \u001b[0;36mrun_elastic_sparse_retrieval\u001b[0;34m(datasets, training_args, data_args)\u001b[0m\n\u001b[1;32m    114\u001b[0m   \u001b[0;31m# es.indices.put_settings(body=['mappings'], index='wiki_documents')\u001b[0m\u001b[0;34m\u001b[0m\u001b[0;34m\u001b[0m\u001b[0;34m\u001b[0m\u001b[0m\n\u001b[1;32m    115\u001b[0m \u001b[0;34m\u001b[0m\u001b[0m\n\u001b[0;32m--> 116\u001b[0;31m   \u001b[0;32mif\u001b[0m \u001b[0mdata_args\u001b[0m\u001b[0;34m.\u001b[0m\u001b[0mreconfig\u001b[0m \u001b[0;34m:\u001b[0m\u001b[0;34m\u001b[0m\u001b[0;34m\u001b[0m\u001b[0m\n\u001b[0m\u001b[1;32m    117\u001b[0m     \u001b[0mprint\u001b[0m\u001b[0;34m(\u001b[0m\u001b[0;34m\"Start create index\"\u001b[0m\u001b[0;34m)\u001b[0m\u001b[0;34m\u001b[0m\u001b[0;34m\u001b[0m\u001b[0m\n\u001b[1;32m    118\u001b[0m     \u001b[0mes\u001b[0m \u001b[0;34m=\u001b[0m \u001b[0mprepare_config\u001b[0m\u001b[0;34m(\u001b[0m\u001b[0mes\u001b[0m\u001b[0;34m,\u001b[0m \u001b[0mconfig\u001b[0m\u001b[0;34m,\u001b[0m \u001b[0mindex_name\u001b[0m\u001b[0;34m,\u001b[0m \u001b[0mdata_args\u001b[0m\u001b[0;34m)\u001b[0m\u001b[0;34m\u001b[0m\u001b[0;34m\u001b[0m\u001b[0m\n",
      "\u001b[0;31mAttributeError\u001b[0m: 'Namespace' object has no attribute 'reconfig'"
     ]
    }
   ],
   "source": [
    "EL_stopword_df = run_elastic_sparse_retrieval(\n",
    "                datasets,\n",
    "                args,\n",
    "                args)"
   ]
  },
  {
   "cell_type": "code",
   "execution_count": null,
   "metadata": {},
   "outputs": [],
   "source": [
    "from collections import defaultdict\n",
    "import os, sys\n",
    "\n",
    "class HiddenPrints:\n",
    "    def __enter__(self):\n",
    "        self._original_stdout = sys.stdout\n",
    "        sys.stdout = open(os.devnull, 'w')\n",
    "\n",
    "    def __exit__(self, exc_type, exc_val, exc_tb):\n",
    "        sys.stdout.close()\n",
    "        sys.stdout = self._original_stdout\n",
    "\n",
    "with HiddenPrints():\n",
    "  print(\"This wont print\")\n",
    "\n",
    "def topK_evaluation(\n",
    "    retriever: Callable,\n",
    "    validation_df: pd.DataFrame,\n",
    "    Topk_list: Tuple[int] = (5, 10, 15)\n",
    "    ) -> Tuple[str, dict, int]:\n",
    "    \"\"\"[summary]\n",
    "    Top K개를 리스트로 받아 각 K에 대해서 몇개나 retrieval하는지 counting하는 함수\n",
    "    Args:\n",
    "        retriever (Callable):\n",
    "            retriever class를 넣어줌\n",
    "        validation_df (pd.DataFrame):\n",
    "            validation dataframe\n",
    "        Topk_list (Tuple[int], optional): \n",
    "            확인하고자 하는 topk에 대한 list\n",
    "\n",
    "    Returns:\n",
    "        Tuple[str, dict, int]:\n",
    "            Tuple[0] : Class name\n",
    "            Tuple[1] : K를 key로 가지는 count dictionary\n",
    "            Tuple[2] : 검사에 사용하는 Dataframe row 수\n",
    "    \"\"\"\n",
    "    k_countdict = defaultdict(int)\n",
    "    Total_len = len(validation_df)\n",
    "    class_name = type(retriever).__name__\n",
    "\n",
    "    max_K = max(Topk_list) # For loop range\n",
    "    for query_idx in tqdm(range(Total_len)) :\n",
    "        query = validation_df['question'][query_idx]\n",
    "        ground_truth = validation_df['context'][query_idx]\n",
    "        with HiddenPrints() :\n",
    "            _, doc_indices = retriever.get_relevant_doc(query, k=max_K)\n",
    "        \n",
    "        start_binning = 0\n",
    "        for i, k_binning in enumerate(Topk_list) :\n",
    "                docs_binning = [wiki_contexts[doc_idx] for doc_idx in doc_indices[start_binning:k_binning]] # 0~5, 5~10, 5~15 ...\n",
    "                if ground_truth in docs_binning :\n",
    "                    for Topk in Topk_list[i:] :\n",
    "                        k_countdict[Topk] += 1\n",
    "                    break\n",
    "                else :\n",
    "                    start_binning = k_binning\n",
    "    return class_name, k_countdict, Total_len"
   ]
  },
  {
   "cell_type": "code",
   "execution_count": 7,
   "metadata": {},
   "outputs": [],
   "source": [
    "def topK_evaluation(\n",
    "    retriever: Callable,\n",
    "    query_or_dataset: Union[str, Dataset],\n",
    "    df: pd.DataFrame,\n",
    "    Topk_list: Tuple[int] = (5, 10, 15)\n",
    "    ) -> Tuple[str, dict, int]:\n",
    "    \"\"\"[summary]\n",
    "    Top K개를 리스트로 받아 각 K에 대해서 몇개나 retrieval하는지 counting하는 함수\n",
    "    Args:\n",
    "        retriever (Callable):\n",
    "            retriever class를 넣어줌\n",
    "        query_or_dataset (Union[str, Dataset]):\n",
    "            validation dataset\n",
    "        Topk_list (Tuple[int], optional): \n",
    "            확인하고자 하는 topk에 대한 list\n",
    "\n",
    "    Returns:\n",
    "        Tuple[str, dict, int]:\n",
    "            Tuple[0] : Class name\n",
    "            Tuple[1] : K를 key로 가지는 count dictionary\n",
    "            Tuple[2] : 검사에 사용하는 Dataframe row 수\n",
    "    \"\"\"\n",
    "    k_countdict = defaultdict(int)\n",
    "    Total_len = len(query_or_dataset)\n",
    "    class_name = type(retriever).__name__\n",
    "\n",
    "    max_K = max(Topk_list) # For loop range\n",
    "\n",
    "    if 'dense' in class_name.lower() :\n",
    "        _, doc_indices = retriever.get_relevant_doc_bulk(query_or_dataset['question'], wiki_embedding, k=max_K)\n",
    "        doc_indices = [indices.tolist() for indices in doc_indices]\n",
    "    else :\n",
    "        _, doc_indices = retriever.get_relevant_doc_bulk(query_or_dataset['question'], k=max_K)\n",
    "    \n",
    "    for idx, example in enumerate(tqdm(query_or_dataset)):\n",
    "        ground_truth = example[\"context\"]\n",
    "        start_binning = 0\n",
    "        for i, k_binning in enumerate(Topk_list) :                \n",
    "                docs_binning = [wiki_contexts[doc_idx] for doc_idx in doc_indices[idx][start_binning:k_binning]] # 0~5, 5~10, 10~15 ...\n",
    "                if ground_truth in docs_binning :\n",
    "                    for Topk in Topk_list[i:] :\n",
    "                        k_countdict[Topk] += 1\n",
    "                    break\n",
    "                else :\n",
    "                    start_binning = k_binning\n",
    "    return class_name, k_countdict, Total_len"
   ]
  },
  {
   "cell_type": "code",
   "execution_count": null,
   "metadata": {},
   "outputs": [],
   "source": [
    "topK_evaluation_list = []\n",
    "topk_tuple = (5, 10, 15, 50, 100)\n",
    "for ret in [TFIDF, BM25, klue_dense] :\n",
    "    print(type(ret).__name__)\n",
    "    topK_evaluation_list.append(topK_evaluation(ret, datasets[\"validation\"], wiki_embedding, Topk_list=topk_tuple))"
   ]
  },
  {
   "cell_type": "code",
   "execution_count": 18,
   "metadata": {},
   "outputs": [],
   "source": [
    "ret_eval_file = 'retriever_evalutation_table.csv'\n",
    "with open(ret_eval_file, 'w') as f :\n",
    "    f.write('name,'+','.join([str(i) for i in topk_tuple])+',total_count\\n')\n",
    "    for item in topK_evaluation_list :\n",
    "        name, count_dict, total = item\n",
    "        \n",
    "        line = name\n",
    "        for topk in topk_tuple :\n",
    "            line += ',' + str(count_dict[topk])\n",
    "        line += ',' + str(total) +'\\n'\n",
    "        f.write(line)"
   ]
  },
  {
   "cell_type": "code",
   "execution_count": 87,
   "metadata": {},
   "outputs": [],
   "source": [
    "def score_distribution(\n",
    "    retriever: Callable,\n",
    "    query_or_dataset: Union[str, Dataset],\n",
    "    df: pd.DataFrame\n",
    "    ) -> Tuple[list, list]:\n",
    "    Total_len = len(wiki_contexts)\n",
    "    class_name = type(retriever).__name__\n",
    "\n",
    "    Total_scores = []\n",
    "    Correct_scores = []\n",
    "    \n",
    "    if 'dense' in class_name.lower() :\n",
    "        doc_scores, doc_indices = retriever.get_relevant_doc_bulk(query_or_dataset['question'], wiki_embedding, k=Total_len)\n",
    "        doc_scores, doc_indices = [scores.tolist() for scores in doc_scores], [indices.tolist() for indices in doc_indices]\n",
    "    else :\n",
    "        doc_scores, doc_indices = retriever.get_relevant_doc_bulk(query_or_dataset['question'], k=Total_len)\n",
    "    \n",
    "    for idx, example in enumerate(tqdm(query_or_dataset)):\n",
    "        ground_truth = example[\"context\"]\n",
    "        \n",
    "        for rank_i, doc_idx in enumerate(doc_indices[idx]) :\n",
    "            if ground_truth == wiki_contexts[doc_idx] :\n",
    "                Correct_scores.append((doc_scores[idx][rank_i], rank_i)) ## tuple\n",
    "                break\n",
    "        Total_scores.extend(doc_scores[idx][:rank_i]) ## except for Correct score \n",
    "        Total_scores.extend(doc_scores[idx][rank_i+1:]) ## except for Correct score\n",
    "    return Total_scores, Correct_scores"
   ]
  },
  {
   "cell_type": "markdown",
   "metadata": {},
   "source": [
    "# Plot"
   ]
  },
  {
   "cell_type": "code",
   "execution_count": 102,
   "metadata": {},
   "outputs": [
    {
     "data": {
      "application/vnd.jupyter.widget-view+json": {
       "model_id": "cb635301170049a38de738d5926f1b0f",
       "version_major": 2,
       "version_minor": 0
      },
      "text/plain": [
       "HBox(children=(FloatProgress(value=0.0, max=240.0), HTML(value='')))"
      ]
     },
     "metadata": {},
     "output_type": "display_data"
    },
    {
     "name": "stdout",
     "output_type": "stream",
     "text": [
      "\n"
     ]
    },
    {
     "name": "stderr",
     "output_type": "stream",
     "text": [
      "/opt/conda/lib/python3.8/site-packages/seaborn/distributions.py:2619: FutureWarning: `distplot` is a deprecated function and will be removed in a future version. Please adapt your code to use either `displot` (a figure-level function with similar flexibility) or `kdeplot` (an axes-level function for kernel density plots).\n",
      "  warnings.warn(msg, FutureWarning)\n",
      "/opt/conda/lib/python3.8/site-packages/seaborn/distributions.py:2619: FutureWarning: `distplot` is a deprecated function and will be removed in a future version. Please adapt your code to use either `displot` (a figure-level function with similar flexibility) or `kdeplot` (an axes-level function for kernel density plots).\n",
      "  warnings.warn(msg, FutureWarning)\n"
     ]
    },
    {
     "data": {
      "image/png": "[encoded data removed]",
      "text/plain": [
       "<Figure size 1296x432 with 2 Axes>"
      ]
     },
     "metadata": {
      "needs_background": "light"
     },
     "output_type": "display_data"
    },
    {
     "name": "stdout",
     "output_type": "stream",
     "text": [
      "Build BM25 score, indices\n"
     ]
    },
    {
     "data": {
      "application/vnd.jupyter.widget-view+json": {
       "model_id": "05a838b274a143d69bb76213059e8885",
       "version_major": 2,
       "version_minor": 0
      },
      "text/plain": [
       "HBox(children=(FloatProgress(value=0.0, max=240.0), HTML(value='')))"
      ]
     },
     "metadata": {},
     "output_type": "display_data"
    },
    {
     "name": "stdout",
     "output_type": "stream",
     "text": [
      "\n"
     ]
    },
    {
     "data": {
      "application/vnd.jupyter.widget-view+json": {
       "model_id": "39a416bfaf264a49ac9bff5c27e5730a",
       "version_major": 2,
       "version_minor": 0
      },
      "text/plain": [
       "HBox(children=(FloatProgress(value=0.0, max=240.0), HTML(value='')))"
      ]
     },
     "metadata": {},
     "output_type": "display_data"
    },
    {
     "name": "stdout",
     "output_type": "stream",
     "text": [
      "\n"
     ]
    },
    {
     "name": "stderr",
     "output_type": "stream",
     "text": [
      "/opt/conda/lib/python3.8/site-packages/seaborn/distributions.py:2619: FutureWarning: `distplot` is a deprecated function and will be removed in a future version. Please adapt your code to use either `displot` (a figure-level function with similar flexibility) or `kdeplot` (an axes-level function for kernel density plots).\n",
      "  warnings.warn(msg, FutureWarning)\n",
      "/opt/conda/lib/python3.8/site-packages/seaborn/distributions.py:2619: FutureWarning: `distplot` is a deprecated function and will be removed in a future version. Please adapt your code to use either `displot` (a figure-level function with similar flexibility) or `kdeplot` (an axes-level function for kernel density plots).\n",
      "  warnings.warn(msg, FutureWarning)\n"
     ]
    },
    {
     "data": {
      "image/png": "[encoded data removed]",
      "text/plain": [
       "<Figure size 1296x432 with 2 Axes>"
      ]
     },
     "metadata": {
      "needs_background": "light"
     },
     "output_type": "display_data"
    },
    {
     "name": "stdout",
     "output_type": "stream",
     "text": [
      "passage size : (56737, 768)\n"
     ]
    },
    {
     "data": {
      "application/vnd.jupyter.widget-view+json": {
       "model_id": "897a620be20b4ef1aa41715ab722333f",
       "version_major": 2,
       "version_minor": 0
      },
      "text/plain": [
       "HBox(children=(FloatProgress(value=0.0, max=240.0), HTML(value='')))"
      ]
     },
     "metadata": {},
     "output_type": "display_data"
    },
    {
     "name": "stdout",
     "output_type": "stream",
     "text": [
      "\n"
     ]
    },
    {
     "name": "stderr",
     "output_type": "stream",
     "text": [
      "/opt/conda/lib/python3.8/site-packages/seaborn/distributions.py:2619: FutureWarning: `distplot` is a deprecated function and will be removed in a future version. Please adapt your code to use either `displot` (a figure-level function with similar flexibility) or `kdeplot` (an axes-level function for kernel density plots).\n",
      "  warnings.warn(msg, FutureWarning)\n",
      "/opt/conda/lib/python3.8/site-packages/seaborn/distributions.py:2619: FutureWarning: `distplot` is a deprecated function and will be removed in a future version. Please adapt your code to use either `displot` (a figure-level function with similar flexibility) or `kdeplot` (an axes-level function for kernel density plots).\n",
      "  warnings.warn(msg, FutureWarning)\n"
     ]
    },
    {
     "data": {
      "image/png": "[encoded data removed]",
      "text/plain": [
       "<Figure size 1296x432 with 2 Axes>"
      ]
     },
     "metadata": {
      "needs_background": "light"
     },
     "output_type": "display_data"
    }
   ],
   "source": [
    "for ret in [TFIDF, BM25, klue_dense] :\n",
    "    Total_scores, Correct_scores_and_index = score_distribution(ret, datasets[\"validation\"], wiki_embedding)\n",
    "    correct_scores = [val[0] for val in Correct_scores_and_index]\n",
    "    correct_index = [val[1] for val in Correct_scores_and_index if val[1] < 200]\n",
    "\n",
    "    fig, ax = plt.subplots(figsize =(18,6), ncols=2)\n",
    "    fig.suptitle(type(ret).__name__, fontsize=15)\n",
    "    \n",
    "    for idx, l in enumerate([Total_scores, correct_scores]) :\n",
    "        sns.distplot(l, hist = False, kde = True,\n",
    "                    kde_kws = {'linewidth': 3},\n",
    "                    label = idx, ax=ax[0])\n",
    "    \n",
    "    key = sorted(Counter(correct_index).keys())\n",
    "    counts = [Counter(correct_index)[k] for k in key]\n",
    "    ax[1] = plt.bar(key, counts)\n",
    "\n",
    "    plt.show()"
   ]
  },
  {
   "cell_type": "markdown",
   "metadata": {},
   "source": [
    "# Top score ratio count 비교"
   ]
  },
  {
   "cell_type": "code",
   "execution_count": 27,
   "metadata": {},
   "outputs": [
    {
     "name": "stdout",
     "output_type": "stream",
     "text": [
      "Lengths of unique contexts : 56737\n",
      "Embedding pickle load.\n"
     ]
    }
   ],
   "source": [
    "TFIDF_R85 = SparseRetrievalTFIDF(\n",
    "    tokenize_fn=tokenizer.tokenize,\n",
    "    data_path=args.dataset_name,\n",
    "    context_path=args.context_path,\n",
    "    topR=0.85\n",
    ")\n",
    "TFIDF_R85.get_sparse_embedding()"
   ]
  },
  {
   "cell_type": "code",
   "execution_count": 13,
   "metadata": {},
   "outputs": [
    {
     "name": "stdout",
     "output_type": "stream",
     "text": [
      "Lengths of unique contexts : 56737\n",
      "BM25 Embedding pickle load.\n"
     ]
    }
   ],
   "source": [
    "BM25_R8 = SparseRetrievalBM25(\n",
    "    tokenize_fn=tokenizer.tokenize,\n",
    "    data_path=args.dataset_name,\n",
    "    context_path=args.context_path,\n",
    "    topR=0.8\n",
    ")\n",
    "BM25_R8.get_sparse_embedding()"
   ]
  },
  {
   "cell_type": "markdown",
   "metadata": {},
   "source": [
    "##  (Top score * ratio) 이상 정답, 오답 passage 분포 확인"
   ]
  },
  {
   "cell_type": "code",
   "execution_count": 9,
   "metadata": {},
   "outputs": [],
   "source": [
    "def TopR_evaluation(\n",
    "    retriever: Callable,\n",
    "    query_or_dataset: Union[str, Dataset],\n",
    "    df: pd.DataFrame,\n",
    "    Topk: int =5\n",
    "    ) -> Tuple[list, list]:\n",
    "    class_name = type(retriever).__name__\n",
    "    \n",
    "    Correct_list = []\n",
    "    Not_correct_list = []\n",
    "    \n",
    "    if 'dense' in class_name.lower() :\n",
    "        _, doc_indices = retriever.get_relevant_doc_bulk(query_or_dataset['question'], wiki_embedding, k=Topk)\n",
    "        doc_indices = [indices.tolist() for indices in doc_indices]\n",
    "         \n",
    "    else :\n",
    "        doc_scores, doc_indices = retriever.get_relevant_doc_bulk(query_or_dataset['question'], k=Topk)\n",
    "    \n",
    "    for idx, example in enumerate(tqdm(query_or_dataset)):\n",
    "        ground_truth = example[\"context\"]\n",
    "        wiki_docs = [wiki_contexts[doc_idx] for doc_idx in doc_indices[idx]]\n",
    "        if ground_truth in wiki_docs :\n",
    "            Correct_list.append(len(wiki_docs))\n",
    "        else:\n",
    "            Not_correct_list.append(len(wiki_docs))\n",
    "\n",
    "    return Correct_list, Not_correct_list"
   ]
  },
  {
   "cell_type": "markdown",
   "metadata": {},
   "source": [
    "# Plot"
   ]
  },
  {
   "cell_type": "code",
   "execution_count": null,
   "metadata": {},
   "outputs": [],
   "source": [
    "topk_tuple = (5, 10, 15, 50, 100)\n",
    "\n",
    "for ret in [TFIDF_R85, BM25_R85] :\n",
    "    for topk in topk_tuple :\n",
    "        Correct_list, Not_correct_list = TopR_evaluation(ret, datasets[\"validation\"], wiki_embedding, Topk=topk)\n",
    "\n",
    "        fig, axes = plt.subplots(1, 2, figsize =(12,6), sharey=True)\n",
    "        fig.suptitle(type(ret).__name__+'_Top'+str(topk), fontsize=15) # super\n",
    "        \n",
    "        for idx, l in enumerate([Correct_list, Not_correct_list]) :\n",
    "            key = sorted(Counter(l).keys())\n",
    "            counts = [Counter(l)[k] for k in key]\n",
    "            axes[idx].set_title('Correct' if idx == 0 else 'Not Correct')\n",
    "            axes[idx].bar(key, counts)\n",
    "        plt.show()\n"
   ]
  },
  {
   "cell_type": "code",
   "execution_count": 105,
   "metadata": {},
   "outputs": [
    {
     "name": "stdout",
     "output_type": "stream",
     "text": [
      "Counter({1: 49, 2: 27, 3: 21, 100: 13, 4: 13, 5: 9, 9: 6, 6: 6, 7: 5, 12: 5, 10: 4, 25: 3, 18: 3, 15: 3, 17: 3, 21: 3, 11: 3, 8: 2, 14: 2, 65: 2, 37: 2, 19: 2, 13: 2, 29: 2, 49: 2, 28: 2, 34: 2, 54: 2, 26: 2, 51: 1, 82: 1, 39: 1, 35: 1, 46: 1, 92: 1, 72: 1, 32: 1, 47: 1, 41: 1, 78: 1, 16: 1, 40: 1, 67: 1, 23: 1, 33: 1, 45: 1, 36: 1, 42: 1, 22: 1, 98: 1, 20: 1, 44: 1})\n",
      "Counter({8: 2, 100: 2, 5: 1, 11: 1, 44: 1, 15: 1, 18: 1, 40: 1, 6: 1, 43: 1, 36: 1, 10: 1, 32: 1, 12: 1, 9: 1})\n"
     ]
    }
   ],
   "source": [
    "print(Counter(Correct_list))\n",
    "print(Counter(Not_correct_list))"
   ]
  }
 ],
 "metadata": {
  "interpreter": {
   "hash": "d4d1e4263499bec80672ea0156c357c1ee493ec2b1c70f0acce89fc37c4a6abe"
  },
  "kernelspec": {
   "display_name": "Python 3.8.5 64-bit ('base': conda)",
   "name": "python3"
  },
  "language_info": {
   "codemirror_mode": {
    "name": "ipython",
    "version": 3
   },
   "file_extension": ".py",
   "mimetype": "text/x-python",
   "name": "python",
   "nbconvert_exporter": "python",
   "pygments_lexer": "ipython3",
   "version": "3.8.5"
  },
  "orig_nbformat": 4
 },
 "nbformat": 4,
 "nbformat_minor": 2
}
