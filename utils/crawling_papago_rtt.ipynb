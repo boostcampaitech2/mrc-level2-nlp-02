{
 "cells": [
  {
   "cell_type": "code",
   "execution_count": null,
   "source": [
    "try:\n",
    "    from selenium import webdriver\n",
    "except ModuleNotFoundError:\n",
    "    !pip install selenium\n",
    "\n",
    "import time\n",
    "import random"
   ],
   "outputs": [],
   "metadata": {}
  },
  {
   "cell_type": "code",
   "execution_count": null,
   "source": [
    "# drive_path는 chromedriver 위치로 설정해주세요\n",
    "# chromedriver는 chrome://settings/ 에서 버전을 확인해주시고, mac/linux/window os에 맞는 driver를 설치해주세요\n",
    "# driver 위치 : https://chromedriver.chromium.org/downloads\n",
    "class papago_rtt:\n",
    "    def __init__(self, driver_path=\"C:/selenium/chromedriver.exe\", src_lang='ko', tgt_lang='en'):\n",
    "\n",
    "        self.driver_path = driver_path\n",
    "        self.init_trans = f\"https://papago.naver.com/?sk={src_lang}&tk={tgt_lang}\"\n",
    "        self.back_trans = f\"https://papago.naver.com/?sk={tgt_lang}&tk={src_lang}\"\n",
    "        self.start_browser()\n",
    "    \n",
    "    def start_browser(self):\n",
    "        self.driver = webdriver.Chrome(self.driver_path)\n",
    "    \n",
    "    def random_sleep(self):\n",
    "        time.sleep(random.randint(10,30)/10)\n",
    "        \n",
    "    def __call__(self, query):\n",
    "        #번역 페이지 열기\n",
    "        self.driver.get(self.init_trans)\n",
    "        self.random_sleep()\n",
    "\n",
    "        #번역\n",
    "        self.driver.find_element_by_css_selector('textarea#txtSource').send_keys(query)\n",
    "        self.driver.find_element_by_css_selector('button#btnTranslate').click()\n",
    "        self.random_sleep()\n",
    "\n",
    "        #번역 결과\n",
    "        output = self.driver.find_element_by_css_selector('div#txtTarget').text\n",
    "\n",
    "        #복원페이지 열기\n",
    "        self.driver.get(self.back_trans)\n",
    "        self.random_sleep()\n",
    "\n",
    "        #복원\n",
    "        self.driver.find_element_by_css_selector('textarea#txtSource').send_keys(output)\n",
    "        self.driver.find_element_by_css_selector('button#btnTranslate').click()\n",
    "        self.random_sleep()\n",
    "\n",
    "        #번역 결과\n",
    "        output = self.driver.find_element_by_css_selector('div#txtTarget').text\n",
    "        return output"
   ],
   "outputs": [],
   "metadata": {}
  },
  {
   "cell_type": "code",
   "execution_count": null,
   "source": [],
   "outputs": [],
   "metadata": {}
  }
 ],
 "metadata": {
  "orig_nbformat": 4,
  "language_info": {
   "name": "python",
   "version": "3.8.5",
   "mimetype": "text/x-python",
   "codemirror_mode": {
    "name": "ipython",
    "version": 3
   },
   "pygments_lexer": "ipython3",
   "nbconvert_exporter": "python",
   "file_extension": ".py"
  },
  "kernelspec": {
   "name": "python3",
   "display_name": "Python 3.8.5 64-bit ('base': conda)"
  },
  "interpreter": {
   "hash": "98b0a9b7b4eaaa670588a142fd0a9b87eaafe866f1db4228be72b4211d12040f"
  }
 },
 "nbformat": 4,
 "nbformat_minor": 2
}