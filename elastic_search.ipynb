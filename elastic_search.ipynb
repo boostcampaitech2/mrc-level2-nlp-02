{
 "cells": [
  {
   "cell_type": "code",
   "execution_count": null,
   "metadata": {},
   "outputs": [],
   "source": [
    "# !pip install elasticsearch\n",
    "!pip install pororo"
   ]
  },
  {
   "cell_type": "code",
   "execution_count": 54,
   "metadata": {},
   "outputs": [],
   "source": [
    "import os\n",
    "import sys\n",
    "import json\n",
    "\n",
    "import elasticsearch\n",
    "from elasticsearch import Elasticsearch\n",
    "import pandas as pd\n",
    "import pororo\n",
    "import torch"
   ]
  },
  {
   "cell_type": "code",
   "execution_count": 14,
   "metadata": {},
   "outputs": [],
   "source": [
    "# 엘라스틱서치 오브젝트 만들기\n",
    "es = Elasticsearch([{'host': 'localhost', 'port': 9200}])"
   ]
  },
  {
   "cell_type": "code",
   "execution_count": 15,
   "metadata": {},
   "outputs": [
    {
     "name": "stderr",
     "output_type": "stream",
     "text": [
      "/opt/conda/lib/python3.8/site-packages/elasticsearch/connection/base.py:209: ElasticsearchWarning: Elasticsearch built-in security features are not enabled. Without authentication, your cluster could be accessible to anyone. See https://www.elastic.co/guide/en/elasticsearch/reference/7.15/security-minimal-setup.html to enable security.\n",
      "  warnings.warn(message, category=ElasticsearchWarning)\n"
     ]
    },
    {
     "data": {
      "text/plain": [
       "True"
      ]
     },
     "execution_count": 15,
     "metadata": {},
     "output_type": "execute_result"
    }
   ],
   "source": [
    "# connection check\n",
    "es.ping()"
   ]
  },
  {
   "cell_type": "code",
   "execution_count": 10,
   "metadata": {},
   "outputs": [
    {
     "data": {
      "text/plain": [
       "{'acknowledged': True, 'shards_acknowledged': True, 'index': 'my-foo'}"
      ]
     },
     "execution_count": 10,
     "metadata": {},
     "output_type": "execute_result"
    }
   ],
   "source": [
    "# 인덱스 만들기\n",
    "es.indices.create(index='my-foo', ignore=400)"
   ]
  },
  {
   "cell_type": "code",
   "execution_count": 16,
   "metadata": {},
   "outputs": [
    {
     "name": "stdout",
     "output_type": "stream",
     "text": [
      ".apm-agent-configuration\n",
      ".kibana_7.15.1_001\n",
      ".kibana-event-log-7.15.1-000001\n",
      ".kibana_task_manager_7.15.1_001\n",
      "my-foo\n",
      ".apm-custom-link\n",
      "wiki_documents\n",
      ".tasks\n"
     ]
    },
    {
     "name": "stderr",
     "output_type": "stream",
     "text": [
      "/tmp/ipykernel_1498/1551562474.py:2: DeprecationWarning: Using positional arguments for APIs is deprecated and will be disabled in 8.0.0. Instead use only keyword arguments for all APIs. See https://github.com/elastic/elasticsearch-py/issues/1698 for more information\n",
      "  res = es.indices.get_alias(\"*\")\n",
      "/opt/conda/lib/python3.8/site-packages/elasticsearch/connection/base.py:209: ElasticsearchWarning: this request accesses system indices: [.apm-agent-configuration, .kibana_7.15.1_001, .kibana_task_manager_7.15.1_001, .apm-custom-link, .tasks], but in a future major version, direct access to system indices will be prevented by default\n",
      "  warnings.warn(message, category=ElasticsearchWarning)\n"
     ]
    }
   ],
   "source": [
    "# 인덱스 보기\n",
    "res = es.indices.get_alias(\"*\")\n",
    "for Name in res:\n",
    "  print(Name)"
   ]
  },
  {
   "cell_type": "code",
   "execution_count": 79,
   "metadata": {},
   "outputs": [
    {
     "name": "stderr",
     "output_type": "stream",
     "text": [
      "/opt/conda/lib/python3.8/site-packages/elasticsearch/connection/base.py:209: ElasticsearchWarning: Elasticsearch built-in security features are not enabled. Without authentication, your cluster could be accessible to anyone. See https://www.elastic.co/guide/en/elasticsearch/reference/7.15/security-minimal-setup.html to enable security.\n",
      "  warnings.warn(message, category=ElasticsearchWarning)\n"
     ]
    },
    {
     "data": {
      "text/plain": [
       "{'acknowledged': True}"
      ]
     },
     "execution_count": 79,
     "metadata": {},
     "output_type": "execute_result"
    }
   ],
   "source": [
    "# 인덱스 삭제\n",
    "es.indices.delete(index='wiki_documents', ignore=[400, 404])"
   ]
  },
  {
   "cell_type": "markdown",
   "metadata": {},
   "source": [
    "# Prepare data for Elastic search"
   ]
  },
  {
   "cell_type": "code",
   "execution_count": 9,
   "metadata": {},
   "outputs": [],
   "source": [
    "with open('../data/wikipedia_documents.json') as f:\n",
    "  data = json.load(f)"
   ]
  },
  {
   "cell_type": "code",
   "execution_count": 10,
   "metadata": {},
   "outputs": [
    {
     "name": "stdout",
     "output_type": "stream",
     "text": [
      "0 {'text': '이 문서는 나라 목록이며, 전 세계 206개 나라의 각 현황과 주권 승인 정보를 개요 형태로 나열하고 있다.\\n\\n이 목록은 명료화를 위해 두 부분으로 나뉘어 있다.\\n\\n# 첫 번째 부분은 바티칸 시국과 팔레스타인을 포함하여 유엔 등 국제 기구에 가입되어 국제적인 승인을 널리 받았다고 여기는 195개 나라를 나열하고 있다.\\n# 두 번째 부분은 일부 지역의 주권을 사실상 (데 팍토) 행사하고 있지만, 아직 국제적인 승인을 널리 받지 않았다고 여기는 11개 나라를 나열하고 있다.\\n\\n두 목록은 모두 가나다 순이다.\\n\\n일부 국가의 경우 국가로서의 자격에 논쟁의 여부가 있으며, 이 때문에 이러한 목록을 엮는 것은 매우 어렵고 논란이 생길 수 있는 과정이다. 이 목록을 구성하고 있는 국가를 선정하는 기준에 대한 정보는 \"포함 기준\" 단락을 통해 설명하였다. 나라에 대한 일반적인 정보는 \"국가\" 문서에서 설명하고 있다.', 'corpus_source': '위키피디아', 'url': 'TODO', 'domain': None, 'title': '나라 목록', 'author': None, 'html': None, 'document_id': 0}\n"
     ]
    }
   ],
   "source": [
    "count = 0\n",
    "for k,v in data.items():\n",
    "  print(k, v)\n",
    "  count += 1\n",
    "  if count == 1:\n",
    "    break"
   ]
  },
  {
   "cell_type": "code",
   "execution_count": 11,
   "metadata": {},
   "outputs": [
    {
     "data": {
      "text/plain": [
       "60613"
      ]
     },
     "execution_count": 11,
     "metadata": {},
     "output_type": "execute_result"
    }
   ],
   "source": [
    "len(data)"
   ]
  },
  {
   "cell_type": "code",
   "execution_count": 14,
   "metadata": {},
   "outputs": [],
   "source": [
    "df = pd.read_json('../data/wikipedia_documents.json').T"
   ]
  },
  {
   "cell_type": "code",
   "execution_count": 15,
   "metadata": {},
   "outputs": [
    {
     "data": {
      "text/html": [
       "<div>\n",
       "<style scoped>\n",
       "    .dataframe tbody tr th:only-of-type {\n",
       "        vertical-align: middle;\n",
       "    }\n",
       "\n",
       "    .dataframe tbody tr th {\n",
       "        vertical-align: top;\n",
       "    }\n",
       "\n",
       "    .dataframe thead th {\n",
       "        text-align: right;\n",
       "    }\n",
       "</style>\n",
       "<table border=\"1\" class=\"dataframe\">\n",
       "  <thead>\n",
       "    <tr style=\"text-align: right;\">\n",
       "      <th></th>\n",
       "      <th>text</th>\n",
       "      <th>corpus_source</th>\n",
       "      <th>url</th>\n",
       "      <th>domain</th>\n",
       "      <th>title</th>\n",
       "      <th>author</th>\n",
       "      <th>html</th>\n",
       "      <th>document_id</th>\n",
       "    </tr>\n",
       "  </thead>\n",
       "  <tbody>\n",
       "    <tr>\n",
       "      <th>0</th>\n",
       "      <td>이 문서는 나라 목록이며, 전 세계 206개 나라의 각 현황과 주권 승인 정보를 개...</td>\n",
       "      <td>위키피디아</td>\n",
       "      <td>TODO</td>\n",
       "      <td>None</td>\n",
       "      <td>나라 목록</td>\n",
       "      <td>None</td>\n",
       "      <td>None</td>\n",
       "      <td>0</td>\n",
       "    </tr>\n",
       "    <tr>\n",
       "      <th>1</th>\n",
       "      <td>이 목록에 실린 국가 기준은 1933년 몬테비데오 협약 1장을 참고로 하였다. 협정...</td>\n",
       "      <td>위키피디아</td>\n",
       "      <td>TODO</td>\n",
       "      <td>None</td>\n",
       "      <td>나라 목록</td>\n",
       "      <td>None</td>\n",
       "      <td>None</td>\n",
       "      <td>1</td>\n",
       "    </tr>\n",
       "    <tr>\n",
       "      <th>2</th>\n",
       "      <td>현 서울특별시 종로구 서린동 (구 일제 강점기 경기도 경성부 서린정) 출신이다. 친...</td>\n",
       "      <td>위키피디아</td>\n",
       "      <td>TODO</td>\n",
       "      <td>None</td>\n",
       "      <td>백남준</td>\n",
       "      <td>None</td>\n",
       "      <td>None</td>\n",
       "      <td>2</td>\n",
       "    </tr>\n",
       "    <tr>\n",
       "      <th>3</th>\n",
       "      <td>아오조라 문고(靑空文庫, あおぞらぶんこ|아오조라 분고)는 ‘일본어판 구텐베르크 프로...</td>\n",
       "      <td>위키피디아</td>\n",
       "      <td>TODO</td>\n",
       "      <td>None</td>\n",
       "      <td>아오조라 문고</td>\n",
       "      <td>None</td>\n",
       "      <td>None</td>\n",
       "      <td>3</td>\n",
       "    </tr>\n",
       "    <tr>\n",
       "      <th>4</th>\n",
       "      <td>저자 사망 이후 50년이 지나 저작권이 소멸한 메이지 시대부터 쇼와 시대 초기까지의...</td>\n",
       "      <td>위키피디아</td>\n",
       "      <td>TODO</td>\n",
       "      <td>None</td>\n",
       "      <td>아오조라 문고</td>\n",
       "      <td>None</td>\n",
       "      <td>None</td>\n",
       "      <td>4</td>\n",
       "    </tr>\n",
       "  </tbody>\n",
       "</table>\n",
       "</div>"
      ],
      "text/plain": [
       "                                                text corpus_source   url  \\\n",
       "0  이 문서는 나라 목록이며, 전 세계 206개 나라의 각 현황과 주권 승인 정보를 개...         위키피디아  TODO   \n",
       "1  이 목록에 실린 국가 기준은 1933년 몬테비데오 협약 1장을 참고로 하였다. 협정...         위키피디아  TODO   \n",
       "2  현 서울특별시 종로구 서린동 (구 일제 강점기 경기도 경성부 서린정) 출신이다. 친...         위키피디아  TODO   \n",
       "3  아오조라 문고(靑空文庫, あおぞらぶんこ|아오조라 분고)는 ‘일본어판 구텐베르크 프로...         위키피디아  TODO   \n",
       "4  저자 사망 이후 50년이 지나 저작권이 소멸한 메이지 시대부터 쇼와 시대 초기까지의...         위키피디아  TODO   \n",
       "\n",
       "  domain    title author  html document_id  \n",
       "0   None    나라 목록   None  None           0  \n",
       "1   None    나라 목록   None  None           1  \n",
       "2   None      백남준   None  None           2  \n",
       "3   None  아오조라 문고   None  None           3  \n",
       "4   None  아오조라 문고   None  None           4  "
      ]
     },
     "execution_count": 15,
     "metadata": {},
     "output_type": "execute_result"
    }
   ],
   "source": [
    "df.head()"
   ]
  },
  {
   "cell_type": "code",
   "execution_count": 16,
   "metadata": {},
   "outputs": [
    {
     "data": {
      "text/plain": [
       "text             56737\n",
       "corpus_source        1\n",
       "url                  1\n",
       "domain               0\n",
       "title            31755\n",
       "author               0\n",
       "html                 0\n",
       "document_id      60613\n",
       "dtype: int64"
      ]
     },
     "execution_count": 16,
     "metadata": {},
     "output_type": "execute_result"
    }
   ],
   "source": [
    "df.nunique()"
   ]
  },
  {
   "cell_type": "markdown",
   "metadata": {},
   "source": [
    "### 중복 text 레코드 제거"
   ]
  },
  {
   "cell_type": "code",
   "execution_count": 17,
   "metadata": {},
   "outputs": [
    {
     "data": {
      "text/plain": [
       "text             56737\n",
       "corpus_source        1\n",
       "url                  1\n",
       "domain               0\n",
       "title            31726\n",
       "author               0\n",
       "html                 0\n",
       "document_id      56737\n",
       "dtype: int64"
      ]
     },
     "execution_count": 17,
     "metadata": {},
     "output_type": "execute_result"
    }
   ],
   "source": [
    "df = df.drop_duplicates(subset=['text'])\n",
    "df.nunique()"
   ]
  },
  {
   "cell_type": "code",
   "execution_count": 80,
   "metadata": {},
   "outputs": [
    {
     "data": {
      "text/plain": [
       "56737"
      ]
     },
     "execution_count": 80,
     "metadata": {},
     "output_type": "execute_result"
    }
   ],
   "source": [
    "len(df)"
   ]
  },
  {
   "cell_type": "code",
   "execution_count": 64,
   "metadata": {},
   "outputs": [
    {
     "name": "stdout",
     "output_type": "stream",
     "text": [
      "23174    순항 유도탄에 적용되는 추진기관은 일반적으로 생각하는 로켓이 사용되지 않는다. 이는...\n",
      "Name: text, dtype: object\n"
     ]
    }
   ],
   "source": [
    "print(df.loc[df['document_id']==23174]['text'])"
   ]
  },
  {
   "cell_type": "code",
   "execution_count": 19,
   "metadata": {},
   "outputs": [],
   "source": [
    "df2 = df.to_dict('records')"
   ]
  },
  {
   "cell_type": "code",
   "execution_count": 70,
   "metadata": {},
   "outputs": [
    {
     "data": {
      "text/plain": [
       "{'text': '1945년 11월 30일 서방 연합군에서는 서베를린 진입용 폭 32 km 항로를 소련군과 합의했다  베를린 진입 가능 항로는 함부르크 항로(북서부), 뷔케베부크 항로(서부, 하노버 방면), 프랑크푸르트 항로(남서부)였다. 1945년 12월 31일 협의에 따라서  사용 조건이 확정되었다. 해당 항로 3곳은 자유 항행 가능, 시간 제한 없음, 서방 연합군 국적기의 경우 이용 통보 없음이 보장되었다. \\n\\n영국군이 1948년 4월에 소규모 공수작전을 실행해 보았고, 1948년 6월에 크니커 작전(Operation Knicker)이라는 이름으로 공수작전을 해 본 경험이 도움이 되었다 베를린 주둔 영국 공군 총사령관 레지널드 와이트(Reginald Waite)는 공수작전 중에 서베를린 민간인에게도 하계 물자를 추가로 공급할 수 있을 것이라고 판단했고, 1948년 6월 24일 루시우스 클레이에게 통보했다. 다음 날 베를린의 선출직 시장인 에른스트 로이터를 소환해서 베를린 시민들이 봉쇄 중 공수로 전달할 수 있는 제한된 물자로 생활할 수 있는지 질문했다. 에른스트 로이터는 빌리 브란트와 함께 가서 공수 작전이 시행되면 자신은 베를린시를 책임질 수 있으며, 베를린의 자유를 위해서 필요한 희생을 받아들일 수 있다고 밝혔다. 에른스트 로이터 시장은 루시우스 클레이 장군의 결정을 존경하지만, 공수작전의 성공 가능성을 높게 보지는 않는다고 밝혔다.   클레이 장군은 유럽 주둔 미 공군 사령관 커티스 르메이에게 공수작전 시작을 통보했다.\\n\\n6월 26일 미국 공군의 첫 수송기가 프랑크푸르트(라인마인 공군기지) 및 비스바덴에서 베를린 템펠호프 공항으로 날아오면서 공수작전이 시작되었다(Operation Vittles 또는 Operation Proviant). 영국 공군은 6월 28일 분스토르프 비행장에서 가토 비행장으로 더글러스 C-47 수송기를 출발하면서 역시 공수작전에 참가했다(Operation Plainfare, 이후 Operation Carter Patterson). 7월 초부터 12월 첫 서리 전까지는 내부식성 때문에 영국군 비행정도 소금 수송에 동원되었다. 엘베강 하구에 있었던 함부르크 핑켄베르더 비행장에서 이륙하여 베를린 시내의 하펠강 및 반제호에 착륙했다. 오스트레일리아 공군도 참여했다(Operation Pelican).',\n",
       " 'corpus_source': '위키피디아',\n",
       " 'url': None,\n",
       " 'domain': None,\n",
       " 'title': '베를린 공수작전',\n",
       " 'author': None,\n",
       " 'html': None,\n",
       " 'document_id': 60375}"
      ]
     },
     "execution_count": 70,
     "metadata": {},
     "output_type": "execute_result"
    }
   ],
   "source": [
    "df2[56500]"
   ]
  },
  {
   "cell_type": "code",
   "execution_count": 69,
   "metadata": {},
   "outputs": [],
   "source": [
    "df_rest = df2[56500:]"
   ]
  },
  {
   "cell_type": "code",
   "execution_count": 23,
   "metadata": {},
   "outputs": [],
   "source": [
    "def generator(df2):\n",
    "  for c, line in enumerate(df2):\n",
    "    yield {\n",
    "      '_index': 'wiki_documents',\n",
    "      '_type': '_doc',\n",
    "      '_id': line.get('document_id', None),\n",
    "      '_source': {\n",
    "        'title': line.get('title', ''),\n",
    "        'text': line.get('text', '')\n",
    "      }\n",
    "    }\n",
    "  raise StopIteration"
   ]
  },
  {
   "cell_type": "code",
   "execution_count": 24,
   "metadata": {},
   "outputs": [],
   "source": [
    "wiki_generator = generator(df2)"
   ]
  },
  {
   "cell_type": "code",
   "execution_count": 25,
   "metadata": {},
   "outputs": [
    {
     "data": {
      "text/plain": [
       "<generator object generator at 0x7f24b95f80b0>"
      ]
     },
     "execution_count": 25,
     "metadata": {},
     "output_type": "execute_result"
    }
   ],
   "source": [
    "wiki_generator"
   ]
  },
  {
   "cell_type": "markdown",
   "metadata": {},
   "source": [
    "# Settings and Mappings"
   ]
  },
  {
   "cell_type": "code",
   "execution_count": 26,
   "metadata": {},
   "outputs": [],
   "source": [
    "# Settings = {\n",
    "#   'settings':{\n",
    "#     'number_of_shards':1,\n",
    "#     'number_of_replicas':1,\n",
    "#   },\n",
    "#   'mappings':{\n",
    "#     'properties':{\n",
    "#       'title':{\n",
    "#         'type':'text'\n",
    "#       },\n",
    "#       'text':{\n",
    "#         'type':'text'\n",
    "#       }\n",
    "#     }\n",
    "#   }\n",
    "# }\n",
    "\n",
    "CONFIG = {\n",
    "  'settings':{\n",
    "    'number_of_shards':1,\n",
    "    'number_of_replicas':1,\n",
    "    'analysis':{\n",
    "      'analyzer': {\n",
    "        'nori_analyzer':{\n",
    "          'type': 'custom',\n",
    "          'tokenizer': 'nori_tokenizer'\n",
    "        }\n",
    "      },\n",
    "    }\n",
    "  },\n",
    "  'mappings':{\n",
    "    'properties':{\n",
    "      'title':{\n",
    "        'type':'text'\n",
    "      },\n",
    "      'text':{\n",
    "        'type':'text',\n",
    "        \"analyzer\": \"nori_analyzer\"\n",
    "      }\n",
    "    }\n",
    "  }\n",
    "}\n",
    "\n",
    "# CONFIG = {\n",
    "#   'settings':{\n",
    "#     'number_of_shards':1,\n",
    "#     'number_of_replicas':1,\n",
    "#     'analysis':{\n",
    "#       'analyzer': {\n",
    "#         'nori_analyzer':{\n",
    "#           'type': 'custom',\n",
    "#           'tokenizer': 'nori_tokenizer',\n",
    "#           'filter':[\n",
    "#             'nori_part_of_speech_filter'\n",
    "#           ]\n",
    "#         }\n",
    "#       },\n",
    "#       'filter':{\n",
    "#         'nori_part_of_speech_filter': {\n",
    "#           'type': 'nori_part_of_speech',\n",
    "#         }\n",
    "#       }\n",
    "#     }\n",
    "#   },\n",
    "#   'mappings':{\n",
    "#     'properties':{\n",
    "#       'title':{\n",
    "#         'type':'text'\n",
    "#       },\n",
    "#       'text':{\n",
    "#         'type':'text',\n",
    "#         \"analyzer\": \"nori_analyzer\",\n",
    "#         'search_analyzer':'nori_analyzer'\n",
    "#       }\n",
    "#     }\n",
    "#   }\n",
    "# }\n"
   ]
  },
  {
   "cell_type": "code",
   "execution_count": 81,
   "metadata": {},
   "outputs": [
    {
     "name": "stderr",
     "output_type": "stream",
     "text": [
      "/tmp/ipykernel_10274/2280445778.py:1: DeprecationWarning: The 'body' parameter is deprecated for the 'create' API and will be removed in a future version. Instead use API parameters directly. See https://github.com/elastic/elasticsearch-py/issues/1698 for more information\n",
      "  es.indices.create(index='wiki_documents', ignore=[400,404], body=CONFIG)\n"
     ]
    },
    {
     "data": {
      "text/plain": [
       "{'acknowledged': True, 'shards_acknowledged': True, 'index': 'wiki_documents'}"
      ]
     },
     "execution_count": 81,
     "metadata": {},
     "output_type": "execute_result"
    }
   ],
   "source": [
    "es.indices.create(index='wiki_documents', ignore=[400,404], body=CONFIG)"
   ]
  },
  {
   "cell_type": "markdown",
   "metadata": {},
   "source": [
    "# Upload the Data into Elastic Search"
   ]
  },
  {
   "cell_type": "code",
   "execution_count": 82,
   "metadata": {},
   "outputs": [],
   "source": [
    "from elasticsearch import helpers\n",
    "gen = generator(df2)\n",
    "gen_rest = generator(df_rest)"
   ]
  },
  {
   "cell_type": "code",
   "execution_count": 83,
   "metadata": {},
   "outputs": [
    {
     "name": "stderr",
     "output_type": "stream",
     "text": [
      "/opt/conda/lib/python3.8/site-packages/elasticsearch/connection/base.py:209: ElasticsearchWarning: [types removal] Specifying types in bulk requests is deprecated.\n",
      "  warnings.warn(message, category=ElasticsearchWarning)\n"
     ]
    },
    {
     "name": "stdout",
     "output_type": "stream",
     "text": [
      "generator raised StopIteration\n",
      "Done\n"
     ]
    }
   ],
   "source": [
    "try:\n",
    "  res = helpers.bulk(es, gen, chunk_size = 1)\n",
    "  # print(res)\n",
    "except Exception as e:\n",
    "  print(e)\n",
    "  print('Done')"
   ]
  },
  {
   "cell_type": "code",
   "execution_count": 75,
   "metadata": {},
   "outputs": [
    {
     "name": "stdout",
     "output_type": "stream",
     "text": [
      "generator raised StopIteration\n",
      "Done\n"
     ]
    }
   ],
   "source": [
    "try:\n",
    "  helpers.bulk(es, gen_rest, chunk_size = 1)\n",
    "except Exception as e:\n",
    "  print(e)\n",
    "  print('Done')"
   ]
  },
  {
   "cell_type": "code",
   "execution_count": 50,
   "metadata": {},
   "outputs": [
    {
     "name": "stdout",
     "output_type": "stream",
     "text": [
      "<class 'Exception'>\n",
      "56735\n"
     ]
    }
   ],
   "source": [
    "count = 0\n",
    "while True:\n",
    "  try:\n",
    "    next(gen)\n",
    "    count += 1\n",
    "  except Exception:\n",
    "    print(Exception)\n",
    "    break\n",
    "print(count)"
   ]
  },
  {
   "cell_type": "code",
   "execution_count": 19,
   "metadata": {},
   "outputs": [
    {
     "data": {
      "text/plain": [
       "{'.kibana_task_manager_7.15.1_001': {'aliases': {'.kibana_task_manager': {},\n",
       "   '.kibana_task_manager_7.15.1': {}}},\n",
       " '.kibana-event-log-7.15.1-000001': {'aliases': {'.kibana-event-log-7.15.1': {'is_write_index': True}}},\n",
       " 'wiki_documents': {'aliases': {}},\n",
       " '.apm-agent-configuration': {'aliases': {}},\n",
       " '.apm-custom-link': {'aliases': {}},\n",
       " '.kibana_7.15.1_001': {'aliases': {'.kibana': {}, '.kibana_7.15.1': {}}},\n",
       " '.tasks': {'aliases': {}}}"
      ]
     },
     "execution_count": 19,
     "metadata": {},
     "output_type": "execute_result"
    }
   ],
   "source": [
    "res"
   ]
  },
  {
   "cell_type": "markdown",
   "metadata": {},
   "source": [
    "# queries"
   ]
  },
  {
   "cell_type": "code",
   "execution_count": 84,
   "metadata": {},
   "outputs": [
    {
     "data": {
      "text/plain": [
       "{'count': 56736,\n",
       " '_shards': {'total': 1, 'successful': 1, 'skipped': 0, 'failed': 0}}"
      ]
     },
     "execution_count": 84,
     "metadata": {},
     "output_type": "execute_result"
    }
   ],
   "source": [
    "es.count(index = 'wiki_documents')\n"
   ]
  },
  {
   "cell_type": "code",
   "execution_count": 87,
   "metadata": {},
   "outputs": [
    {
     "data": {
      "text/plain": [
       "{'_index': 'wiki_documents',\n",
       " '_type': '_doc',\n",
       " '_id': '56737',\n",
       " '_version': 1,\n",
       " '_seq_no': 52910,\n",
       " '_primary_term': 1,\n",
       " 'found': True,\n",
       " '_source': {'title': '왼손잡이 에렌',\n",
       "  'text': '; 아사쿠라 코이치(朝倉光一)\\n: 이 이야기의 주인공이다. 만들기는 좋아하지만 뛰어난 재능이 없는 것을 자각하고 광고 대리점의 디자이너가 되어서 등신대의 성공을 하고 싶다고 생각하고 있는 청년이다. \\n; 야마기시 에렌(山岸エレン)\\n: 그림의 재능을 가지면서 아버지의 죽음을 계기로 그리는 것을 그만둔 소녀이면 왼손잡이이다. \\n; 카토 사유리(加藤さゆり)\\n: 무엇이든 평균 이상은 능숙하게 다르며, 만만찮은 인생 설계야 말로 행복의 길이라고 믿고 있다. \\n; 키시 아야노(岸あやの)\\n: 대기업 ‘AK’의 사장의 딸이자 키시 아카리의 언니이다. 왼손잡이이다.\\n; 키시 아카리(岸あかり)\\n: 엄청 인기 있는 모델이다. 키시 아야노의 여동생이다. 왼손잡이이다.'}}"
      ]
     },
     "execution_count": 87,
     "metadata": {},
     "output_type": "execute_result"
    }
   ],
   "source": [
    "es.get(index='wiki_documents', id=56737)"
   ]
  },
  {
   "cell_type": "code",
   "execution_count": 21,
   "metadata": {},
   "outputs": [
    {
     "data": {
      "text/plain": [
       "{'_index': 'wiki_documents',\n",
       " '_type': '_doc',\n",
       " '_id': '0',\n",
       " '_version': 1,\n",
       " '_seq_no': 0,\n",
       " '_primary_term': 1,\n",
       " 'found': True,\n",
       " '_source': {'title': '나라 목록',\n",
       "  'text': '이 문서는 나라 목록이며, 전 세계 206개 나라의 각 현황과 주권 승인 정보를 개요 형태로 나열하고 있다.\\n\\n이 목록은 명료화를 위해 두 부분으로 나뉘어 있다.\\n\\n# 첫 번째 부분은 바티칸 시국과 팔레스타인을 포함하여 유엔 등 국제 기구에 가입되어 국제적인 승인을 널리 받았다고 여기는 195개 나라를 나열하고 있다.\\n# 두 번째 부분은 일부 지역의 주권을 사실상 (데 팍토) 행사하고 있지만, 아직 국제적인 승인을 널리 받지 않았다고 여기는 11개 나라를 나열하고 있다.\\n\\n두 목록은 모두 가나다 순이다.\\n\\n일부 국가의 경우 국가로서의 자격에 논쟁의 여부가 있으며, 이 때문에 이러한 목록을 엮는 것은 매우 어렵고 논란이 생길 수 있는 과정이다. 이 목록을 구성하고 있는 국가를 선정하는 기준에 대한 정보는 \"포함 기준\" 단락을 통해 설명하였다. 나라에 대한 일반적인 정보는 \"국가\" 문서에서 설명하고 있다.'}}"
      ]
     },
     "execution_count": 21,
     "metadata": {},
     "output_type": "execute_result"
    }
   ],
   "source": [
    "es.get(index='wiki_documents', id=0)"
   ]
  },
  {
   "cell_type": "code",
   "execution_count": 46,
   "metadata": {},
   "outputs": [
    {
     "name": "stderr",
     "output_type": "stream",
     "text": [
      "/tmp/ipykernel_6464/706394350.py:1: DeprecationWarning: The 'body' parameter is deprecated for the 'search' API and will be removed in a future version. Instead use API parameters directly. See https://github.com/elastic/elasticsearch-py/issues/1698 for more information\n",
      "  es.search(index='wiki_documents', body={'size':1, 'query':{'match':{'text':'국제적인 승인을 널리'}}})\n",
      "/opt/conda/lib/python3.8/site-packages/elasticsearch/connection/base.py:209: ElasticsearchWarning: Elasticsearch built-in security features are not enabled. Without authentication, your cluster could be accessible to anyone. See https://www.elastic.co/guide/en/elasticsearch/reference/7.15/security-minimal-setup.html to enable security.\n",
      "  warnings.warn(message, category=ElasticsearchWarning)\n"
     ]
    },
    {
     "data": {
      "text/plain": [
       "{'took': 35,\n",
       " 'timed_out': False,\n",
       " '_shards': {'total': 1, 'successful': 1, 'skipped': 0, 'failed': 0},\n",
       " 'hits': {'total': {'value': 1775, 'relation': 'eq'},\n",
       "  'max_score': 23.013771,\n",
       "  'hits': [{'_index': 'wiki_documents',\n",
       "    '_type': '_doc',\n",
       "    '_id': '0',\n",
       "    '_score': 23.013771,\n",
       "    '_source': {'title': '나라 목록',\n",
       "     'text': '이 문서는 나라 목록이며, 전 세계 206개 나라의 각 현황과 주권 승인 정보를 개요 형태로 나열하고 있다.\\n\\n이 목록은 명료화를 위해 두 부분으로 나뉘어 있다.\\n\\n# 첫 번째 부분은 바티칸 시국과 팔레스타인을 포함하여 유엔 등 국제 기구에 가입되어 국제적인 승인을 널리 받았다고 여기는 195개 나라를 나열하고 있다.\\n# 두 번째 부분은 일부 지역의 주권을 사실상 (데 팍토) 행사하고 있지만, 아직 국제적인 승인을 널리 받지 않았다고 여기는 11개 나라를 나열하고 있다.\\n\\n두 목록은 모두 가나다 순이다.\\n\\n일부 국가의 경우 국가로서의 자격에 논쟁의 여부가 있으며, 이 때문에 이러한 목록을 엮는 것은 매우 어렵고 논란이 생길 수 있는 과정이다. 이 목록을 구성하고 있는 국가를 선정하는 기준에 대한 정보는 \"포함 기준\" 단락을 통해 설명하였다. 나라에 대한 일반적인 정보는 \"국가\" 문서에서 설명하고 있다.'}}]}}"
      ]
     },
     "execution_count": 46,
     "metadata": {},
     "output_type": "execute_result"
    }
   ],
   "source": [
    "es.search(index='wiki_documents', body={'size':1, 'query':{'match':{'text':'국제적인 승인을 널리'}}})"
   ]
  },
  {
   "cell_type": "code",
   "execution_count": 17,
   "metadata": {},
   "outputs": [
    {
     "name": "stderr",
     "output_type": "stream",
     "text": [
      "/opt/conda/lib/python3.8/site-packages/elasticsearch/connection/base.py:209: ElasticsearchWarning: Elasticsearch built-in security features are not enabled. Without authentication, your cluster could be accessible to anyone. See https://www.elastic.co/guide/en/elasticsearch/reference/7.15/security-minimal-setup.html to enable security.\n",
      "  warnings.warn(message, category=ElasticsearchWarning)\n"
     ]
    },
    {
     "data": {
      "text/plain": [
       "{'wiki_documents': {'mappings': {'properties': {'text': {'type': 'text'},\n",
       "    'title': {'type': 'text'}}}}}"
      ]
     },
     "execution_count": 17,
     "metadata": {},
     "output_type": "execute_result"
    }
   ],
   "source": [
    "es.indices.get_mapping(index='wiki_documents')"
   ]
  },
  {
   "cell_type": "code",
   "execution_count": 20,
   "metadata": {},
   "outputs": [],
   "source": [
    "settings = {\n",
    "  'settings':{\n",
    "    'number_of_shards':1,\n",
    "    'number_of_replicas':1,\n",
    "    'analysis':{\n",
    "      'analyzer': {\n",
    "        'nori_analyzer':{\n",
    "          'type': 'custom',\n",
    "          'tokenizer': 'nori'\n",
    "        }\n",
    "      }\n",
    "    }\n",
    "  }\n",
    "}"
   ]
  },
  {
   "cell_type": "code",
   "execution_count": null,
   "metadata": {},
   "outputs": [],
   "source": [
    "es.indices.put_settings(body=settings, index='wiki_documents')"
   ]
  },
  {
   "cell_type": "code",
   "execution_count": 18,
   "metadata": {},
   "outputs": [],
   "source": [
    "mapping = {\n",
    "'mappings':{\n",
    "    'properties':{\n",
    "      'title':{\n",
    "        'type':'text'\n",
    "      },\n",
    "      'text':{\n",
    "        'type':'text',\n",
    "        \"analyzer\": \"nori_analyzer\"\n",
    "      }\n",
    "    }\n",
    "  }\n",
    "}"
   ]
  },
  {
   "cell_type": "code",
   "execution_count": null,
   "metadata": {},
   "outputs": [],
   "source": [
    "es.indices.put_mapping(body=mapping, index='wiki_documents')"
   ]
  },
  {
   "cell_type": "code",
   "execution_count": 16,
   "metadata": {},
   "outputs": [
    {
     "data": {
      "text/plain": [
       "{'tokens': [{'token': '문서',\n",
       "   'start_offset': 2,\n",
       "   'end_offset': 4,\n",
       "   'type': 'word',\n",
       "   'position': 1},\n",
       "  {'token': '나라',\n",
       "   'start_offset': 6,\n",
       "   'end_offset': 8,\n",
       "   'type': 'word',\n",
       "   'position': 3},\n",
       "  {'token': '목록',\n",
       "   'start_offset': 9,\n",
       "   'end_offset': 11,\n",
       "   'type': 'word',\n",
       "   'position': 4},\n",
       "  {'token': '이',\n",
       "   'start_offset': 11,\n",
       "   'end_offset': 12,\n",
       "   'type': 'word',\n",
       "   'position': 5},\n",
       "  {'token': '세계',\n",
       "   'start_offset': 17,\n",
       "   'end_offset': 19,\n",
       "   'type': 'word',\n",
       "   'position': 8},\n",
       "  {'token': '206',\n",
       "   'start_offset': 20,\n",
       "   'end_offset': 23,\n",
       "   'type': 'word',\n",
       "   'position': 9},\n",
       "  {'token': '개',\n",
       "   'start_offset': 23,\n",
       "   'end_offset': 24,\n",
       "   'type': 'word',\n",
       "   'position': 10},\n",
       "  {'token': '나라',\n",
       "   'start_offset': 25,\n",
       "   'end_offset': 27,\n",
       "   'type': 'word',\n",
       "   'position': 11},\n",
       "  {'token': '현황',\n",
       "   'start_offset': 31,\n",
       "   'end_offset': 33,\n",
       "   'type': 'word',\n",
       "   'position': 14},\n",
       "  {'token': '주권',\n",
       "   'start_offset': 35,\n",
       "   'end_offset': 37,\n",
       "   'type': 'word',\n",
       "   'position': 16},\n",
       "  {'token': '승인',\n",
       "   'start_offset': 38,\n",
       "   'end_offset': 40,\n",
       "   'type': 'word',\n",
       "   'position': 17},\n",
       "  {'token': '정보',\n",
       "   'start_offset': 41,\n",
       "   'end_offset': 43,\n",
       "   'type': 'word',\n",
       "   'position': 18},\n",
       "  {'token': '개요',\n",
       "   'start_offset': 45,\n",
       "   'end_offset': 47,\n",
       "   'type': 'word',\n",
       "   'position': 20},\n",
       "  {'token': '형태',\n",
       "   'start_offset': 48,\n",
       "   'end_offset': 50,\n",
       "   'type': 'word',\n",
       "   'position': 21},\n",
       "  {'token': '나열',\n",
       "   'start_offset': 52,\n",
       "   'end_offset': 54,\n",
       "   'type': 'word',\n",
       "   'position': 23},\n",
       "  {'token': '있',\n",
       "   'start_offset': 57,\n",
       "   'end_offset': 58,\n",
       "   'type': 'word',\n",
       "   'position': 26},\n",
       "  {'token': '목록',\n",
       "   'start_offset': 64,\n",
       "   'end_offset': 66,\n",
       "   'type': 'word',\n",
       "   'position': 29},\n",
       "  {'token': '명료',\n",
       "   'start_offset': 68,\n",
       "   'end_offset': 70,\n",
       "   'type': 'word',\n",
       "   'position': 31},\n",
       "  {'token': '위하',\n",
       "   'start_offset': 73,\n",
       "   'end_offset': 75,\n",
       "   'type': 'word',\n",
       "   'position': 34},\n",
       "  {'token': '부분',\n",
       "   'start_offset': 78,\n",
       "   'end_offset': 80,\n",
       "   'type': 'word',\n",
       "   'position': 37},\n",
       "  {'token': '나뉘',\n",
       "   'start_offset': 83,\n",
       "   'end_offset': 85,\n",
       "   'type': 'word',\n",
       "   'position': 39},\n",
       "  {'token': '있',\n",
       "   'start_offset': 87,\n",
       "   'end_offset': 88,\n",
       "   'type': 'word',\n",
       "   'position': 41}]}"
      ]
     },
     "execution_count": 16,
     "metadata": {},
     "output_type": "execute_result"
    }
   ],
   "source": [
    "es.indices.analyze(\n",
    "  body={\n",
    "    'text': '이 문서는 나라 목록이며, 전 세계 206개 나라의 각 현황과 주권 승인 정보를 개요 형태로 나열하고 있다.\\n\\n이 목록은 명료화를 위해 두 부분으로 나뉘어 있다.',\n",
    "    'analyzer':'nori',\n",
    "  }\n",
    ")"
   ]
  },
  {
   "cell_type": "code",
   "execution_count": 88,
   "metadata": {},
   "outputs": [
    {
     "name": "stderr",
     "output_type": "stream",
     "text": [
      "/tmp/ipykernel_11168/1677013031.py:1: DeprecationWarning: The 'body' parameter is deprecated for the 'search' API and will be removed in a future version. Instead use API parameters directly. See https://github.com/elastic/elasticsearch-py/issues/1698 for more information\n",
      "  es.search(\n"
     ]
    },
    {
     "data": {
      "text/plain": [
       "{'took': 19,\n",
       " 'timed_out': False,\n",
       " '_shards': {'total': 1, 'successful': 1, 'skipped': 0, 'failed': 0},\n",
       " 'hits': {'total': {'value': 10000, 'relation': 'gte'},\n",
       "  'max_score': 21.447016,\n",
       "  'hits': [{'_index': 'wiki_documents',\n",
       "    '_type': '_doc',\n",
       "    '_id': '20081',\n",
       "    '_score': 21.447016,\n",
       "    '_source': {'title': '크리스 니코스키',\n",
       "     'text': 'SK에서 방출된 이후 그는 일본을 여행하며 잠시 신변을 정리하고 있었다. 그 때 좌완 선발 투수가 필요하여 니코스키에게 관심을 두고 있었던 두산 베어스가 SK 와이번스에 계약 양도를 신청하여 곧바로 맷 왓슨의 대체 용병으로 두산 베어스로 이적했고 두산 베어스의 선발진에 합류하여 비로소 첫 승을 따 냈으며  승리를 대부분 한화 이글스전에서 기록하여 한화 이글스에는 강력한 천적으로 자리매김했다.  그러나 예전부터 주로 원포인트 및 중간계투로 뛰다가 선발로 전환한 탓에 선발로는 아직 익숙하지 않아 3회까지 투구수가 70개 가까이 되는 경기가 대부분이라는 단점이 있었다.  2009년 9월 13일 KIA 타이거즈전에서 비로소 초반에 급격하게 늘어나는 투구수를 극복하여 승리를 따 내기도 했다.  두산 베어스 합류 후 12경기에 더 나서고 2009년 정규 시즌을 4승 8패, 평균 자책 3.78로 마무리했다. 완전한 선발 전업 후 후반기에 조금씩 나아지는 모습을 보였으나, 잠실야구장에서 롯데 자이언츠와 맞붙었던 2009년 9월 29일 준 플레이오프 1차전에서 무실점으로 3이닝을 호투하던 중 갑작스러운 어깨 통증으로 조기 강판당했고, 그 날 두산 베어스는 롯데 자이언츠에게 1차전을 내주었다. 진단 결과 극상근 손상 판정을 받아 포스트 시즌 전력에서 완전히 이탈하고 말았다. 플레이오프가 끝난 이후 이닝 소화 능력이 떨어진다는 이유로 두산 베어스가 재계약을 포기하면서 대한민국을 떠나게 되었다.  두산에서의 마지막이 좋지 않았지만, 그가 두산에 입단하여 2군에서 불펜 피칭을 했을 때 그를 지켜보았던 박종훈 당시 2군 감독은 니코스키를 두고 성격이 좋았다고 하였다.'}},\n",
       "   {'_index': 'wiki_documents',\n",
       "    '_type': '_doc',\n",
       "    '_id': '13590',\n",
       "    '_score': 20.412258,\n",
       "    '_source': {'title': '오퍼레이션7',\n",
       "     'text': '냉전 종식 이후 전 세계적으로 소규모의 끊임없는 국지 분쟁들이 생겨나고 강대국들의 잦은 내정간섭과 문화침공, 강제간섭 등은 안정되지 않은 많은 나라의 골칫거리들이 되었다. 이처럼 많은 분쟁과 폭동, 혼란을 틈타 용병산업이 호황을 누리게 되었다. 2010년 용병회사들은 다국적 거대기업으로 성장하면서 각국의 정규군에 못지않은 화력을 갖추고 고도로 훈련된 외인부대들이 적게는 수십 명에서 많게는 수천 명에 이르는 전쟁 베테랑들로 즉각 출동할 수 있는 동원능력을 갖추고 있으며 보유장비 또한 최신형 개인화기, 장갑차, 헬기, 전차, 전투기 등 작은 나라의 군사력 이상을 능가할 정도이다. 외국정부를 상대로 계약을 따내면 파병하여 계약된 임무를 완수하는 형태로 많은 분쟁을 막고 때로는 돈에 의해 용병들 간의 전투가 끊이지 않는다. 또 작은 나라의 정규군을 훈련, 요인 경호 등도 파병의 대상이 되었으며 때로는 그 대가로 광산채굴권을 관리하기도 했다.\\\\n2010년 이후 점점 확대되어가는 용병산업으로 각국은 앞다투어 용병회사의 파병을 요청하였고 몇몇 나라는 국가 차원의 용병을 생산하기도 하였다. 이렇게 생산된 용병들은 작은 폭동진압에서부터 대규모 데모 진압은 물론 거대기업 간의 암투, 소규모 국지전 등에 투입되며 그 명성과 존재 가치가 더욱 높아지는 형태로 자리 잡았다.\\\\n또 용병들의 파병으로 제3국에 수출되고 이러한 막대한 경제이익을 생산하여 전 세계는 용병들의 시대를 예고하였다. 이를 피의 수출이라고도 한다. 수많은 용병단의 출현으로 많은 분쟁이 끊이지 않았으나 이젠 용병들이 존재하지 않고는 그 수많은 문제를 국가 차원에서 해결하기 쉽지 않았다. 그 때문에 무기생산과 피의 수출로 말미암은 경제적 가치는 수많은 나라와 수많은 사람이 살아가는 중요한 이유가 되었다.\\\\n용병들은 훈련된 외인부대로 그 활용성이 매우 높으며 어려운 임무에는 많은 수익을 보장받는다 하여 많은 젊은이가 자원하고 나섰다.\\\\n그러나 이런 용병회사와 계약한 나라들이 계약한 보수를 지급하지 않는 사건들이 자주 발생하게 되고 이에 따라 용병들의 약탈과 계약 불이행이 잇달았다. 때로는 도가 지나친 약탈과 행패 때문에 몇몇의 용병단은 내분으로 말미암은 파행의 경우도 속출 되었다. 이렇게 파행된 용병단의 용병들은 용병대장을 추대하고 독립적인 용병단을 구성하거나 회사로 만드는 일도 종종 있었다.\\\\n그리하여 지금! 용병들의 춘추전국시대가 도래한 것이다.'}},\n",
       "   {'_index': 'wiki_documents',\n",
       "    '_type': '_doc',\n",
       "    '_id': '10323',\n",
       "    '_score': 19.943863,\n",
       "    '_source': {'title': '디자인 플래닝',\n",
       "     'text': '디자인 플래닝(Design Planning)은 디자인을 전략적 관점에서 기획하고 디자인 프로젝트를 수행해 나가기 위한 계획을 수립하는 일이다.\\n\\n어떤 디자인을 만들고자 할 때 \\'무엇을 디자인할 것인가?\\'와 \\'어떻게 그 디자인을 만들어낼 것인가?\\'의 두 가지 질문에 따라 디자인을 해 나가는 절차적 활동을 할 수 있다. 이때 이러한 시작부터 디자인의 결과물이 나오는 시점까지의 계획이 필요하다. 이때 특히 디자인 플래닝은 \"무엇을 디자인할 것인가?\"에 대한 답을 구하는 일련의 디자인 프로세스를 위한 사전 활동이다. 디자인의 결과는 제품, 서비스 혹은 절차나 조직이 될 수도 있으며 이러한 활동을 통해 실제 만드는 과정에서의 목표를 확실히 하며 좋은 결과물에 대한 평가의 지침이 될 수 있다.'}}]}}"
      ]
     },
     "execution_count": 88,
     "metadata": {},
     "output_type": "execute_result"
    }
   ],
   "source": [
    "es.search(\n",
    "  index='wiki_documents', \n",
    "  body={\n",
    "    'query':{\n",
    "      'match':{\n",
    "        'text':'용병회사의 경기가 좋아진 것은 무엇이 끝난 이후부터인가?',\n",
    "        # 'tokenizer': 'nori'\n",
    "      }\n",
    "    }\n",
    "  },\n",
    "  size=3\n",
    ")"
   ]
  },
  {
   "cell_type": "code",
   "execution_count": 17,
   "metadata": {},
   "outputs": [
    {
     "name": "stderr",
     "output_type": "stream",
     "text": [
      "/tmp/ipykernel_1498/1528268646.py:1: DeprecationWarning: The 'body' parameter is deprecated for the 'search' API and will be removed in a future version. Instead use API parameters directly. See https://github.com/elastic/elasticsearch-py/issues/1698 for more information\n",
      "  res = es.search(\n"
     ]
    }
   ],
   "source": [
    "res = es.search(\n",
    "  index='wiki_documents', \n",
    "  body={\n",
    "    'query':{\n",
    "      'match':{\n",
    "        'text':'용병회사의 경기가 좋아진 것은 무엇이 끝난 이후부터인가?',\n",
    "        # 'tokenizer': 'nori'\n",
    "      }\n",
    "    }\n",
    "  },\n",
    "  size=3\n",
    ")"
   ]
  },
  {
   "cell_type": "code",
   "execution_count": 18,
   "metadata": {},
   "outputs": [
    {
     "data": {
      "text/plain": [
       "'SK에서 방출된 이후 그는 일본을 여행하며 잠시 신변을 정리하고 있었다. 그 때 좌완 선발 투수가 필요하여 니코스키에게 관심을 두고 있었던 두산 베어스가 SK 와이번스에 계약 양도를 신청하여 곧바로 맷 왓슨의 대체 용병으로 두산 베어스로 이적했고 두산 베어스의 선발진에 합류하여 비로소 첫 승을 따 냈으며  승리를 대부분 한화 이글스전에서 기록하여 한화 이글스에는 강력한 천적으로 자리매김했다.  그러나 예전부터 주로 원포인트 및 중간계투로 뛰다가 선발로 전환한 탓에 선발로는 아직 익숙하지 않아 3회까지 투구수가 70개 가까이 되는 경기가 대부분이라는 단점이 있었다.  2009년 9월 13일 KIA 타이거즈전에서 비로소 초반에 급격하게 늘어나는 투구수를 극복하여 승리를 따 내기도 했다.  두산 베어스 합류 후 12경기에 더 나서고 2009년 정규 시즌을 4승 8패, 평균 자책 3.78로 마무리했다. 완전한 선발 전업 후 후반기에 조금씩 나아지는 모습을 보였으나, 잠실야구장에서 롯데 자이언츠와 맞붙었던 2009년 9월 29일 준 플레이오프 1차전에서 무실점으로 3이닝을 호투하던 중 갑작스러운 어깨 통증으로 조기 강판당했고, 그 날 두산 베어스는 롯데 자이언츠에게 1차전을 내주었다. 진단 결과 극상근 손상 판정을 받아 포스트 시즌 전력에서 완전히 이탈하고 말았다. 플레이오프가 끝난 이후 이닝 소화 능력이 떨어진다는 이유로 두산 베어스가 재계약을 포기하면서 대한민국을 떠나게 되었다.  두산에서의 마지막이 좋지 않았지만, 그가 두산에 입단하여 2군에서 불펜 피칭을 했을 때 그를 지켜보았던 박종훈 당시 2군 감독은 니코스키를 두고 성격이 좋았다고 하였다.'"
      ]
     },
     "execution_count": 18,
     "metadata": {},
     "output_type": "execute_result"
    }
   ],
   "source": [
    "res['hits']['hits'][0]['_source']['text']"
   ]
  },
  {
   "cell_type": "code",
   "execution_count": 17,
   "metadata": {},
   "outputs": [
    {
     "data": {
      "text/plain": [
       "DatasetDict({\n",
       "    validation: Dataset({\n",
       "        features: ['질문', '답변'],\n",
       "        num_rows: 3\n",
       "    })\n",
       "})"
      ]
     },
     "execution_count": 17,
     "metadata": {},
     "output_type": "execute_result"
    }
   ],
   "source": [
    "from datasets import Dataset, DatasetDict\n",
    "\n",
    "df = pd.DataFrame({'질문':['질문1', '질문2', '질문3'], '답변':['답변1', '답변2', '답변3']})\n",
    "DatasetDict({\"validation\": Dataset.from_pandas(df)})"
   ]
  },
  {
   "cell_type": "markdown",
   "metadata": {},
   "source": [
    "# Entity Enrichment"
   ]
  },
  {
   "cell_type": "code",
   "execution_count": 55,
   "metadata": {},
   "outputs": [
    {
     "ename": "AttributeError",
     "evalue": "'PororoBertCharNer' object has no attribute 'to'",
     "output_type": "error",
     "traceback": [
      "\u001b[0;31m---------------------------------------------------------------------------\u001b[0m",
      "\u001b[0;31mAttributeError\u001b[0m                            Traceback (most recent call last)",
      "\u001b[0;32m/tmp/ipykernel_1498/2597983272.py\u001b[0m in \u001b[0;36m<module>\u001b[0;34m\u001b[0m\n\u001b[0;32m----> 1\u001b[0;31m \u001b[0mner\u001b[0m \u001b[0;34m=\u001b[0m \u001b[0mpororo\u001b[0m\u001b[0;34m.\u001b[0m\u001b[0mPororo\u001b[0m\u001b[0;34m(\u001b[0m\u001b[0mtask\u001b[0m\u001b[0;34m=\u001b[0m\u001b[0;34m'ner'\u001b[0m\u001b[0;34m,\u001b[0m \u001b[0mlang\u001b[0m\u001b[0;34m=\u001b[0m\u001b[0;34m'ko'\u001b[0m\u001b[0;34m)\u001b[0m\u001b[0;34m.\u001b[0m\u001b[0mto\u001b[0m\u001b[0;34m(\u001b[0m\u001b[0;34m'cuda'\u001b[0m\u001b[0;34m)\u001b[0m\u001b[0;34m\u001b[0m\u001b[0;34m\u001b[0m\u001b[0m\n\u001b[0m\u001b[1;32m      2\u001b[0m \u001b[0mnered_question\u001b[0m \u001b[0;34m=\u001b[0m \u001b[0mner\u001b[0m\u001b[0;34m(\u001b[0m\u001b[0;34m'대한민국의 대통령은 누구인가?'\u001b[0m\u001b[0;34m)\u001b[0m\u001b[0;34m\u001b[0m\u001b[0;34m\u001b[0m\u001b[0m\n\u001b[1;32m      3\u001b[0m \u001b[0mnered_question\u001b[0m\u001b[0;34m\u001b[0m\u001b[0;34m\u001b[0m\u001b[0m\n",
      "\u001b[0;31mAttributeError\u001b[0m: 'PororoBertCharNer' object has no attribute 'to'"
     ]
    }
   ],
   "source": [
    "ner = pororo.Pororo(task='ner', lang='ko').to('cuda')\n",
    "nered_question = ner('대한민국의 대통령은 누구인가?')\n",
    "nered_question"
   ]
  },
  {
   "cell_type": "code",
   "execution_count": 44,
   "metadata": {},
   "outputs": [
    {
     "name": "stdout",
     "output_type": "stream",
     "text": [
      "{'match_phrase': {'text': '대한민국'}} {'match_phrase': {'text': '대통령'}}\n"
     ]
    }
   ],
   "source": [
    "match_phrases = []\n",
    "for word in nered_question:\n",
    "  if word[1] != 'O':\n",
    "    match_phrases.append({'match_phrase':{'text': word[0]}})\n",
    "print(*match_phrases)"
   ]
  },
  {
   "cell_type": "code",
   "execution_count": 51,
   "metadata": {},
   "outputs": [
    {
     "name": "stderr",
     "output_type": "stream",
     "text": [
      "/tmp/ipykernel_1498/1622811465.py:1: DeprecationWarning: The 'body' parameter is deprecated for the 'search' API and will be removed in a future version. Instead use API parameters directly. See https://github.com/elastic/elasticsearch-py/issues/1698 for more information\n",
      "  res = es.search(\n"
     ]
    }
   ],
   "source": [
    "res = es.search(\n",
    "  index='wiki_documents', \n",
    "  body={\n",
    "    'query':{\n",
    "      'bool':{\n",
    "        'should':[\n",
    "          {\n",
    "            'match':{\n",
    "              'text':'대한민국의 대통령은 누구인가?',\n",
    "            }\n",
    "          },\n",
    "          # {'match_phrase': {'text':'용병'}},\n",
    "          *match_phrases\n",
    "        ]\n",
    "      }\n",
    "    }\n",
    "\n",
    "  },\n",
    "  size=3\n",
    ")"
   ]
  },
  {
   "cell_type": "code",
   "execution_count": 52,
   "metadata": {},
   "outputs": [
    {
     "data": {
      "text/plain": [
       "{'took': 12,\n",
       " 'timed_out': False,\n",
       " '_shards': {'total': 1, 'successful': 1, 'skipped': 0, 'failed': 0},\n",
       " 'hits': {'total': {'value': 10000, 'relation': 'gte'},\n",
       "  'max_score': 33.414112,\n",
       "  'hits': [{'_index': 'wiki_documents',\n",
       "    '_type': '_doc',\n",
       "    '_id': '42655',\n",
       "    '_score': 33.414112,\n",
       "    '_source': {'title': '가토 다쓰야 (저널리스트)',\n",
       "     'text': \"2016년 1월 29일자로 일본 산케이 신문 1면기사로 책발간 소식을 알리고 《왜 나는 한국에 승리하였나. 박근혜 정권과의 500일 전쟁》이라는 제목의 책을 발간개시하였다.  책에서 그는 대한민국은 중세 국가와 마찬가지라 하고 대한민국은 대통령과 국민 감정에 따라 자의적으로 법이 해석된다고 했다. 그는 이어서 대한민국 검찰은 박근혜의 동태와 여론의 반응을 살피기 바빴고, 그래서 '과연 대한민국은 민주주의 가치를 공유하며 법치주의를 실천하고 있다고 말할 수 있는가’라며 대한민국을 비난했으며, '오히려 일본을 악의 제국으로 매도하며 대한민국이 일방적인 견해를 시사하고 있는 것 아닌가”라고 했다.  가토 다쓰야는 이 책으로 2016년 야마모토 시치헤이 상(山本七平賞)을 수상하였다.\"}},\n",
       "   {'_index': 'wiki_documents',\n",
       "    '_type': '_doc',\n",
       "    '_id': '53821',\n",
       "    '_score': 32.705547,\n",
       "    '_source': {'title': '대한민국 제19대 대통령 선거 민중연합당 후보 선출',\n",
       "     'text': '선거명=|국가=대한민국|유형=대통령|이전선거=대한민국 제18대 대통령 선거 통합진보당 후보 경선|이전선거_연도=2012년|선거일=2017년 3월 21일~25일|차기선거=대한민국 제20대 대통령 선거|차기선거_연도=2022년|투표율=72.11%|정당색=민중연합당|이미지1=|색1=민중연합당|후보1=김선동|정당1=민중연합당|득표수1=9,677|득표율1=95.4%|직책=대통령 후보|선거전=이정희 (1969년) 김선동|선거후_정당=민중연합당|국기_이미지=}}민중연합당 제19대 대통령 후보 선거는 2017년 대한민국 대통령 선거를 위해 민중연합당의 후보를 선출하는 절차를 말한다.\\n2017년 3월 25일 김선동 전 통합진보당 원내부대표가 민중연합당의 제19대 대통령 후보로 확정되었다.  민중연합당은 원내 정당들에 뒤지지 않는 조직적이고 열정적인 선거 운동을 벌였으나, 김선동 후보는 최종 결과 0.08%만을 득표해 8위로 낙선하고 말았다.'}},\n",
       "   {'_index': 'wiki_documents',\n",
       "    '_type': '_doc',\n",
       "    '_id': '44749',\n",
       "    '_score': 32.69641,\n",
       "    '_source': {'title': '대한민국-인도네시아 관계',\n",
       "     'text': \"1981년 7월 대한민국의 전두환 대통령이 처음으로 인도네시아를 방문하였으며, 이듬해 1982년 10월에는 인도네시아 수하르토 대통령이 방한하였다. 1988년 11월에는 노태우 대통령이 인도네시아를 방문하였고, 이어 1994년 11월 김영삼 대통령도 인도네시아를 찾았다. 2000년에는 인도네시아 압두라만 와힛 대통령이 두 차례에 걸쳐 방한하였으며, 같은해 11월 김대중 대통령도 인도네시아를 방문하였다. 2002년 3월에는 메가와티 수카르노푸트리 대통령이 방한하였다.\\n\\n2005년 11월에는 대한민국 부산에서 열린 APEC 정상회담을 계기로 수실로 밤방 유도요노 대통령이 방한하였고, 이듬해 2006년 12월에는 대한민국 노무현 대통령이 인도네시아를 방문, 양국 관계를 전략적 동반자 관계로 격상하였다. 2012년 3월에는 유도보노 대통령이 국빈 자격으로 방한하였으며 그해 11월에는 발리 민주주의 포럼 참석차 이명박 대통령이 발리를 찾았다.\\n\\n2016년에는 조코 위도도 인도네시아 대통령이 국빈 방한하였으며, 2017년 11월에는 문재인 대한민국 대통령이 인도네시아를 국빈 방문하였다. 문재인 대통령과 위도도 대통령은 기존 양국 관계를 '전략적 동반자 관계'에서 '특별 전략적 동반자 관계'로 격상하는데 합의하였다\"}}]}}"
      ]
     },
     "execution_count": 52,
     "metadata": {},
     "output_type": "execute_result"
    }
   ],
   "source": [
    "res"
   ]
  },
  {
   "cell_type": "code",
   "execution_count": 71,
   "metadata": {},
   "outputs": [],
   "source": [
    "from nltk import ne_chunk\n",
    "from nltk.tokenize import word_tokenize\n",
    "from nltk.tag import pos_tag"
   ]
  },
  {
   "cell_type": "code",
   "execution_count": 74,
   "metadata": {},
   "outputs": [
    {
     "data": {
      "text/plain": [
       "[('1981년', 'CD'),\n",
       " ('7월', 'CD'),\n",
       " ('대한민국의', 'NN'),\n",
       " ('전두환', 'NNP'),\n",
       " ('대통령이', 'NNP'),\n",
       " ('처음으로', 'NNP'),\n",
       " ('인도네시아를', 'NNP'),\n",
       " ('방문하였으며', 'NNP'),\n",
       " (',', ','),\n",
       " ('이듬해', 'VBD'),\n",
       " ('1982년', 'CD'),\n",
       " ('10월에는', 'CD'),\n",
       " ('인도네시아', 'NN'),\n",
       " ('수하르토', 'NNP'),\n",
       " ('대통령이', 'NNP'),\n",
       " ('방한하였다', 'NNP'),\n",
       " ('.', '.'),\n",
       " ('1988년', 'CD'),\n",
       " ('11월에는', 'CD'),\n",
       " ('노태우', 'NN'),\n",
       " ('대통령이', 'NNP'),\n",
       " ('인도네시아를', 'NNP'),\n",
       " ('방문하였고', 'NNP'),\n",
       " (',', ','),\n",
       " ('이어', 'VBD'),\n",
       " ('1994년', 'CD'),\n",
       " ('11월', 'CD'),\n",
       " ('김영삼', 'NN'),\n",
       " ('대통령도', 'NNP'),\n",
       " ('인도네시아를', 'NNP'),\n",
       " ('찾았다', 'NN')]"
      ]
     },
     "execution_count": 74,
     "metadata": {},
     "output_type": "execute_result"
    }
   ],
   "source": [
    "pos_tag(word_tokenize('1981년 7월 대한민국의 전두환 대통령이 처음으로 인도네시아를 방문하였으며, 이듬해 1982년 10월에는 인도네시아 수하르토 대통령이 방한하였다. 1988년 11월에는 노태우 대통령이 인도네시아를 방문하였고, 이어 1994년 11월 김영삼 대통령도 인도네시아를 찾았다'))"
   ]
  },
  {
   "cell_type": "code",
   "execution_count": 68,
   "metadata": {},
   "outputs": [
    {
     "name": "stderr",
     "output_type": "stream",
     "text": [
      "[nltk_data] Downloading package averaged_perceptron_tagger to\n",
      "[nltk_data]     /opt/ml/nltk_data...\n",
      "[nltk_data]   Unzipping taggers/averaged_perceptron_tagger.zip.\n"
     ]
    },
    {
     "data": {
      "text/plain": [
       "True"
      ]
     },
     "execution_count": 68,
     "metadata": {},
     "output_type": "execute_result"
    }
   ],
   "source": [
    "import nltk\n",
    "nltk.download('averaged_perceptron_tagger')"
   ]
  },
  {
   "cell_type": "code",
   "execution_count": null,
   "metadata": {},
   "outputs": [],
   "source": []
  }
 ],
 "metadata": {
  "interpreter": {
   "hash": "d4d1e4263499bec80672ea0156c357c1ee493ec2b1c70f0acce89fc37c4a6abe"
  },
  "kernelspec": {
   "display_name": "Python 3.8.5 64-bit ('base': conda)",
   "name": "python3"
  },
  "language_info": {
   "codemirror_mode": {
    "name": "ipython",
    "version": 3
   },
   "file_extension": ".py",
   "mimetype": "text/x-python",
   "name": "python",
   "nbconvert_exporter": "python",
   "pygments_lexer": "ipython3",
   "version": "3.8.5"
  },
  "orig_nbformat": 4
 },
 "nbformat": 4,
 "nbformat_minor": 2
}
