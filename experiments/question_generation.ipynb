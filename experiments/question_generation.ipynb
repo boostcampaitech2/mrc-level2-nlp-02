{
 "cells": [
  {
   "cell_type": "code",
   "execution_count": 1,
   "id": "e5e99013-f5d1-4c2d-874b-1055ac1266d1",
   "metadata": {},
   "outputs": [],
   "source": [
    "import pandas as pd"
   ]
  },
  {
   "cell_type": "code",
   "execution_count": 2,
   "id": "c27b0bf1-2632-4b80-9db8-0b56a33f6d6c",
   "metadata": {},
   "outputs": [
    {
     "data": {
      "text/plain": [
       "56737"
      ]
     },
     "execution_count": 2,
     "metadata": {},
     "output_type": "execute_result"
    }
   ],
   "source": [
    "wiki_df = pd.read_json('../data/wikipedia_documents.json', orient='index')\n",
    "len(wiki_df['text'].unique())"
   ]
  },
  {
   "cell_type": "code",
   "execution_count": 3,
   "id": "20d477ae-1526-4dc3-b3ce-5d120fb57b45",
   "metadata": {},
   "outputs": [
    {
     "data": {
      "text/html": [
       "<div>\n",
       "<style scoped>\n",
       "    .dataframe tbody tr th:only-of-type {\n",
       "        vertical-align: middle;\n",
       "    }\n",
       "\n",
       "    .dataframe tbody tr th {\n",
       "        vertical-align: top;\n",
       "    }\n",
       "\n",
       "    .dataframe thead th {\n",
       "        text-align: right;\n",
       "    }\n",
       "</style>\n",
       "<table border=\"1\" class=\"dataframe\">\n",
       "  <thead>\n",
       "    <tr style=\"text-align: right;\">\n",
       "      <th></th>\n",
       "      <th>text</th>\n",
       "      <th>title</th>\n",
       "    </tr>\n",
       "  </thead>\n",
       "  <tbody>\n",
       "    <tr>\n",
       "      <th>0</th>\n",
       "      <td>이 문서는 나라 목록이며, 전 세계 206개 나라의 각 현황과 주권 승인 정보를 개...</td>\n",
       "      <td>나라 목록</td>\n",
       "    </tr>\n",
       "    <tr>\n",
       "      <th>1</th>\n",
       "      <td>현 서울특별시 종로구 서린동 (구 일제 강점기 경기도 경성부 서린정) 출신이다. 친...</td>\n",
       "      <td>백남준</td>\n",
       "    </tr>\n",
       "    <tr>\n",
       "      <th>2</th>\n",
       "      <td>아오조라 문고(靑空文庫, あおぞらぶんこ|아오조라 분고)는 ‘일본어판 구텐베르크 프로...</td>\n",
       "      <td>아오조라 문고</td>\n",
       "    </tr>\n",
       "    <tr>\n",
       "      <th>3</th>\n",
       "      <td>아오조라 문고는 자원봉사로 운영되며 열람 역시 무료이다.  서비스 개시 초반에는 보...</td>\n",
       "      <td>아오조라 문고</td>\n",
       "    </tr>\n",
       "    <tr>\n",
       "      <th>4</th>\n",
       "      <td>텍스트 파일을 아오조라 문고에 수록할 때, 텍스트 파일이 갖추어야 할 서식을 '아오...</td>\n",
       "      <td>아오조라 문고</td>\n",
       "    </tr>\n",
       "  </tbody>\n",
       "</table>\n",
       "</div>"
      ],
      "text/plain": [
       "                                                text    title\n",
       "0  이 문서는 나라 목록이며, 전 세계 206개 나라의 각 현황과 주권 승인 정보를 개...    나라 목록\n",
       "1  현 서울특별시 종로구 서린동 (구 일제 강점기 경기도 경성부 서린정) 출신이다. 친...      백남준\n",
       "2  아오조라 문고(靑空文庫, あおぞらぶんこ|아오조라 분고)는 ‘일본어판 구텐베르크 프로...  아오조라 문고\n",
       "3  아오조라 문고는 자원봉사로 운영되며 열람 역시 무료이다.  서비스 개시 초반에는 보...  아오조라 문고\n",
       "4  텍스트 파일을 아오조라 문고에 수록할 때, 텍스트 파일이 갖추어야 할 서식을 '아오...  아오조라 문고"
      ]
     },
     "execution_count": 3,
     "metadata": {},
     "output_type": "execute_result"
    }
   ],
   "source": [
    "texts = []\n",
    "titles = []\n",
    "\n",
    "for i in range(len(wiki_df)):\n",
    "    wiki_context = wiki_df['text'][i]\n",
    "    wiki_title = wiki_df['title'][i]\n",
    "\n",
    "    if wiki_title in wiki_context:\n",
    "        texts.append(wiki_context)\n",
    "        titles.append(wiki_title)\n",
    "\n",
    "wiki_qa_df = pd.DataFrame(data={'text':texts,'title':titles})\n",
    "wiki_qa_df.head()"
   ]
  },
  {
   "cell_type": "code",
   "execution_count": 6,
   "id": "e35f371f-98e8-4d80-81dc-1f408898433b",
   "metadata": {},
   "outputs": [],
   "source": [
    "import pandas as pd\n",
    "wiki_qa_df = pd.read_csv('wiki_text_title.csv')"
   ]
  },
  {
   "cell_type": "code",
   "execution_count": 15,
   "id": "afa3d5c9-987a-41d6-a6c5-1a61844bfb34",
   "metadata": {},
   "outputs": [
    {
     "name": "stdout",
     "output_type": "stream",
     "text": [
      "안나푸르나산(Mount Annapurna, अन्नपूर्णा)는 히말라야산맥 중부에 줄지어선 고봉이다. 길이가 무려 55km에 달하고, 최고봉인 안나푸르나 1봉은 높이가 8,091m로 8,000m이상의 고산을 의미하는 14좌의 하나이다. 서쪽에서부터 최고봉인 안나푸르나 1봉(8,091m), 안나푸르나 3봉(7,555m), 안나푸르나 4봉(7,525m), 안나푸르나 2봉(7,937m), 강가푸르나(7,455m)가 연이어 서있고, 안나푸르나 3봉의 남쪽에서 갈라져 나온 끝에 마차푸차레산가 있다. 안나푸르나는 산스크리트어로 '수확의 여신'이라는 뜻을 가지고 있다.\n",
      "안나푸르나산에는 7,200m를 넘는 여섯 봉우리가 있다.\n",
      "{| border=0\n",
      "! 이름 !! 높이 !! 상대 높이 !! 좌표\n",
      "|-\n",
      "|안나푸르나 1봉  ||8,091m  || 2,984m ||28.595|N|83.819|E|type:mountain_region:NP|name=안나푸르나 1봉\n",
      "|-\n",
      "|안나푸르나 2봉  ||7,937m  || 2,437m ||28.539|N|84.137|E|type:mountain_region:NP|name=안나푸르나 2봉\n",
      "|-\n",
      "|안나푸르나 3봉  ||7,555m  || 703m ||28.585|N|84.000|E|type:mountain_region:NP|name=안나푸르나 3봉\n",
      "|-\n",
      "|안나푸르나 4봉  ||7,525m || ||28.539|N|84.087|E|type:mountain_region:NP|name=안나푸르나 4봉\n",
      "|-\n",
      "|강가푸르나      ||7,455m   || 563m ||28.606|N|83.965|E|type:mountain_region:NP|name=강가푸르나\n",
      "|-\n",
      "|안나푸르나 남봉 ||7,219m  || 775m ||28.518|N|83.806|E|type:mountain_region:NP|name=안나푸르나 남봉\n",
      "|}\n",
      "1950년 6월 3일 프랑스의 모리스 에르조그와 루이 라슈날이 처음으로 안나푸르나 제1봉 등정에 성공하였다. 이는 인류 최초의 8,000m급 등정 기록으로 남아있다. 1970년에는 Chris Bonington이 이끄는 영국등반대가 안나푸르나산의 남벽을 처음으로 등정하였다. 이 1970년의 안나푸르나산 남벽 원정은 등정주의에서 등로주의로의 한 획을 그은 등반으로 평가받는다. 1978년에는 Arlene Blum이 이끄는 미국등반대가 안나푸르나산 등정에 성공하였는데 모두 여성으로 구성된 팀으로 주목받기도 하였다. 1987년 2월 3일에는 폴란드의 Jerzy Kukuczka와 Artur Hajzer가 등반에 성공하여 14좌 최초의 겨울 등정으로 기록되기도 하였다.\n"
     ]
    }
   ],
   "source": [
    "for i in [2233, 2234, 2235]:\n",
    "    print(wiki_qa_df.iloc[i].text)"
   ]
  },
  {
   "cell_type": "code",
   "execution_count": 6,
   "id": "35e7818d-8eaf-4c62-b3b5-548d126b1441",
   "metadata": {},
   "outputs": [],
   "source": [
    "wiki_qa_df.to_csv('wiki_text_title.csv')"
   ]
  },
  {
   "cell_type": "code",
   "execution_count": 1,
   "id": "9c185fe5-29cc-4b69-af2a-a0331f48d93a",
   "metadata": {},
   "outputs": [
    {
     "name": "stderr",
     "output_type": "stream",
     "text": [
      "generate: 100%|██████████| 28765/28765 [4:39:00<00:00,  1.72it/s]  \n"
     ]
    }
   ],
   "source": [
    "import sys\n",
    "# sys.path.append(\"..\")\n",
    "import random\n",
    "from argparse import ArgumentParser\n",
    "\n",
    "import torch\n",
    "from tokenizers import SentencePieceBPETokenizer\n",
    "from torch.utils.data import DataLoader\n",
    "from tqdm import tqdm\n",
    "from transformers import GPT2LMHeadModel\n",
    "\n",
    "from korquad_qg.config import QGConfig\n",
    "from korquad_qg.dataset import (MAX_QUESTION_SPACE, MIN_QUESTION_SPACE, QGDecodingDataset, load_wiki_dataset)\n",
    "\n",
    "model = GPT2LMHeadModel.from_pretrained(\"taeminlee/kogpt2\")\n",
    "model.load_state_dict(torch.load('./models/qg_kogpt2/QG_kogpt2.pth')) # map_location=\"cpu\"\n",
    "device = torch.device(\"cuda:0\" if torch.cuda.is_available() else \"cpu\")\n",
    "model = model.to(device)\n",
    "\n",
    "tokenizer = SentencePieceBPETokenizer.from_file(\n",
    "    vocab_filename=\"./korquad_qg/tokenizer/vocab.json\", merges_filename=\"./korquad_qg/tokenizer/merges.txt\", add_prefix_space=False\n",
    ")\n",
    "\n",
    "examples = load_wiki_dataset('./wiki_text_title.csv')\n",
    "random.shuffle(examples)\n",
    "dataset = QGDecodingDataset(examples, tokenizer, 512)\n",
    "dataloader = DataLoader(dataset, batch_size=1)\n",
    "\n",
    "model = model.to(device)\n",
    "model.eval()\n",
    "\n",
    "generated_results = []\n",
    "\n",
    "for i, batch in tqdm(enumerate(dataloader), desc=\"generate\", total=len(dataloader)):\n",
    "    input_ids, attention_mask = (v.to(device) for v in batch)\n",
    "    origin_seq_len = input_ids.size(-1)\n",
    "\n",
    "    decoded_sequences = model.generate(\n",
    "        input_ids=input_ids,\n",
    "        attention_mask=attention_mask,\n",
    "        max_length=origin_seq_len + MAX_QUESTION_SPACE,\n",
    "        min_length=origin_seq_len + MIN_QUESTION_SPACE,\n",
    "        pad_token_id=0,\n",
    "        bos_token_id=1,\n",
    "        eos_token_id=2,\n",
    "        num_beams=5,\n",
    "        repetition_penalty=1.3,\n",
    "        no_repeat_ngram_size=3,\n",
    "        num_return_sequences=1,\n",
    "    )\n",
    "\n",
    "    for decoded_tokens in decoded_sequences.tolist():\n",
    "        decoded_question_text = tokenizer.decode(decoded_tokens[origin_seq_len:])\n",
    "        decoded_question_text = decoded_question_text.split(\"</s>\")[0].replace(\"<s>\", \"\")\n",
    "        generated_results.append(\n",
    "            (examples[i].context, examples[i].answer, examples[i].question, decoded_question_text)\n",
    "        )\n",
    "'''\n",
    "with open('Question_generation.csv', \"w\") as f:\n",
    "    for context, answer, question, generated_question in generated_results:\n",
    "        f.write(f\"{generated_question}\\t{answer}\\t{context}\\n\")\n",
    "'''"
   ]
  },
  {
   "cell_type": "code",
   "execution_count": 3,
   "id": "f1fb4a57-9549-4dc2-9805-6f3009ecbdc1",
   "metadata": {},
   "outputs": [
    {
     "data": {
      "text/plain": [
       "[('안나푸르나산에는 7,200m를 넘는 여섯 봉우리가 있다.\\n{| border=0\\n! 이름 !! 높이 !! 상대 높이 !! 좌표\\n|-\\n|안나푸르나 1봉  ||8,091m  || 2,984m ||28.595|N|83.819|E|type:mountain_region:NP|name=안나푸르나 1봉\\n|-\\n|안나푸르나 2봉  ||7,937m  || 2,437m ||28.539|N|84.137|E|type:mountain_region:NP|name=안나푸르나 2봉\\n|-\\n|안나푸르나 3봉  ||7,555m  || 703m ||28.585|N|84.000|E|type:mountain_region:NP|name=안나푸르나 3봉\\n|-\\n|안나푸르나 4봉  ||7,525m || ||28.539|N|84.087|E|type:mountain_region:NP|name=안나푸르나 4봉\\n|-\\n|강가푸르나      ||7,455m   || 563m ||28.606|N|83.965|E|type:mountain_region:NP|name=강가푸르나\\n|-\\n|안나푸르나 남봉 ||7,219m  || 775m ||28.518|N|83.806|E|type:mountain_region:NP|name=안나푸르나 남봉\\n|}',\n",
       "  '안나푸르나산',\n",
       "  None,\n",
       "  '무르시엘라고 불리는 산은?'),\n",
       " ('19 세기까지 고대 이집트 의학에 대한 주요 정보 출처는 고대 후기의 글이었다.\\xa0그리스 역사가인\\xa0헤로도토스는\\xa0기원전 440년경에 이집트를 방문하여 그들의 의학적 관행에 대한 그의 관찰을 광범위하게 기록했다.\\xa0\\xa0Pliny the Elder 는 또한 역사적인 검토에서 그들에 호의적으로 썼다.  Hippocrates (약의 아버지), Herophilos, Erasistratus 그리고 나중에 Galen 은 아멘 호프 (Amenhotep ) 성전에서 공부했으며 고대 이집트 의학이 그리스 의학에 기여한 것을 인정했다 .\\n\\n1822 년 로제타 스톤 (Rosetta stone)의 번역으로 마침내 이집트의 상형 문자 비문과 파피루스가 번역되었다. 19 세기에 이집트학에 대한 관심이 높아지면서 Ebers 파피루스, Edwin Smith Papyrus, Hearst Papyrus, London Medical Papyrus 및 기원전 2900 년까지 거슬러 올라가는 여러 고대 이집트의 의료 문서가 발견되었다.\\n\\n에드윈 스미스 파피루스 (Edwin Smith Papyrus)는 수술에 관한 교과서로 해부학 적 관찰과 수많은 질병의 \"시험, 진단, 치료 및 예후\"에 대해 자세히 설명한다. \\xa0그것은 아마도 기원전 1600 년경에 기록되었을 것이지만, 몇 개의 이전 본문의 사본으로 간주된다.\\xa0그 의학 정보는 기원전 3000 년경 것으로 간주된다. \\xa0 따라서 그것은 학습 매뉴얼로 간주된다. 치료는 동물성, 식물성 또는 과일 물질 또는 미네랄로 만든 연고로 이루어져 있다.  이집트에서 가장 먼저 수행 된 수술은 기원전 2750 년경에 발생했다.\\n\\n기원전 1550 년에 씌여진 Ebers 파피루스 c.에는 질병을 일으키는 귀신을 없애기위한 주문과 몹쓸 내용으로 가득하며 877 건의 처방도 포함되어 있다.\\xa0또한 잘 이해되지 않은 고대 의학 용어가 올바르게 해석 되었다면 종양에 대한 최초의 문서화된 인식을 포함되어 있다.\\n\\nKahun Gynaological Papyrus는  임신 문제를 포함하여 여성의 병을 다루고 있다.\\xa0삼 경우스톤 진단하고  진단과 치료를 상세하게 설명한 34 가지 사례가 남아있고, 일부는 단편적으로 남아있다. \\xa0이는 기원전 1800 년으로 거슬러 올라가며, 어떠한 종류 중에 가장 오래 살아남은 의학 문서다.\\n\\n허스트 파피루스 (1450 BC)와 베를린 파피루스 (BC 1200)와 같은 다른 문서들도 고대 이집트 의학에 대한 귀중한 통찰력을 제공한다.\\n\\n다른 정보는 종종 이집트 무덤의 벽과 함께 나오는 비문의 이미지를 장식하는 이미지에서 비롯된 것이다. 현대 의학 기술의 진보 또한 고대 이집트 의학의 이해에 기여했다. Paleopathologists는 미라의 뼈와 기관을 보기 위해 X-Rays와 나중에 CT 스캔을 사용할 수 있었다. 전자 현미경, 질량 분광법 및 다양한 법의학 기법을 통해 과학자들은 4000 년 전 이집트의 건강 상태를 독특한 형태로 볼 수 있었다.',\n",
       "  '고대 이집트 의학',\n",
       "  None,\n",
       "  '헤로도토스가 이집트를 방문했던 시기는?'),\n",
       " ('국제구름도감(International Cloud Atlas)은 세계기상기구에서 발간하는, 전세계의 구름을 150종으로 분류한 도감이다. 1896년 국제기상회의에서 처음으로 발간되었으며 , 영국의 화학자 류크 하워드가 1803년 구름의 형태와 밝기, 구조, 높이 등으로 세분화한 분류 체계를 기준으로 삼고 있다. \\n\\n구름 중에서도 기본 구름 역할을 하는 속(genera) 구름 10개를 기반으로 하며, 권운(새털구름), 고적운(양떼구름), 적운(뭉게구름) 등이 여기에 속한다. 그 다음 단계로 종 (species), 변종, 보충형 구름, 부속구름, 특수구름 등의 분류가 이어진다. 각 구름의 명칭은 라틴어로 명명된다\\n\\n2017년 3월 23일, 세계 기상의 날을 맞이하여 30년 만에 국제구름도감이 개정되어 발간되었다. 12개의 새로운 구름명이 추가되었으며, 한 구름에 2가지 이름이 붙은 경우도 포함되었으므로 구름 이름수로는 11개가 추가됐다. 보충형 구름 유형으로는 \"구름 아래쪽에서 형성된 파도처럼 생긴\" 아스페리타스 (Asperitas), 구름 가운데에 커다란 구멍이 있는 ‘카붐’(cavum), 잔 물결 모양의 ‘플룩투스’(Fluctus), 울타리 모양의 벽구름인 ‘무루스’(murus), 낮은 높이에서 꼬리 모양의 구름을 형성하는 ‘카우다’(cauda) 등이 추가되었다',\n",
       "  '국제구름도감',\n",
       "  None,\n",
       "  '세계 각국의 구름을 모은 도감의 이름은?'),\n",
       " ('브리기테는 2009년 10월 전문 모델 퇴출 계획을 발표하였다. 계획에 따라 2010년 1월 2일 호부터 전문 모델이 더 이상 교용되지 않았다. 인쇄잡지와 웹 사이트에 모두 전문 모델 대신 일반 여성이 실렸다. 이는 거식증과 지나친 외모지상주의에 대항하기 위하였다. 이 계획에 따라 함부르크에서 중등학교 역사 교사로 근무하는 29세의 지빌레 차버가 480유로 실크드레스를 입고 유명 여배우였던 마를레네 디트리히를 흉내낸 패션사진 이 잡지에 실렸다.\\n \\n브리기테는 전문 모델 퇴출 방침에 여론은 많은 호응을 보냈다.\\n \\n그러나 그저 광고 효과를 노리고 하는 프로젝트라는 비판을 받기도 하였다.\\n \\n2012년 9월 6일에 편집장이 교체되면서 9월 6일 호부터 다시 전문 모델이 고용되었다.',\n",
       "  '브리기테',\n",
       "  None,\n",
       "  '전문 모델 퇴출 계획이 발표된 것은 2009년 몇 월 몇 일인가?'),\n",
       " ('인간의 권리를 위한 투쟁은 긴 역사에 걸쳐 전개됐으나 그것이 근대적 의미의 권리장전으로 문서화된 것은 1215년의 대헌장(Magna Carta)에서부터 비롯된다. 영국의 국왕 존(John)이 제후들의 주청(奏請)에 의해 승인한 이 대헌장은 그 전문이 인민의 권리를 옹호하기 위한 내용으로 일관되어 있으나 특히 그중에서도 제38조에서는 \\'증인 없이는 어떠한 관리라도 국민을 처단할 수 없음\\'을 규정하고 제39조에서는 \\'적법한 판결에 의하지 않고서는 자유민이 체포·감금·약탈·추방되는 일이 없음\\'을 밝혔으며, 제52조에서는 \\'적법한 판결에 의하지 않고 토지·성채(城砦)·특권·기타의 권리를 박탈당한 국민의 권익을 회복해 줄 것\\'을 명문화하고 있다. 이러한 내용은 절대왕권 앞에서 무기력하게 움츠러들기만 하던 인민의 권익을 옹호하기 위한 최초의 문전(文典)으로서 가치를 갖는 것이다.\\n\\n대헌장에 명시된 이와 같은 민권사상은 그 후에도 그치지 않고 계속 지지를 받아 1628년의 권리청원(Petition of Right)과 1689년의 권리장전(Bill of Right)에 그 근본 이념이 연면히 흐르고 있음을 볼 수가 있다. 그러나 대헌장이나 권리청원이나 권리장전에 포함되어 있는 민권 이념이란 하나의 특색을 동일하게 갖추고 있다. 즉 권리장전 이전의 민권 투쟁이란 절대군주권의 횡포로부터 보호를 받기 위한 것이 그 본질을 이루고 있다. 따라서 근대적 의미에 볼 수 있는 통치권의 적극적인 후원과 같은 것은 찾아볼 수가 없는 것이다.\\n\\n그러던 것이 1776년의 버지니아 주 권리장전(The Virginia Bill of Right)에서부터 민권 사상에 정의의 권리가 두드러지게 부각되기 시작하였다. 즉 버지니아 주 권리장전 제14조에 의하면 \"정의와 중용과 절제와 질소(質素)와 덕성을 굳게 지키지 않거나 근본적인 원리에로 되돌아가서 생각하지 않는다면 어떠한 자유통치도 어떤 자유의 축복도 생성·유지될 수 없다\"고 규정함으로써 민권이나 통치권은 정의의 원리, 바꾸어 말한다면 사회 정의에 입각하지 않고서는 그 본연의 참뜻이 이루어지지 않는다는 점을 명백히 밝히고 있다. 이러한 청교도적(淸敎徒的) 정의감은 미국의 건국 이념에로 전승되어 \"그러나 아무리 참는다고 하더라도 동일 목적을 추구하기 위하여 한결같이 반복되는 학대와 강탈의 계속적인 행위로 인하여 인민을 절대적 전제하에 영원히 억압하려는 계획이 명백하여질 때에는 그러한 정부를 감연히 분쇄하고 인민의 장래에 대한 안전책을 확보하는 것은 인민의 권리이며 동시에 의무이다\"라고 선언하기에 이르렀다.\\n\\n이러한 역사적 문헌과 사상을 총망라하여 근대 민권 이념의 금자탑을 이룬 것으로는 역시 1789년의 프랑스 인권 선언을 들지 않을 수 없다. 이 때로부터 민권은 천부 불가양(天賦不可讓)의 것으로 확정되기에 이르렀다. 프랑스의 인권선언에 포함되어 있는 민권 이념은 그 후에도 발전하여 오늘날에는 국가의 권력이 소극적으로 후퇴함으로써 민권을 확대하는 것이 아니라 오히려 직접 참여함으로써 민권을 북돋우는 방향으로 변질되고 있다.\\n\\n한국의 경우를 살펴보면 근대적 의미로서의 민권 이념이 체계화되기 시작한 것은 동학운동의 결실인 갑오개혁에 비롯되어 일제치하에서의 제국주의에 대한 독립투쟁인 3·1정신과 4·19, 5·18, 6·10의 반독재 민권투쟁으로 그 정신이 맥맥히 흐르고 있음을 볼 수가 있다.',\n",
       "  '정의',\n",
       "  None,\n",
       "  '1776년 버지니아 주에서 권리장전을 선포한 것은 언제인가?')]"
      ]
     },
     "execution_count": 3,
     "metadata": {},
     "output_type": "execute_result"
    }
   ],
   "source": [
    "generated_results[:5]"
   ]
  },
  {
   "cell_type": "code",
   "execution_count": 17,
   "id": "5d0c7688-d830-4354-9ccf-c957a4e5d3dd",
   "metadata": {},
   "outputs": [],
   "source": [
    "context_list = []\n",
    "question_list = []\n",
    "answers_list = []\n",
    "for context, answer, _, generated_question in generated_results:\n",
    "    context_list.append(context)\n",
    "    answers_list.append(answer)\n",
    "    question_list.append(generated_question)\n",
    "    \n",
    "generated_dict = {'context':context_list,\n",
    "                 'question':question_list,\n",
    "                 'answers':answers_list}"
   ]
  },
  {
   "cell_type": "code",
   "execution_count": 23,
   "id": "864e5645-3b93-4fd0-aa78-fbe6601b6c7b",
   "metadata": {},
   "outputs": [],
   "source": [
    "pd.DataFrame(generated_dict).to_csv('question_generation.csv')"
   ]
  },
  {
   "cell_type": "code",
   "execution_count": null,
   "id": "6e5150ee-90fe-43e3-931f-371d66cb0ac5",
   "metadata": {},
   "outputs": [],
   "source": []
  }
 ],
 "metadata": {
  "kernelspec": {
   "display_name": "Python 3 (ipykernel)",
   "language": "python",
   "name": "python3"
  },
  "language_info": {
   "codemirror_mode": {
    "name": "ipython",
    "version": 3
   },
   "file_extension": ".py",
   "mimetype": "text/x-python",
   "name": "python",
   "nbconvert_exporter": "python",
   "pygments_lexer": "ipython3",
   "version": "3.8.5"
  }
 },
 "nbformat": 4,
 "nbformat_minor": 5
}
