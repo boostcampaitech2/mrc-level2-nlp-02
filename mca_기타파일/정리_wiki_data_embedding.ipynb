{
 "cells": [
  {
   "cell_type": "code",
   "execution_count": 29,
   "metadata": {},
   "outputs": [],
   "source": [
    "import sys\n",
    "sys.path.append(\"/opt/ml/code/\")"
   ]
  },
  {
   "cell_type": "code",
   "execution_count": 30,
   "metadata": {},
   "outputs": [],
   "source": [
    "from elasticsearch import Elasticsearch\n",
    "from elasticsearch import helpers\n",
    "import pandas as pd\n",
    "import matplotlib.pyplot as plt\n",
    "import numpy as np\n",
    "import seaborn as sns\n",
    "import torch\n",
    "from tqdm import tqdm\n",
    "from transformers import AutoTokenizer, AutoModel\n",
    "\n",
    "import re\n",
    "import math\n",
    "\n",
    "import model_encoder"
   ]
  },
  {
   "cell_type": "markdown",
   "metadata": {},
   "source": [
    "# 데이터 로딩"
   ]
  },
  {
   "cell_type": "code",
   "execution_count": 2,
   "metadata": {},
   "outputs": [],
   "source": [
    "df = pd.read_json('../../data/wikipedia_documents.json').T"
   ]
  },
  {
   "cell_type": "markdown",
   "metadata": {},
   "source": [
    "## 중복 데이터 제거"
   ]
  },
  {
   "cell_type": "code",
   "execution_count": 4,
   "metadata": {},
   "outputs": [
    {
     "data": {
      "text/plain": [
       "text             56737\n",
       "corpus_source        1\n",
       "url                  1\n",
       "domain               0\n",
       "title            31726\n",
       "author               0\n",
       "html                 0\n",
       "document_id      56737\n",
       "dtype: int64"
      ]
     },
     "execution_count": 4,
     "metadata": {},
     "output_type": "execute_result"
    }
   ],
   "source": [
    "df = df.drop_duplicates(subset=['text'])\n",
    "df.nunique()"
   ]
  },
  {
   "cell_type": "markdown",
   "metadata": {},
   "source": [
    "## 데이터 길이 분포 분석"
   ]
  },
  {
   "cell_type": "code",
   "execution_count": 5,
   "metadata": {},
   "outputs": [],
   "source": [
    "tokenizer = AutoTokenizer.from_pretrained('klue/bert-base')"
   ]
  },
  {
   "cell_type": "code",
   "execution_count": 7,
   "metadata": {},
   "outputs": [],
   "source": [
    "def tokenized_len(row):\n",
    "  return len(tokenizer.tokenize(row))"
   ]
  },
  {
   "cell_type": "code",
   "execution_count": 8,
   "metadata": {},
   "outputs": [
    {
     "name": "stderr",
     "output_type": "stream",
     "text": [
      "Token indices sequence length is longer than the specified maximum sequence length for this model (1131 > 512). Running this sequence through the model will result in indexing errors\n"
     ]
    }
   ],
   "source": [
    "df['tokenizedCount'] = df['text'].apply(tokenized_len)"
   ]
  },
  {
   "cell_type": "code",
   "execution_count": 9,
   "metadata": {},
   "outputs": [
    {
     "data": {
      "text/plain": [
       "<AxesSubplot:xlabel='tokenizedCount', ylabel='Count'>"
      ]
     },
     "execution_count": 9,
     "metadata": {},
     "output_type": "execute_result"
    },
    {
     "data": {
      "image/png": "[encoded data removed]",
      "text/plain": [
       "<Figure size 864x576 with 1 Axes>"
      ]
     },
     "metadata": {
      "needs_background": "light"
     },
     "output_type": "display_data"
    }
   ],
   "source": [
    "fig, ax = plt.subplots(1, 1, figsize=(12, 8))\n",
    "sns.histplot(x='tokenizedCount', data=df, bins=1000)"
   ]
  },
  {
   "cell_type": "code",
   "execution_count": 10,
   "metadata": {},
   "outputs": [
    {
     "data": {
      "text/plain": [
       "count    56737.000000\n",
       "mean       401.889208\n",
       "std        392.152975\n",
       "min         54.000000\n",
       "25%        221.000000\n",
       "50%        308.000000\n",
       "75%        457.000000\n",
       "max      27539.000000\n",
       "Name: tokenizedCount, dtype: float64"
      ]
     },
     "execution_count": 10,
     "metadata": {},
     "output_type": "execute_result"
    }
   ],
   "source": [
    "df['tokenizedCount'].describe()"
   ]
  },
  {
   "cell_type": "markdown",
   "metadata": {},
   "source": [
    "# 위키데이터 쪼개기"
   ]
  },
  {
   "cell_type": "code",
   "execution_count": 12,
   "metadata": {},
   "outputs": [
    {
     "name": "stderr",
     "output_type": "stream",
     "text": [
      "56737it [03:16, 289.35it/s]\n"
     ]
    }
   ],
   "source": [
    "splited_documents = []\n",
    "count = 0\n",
    "for index, document in tqdm(df.iterrows()):\n",
    "  # print(\"==================count=====================\",count)\n",
    "  \n",
    "  original_passage = document['text']\n",
    "\n",
    "  length_of_tokenized_text = len(tokenizer.tokenize(original_passage))\n",
    "\n",
    "  number_of_passages_to_create = math.ceil(length_of_tokenized_text / 400)  # 510으로 안하는 이유는 110만큼의 buffer를 주기 위해서\n",
    "  min_required_length = length_of_tokenized_text // number_of_passages_to_create  # 최소 길이\n",
    "  max_possible_length = min_required_length + 110  # 최대길이\n",
    "\n",
    "  end_of_sentences = re.findall(r'[가-힣]+\\S*\\.', original_passage)\n",
    "  sentences = re.split(r'[가-힣]+\\S*\\.', original_passage)\n",
    "  sentence_counter = 0\n",
    "\n",
    "\n",
    "  # print(min_required_length)\n",
    "  for i in range(number_of_passages_to_create):\n",
    "    partial_text = ''\n",
    "    partial_text_length = 0\n",
    "\n",
    "    if sentence_counter == len(end_of_sentences)-1:\n",
    "      break\n",
    "    \n",
    "    for j in range(len(sentences) - 1):\n",
    "      partial_text += sentences[sentence_counter] + end_of_sentences[sentence_counter]\n",
    "      partial_text_length += len(tokenizer.tokenize(sentences[sentence_counter] + end_of_sentences[sentence_counter]))\n",
    "      # print('==============================', sentence_counter, len(sentences)-1, len(end_of_sentences)-1)\n",
    "      # print(partial_text, partial_text_length)\n",
    "      sentence_counter += 1\n",
    "      if partial_text_length >= min_required_length or sentence_counter == len(end_of_sentences)-1:\n",
    "        \n",
    "        if sentence_counter == len(end_of_sentences)-1:\n",
    "          partial_text += sentences[-1]\n",
    "        document_to_be_added = {\n",
    "          'text': partial_text,\n",
    "          'title': document['title'],\n",
    "          'document_id': count # document['document_id']\n",
    "        }\n",
    "\n",
    "        splited_documents.append(document_to_be_added)\n",
    "        count +=1\n",
    "        break\n",
    "print(\"length of data after split: \", len(splited_documents))"
   ]
  },
  {
   "cell_type": "markdown",
   "metadata": {},
   "source": [
    "## 엘라스틱서치 연결"
   ]
  },
  {
   "cell_type": "code",
   "execution_count": 16,
   "metadata": {},
   "outputs": [
    {
     "name": "stderr",
     "output_type": "stream",
     "text": [
      "/opt/conda/lib/python3.8/site-packages/elasticsearch/connection/base.py:209: ElasticsearchWarning: Elasticsearch built-in security features are not enabled. Without authentication, your cluster could be accessible to anyone. See https://www.elastic.co/guide/en/elasticsearch/reference/7.15/security-minimal-setup.html to enable security.\n",
      "  warnings.warn(message, category=ElasticsearchWarning)\n"
     ]
    },
    {
     "data": {
      "text/plain": [
       "True"
      ]
     },
     "execution_count": 16,
     "metadata": {},
     "output_type": "execute_result"
    }
   ],
   "source": [
    "es = Elasticsearch([{'host': 'localhost', 'port': 9200}])\n",
    "es.ping()"
   ]
  },
  {
   "cell_type": "markdown",
   "metadata": {},
   "source": [
    "### 인덱스 목록 보기"
   ]
  },
  {
   "cell_type": "code",
   "execution_count": 17,
   "metadata": {},
   "outputs": [
    {
     "name": "stdout",
     "output_type": "stream",
     "text": [
      ".kibana_task_manager_7.15.1_001\n",
      ".apm-agent-configuration\n",
      ".kibana-event-log-7.15.1-000001\n",
      ".apm-custom-link\n",
      "wiki_documents_splited_dense\n",
      ".kibana_7.15.1_001\n",
      "wiki_documents_dense\n",
      "wiki_documents_splited\n",
      "wiki_documents\n",
      ".tasks\n"
     ]
    },
    {
     "name": "stderr",
     "output_type": "stream",
     "text": [
      "/tmp/ipykernel_2540/3052314421.py:1: DeprecationWarning: Using positional arguments for APIs is deprecated and will be disabled in 8.0.0. Instead use only keyword arguments for all APIs. See https://github.com/elastic/elasticsearch-py/issues/1698 for more information\n",
      "  res = es.indices.get_alias(\"*\")\n",
      "/opt/conda/lib/python3.8/site-packages/elasticsearch/connection/base.py:209: ElasticsearchWarning: this request accesses system indices: [.kibana_task_manager_7.15.1_001, .apm-agent-configuration, .apm-custom-link, .kibana_7.15.1_001, .tasks], but in a future major version, direct access to system indices will be prevented by default\n",
      "  warnings.warn(message, category=ElasticsearchWarning)\n"
     ]
    }
   ],
   "source": [
    "res = es.indices.get_alias(\"*\")\n",
    "for Name in res:\n",
    "  print(Name)"
   ]
  },
  {
   "cell_type": "markdown",
   "metadata": {},
   "source": [
    "### 인덱스 삭제하기"
   ]
  },
  {
   "cell_type": "code",
   "execution_count": null,
   "metadata": {},
   "outputs": [],
   "source": [
    "# es.indices.delete(index='wiki_documents_splited', ignore=[400, 404])"
   ]
  },
  {
   "cell_type": "markdown",
   "metadata": {},
   "source": [
    "## 쪼깨진 위키데이터 입력"
   ]
  },
  {
   "cell_type": "markdown",
   "metadata": {},
   "source": [
    "### 쪼갠 위키데이터를 입력하기 위한 제너레이터"
   ]
  },
  {
   "cell_type": "code",
   "execution_count": null,
   "metadata": {},
   "outputs": [],
   "source": [
    "def generator(splited_documents):\n",
    "  for c, line in enumerate(splited_documents):\n",
    "    yield {\n",
    "      '_index': 'wiki_documents_splited',\n",
    "      '_type': '_doc',\n",
    "      '_id': line.get('document_id', None),\n",
    "      '_source': {\n",
    "        'title': line.get('title', ''),\n",
    "        'text': line.get('text', '')\n",
    "      }\n",
    "    }\n",
    "  raise StopIteration"
   ]
  },
  {
   "cell_type": "code",
   "execution_count": null,
   "metadata": {},
   "outputs": [],
   "source": [
    "CONFIG = {\n",
    "  'settings':{\n",
    "    'number_of_shards':1,\n",
    "    'number_of_replicas':1,\n",
    "    'analysis':{\n",
    "      'analyzer': {\n",
    "        'nori_analyzer':{\n",
    "          'type': 'custom',\n",
    "          'tokenizer': 'nori_tokenizer'\n",
    "        }\n",
    "      },\n",
    "    }\n",
    "  },\n",
    "  'mappings':{\n",
    "    'properties':{\n",
    "      'title':{\n",
    "        'type':'text'\n",
    "      },\n",
    "      'text':{\n",
    "        'type':'text',\n",
    "        \"analyzer\": \"nori_analyzer\"\n",
    "      }\n",
    "    }\n",
    "  }\n",
    "}"
   ]
  },
  {
   "cell_type": "code",
   "execution_count": null,
   "metadata": {},
   "outputs": [],
   "source": [
    "es.indices.create(index='wiki_documents_splited', ignore=[400,404], body=CONFIG)"
   ]
  },
  {
   "cell_type": "code",
   "execution_count": null,
   "metadata": {},
   "outputs": [],
   "source": [
    "gen = generator(splited_documents)\n",
    "try:\n",
    "  res = helpers.bulk(es, gen, chunk_size = 1)\n",
    "  # print(res)\n",
    "except Exception as e:\n",
    "  print(e)\n",
    "  print('Done')"
   ]
  },
  {
   "cell_type": "markdown",
   "metadata": {},
   "source": [
    "# 쪼갠 위키데이터 Dense Embedding해서 넣기"
   ]
  },
  {
   "cell_type": "code",
   "execution_count": 62,
   "metadata": {},
   "outputs": [],
   "source": [
    "p_encoder = model_encoder.BertEncoder.from_pretrained('../encoders/p_encoder_neg').to('cuda')"
   ]
  },
  {
   "cell_type": "code",
   "execution_count": 63,
   "metadata": {},
   "outputs": [
    {
     "name": "stderr",
     "output_type": "stream",
     "text": [
      "100%|██████████| 78411/78411 [20:55<00:00, 62.45it/s]\n"
     ]
    }
   ],
   "source": [
    "p_embs = []\n",
    "for document in tqdm(splited_documents):\n",
    "  with torch.no_grad():\n",
    "    p_encoder.eval()\n",
    "    p_val = tokenizer([document['text']], padding=\"max_length\", truncation=True, return_tensors='pt', max_length=510).to('cuda')\n",
    "\n",
    "    p_emb = p_encoder(**p_val)\n",
    "    p_embs.append(p_emb[0].cpu().detach().numpy().tolist())\n",
    "    "
   ]
  },
  {
   "cell_type": "code",
   "execution_count": 64,
   "metadata": {},
   "outputs": [],
   "source": [
    "CONFIG = {\n",
    "  'settings':{\n",
    "    'number_of_shards':1,\n",
    "    'number_of_replicas':1,\n",
    "    'analysis':{\n",
    "      'analyzer': {\n",
    "        'nori_analyzer':{\n",
    "          'type': 'custom',\n",
    "          'tokenizer': 'nori_tokenizer'\n",
    "        }\n",
    "      },\n",
    "    }\n",
    "  },\n",
    "  'mappings':{\n",
    "    'properties':{\n",
    "      'text':{\n",
    "        'type':'text',\n",
    "        \"analyzer\": \"nori_analyzer\"\n",
    "      },\n",
    "      'vector':{\n",
    "        'type':'dense_vector',\n",
    "        'dims':768\n",
    "      }\n",
    "    }\n",
    "  }\n",
    "}"
   ]
  },
  {
   "cell_type": "code",
   "execution_count": 65,
   "metadata": {},
   "outputs": [
    {
     "name": "stderr",
     "output_type": "stream",
     "text": [
      "/opt/conda/lib/python3.8/site-packages/elasticsearch/connection/base.py:209: ElasticsearchWarning: Elasticsearch built-in security features are not enabled. Without authentication, your cluster could be accessible to anyone. See https://www.elastic.co/guide/en/elasticsearch/reference/7.15/security-minimal-setup.html to enable security.\n",
      "  warnings.warn(message, category=ElasticsearchWarning)\n",
      "/tmp/ipykernel_2540/2407913785.py:2: DeprecationWarning: The 'body' parameter is deprecated for the 'create' API and will be removed in a future version. Instead use API parameters directly. See https://github.com/elastic/elasticsearch-py/issues/1698 for more information\n",
      "  es.indices.create(index='wiki_documents_splited_dense', ignore=[400,404], body=CONFIG)\n"
     ]
    },
    {
     "data": {
      "text/plain": [
       "{'acknowledged': True,\n",
       " 'shards_acknowledged': True,\n",
       " 'index': 'wiki_documents_splited_dense'}"
      ]
     },
     "execution_count": 65,
     "metadata": {},
     "output_type": "execute_result"
    }
   ],
   "source": [
    "es.indices.delete(index='wiki_documents_splited_dense', ignore=[400, 404])\n",
    "es.indices.create(index='wiki_documents_splited_dense', ignore=[400,404], body=CONFIG)"
   ]
  },
  {
   "cell_type": "code",
   "execution_count": 66,
   "metadata": {},
   "outputs": [],
   "source": [
    "def generator(splited_documents, p_embs):\n",
    "  for document, vector in zip(splited_documents, p_embs):\n",
    "    yield {\n",
    "      '_index': 'wiki_documents_splited_dense',\n",
    "      '_type': '_doc',\n",
    "      '_id': document.get('document_id', None),\n",
    "      '_source': {\n",
    "        'text': document.get('text', ''),\n",
    "        'vector': vector\n",
    "      }\n",
    "    }\n",
    "  raise StopIteration"
   ]
  },
  {
   "cell_type": "code",
   "execution_count": 67,
   "metadata": {},
   "outputs": [
    {
     "name": "stderr",
     "output_type": "stream",
     "text": [
      "/opt/conda/lib/python3.8/site-packages/elasticsearch/connection/base.py:209: ElasticsearchWarning: [types removal] Specifying types in bulk requests is deprecated.\n",
      "  warnings.warn(message, category=ElasticsearchWarning)\n"
     ]
    },
    {
     "name": "stdout",
     "output_type": "stream",
     "text": [
      "generator raised StopIteration\n",
      "Done\n"
     ]
    }
   ],
   "source": [
    "gen = generator(splited_documents, p_embs)\n",
    "try:\n",
    "  res = helpers.bulk(es, gen, chunk_size = 1)\n",
    "  # print(res)\n",
    "except Exception as e:\n",
    "  print(e)\n",
    "  print('Done')"
   ]
  },
  {
   "cell_type": "markdown",
   "metadata": {},
   "source": [
    "## 검증해보기"
   ]
  },
  {
   "cell_type": "code",
   "execution_count": 74,
   "metadata": {},
   "outputs": [],
   "source": [
    "q_encoder = model_encoder.BertEncoder.from_pretrained('../encoders/q_encoder_neg').to('cuda')"
   ]
  },
  {
   "cell_type": "code",
   "execution_count": 94,
   "metadata": {},
   "outputs": [],
   "source": [
    "with torch.no_grad():\n",
    "  q_encoder.eval()\n",
    "  q_val = tokenizer(['대한민국의 수도는 어느 도시인가요?'], padding=\"max_length\", truncation=True, return_tensors='pt', max_length = 510).to('cuda')\n",
    "\n",
    "  q_emb = q_encoder(**q_val)\n",
    "  q_output = q_emb[0].cpu().detach().numpy().tolist()"
   ]
  },
  {
   "cell_type": "code",
   "execution_count": 95,
   "metadata": {},
   "outputs": [
    {
     "name": "stderr",
     "output_type": "stream",
     "text": [
      "/tmp/ipykernel_2540/2670386276.py:1: DeprecationWarning: The 'body' parameter is deprecated for the 'search' API and will be removed in a future version. Instead use API parameters directly. See https://github.com/elastic/elasticsearch-py/issues/1698 for more information\n",
      "  res = es.search(\n"
     ]
    }
   ],
   "source": [
    "res = es.search(\n",
    "  index='wiki_documents_splited_dense',\n",
    "  body={\n",
    "    'query':{\n",
    "      \"script_score\": {\n",
    "        \"query\" : {\n",
    "          \"match_all\" : {}\n",
    "        },\n",
    "        \"script\": {\n",
    "          # \"source\": \"1 / (1 + l2norm(params.queryVector, doc['vector']))\",\n",
    "          \"source\": \"cosineSimilarity(params.queryVector, doc['vector']) + 1.0\",\n",
    "          \"params\": {\n",
    "            \"queryVector\": q_output\n",
    "          }\n",
    "        }\n",
    "      }\n",
    "    }\n",
    "  },\n",
    "  size= 10\n",
    ")"
   ]
  },
  {
   "cell_type": "code",
   "execution_count": 96,
   "metadata": {},
   "outputs": [
    {
     "name": "stdout",
     "output_type": "stream",
     "text": [
      "\" 라고 함으로써 허락되지 않았다.\n",
      "============================================\n",
      "”라고 하여 ‘호해정-호해지사-호걸지사-호연지기’로까지 논리를 확장시켰다.\n",
      "============================================\n",
      " 이다].\"p=61.\"\n",
      "============================================\n",
      "지나친 가정상 왜곡이   제기됐다.\n",
      "============================================\n",
      " 그 외에 정실을 알고도 자수하지 않은 자들은 모두 다 용서한다.\n",
      "============================================\n",
      "간혹 가상방송사도 있다.\n",
      "============================================\n",
      "정확히 4260개의 10진법 왼편 절단 가능 소수가 있다.\n",
      "============================================\n",
      " 탐ㆍ진ㆍ치에 의지하는 것으로 말미암는 까닭이다. 올바른 이치에 의지하지 않고 여러 모양에 집착하거나 그 좋아하는 것에 집착하는 것이다.\"\n",
      "============================================\n",
      "종아리뼈는 다음과 같이 나눌 수 있다.\n",
      "============================================\n",
      "방방지는 지역과 상표나 장사한 사람의 이름에 따라 다양하게 불린다.\n",
      "============================================\n"
     ]
    }
   ],
   "source": [
    "for i in range(10):\n",
    "  print(res['hits']['hits'][i]['_source']['text'])\n",
    "  print('============================================')"
   ]
  },
  {
   "cell_type": "markdown",
   "metadata": {},
   "source": [
    "# 쪼개지 않은 문서 임베딩 해서 넣기"
   ]
  },
  {
   "cell_type": "code",
   "execution_count": 68,
   "metadata": {},
   "outputs": [],
   "source": [
    "text = df['text'].to_list()\n",
    "title = df['title'].to_list()\n",
    "document_id = df['document_id'].to_list()"
   ]
  },
  {
   "cell_type": "code",
   "execution_count": 69,
   "metadata": {},
   "outputs": [
    {
     "name": "stderr",
     "output_type": "stream",
     "text": [
      "56737it [15:44, 60.05it/s]\n"
     ]
    }
   ],
   "source": [
    "p_embs_not_splited = []\n",
    "for index, document in tqdm(df.iterrows()):\n",
    "  with torch.no_grad():\n",
    "    p_encoder.eval()\n",
    "    p_val = tokenizer([document['text']], padding=\"max_length\", truncation=True, return_tensors='pt', max_length=510).to('cuda')\n",
    "\n",
    "    p_emb = p_encoder(**p_val)\n",
    "    p_embs_not_splited.append(p_emb[0].cpu().detach().numpy().tolist())"
   ]
  },
  {
   "cell_type": "code",
   "execution_count": 70,
   "metadata": {},
   "outputs": [],
   "source": [
    "CONFIG = {\n",
    "  'settings':{\n",
    "    'number_of_shards':1,\n",
    "    'number_of_replicas':1,\n",
    "    'analysis':{\n",
    "      'analyzer': {\n",
    "        'nori_analyzer':{\n",
    "          'type': 'custom',\n",
    "          'tokenizer': 'nori_tokenizer'\n",
    "        }\n",
    "      },\n",
    "    }\n",
    "  },\n",
    "  'mappings':{\n",
    "    'properties':{\n",
    "      'text':{\n",
    "        'type':'text',\n",
    "        \"analyzer\": \"nori_analyzer\"\n",
    "      },\n",
    "      'vector':{\n",
    "        'type':'dense_vector',\n",
    "        'dims':768\n",
    "      }\n",
    "    }\n",
    "  }\n",
    "}"
   ]
  },
  {
   "cell_type": "code",
   "execution_count": 71,
   "metadata": {},
   "outputs": [
    {
     "name": "stderr",
     "output_type": "stream",
     "text": [
      "/tmp/ipykernel_2540/2952044086.py:2: DeprecationWarning: The 'body' parameter is deprecated for the 'create' API and will be removed in a future version. Instead use API parameters directly. See https://github.com/elastic/elasticsearch-py/issues/1698 for more information\n",
      "  es.indices.create(index='wiki_documents_dense', ignore=[400,404], body=CONFIG)\n"
     ]
    },
    {
     "data": {
      "text/plain": [
       "{'acknowledged': True,\n",
       " 'shards_acknowledged': True,\n",
       " 'index': 'wiki_documents_dense'}"
      ]
     },
     "execution_count": 71,
     "metadata": {},
     "output_type": "execute_result"
    }
   ],
   "source": [
    "es.indices.delete(index='wiki_documents_dense', ignore=[400, 404])\n",
    "es.indices.create(index='wiki_documents_dense', ignore=[400,404], body=CONFIG)"
   ]
  },
  {
   "cell_type": "code",
   "execution_count": 72,
   "metadata": {},
   "outputs": [],
   "source": [
    "def generator(text, title, document_id, p_embs_not_splited):\n",
    "  for text_el, title_el, document_id_el, p_embs_el in zip(text,title,document_id, p_embs_not_splited):\n",
    "    yield {\n",
    "      '_index': 'wiki_documents_dense',\n",
    "      '_type': '_doc',\n",
    "      '_id': document_id_el,\n",
    "      '_source': {\n",
    "        'text': text_el,\n",
    "        'vector': p_embs_el\n",
    "      }\n",
    "    }\n",
    "  raise StopIteration"
   ]
  },
  {
   "cell_type": "code",
   "execution_count": 73,
   "metadata": {},
   "outputs": [
    {
     "name": "stdout",
     "output_type": "stream",
     "text": [
      "generator raised StopIteration\n",
      "Done\n"
     ]
    }
   ],
   "source": [
    "gen = generator(text, title, document_id, p_embs_not_splited)\n",
    "try:\n",
    "  res = helpers.bulk(es, gen, chunk_size = 1)\n",
    "  # print(res)\n",
    "except Exception as e:\n",
    "  print(e)\n",
    "  print('Done')"
   ]
  },
  {
   "cell_type": "markdown",
   "metadata": {},
   "source": [
    "## 검증해보기"
   ]
  },
  {
   "cell_type": "code",
   "execution_count": 81,
   "metadata": {},
   "outputs": [],
   "source": [
    "q_encoder = model_encoder.BertEncoder.from_pretrained('../encoders/q_encoder_neg').to('cuda')"
   ]
  },
  {
   "cell_type": "code",
   "execution_count": 186,
   "metadata": {},
   "outputs": [],
   "source": [
    "query = '한 무제가 정복한 나라는?'\n",
    "with torch.no_grad():\n",
    "  q_encoder.eval()\n",
    "  q_val = tokenizer([query], padding=\"max_length\", truncation=True, return_tensors='pt', max_length = 510).to('cuda')\n",
    "\n",
    "  q_emb = q_encoder(**q_val)\n",
    "  q_output = q_emb[0].cpu().detach().numpy().tolist()"
   ]
  },
  {
   "cell_type": "code",
   "execution_count": 187,
   "metadata": {},
   "outputs": [
    {
     "name": "stderr",
     "output_type": "stream",
     "text": [
      "/tmp/ipykernel_2540/4002000892.py:1: DeprecationWarning: The 'body' parameter is deprecated for the 'search' API and will be removed in a future version. Instead use API parameters directly. See https://github.com/elastic/elasticsearch-py/issues/1698 for more information\n",
      "  res = es.search(\n"
     ]
    }
   ],
   "source": [
    "res = es.search(\n",
    "  index='wiki_documents_dense',\n",
    "  body={\n",
    "    'query':{\n",
    "      \"script_score\": {\n",
    "        \"query\" : {\n",
    "          \"match\" : {\n",
    "            \"text\": query\n",
    "          }\n",
    "        },\n",
    "        \"script\": {\n",
    "          # \"source\": \"1 / (1 + l2norm(params.queryVector, doc['vector']))\",\n",
    "          # \"source\": \"cosineSimilarity(params.queryVector, doc['vector']) + 1.0\",\n",
    "          # \"source\": \"_score + cosineSimilarity(params.queryVector, doc['vector'])\",\n",
    "          \"source\": \"_score * cosineSimilarity(params.queryVector, doc['vector']) / (_score + cosineSimilarity(params.queryVector, doc['vector'])) + cosineSimilarity(params.queryVector, doc['vector']) * _score / (_score + cosineSimilarity(params.queryVector, doc['vector']))\",\n",
    "          \"params\": {\n",
    "            \"queryVector\": q_output\n",
    "          }\n",
    "        }\n",
    "      }\n",
    "    }\n",
    "  },\n",
    "  size= 3\n",
    ")"
   ]
  },
  {
   "cell_type": "code",
   "execution_count": 188,
   "metadata": {},
   "outputs": [
    {
     "name": "stdout",
     "output_type": "stream",
     "text": [
      "남제 말기에 황제였던 동혼후는 폭정을 해 많은 대신들을 살해했고 먼 친척인 소의를 살해했다. 옹주자사로 양양에 있던 소의의 동생인 소연은 폭군을 처단한다는 명분으로 군사를 일으켜 건강을 함락한 뒤 동혼후를 살해한 뒤 화제를 옹립했다. 502년에 소연은 화제로부터 제위를 선양받아 양나라를 건국하니 그가 바로 무제이다.\\n\\n무제의 치세는 48년이란 긴 기간이었고, 그동안 내정을 정비하여 구품관인법을 개선했고 불교를 장려하여 국내를 안정시켰으며 문화를 번영시켰다. 대외관계도 비교적 평온하여 약 50년간 태평성대를 유지하여 남조 최전성기를 보냈다. 또한 무제의 맏아들인 소명태자가 편찬한 《문선》은 후세에까지 전해지는 훌륭한 문헌이다.\\n\\n그러나 무제의 50년에 걸친 치세 후반에는 불교에 너무 심취하여 스스로 동태사(同太寺)에 여러 번 사신(捨身)을 행하는 무모한 짓을 여러 번 일으켰다. 그럴 때마다 신하들은 막대한 돈을 들여 무제를 되찾아 왔기에 국고가 크게 궁핍해졌다. 퇴위 후 법황의 신분이라면 모르나 재임 도중에 황제를 잃는 일은 없었기 때문에 이런 황당한 일이 벌어진 것이었다.\\n\\n548년 동위의 무장이었던 후경이 투항해 왔다가 반란을 일으켜 수도인 건강으로 진격했다. 다음해 건강이 함락됐고 무제는 사로잡힌 뒤 쇠약해져 죽었다. 각지에 분봉되었던 종실의 여러 왕들은 형제나 삼촌, 조카들이었기에 서로의 이득을 보고 견제를 한 결과 모두 황제의 구출에 나서지않아 무제가 죽는 걸 보고만 있었다. 후경은 간문제를 옹립했다가 551년에 간문제를 살해하고 예장왕 소동을 제위에 올린 뒤 선양을 받아 황제에 올라 건강에서 즉위했다. 각지에 주둔한 여러 왕들 중 가장 세력이 강했던 형주자사 소역은 왕승변에게 대군을 주어 건강을 공격해 후경을 죽였다.\\n\\n소역은 즉위한 뒤 황폐화된 건강을 버리고 강릉으로 수도를 옮기니 그가 바로 원제이다. 그러나 이 혼란을 틈타 남정에 나선 서위는 촉(蜀)에 있던 무릉왕 소기와 원제의 대립을 틈타 촉을 점령했다. 또한 양양을 가지고 투항해온 소찰을 이용하여 554년 강릉을 공함한 뒤 원제를 죽였고 그곳의 거민들을 관중으로 강제로 이주시켰다. 건강의 파괴와 강릉의 함락은 남조의 귀족들에게 치명적인 타격을 주었다.\\n\\n한편 후경의 난 평정 이후 건강에 주둔하던 왕승변은 555년 북제의 압력에 정양후 소연명을 맞이하여 옹립하였으나 진패선이 이에 반대하여 군사를 일으켜 왕승변을 죽이고 정양후를 퇴위하게 한 뒤 원제의 아들 진안왕 소방지를 옹립하니 그가 바로 경제이다. 557년에 경제는 진패선에게 제위를 선양하니 양나라는 멸망하였고 진패선의 진나라가 건국되었다.\n",
      "============================================\n",
      "순자의 제자인 제나라 사람 부구백(浮丘伯)의 밑에서 《시》를 배웠다.\\n\\n고제가 노나라에 왔을 때 신배는 스승과 함께 노나라의 남궁(南宮)에서 고제를 알현하였다. 동문인 유교는 초왕이 된 후 신배를 불러들여 중대부에 봉했고, 신배는 여후 때에는 장안에서 유학하여 유교의 아들 유영객과 함께 공부하였다.\\n\\n훗날 유영객이 초왕이 되었을 때 초나라 태자 유무의 스승이 되었는데, 평소 학문을 싫어하였던 유무는 유영객의 뒤를 이어 왕이 되고나서는 신배를 배척하였다. 이를 수치스럽게 여긴 신배는 집에 틀어박혔고, 왕의 명령이 있을 때 말고는 손님도 맞이하지 않았다.\\n\\n무제 때, 신배의 제자 조관과 왕장은 각각 어사대부·낭중령이 되어 크게 신임을 받았다. 이때 무제는 명당(明堂)을 지어 제후들을 불러모아 의식을 행하려 하였고, 조관과 왕장은 신배를 천거하였다. 무제는 이들을 대동하여 신배를 찾아갔으나, 이미 80여 세였던 신배는 기력이 쇠하여 조언만 남겼다.\\n다스림이란, 말을 많이 하는 것이 아니라 행동하기에 달렸습니다.\\n화려한 글솜씨 같은 것을 좋아했던 무제는 신배의 말에 아무 대답도 하지 않았으나, 모처럼 임용하기로 하였으니 신배에게 태중대부 직책을 내려주고 노나라 왕의 저택을 하사하여 그곳에서 명당에 관한 일을 의논하게 하였다. 그러나 황로학을 좋아하였던 두태후는 조관과 왕장의 잘못을 들추어내어 추궁하였고, 결국 무제는 이들을 형리에게 넘겼다. 둘은 스스로 목숨을 끊었고, 신배 또한 면직되어 고향으로 돌아가고 몇 년 후 죽었다.\n",
      "============================================\n",
      "본래 농사와 목축을 하던 자였는데, 장성한 동생 복기(卜奇) 에게 모든 재산을 넘기고 자신은 양 백여 마리만을 이끌고 집을 나갔다. 십수년 후에 양은 천여 마리로 늘어났고, 복식은 집과 밭을 다시 샀다. 그 사이에 복기는 파산하였기 때문에, 복식은 다시 재산을 나누어 주었다.\\n\\n이때 전한은 흉노와 한창 싸우고 있었다. 복식은 재산의 절반을 변방에 보내 전비로 써줄 것을 조정에 청원하였다. 무제는 사람을 보내 복식에게 물었다.\\n관직을 원하는가?\\n젊을 때부터 양을 쳐왔기 때문에 다른 직업은 필요치 않습니다.\\n집안이 누명을 쓴 적이 있는 것인가?\\n저는 다른 사람과 원수를 지지 않았습니다. 가난한 이는 도와주고, 나쁜 이는 계도하니 사람들은 절 따릅니다. 누명 같은 것은 없습니다. 제가 생각하기에, 현인은 절의를 위하여 죽고 부자는 재물을 바친다면, 흉노를 물리칠 수 있을 것입니다.\\n무제가 승상 공손홍에게 복식의 일을 이야기하니, 공손홍은 이렇게 말하였다.\\n이는 인간의 감정이 아닙니다. 윗사람을 따르지 않는 신하는 법을 어지럽힐 것입니다. 받아들이지 마십시오.\\n무제는 복식의 의견에 답하지 않고 여러 해를 내버려 두었고, 복식은 집으로 돌아갔다.\\n\\n한 해 남짓 지난 원수 2년(기원전 121년), 흉노의 혼야왕 등이 항복한 데다가 빈민의 이주 정책 때문에 조정에서는 많은 경비를 지출하여 국고가 텅 비었다. 복식은 20만 전을 하남태수에게 바쳐 빈민의 이주 비용으로 충당하게 하였다. 태수의 보고를 받은 무제는 복식이 한 일임을 알아차렸고, 이에 대한 보답으로 4백 명분의 요역 면제권을 그에게 주었으나 복식은 그것 또한 사절하였다. 이 즈음에 다른 부호들은 모두 각자의 재산을 불리기에 급급하였고, 오로지 복식만이 나라의 경비를 보조하려 하였기 때문에 무제는 그를 중랑(中郞)에 임명하고 좌서장 작위와 밭 10경을 내려주는 한편 천하에 포고하여 다른 이들의 본보기가 되게 하였다.\\n\\n복식은 중랑 자리를 원치 않았으나, 무제는 상림원(上林苑)의 양을 치는 일을 맡기겠다는 핑계로 자리를 내려주었다. 이에 복식은 말하였다.\\n양 뿐만 아니라 백성도 마찬가지입니다. 시기적절하게 나쁜 이들을 물리쳐 무리 전체에 피해가 가지 않도록 해야 합니다.\\n무제는 복식을 현령에 임명하였고, 복식은 치적을 쌓아 제나라의 태부·국상을 지냈다.\\n\\n원정 5년(기원전 112년), 조정에서 남월 토벌을 준비하니 복식은 종군을 자처하였다. 무제는 복식을 기특하게 여겨 작위를 관내후로 올려주고 천하에 포고하였으나, 백여 명이 넘는 열후들 중 종군을 자처하는 이는 아무도 없었다. 마침 주금 사건이 일어나 상당수의 열후들이 작위를 빼앗겼다.\\n\\n원정 6년(기원전 111년), 석경의 뒤를 이어 어사대부가 되었다. 그러나 소금·철의 전매와 선박에 매긴 세금으로 지역 곳곳에서 고통스러워하자 이를 폐지할 것을 주장하여 무제의 심기를 거슬렀고, 이듬해에 태자태부로 좌천되었다. 이후 천수를 누리고 죽었다.\n",
      "============================================\n"
     ]
    }
   ],
   "source": [
    "for i in range(3):\n",
    "  print(res['hits']['hits'][i]['_source']['text'])\n",
    "  print('============================================')"
   ]
  },
  {
   "cell_type": "code",
   "execution_count": 189,
   "metadata": {},
   "outputs": [
    {
     "name": "stderr",
     "output_type": "stream",
     "text": [
      "/tmp/ipykernel_2540/1804198656.py:1: DeprecationWarning: The 'body' parameter is deprecated for the 'search' API and will be removed in a future version. Instead use API parameters directly. See https://github.com/elastic/elasticsearch-py/issues/1698 for more information\n",
      "  res = es.search(\n"
     ]
    }
   ],
   "source": [
    "res = es.search(\n",
    "  index='wiki_documents_dense',\n",
    "  body={\n",
    "    'query':{\n",
    "      \"script_score\": {\n",
    "        \"query\" : {\n",
    "          \"match\" : {\n",
    "            \"text\": query\n",
    "          }\n",
    "        },\n",
    "        \"script\": {\n",
    "          # \"source\": \"1 / (1 + l2norm(params.queryVector, doc['vector']))\",\n",
    "          \"source\": \"cosineSimilarity(params.queryVector, doc['vector']) + 1.0\",\n",
    "          # \"source\": \"_score + cosineSimilarity(params.queryVector, doc['vector'])\",\n",
    "          # \"source\": \"_score * cosineSimilarity(params.queryVector, doc['vector']) / (_score + cosineSimilarity(params.queryVector, doc['vector'])) + cosineSimilarity(params.queryVector, doc['vector']) * _score / (_score + cosineSimilarity(params.queryVector, doc['vector']))\",\n",
    "          \"params\": {\n",
    "            \"queryVector\": q_output\n",
    "          }\n",
    "        }\n",
    "      }\n",
    "    }\n",
    "  },\n",
    "  size= 3\n",
    ")"
   ]
  },
  {
   "cell_type": "code",
   "execution_count": 190,
   "metadata": {},
   "outputs": [
    {
     "name": "stdout",
     "output_type": "stream",
     "text": [
      "서초왕 항우를 멸망시키고 중국을 재통일한 황제 유방(유방)은 흉노에 대비하기 위해 한왕 신을 대(代) 땅으로 파견했지만, 한왕 신은 흉노와의 평화를 주장했다. 이를 배신으로 간주하자 한왕 신은 흉노에 투항했고, 한왕의 군대가 더해진 흉노 4만 대군이 태원(太源)으로 쏟아져 들어왔다.\\n\\n고조는 32만 군대를 거느리고 평성(平城)에서 흉노를 요격하였다. 하지만 고조의 본대는 약병으로 가장한 흉노의 위장 퇴각에 속아 진격하다가 고립되어 백등산에서 포위되었다. 이때 흉노군은 북방 군단은 흑마, 남방 군단은 적마, 서방 군단은 백마, 동방 군단은 흰 얼굴의 흑마에 타고 한군을 포위하고 있었다.\\n\\n7일간 포위된 고조는 진평의 건의에 따라 묵돌 선우의 아내에게 뇌물을 주어 포위의 일각을 벌렸고, 그곳을 통해 포위를 벗어나 간신히 장안으로 도망칠 수 있었다. 이때 한군 병사들은 열 명에 세 명 꼴로 동상으로 손가락이 떨어져 나갔다.\\n\\n이후 고조는 흉노에 공물을 주겠다는 조건으로 형제 관계의 화친을 맺었다. 이 관계는 한무제 때까지 이어졌다.\n",
      "============================================\n",
      "현재는 천자가 황제와 사실상 똑같은 호칭이고 실제로 황제가 곧 천자로 간주되는 기간이 길었지만 황제는 진시황이 새로 만든 지위고 중국 역사상 한족이 그들의 군주를 천자로 부른 것은 상당히 오래된 일인데, 기록에는 기원전 1000년 경에 이미 주(周)의 국왕을 천자라 불렀다. 즉 천자는 그 이전에도 계속 존재했다. 진시황 이전에는 왕(王)이 본래 천자의 칭호였으며 오직 주나라 천자만이 왕이었고, 나머지 제후들은 공(公), 후(侯) 등을 칭했다. 춘추오패가 그 예시. 그러나 중국 기준 이민족이던 초나라의 초무왕이 먼저 주나라와 동일한 왕을 자칭하고 나중엔 고조선도 칭왕했다. 결국 춘추전국시대에 들어 주나라 천자의 권위가 약해지면서 제후들이 너도나도 칭왕하면서 왕이란 칭호가 너무 흔해져버렸고 이에 전국을 통일한 진시황이 차별화되는 칭호를 새로 만들어낸 것이 황제였다. \\n\\n진시황 이후에는 '황제(皇帝) 칭호'와 같이 쓰이게 되었다. 상나라(商), 주나라(周) 시대의 천자의 정치적 호칭은 왕이었으나 전국시대에 이르러서는 부용국을 제외한 거의 모든 나라들이 왕을 자칭함에 따라 진시황이 지난 육국(초나라, 오나라, 월나라, 제나라, 연나라, 한나라, 위나라, 조나라)과 같은 호칭에 불쾌하여 3황의 황과 5제의 제를 붙여 황제를 칭하면서 천자는 진 시황제 시절에 잠시 쓰이지 않다가, 초 의제(楚 義帝)가 제위에 오를 때 부활하여, 뒷날 전한 고제가 스스로 제위에 오르면서 황제를 천자라 부른 이후 완전히 정착되었다. 그로부터 현재까지 천자는 왕이 아닌 황제를 지칭하는 말로 바뀌었다.\n",
      "============================================\n",
      "369년 (근초고왕 24년)에 고국원왕이 보기(步騎) 2만을 이끌고 백제를 침략해오자 근초고왕은 태자로 하여금 이를 막게 하여 반걸양(半乞壤) 지금의 황해도 배천에 이르러 싸우려 하였다. \\n\\n고구려 사람 사기(斯紀)는 본시 백제 사람이었는데, 잘못하여 나라에서 사용하는 말의 발굽을 상하게 하고 벌을 받을까 두려워서 고구려로 도망하였다. 이때 다시 백제로 돌아와 태자에게 이르기를, “고구려 군사가 비록 많기는 하나 모두 숫자만 채운 허수아비입니다. 날쌔고 용감한 자들은 적기(赤旗)뿐이니 만일 먼저 이를 깨뜨리면 나머지는 치지 않더라도 저절로 무너질 것입니다.”라고 하였다. 백제 태자는 이 말을 좇아 진격해서 크게 적군을 깨뜨리고 도망치는 것을 뒤따라 북으로 수곡성(水谷城, 지금의 황해도 신계) 서북에까지 이르렀다. \\n\\n이때 장군 막고해가 간하기를, “일찍이 도가(道家)의 말을 들으니 ‘만족할 줄 알면 욕되지 않고 그칠 줄 알면 위태롭지 않다.’라고 하였습니다. 지금 얻은 바가 많으니 어찌 더 구할 것이 있겠습니까.”라고 권하였던 바, 태자가 이를 옳다고 여겨 추격하기를 중지하고 돌을 쌓아 표지를 삼았다. 이로 미루어보아 그는 용감한 장군이었을 뿐만 아니라 도학에도 통달하였던 장수로 판단된다.\n",
      "============================================\n"
     ]
    }
   ],
   "source": [
    "for i in range(3):\n",
    "  print(res['hits']['hits'][i]['_source']['text'])\n",
    "  print('============================================')"
   ]
  },
  {
   "cell_type": "code",
   "execution_count": 191,
   "metadata": {},
   "outputs": [
    {
     "name": "stderr",
     "output_type": "stream",
     "text": [
      "/tmp/ipykernel_2540/691894924.py:1: DeprecationWarning: The 'body' parameter is deprecated for the 'search' API and will be removed in a future version. Instead use API parameters directly. See https://github.com/elastic/elasticsearch-py/issues/1698 for more information\n",
      "  res = es.search(\n"
     ]
    }
   ],
   "source": [
    "res = es.search(\n",
    "  index='wiki_documents', \n",
    "  body={\n",
    "    'query':{\n",
    "      'match':{\n",
    "        'text':query,\n",
    "        # 'tokenizer': 'nori'\n",
    "      }\n",
    "    }\n",
    "  },\n",
    "  size=3\n",
    ")"
   ]
  },
  {
   "cell_type": "code",
   "execution_count": 192,
   "metadata": {},
   "outputs": [
    {
     "name": "stdout",
     "output_type": "stream",
     "text": [
      "군의 현량(賢良)으로 천거되었고, 무제의 주목을 받아 중대부로 발탁되어 주매신·오구수왕·사마상여·주보언·동방삭·종군과 함께 측근이 되었다. 장조는 그 중에서도 특히 중용되어 가장 먼저 출세하였다.\n",
      "\n",
      "건원 3년(기원전 138년), 민월의 침공을 받은 동구(東甌)가 한나라에 구원을 요청하였다. 태위 전분은 무제에게 도와줄 필요가 없다고 하였으나 장조는 이에 반박하였고, 무제는 장조에게 부절을 주고 회계로 파견하였다. 회계태수가 법령을 들먹이며 병력을 내어주지 않으려 하자 그 사마(司馬)를 베었고, 병력을 징발하여 동구를 구원하러 갔으나 도착하기 전에 민월이 물러갔다.\n",
      "\n",
      "3년 후, 민월이 이번에는 남월을 침공하였다. 남월은 예전에 한나라와 약조한 바가 있어 출병하지 않고 한나라에 상황을 알렸고, 무제는 장군 둘을 보내 민월을 쳤다. 회남왕 유안은 이를 간하였으나, 한나라 군대가 온다는 소식을 들은 민월에서 왕의 아우 여선(餘善)이 왕을 죽이고 항복하였다. 무제는 남월에 자신의 뜻을 전하고, 또 유안을 치하하기 위하여 장조를 보냈다. 남월에서는 태자를 장조에게 인질로 보냈고, 유안은 장조와 친분을 맺었다.\n",
      "\n",
      "원수 원년(기원전 122년), 유안의 모반이 발각되었다. 장조는 예전에 장안에 입조한 유안의 선물을 받고, 그와 몰래 담론한 적이 있었기 때문에 연좌되었다. 무제는 장조의 형벌을 가볍게 하려고 하였으나, 정위 장탕의 반대에 부딪혀 결국 주살하였다.\n",
      "============================================\n",
      "아버지 노상 선우가 한나라와 체결했던 평화조약을 파기하였다. 즉위하여 한 경제(景帝)조에는 한나라의 공주를 왕비로 맞았고, 교역을 행아여 양국의 관계는 좋았다. 그러나 무제가 즉위한 뒤로는 다시 한나라 침공을 시작하여 전쟁을 시작하였다.\n",
      "\n",
      "기원전 126년 무렵 군신 선우는 10만의 기병을 거느리고 한나라 공격에 나섰는데, 진격로 일대의 초원에 사람의 인기척이 없자, 인접 봉화대 하나를 급습하고, 그 곳 관료를 심문하여 한나라 군사가 매복하고 있는 사실을 알아내고 회군하였다.\n",
      "\n",
      "4년 후 한무제의 명을 받은 위청·공손오·공손하·이광은 각각 1만 기를 거느리고 군신 선우를 공략해 왔다. 공손오는 패전해 7000기를 잃었고, 이광은 흉노에 대패하여 부대가 전멸하였고, 본인은 포로가 되었다가 탈출하여 시안으로 복귀하였다. 한무제는 사형으로 죄를 물을려고 하였으나, 공손오와 이광은 무제에게 돈을 바치고 사형을 면하고 서인(庶人)이 되었다.\n",
      "\n",
      "흉노 제국은 그들의 왕을 선우라고 지칭하고, 중요한 5개 부족이 중심을 이루고 있었다. 이 당시 한, 흉노 양국은 전쟁 가운데 장수를 포로로 잡아 제후 장수, 장군으로 봉하기도 하였는데, 지방 제후(장수)를 절란왕(折蘭王), 노후왕(盧侯王), 휴저왕·혼야왕과 같은 장수를 왕으로 호칭했다.\n",
      "============================================\n",
      "원삭 연간에 수양(睢陽) 땅에 유안반(類犴反)이라는 자가 있었는데, 회양태수의 빈객이 그의 아버지를 모욕하였다. 이에 유안반은 빈객과 함께 같은 수레에 탔다가, 빈객이 내리는 순간 수레에서 빈객을 죽이고 달아났다. 회양태수는 노하여 양나라의 이천석들을 꾸짖었고, 이천석 이하의 관리들은 급히 유안반을 잡으려고 그의 친척들을 잡아들였다.\n",
      "\n",
      "양나라의 비밀을 알고 있었던 유안반은 한나라 조정에 양나라의 비밀과, 이태후와 임왕후가 술항아리로 싸운 일을 아뢰었다. 조정의 승상 이하의 관원들은 이 사실을 알고 양나라의 관리들을 벌하려 하였고, 무제에게 글을 올렸다.\n",
      "\n",
      "무제가 관리들을 잡아들여 심문하니, 과연 사실임이 밝혀졌다. 공경들은 양평왕을 폐위하여 서인으로 만들 것을 주청하였으나, 무제는 허락하지 않고 양나라 땅의 성 여덟 개를 거두는 것으로 끝냈다. 또 임왕후의 목을 베어 저잣거리에 효수하고, 양나라의 성 열 개를 남긴 채로 양평왕에게 지위를 유지하게 하였다.\n",
      "============================================\n"
     ]
    }
   ],
   "source": [
    "for i in range(3):\n",
    "  print(res['hits']['hits'][i]['_source']['text'])\n",
    "  print('============================================')"
   ]
  },
  {
   "cell_type": "code",
   "execution_count": null,
   "metadata": {},
   "outputs": [],
   "source": []
  }
 ],
 "metadata": {
  "interpreter": {
   "hash": "d4d1e4263499bec80672ea0156c357c1ee493ec2b1c70f0acce89fc37c4a6abe"
  },
  "kernelspec": {
   "display_name": "Python 3.8.5 64-bit ('base': conda)",
   "name": "python3"
  },
  "language_info": {
   "codemirror_mode": {
    "name": "ipython",
    "version": 3
   },
   "file_extension": ".py",
   "mimetype": "text/x-python",
   "name": "python",
   "nbconvert_exporter": "python",
   "pygments_lexer": "ipython3",
   "version": "3.8.5"
  },
  "orig_nbformat": 4
 },
 "nbformat": 4,
 "nbformat_minor": 2
}
