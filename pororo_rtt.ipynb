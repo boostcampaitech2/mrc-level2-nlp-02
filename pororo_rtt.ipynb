{
 "cells": [
  {
   "cell_type": "code",
   "execution_count": 5,
   "id": "e933c7e1-43dc-43c0-a778-7612aca7761e",
   "metadata": {},
   "outputs": [
    {
     "name": "stderr",
     "output_type": "stream",
     "text": [
      "[Korean Sentence Splitter]: Initializing Kss...\n"
     ]
    }
   ],
   "source": [
    "from pororo import Pororo"
   ]
  },
  {
   "cell_type": "code",
   "execution_count": 2,
   "id": "ec440cc3-2fa1-4ff5-bf6d-b555a92d7cd5",
   "metadata": {},
   "outputs": [],
   "source": [
    "model = Pororo(task=\"mt\", lang=\"multi\", model=\"transformer.large.multi.mtpg\")"
   ]
  },
  {
   "cell_type": "code",
   "execution_count": 3,
   "id": "febf5747-db8f-486c-84a8-32122fa5ed4d",
   "metadata": {},
   "outputs": [],
   "source": [
    "def cycling_translation_en(sentence):\n",
    "    english = model(sentence, 'ko', 'en')\n",
    "    korean = model(english, 'en', 'ko')\n",
    "    return korean"
   ]
  },
  {
   "cell_type": "code",
   "execution_count": 1,
   "id": "75951c1e-8fad-485d-bf60-dcea7050c4a0",
   "metadata": {},
   "outputs": [
    {
     "data": {
      "text/plain": [
       "Dataset({\n",
       "    features: ['__index_level_0__', 'answers', 'context', 'document_id', 'id', 'question', 'title'],\n",
       "    num_rows: 3952\n",
       "})"
      ]
     },
     "execution_count": 1,
     "metadata": {},
     "output_type": "execute_result"
    }
   ],
   "source": [
    "from datasets import load_from_disk\n",
    "\n",
    "train = load_from_disk('/opt/ml/data/train_dataset/train')\n",
    "train"
   ]
  },
  {
   "cell_type": "code",
   "execution_count": 5,
   "id": "b2b3c815-6b25-4aa9-be5a-98a1a1e4698d",
   "metadata": {},
   "outputs": [],
   "source": [
    "import pandas as pd\n",
    "from tqdm.auto import tqdm\n",
    "new_train = pd.DataFrame(columns=['new_question'])\n",
    "new_train['new_question']=train['question']"
   ]
  },
  {
   "cell_type": "code",
   "execution_count": 13,
   "id": "f4958852-31cb-4fa6-a704-efc2ea2fa99b",
   "metadata": {},
   "outputs": [
    {
     "data": {
      "text/plain": [
       "'현대 인사 운영의 출발점이 어떤 책이 됐을까?'"
      ]
     },
     "execution_count": 13,
     "metadata": {},
     "output_type": "execute_result"
    }
   ],
   "source": [
    "new_train['new_question'][1]"
   ]
  },
  {
   "cell_type": "code",
   "execution_count": 14,
   "id": "8f3023eb-bcc7-4401-933b-9f5d1a827626",
   "metadata": {
    "tags": []
   },
   "outputs": [
    {
     "data": {
      "application/vnd.jupyter.widget-view+json": {
       "model_id": "f7e50947f8464ce5a8c02c31004a12a1",
       "version_major": 2,
       "version_minor": 0
      },
      "text/plain": [
       "HBox(children=(HTML(value=''), FloatProgress(value=0.0, max=3952.0), HTML(value='')))"
      ]
     },
     "metadata": {},
     "output_type": "display_data"
    },
    {
     "name": "stdout",
     "output_type": "stream",
     "text": [
      "\n"
     ]
    }
   ],
   "source": [
    "for idx,question in enumerate(tqdm(train['question'])):\n",
    "    new_train['new_question'][idx]=cycling_translation_en(question)\n"
   ]
  },
  {
   "cell_type": "code",
   "execution_count": 15,
   "id": "5bd25609-87a1-4d49-af67-4ec378404d03",
   "metadata": {},
   "outputs": [],
   "source": [
    "new_train.to_csv('/opt/ml/new_train_question.csv')"
   ]
  },
  {
   "cell_type": "code",
   "execution_count": 8,
   "id": "118522ed-92f0-48fe-acae-5f67473858e5",
   "metadata": {},
   "outputs": [
    {
     "name": "stdout",
     "output_type": "stream",
     "text": [
      "대통령을 포함한 미국의 행정부 견제권을 갖는 국가 기관은?\n",
      "현대적 인사조직관리의 시발점이 된 책은?\n",
      "강희제가 1717년에 쓴 글은 누구를 위해 쓰여졌는가?\n",
      "11~12세기에 제작된 본존불은 보통 어떤 나라의 특징이 전파되었나요?\n",
      "명문이 적힌 유물을 구성하는 그릇의 총 개수는?\n"
     ]
    }
   ],
   "source": [
    "c=0\n",
    "for question in train['question']:\n",
    "    if c==5:\n",
    "        break\n",
    "    print(question)\n",
    "    c+=1"
   ]
  },
  {
   "cell_type": "code",
   "execution_count": 13,
   "id": "288f29af-6118-46f8-bb72-a7547dffcced",
   "metadata": {},
   "outputs": [
    {
     "data": {
      "text/plain": [
       "'mrc-0-003589'"
      ]
     },
     "execution_count": 13,
     "metadata": {},
     "output_type": "execute_result"
    }
   ],
   "source": [
    "train[3951]['id']"
   ]
  },
  {
   "cell_type": "code",
   "execution_count": 7,
   "id": "02214afa-5454-4b64-a42c-de9a9739b195",
   "metadata": {},
   "outputs": [],
   "source": [
    "import pandas as pd\n",
    "tq = pd.read_csv(\"/opt/ml/new_train_question.csv\")\n",
    "tq['id']=0"
   ]
  },
  {
   "cell_type": "code",
   "execution_count": 10,
   "id": "8ba26399-e93b-4d5d-9bf0-538b98995e2a",
   "metadata": {},
   "outputs": [
    {
     "data": {
      "text/plain": [
       "0"
      ]
     },
     "execution_count": 10,
     "metadata": {},
     "output_type": "execute_result"
    }
   ],
   "source": [
    "tq['id'][3]"
   ]
  },
  {
   "cell_type": "code",
   "execution_count": 11,
   "id": "3919ceec-3b6c-4026-bd01-10d705d99155",
   "metadata": {},
   "outputs": [
    {
     "name": "stderr",
     "output_type": "stream",
     "text": [
      "/tmp/ipykernel_252/1759398614.py:2: SettingWithCopyWarning: \n",
      "A value is trying to be set on a copy of a slice from a DataFrame\n",
      "\n",
      "See the caveats in the documentation: https://pandas.pydata.org/pandas-docs/stable/user_guide/indexing.html#returning-a-view-versus-a-copy\n",
      "  tq['id'][i]=train[i]['id']\n",
      "/opt/conda/lib/python3.8/site-packages/pandas/core/indexing.py:670: SettingWithCopyWarning: \n",
      "A value is trying to be set on a copy of a slice from a DataFrame\n",
      "\n",
      "See the caveats in the documentation: https://pandas.pydata.org/pandas-docs/stable/user_guide/indexing.html#returning-a-view-versus-a-copy\n",
      "  iloc._setitem_with_indexer(indexer, value)\n"
     ]
    }
   ],
   "source": [
    "for i in range(3952):\n",
    "    tq['id'][i]=train[i]['id']"
   ]
  },
  {
   "cell_type": "code",
   "execution_count": 14,
   "id": "70203e30-b804-41d8-89d9-d1adaf8dc6c5",
   "metadata": {},
   "outputs": [],
   "source": [
    "tq.to_csv('/opt/ml/new_train_question.csv')"
   ]
  },
  {
   "cell_type": "code",
   "execution_count": null,
   "id": "4e7ea680-1285-4f4c-8541-a2d4660b1fba",
   "metadata": {},
   "outputs": [],
   "source": []
  },
  {
   "cell_type": "markdown",
   "id": "498d5a99-85e4-4aa1-8818-e14e610fb9f1",
   "metadata": {},
   "source": [
    "## rtt한 question이 기존 question의 고유명사를 잘 살리는가?"
   ]
  },
  {
   "cell_type": "code",
   "execution_count": 6,
   "id": "ba514687-1f1f-4630-82a4-02fea916e03b",
   "metadata": {},
   "outputs": [
    {
     "name": "stderr",
     "output_type": "stream",
     "text": [
      "\n",
      "\n"
     ]
    }
   ],
   "source": [
    "ner = Pororo(task=\"ner\", lang=\"ko\")"
   ]
  },
  {
   "cell_type": "code",
   "execution_count": 9,
   "id": "d69fac20-369b-4df5-8d9c-178e1c0ac4bd",
   "metadata": {},
   "outputs": [],
   "source": [
    "from konlpy.tag import Mecab\n",
    "from tqdm.auto import tqdm\n",
    "mecab = Mecab()"
   ]
  },
  {
   "cell_type": "code",
   "execution_count": 44,
   "id": "2fc8ca8d-1d94-47c8-b2e3-1d00408c0e64",
   "metadata": {},
   "outputs": [
    {
     "data": {
      "text/plain": [
       "Dataset({\n",
       "    features: ['__index_level_0__', 'answers', 'context', 'document_id', 'id', 'question', 'title'],\n",
       "    num_rows: 3952\n",
       "})"
      ]
     },
     "execution_count": 44,
     "metadata": {},
     "output_type": "execute_result"
    }
   ],
   "source": [
    "from datasets import load_from_disk\n",
    "\n",
    "train = load_from_disk('/opt/ml/data/train_dataset/train')\n",
    "train"
   ]
  },
  {
   "cell_type": "code",
   "execution_count": 45,
   "id": "2348c361-d8a6-4298-83fb-57ac67159c53",
   "metadata": {},
   "outputs": [
    {
     "data": {
      "text/plain": [
       "{'title': '미국 상원',\n",
       " 'context': '미국 상의원 또는 미국 상원(United States Senate)은 양원제인 미국 의회의 상원이다.\\\\n\\\\n미국 부통령이 상원의장이 된다. 각 주당 2명의 상원의원이 선출되어 100명의 상원의원으로 구성되어 있다. 임기는 6년이며, 2년마다 50개주 중 1/3씩 상원의원을 새로 선출하여 연방에 보낸다.\\\\n\\\\n미국 상원은 미국 하원과는 다르게 미국 대통령을 수반으로 하는 미국 연방 행정부에 각종 동의를 하는 기관이다. 하원이 세금과 경제에 대한 권한, 대통령을 포함한 대다수의 공무원을 파면할 권한을 갖고 있는 국민을 대표하는 기관인 반면 상원은 미국의 주를 대표한다. 즉 캘리포니아주, 일리노이주 같이 주 정부와 주 의회를 대표하는 기관이다. 그로 인하여 군대의 파병, 관료의 임명에 대한 동의, 외국 조약에 대한 승인 등 신속을 요하는 권한은 모두 상원에게만 있다. 그리고 하원에 대한 견제 역할(하원의 법안을 거부할 권한 등)을 담당한다. 2년의 임기로 인하여 급진적일 수밖에 없는 하원은 지나치게 급진적인 법안을 만들기 쉽다. 대표적인 예로 건강보험 개혁 당시 하원이 미국 연방 행정부에게 퍼블릭 옵션(공공건강보험기관)의 조항이 있는 반면 상원의 경우 하원안이 지나치게 세금이 많이 든다는 이유로 퍼블릭 옵션 조항을 제외하고 비영리건강보험기관이나 보험회사가 담당하도록 한 것이다. 이 경우처럼 상원은 하원이나 내각책임제가 빠지기 쉬운 국가들의 국회처럼 걸핏하면 발생하는 의회의 비정상적인 사태를 방지하는 기관이다. 상원은 급박한 처리사항의 경우가 아니면 법안을 먼저 내는 경우가 드물고 하원이 만든 법안을 수정하여 다시 하원에 되돌려보낸다. 이러한 방식으로 단원제가 빠지기 쉬운 함정을 미리 방지하는 것이다.날짜=2017-02-05',\n",
       " 'question': '대통령을 포함한 미국의 행정부 견제권을 갖는 국가 기관은?',\n",
       " 'id': 'mrc-1-000067',\n",
       " 'answers': {'answer_start': [235], 'text': ['하원']},\n",
       " 'document_id': 18293,\n",
       " '__index_level_0__': 42}"
      ]
     },
     "execution_count": 45,
     "metadata": {},
     "output_type": "execute_result"
    }
   ],
   "source": [
    "train[0] #title,context,question,id,answers,document_id,__index_level_0__"
   ]
  },
  {
   "cell_type": "code",
   "execution_count": 50,
   "id": "7a140860-d885-4fa6-be6f-52c6432422fd",
   "metadata": {},
   "outputs": [
    {
     "data": {
      "text/plain": [
       "['미국 상원', '인사조직관리', '강희제', '금동삼존불감']"
      ]
     },
     "execution_count": 50,
     "metadata": {},
     "output_type": "execute_result"
    }
   ],
   "source": [
    "train['title'][0:4]"
   ]
  },
  {
   "cell_type": "code",
   "execution_count": 49,
   "id": "73a45817-5c74-45c5-9060-928c97a401d3",
   "metadata": {},
   "outputs": [
    {
     "data": {
      "text/html": [
       "<div>\n",
       "<style scoped>\n",
       "    .dataframe tbody tr th:only-of-type {\n",
       "        vertical-align: middle;\n",
       "    }\n",
       "\n",
       "    .dataframe tbody tr th {\n",
       "        vertical-align: top;\n",
       "    }\n",
       "\n",
       "    .dataframe thead th {\n",
       "        text-align: right;\n",
       "    }\n",
       "</style>\n",
       "<table border=\"1\" class=\"dataframe\">\n",
       "  <thead>\n",
       "    <tr style=\"text-align: right;\">\n",
       "      <th></th>\n",
       "      <th>Unnamed: 0</th>\n",
       "      <th>Unnamed: 0.1</th>\n",
       "      <th>new_question</th>\n",
       "      <th>id</th>\n",
       "    </tr>\n",
       "  </thead>\n",
       "  <tbody>\n",
       "    <tr>\n",
       "      <th>0</th>\n",
       "      <td>0</td>\n",
       "      <td>0</td>\n",
       "      <td>어떤 국가기관이 대통령을 포함한 미국 행정부를 견제할 권리가 있는가?</td>\n",
       "      <td>mrc-1-000067</td>\n",
       "    </tr>\n",
       "    <tr>\n",
       "      <th>1</th>\n",
       "      <td>1</td>\n",
       "      <td>1</td>\n",
       "      <td>현대 인사 운영의 출발점이 어떤 책이 됐을까?</td>\n",
       "      <td>mrc-0-004397</td>\n",
       "    </tr>\n",
       "    <tr>\n",
       "      <th>2</th>\n",
       "      <td>2</td>\n",
       "      <td>2</td>\n",
       "      <td>강희제가 누구를 위해 1717년에 썼나요?</td>\n",
       "      <td>mrc-1-000362</td>\n",
       "    </tr>\n",
       "    <tr>\n",
       "      <th>3</th>\n",
       "      <td>3</td>\n",
       "      <td>3</td>\n",
       "      <td>보통 11세기와 12세기에 전국의 특성이 어떤 것이냐는 것이다.</td>\n",
       "      <td>mrc-0-001510</td>\n",
       "    </tr>\n",
       "    <tr>\n",
       "      <th>4</th>\n",
       "      <td>4</td>\n",
       "      <td>4</td>\n",
       "      <td>그 이름으로 작성된 유물의 전체 병은 몇 개입니까?</td>\n",
       "      <td>mrc-0-000823</td>\n",
       "    </tr>\n",
       "    <tr>\n",
       "      <th>...</th>\n",
       "      <td>...</td>\n",
       "      <td>...</td>\n",
       "      <td>...</td>\n",
       "      <td>...</td>\n",
       "    </tr>\n",
       "    <tr>\n",
       "      <th>3947</th>\n",
       "      <td>3947</td>\n",
       "      <td>3947</td>\n",
       "      <td>대부분의 IO산이 형성되는 데 영향을 미치는가?</td>\n",
       "      <td>mrc-0-005285</td>\n",
       "    </tr>\n",
       "    <tr>\n",
       "      <th>3948</th>\n",
       "      <td>3948</td>\n",
       "      <td>3948</td>\n",
       "      <td>애니는 어디서 왔지?</td>\n",
       "      <td>mrc-1-000699</td>\n",
       "    </tr>\n",
       "    <tr>\n",
       "      <th>3949</th>\n",
       "      <td>3949</td>\n",
       "      <td>3949</td>\n",
       "      <td>누가 니콜리에서 1980년에 이어 상임 지휘자로 일했을까?</td>\n",
       "      <td>mrc-0-003429</td>\n",
       "    </tr>\n",
       "    <tr>\n",
       "      <th>3950</th>\n",
       "      <td>3950</td>\n",
       "      <td>3950</td>\n",
       "      <td>그 용암의 신화는 무엇입니까?</td>\n",
       "      <td>mrc-0-003956</td>\n",
       "    </tr>\n",
       "    <tr>\n",
       "      <th>3951</th>\n",
       "      <td>3951</td>\n",
       "      <td>3951</td>\n",
       "      <td>올레폰 목소리를 듣고 누가 시장에 임명됐나요?</td>\n",
       "      <td>mrc-0-003589</td>\n",
       "    </tr>\n",
       "  </tbody>\n",
       "</table>\n",
       "<p>3952 rows × 4 columns</p>\n",
       "</div>"
      ],
      "text/plain": [
       "      Unnamed: 0  Unnamed: 0.1                            new_question  \\\n",
       "0              0             0  어떤 국가기관이 대통령을 포함한 미국 행정부를 견제할 권리가 있는가?   \n",
       "1              1             1               현대 인사 운영의 출발점이 어떤 책이 됐을까?   \n",
       "2              2             2                 강희제가 누구를 위해 1717년에 썼나요?   \n",
       "3              3             3     보통 11세기와 12세기에 전국의 특성이 어떤 것이냐는 것이다.   \n",
       "4              4             4            그 이름으로 작성된 유물의 전체 병은 몇 개입니까?   \n",
       "...          ...           ...                                     ...   \n",
       "3947        3947          3947              대부분의 IO산이 형성되는 데 영향을 미치는가?   \n",
       "3948        3948          3948                             애니는 어디서 왔지?   \n",
       "3949        3949          3949        누가 니콜리에서 1980년에 이어 상임 지휘자로 일했을까?   \n",
       "3950        3950          3950                        그 용암의 신화는 무엇입니까?   \n",
       "3951        3951          3951               올레폰 목소리를 듣고 누가 시장에 임명됐나요?   \n",
       "\n",
       "                id  \n",
       "0     mrc-1-000067  \n",
       "1     mrc-0-004397  \n",
       "2     mrc-1-000362  \n",
       "3     mrc-0-001510  \n",
       "4     mrc-0-000823  \n",
       "...            ...  \n",
       "3947  mrc-0-005285  \n",
       "3948  mrc-1-000699  \n",
       "3949  mrc-0-003429  \n",
       "3950  mrc-0-003956  \n",
       "3951  mrc-0-003589  \n",
       "\n",
       "[3952 rows x 4 columns]"
      ]
     },
     "execution_count": 49,
     "metadata": {},
     "output_type": "execute_result"
    }
   ],
   "source": [
    "import pandas as pd\n",
    "new_train_q = pd.read_csv(\"/opt/ml/new_train_question.csv\")\n",
    "new_train_q"
   ]
  },
  {
   "cell_type": "code",
   "execution_count": 52,
   "id": "eb01da47-2cb1-408a-a8f1-7937ee7339d5",
   "metadata": {},
   "outputs": [],
   "source": [
    "new_train = pd.DataFrame(columns=['title','context','question','id','answers','document_id','__index_level_0__'])\n",
    "new_train['question']=new_train_q['new_question']\n",
    "new_train['title']=train['title']\n",
    "new_train['context']=train['context']\n",
    "new_train['id']=train['id']\n",
    "new_train['answers']=train['answers']\n",
    "new_train['document_id']=train['document_id']\n",
    "new_train['__index_level_0__']=train['__index_level_0__']"
   ]
  },
  {
   "cell_type": "code",
   "execution_count": 53,
   "id": "75de814c-23f4-40c5-a4bc-ec2e5ee2f246",
   "metadata": {},
   "outputs": [
    {
     "data": {
      "text/html": [
       "<div>\n",
       "<style scoped>\n",
       "    .dataframe tbody tr th:only-of-type {\n",
       "        vertical-align: middle;\n",
       "    }\n",
       "\n",
       "    .dataframe tbody tr th {\n",
       "        vertical-align: top;\n",
       "    }\n",
       "\n",
       "    .dataframe thead th {\n",
       "        text-align: right;\n",
       "    }\n",
       "</style>\n",
       "<table border=\"1\" class=\"dataframe\">\n",
       "  <thead>\n",
       "    <tr style=\"text-align: right;\">\n",
       "      <th></th>\n",
       "      <th>title</th>\n",
       "      <th>context</th>\n",
       "      <th>question</th>\n",
       "      <th>id</th>\n",
       "      <th>answers</th>\n",
       "      <th>document_id</th>\n",
       "      <th>__index_level_0__</th>\n",
       "    </tr>\n",
       "  </thead>\n",
       "  <tbody>\n",
       "    <tr>\n",
       "      <th>0</th>\n",
       "      <td>미국 상원</td>\n",
       "      <td>미국 상의원 또는 미국 상원(United States Senate)은 양원제인 미국...</td>\n",
       "      <td>어떤 국가기관이 대통령을 포함한 미국 행정부를 견제할 권리가 있는가?</td>\n",
       "      <td>mrc-1-000067</td>\n",
       "      <td>{'answer_start': [235], 'text': ['하원']}</td>\n",
       "      <td>18293</td>\n",
       "      <td>42</td>\n",
       "    </tr>\n",
       "    <tr>\n",
       "      <th>1</th>\n",
       "      <td>인사조직관리</td>\n",
       "      <td>'근대적 경영학' 또는 '고전적 경영학'에서 현대적 경영학으로 전환되는 시기는 19...</td>\n",
       "      <td>현대 인사 운영의 출발점이 어떤 책이 됐을까?</td>\n",
       "      <td>mrc-0-004397</td>\n",
       "      <td>{'answer_start': [212], 'text': ['《경영의 실제》']}</td>\n",
       "      <td>51638</td>\n",
       "      <td>2873</td>\n",
       "    </tr>\n",
       "    <tr>\n",
       "      <th>2</th>\n",
       "      <td>강희제</td>\n",
       "      <td>강희제는 강화된 황권으로 거의 황제 중심의 독단적으로 나라를 이끌어 갔기에 자칫 전...</td>\n",
       "      <td>강희제가 누구를 위해 1717년에 썼나요?</td>\n",
       "      <td>mrc-1-000362</td>\n",
       "      <td>{'answer_start': [510], 'text': ['백성']}</td>\n",
       "      <td>5028</td>\n",
       "      <td>230</td>\n",
       "    </tr>\n",
       "    <tr>\n",
       "      <th>3</th>\n",
       "      <td>금동삼존불감</td>\n",
       "      <td>불상을 모시기 위해 나무나 돌, 쇠 등을 깎아 일반적인 건축물보다 작은 규모로 만든...</td>\n",
       "      <td>보통 11세기와 12세기에 전국의 특성이 어떤 것이냐는 것이다.</td>\n",
       "      <td>mrc-0-001510</td>\n",
       "      <td>{'answer_start': [625], 'text': ['중국']}</td>\n",
       "      <td>34146</td>\n",
       "      <td>992</td>\n",
       "    </tr>\n",
       "    <tr>\n",
       "      <th>4</th>\n",
       "      <td>계사명 사리구</td>\n",
       "      <td>동아대학교박물관에서 소장하고 있는 계사명 사리구는 총 4개의 용기로 구성된 조선후기...</td>\n",
       "      <td>그 이름으로 작성된 유물의 전체 병은 몇 개입니까?</td>\n",
       "      <td>mrc-0-000823</td>\n",
       "      <td>{'answer_start': [30], 'text': ['4개']}</td>\n",
       "      <td>47334</td>\n",
       "      <td>548</td>\n",
       "    </tr>\n",
       "    <tr>\n",
       "      <th>...</th>\n",
       "      <td>...</td>\n",
       "      <td>...</td>\n",
       "      <td>...</td>\n",
       "      <td>...</td>\n",
       "      <td>...</td>\n",
       "      <td>...</td>\n",
       "      <td>...</td>\n",
       "    </tr>\n",
       "    <tr>\n",
       "      <th>3947</th>\n",
       "      <td>이오 (위성)</td>\n",
       "      <td>이오의 산\\n이오의 산 목록\\n 이오에는 100~150개의 산이 있다. 이들 산의 ...</td>\n",
       "      <td>대부분의 IO산이 형성되는 데 영향을 미치는가?</td>\n",
       "      <td>mrc-0-005285</td>\n",
       "      <td>{'answer_start': [317], 'text': ['지질 구조']}</td>\n",
       "      <td>8275</td>\n",
       "      <td>3445</td>\n",
       "    </tr>\n",
       "    <tr>\n",
       "      <th>3948</th>\n",
       "      <td>내니 다이어리</td>\n",
       "      <td>애니의 고군분투 뉴욕 입성기!!\\n\\n인류학자가 꿈인 21살 소녀 '애니(스칼렛 요...</td>\n",
       "      <td>애니는 어디서 왔지?</td>\n",
       "      <td>mrc-1-000699</td>\n",
       "      <td>{'answer_start': [616], 'text': ['뉴저지']}</td>\n",
       "      <td>37764</td>\n",
       "      <td>450</td>\n",
       "    </tr>\n",
       "    <tr>\n",
       "      <th>3949</th>\n",
       "      <td>빈 필하모니 관현악단</td>\n",
       "      <td>1842년에 작곡가이자 지휘자인 오토 니콜라이가 빈 궁정 오페라극장 소속 관현악단을...</td>\n",
       "      <td>누가 니콜리에서 1980년에 이어 상임 지휘자로 일했을까?</td>\n",
       "      <td>mrc-0-003429</td>\n",
       "      <td>{'answer_start': [255], 'text': ['칼 에케르트']}</td>\n",
       "      <td>12730</td>\n",
       "      <td>2252</td>\n",
       "    </tr>\n",
       "    <tr>\n",
       "      <th>3950</th>\n",
       "      <td>드래곤</td>\n",
       "      <td>원어는 고대 그리스어까지 거슬러 올라간다. 영어 문헌에 이 말이 나타나기 시작한 것...</td>\n",
       "      <td>그 용암의 신화는 무엇입니까?</td>\n",
       "      <td>mrc-0-003956</td>\n",
       "      <td>{'answer_start': [476], 'text': ['슬라브 신화']}</td>\n",
       "      <td>10924</td>\n",
       "      <td>2595</td>\n",
       "    </tr>\n",
       "    <tr>\n",
       "      <th>3951</th>\n",
       "      <td>2011년 함부르크 주의회 선거</td>\n",
       "      <td>2008년 2월 28일 실시된 2008년 함부르크 주의회 선거에서 기민련은 과반수 ...</td>\n",
       "      <td>올레폰 목소리를 듣고 누가 시장에 임명됐나요?</td>\n",
       "      <td>mrc-0-003589</td>\n",
       "      <td>{'answer_start': [189], 'text': ['크리스토포 알하우스']}</td>\n",
       "      <td>27803</td>\n",
       "      <td>2354</td>\n",
       "    </tr>\n",
       "  </tbody>\n",
       "</table>\n",
       "<p>3952 rows × 7 columns</p>\n",
       "</div>"
      ],
      "text/plain": [
       "                  title                                            context  \\\n",
       "0                 미국 상원  미국 상의원 또는 미국 상원(United States Senate)은 양원제인 미국...   \n",
       "1                인사조직관리  '근대적 경영학' 또는 '고전적 경영학'에서 현대적 경영학으로 전환되는 시기는 19...   \n",
       "2                   강희제  강희제는 강화된 황권으로 거의 황제 중심의 독단적으로 나라를 이끌어 갔기에 자칫 전...   \n",
       "3                금동삼존불감  불상을 모시기 위해 나무나 돌, 쇠 등을 깎아 일반적인 건축물보다 작은 규모로 만든...   \n",
       "4               계사명 사리구  동아대학교박물관에서 소장하고 있는 계사명 사리구는 총 4개의 용기로 구성된 조선후기...   \n",
       "...                 ...                                                ...   \n",
       "3947            이오 (위성)  이오의 산\\n이오의 산 목록\\n 이오에는 100~150개의 산이 있다. 이들 산의 ...   \n",
       "3948            내니 다이어리  애니의 고군분투 뉴욕 입성기!!\\n\\n인류학자가 꿈인 21살 소녀 '애니(스칼렛 요...   \n",
       "3949        빈 필하모니 관현악단  1842년에 작곡가이자 지휘자인 오토 니콜라이가 빈 궁정 오페라극장 소속 관현악단을...   \n",
       "3950                드래곤  원어는 고대 그리스어까지 거슬러 올라간다. 영어 문헌에 이 말이 나타나기 시작한 것...   \n",
       "3951  2011년 함부르크 주의회 선거  2008년 2월 28일 실시된 2008년 함부르크 주의회 선거에서 기민련은 과반수 ...   \n",
       "\n",
       "                                    question            id  \\\n",
       "0     어떤 국가기관이 대통령을 포함한 미국 행정부를 견제할 권리가 있는가?  mrc-1-000067   \n",
       "1                  현대 인사 운영의 출발점이 어떤 책이 됐을까?  mrc-0-004397   \n",
       "2                    강희제가 누구를 위해 1717년에 썼나요?  mrc-1-000362   \n",
       "3        보통 11세기와 12세기에 전국의 특성이 어떤 것이냐는 것이다.  mrc-0-001510   \n",
       "4               그 이름으로 작성된 유물의 전체 병은 몇 개입니까?  mrc-0-000823   \n",
       "...                                      ...           ...   \n",
       "3947              대부분의 IO산이 형성되는 데 영향을 미치는가?  mrc-0-005285   \n",
       "3948                             애니는 어디서 왔지?  mrc-1-000699   \n",
       "3949        누가 니콜리에서 1980년에 이어 상임 지휘자로 일했을까?  mrc-0-003429   \n",
       "3950                        그 용암의 신화는 무엇입니까?  mrc-0-003956   \n",
       "3951               올레폰 목소리를 듣고 누가 시장에 임명됐나요?  mrc-0-003589   \n",
       "\n",
       "                                              answers  document_id  \\\n",
       "0             {'answer_start': [235], 'text': ['하원']}        18293   \n",
       "1       {'answer_start': [212], 'text': ['《경영의 실제》']}        51638   \n",
       "2             {'answer_start': [510], 'text': ['백성']}         5028   \n",
       "3             {'answer_start': [625], 'text': ['중국']}        34146   \n",
       "4              {'answer_start': [30], 'text': ['4개']}        47334   \n",
       "...                                               ...          ...   \n",
       "3947       {'answer_start': [317], 'text': ['지질 구조']}         8275   \n",
       "3948         {'answer_start': [616], 'text': ['뉴저지']}        37764   \n",
       "3949      {'answer_start': [255], 'text': ['칼 에케르트']}        12730   \n",
       "3950      {'answer_start': [476], 'text': ['슬라브 신화']}        10924   \n",
       "3951  {'answer_start': [189], 'text': ['크리스토포 알하우스']}        27803   \n",
       "\n",
       "      __index_level_0__  \n",
       "0                    42  \n",
       "1                  2873  \n",
       "2                   230  \n",
       "3                   992  \n",
       "4                   548  \n",
       "...                 ...  \n",
       "3947               3445  \n",
       "3948                450  \n",
       "3949               2252  \n",
       "3950               2595  \n",
       "3951               2354  \n",
       "\n",
       "[3952 rows x 7 columns]"
      ]
     },
     "execution_count": 53,
     "metadata": {},
     "output_type": "execute_result"
    }
   ],
   "source": [
    "new_train"
   ]
  },
  {
   "cell_type": "code",
   "execution_count": 10,
   "id": "8510e4ce-8df9-4ef8-90e0-d7b41961c769",
   "metadata": {},
   "outputs": [],
   "source": [
    "# 조사 및 명사 띄워주기 위해서 -> 고유명사 판별 원활히 하기 위해서!\n",
    "def tokenize(text):\n",
    "    return mecab.morphs(text)"
   ]
  },
  {
   "cell_type": "code",
   "execution_count": 13,
   "id": "717b7672-ddd4-4687-84b4-f53d1c89e02e",
   "metadata": {},
   "outputs": [],
   "source": [
    "org_questions=list(map(tokenize,train['question'])) #mecab 적용"
   ]
  },
  {
   "cell_type": "code",
   "execution_count": 27,
   "id": "4b1210c2-b0e7-48a4-8057-63001cc4ab87",
   "metadata": {},
   "outputs": [
    {
     "data": {
      "text/plain": [
       "['대통령',\n",
       " '을',\n",
       " '포함',\n",
       " '한',\n",
       " '미국',\n",
       " '의',\n",
       " '행정부',\n",
       " '견제',\n",
       " '권',\n",
       " '을',\n",
       " '갖',\n",
       " '는',\n",
       " '국가',\n",
       " '기관',\n",
       " '은',\n",
       " '?']"
      ]
     },
     "execution_count": 27,
     "metadata": {},
     "output_type": "execute_result"
    }
   ],
   "source": [
    "org_questions[0]"
   ]
  },
  {
   "cell_type": "code",
   "execution_count": 15,
   "id": "7995011b-73cf-44a4-a810-1bc6e9150596",
   "metadata": {},
   "outputs": [],
   "source": [
    "new_questions = list(map(tokenize,new_train['new_question'])) #mecab 적용"
   ]
  },
  {
   "cell_type": "code",
   "execution_count": 29,
   "id": "ef5d0529-3962-4739-bd38-b66cf15a05c7",
   "metadata": {},
   "outputs": [
    {
     "data": {
      "text/plain": [
       "['어떤',\n",
       " '국가',\n",
       " '기관',\n",
       " '이',\n",
       " '대통령',\n",
       " '을',\n",
       " '포함',\n",
       " '한',\n",
       " '미국',\n",
       " '행정부',\n",
       " '를',\n",
       " '견제',\n",
       " '할',\n",
       " '권리',\n",
       " '가',\n",
       " '있',\n",
       " '는가',\n",
       " '?']"
      ]
     },
     "execution_count": 29,
     "metadata": {},
     "output_type": "execute_result"
    }
   ],
   "source": [
    "new_questions[0]"
   ]
  },
  {
   "cell_type": "markdown",
   "id": "b8f1e441-ba57-4c68-b2a7-464d2da27332",
   "metadata": {},
   "source": [
    "**mecab으로 자른 거를 띄어쓰기를 중간에 넣고 한 문장으로 만들기**"
   ]
  },
  {
   "cell_type": "code",
   "execution_count": 25,
   "id": "52183798-97a0-4563-abbe-ad51115feb96",
   "metadata": {},
   "outputs": [],
   "source": [
    "org_question=[]\n",
    "for item in org_questions:\n",
    "    k=''\n",
    "    for i in item:\n",
    "        k+=i+\" \"\n",
    "    org_question.append(k.strip())"
   ]
  },
  {
   "cell_type": "code",
   "execution_count": 26,
   "id": "71f68b68-1c42-4e90-b2b1-33f8079143ab",
   "metadata": {},
   "outputs": [
    {
     "data": {
      "text/plain": [
       "'대통령 을 포함 한 미국 의 행정부 견제 권 을 갖 는 국가 기관 은 ?'"
      ]
     },
     "execution_count": 26,
     "metadata": {},
     "output_type": "execute_result"
    }
   ],
   "source": [
    "org_question[0]"
   ]
  },
  {
   "cell_type": "code",
   "execution_count": 28,
   "id": "778d5a89-0d60-4780-83e9-643da23a3c99",
   "metadata": {},
   "outputs": [],
   "source": [
    "new_question=[]\n",
    "for item in new_questions:\n",
    "    k=''\n",
    "    for i in item:\n",
    "        k+=i+\" \"\n",
    "    new_question.append(k.strip())"
   ]
  },
  {
   "cell_type": "code",
   "execution_count": 30,
   "id": "f687ad9e-4c29-4f16-a51d-f7941a7017ba",
   "metadata": {},
   "outputs": [
    {
     "data": {
      "text/plain": [
       "'어떤 국가 기관 이 대통령 을 포함 한 미국 행정부 를 견제 할 권리 가 있 는가 ?'"
      ]
     },
     "execution_count": 30,
     "metadata": {},
     "output_type": "execute_result"
    }
   ],
   "source": [
    "new_question[0]"
   ]
  },
  {
   "cell_type": "markdown",
   "id": "162a0ef8-2898-482b-8589-e4fa648fd683",
   "metadata": {},
   "source": [
    "**이제 pororo ner을 이용해서 기존 question 고유명사가 rtt question에도 잘 있는지 확인해본다.**"
   ]
  },
  {
   "cell_type": "code",
   "execution_count": 33,
   "id": "11b7fb54-6e3b-4e75-aba2-c18390bd4bda",
   "metadata": {},
   "outputs": [
    {
     "name": "stdout",
     "output_type": "stream",
     "text": [
      "[('대통령', 'CIVILIZATION'), (' ', 'O'), ('을', 'O'), (' ', 'O'), ('포함', 'O'), (' ', 'O'), ('한', 'O'), (' ', 'O'), ('미국', 'COUNTRY'), (' ', 'O'), ('의', 'O'), (' ', 'O'), ('행정부', 'ORGANIZATION'), (' ', 'O'), ('견제', 'O'), (' ', 'O'), ('권', 'O'), (' ', 'O'), ('을', 'O'), (' ', 'O'), ('갖', 'O'), (' ', 'O'), ('는', 'O'), (' ', 'O'), ('국가', 'O'), (' ', 'O'), ('기관', 'O'), (' ', 'O'), ('은', 'O'), (' ', 'O'), ('?', 'O')]\n"
     ]
    }
   ],
   "source": [
    "print(ner(org_question[0])) # 'O'판별한거 제외하고 나머지가 살아있는지 확인해보기!"
   ]
  },
  {
   "cell_type": "code",
   "execution_count": 34,
   "id": "9039001d-5877-4a0f-a1e1-7e5cc113ea64",
   "metadata": {},
   "outputs": [
    {
     "name": "stdout",
     "output_type": "stream",
     "text": [
      "[('어떤', 'O'), (' ', 'O'), ('국가', 'O'), (' ', 'O'), ('기관', 'O'), (' ', 'O'), ('이', 'O'), (' ', 'O'), ('대통령', 'CIVILIZATION'), (' ', 'O'), ('을', 'O'), (' ', 'O'), ('포함', 'O'), (' ', 'O'), ('한', 'O'), (' ', 'O'), ('미국', 'COUNTRY'), (' ', 'O'), ('행정부', 'ORGANIZATION'), (' ', 'O'), ('를', 'O'), (' ', 'O'), ('견제', 'O'), (' ', 'O'), ('할', 'O'), (' ', 'O'), ('권리', 'O'), (' ', 'O'), ('가', 'O'), (' ', 'O'), ('있', 'O'), (' ', 'O'), ('는가', 'O'), (' ', 'O'), ('?', 'O')]\n"
     ]
    }
   ],
   "source": [
    "print(ner(new_question[0])) "
   ]
  },
  {
   "cell_type": "markdown",
   "id": "0315273f-f7eb-4c8c-b035-59c0a4135eef",
   "metadata": {},
   "source": [
    "**과연 rtt한 question이 기존 question 고유명사를 잘 포함하고 있을까?**"
   ]
  },
  {
   "cell_type": "code",
   "execution_count": 40,
   "id": "bd143ae3-4b78-4e11-a1f9-bea245f0cc56",
   "metadata": {},
   "outputs": [],
   "source": [
    "matching=0\n",
    "for idx in range(tqdm(len(org_question))):\n",
    "    org = ner(org_question[idx])\n",
    "    new = ner(new_question[idx])\n",
    "    org_word=[]\n",
    "    new_word=[]\n",
    "    \n",
    "    for org_describe in org:\n",
    "        if org_describe[1]!=\"O\":\n",
    "            org_word.append(org_describe[0])\n",
    "    \n",
    "    for new_describe in new:\n",
    "        if new_describe[1]!=\"O\":\n",
    "            new_word.append(new_describe[0])\n",
    "            \n",
    "    ## 새로 만든 question에 기존 question의 고유 명사가 다 들어가 있어야한다!\n",
    "    \n",
    "    for orgword in org_word:\n",
    "        if orgword not in new_word:\n",
    "            continue\n",
    "    matching+=1"
   ]
  },
  {
   "cell_type": "code",
   "execution_count": 41,
   "id": "0d10cdab-43c6-46b3-8e23-3057a1738e27",
   "metadata": {},
   "outputs": [
    {
     "name": "stdout",
     "output_type": "stream",
     "text": [
      "기존 question의 고유명사가 들어있는 rtt question 갯수는:  3952\n"
     ]
    }
   ],
   "source": [
    "print(\"기존 question의 고유명사가 들어있는 rtt question 갯수는: \",matching)"
   ]
  },
  {
   "cell_type": "code",
   "execution_count": null,
   "id": "ca2da367-7e82-48da-9416-0835bf0229f2",
   "metadata": {},
   "outputs": [],
   "source": []
  }
 ],
 "metadata": {
  "kernelspec": {
   "display_name": "Python 3 (ipykernel)",
   "language": "python",
   "name": "python3"
  },
  "language_info": {
   "codemirror_mode": {
    "name": "ipython",
    "version": 3
   },
   "file_extension": ".py",
   "mimetype": "text/x-python",
   "name": "python",
   "nbconvert_exporter": "python",
   "pygments_lexer": "ipython3",
   "version": "3.8.12"
  }
 },
 "nbformat": 4,
 "nbformat_minor": 5
}
