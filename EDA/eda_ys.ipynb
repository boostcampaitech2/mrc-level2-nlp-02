{
 "cells": [
  {
   "cell_type": "markdown",
   "id": "2d6ee4a7-3e53-4f08-8c97-0fe4b208b0d2",
   "metadata": {},
   "source": [
    "# EDA for MRC train data"
   ]
  },
  {
   "cell_type": "markdown",
   "id": "2ef84cb4-8705-43b2-87ef-a368bf231e56",
   "metadata": {},
   "source": [
    "train은 data 전처리 후, 그대로 tokenizer 사용\n",
    "\n",
    "inference 시 같은 data 전처리 후, add speical token 후 tokneizer 사용\n",
    "\n",
    "wiki 데이터는 같은 context 전처리 후, mecab을 이용한 tokenize는? 어떨까?\n",
    "\n",
    "---"
   ]
  },
  {
   "cell_type": "markdown",
   "id": "f4233d7d-5e91-4357-8b34-e9971541217e",
   "metadata": {},
   "source": [
    "**context 개행문자(\\\\n, ; 등) -> answer 시작부분 기준으로 건드리기** -> 개행문자 제거 (wiki 데이터도 포함)\n",
    "\n",
    "**train과 wiki data에 title이 있는데 마지막 context 부분에 더하는 방법** -> train data의 title과 context 유사도 측정(50%는 제일 유사함)\n",
    "\n",
    "---"
   ]
  },
  {
   "cell_type": "markdown",
   "id": "b170b5d0-9109-457a-8cf3-cd92a5c6a124",
   "metadata": {},
   "source": [
    "**train data는 answers, context, document_id, id, question, title columns 존재** -> 3952개 존재"
   ]
  },
  {
   "cell_type": "code",
   "execution_count": 1,
   "id": "121f2ab4-f18a-4aa5-b4b6-969f1d1c2707",
   "metadata": {},
   "outputs": [
    {
     "data": {
      "text/plain": [
       "Dataset({\n",
       "    features: ['__index_level_0__', 'answers', 'context', 'document_id', 'id', 'question', 'title'],\n",
       "    num_rows: 3952\n",
       "})"
      ]
     },
     "execution_count": 1,
     "metadata": {},
     "output_type": "execute_result"
    }
   ],
   "source": [
    "from datasets import load_from_disk\n",
    "\n",
    "train = load_from_disk('/opt/ml/data/train_dataset/train')\n",
    "train"
   ]
  },
  {
   "cell_type": "markdown",
   "id": "5e46731a-8da6-4e5f-ab31-8899913de58a",
   "metadata": {},
   "source": [
    "title, context, question, answers를 자세히 조사해보자"
   ]
  },
  {
   "cell_type": "code",
   "execution_count": 2,
   "id": "c3b13ff2-aac8-4bfe-a768-dd51f1e68034",
   "metadata": {},
   "outputs": [
    {
     "data": {
      "text/plain": [
       "{'title': '미국 상원',\n",
       " 'context': '미국 상의원 또는 미국 상원(United States Senate)은 양원제인 미국 의회의 상원이다.\\\\n\\\\n미국 부통령이 상원의장이 된다. 각 주당 2명의 상원의원이 선출되어 100명의 상원의원으로 구성되어 있다. 임기는 6년이며, 2년마다 50개주 중 1/3씩 상원의원을 새로 선출하여 연방에 보낸다.\\\\n\\\\n미국 상원은 미국 하원과는 다르게 미국 대통령을 수반으로 하는 미국 연방 행정부에 각종 동의를 하는 기관이다. 하원이 세금과 경제에 대한 권한, 대통령을 포함한 대다수의 공무원을 파면할 권한을 갖고 있는 국민을 대표하는 기관인 반면 상원은 미국의 주를 대표한다. 즉 캘리포니아주, 일리노이주 같이 주 정부와 주 의회를 대표하는 기관이다. 그로 인하여 군대의 파병, 관료의 임명에 대한 동의, 외국 조약에 대한 승인 등 신속을 요하는 권한은 모두 상원에게만 있다. 그리고 하원에 대한 견제 역할(하원의 법안을 거부할 권한 등)을 담당한다. 2년의 임기로 인하여 급진적일 수밖에 없는 하원은 지나치게 급진적인 법안을 만들기 쉽다. 대표적인 예로 건강보험 개혁 당시 하원이 미국 연방 행정부에게 퍼블릭 옵션(공공건강보험기관)의 조항이 있는 반면 상원의 경우 하원안이 지나치게 세금이 많이 든다는 이유로 퍼블릭 옵션 조항을 제외하고 비영리건강보험기관이나 보험회사가 담당하도록 한 것이다. 이 경우처럼 상원은 하원이나 내각책임제가 빠지기 쉬운 국가들의 국회처럼 걸핏하면 발생하는 의회의 비정상적인 사태를 방지하는 기관이다. 상원은 급박한 처리사항의 경우가 아니면 법안을 먼저 내는 경우가 드물고 하원이 만든 법안을 수정하여 다시 하원에 되돌려보낸다. 이러한 방식으로 단원제가 빠지기 쉬운 함정을 미리 방지하는 것이다.날짜=2017-02-05',\n",
       " 'question': '대통령을 포함한 미국의 행정부 견제권을 갖는 국가 기관은?',\n",
       " 'id': 'mrc-1-000067',\n",
       " 'answers': {'answer_start': [235], 'text': ['하원']},\n",
       " 'document_id': 18293,\n",
       " '__index_level_0__': 42}"
      ]
     },
     "execution_count": 2,
     "metadata": {},
     "output_type": "execute_result"
    }
   ],
   "source": [
    "train[0]"
   ]
  },
  {
   "cell_type": "markdown",
   "id": "79073882-02e6-4aec-a337-b7852f750080",
   "metadata": {},
   "source": [
    "**wiki 데이터는 text, title 존재** -> 60613개 존재"
   ]
  },
  {
   "cell_type": "code",
   "execution_count": 2,
   "id": "5b5c607d-b2fc-4876-89ba-8cb6dc8b9085",
   "metadata": {},
   "outputs": [],
   "source": [
    "import os\n",
    "import json\n",
    "data_path=\"../data/\"\n",
    "context_path= \"wikipedia_documents.json\"\n",
    "with open(os.path.join(data_path, context_path), \"r\", encoding=\"utf-8\") as f:\n",
    "    wiki = json.load(f)"
   ]
  },
  {
   "cell_type": "markdown",
   "id": "b1441947-612c-4e50-b932-fcca53f4c71b",
   "metadata": {},
   "source": [
    "# 1. train데이터의 Title"
   ]
  },
  {
   "cell_type": "markdown",
   "id": "5a9f2203-42ce-4923-92c2-99898763d77d",
   "metadata": {},
   "source": [
    "### **title insight: 내가 알기론 train 시, title column을 안 쓰는거 같은데 context 마지막에 title 단어를 붙이면 어떨까? (wiki data도 포함)**"
   ]
  },
  {
   "cell_type": "markdown",
   "id": "1fe2ebf9-36c2-4f4d-96a1-609a7133b894",
   "metadata": {},
   "source": [
    "### context와 question이 한글인데, title은 영어인 경우도 존재!! -> 이런 경우는 어떻게 하면 좋을까? (ex) title만 번역 or 이 경우만 context 뒤에 title 안 붙이기)\n",
    "\n",
    "### title이 긴 경우도 존재하므로(최대 단어 24개 가지고 있음) mecab으로 자르고 context 마지막에 붙인다면?\n"
   ]
  },
  {
   "cell_type": "markdown",
   "id": "05728be6-0533-453c-a168-34330d3273fa",
   "metadata": {},
   "source": [
    "## 1-1. title 최대, 최소 길이"
   ]
  },
  {
   "cell_type": "markdown",
   "id": "606d4c58-5c2c-48a2-90f5-ef7e14e02dd7",
   "metadata": {},
   "source": [
    "### 제일 작은 title length 길이 1, 가장 긴 title length 길이 57"
   ]
  },
  {
   "cell_type": "code",
   "execution_count": 45,
   "id": "47a30c47-e43a-4247-8d20-ad8c5767b7b1",
   "metadata": {},
   "outputs": [
    {
     "name": "stdout",
     "output_type": "stream",
     "text": [
      "57\n",
      "1\n"
     ]
    }
   ],
   "source": [
    "title_len = [len(i) for i in train['title']]\n",
    "print(max(title_len))\n",
    "print(min(title_len))"
   ]
  },
  {
   "cell_type": "markdown",
   "id": "e0669686-2363-4000-bfa0-1275bace2b80",
   "metadata": {},
   "source": [
    "## 1-2. title 길이 분포도"
   ]
  },
  {
   "cell_type": "code",
   "execution_count": 46,
   "id": "33eacaf0-2803-41fb-a49f-30e867619982",
   "metadata": {},
   "outputs": [
    {
     "name": "stderr",
     "output_type": "stream",
     "text": [
      "/opt/conda/lib/python3.8/site-packages/seaborn/distributions.py:2619: FutureWarning: `distplot` is a deprecated function and will be removed in a future version. Please adapt your code to use either `displot` (a figure-level function with similar flexibility) or `histplot` (an axes-level function for histograms).\n",
      "  warnings.warn(msg, FutureWarning)\n"
     ]
    },
    {
     "data": {
      "image/png": "[encoded data removed]",
      "text/plain": [
       "<Figure size 432x288 with 1 Axes>"
      ]
     },
     "metadata": {
      "needs_background": "light"
     },
     "output_type": "display_data"
    },
    {
     "name": "stdout",
     "output_type": "stream",
     "text": [
      " 가장 긴 제목은 57 개의 단어를, 평균 제목 길이는 7.511386639676114 개의 단어를, 가장 짧은 제목은 1 개의 단어를 가지고 있습니다.\n"
     ]
    }
   ],
   "source": [
    "import seaborn as sns\n",
    "import pandas as pd\n",
    "import matplotlib.pyplot as plt\n",
    "import numpy as np\n",
    "tt = pd.DataFrame(columns=['title'])\n",
    "\n",
    "tt['title_len'] = [len(i) for i in train['title']]\n",
    "\n",
    "def plot_doc_lengths(dataframe):\n",
    "    max_seq_len = np.round(dataframe.title_len.mean() + dataframe.title_len.std()).astype(int)\n",
    "    sns.distplot(tuple(dataframe.title_len), hist=True, kde=True, label='Title lengths')\n",
    "    plt.axvline(x=max_seq_len, color='k', linestyle='--', label=f'Title length mean:{max_seq_len}')\n",
    "    plt.title('Train Title lengths')\n",
    "    plt.legend()\n",
    "    plt.show()\n",
    "    print(f\" 가장 긴 제목은 {tt['title_len'].max()} 개의 단어를, 평균 제목 길이는 {tt['title_len'].mean()} 개의 단어를, 가장 짧은 제목은 {tt['title_len'].min()} 개의 단어를 가지고 있습니다.\")\n",
    "plot_doc_lengths(tt)"
   ]
  },
  {
   "cell_type": "markdown",
   "id": "2f9c66d0-3c7b-4446-ab53-4b1c891f8a72",
   "metadata": {},
   "source": [
    "## 1-3. title의 단어 갯수 분포도"
   ]
  },
  {
   "cell_type": "code",
   "execution_count": 5,
   "id": "fbbeec28-b219-4798-bae4-60b98a10bd0c",
   "metadata": {},
   "outputs": [],
   "source": [
    "from konlpy.tag import Mecab\n",
    "\n",
    "mecab = Mecab()\n",
    "def tokenize(text):\n",
    "    return mecab.morphs(text)"
   ]
  },
  {
   "cell_type": "code",
   "execution_count": 6,
   "id": "56324249-1693-495d-be35-d3b89f690c9c",
   "metadata": {},
   "outputs": [
    {
     "name": "stderr",
     "output_type": "stream",
     "text": [
      "/opt/conda/lib/python3.8/site-packages/seaborn/distributions.py:2619: FutureWarning: `distplot` is a deprecated function and will be removed in a future version. Please adapt your code to use either `displot` (a figure-level function with similar flexibility) or `histplot` (an axes-level function for histograms).\n",
      "  warnings.warn(msg, FutureWarning)\n"
     ]
    },
    {
     "data": {
      "image/png": "[encoded data removed]",
      "text/plain": [
       "<Figure size 432x288 with 1 Axes>"
      ]
     },
     "metadata": {
      "needs_background": "light"
     },
     "output_type": "display_data"
    },
    {
     "name": "stdout",
     "output_type": "stream",
     "text": [
      " 가장 많은 단어 분포 제목은 24 개의 단어를, 평균 단어 분포 제목은 3.0080971659919027 개의 단어를, 가장 적은 단어 제목은 1 개의 단어를 가지고 있습니다.\n"
     ]
    }
   ],
   "source": [
    "import seaborn as sns\n",
    "import pandas as pd\n",
    "import matplotlib.pyplot as plt\n",
    "import numpy as np\n",
    "tt = pd.DataFrame(columns=['title'])\n",
    "count_words_f = lambda x: len(tokenize(x))\n",
    "\n",
    "tt['title_len'] = list(map(count_words_f, train['title']))\n",
    "\n",
    "def plot_doc_lengths(dataframe):\n",
    "    max_seq_len = np.round(dataframe.title_len.mean() + dataframe.title_len.std()).astype(int)\n",
    "    sns.distplot(tuple(dataframe.title_len), hist=True, kde=True, label='Title lengths')\n",
    "    plt.axvline(x=max_seq_len, color='k', linestyle='--', label=f'Title length mean:{max_seq_len}')\n",
    "    plt.title('Train Title lengths')\n",
    "    plt.legend()\n",
    "    plt.show()\n",
    "    print(f\" 가장 많은 단어 분포 제목은 {tt['title_len'].max()} 개의 단어를, 평균 단어 분포 제목은 {tt['title_len'].mean()} 개의 단어를, 가장 적은 단어 제목은 {tt['title_len'].min()} 개의 단어를 가지고 있습니다.\")\n",
    "plot_doc_lengths(tt)"
   ]
  },
  {
   "cell_type": "markdown",
   "id": "d183154b-2803-443a-9a57-ffcaeda22dcc",
   "metadata": {},
   "source": [
    "## 1-4. title길이가 1인 경우는 머일까?"
   ]
  },
  {
   "cell_type": "markdown",
   "id": "2c9b1245-fa23-4813-91b4-a39e8e6919c1",
   "metadata": {},
   "source": [
    "### title 길이가 1인 경우: '힐', '톳' -> '힐'은 context나 question에서 사람이름으로 나온다, '톳'은 먹는 톳이로 context 존재"
   ]
  },
  {
   "cell_type": "code",
   "execution_count": 47,
   "id": "9d675a04-ae01-46ed-9f21-7cd2e9e18f4b",
   "metadata": {},
   "outputs": [],
   "source": [
    "short_title=[]\n",
    "short_title_index=[]\n",
    "for i,z in enumerate(train['title']):\n",
    "    if len(z)==1:\n",
    "        short_title_index.append(i)\n",
    "        short_title.append(z)"
   ]
  },
  {
   "cell_type": "code",
   "execution_count": 48,
   "id": "ad3ac650-6d86-4947-90ec-3fc5092d1803",
   "metadata": {},
   "outputs": [
    {
     "data": {
      "text/plain": [
       "{'title': '톳',\n",
       " 'context': '한국, 일본, 중국 등지에서 식용으로 이용되고 있다. 특히 일본에서 아주 선호했으며, 수세기 전부터 먹어왔다. 일본 음식점과 웰빙의 영향으로, 영국과 북아메리카 등지에서도 수입해서 먹고 있다.\\\\n\\\\n\\\\n식이섬유 (톳)이란\\\\n\\\\n조간대 하부에서 큰 군락을 이룬다. 식물체는 섬유상의 뿌리를 가지고 직립하며 줄기는 원주상이고 1회 우상으로 가지가 갈라지며 보통 10∼60cm 이상 자란다. \\\\n\\\\n가지 중 작은 것은 곤봉 모양을 하며 얼핏 보아 잎과 같이 느껴진다. \\\\n\\\\n\\\\n청정해 완도및 서남해(남해안일대)에서 자연산과 양식으로 생산되는 갈조식물이다.\\\\n\\\\n톳에는 칼슘,철,인,요소등의 미네날과 식이섬유가 풍부하다.\\\\n\\\\n고기등 육류와 함께먹으면 고기에 부족한 식이섬유를 보충해주기 때문에 영양에도 좋고 맛도 좋을 뿐 아니라 신선한 톳이 육류의 느끼함을 확! 없애준다. \\\\n\\\\n식량이 많이 부족했던 보릿고개엔 구황용으로 곡식을 조금 섞어서 톳밥을 지어 먹기도 했었다.\\\\n\\\\n하지만 톳은 일본 사람들이 아주 좋아해서 한때는 전량 일본으로 수출되었다.\\\\n\\\\n톳이 성장기 어린이들에게 특별히 좋은 이유는 철분, 칼슘, 요오드 등 무기질이 풍부하기 때문이다.\\\\n\\\\n철분은 체내의 영양흡수율이 겨우 10%밖에 되지 않을 정도로 낮아서 항상 부족하기 쉬운 영양소이므로 톳을 이용해 톳유부영양밥이나 톳멸치볶음 같은 음식을 만들면 훌륭한 건강식이 된다.',\n",
       " 'question': '식량이 부족한 시기를 어떻게 표현하는가?',\n",
       " 'id': 'mrc-0-001563',\n",
       " 'answers': {'answer_start': [447], 'text': ['보릿고개']},\n",
       " 'document_id': 21365,\n",
       " '__index_level_0__': 1026}"
      ]
     },
     "execution_count": 48,
     "metadata": {},
     "output_type": "execute_result"
    }
   ],
   "source": [
    "train[short_title_index[1]]"
   ]
  },
  {
   "cell_type": "markdown",
   "id": "af693c56-a65c-40bb-bfaa-d0440e35ce8a",
   "metadata": {},
   "source": [
    "## 1-5. title길이가 20 이상의 경우는 머일까?"
   ]
  },
  {
   "cell_type": "markdown",
   "id": "4d5bd8a6-168d-4cf7-984e-57435e57e7a8",
   "metadata": {},
   "source": [
    "title 길이 분포도를 보면, 길이가 20 넘어가는 경우는 적지만 max는 57로 찍힌다. 과연, title 길이 20이상의 경우는 어떤 경우일까?\n",
    "\n",
    "---"
   ]
  },
  {
   "cell_type": "markdown",
   "id": "bcdd02ed-1728-436b-a45f-e1f0bae937c3",
   "metadata": {},
   "source": [
    "### context와 question이 한글인데, title은 영어인 경우도 존재!! -> 이런 경우는 어떻게 하면 좋을까? (ex) title만 번역 or 이 경우만 context 뒤에 title 안 붙이기)\n",
    "\n",
    "ex) train index 107번 -> title(Someone Saved My Life Tonight) -> 번역 시 context 안 겹침\n",
    "\n",
    "ex) train index 205번 -> title(The Impossible Planet) -> 번역 시, Planet(행성)의 경우 context와 많이 겹침!\n",
    "\n",
    "---"
   ]
  },
  {
   "cell_type": "markdown",
   "id": "adeac1bb-3788-4d0c-ac54-f74b71e0c072",
   "metadata": {},
   "source": [
    "### title이 긴 경우는 Mecab으로 잘라서 쓴다면, 어떨까? -> 사용시 괄호 경우 제거도 괜찮?\n",
    "\n",
    "mecab으로 자르면, title index 138번 경우 -> 다스부르고테셴을 [다스, 부르고, 테셴]으로 자르는데 '테셴'이라는 단어가 context에 겹쳐준다."
   ]
  },
  {
   "cell_type": "code",
   "execution_count": 49,
   "id": "2b77a0fc-5297-44e5-a337-5098566bf56c",
   "metadata": {},
   "outputs": [],
   "source": [
    "long_title=[]\n",
    "long_title_index=[]\n",
    "for i,z in enumerate(train['title']):\n",
    "    if len(z)>=20:\n",
    "        long_title_index.append(i)\n",
    "        long_title.append(z)"
   ]
  },
  {
   "cell_type": "code",
   "execution_count": 50,
   "id": "c3b18918-b046-4080-9246-8185ed8c548e",
   "metadata": {},
   "outputs": [
    {
     "data": {
      "text/plain": [
       "{'title': '게오르크 프리드리히 폰 브란덴부르크안스바흐 변경백',\n",
       " 'context': '1561년 4월 23일부터는 폴란드의 크르노프 내에 자신의 이름을 딴 도시 게오르크부르크를 건설했다. 근처의 야산에서 광산을 채굴케 하여 지역의 자체 소득원을 만드는 한편, 소금 무역 시장과 양조장, 정원이 있는 주점 등을 건설하여 도시의 소득원을 자체적으로 확보할 수 있게 했다. 게오르크 프리드리히의 궁정은 르네상스 시대 신성 로마 제국의 가장 인상적인 궁정의 하나였다. 하지만 1552년과 1554년의 마르그라베 전투 기간 중 모두 파괴되었다. 그밖에 게오르크 프리드리히는 뷀츠부르크와 바이로이트에 궁정을 소유하고 있었다.\\\\n\\\\n1577년 우울증이 심화되면서 정신질환을 겪게 된 사촌동생 알브레히트 프리드리히 폰 호엔촐레른의 가까운 친척 자격으로 프로이센 공국의 섭정을 맡았다. 그의 섭정직에 대해 폴란드 왕국 내에서의 일부 반발은 있었지만 그는 1578년 폴란드의 국왕 스테판 바토리에 의해 섭정직을 공인받았다. 1578년 게오르크 프리드리히는 바르샤바로 가서 폴란드의 국왕에 대한 충성을 맹약하였다. 그는 폴란드 왕 스테판 바토리의 협력을 얻어 프로이센 공국 내에서의 영주의 권한을 강화하고, 관료 채용은 폴란드어와 독일어를 모두 구사할 줄 아는 자를 채용하되 직접 선발하는 등의 개혁을 실시했다. 또한 프랑켄 지역의 관료들을 프로이센 공국으로 보내, 행정 실무, 금융 정책, 조세 정책, 행정 관리 등의 제도를 프랑켄 지역을 모델로 하여 프로이센 정치에 적용하였다.\\\\n\\\\n1577년 그는 루터교회의 콩고드 협약에 정식 서명하고, 1580년 이를 성문화하여 법전인 콩고드의 책을 편찬하였다. 1580년 9월 18일에는 신성 로마 제국 황제이자 보헤미아의 왕을 겸한 루돌프 2세로부터 관세와 통행세를 면제받을 권한을 부여받았다. 1603년 게오르크 프리드리히는 안스바흐에서 사망하여, 호엔촐레른 가문의 묘소가 있는 안스바흐 하일스브룬 수도원에 묻혔다.',\n",
       " 'question': '게오르크 프리드리히가 충성을 맹세한 국왕의 이름은 무엇인가?',\n",
       " 'id': 'mrc-0-001752',\n",
       " 'answers': {'answer_start': [435], 'text': ['스테판 바토리']},\n",
       " 'document_id': 40349,\n",
       " '__index_level_0__': 1147}"
      ]
     },
     "execution_count": 50,
     "metadata": {},
     "output_type": "execute_result"
    }
   ],
   "source": [
    "train[long_title_index[8]]"
   ]
  },
  {
   "cell_type": "code",
   "execution_count": 194,
   "id": "28cbe90a-bbe0-44ce-a560-4ac54f5aca77",
   "metadata": {},
   "outputs": [
    {
     "data": {
      "text/plain": [
       "205"
      ]
     },
     "execution_count": 194,
     "metadata": {},
     "output_type": "execute_result"
    }
   ],
   "source": [
    "long_title_index[5]"
   ]
  },
  {
   "cell_type": "code",
   "execution_count": 2,
   "id": "e43ee708-a008-419e-be83-ad406e7c6049",
   "metadata": {},
   "outputs": [],
   "source": [
    "from konlpy.tag import Mecab\n",
    "mecab = Mecab()\n",
    "def tokenize(text):\n",
    "    return mecab.morphs(text)"
   ]
  },
  {
   "cell_type": "code",
   "execution_count": 52,
   "id": "862f88d7-1738-4f0e-9edb-87ca7c9810aa",
   "metadata": {},
   "outputs": [
    {
     "data": {
      "text/plain": [
       "['게오르크', '프리드리히', '폰', '브란덴부르크', '안', '스', '바흐', '변경백']"
      ]
     },
     "execution_count": 52,
     "metadata": {},
     "output_type": "execute_result"
    }
   ],
   "source": [
    "tokenize(train[long_title_index[8]]['title'])"
   ]
  },
  {
   "cell_type": "markdown",
   "id": "bdae435b-c687-4825-bc4d-6f44b30bb3aa",
   "metadata": {},
   "source": [
    "## 1-6. title과 context 의 유사도를 알아보자!"
   ]
  },
  {
   "cell_type": "markdown",
   "id": "e07e9a59-fef3-4c88-85fe-9c027b8ae414",
   "metadata": {},
   "source": [
    "### 목적: 각 index의 title과 context 마다 유사도가 제일 높다면, context 뒤에 title을 붙여도 되지 않을까?\n",
    "\n",
    "### 각 index의 context에 최대 유사도가 index에 맞는 title은 50%이다. -> 그냥 모든 title을 context 뒤에 붙여도 되고 최대 유사도 50% title만 붙여도 좋을 듯 하다!\n",
    "\n",
    "### 겹치는 title이 약 1200개 정도 겹치고 겹치는 contexts는 612개이다. (mecab만 적용)\n",
    "\n",
    "### 50%만 유사한 이유는 같은 제목이 존재! -> 그러므로, 모든 title을 context에 붙여도 될듯?"
   ]
  },
  {
   "cell_type": "code",
   "execution_count": 14,
   "id": "7c38aba2-a3b0-4ba2-8779-d1aea3dde0aa",
   "metadata": {},
   "outputs": [],
   "source": [
    "from transformers import AutoTokenizer\n",
    "from sklearn.feature_extraction.text import TfidfVectorizer\n",
    "\n",
    "model_checkpoint = \"klue/roberta-large\"\n",
    "tokenizer = AutoTokenizer.from_pretrained(model_checkpoint)"
   ]
  },
  {
   "cell_type": "markdown",
   "id": "134f64c3-348f-483f-a7d8-b2d84d1655e3",
   "metadata": {},
   "source": [
    "context 유사도 적용"
   ]
  },
  {
   "cell_type": "code",
   "execution_count": 48,
   "id": "725d303f-bca1-4447-b477-b621e8488b24",
   "metadata": {},
   "outputs": [],
   "source": [
    "pre_contexts=list(map(tokenize,train['context'])) #mecab 적용"
   ]
  },
  {
   "cell_type": "code",
   "execution_count": 49,
   "id": "1efe4a00-cad0-4867-9fcc-77b000cf42d3",
   "metadata": {
    "tags": []
   },
   "outputs": [],
   "source": [
    "contexts=[]\n",
    "for item in pre_contexts:\n",
    "    k=''\n",
    "    for i in item:\n",
    "        k+=i+\" \"\n",
    "    contexts.append(k.strip())"
   ]
  },
  {
   "cell_type": "code",
   "execution_count": 67,
   "id": "2d7c80cc-cfb8-4c0f-af79-8a1d6e0b842e",
   "metadata": {},
   "outputs": [
    {
     "name": "stdout",
     "output_type": "stream",
     "text": [
      "중복 제거한 contexts 개수:  3340\n",
      "중복 제거 안 한 context 개수:  3952\n"
     ]
    }
   ],
   "source": [
    "print(\"중복 제거한 contexts 개수: \",len(set(contexts)))\n",
    "print(\"중복 제거 안 한 context 개수: \",len(contexts))"
   ]
  },
  {
   "cell_type": "code",
   "execution_count": 350,
   "id": "50b6d37d-3e3e-4275-b263-253aff68aeb9",
   "metadata": {},
   "outputs": [],
   "source": [
    "tokenizer_func = lambda x: tokenizer.tokenize(x) #roberta-large tokenize"
   ]
  },
  {
   "cell_type": "code",
   "execution_count": 351,
   "id": "40ca0bdc-750e-4ad3-a01b-9c008f419800",
   "metadata": {},
   "outputs": [],
   "source": [
    "vectorizer = TfidfVectorizer(\n",
    "    tokenizer=tokenizer_func,\n",
    "    ngram_range=(1,2)\n",
    ")"
   ]
  },
  {
   "cell_type": "code",
   "execution_count": 352,
   "id": "7f7332cf-70fd-4b86-ba96-23fd13629418",
   "metadata": {},
   "outputs": [],
   "source": [
    "vectorizer.fit(contexts)\n",
    "sp_matrix = vectorizer.transform(contexts)"
   ]
  },
  {
   "cell_type": "markdown",
   "id": "74fe5f4e-b704-4bb0-9756-0b44bfab0a1d",
   "metadata": {},
   "source": [
    "title 임베딩하기"
   ]
  },
  {
   "cell_type": "code",
   "execution_count": 53,
   "id": "7825818a-e8c9-48e9-ad4c-f62ad85dee6a",
   "metadata": {},
   "outputs": [],
   "source": [
    "pre_titles = list(map(tokenize,train['title'])) #mecab 적용"
   ]
  },
  {
   "cell_type": "code",
   "execution_count": 54,
   "id": "14bf68fe-0e97-428a-8fb7-02f0a62b46f8",
   "metadata": {},
   "outputs": [],
   "source": [
    "titles=[]\n",
    "for item in pre_titles:\n",
    "    k=''\n",
    "    for i in item:\n",
    "        k+=i+\" \"\n",
    "    titles.append(k.strip())"
   ]
  },
  {
   "cell_type": "code",
   "execution_count": 55,
   "id": "8ab83420-0ca1-4f0c-813b-ab1f995dc05e",
   "metadata": {},
   "outputs": [
    {
     "name": "stdout",
     "output_type": "stream",
     "text": [
      "중복 제거한 title 개수:  2716\n",
      "중복 제거 안 한 title 개수:  3952\n"
     ]
    }
   ],
   "source": [
    "print(\"중복 제거한 title 개수: \",len(set(titles)))\n",
    "print(\"중복 제거 안 한 title 개수: \",len(titles))"
   ]
  },
  {
   "cell_type": "code",
   "execution_count": 355,
   "id": "4701b938-e0b7-4802-9425-3e9e50fe396e",
   "metadata": {},
   "outputs": [],
   "source": [
    "titles_vec = vectorizer.transform(titles)"
   ]
  },
  {
   "cell_type": "code",
   "execution_count": 356,
   "id": "97688901-5c5b-4585-9148-8c16e74653d0",
   "metadata": {},
   "outputs": [
    {
     "data": {
      "text/plain": [
       "(3952, 3952)"
      ]
     },
     "execution_count": 356,
     "metadata": {},
     "output_type": "execute_result"
    }
   ],
   "source": [
    "result = titles_vec * sp_matrix.T\n",
    "result.shape # title - contexts -> 가정은 각 title index i와 contexts index i와 가장 유사해야된다!"
   ]
  },
  {
   "cell_type": "code",
   "execution_count": 364,
   "id": "976d41bd-cb73-49ce-a1a3-85d28f889771",
   "metadata": {},
   "outputs": [],
   "source": [
    "result = result.toarray()"
   ]
  },
  {
   "cell_type": "code",
   "execution_count": 377,
   "id": "3c15255e-33cb-4acf-ba16-7b9bdaf08b78",
   "metadata": {},
   "outputs": [],
   "source": [
    "index_matching=0\n",
    "index_not_matching=0\n",
    "for inx,_ in enumerate(result):\n",
    "    maxindex = np.argsort(-result[inx])\n",
    "    if inx==maxindex[0]:\n",
    "        index_matching+=1\n",
    "    else:\n",
    "        index_not_matching+=1"
   ]
  },
  {
   "cell_type": "code",
   "execution_count": 378,
   "id": "114c74db-5c36-445b-8ddc-c7791fb5d342",
   "metadata": {},
   "outputs": [
    {
     "name": "stdout",
     "output_type": "stream",
     "text": [
      "각 index에 대한 context와 가장 유사도가 높은 title이 같은 index인 갯수:  1970\n",
      "각 index에 대한 context와 가장 유사도가 높은 title이 같은 index가 아닌 갯수:  1982\n"
     ]
    }
   ],
   "source": [
    "print(\"각 index에 대한 context와 가장 유사도가 높은 title이 같은 index인 갯수: \",index_matching)\n",
    "print(\"각 index에 대한 context와 가장 유사도가 높은 title이 같은 index가 아닌 갯수: \",index_not_matching)"
   ]
  },
  {
   "cell_type": "markdown",
   "id": "1891492f-5ac0-4282-a078-49196cf583b9",
   "metadata": {
    "tags": []
   },
   "source": [
    "## 1-7. title과 question의 유사도를 알아보자!"
   ]
  },
  {
   "cell_type": "markdown",
   "id": "b4e3aa9e-507e-42b0-a025-56832ff5d8f7",
   "metadata": {},
   "source": [
    "question 유사도 적용"
   ]
  },
  {
   "cell_type": "code",
   "execution_count": 15,
   "id": "cd867a81-c107-470b-8971-8619c4f97fd8",
   "metadata": {},
   "outputs": [],
   "source": [
    "tokenizer = AutoTokenizer.from_pretrained(model_checkpoint)"
   ]
  },
  {
   "cell_type": "code",
   "execution_count": 16,
   "id": "eee4f986-9431-497a-9e87-befbb9b97fa8",
   "metadata": {},
   "outputs": [],
   "source": [
    "tokenizer_func = lambda x: tokenizer.tokenize(x) #roberta-large tokenize"
   ]
  },
  {
   "cell_type": "code",
   "execution_count": 17,
   "id": "ba136eb5-b587-40fa-9aa3-5652ece38be5",
   "metadata": {},
   "outputs": [],
   "source": [
    "pre_questions=list(map(tokenize,train['question'])) #mecab 적용"
   ]
  },
  {
   "cell_type": "code",
   "execution_count": 18,
   "id": "36fb9287-e84a-4b50-aeca-903a9cb1c52a",
   "metadata": {},
   "outputs": [],
   "source": [
    "questions=[]\n",
    "for item in pre_questions:\n",
    "    k=''\n",
    "    for i in item:\n",
    "        k+=i+\" \"\n",
    "    questions.append(k.strip())"
   ]
  },
  {
   "cell_type": "code",
   "execution_count": 19,
   "id": "e6f45f2f-6923-442e-a925-ede9492bfd1d",
   "metadata": {},
   "outputs": [
    {
     "name": "stderr",
     "output_type": "stream",
     "text": [
      "/opt/conda/lib/python3.8/site-packages/sklearn/feature_extraction/text.py:489: UserWarning: The parameter 'token_pattern' will not be used since 'tokenizer' is not None'\n",
      "  warnings.warn(\"The parameter 'token_pattern' will not be used\"\n"
     ]
    },
    {
     "data": {
      "text/plain": [
       "TfidfVectorizer(ngram_range=(1, 2),\n",
       "                tokenizer=<function <lambda> at 0x7f1d0c3db9d0>)"
      ]
     },
     "execution_count": 19,
     "metadata": {},
     "output_type": "execute_result"
    }
   ],
   "source": [
    "vectorizer = TfidfVectorizer(\n",
    "    tokenizer=tokenizer_func,\n",
    "    ngram_range=(1,2)\n",
    ")\n",
    "vectorizer.fit(questions)"
   ]
  },
  {
   "cell_type": "code",
   "execution_count": 20,
   "id": "c4ac6836-f301-4d03-9213-33991eec38d2",
   "metadata": {},
   "outputs": [],
   "source": [
    "sp_matrix = vectorizer.transform(questions)"
   ]
  },
  {
   "cell_type": "markdown",
   "id": "1ddb9182-f12f-4e3f-a90e-23a230a4df8a",
   "metadata": {},
   "source": [
    "title 임베딩하기"
   ]
  },
  {
   "cell_type": "code",
   "execution_count": 21,
   "id": "5bd64076-2abe-4465-b1d7-7cfc34e5bdd8",
   "metadata": {},
   "outputs": [],
   "source": [
    "pre_titles = list(map(tokenize,train['title'])) #mecab 적용"
   ]
  },
  {
   "cell_type": "code",
   "execution_count": 22,
   "id": "a6f91e45-e814-4256-babd-1ab260a91018",
   "metadata": {},
   "outputs": [],
   "source": [
    "titles=[]\n",
    "for item in pre_titles:\n",
    "    k=''\n",
    "    for i in item:\n",
    "        k+=i+\" \"\n",
    "    titles.append(k.strip())"
   ]
  },
  {
   "cell_type": "code",
   "execution_count": 23,
   "id": "bd161d2f-7ddb-40a4-8f30-ce2a41be840c",
   "metadata": {},
   "outputs": [],
   "source": [
    "titles_vec = vectorizer.transform(titles)"
   ]
  },
  {
   "cell_type": "code",
   "execution_count": 24,
   "id": "a5ac7952-c0d6-4bd9-ab8f-3860b8662a17",
   "metadata": {},
   "outputs": [
    {
     "data": {
      "text/plain": [
       "(3952, 3952)"
      ]
     },
     "execution_count": 24,
     "metadata": {},
     "output_type": "execute_result"
    }
   ],
   "source": [
    "result = titles_vec * sp_matrix.T\n",
    "result.shape # title - contexts -> 가정은 각 title index i와 contexts index i와 가장 유사해야된다!"
   ]
  },
  {
   "cell_type": "code",
   "execution_count": 25,
   "id": "9ce9536b-e167-439b-b7eb-340126fd4850",
   "metadata": {},
   "outputs": [],
   "source": [
    "result = result.toarray()"
   ]
  },
  {
   "cell_type": "code",
   "execution_count": 28,
   "id": "482db211-e261-4cc0-b016-e0f8a84fb10d",
   "metadata": {},
   "outputs": [],
   "source": [
    "index_matching=0\n",
    "index_not_matching=0\n",
    "for inx,_ in enumerate(result):\n",
    "    maxindex=np.argsort(-result[inx])\n",
    "    if inx==maxindex[0]:\n",
    "        index_matching+=1\n",
    "    else:\n",
    "        index_not_matching+=1"
   ]
  },
  {
   "cell_type": "code",
   "execution_count": 29,
   "id": "d179390e-9686-4ead-8619-8351c2731f8e",
   "metadata": {},
   "outputs": [
    {
     "name": "stdout",
     "output_type": "stream",
     "text": [
      "각 index에 대한 question과 가장 유사도가 높은 title이 같은 index인 갯수:  1172\n",
      "각 index에 대한 question과 가장 유사도가 높은 title이 같은 index가 아닌 갯수:  2780\n"
     ]
    }
   ],
   "source": [
    "print(\"각 index에 대한 question과 가장 유사도가 높은 title이 같은 index인 갯수: \",index_matching)\n",
    "print(\"각 index에 대한 question과 가장 유사도가 높은 title이 같은 index가 아닌 갯수: \",index_not_matching)"
   ]
  },
  {
   "cell_type": "markdown",
   "id": "8935cf3e-11cd-4929-9525-a4bdc34393d2",
   "metadata": {},
   "source": [
    "## 1-8. 한영을 제외한 특수문자 및 문자 - context"
   ]
  },
  {
   "cell_type": "markdown",
   "id": "79981c06-88d7-4606-8648-271299c30388",
   "metadata": {},
   "source": [
    "mecab 적용"
   ]
  },
  {
   "cell_type": "code",
   "execution_count": 38,
   "id": "72434feb-7c87-4ab3-856d-4fab884c5e5d",
   "metadata": {},
   "outputs": [],
   "source": [
    "pre_contexts=list(map(tokenize,train['context'])) #mecab 적용\n",
    "contexts=[]\n",
    "for item in pre_contexts:\n",
    "    k=''\n",
    "    for i in item:\n",
    "        k+=i+\" \"\n",
    "    contexts.append(k.strip())"
   ]
  },
  {
   "cell_type": "code",
   "execution_count": 39,
   "id": "f2a6a316-d5ff-43a3-ac5c-c4e224ba7cbf",
   "metadata": {},
   "outputs": [],
   "source": [
    "import re\n",
    "special_character=[]\n",
    "text=contexts\n",
    "for l in text:\n",
    "    tmp = []\n",
    "    l=re.compile('[|가-힣A-Z0-9]+').sub('',l)\n",
    "    for c in l:\n",
    "        if 'n'==c and len(tmp)!=0:\n",
    "            tmp[len(tmp)-1]=tmp[len(tmp)-1]+'n'\n",
    "        else:\n",
    "            nn = re.compile('[|a-z]+').sub('',c)\n",
    "            if nn !=\" \" and nn!=\"\":\n",
    "                tmp.append(nn)\n",
    "    special_character.append(set(tmp))"
   ]
  },
  {
   "cell_type": "code",
   "execution_count": 47,
   "id": "94a1da50-23d6-4601-9814-3afec6e0aa16",
   "metadata": {},
   "outputs": [
    {
     "data": {
      "text/plain": [
       "{'(', ')', ',', '.', '\\\\n', '∼', '佛', '光', '冠', '背', '龕'}"
      ]
     },
     "execution_count": 47,
     "metadata": {},
     "output_type": "execute_result"
    }
   ],
   "source": [
    "special_character[3]"
   ]
  },
  {
   "cell_type": "markdown",
   "id": "7e86232c-58e3-4e1a-97ca-e6dbc1a07052",
   "metadata": {},
   "source": [
    "# 2. wiki 데이터의 title"
   ]
  },
  {
   "cell_type": "markdown",
   "id": "f9d5fb2a-4666-41aa-bd88-c638f33979da",
   "metadata": {},
   "source": [
    "## 2-1. wiki title 최대, 최소 길이\n",
    "\n",
    "### 제일 작은 title length 길이 1, 가장 긴 title length 길이 96\n",
    "\n",
    "### train wiki data에 비해 wiki title data의 길이나 단어 갯수는 약 2배 정도 차이난다. 하지만 분포도는 매우 유사하다. (둘 다 제목 길이 20이상부터 매우 적음)"
   ]
  },
  {
   "cell_type": "code",
   "execution_count": 35,
   "id": "ccc053f9-a6bd-45c0-91cf-e857f4c40d77",
   "metadata": {},
   "outputs": [],
   "source": [
    "title_len = []\n",
    "for idx, i in enumerate(wiki):\n",
    "    title_len.append(len(wiki[str(idx)]['title']))"
   ]
  },
  {
   "cell_type": "code",
   "execution_count": 37,
   "id": "bd70ec06-e9fd-4e4a-af96-c29f503365d7",
   "metadata": {},
   "outputs": [
    {
     "name": "stdout",
     "output_type": "stream",
     "text": [
      "96\n",
      "1\n"
     ]
    }
   ],
   "source": [
    "print(max(title_len))\n",
    "print(min(title_len))"
   ]
  },
  {
   "cell_type": "markdown",
   "id": "57741b27-8287-46b4-ab18-5bca48997a3a",
   "metadata": {},
   "source": [
    "## 2-2. title 길이 분포도"
   ]
  },
  {
   "cell_type": "code",
   "execution_count": 39,
   "id": "eb3f73b7-997d-4c0b-b790-9c8166f9377c",
   "metadata": {},
   "outputs": [
    {
     "name": "stderr",
     "output_type": "stream",
     "text": [
      "/opt/conda/lib/python3.8/site-packages/seaborn/distributions.py:2619: FutureWarning: `distplot` is a deprecated function and will be removed in a future version. Please adapt your code to use either `displot` (a figure-level function with similar flexibility) or `histplot` (an axes-level function for histograms).\n",
      "  warnings.warn(msg, FutureWarning)\n"
     ]
    },
    {
     "data": {
      "image/png": "[encoded data removed]",
      "text/plain": [
       "<Figure size 432x288 with 1 Axes>"
      ]
     },
     "metadata": {
      "needs_background": "light"
     },
     "output_type": "display_data"
    },
    {
     "name": "stdout",
     "output_type": "stream",
     "text": [
      " 가장 긴 제목은 96 개의 길이를, 평균 제목 길이는 7.801676208074175 개의 길이를, 가장 짧은 제목은 1 개의 길이를 가지고 있습니다.\n"
     ]
    }
   ],
   "source": [
    "import seaborn as sns\n",
    "import pandas as pd\n",
    "import matplotlib.pyplot as plt\n",
    "import numpy as np\n",
    "tt = pd.DataFrame(columns=['title'])\n",
    "\n",
    "tt['title_len'] = title_len\n",
    "\n",
    "def plot_doc_lengths(dataframe):\n",
    "    max_seq_len = np.round(dataframe.title_len.mean() + dataframe.title_len.std()).astype(int)\n",
    "    sns.distplot(tuple(dataframe.title_len), hist=True, kde=True, label='Title lengths')\n",
    "    plt.axvline(x=max_seq_len, color='k', linestyle='--', label=f'Title length mean:{max_seq_len}')\n",
    "    plt.title('Train Title lengths')\n",
    "    plt.legend()\n",
    "    plt.show()\n",
    "    print(f\" 가장 긴 제목은 {tt['title_len'].max()} 개의 길이를, 평균 제목 길이는 {tt['title_len'].mean()} 개의 길이를, 가장 짧은 제목은 {tt['title_len'].min()} 개의 길이를 가지고 있습니다.\")\n",
    "plot_doc_lengths(tt)"
   ]
  },
  {
   "cell_type": "markdown",
   "id": "5d039083-cf03-4201-8bad-94bd20285f36",
   "metadata": {},
   "source": [
    "## 2-3. title의 단어 갯수 분포도"
   ]
  },
  {
   "cell_type": "code",
   "execution_count": 40,
   "id": "7cb0f05b-4825-4dff-9913-b76f771abbd8",
   "metadata": {},
   "outputs": [],
   "source": [
    "from konlpy.tag import Mecab\n",
    "\n",
    "mecab = Mecab()\n",
    "def tokenize(text):\n",
    "    return mecab.morphs(text)"
   ]
  },
  {
   "cell_type": "code",
   "execution_count": 41,
   "id": "64c0f272-1075-4411-b1f0-169c2fe04b0c",
   "metadata": {},
   "outputs": [],
   "source": [
    "title_word_len = []\n",
    "for idx, i in enumerate(wiki):\n",
    "    title_word_len.append(len(tokenize(wiki[str(idx)]['title'])))"
   ]
  },
  {
   "cell_type": "code",
   "execution_count": 42,
   "id": "86b17a21-22a5-4287-b26c-8733ef1b9148",
   "metadata": {},
   "outputs": [
    {
     "name": "stderr",
     "output_type": "stream",
     "text": [
      "/opt/conda/lib/python3.8/site-packages/seaborn/distributions.py:2619: FutureWarning: `distplot` is a deprecated function and will be removed in a future version. Please adapt your code to use either `displot` (a figure-level function with similar flexibility) or `histplot` (an axes-level function for histograms).\n",
      "  warnings.warn(msg, FutureWarning)\n"
     ]
    },
    {
     "data": {
      "image/png": "[encoded data removed]",
      "text/plain": [
       "<Figure size 432x288 with 1 Axes>"
      ]
     },
     "metadata": {
      "needs_background": "light"
     },
     "output_type": "display_data"
    },
    {
     "name": "stdout",
     "output_type": "stream",
     "text": [
      " 가장 많은 단어 분포 제목은 45 개의 단어를, 평균 단어 분포 제목은 3.0928348704073385 개의 단어를, 가장 적은 단어 제목은 1 개의 단어를 가지고 있습니다.\n"
     ]
    }
   ],
   "source": [
    "import seaborn as sns\n",
    "import pandas as pd\n",
    "import matplotlib.pyplot as plt\n",
    "import numpy as np\n",
    "tt = pd.DataFrame(columns=['title'])\n",
    "\n",
    "tt['title_len'] = title_word_len\n",
    "\n",
    "def plot_doc_lengths(dataframe):\n",
    "    max_seq_len = np.round(dataframe.title_len.mean() + dataframe.title_len.std()).astype(int)\n",
    "    sns.distplot(tuple(dataframe.title_len), hist=True, kde=True, label='Title lengths')\n",
    "    plt.axvline(x=max_seq_len, color='k', linestyle='--', label=f'Title length mean:{max_seq_len}')\n",
    "    plt.title('Train Title lengths')\n",
    "    plt.legend()\n",
    "    plt.show()\n",
    "    print(f\" 가장 많은 단어 분포 제목은 {tt['title_len'].max()} 개의 단어를, 평균 단어 분포 제목은 {tt['title_len'].mean()} 개의 단어를, 가장 적은 단어 제목은 {tt['title_len'].min()} 개의 단어를 가지고 있습니다.\")\n",
    "plot_doc_lengths(tt)"
   ]
  },
  {
   "cell_type": "markdown",
   "id": "2ddc1fa9-174d-4d07-9ecc-694fcd8a2567",
   "metadata": {},
   "source": [
    "## 2-4. title 길이가 20이상은 경우는 뭘까?"
   ]
  },
  {
   "cell_type": "markdown",
   "id": "a473c110-3679-4ba2-a1fc-2f4f77709d1a",
   "metadata": {},
   "source": [
    "### train data와 같이, context와 question이 한글인데, title은 영어인 경우도 존재!! -> 이런 경우는 어떻게 하면 좋을까? (ex) title만 번역 or 이 경우만 context 뒤에 title 안 붙이기)"
   ]
  },
  {
   "cell_type": "code",
   "execution_count": 3,
   "id": "ded99ce6-fb6e-49b0-aec0-268817cce120",
   "metadata": {},
   "outputs": [],
   "source": [
    "long_title=[]\n",
    "long_title_index=[]\n",
    "for idx,z in enumerate(wiki):\n",
    "    if len(wiki[str(idx)]['title'])>=20:\n",
    "        long_title_index.append(str(idx))"
   ]
  },
  {
   "cell_type": "code",
   "execution_count": 10,
   "id": "7454552b-0f8e-41ea-8ce3-5eaafc0a8ff3",
   "metadata": {},
   "outputs": [
    {
     "data": {
      "text/plain": [
       "{'text': '7101호부터 7120호까지의 차량은 1975년 12월 미국수출입은행(EXIM) 차관으로 도입하였으며, 7121호부터 7140호까지의 차량은 같은 차관을 통하여 1978년 8월 들여왔다.  이 가운데 일부 차량(7111 ~ 7120)은 한국철도공사 7500호대 디젤 기관차에서 개조·편입되었다.\\n\\n이후의 차량은 현대차량에서 국산화 제작하여 납품하게 되었다. 1980년 12월에 4량, 이듬해 12월 5량, 1982년 12월에 9량이 도입되었다.  계속하여 1983년과 이듬해 12월에 각 10량이, 1985년 1월, 12월에 12량이 운행을 개시하였다.  특히 7179~7190호의 12량은 운용과 검수의 문제를 보완하기 위하여 전기 회로의 결선(結線) 구조를 보완하여 도입되었다',\n",
       " 'corpus_source': '위키피디아',\n",
       " 'url': None,\n",
       " 'domain': None,\n",
       " 'title': '한국철도공사 7100호대 디젤 기관차',\n",
       " 'author': None,\n",
       " 'html': None,\n",
       " 'document_id': 10257}"
      ]
     },
     "execution_count": 10,
     "metadata": {},
     "output_type": "execute_result"
    }
   ],
   "source": [
    "wiki[long_title_index[70]]"
   ]
  },
  {
   "cell_type": "markdown",
   "id": "24ca6303-55cb-4a3c-b5fa-64261bf65716",
   "metadata": {},
   "source": [
    "## 2-5. title과 context 의 유사도를 알아보자!"
   ]
  },
  {
   "cell_type": "markdown",
   "id": "1a07e0a9-250a-4101-be4e-befd96fac16e",
   "metadata": {},
   "source": [
    "### 각 index에 대한 context과 가장 유사도가 높은 title이 같은 index인 갯수는 60613개 중에, 18599개이다.\n",
    "\n",
    "### 하지만!, 중복 제거한 title 개수가 31753개로 약 30000개가 겹치므로 이러한 현상이 일어나는 것을 발견함!\n",
    "\n",
    "### 그래서, 전체 각 title을 context 뒤에 붙여도 되고, 높은 18599개만 context 뒤에 붙여도 될듯하다"
   ]
  },
  {
   "cell_type": "markdown",
   "id": "1c150a52-458f-4787-903c-ae4a82c3bb89",
   "metadata": {},
   "source": [
    "contexts 임베딩"
   ]
  },
  {
   "cell_type": "code",
   "execution_count": 11,
   "id": "3ba5103f-f738-48e7-85b3-b1a19e4e6fe4",
   "metadata": {},
   "outputs": [],
   "source": [
    "from transformers import AutoTokenizer\n",
    "from sklearn.feature_extraction.text import TfidfVectorizer\n",
    "\n",
    "model_checkpoint = \"klue/roberta-large\"\n",
    "tokenizer = AutoTokenizer.from_pretrained(model_checkpoint)"
   ]
  },
  {
   "cell_type": "code",
   "execution_count": 12,
   "id": "ecfcc05a-423f-4630-b1e1-754d933c51fa",
   "metadata": {},
   "outputs": [],
   "source": [
    "from konlpy.tag import Mecab\n",
    "mecab = Mecab()\n",
    "def tokenize(text):\n",
    "    return mecab.morphs(text)"
   ]
  },
  {
   "cell_type": "code",
   "execution_count": 15,
   "id": "38de7a0b-f85a-458a-9e63-5444bd219ed9",
   "metadata": {},
   "outputs": [],
   "source": [
    "pre_contexts=[]\n",
    "for idx,z in enumerate(wiki):\n",
    "    pre_contexts.append(tokenize(wiki[str(idx)]['text']))"
   ]
  },
  {
   "cell_type": "code",
   "execution_count": 17,
   "id": "4b936f8f-cb24-4fc5-8eca-8e8f4cd99dcc",
   "metadata": {},
   "outputs": [],
   "source": [
    "contexts=[]\n",
    "for item in pre_contexts:\n",
    "    k=''\n",
    "    for i in item:\n",
    "        k+=i+\" \"\n",
    "    contexts.append(k.strip())"
   ]
  },
  {
   "cell_type": "code",
   "execution_count": 19,
   "id": "05739d3f-e95d-4263-8444-6363a73e0c6a",
   "metadata": {},
   "outputs": [],
   "source": [
    "tokenizer_func = lambda x: tokenizer.tokenize(x) #roberta-large tokenize"
   ]
  },
  {
   "cell_type": "code",
   "execution_count": 20,
   "id": "1eff55ab-6363-4dd1-be2a-7b2fc7b5224f",
   "metadata": {},
   "outputs": [],
   "source": [
    "vectorizer = TfidfVectorizer(\n",
    "    tokenizer=tokenizer_func,\n",
    "    ngram_range=(1,2)\n",
    ")"
   ]
  },
  {
   "cell_type": "code",
   "execution_count": 21,
   "id": "1c404c42-11ab-4eb2-9c99-785e65b2814b",
   "metadata": {},
   "outputs": [
    {
     "name": "stderr",
     "output_type": "stream",
     "text": [
      "/opt/conda/lib/python3.8/site-packages/sklearn/feature_extraction/text.py:489: UserWarning: The parameter 'token_pattern' will not be used since 'tokenizer' is not None'\n",
      "  warnings.warn(\"The parameter 'token_pattern' will not be used\"\n",
      "Token indices sequence length is longer than the specified maximum sequence length for this model (1148 > 512). Running this sequence through the model will result in indexing errors\n"
     ]
    }
   ],
   "source": [
    "vectorizer.fit(contexts)\n",
    "sp_matrix = vectorizer.transform(contexts)"
   ]
  },
  {
   "cell_type": "markdown",
   "id": "2fc0284a-a577-4574-baae-78600744db27",
   "metadata": {},
   "source": [
    "title 임베딩"
   ]
  },
  {
   "cell_type": "code",
   "execution_count": 22,
   "id": "15d37510-a65c-485f-8b83-abe2d48b96ee",
   "metadata": {
    "tags": []
   },
   "outputs": [],
   "source": [
    "pre_titles=[]\n",
    "for idx,z in enumerate(wiki):\n",
    "    pre_titles.append(tokenize(wiki[str(idx)]['title']))"
   ]
  },
  {
   "cell_type": "code",
   "execution_count": 23,
   "id": "82bc5ab7-3165-4424-8416-edfb68d8fa45",
   "metadata": {},
   "outputs": [],
   "source": [
    "titles=[]\n",
    "for item in pre_titles:\n",
    "    k=''\n",
    "    for i in item:\n",
    "        k+=i+\" \"\n",
    "    titles.append(k.strip())"
   ]
  },
  {
   "cell_type": "code",
   "execution_count": 35,
   "id": "cf26fcd7-db66-4b49-863b-17ac168aab8a",
   "metadata": {},
   "outputs": [
    {
     "name": "stdout",
     "output_type": "stream",
     "text": [
      "중복 제거한 title 개수:  31753\n",
      "중복 제거 안 한 title 개수:  60613\n"
     ]
    }
   ],
   "source": [
    "print(\"중복 제거한 title 개수: \",len(set(titles)))\n",
    "print(\"중복 제거 안 한 title 개수: \",len(titles))"
   ]
  },
  {
   "cell_type": "code",
   "execution_count": 24,
   "id": "e9aca6aa-15aa-4a87-8420-19f946c33542",
   "metadata": {},
   "outputs": [],
   "source": [
    "titles_vec = vectorizer.transform(titles)"
   ]
  },
  {
   "cell_type": "code",
   "execution_count": 25,
   "id": "f56b8882-ded4-4e6a-8111-446c4773ecf9",
   "metadata": {},
   "outputs": [
    {
     "data": {
      "text/plain": [
       "(60613, 60613)"
      ]
     },
     "execution_count": 25,
     "metadata": {},
     "output_type": "execute_result"
    }
   ],
   "source": [
    "result = titles_vec * sp_matrix.T\n",
    "result.shape # title - contexts -> 가정은 각 title index i와 contexts index i와 가장 유사해야된다!"
   ]
  },
  {
   "cell_type": "code",
   "execution_count": 26,
   "id": "38a73455-e514-4955-8279-1181fc0f8eaa",
   "metadata": {},
   "outputs": [],
   "source": [
    "result = result.toarray()"
   ]
  },
  {
   "cell_type": "code",
   "execution_count": 28,
   "id": "9bd7bd9c-592d-405f-9b1d-0f2b277dc3a5",
   "metadata": {},
   "outputs": [],
   "source": [
    "import numpy as np\n",
    "index_matching=0\n",
    "index_not_matching=0\n",
    "for inx,_ in enumerate(result):\n",
    "    maxindex = np.argsort(-result[inx])\n",
    "    if inx==maxindex[0]:\n",
    "        index_matching+=1\n",
    "    else:\n",
    "        index_not_matching+=1"
   ]
  },
  {
   "cell_type": "code",
   "execution_count": 36,
   "id": "da27d4ca-84db-4b89-b9cf-a9c210ab18ee",
   "metadata": {},
   "outputs": [
    {
     "name": "stdout",
     "output_type": "stream",
     "text": [
      "각 index에 대한 context와 가장 유사도가 높은 title이 같은 index인 갯수:  18599\n",
      "각 index에 대한 context와 가장 유사도가 높은 title이 같은 index가 아닌 갯수:  42014\n"
     ]
    }
   ],
   "source": [
    "print(\"각 index에 대한 context와 가장 유사도가 높은 title이 같은 index인 갯수: \",index_matching)\n",
    "print(\"각 index에 대한 context와 가장 유사도가 높은 title이 같은 index가 아닌 갯수: \",index_not_matching)"
   ]
  },
  {
   "cell_type": "markdown",
   "id": "2e2ede8f-12fe-4f84-b731-bbe54738a03e",
   "metadata": {},
   "source": [
    "# 3. train data의 context"
   ]
  },
  {
   "cell_type": "markdown",
   "id": "6833212a-091c-4941-b76c-ca013d928a9a",
   "metadata": {},
   "source": [
    "## 3-1. context 최대, 최소 길이\n",
    "\n",
    "### 제일 작은 context length 길이 512, 가장 긴 context length 길이 2059"
   ]
  },
  {
   "cell_type": "code",
   "execution_count": 39,
   "id": "6bf2b1a7-518d-4615-9f79-783b20d18710",
   "metadata": {},
   "outputs": [
    {
     "name": "stdout",
     "output_type": "stream",
     "text": [
      "2059\n",
      "512\n"
     ]
    }
   ],
   "source": [
    "# context 단어 분포 길이, context 길이 확인\n",
    "context_len = [len(i) for i in train['context']]\n",
    "print(max(context_len))\n",
    "print(min(context_len))"
   ]
  },
  {
   "cell_type": "markdown",
   "id": "2291e5dc-9391-4c21-91af-eaa2067a7bde",
   "metadata": {},
   "source": [
    "## 3-2. context 길이 분포도"
   ]
  },
  {
   "cell_type": "code",
   "execution_count": 41,
   "id": "21e9dd90-99a9-4cd7-a97b-9f99ae3a10a1",
   "metadata": {},
   "outputs": [
    {
     "name": "stderr",
     "output_type": "stream",
     "text": [
      "/opt/conda/lib/python3.8/site-packages/seaborn/distributions.py:2619: FutureWarning: `distplot` is a deprecated function and will be removed in a future version. Please adapt your code to use either `displot` (a figure-level function with similar flexibility) or `histplot` (an axes-level function for histograms).\n",
      "  warnings.warn(msg, FutureWarning)\n"
     ]
    },
    {
     "data": {
      "image/png": "[encoded data removed]",
      "text/plain": [
       "<Figure size 432x288 with 1 Axes>"
      ]
     },
     "metadata": {
      "needs_background": "light"
     },
     "output_type": "display_data"
    },
    {
     "name": "stdout",
     "output_type": "stream",
     "text": [
      " 가장 긴 text는 2059 개의 길이를, 평균 context 길이는 920.2206477732793 개의 길이를, 가장 짧은 context는 512 개의 길이를 가지고 있습니다.\n"
     ]
    }
   ],
   "source": [
    "import seaborn as sns\n",
    "import pandas as pd\n",
    "import matplotlib.pyplot as plt\n",
    "import numpy as np\n",
    "tt = pd.DataFrame(columns=['context'])\n",
    "\n",
    "tt['context_len'] = [len(i) for i in train['context']]\n",
    "\n",
    "def plot_doc_lengths(dataframe):\n",
    "    max_seq_len = np.round(dataframe.context_len.mean() + dataframe.context_len.std()).astype(int)\n",
    "    sns.distplot(tuple(dataframe.context_len), hist=True, kde=True, label='Context lengths')\n",
    "    plt.axvline(x=max_seq_len, color='k', linestyle='--', label=f'Context length mean:{max_seq_len}')\n",
    "    plt.title('Train Context lengths')\n",
    "    plt.legend()\n",
    "    plt.show()\n",
    "    print(f\" 가장 긴 text는 {tt['context_len'].max()} 개의 길이를, 평균 context 길이는 {tt['context_len'].mean()} 개의 길이를, 가장 짧은 context는 {tt['context_len'].min()} 개의 길이를 가지고 있습니다.\")\n",
    "plot_doc_lengths(tt)"
   ]
  },
  {
   "cell_type": "markdown",
   "id": "a570a71e-8f34-4b9e-94cb-f266627e62eb",
   "metadata": {},
   "source": [
    "## 3-3. context 단어 갯수 분포도"
   ]
  },
  {
   "cell_type": "code",
   "execution_count": 97,
   "id": "4f6f69dc-7a04-4823-8f89-a18e07ec6414",
   "metadata": {},
   "outputs": [
    {
     "name": "stderr",
     "output_type": "stream",
     "text": [
      "/opt/conda/lib/python3.8/site-packages/seaborn/distributions.py:2619: FutureWarning: `distplot` is a deprecated function and will be removed in a future version. Please adapt your code to use either `displot` (a figure-level function with similar flexibility) or `histplot` (an axes-level function for histograms).\n",
      "  warnings.warn(msg, FutureWarning)\n"
     ]
    },
    {
     "data": {
      "image/png": "[encoded data removed]",
      "text/plain": [
       "<Figure size 432x288 with 1 Axes>"
      ]
     },
     "metadata": {
      "needs_background": "light"
     },
     "output_type": "display_data"
    },
    {
     "name": "stdout",
     "output_type": "stream",
     "text": [
      " 가장 긴 text는 1085 개의 단어 갯수를, 평균 text 길이는 457.4741902834008 개의 단어 갯수를, 가장 짧은 text는 218 개의 단어를 가지고 있습니다.\n"
     ]
    }
   ],
   "source": [
    "import seaborn as sns\n",
    "import pandas as pd\n",
    "import matplotlib.pyplot as plt\n",
    "import numpy as np\n",
    "tt = pd.DataFrame(columns=['context'])\n",
    "count_words_f = lambda x: len(tokenize(x))\n",
    "\n",
    "tt['context_len'] = list(map(count_words_f, train['context']))\n",
    "\n",
    "def plot_doc_lengths(dataframe):\n",
    "    max_seq_len = np.round(dataframe.context_len.mean() + dataframe.context_len.std()).astype(int)\n",
    "    sns.distplot(tuple(dataframe.context_len), hist=True, kde=True, label='Context lengths')\n",
    "    plt.axvline(x=max_seq_len, color='k', linestyle='--', label=f'Context length mean:{max_seq_len}')\n",
    "    plt.title('Train Context lengths')\n",
    "    plt.legend()\n",
    "    plt.show()\n",
    "    print(f\" 가장 긴 text는 {tt['context_len'].max()} 개의 단어 갯수를, 평균 text 길이는 {tt['context_len'].mean()} 개의 단어 갯수를, 가장 짧은 text는 {tt['context_len'].min()} 개의 단어를 가지고 있습니다.\")\n",
    "plot_doc_lengths(tt)"
   ]
  },
  {
   "cell_type": "markdown",
   "id": "1a237b16-21dc-4fc9-a61b-81504666795c",
   "metadata": {},
   "source": [
    "## 3-4. context 길이가 2000이상은 경우는 뭘까?"
   ]
  },
  {
   "cell_type": "code",
   "execution_count": 43,
   "id": "037cc096-ecd0-4bce-bcfd-0f4492c4ceeb",
   "metadata": {},
   "outputs": [],
   "source": [
    "long_context=[]\n",
    "long_context_index=[]\n",
    "for i,z in enumerate(train['context']):\n",
    "    if len(z)>=2000:\n",
    "        long_context_index.append(i)\n",
    "        long_context.append(z)"
   ]
  },
  {
   "cell_type": "code",
   "execution_count": 61,
   "id": "3191de40-20f3-4f19-8a09-f1e3f22f3aa6",
   "metadata": {},
   "outputs": [
    {
     "data": {
      "text/plain": [
       "{'title': '박창암',\n",
       " 'context': '본관은 밀양(密陽). 함경남도 북청에서 출생하였으며 지난날 한때 함경남도 단천에서 잠시 유아기를 보낸 적이 있다. 만주국립연길(간도)사범학교를 졸업하고 간도의 조양천(朝陽川)초등학교에서 교사를 하다 1943년 만주국 군대인 간도특설대에 입대했다. 간도특설대는 만주국 북부에 있던 사회주의 계열 민족 해방세력인 팔로군, 동북항일연군, 조선의용대와 만주 북서부에 잔존해 있던 대한독립군단을 토벌하기 위한 특수 목적을 띈 독립군 토벌 부대였다. 간도특설대가 살해한 항일무장세력과 민간인은 172명에 달한다. 강간·약탈·고문을 당한 이들도 적잖다. \\\\n\\\\n광복 후 그는 평양에서 협신(協新)공업학교 교사를 하다 서울로 옮겨 1949년 육군 중위로 임관해 6·25전쟁을 치르게 됐다. 전쟁 중 그는 빨치산을 토벌하는 작전과 대북 심리전 분야에 주로 참여했다. 한국전쟁 당시 8사단 수색대장과 동해유격대장, 육군 특수부대장을 지냈으며, 60년 육군사관학교 생도대장을 역임했다. 이러한 그가 세인의 주목을 받게 된 것은 1961년 박정희 소장이 주도한 5·16군사정변에 참여하면서다. 박정희, 장도영 등과 함께 5·16 군사 정변에 가담하였으나 알래스카 토벌 작전으로 숙청되었다. 육군 준장으로 예편하였다. 그는 5·16에 주체세력으로 참여해 구정권의 부패를 날리는 서슬 시퍼런 ‘혁명검찰부’의 부장을 맡았다.\\\\n\\\\n그는 혁명검찰부장으로 활동할 당시 장도영 국가재건최고회의 의장을 반혁명 음모 혐의로 구속, 군사재판에 회부하기도 했다. 그러나 63년 2월 혁명검찰부장을 그만두고 준장으로 예편하자마자 본인이 오히려 반혁명 혐의로 구속되는 ‘인생유전’을 겪었다. 1963년 3월11일 김재춘씨가 이끄는 중앙정보부는 그가 반혁명사건에 연루된 인물이라고 발표했다. 중앙정보부는 5·16 당일 박정희 소장과 함께 해병대를 이끌고 한강 인도교를 건너 쿠데타를 성공시킨 김동하 예비역 해병대 중장과 박임항 예비역 육군 중장, 이규광 예비역 육군 준장(전두환 전 대통령 부인인 이순자 여사의 삼촌) 등 5·16 핵심 멤버가 그와 함께 5·16을 뒤집는 반혁명을 모의했다고 발표했다.\\\\n\\\\n박정희 세력이 아직 민정(民政)으로 이양하지 않은 시점에서 터져 나온 이 반혁명사건은 커다란 충격을 던졌다. 이 사건은 ‘군사혁명을 통해 목적한 바를 성공시켰으니 이제 군은 본연의 임무로 돌아가자’는 세력과, ‘군사혁명을 성공시켰으니 차제에 군복을 벗고 정부를 이끌어 군사혁명의 취지를 강화하겠다’는 박정희 세력 사이의 갈등에서 빚어진 것이었다. 법정에 선 박창암씨는 “혁명의 목적은 달성됐으므로 군은 당초의 약속대로 참신한 민간인에게 정권을 이양하고 군 본연의 임무로 돌아가야 한다”며 박정희 국가재건최고회의 의장을 맹비난했다.\\\\n\\\\n재판부는 박씨에게 징역 13년을 선고했으나 1년 후 그는 형 면제처분으로 석방됐다. 63년 준장으로 예편했다. 그가 교도소에 있는 사이에 박정희는 대장으로 전역하고 제5대 대통령선거에 출마해 당선됐다. 대통령이 된 박정희는 박씨 등에게 형 면제처분과 함께 복권 조치를 취했다. 교도소에서 나온 박씨는 박정희 정부와는 거리를 두고 그가 생각해온 철학을 관철하기 위해 1968년 사재를 털어 월간 ‘자유’지를 창간해 2002년까지 월간 ‘자유’의 발행인으로 일했다.\\\\n\\\\n반혁명사건으로 투옥되기 전까지 박창암씨의 키워드가 반공이었다면 자유지 창간 이후 그의 주제어는 ‘국사(國史)’로 바뀌었다. 1차적인 계기는 그가 간도에서 자랐다는 데서 찾아야 할 것이고, 2차적 계기는 당시 대전 지역에서 국사 바로 세우기 운동을 하던 이유립씨와의 만남을 꼽아야 할 것 같다. 박씨와 의기가 상통한 이유립씨는 1970년대 중반부터 ‘자유’지에 글을 싣기 시작했다. 이유립씨는 ‘자유’지 전체 지면의 절반 정도를 자신의 글로 ‘도배’하며 환단고기에 실린 것과 같은 주장을 내놓았다.\\\\n\\\\n90년대에 들어와서는 “5·16 세력은 혁명공약을 완수하고 국민들과 약속했던 대로 민정이양을 했어야 한다”는 주장을 펴기도 했다. 반공 잡지인 월간 ‘자유’의 발행인으로 변신한 이후에는 과거의 동료들과 거의 접촉하지 않고 잡지 만드는 일에만 몰두해왔다. 2003년 11월 10일 작고했다.',\n",
       " 'question': '이유립씨가 글을 싣기 시작한 잡지사가 창간된 시기는?',\n",
       " 'id': 'mrc-0-004168',\n",
       " 'answers': {'answer_start': [1547], 'text': ['1968년']},\n",
       " 'document_id': 9613,\n",
       " '__index_level_0__': 2726}"
      ]
     },
     "execution_count": 61,
     "metadata": {},
     "output_type": "execute_result"
    }
   ],
   "source": [
    "train[long_context_index[20]]"
   ]
  },
  {
   "cell_type": "markdown",
   "id": "04f97495-a1de-4306-9f52-5b6a4c24024e",
   "metadata": {},
   "source": [
    "## 3-5. contexts 겹치는 갯수 확인"
   ]
  },
  {
   "cell_type": "markdown",
   "id": "93171cf2-c1ac-4395-b8c0-35fa903cd9f1",
   "metadata": {},
   "source": [
    "### context 겹치는 갯수는 총 3962개 중에, 612개이다. (mecab 적용)"
   ]
  },
  {
   "cell_type": "code",
   "execution_count": 66,
   "id": "d11a4f4e-0b88-4ff2-8f61-14a395917485",
   "metadata": {},
   "outputs": [
    {
     "name": "stdout",
     "output_type": "stream",
     "text": [
      "중복 제거한 context 개수:  3340\n",
      "중복 제거 안 한 context 개수:  3952\n"
     ]
    }
   ],
   "source": [
    "print(\"중복 제거한 context 개수: \",len(set(contexts)))\n",
    "print(\"중복 제거 안 한 context 개수: \",len(contexts))"
   ]
  },
  {
   "cell_type": "markdown",
   "id": "7d574658-286c-454a-a0fa-f1075a950d2c",
   "metadata": {},
   "source": [
    "# 4. train data의 question"
   ]
  },
  {
   "cell_type": "markdown",
   "id": "ebc636bb-3605-47e7-b015-a8dff8cd15d1",
   "metadata": {},
   "source": [
    "## 4-1. question 최대, 최소 길이는 78, 8이다."
   ]
  },
  {
   "cell_type": "code",
   "execution_count": 68,
   "id": "345eaa2e-de98-4d58-9c2c-49afa32858f2",
   "metadata": {},
   "outputs": [
    {
     "name": "stdout",
     "output_type": "stream",
     "text": [
      "78\n",
      "8\n"
     ]
    }
   ],
   "source": [
    "title_len = [len(i) for i in train['question']]\n",
    "print(max(title_len))\n",
    "print(min(title_len))"
   ]
  },
  {
   "cell_type": "markdown",
   "id": "2ec5a672-e000-4e47-9fe9-f39031c7fe47",
   "metadata": {},
   "source": [
    "## 4-2. question 길이 분포"
   ]
  },
  {
   "cell_type": "code",
   "execution_count": 69,
   "id": "8a17cb7a-ff44-419c-8354-77d9b0dcdd2c",
   "metadata": {},
   "outputs": [
    {
     "name": "stderr",
     "output_type": "stream",
     "text": [
      "/opt/conda/lib/python3.8/site-packages/seaborn/distributions.py:2619: FutureWarning: `distplot` is a deprecated function and will be removed in a future version. Please adapt your code to use either `displot` (a figure-level function with similar flexibility) or `histplot` (an axes-level function for histograms).\n",
      "  warnings.warn(msg, FutureWarning)\n"
     ]
    },
    {
     "data": {
      "image/png": "[encoded data removed]",
      "text/plain": [
       "<Figure size 432x288 with 1 Axes>"
      ]
     },
     "metadata": {
      "needs_background": "light"
     },
     "output_type": "display_data"
    },
    {
     "name": "stdout",
     "output_type": "stream",
     "text": [
      " 가장 긴 질문은 78 개의 길이를, 평균 질문 길이는 29.32236842105263 개의 길이를, 가장 짧은 질문은 8 개의 길이를 가지고 있습니다.\n"
     ]
    }
   ],
   "source": [
    "import seaborn as sns\n",
    "import pandas as pd\n",
    "import matplotlib.pyplot as plt\n",
    "import numpy as np\n",
    "tt = pd.DataFrame(columns=['question'])\n",
    "\n",
    "tt['question_len'] = [len(i) for i in train['question']]\n",
    "\n",
    "def plot_doc_lengths(dataframe):\n",
    "    max_seq_len = np.round(dataframe.question_len.mean() + dataframe.question_len.std()).astype(int)\n",
    "    sns.distplot(tuple(dataframe.question_len), hist=True, kde=True, label='Question lengths')\n",
    "    plt.axvline(x=max_seq_len, color='k', linestyle='--', label=f'Question length mean:{max_seq_len}')\n",
    "    plt.title('Train Question lengths')\n",
    "    plt.legend()\n",
    "    plt.show()\n",
    "    print(f\" 가장 긴 질문은 {tt['question_len'].max()} 개의 길이를, 평균 질문 길이는 {tt['question_len'].mean()} 개의 길이를, 가장 짧은 질문은 {tt['question_len'].min()} 개의 길이를 가지고 있습니다.\")\n",
    "plot_doc_lengths(tt)"
   ]
  },
  {
   "cell_type": "markdown",
   "id": "030cf92f-599e-469f-9477-297224bcce23",
   "metadata": {},
   "source": [
    "## 4-3. question 단어 갯수 분포"
   ]
  },
  {
   "cell_type": "code",
   "execution_count": 71,
   "id": "99dc6900-f4d4-4464-afa0-2068414e60ba",
   "metadata": {},
   "outputs": [
    {
     "name": "stderr",
     "output_type": "stream",
     "text": [
      "/opt/conda/lib/python3.8/site-packages/seaborn/distributions.py:2619: FutureWarning: `distplot` is a deprecated function and will be removed in a future version. Please adapt your code to use either `displot` (a figure-level function with similar flexibility) or `histplot` (an axes-level function for histograms).\n",
      "  warnings.warn(msg, FutureWarning)\n"
     ]
    },
    {
     "data": {
      "image/png": "[encoded data removed]",
      "text/plain": [
       "<Figure size 432x288 with 1 Axes>"
      ]
     },
     "metadata": {
      "needs_background": "light"
     },
     "output_type": "display_data"
    },
    {
     "name": "stdout",
     "output_type": "stream",
     "text": [
      " 가장 많은 단어 분포 제목은 41 개의 단어를, 평균 단어 분포 제목은 14.773785425101215 개의 단어를, 가장 적은 단어 제목은 5 개의 단어를 가지고 있습니다.\n"
     ]
    }
   ],
   "source": [
    "import seaborn as sns\n",
    "import pandas as pd\n",
    "import matplotlib.pyplot as plt\n",
    "import numpy as np\n",
    "tt = pd.DataFrame(columns=['question'])\n",
    "count_words_f = lambda x: len(tokenize(x))\n",
    "\n",
    "tt['title_len'] = list(map(count_words_f, train['question']))\n",
    "\n",
    "def plot_doc_lengths(dataframe):\n",
    "    max_seq_len = np.round(dataframe.title_len.mean() + dataframe.title_len.std()).astype(int)\n",
    "    sns.distplot(tuple(dataframe.title_len), hist=True, kde=True, label='Question lengths')\n",
    "    plt.axvline(x=max_seq_len, color='k', linestyle='--', label=f'Question length mean:{max_seq_len}')\n",
    "    plt.title('Train Question lengths')\n",
    "    plt.legend()\n",
    "    plt.show()\n",
    "    print(f\" 가장 많은 단어 분포 제목은 {tt['title_len'].max()} 개의 단어를, 평균 단어 분포 제목은 {tt['title_len'].mean()} 개의 단어를, 가장 적은 단어 제목은 {tt['title_len'].min()} 개의 단어를 가지고 있습니다.\")\n",
    "plot_doc_lengths(tt)"
   ]
  },
  {
   "cell_type": "markdown",
   "id": "ada52f73-27ca-4034-bdab-e7bb312997c6",
   "metadata": {},
   "source": [
    "## 4-4. question 단어 분포가 20 이상의 경우는 머일까?"
   ]
  },
  {
   "cell_type": "code",
   "execution_count": 75,
   "id": "987c3402-6099-47d4-8b79-ff27c375bf21",
   "metadata": {},
   "outputs": [],
   "source": [
    "long_question_index=[]\n",
    "for i,z in enumerate(train['question']):\n",
    "    k=list(tokenize(train['question'][i]))\n",
    "    if len(k)>=20:\n",
    "        long_question_index.append(i)"
   ]
  },
  {
   "cell_type": "code",
   "execution_count": 76,
   "id": "1c2c8a52-91a8-49c9-8db1-c4bb3415741a",
   "metadata": {},
   "outputs": [
    {
     "data": {
      "text/plain": [
       "{'title': '애순핑크 크릭 전투',\n",
       " 'context': '트렌턴에서 워싱턴은 난제에 부딪쳐 있었다. 소수를 제외하고는 모든 병력의 징병 기간이 12월 31일로 끝나기 때문에, 사병들을 설득해 징병 기간 연장을 승인받지 않는 한 군대가 싸우지 않고 붕괴될 것이라는 것을 알고 있었다. 따라서 30일에, 병사들에게 10달러의 상금과 1개월 연장 근무를 요청했다. 또한 무료로 지원병을 모집했지만 아무도 응하지 않았다. 워싱턴은 말 위에서 부대의 이전을 둘러싸고 군인들에게 호소했다. “우리 용감한 동지들이여! 제군들 모두는 내가 명령한 것을 기대할 수 있는 이상으로 달성해 주었다. 그러나 국가는 위기에 처해 있다. 제군들의 아내와 가정, 그리고 소중한 모든 것들이 달려 있다. 모두가 피곤하고, 괴롭다. 그러나 더 참아야 한다고 요구하는 것을 용서해 주길 바란다. 이후 한달동안 더 복무를 해주는 것에 동의한다면, 자유와 이 나라를 지키기 위해 군대에서 일할 수 있지만, 이런 기회는 앞으로 다시는 없을 것이다.\\\\n\\\\n처음에는 아무도 나서지 않았지만, 한 군인이 나섰다. 그리고 몇 명을 제외한 모든 군인이 모두 나섰다.',\n",
       " 'question': '30일에 한달 연장 근무를 신청하는 병사가 상금으로 받게 되는 금액은?',\n",
       " 'id': 'mrc-0-000250',\n",
       " 'answers': {'answer_start': [142], 'text': ['10달러']},\n",
       " 'document_id': 34784,\n",
       " '__index_level_0__': 163}"
      ]
     },
     "execution_count": 76,
     "metadata": {},
     "output_type": "execute_result"
    }
   ],
   "source": [
    "train[long_question_index[1]]"
   ]
  },
  {
   "cell_type": "markdown",
   "id": "39974378-494a-4bdd-b8b1-7f290c1e0b42",
   "metadata": {},
   "source": [
    "# 5. train data의 answer"
   ]
  },
  {
   "cell_type": "markdown",
   "id": "b39f0f00-0c48-40bc-83f7-501f2afc3555",
   "metadata": {},
   "source": [
    "## 5-1. answer 최대 길이, 최소 길이는 83, 1이다."
   ]
  },
  {
   "cell_type": "code",
   "execution_count": 80,
   "id": "c3344d9a-fecd-41cd-9e55-17c708c2c170",
   "metadata": {},
   "outputs": [
    {
     "name": "stdout",
     "output_type": "stream",
     "text": [
      "83\n",
      "1\n"
     ]
    }
   ],
   "source": [
    "answer_len = [len(i['text'][0]) for i in train['answers']]\n",
    "print(max(answer_len))\n",
    "print(min(answer_len))"
   ]
  },
  {
   "cell_type": "markdown",
   "id": "e18a02b4-f619-41b1-94fc-bf5eb33557be",
   "metadata": {},
   "source": [
    "## 5-2. answer 길이 분포"
   ]
  },
  {
   "cell_type": "code",
   "execution_count": 82,
   "id": "1b6c6a29-6c70-431a-8316-afc12068f158",
   "metadata": {},
   "outputs": [
    {
     "name": "stderr",
     "output_type": "stream",
     "text": [
      "/opt/conda/lib/python3.8/site-packages/seaborn/distributions.py:2619: FutureWarning: `distplot` is a deprecated function and will be removed in a future version. Please adapt your code to use either `displot` (a figure-level function with similar flexibility) or `histplot` (an axes-level function for histograms).\n",
      "  warnings.warn(msg, FutureWarning)\n"
     ]
    },
    {
     "data": {
      "image/png": "[encoded data removed]",
      "text/plain": [
       "<Figure size 432x288 with 1 Axes>"
      ]
     },
     "metadata": {
      "needs_background": "light"
     },
     "output_type": "display_data"
    },
    {
     "name": "stdout",
     "output_type": "stream",
     "text": [
      " 가장 긴 대답은 83 개의 길이를, 평균 대답 길이는 6.275050607287449 개의 길이를, 가장 짧은 대답은 1 개의 길이를 가지고 있습니다.\n"
     ]
    }
   ],
   "source": [
    "import seaborn as sns\n",
    "import pandas as pd\n",
    "import matplotlib.pyplot as plt\n",
    "import numpy as np\n",
    "tt = pd.DataFrame(columns=['answers'])\n",
    "\n",
    "tt['answer_len'] = [len(i['text'][0]) for i in train['answers']]\n",
    "\n",
    "def plot_doc_lengths(dataframe):\n",
    "    max_seq_len = np.round(dataframe.answer_len.mean() + dataframe.answer_len.std()).astype(int)\n",
    "    sns.distplot(tuple(dataframe.answer_len), hist=True, kde=True, label='Answer lengths')\n",
    "    plt.axvline(x=max_seq_len, color='k', linestyle='--', label=f'Answer length mean:{max_seq_len}')\n",
    "    plt.title('Train Answer lengths')\n",
    "    plt.legend()\n",
    "    plt.show()\n",
    "    print(f\" 가장 긴 대답은 {tt['answer_len'].max()} 개의 길이를, 평균 대답 길이는 {tt['answer_len'].mean()} 개의 길이를, 가장 짧은 대답은 {tt['answer_len'].min()} 개의 길이를 가지고 있습니다.\")\n",
    "plot_doc_lengths(tt)"
   ]
  },
  {
   "cell_type": "markdown",
   "id": "e53f5fc3-33e1-4b3b-909f-4121ad3a455a",
   "metadata": {},
   "source": [
    "## 5-3. answer 단어 갯수 분포"
   ]
  },
  {
   "cell_type": "code",
   "execution_count": 88,
   "id": "63def6d5-5e51-4ec5-b416-143b662db663",
   "metadata": {},
   "outputs": [],
   "source": [
    "answers=[]\n",
    "for item in train['answers']:\n",
    "    k=''\n",
    "    item=tokenize(item['text'][0])\n",
    "    for i in item:\n",
    "        k+=i+\" \"\n",
    "    answers.append(k.strip())"
   ]
  },
  {
   "cell_type": "code",
   "execution_count": 105,
   "id": "aa8bfb16-3fbf-46fc-a349-a5ce734a0d60",
   "metadata": {},
   "outputs": [
    {
     "name": "stderr",
     "output_type": "stream",
     "text": [
      "/opt/conda/lib/python3.8/site-packages/seaborn/distributions.py:2619: FutureWarning: `distplot` is a deprecated function and will be removed in a future version. Please adapt your code to use either `displot` (a figure-level function with similar flexibility) or `histplot` (an axes-level function for histograms).\n",
      "  warnings.warn(msg, FutureWarning)\n"
     ]
    },
    {
     "data": {
      "image/png": "[encoded data removed]",
      "text/plain": [
       "<Figure size 432x288 with 1 Axes>"
      ]
     },
     "metadata": {
      "needs_background": "light"
     },
     "output_type": "display_data"
    },
    {
     "name": "stdout",
     "output_type": "stream",
     "text": [
      " 가장 긴 대답은 45 개의 단어를, 평균 대답 단어 갯수는 2.7512651821862346 개의 단어를, 가장 짧은 대답은 1 개의 단어를 가지고 있습니다.\n"
     ]
    }
   ],
   "source": [
    "import seaborn as sns\n",
    "import pandas as pd\n",
    "import matplotlib.pyplot as plt\n",
    "import numpy as np\n",
    "tt = pd.DataFrame(columns=['answer'])\n",
    "\n",
    "tt['answer_len'] = [len(i.split()) for i in answers]\n",
    "\n",
    "def plot_doc_lengths(dataframe):\n",
    "    max_seq_len = np.round(dataframe.answer_len.mean() + dataframe.answer_len.std()).astype(int)\n",
    "    sns.distplot(tuple(dataframe.answer_len), hist=True, kde=True, label='Answer lengths')\n",
    "    plt.axvline(x=max_seq_len, color='k', linestyle='--', label=f'Answer length mean:{max_seq_len}')\n",
    "    plt.title('Train Answer lengths')\n",
    "    plt.legend()\n",
    "    plt.show()\n",
    "    print(f\" 가장 긴 대답은 {tt['answer_len'].max()} 개의 단어를, 평균 대답 단어 갯수는 {tt['answer_len'].mean()} 개의 단어를, 가장 짧은 대답은 {tt['answer_len'].min()} 개의 단어를 가지고 있습니다.\")\n",
    "plot_doc_lengths(tt)"
   ]
  },
  {
   "cell_type": "code",
   "execution_count": null,
   "id": "5a54d9ca-f6ee-47e4-8797-314bbe228a72",
   "metadata": {},
   "outputs": [],
   "source": []
  }
 ],
 "metadata": {
  "kernelspec": {
   "display_name": "Python 3 (ipykernel)",
   "language": "python",
   "name": "python3"
  },
  "language_info": {
   "codemirror_mode": {
    "name": "ipython",
    "version": 3
   },
   "file_extension": ".py",
   "mimetype": "text/x-python",
   "name": "python",
   "nbconvert_exporter": "python",
   "pygments_lexer": "ipython3",
   "version": "3.8.5"
  }
 },
 "nbformat": 4,
 "nbformat_minor": 5
}
