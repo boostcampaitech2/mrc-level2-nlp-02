{
 "cells": [
  {
   "cell_type": "code",
   "execution_count": 1,
   "metadata": {},
   "outputs": [],
   "source": [
    "from datasets import load_from_disk\n",
    "\n",
    "import pandas as pd\n",
    "import matplotlib.pyplot as plt\n",
    "import seaborn as sns\n",
    "import json"
   ]
  },
  {
   "cell_type": "code",
   "execution_count": 2,
   "metadata": {},
   "outputs": [
    {
     "data": {
      "text/plain": [
       "['tfidv.bin',\n",
       " 'train_dataset',\n",
       " 'sparse_embedding.bin',\n",
       " 'test_dataset',\n",
       " 'wikipedia_documents.json']"
      ]
     },
     "execution_count": 2,
     "metadata": {},
     "output_type": "execute_result"
    }
   ],
   "source": [
    "import os\n",
    "os.listdir('../data')"
   ]
  },
  {
   "cell_type": "markdown",
   "metadata": {},
   "source": [
    "# 데이터 불러오기"
   ]
  },
  {
   "cell_type": "code",
   "execution_count": 3,
   "metadata": {},
   "outputs": [],
   "source": [
    "# load dataset\n",
    "datasets = load_from_disk(\"../data/train_dataset\")\n",
    "\n",
    "trainset = pd.DataFrame(datasets['train'])\n",
    "validset = pd.DataFrame(datasets['validation'])\n",
    "\n",
    "with open('../data/wikipedia_documents.json',\"r\") as p:\n",
    "    corpus = json.load(p)\n",
    "    corpus = pd.DataFrame(corpus).T"
   ]
  },
  {
   "cell_type": "markdown",
   "metadata": {},
   "source": [
    "# 중복 데이터 개수 확인"
   ]
  },
  {
   "cell_type": "code",
   "execution_count": 4,
   "metadata": {},
   "outputs": [
    {
     "name": "stdout",
     "output_type": "stream",
     "text": [
      "3952\n"
     ]
    },
    {
     "data": {
      "text/html": [
       "<div>\n",
       "<style scoped>\n",
       "    .dataframe tbody tr th:only-of-type {\n",
       "        vertical-align: middle;\n",
       "    }\n",
       "\n",
       "    .dataframe tbody tr th {\n",
       "        vertical-align: top;\n",
       "    }\n",
       "\n",
       "    .dataframe thead th {\n",
       "        text-align: right;\n",
       "    }\n",
       "</style>\n",
       "<table border=\"1\" class=\"dataframe\">\n",
       "  <thead>\n",
       "    <tr style=\"text-align: right;\">\n",
       "      <th></th>\n",
       "      <th>title</th>\n",
       "      <th>context</th>\n",
       "      <th>question</th>\n",
       "      <th>id</th>\n",
       "      <th>answers</th>\n",
       "      <th>document_id</th>\n",
       "      <th>__index_level_0__</th>\n",
       "    </tr>\n",
       "  </thead>\n",
       "  <tbody>\n",
       "    <tr>\n",
       "      <th>count</th>\n",
       "      <td>3952</td>\n",
       "      <td>3952</td>\n",
       "      <td>3952</td>\n",
       "      <td>3952</td>\n",
       "      <td>3952</td>\n",
       "      <td>3952.000000</td>\n",
       "      <td>3952.000000</td>\n",
       "    </tr>\n",
       "    <tr>\n",
       "      <th>unique</th>\n",
       "      <td>2716</td>\n",
       "      <td>3340</td>\n",
       "      <td>3952</td>\n",
       "      <td>3952</td>\n",
       "      <td>3926</td>\n",
       "      <td>NaN</td>\n",
       "      <td>NaN</td>\n",
       "    </tr>\n",
       "    <tr>\n",
       "      <th>top</th>\n",
       "      <td>윤치호</td>\n",
       "      <td>그러나 한편으로는 미국 사회의 인종차별주의적, 흑인을 차별하는 태도를 목격하면서 백...</td>\n",
       "      <td>조엽수림대와 온도가 비슷한 지역은?</td>\n",
       "      <td>mrc-0-000704</td>\n",
       "      <td>{'answer_start': [328], 'text': ['명령형 프로그램']}</td>\n",
       "      <td>NaN</td>\n",
       "      <td>NaN</td>\n",
       "    </tr>\n",
       "    <tr>\n",
       "      <th>freq</th>\n",
       "      <td>43</td>\n",
       "      <td>4</td>\n",
       "      <td>1</td>\n",
       "      <td>1</td>\n",
       "      <td>2</td>\n",
       "      <td>NaN</td>\n",
       "      <td>NaN</td>\n",
       "    </tr>\n",
       "    <tr>\n",
       "      <th>mean</th>\n",
       "      <td>NaN</td>\n",
       "      <td>NaN</td>\n",
       "      <td>NaN</td>\n",
       "      <td>NaN</td>\n",
       "      <td>NaN</td>\n",
       "      <td>28399.783401</td>\n",
       "      <td>1496.027328</td>\n",
       "    </tr>\n",
       "    <tr>\n",
       "      <th>std</th>\n",
       "      <td>NaN</td>\n",
       "      <td>NaN</td>\n",
       "      <td>NaN</td>\n",
       "      <td>NaN</td>\n",
       "      <td>NaN</td>\n",
       "      <td>17475.051830</td>\n",
       "      <td>1060.480948</td>\n",
       "    </tr>\n",
       "    <tr>\n",
       "      <th>min</th>\n",
       "      <td>NaN</td>\n",
       "      <td>NaN</td>\n",
       "      <td>NaN</td>\n",
       "      <td>NaN</td>\n",
       "      <td>NaN</td>\n",
       "      <td>4572.000000</td>\n",
       "      <td>0.000000</td>\n",
       "    </tr>\n",
       "    <tr>\n",
       "      <th>25%</th>\n",
       "      <td>NaN</td>\n",
       "      <td>NaN</td>\n",
       "      <td>NaN</td>\n",
       "      <td>NaN</td>\n",
       "      <td>NaN</td>\n",
       "      <td>11615.750000</td>\n",
       "      <td>587.000000</td>\n",
       "    </tr>\n",
       "    <tr>\n",
       "      <th>50%</th>\n",
       "      <td>NaN</td>\n",
       "      <td>NaN</td>\n",
       "      <td>NaN</td>\n",
       "      <td>NaN</td>\n",
       "      <td>NaN</td>\n",
       "      <td>26295.000000</td>\n",
       "      <td>1189.500000</td>\n",
       "    </tr>\n",
       "    <tr>\n",
       "      <th>75%</th>\n",
       "      <td>NaN</td>\n",
       "      <td>NaN</td>\n",
       "      <td>NaN</td>\n",
       "      <td>NaN</td>\n",
       "      <td>NaN</td>\n",
       "      <td>44240.250000</td>\n",
       "      <td>2416.250000</td>\n",
       "    </tr>\n",
       "    <tr>\n",
       "      <th>max</th>\n",
       "      <td>NaN</td>\n",
       "      <td>NaN</td>\n",
       "      <td>NaN</td>\n",
       "      <td>NaN</td>\n",
       "      <td>NaN</td>\n",
       "      <td>60603.000000</td>\n",
       "      <td>3593.000000</td>\n",
       "    </tr>\n",
       "  </tbody>\n",
       "</table>\n",
       "</div>"
      ],
      "text/plain": [
       "       title                                            context  \\\n",
       "count   3952                                               3952   \n",
       "unique  2716                                               3340   \n",
       "top      윤치호  그러나 한편으로는 미국 사회의 인종차별주의적, 흑인을 차별하는 태도를 목격하면서 백...   \n",
       "freq      43                                                  4   \n",
       "mean     NaN                                                NaN   \n",
       "std      NaN                                                NaN   \n",
       "min      NaN                                                NaN   \n",
       "25%      NaN                                                NaN   \n",
       "50%      NaN                                                NaN   \n",
       "75%      NaN                                                NaN   \n",
       "max      NaN                                                NaN   \n",
       "\n",
       "                   question            id  \\\n",
       "count                  3952          3952   \n",
       "unique                 3952          3952   \n",
       "top     조엽수림대와 온도가 비슷한 지역은?  mrc-0-000704   \n",
       "freq                      1             1   \n",
       "mean                    NaN           NaN   \n",
       "std                     NaN           NaN   \n",
       "min                     NaN           NaN   \n",
       "25%                     NaN           NaN   \n",
       "50%                     NaN           NaN   \n",
       "75%                     NaN           NaN   \n",
       "max                     NaN           NaN   \n",
       "\n",
       "                                              answers   document_id  \\\n",
       "count                                            3952   3952.000000   \n",
       "unique                                           3926           NaN   \n",
       "top     {'answer_start': [328], 'text': ['명령형 프로그램']}           NaN   \n",
       "freq                                                2           NaN   \n",
       "mean                                              NaN  28399.783401   \n",
       "std                                               NaN  17475.051830   \n",
       "min                                               NaN   4572.000000   \n",
       "25%                                               NaN  11615.750000   \n",
       "50%                                               NaN  26295.000000   \n",
       "75%                                               NaN  44240.250000   \n",
       "max                                               NaN  60603.000000   \n",
       "\n",
       "        __index_level_0__  \n",
       "count         3952.000000  \n",
       "unique                NaN  \n",
       "top                   NaN  \n",
       "freq                  NaN  \n",
       "mean          1496.027328  \n",
       "std           1060.480948  \n",
       "min              0.000000  \n",
       "25%            587.000000  \n",
       "50%           1189.500000  \n",
       "75%           2416.250000  \n",
       "max           3593.000000  "
      ]
     },
     "execution_count": 4,
     "metadata": {},
     "output_type": "execute_result"
    }
   ],
   "source": [
    "#train set\n",
    "print(len(trainset))\n",
    "trainset.describe(include=\"all\")"
   ]
  },
  {
   "cell_type": "markdown",
   "metadata": {},
   "source": [
    "전체 3952개 데이터 중 일부 중복 데이터가 존재함을 확인"
   ]
  },
  {
   "cell_type": "code",
   "execution_count": 5,
   "metadata": {},
   "outputs": [
    {
     "data": {
      "text/plain": [
       "1    2761\n",
       "2     547\n",
       "3      31\n",
       "4       1\n",
       "Name: context, dtype: int64"
      ]
     },
     "execution_count": 5,
     "metadata": {},
     "output_type": "execute_result"
    }
   ],
   "source": [
    "trainset.context.value_counts().value_counts()\n",
    "#중복으로 사용된 context는 총 579개이며\n",
    "# 그 중 4번 중복은 1개, 3번 중복은 31개, 2번 중복은 547개가 있음\n",
    "\n",
    "# trainset에서 중복인 context\n",
    "# trainset.context.value_counts()[trainset.context.value_counts().values>1].to_frame()"
   ]
  },
  {
   "cell_type": "code",
   "execution_count": 6,
   "metadata": {},
   "outputs": [
    {
     "data": {
      "text/html": [
       "<div>\n",
       "<style scoped>\n",
       "    .dataframe tbody tr th:only-of-type {\n",
       "        vertical-align: middle;\n",
       "    }\n",
       "\n",
       "    .dataframe tbody tr th {\n",
       "        vertical-align: top;\n",
       "    }\n",
       "\n",
       "    .dataframe thead th {\n",
       "        text-align: right;\n",
       "    }\n",
       "</style>\n",
       "<table border=\"1\" class=\"dataframe\">\n",
       "  <thead>\n",
       "    <tr style=\"text-align: right;\">\n",
       "      <th></th>\n",
       "      <th>title</th>\n",
       "      <th>context</th>\n",
       "      <th>question</th>\n",
       "      <th>id</th>\n",
       "      <th>answers</th>\n",
       "      <th>document_id</th>\n",
       "      <th>__index_level_0__</th>\n",
       "    </tr>\n",
       "  </thead>\n",
       "  <tbody>\n",
       "    <tr>\n",
       "      <th>201</th>\n",
       "      <td>윤치호</td>\n",
       "      <td>그러나 한편으로는 미국 사회의 인종차별주의적, 흑인을 차별하는 태도를 목격하면서 백...</td>\n",
       "      <td>평상시 기독교선교사들로부터 차별적 대우를 받은 윤치호가 생각한 미국의 중대한 속성은?</td>\n",
       "      <td>mrc-0-001069</td>\n",
       "      <td>{'answer_start': [645], 'text': ['인종주의']}</td>\n",
       "      <td>5284</td>\n",
       "      <td>705</td>\n",
       "    </tr>\n",
       "    <tr>\n",
       "      <th>1426</th>\n",
       "      <td>윤치호</td>\n",
       "      <td>그러나 한편으로는 미국 사회의 인종차별주의적, 흑인을 차별하는 태도를 목격하면서 백...</td>\n",
       "      <td>윤치호가 미국의 특징이 인종주의라고 생각하게 만든 인물은?</td>\n",
       "      <td>mrc-1-000949</td>\n",
       "      <td>{'answer_start': [570], 'text': ['기독교선교사들']}</td>\n",
       "      <td>5284</td>\n",
       "      <td>615</td>\n",
       "    </tr>\n",
       "    <tr>\n",
       "      <th>1622</th>\n",
       "      <td>윤치호</td>\n",
       "      <td>그러나 한편으로는 미국 사회의 인종차별주의적, 흑인을 차별하는 태도를 목격하면서 백...</td>\n",
       "      <td>조선에서도 윤치호를 유색 인종이라는 이유로 차별한 사람은?</td>\n",
       "      <td>mrc-0-000476</td>\n",
       "      <td>{'answer_start': [254], 'text': ['미국인 선교사']}</td>\n",
       "      <td>5284</td>\n",
       "      <td>323</td>\n",
       "    </tr>\n",
       "    <tr>\n",
       "      <th>2199</th>\n",
       "      <td>윤치호</td>\n",
       "      <td>그러나 한편으로는 미국 사회의 인종차별주의적, 흑인을 차별하는 태도를 목격하면서 백...</td>\n",
       "      <td>윤치호는 누구의 설교를 듣고 충격을 받았나?</td>\n",
       "      <td>mrc-0-002440</td>\n",
       "      <td>{'answer_start': [824], 'text': ['남부 출신 남감리교회 ...</td>\n",
       "      <td>5284</td>\n",
       "      <td>1598</td>\n",
       "    </tr>\n",
       "  </tbody>\n",
       "</table>\n",
       "</div>"
      ],
      "text/plain": [
       "     title                                            context  \\\n",
       "201    윤치호  그러나 한편으로는 미국 사회의 인종차별주의적, 흑인을 차별하는 태도를 목격하면서 백...   \n",
       "1426   윤치호  그러나 한편으로는 미국 사회의 인종차별주의적, 흑인을 차별하는 태도를 목격하면서 백...   \n",
       "1622   윤치호  그러나 한편으로는 미국 사회의 인종차별주의적, 흑인을 차별하는 태도를 목격하면서 백...   \n",
       "2199   윤치호  그러나 한편으로는 미국 사회의 인종차별주의적, 흑인을 차별하는 태도를 목격하면서 백...   \n",
       "\n",
       "                                             question            id  \\\n",
       "201   평상시 기독교선교사들로부터 차별적 대우를 받은 윤치호가 생각한 미국의 중대한 속성은?  mrc-0-001069   \n",
       "1426                 윤치호가 미국의 특징이 인종주의라고 생각하게 만든 인물은?  mrc-1-000949   \n",
       "1622                 조선에서도 윤치호를 유색 인종이라는 이유로 차별한 사람은?  mrc-0-000476   \n",
       "2199                         윤치호는 누구의 설교를 듣고 충격을 받았나?  mrc-0-002440   \n",
       "\n",
       "                                                answers  document_id  \\\n",
       "201           {'answer_start': [645], 'text': ['인종주의']}         5284   \n",
       "1426       {'answer_start': [570], 'text': ['기독교선교사들']}         5284   \n",
       "1622       {'answer_start': [254], 'text': ['미국인 선교사']}         5284   \n",
       "2199  {'answer_start': [824], 'text': ['남부 출신 남감리교회 ...         5284   \n",
       "\n",
       "      __index_level_0__  \n",
       "201                 705  \n",
       "1426                615  \n",
       "1622                323  \n",
       "2199               1598  "
      ]
     },
     "execution_count": 6,
     "metadata": {},
     "output_type": "execute_result"
    }
   ],
   "source": [
    "trainset[trainset.context.str.startswith(\"그러나 한편으로는 미국 사회의 인종차별주의적, 흑인을 차별하는 태도를 목격하면서 백인들의 오만함에 대한\")]"
   ]
  },
  {
   "cell_type": "code",
   "execution_count": 7,
   "metadata": {},
   "outputs": [
    {
     "name": "stdout",
     "output_type": "stream",
     "text": [
      "중복 제거 전 개수:  3952\n",
      "중복 제거 후 개수:  3952\n"
     ]
    }
   ],
   "source": [
    "trainset['answers']=trainset.answers.map(str)\n",
    "print(\"중복 제거 전 개수: \", len(trainset))\n",
    "print(\"중복 제거 후 개수: \",len(trainset.drop([\"__index_level_0__\",\"document_id\",\"id\",\"title\"],axis=1).drop_duplicates()))\n",
    "trainset['answers']=trainset.answers.map(eval)"
   ]
  },
  {
   "cell_type": "markdown",
   "metadata": {},
   "source": [
    "동일한 context는 있지만, 질문과 답변이 다르므로 중복이 아님을 확인"
   ]
  },
  {
   "cell_type": "code",
   "execution_count": 8,
   "metadata": {},
   "outputs": [
    {
     "data": {
      "text/html": [
       "<div>\n",
       "<style scoped>\n",
       "    .dataframe tbody tr th:only-of-type {\n",
       "        vertical-align: middle;\n",
       "    }\n",
       "\n",
       "    .dataframe tbody tr th {\n",
       "        vertical-align: top;\n",
       "    }\n",
       "\n",
       "    .dataframe thead th {\n",
       "        text-align: right;\n",
       "    }\n",
       "</style>\n",
       "<table border=\"1\" class=\"dataframe\">\n",
       "  <thead>\n",
       "    <tr style=\"text-align: right;\">\n",
       "      <th></th>\n",
       "      <th>title</th>\n",
       "      <th>context</th>\n",
       "      <th>question</th>\n",
       "      <th>id</th>\n",
       "      <th>answers</th>\n",
       "      <th>document_id</th>\n",
       "      <th>__index_level_0__</th>\n",
       "    </tr>\n",
       "  </thead>\n",
       "  <tbody>\n",
       "    <tr>\n",
       "      <th>count</th>\n",
       "      <td>240</td>\n",
       "      <td>240</td>\n",
       "      <td>240</td>\n",
       "      <td>240</td>\n",
       "      <td>240</td>\n",
       "      <td>240.000000</td>\n",
       "      <td>240.000000</td>\n",
       "    </tr>\n",
       "    <tr>\n",
       "      <th>unique</th>\n",
       "      <td>228</td>\n",
       "      <td>235</td>\n",
       "      <td>240</td>\n",
       "      <td>240</td>\n",
       "      <td>240</td>\n",
       "      <td>NaN</td>\n",
       "      <td>NaN</td>\n",
       "    </tr>\n",
       "    <tr>\n",
       "      <th>top</th>\n",
       "      <td>자수장</td>\n",
       "      <td>현재 우리가 볼 수 있는 티칼의 모습은 펜실베이니아 대학교와 과테말라 정부의 협조 ...</td>\n",
       "      <td>아이작 웨인의 아버지가 세상을 떠난 것은 몇 년도인가?</td>\n",
       "      <td>mrc-0-005289</td>\n",
       "      <td>{'answer_start': [1018], 'text': ['1895년']}</td>\n",
       "      <td>NaN</td>\n",
       "      <td>NaN</td>\n",
       "    </tr>\n",
       "    <tr>\n",
       "      <th>freq</th>\n",
       "      <td>2</td>\n",
       "      <td>2</td>\n",
       "      <td>1</td>\n",
       "      <td>1</td>\n",
       "      <td>1</td>\n",
       "      <td>NaN</td>\n",
       "      <td>NaN</td>\n",
       "    </tr>\n",
       "    <tr>\n",
       "      <th>mean</th>\n",
       "      <td>NaN</td>\n",
       "      <td>NaN</td>\n",
       "      <td>NaN</td>\n",
       "      <td>NaN</td>\n",
       "      <td>NaN</td>\n",
       "      <td>29027.704167</td>\n",
       "      <td>1572.008333</td>\n",
       "    </tr>\n",
       "    <tr>\n",
       "      <th>std</th>\n",
       "      <td>NaN</td>\n",
       "      <td>NaN</td>\n",
       "      <td>NaN</td>\n",
       "      <td>NaN</td>\n",
       "      <td>NaN</td>\n",
       "      <td>17915.733034</td>\n",
       "      <td>1049.535956</td>\n",
       "    </tr>\n",
       "    <tr>\n",
       "      <th>min</th>\n",
       "      <td>NaN</td>\n",
       "      <td>NaN</td>\n",
       "      <td>NaN</td>\n",
       "      <td>NaN</td>\n",
       "      <td>NaN</td>\n",
       "      <td>4866.000000</td>\n",
       "      <td>16.000000</td>\n",
       "    </tr>\n",
       "    <tr>\n",
       "      <th>25%</th>\n",
       "      <td>NaN</td>\n",
       "      <td>NaN</td>\n",
       "      <td>NaN</td>\n",
       "      <td>NaN</td>\n",
       "      <td>NaN</td>\n",
       "      <td>11726.250000</td>\n",
       "      <td>671.250000</td>\n",
       "    </tr>\n",
       "    <tr>\n",
       "      <th>50%</th>\n",
       "      <td>NaN</td>\n",
       "      <td>NaN</td>\n",
       "      <td>NaN</td>\n",
       "      <td>NaN</td>\n",
       "      <td>NaN</td>\n",
       "      <td>27485.000000</td>\n",
       "      <td>1372.000000</td>\n",
       "    </tr>\n",
       "    <tr>\n",
       "      <th>75%</th>\n",
       "      <td>NaN</td>\n",
       "      <td>NaN</td>\n",
       "      <td>NaN</td>\n",
       "      <td>NaN</td>\n",
       "      <td>NaN</td>\n",
       "      <td>44860.250000</td>\n",
       "      <td>2470.250000</td>\n",
       "    </tr>\n",
       "    <tr>\n",
       "      <th>max</th>\n",
       "      <td>NaN</td>\n",
       "      <td>NaN</td>\n",
       "      <td>NaN</td>\n",
       "      <td>NaN</td>\n",
       "      <td>NaN</td>\n",
       "      <td>60305.000000</td>\n",
       "      <td>3575.000000</td>\n",
       "    </tr>\n",
       "  </tbody>\n",
       "</table>\n",
       "</div>"
      ],
      "text/plain": [
       "       title                                            context  \\\n",
       "count    240                                                240   \n",
       "unique   228                                                235   \n",
       "top      자수장  현재 우리가 볼 수 있는 티칼의 모습은 펜실베이니아 대학교와 과테말라 정부의 협조 ...   \n",
       "freq       2                                                  2   \n",
       "mean     NaN                                                NaN   \n",
       "std      NaN                                                NaN   \n",
       "min      NaN                                                NaN   \n",
       "25%      NaN                                                NaN   \n",
       "50%      NaN                                                NaN   \n",
       "75%      NaN                                                NaN   \n",
       "max      NaN                                                NaN   \n",
       "\n",
       "                              question            id  \\\n",
       "count                              240           240   \n",
       "unique                             240           240   \n",
       "top     아이작 웨인의 아버지가 세상을 떠난 것은 몇 년도인가?  mrc-0-005289   \n",
       "freq                                 1             1   \n",
       "mean                               NaN           NaN   \n",
       "std                                NaN           NaN   \n",
       "min                                NaN           NaN   \n",
       "25%                                NaN           NaN   \n",
       "50%                                NaN           NaN   \n",
       "75%                                NaN           NaN   \n",
       "max                                NaN           NaN   \n",
       "\n",
       "                                            answers   document_id  \\\n",
       "count                                           240    240.000000   \n",
       "unique                                          240           NaN   \n",
       "top     {'answer_start': [1018], 'text': ['1895년']}           NaN   \n",
       "freq                                              1           NaN   \n",
       "mean                                            NaN  29027.704167   \n",
       "std                                             NaN  17915.733034   \n",
       "min                                             NaN   4866.000000   \n",
       "25%                                             NaN  11726.250000   \n",
       "50%                                             NaN  27485.000000   \n",
       "75%                                             NaN  44860.250000   \n",
       "max                                             NaN  60305.000000   \n",
       "\n",
       "        __index_level_0__  \n",
       "count          240.000000  \n",
       "unique                NaN  \n",
       "top                   NaN  \n",
       "freq                  NaN  \n",
       "mean          1572.008333  \n",
       "std           1049.535956  \n",
       "min             16.000000  \n",
       "25%            671.250000  \n",
       "50%           1372.000000  \n",
       "75%           2470.250000  \n",
       "max           3575.000000  "
      ]
     },
     "execution_count": 8,
     "metadata": {},
     "output_type": "execute_result"
    }
   ],
   "source": [
    "# validset도 중복 확인\n",
    "validset.describe(include=\"all\")\n"
   ]
  },
  {
   "cell_type": "markdown",
   "metadata": {},
   "source": [
    "240 개 중 중복이 존재함   \n",
    "trainset과 동일한 방식으로 중복 데이터 확인 진행"
   ]
  },
  {
   "cell_type": "code",
   "execution_count": 9,
   "metadata": {},
   "outputs": [
    {
     "data": {
      "text/plain": [
       "1    230\n",
       "2      5\n",
       "Name: context, dtype: int64"
      ]
     },
     "execution_count": 9,
     "metadata": {},
     "output_type": "execute_result"
    }
   ],
   "source": [
    "validset.context.value_counts().value_counts()"
   ]
  },
  {
   "cell_type": "markdown",
   "metadata": {},
   "source": [
    "5개의 데이터가 중복됨을 확인"
   ]
  },
  {
   "cell_type": "code",
   "execution_count": 10,
   "metadata": {},
   "outputs": [
    {
     "name": "stdout",
     "output_type": "stream",
     "text": [
      "중복 제거 전 개수:  240\n",
      "중복 제거 후 개수:  240\n"
     ]
    }
   ],
   "source": [
    "validset['answers']=validset.answers.map(str)\n",
    "print(\"중복 제거 전 개수: \", len(validset))\n",
    "print(\"중복 제거 후 개수: \",len(validset.drop([\"__index_level_0__\",\"document_id\",\"id\",\"title\"],axis=1).drop_duplicates()))\n",
    "validset['answers']=validset.answers.map(eval)"
   ]
  },
  {
   "cell_type": "markdown",
   "metadata": {},
   "source": [
    "validset 역시 context가 중복으로 사용되지만, 질문이 다르므로 이상없음을 확인"
   ]
  },
  {
   "cell_type": "code",
   "execution_count": 11,
   "metadata": {},
   "outputs": [
    {
     "name": "stdout",
     "output_type": "stream",
     "text": [
      "trainset 전체 데이터 개수 : 3952\n",
      "answer의 답변 위치와 실제 답변 위치가 일치하는 데이터 개수 : 3952\n",
      "****************************************************************************************************\n",
      "validset 전체 데이터 개수 : 240\n",
      "answer의 답변 위치와 실제 답변 위치가 일치하는 데이터 개수 : 240\n",
      "****************************************************************************************************\n",
      "trainset & validset 모두 일치\n"
     ]
    }
   ],
   "source": [
    "# answer의 답변 위치와, 실제 답변의 위치가 일치하는지를 확인 \n",
    "print(f\"trainset 전체 데이터 개수 : {len(trainset)}\")\n",
    "print(\"answer의 답변 위치와 실제 답변 위치가 일치하는 데이터 개수 :\",trainset.apply(lambda x : (x.answers[\"text\"][0]==x.context[x.answers['answer_start'][0] : x.answers['answer_start'][0]+len(x.answers['text'][0])]),axis=1).sum())\n",
    "print(\"*\"*100)\n",
    "print(f\"validset 전체 데이터 개수 : {len(validset)}\")\n",
    "print(\"answer의 답변 위치와 실제 답변 위치가 일치하는 데이터 개수 :\",validset.apply(lambda x : (x.answers[\"text\"][0]==x.context[x.answers['answer_start'][0] : x.answers['answer_start'][0]+len(x.answers['text'][0])]),axis=1).sum())\n",
    "print(\"*\"*100)\n",
    "print(\"trainset & validset 모두 일치\")"
   ]
  },
  {
   "cell_type": "markdown",
   "metadata": {},
   "source": [
    "모든 답변이 일치함"
   ]
  },
  {
   "cell_type": "markdown",
   "metadata": {},
   "source": [
    "# context 길이"
   ]
  },
  {
   "cell_type": "code",
   "execution_count": 12,
   "metadata": {},
   "outputs": [
    {
     "name": "stdout",
     "output_type": "stream",
     "text": [
      "[trainset] min context 길이: 512\n",
      "[trainset] max context 길이: 2059\n",
      "[trainset] mean context 길이:  920.2206477732793\n",
      "[trainset] median context 길이:  819.0\n"
     ]
    },
    {
     "data": {
      "image/png": "[encoded data removed]",
      "text/plain": [
       "<Figure size 432x288 with 1 Axes>"
      ]
     },
     "metadata": {
      "needs_background": "light"
     },
     "output_type": "display_data"
    }
   ],
   "source": [
    "print(\"[trainset] min context 길이:\", trainset.context.map(len).min())\n",
    "print(\"[trainset] max context 길이:\", trainset.context.map(len).max())\n",
    "print(\"[trainset] mean context 길이: \", trainset.context.map(len).mean())\n",
    "print(\"[trainset] median context 길이: \", trainset.context.map(len).median())\n",
    "\n",
    "trainset.context.map(len).hist(bins=100)\n",
    "plt.show()"
   ]
  },
  {
   "cell_type": "code",
   "execution_count": 13,
   "metadata": {},
   "outputs": [
    {
     "name": "stdout",
     "output_type": "stream",
     "text": [
      "[validset] min context 길이: 517\n",
      "[validset] max context 길이: 2064\n",
      "[validset] mean context 길이:  916.725\n",
      "[validset] median context 길이:  820.5\n"
     ]
    },
    {
     "data": {
      "image/png": "[encoded data removed]",
      "text/plain": [
       "<Figure size 432x288 with 1 Axes>"
      ]
     },
     "metadata": {
      "needs_background": "light"
     },
     "output_type": "display_data"
    }
   ],
   "source": [
    "print(\"[validset] min context 길이:\", validset.context.map(len).min())\n",
    "print(\"[validset] max context 길이:\", validset.context.map(len).max())\n",
    "print(\"[validset] mean context 길이: \", validset.context.map(len).mean())\n",
    "print(\"[validset] median context 길이: \", validset.context.map(len).median())\n",
    "\n",
    "validset.context.map(len).hist(bins=100)\n",
    "plt.show()"
   ]
  },
  {
   "cell_type": "code",
   "execution_count": 16,
   "metadata": {},
   "outputs": [],
   "source": [
    "#corpus의 column 중 text를 context로 변환\n",
    "corpus.columns = ['context', 'corpus_source', 'url', 'domain', 'title', 'author', 'html','document_id']"
   ]
  },
  {
   "cell_type": "code",
   "execution_count": 45,
   "metadata": {},
   "outputs": [
    {
     "name": "stdout",
     "output_type": "stream",
     "text": [
      "[corpus] min context 길이: 184\n",
      "[corpus] max context 길이: 46099\n",
      "[corpus] mean context 길이:  755.5650438024846\n",
      "[corpus] median context 길이:  577.0\n",
      "전체 60613개 중 validset&trainset의 최대 길이 2064를 넘는 데이터 개수 및 비율: 1926(3.18%)\n"
     ]
    },
    {
     "data": {
      "image/png": "[encoded data removed]",
      "text/plain": [
       "<Figure size 432x288 with 1 Axes>"
      ]
     },
     "metadata": {
      "needs_background": "light"
     },
     "output_type": "display_data"
    }
   ],
   "source": [
    "print(\"[corpus] min context 길이:\", corpus.context.map(len).min())\n",
    "print(\"[corpus] max context 길이:\", corpus.context.map(len).max())\n",
    "print(\"[corpus] mean context 길이: \", corpus.context.map(len).mean())\n",
    "print(\"[corpus] median context 길이: \", corpus.context.map(len).median())\n",
    "print(f\"전체 {len(corpus)}개 중 validset&trainset의 최대 길이 2064를 넘는 데이터 개수 및 비율: {corpus.context.map(lambda x : len(x)>2064).sum()}({round(corpus.context.map(lambda x : len(x)>2064).sum()/len(corpus)*100,2)}%)\")\n",
    "corpus.context.map(len).hist(bins=100)\n",
    "plt.show()"
   ]
  },
  {
   "cell_type": "code",
   "execution_count": 141,
   "metadata": {},
   "outputs": [
    {
     "data": {
      "image/png": "[encoded data removed]",
      "text/plain": [
       "<Figure size 1080x720 with 3 Axes>"
      ]
     },
     "metadata": {
      "needs_background": "light"
     },
     "output_type": "display_data"
    }
   ],
   "source": [
    "fig,ax = plt.subplots(3,1,figsize=(15,10))\n",
    "\n",
    "sns.violinplot(x=trainset.context.map(len),ax=ax[0])\n",
    "ax[0].axvline(trainset.context.map(len).mean(), ls='--', color='red')\n",
    "ax[0].set_title(\"[trainset] Distribution of context data length\", fontsize = 13, fontweight='bold')\n",
    "ax[0].annotate(f'mean length \\n {round(trainset.context.map(len).mean(),2)}', xy=(trainset.context.map(len).mean(), 0.1), xytext=(trainset.context.map(len).mean()+300, 0.3),fontsize=12,fontweight='semibold',\n",
    "            arrowprops=dict(facecolor='red', shrink=0.05))\n",
    "\n",
    "sns.violinplot(x=validset.context.map(len),ax=ax[1])\n",
    "ax[1].axvline(validset.context.map(len).mean(), ls='--', color='red')\n",
    "ax[1].set_title(\"[validset] Distribution of context data length\", fontsize = 13, fontweight='bold')\n",
    "ax[1].annotate(f'mean length \\n {round(validset.context.map(len).mean(),2)}', xy=(validset.context.map(len).mean(), 0.1), xytext=(validset.context.map(len).mean()+300, 0.3),fontsize=12,fontweight='semibold',\n",
    "            arrowprops=dict(facecolor='red', shrink=0.05))\n",
    "\n",
    "sns.violinplot(x=corpus[corpus.context.map(len)<=2064].context.map(len),ax=ax[2])\n",
    "ax[2].axvline(corpus.context.map(len).mean(), ls='--', color='red')\n",
    "ax[2].set_title(\"[corpus] Distribution of context data length\", fontsize = 13, fontweight='bold')\n",
    "\n",
    "props = dict(boxstyle='round', facecolor='wheat', alpha=0.5)\n",
    "ax[2].text(s=\" Excluding context data that exceeds 2064\\n which is the maximum length of the train & valid set \\n (1926ea, 3.18%)\",\n",
    "           x=1200,y=-0.15, fontweight='semibold', fontsize=12, bbox=props)\n",
    "ax[2].annotate(f'mean length \\n {round(corpus.context.map(len).mean(),2)}', xy=(corpus.context.map(len).mean(), 0.1), xytext=(corpus.context.map(len).mean()+300, 0.3),fontsize=12,fontweight='semibold',\n",
    "            arrowprops=dict(facecolor='red', shrink=0.05))\n",
    "\n",
    "plt.subplots_adjust(hspace=0.4)\n",
    "plt.show()\n"
   ]
  },
  {
   "cell_type": "markdown",
   "metadata": {},
   "source": [
    "# answer 길이 "
   ]
  },
  {
   "cell_type": "code",
   "execution_count": 151,
   "metadata": {},
   "outputs": [
    {
     "data": {
      "text/html": [
       "<div>\n",
       "<style scoped>\n",
       "    .dataframe tbody tr th:only-of-type {\n",
       "        vertical-align: middle;\n",
       "    }\n",
       "\n",
       "    .dataframe tbody tr th {\n",
       "        vertical-align: top;\n",
       "    }\n",
       "\n",
       "    .dataframe thead th {\n",
       "        text-align: right;\n",
       "    }\n",
       "</style>\n",
       "<table border=\"1\" class=\"dataframe\">\n",
       "  <thead>\n",
       "    <tr style=\"text-align: right;\">\n",
       "      <th></th>\n",
       "      <th>answers</th>\n",
       "      <th>len_answer</th>\n",
       "    </tr>\n",
       "  </thead>\n",
       "  <tbody>\n",
       "    <tr>\n",
       "      <th>0</th>\n",
       "      <td>{'answer_start': [235], 'text': ['하원']}</td>\n",
       "      <td>2</td>\n",
       "    </tr>\n",
       "    <tr>\n",
       "      <th>1</th>\n",
       "      <td>{'answer_start': [212], 'text': ['《경영의 실제》']}</td>\n",
       "      <td>8</td>\n",
       "    </tr>\n",
       "    <tr>\n",
       "      <th>2</th>\n",
       "      <td>{'answer_start': [510], 'text': ['백성']}</td>\n",
       "      <td>2</td>\n",
       "    </tr>\n",
       "    <tr>\n",
       "      <th>3</th>\n",
       "      <td>{'answer_start': [625], 'text': ['중국']}</td>\n",
       "      <td>2</td>\n",
       "    </tr>\n",
       "    <tr>\n",
       "      <th>4</th>\n",
       "      <td>{'answer_start': [30], 'text': ['4개']}</td>\n",
       "      <td>2</td>\n",
       "    </tr>\n",
       "  </tbody>\n",
       "</table>\n",
       "</div>"
      ],
      "text/plain": [
       "                                         answers  len_answer\n",
       "0        {'answer_start': [235], 'text': ['하원']}           2\n",
       "1  {'answer_start': [212], 'text': ['《경영의 실제》']}           8\n",
       "2        {'answer_start': [510], 'text': ['백성']}           2\n",
       "3        {'answer_start': [625], 'text': ['중국']}           2\n",
       "4         {'answer_start': [30], 'text': ['4개']}           2"
      ]
     },
     "execution_count": 151,
     "metadata": {},
     "output_type": "execute_result"
    }
   ],
   "source": [
    "train_answer = trainset.answers.to_frame()\n",
    "valid_answer = validset.answers.to_frame()\n",
    "\n",
    "train_answer['len_answer'] = train_answer.answers.map(lambda x : len(x['text'][0]))\n",
    "valid_answer['len_answer'] = valid_answer.answers.map(lambda x : len(x['text'][0]))\n",
    "train_answer.head()\n"
   ]
  },
  {
   "cell_type": "code",
   "execution_count": 342,
   "metadata": {},
   "outputs": [
    {
     "name": "stdout",
     "output_type": "stream",
     "text": [
      "[trainset answers]\n",
      "max length of answers : 83\n",
      "min length of answers : 1\n",
      "mean length of answers : 6.28\n",
      "median length of answers : 5.0\n",
      "number of answers which exceed 30 : 25개(전체 : 3952)\n",
      "출력 가능한 답변의 길이를 지정해야 하는데, baseline에서는 default로 30이 지정되어 있음 \n",
      "\n",
      "[validnset answers]\n",
      "max length of answers : 64\n",
      "min length of answers : 1\n",
      "mean length of answers : 6.91\n",
      "median length of answers : 5.0\n",
      "number of answers which exceed 30 : 4개(전체 : 240)\n",
      "출력 가능한 답변의 길이를 지정해야 하는데, baseline에서는 default로 30이 지정되어 있음 \n",
      "\n"
     ]
    }
   ],
   "source": [
    "def get_length(data, dataset_name):\n",
    "    print(f\"[{dataset_name}]\")\n",
    "    print(f\"max length of answers : {data.len_answer.max()}\")\n",
    "    print(f\"min length of answers : {data.len_answer.min()}\")\n",
    "    print(f\"mean length of answers : {data.len_answer.mean().round(2)}\")\n",
    "    print(f\"median length of answers : {data.len_answer.median().round(2)}\")\n",
    "    print(f\"number of answers which exceed 30 : {sum(data.len_answer>30)}개(전체 : {len(data.len_answer)})\")\n",
    "    print(f\"출력 가능한 답변의 길이를 지정해야 하는데, baseline에서는 default로 30이 지정되어 있음\",\"\\n\")\n",
    "\n",
    "get_length(train_answer,\"trainset answers\")\n",
    "get_length(valid_answer,\"validnset answers\")"
   ]
  },
  {
   "cell_type": "code",
   "execution_count": 270,
   "metadata": {},
   "outputs": [
    {
     "name": "stdout",
     "output_type": "stream",
     "text": [
      "[trainset answers]\n",
      "the longest answer : “나는 국경일에 일장기를 게양하는 것을 반대하지 않는다. 왜냐하면 우리가 일본의 통치하에 있는 한 우리는 그 통치의 명령에 복종해야 하기 때문이다.”\n",
      "the shortest answer : 덱 \n",
      "\n",
      "[validnset answers]\n",
      "the longest answer : 깃털 셔틀콕의 타구감을 선호하고, 또한 플라스틱보다 깃털 셔틀콕이 정교한 컨트롤을 하기에 보다 더 적합하기 때문이다\n",
      "the shortest answer : 욱 \n",
      "\n"
     ]
    }
   ],
   "source": [
    "#가장 긴 문장 및 가장 짧은 문장\n",
    "def get_length(data, dataset_name):\n",
    "    print(f\"[{dataset_name}]\")\n",
    "    print(f\"the longest answer : {data[data.len_answer == data.len_answer.max()].answers.values[0]['text'][0]}\")\n",
    "    print(f\"the shortest answer : {data[data.len_answer == data.len_answer.min()].answers.values[0]['text'][0]}\",\"\\n\")\n",
    "\n",
    "get_length(train_answer,\"trainset answers\")\n",
    "get_length(valid_answer,\"validnset answers\")"
   ]
  },
  {
   "cell_type": "code",
   "execution_count": 265,
   "metadata": {},
   "outputs": [
    {
     "data": {
      "text/plain": [
       "2"
      ]
     },
     "execution_count": 265,
     "metadata": {},
     "output_type": "execute_result"
    }
   ],
   "source": [
    "len(trainset.iloc[0].answers['text'][0])"
   ]
  },
  {
   "cell_type": "code",
   "execution_count": 330,
   "metadata": {},
   "outputs": [
    {
     "name": "stdout",
     "output_type": "stream",
     "text": [
      "[trainset]\n",
      "index 번호:  46\n",
      "질문:  초고층 주거에서 차량과 사람의 활동 범위 중복을 최소화하는 장치는?\n",
      "답변:  {'answer_start': [663], 'text': ['덱']}\n",
      "지문:\n",
      " 도곡 단지 전체에 4계절 녹음과 단풍이 풍성할 수 있는 계획을 하고 인도를 넓게 확장하여 보행자와 어린이에게 안전을 확보함과 동시에 휴게공간을 제공하는 것이 주요 의도이다. 타워팰리스 Ⅰ과 Ⅱ사이를 지 나는중앙로의 가로변에는 2열의 느티나무 가로 군을 엇배치 형식으로 조성하여 여름에는 벤치와 함께 한적한 보도 위의 그늘 휴게공간으로 상가 전면에 계획하였다. 이는 판상형 아파트가 아닌 타워형 초고층 주거로 계획함으로써 지상부 공개공지의 확보가 있었기에 가능한 일이다. (타워팰리스 Ⅰ과 Ⅱ사이 가로의 조경) B동에서 대지 경계를 따라 양재천 변이 위치한다. 지상에서 여유로운 대지는 산책로와 정원들로 구성된 주민을 위한 공간으로 이용되며 이 행위를 위한 소음 차단은 천변의 언덕에 자연적 울타리를 조성함으로써 가능하였다. 모든 시민이 이용하는 천변의 녹지와 단지 주민이 이용하는 산책로 사이에서 (프라이버시와 공공성의 사이에서) 천연 언덕과 식재를 통한 녹지는 좋은 중재안이었다. ( B동 앞의 조경 단면) 초고층 주거건축물의 경우 단지의 규모상 지상 1층에서의 차량 선회 동선이 길어짐으로 지상부에서 사람의 활동에는 많은 제약이 따르고 안전도 확보되기 어려운 것은 피할 수 없는 현실이었다. 이를 위한 대안으로 선택된 것이 지상부에서 사람이 밟을 수 있는 면적을 늘리는 대안 - ’\u001b[31m\u001b[43m덱\u001b[0m’라는 장치였다. 인공 상판을 도입하는 부분에서 조경과 시설물 계획, 충분한 층고 확보, 덱 조경의 토심 확보, 시각 투과의 다양성 제공 등 많은 점검을 통해 덱 이 인공 조형 공간이 아닌 새로운‘지반’으로서 느껴질 수 있도록 했다. (중앙 플라자 덱의 조경 단면) 이처럼 본 단지에서 덱과 로터리는 단지의 동선과 조경 그리고 환경계획 면에서 중심의 위치에 있다. 모든 세대에서 하향 조망이 가능하며 차량 진입시 로터리를 돌면서 맞이하는 중심부의 녹지공간은 마을 어귀의 둥그나 무 같은 지시물 역할을 하게 된다. 덱을 주로 이용하는 단지 주민에게도 로터리와 중앙 조경수는 주민들 전체의 의식 속에 살아있는 마을(단지)의 중심으로 기억될 것이다. 이 밖에도 고층부에서 녹지를 가깝게 접할 수 있는 공간을 두기 위해 옥상정원을 계획하였다. \n",
      "\n",
      "[validset]\n",
      "index 번호:  50\n",
      "질문:  정민과 이별한 이후 옥림의 매력에 마음을 빼앗겨버린 인물은?\n",
      "답변:  {'answer_start': [81], 'text': ['욱']}\n",
      "지문:\n",
      " 옥림은 어렸을 때부터 친하게 지낸 욱에게 좋아하는 마음이 있었지만 단짝인 정민과 사귀게 되자 포기하고 얼떨결에 아인과 사귀게 된다. 오래 못 가 \u001b[31m\u001b[43m욱\u001b[0m은 정민과의 권태기로 헤어지고 옥림에게 매력을 느껴 좋아하는 마음이 생기게 된다. 이후 삼각관계의 전모를 알게 된 아인은 옥림과 헤어지고 미안한 마음에 옥림은 아인을 붙잡아 보지만 계속해서 냉소적 반응을 보이자 옥림 또한 마음을 접는다. 멀리 이사를 가게 된 옥림은 모든 사람들과 헤어지게 된다.\\n\\n옥림의 삼각관계 에피소드 외에도 주변 친구들과 주변 어른들에게서 일어나는 일들도 심도 있게 다룬다.\\n\\n;대표적인 에피소드\\n* 17회 마녀의 조건\\n: 정민의 왕따 논란을 일으킨 에피소드. 지각으로 운동장을 뛰는 벌칙 대신 노래를 부르라는 선도부짱에게 정민은 유치하고 어이 없다고 맞선다. 선도부짱은 계속 정민의 앞에 나타나 사과하라고 강요하지만 정민은 자신은 잘못한 게 없다며 선도부짱의 말에 맞받아친다. 다음날 선도부짱은 정민은 무시하고 정민의 반 아이들만 집중적으로 괴롭히며 정민을 당혹하게 하고 친구들에게서 뭇매를 맞는다. 사과를 해보지만 때는 늦었고 선도부짱의 반 아이들을 향한 괴롭힘의 강도는 더욱 심해져 간다. 더 이상 사태를 간과할 수 없는 정민은 처음에 선도부짱 시킨 노래를 부르며 이 에피소드는 막이 내린다.\\n* 25회 봄날은 가고\\n: 40대 중년 가장을 대표한 에피소드. 구조조정에 위기감을 느낀 옥림의 아빠는 더욱 긴장하며 열심히 일하지만 불안한 마음을 감출 수 없어 가족들에게 신경질을 내게 된다. 옥림의 담임은 교장에게 새로운 수업법에 관한 보고서에 질타를 받고 예전에 화려하고 당당하기만 했던 시절을 떠올리며 자신을 원망한다. 옥림의 아빠와 담임은 서로가 누군지 모른 채 만나며 통하게 된다. 이후 옥림의 아빠는 다행히 구조조정을 비켜가 안심하고, 담임은 새로운 수업법을 발표하고 직접 실천하며 애들과 가까워지려 한다.\\n* 45회 세리의 첫사랑\\n: 세리의 짝사랑 에피소드. 남부럽지 않은 환경에 자신을 과시하고 다니는 세리는 천하태평 자신만만이다. 하지만 그런 세리도 욱의 목젖을 보고 반하고 욱을 볼때마다 심장이 뛰어 미칠 지경이다. 세리는 금방 반아이들에게 들통나고 옥림을 비롯한 친구들은 세리를 적극적으로 지지해준다. 난생처음 남자와의 데이트에 긴장 가득된 세리는 어설프기만 하고 헤어지기 전 욱에게 고백해보지만 욱은 거절하고 세리는 충격을 받는다. 며칠 뒤 아무렇지 않은 본래 자신의 모습으로 나타나며 세리의 짝사랑은 막내리게 된다. \n",
      "\n"
     ]
    }
   ],
   "source": [
    "# 가장 짧은 답변의 데이터 확인\n",
    "def emphasize_answer(data, dataset_name,Max_len=True):\n",
    "    print(f\"[{dataset_name}]\")\n",
    "    if Max_len:\n",
    "        text_len = data.answers.map(lambda x : len(x['text'][0])).max()\n",
    "    else:\n",
    "        text_len = data.answers.map(lambda x : len(x['text'][0])).min()\n",
    "    idx = data[data.answers.map(lambda x : len(x['text'][0]))==text_len].index.values[0]\n",
    "\n",
    "    print(\"index 번호: \",idx)\n",
    "    print(\"질문: \", data.iloc[idx].question)\n",
    "    print(\"답변: \", data.iloc[idx].answers)\n",
    "    print(\"지문:\\n\",\n",
    "          data.iloc[idx].context[:data.iloc[idx].answers['answer_start'][0]]+\n",
    "          f\"\\033[31m\\033[43m{data.iloc[idx].context[data.iloc[idx].answers['answer_start'][0]:data.iloc[idx].answers['answer_start'][0]+len(data.iloc[idx].answers['text'][0])]}\\033[0m\"+\n",
    "          data.iloc[idx].context[data.iloc[idx].answers['answer_start'][0]+len(data.iloc[idx].answers['text'][0]):],\n",
    "          \"\\n\")\n",
    "\n",
    "emphasize_answer(trainset, \"trainset\", Max_len=False)\n",
    "emphasize_answer(validset, \"validset\", Max_len=False)"
   ]
  },
  {
   "cell_type": "code",
   "execution_count": 331,
   "metadata": {},
   "outputs": [
    {
     "name": "stdout",
     "output_type": "stream",
     "text": [
      "[trainset]\n",
      "index 번호:  996\n",
      "질문:  윤치호가 일부 독립운동 지도자들로부터 비난 받았던 일기의 내용은?\n",
      "답변:  {'answer_start': [1122], 'text': ['“나는 국경일에 일장기를 게양하는 것을 반대하지 않는다. 왜냐하면 우리가 일본의 통치하에 있는 한 우리는 그 통치의 명령에 복종해야 하기 때문이다.”']}\n",
      "지문:\n",
      " 3·1 운동\\n1919년 3월 3·1 운동 당시, 독립운동가들로부터 국민대표로 서명을 권유받았으나 거절했고, 이는 실망한 일부 학생들로부터 비판을 받게 된다. 그는 이 민족적인 거사를 순진한 애국심에 기초한 민족주의자들의 무모한 행동으로 파악했다. 그는 한일병합 이후에도 신문과 방송매체를 통해 선전, 선동을 하는 지식인들을 혐오하고 경멸했다. 윤치호에 의하면 그들은 '자신들은 죽을 용기도 없으면서 다른 순진한 사람들을 죽음의 골짜기로 몰고 가는 저주받을 악마와 같은 존재들'이었다.\\n\\n이번 운동에 반대하는 세 가지 이유는 이렇다. 조선 문제는 파리강화회의에 상정되지 않을 것이다. 어떤 나라도 조선독립을 위해 일본과 싸우는모험을 감행하지는 않을 것이다. 약자가 취할 수 있는 최선의 방책은 강자의 호감을 사는 것이다|1919년 3월 6일\\n\\n그는 젊은이들을 무책임하게 죽음으로 몰고간다며 일부 민족대표와 독립운동가를 무책임한 인사라고 비판했다. 오히려 그는 이러한 선동이 독립을 불러오기는커녕 일본 제국주의자들에게 한국인들을 더욱 가혹하고 엄하게 다룰 구실만 제공할 뿐이라고 내다봤다.\\n\\n 3.1 만세 운동의 실패를 예견한 그는 만세 운동이 한참 진행 중이던 3월 2일자의 일기에서 학생들을 앞세운 뒤, 만세 대열에서 슬그머니 발을 뺀 기독교, 천도교계 인사들을 음모꾼들이라며 규탄했다 3ㆍ1운동 후 구치소에 수감되는 여학생들의 모습에서는 일제 경찰에 대한증오와 분노로 밤새워 괴로워했다 이후 3월 5일~3월 7일 그는 시내를 다니며 만세 시위 직후의 동태를 파악했다. 3월 7일 기자 회견을 통해 다음과 같은 담화문을 발표하기도 했다.\\n\\n강자와 서로 화합하고 서로 아껴 가는 데에는 약자가 항상 순종해야만 강자에게 애호심을 불러일으키게 해서 평화의 기틀이 마련되는 것입니다마는, 만약 약자가 강자에 대해서 무턱대고 대든다면 강자의 노여움을 사서 결국 약자 자신을 괴롭히는 일이 됩니다. 그런 뜻에서도 조선은 내지에 대해서 그저 덮어 놓고 불온한 언동을 부리는 것은 이로운 일이 못됩니다.|윤치호|경성일보 1919년 3월 7일\\n\\n이 상황에 대해서, 일부 학자는 그 당시에, 윤치호가 '(조선의) 독립은 불가능하며 일제에 저항을 할 필요가 없다고 생각'했다고 주장한다. 자신의 일기에도 \u001b[31m\u001b[43m“나는 국경일에 일장기를 게양하는 것을 반대하지 않는다. 왜냐하면 우리가 일본의 통치하에 있는 한 우리는 그 통치의 명령에 복종해야 하기 때문이다.”\u001b[0m(윤치호 일기, 1919년 10월 1일자)라고 썼다. 이때문에 일부 독립운동 지도자들로부터 비난을 받기도 했다. 한편 3·1 만세 운동을 주도한 민족대표의 1인인 권동진을 만났는데, 윤치호는 그로부터 처음에는 평화적인 선언서 낭독으로 이를 통해 신문 뉴스로 국제사회에 한국의 독립을 알리기로 결정했으나 학생들이 갑자기 감정이 격해져서 감정적인 시위로 변질됐다는 이야기를 듣게 된다. 권동진이 처음 찾아왔을 때 그는 경멸적인 태도로 대하였으나, 그의 이야기를 듣고 다소 감정적인 태도에서 한발 누그러졌다.\\n\\n호찌민의 실패를 예견한 그는 파리강화회의에 기대를 거는 한국인 독립운동가들의 기대 역시 좌절될 것이라고 내다봤다. 파리강화회의에서 한국 문제는 상정되지 않았고, 이후 김규식, 여운형 등은 소련 등 사회주의세력에, 송진우 등은 실력양성론으로 노선을 전환한다. \n",
      "\n",
      "[validset]\n",
      "index 번호:  109\n",
      "질문:  어느정도 규모 이상의 대회에서 깃털 셔틀콕만을 사용하는 이유는?\n",
      "답변:  {'answer_start': [637], 'text': ['깃털 셔틀콕의 타구감을 선호하고, 또한 플라스틱보다 깃털 셔틀콕이 정교한 컨트롤을 하기에 보다 더 적합하기 때문이다']}\n",
      "지문:\n",
      " 셔틀콕은 그 재질에 따라 깃털 셔틀콕과 인조 셔틀콕으로 나뉜다. 깃털로 만들어진 셔틀콕은 내구성이 떨어져 시합 중에 수시로 교체해 주어야 하는 불편함이 있다. 인조 셔틀콕은 기존 셔틀콕의 깃털 부분을 플라스틱 재질로 대체하여 그러한 단점을 보완한 것이다. 좋은 품질의 깃털 셔틀콕과 인조 셔틀콕은 단가가 서로 비슷하면서 내구성은 인조 셔틀콕이 더 우수하기 때문에, 아마추어 동호인들은 오래 사용할 수 있는 인조 셔틀콕을 더 선호하기도 한다.\\n\\n깃털 셔틀콕과 인조 셔틀콕은 공중에서 보여주는 움직임에서 차이가 있다. 플라스틱으로 만들어진 셔틀콕은 최초 타격시에는 깃털 셔틀콕보다 좀더 느리게 날아가지만 속도의 감소는 상대적으로 적어 종속(終速)이 더 빠른 성질을 보인다. 반면 깃털 셔틀콕은 라켓에 의해 타격되는 순간 최고 320km/h에 이르는 빠른 속도로 날아가지만 속도의 감소율이 더 높아 땅에 떨어지는 순간에는 플라스틱 셔틀콕보다 속도가 더 느려진다. 이 때문에 깃털 셔틀콕을 사용하는 경우 경기의 진행 속도가 빨라 보이면서 랠리는 더 길어지는 효과가 있다.\\n\\n상급자 수준의 아마추어 혹은 어느 정도 규모 이상의 대회에서는 거의 예외 없이 깃털 셔틀콕을 쓰며, 전문 선수들 또한 항상 깃털 셔틀콕만을 사용한다. 이것은 그들이 \u001b[31m\u001b[43m깃털 셔틀콕의 타구감을 선호하고, 또한 플라스틱보다 깃털 셔틀콕이 정교한 컨트롤을 하기에 보다 더 적합하기 때문이다\u001b[0m. 특히 깃털 셔틀콕은 그 특성상 더 적은 힘으로 더 빠르게 날아가게 타구할 수 있으므로 플라스틱 재질을 사용할 때보다 어깨에 부담이 적고 부상의 위험도 낮다. 이러한 이유로 국제 시니어 대회에서는 항상 최상 품질의 셔틀콕을 사용한다. 상대적으로 유럽이나 북미 지역에 비해 깃털 셔틀콕의 단가가 더 낮은 아시아 지역에서 깃털 셔틀콕의 사용 빈도가 더 높다. \n",
      "\n"
     ]
    }
   ],
   "source": [
    "# 가장 긴 답변의 데이터 확인\n",
    "emphasize_answer(trainset, \"trainset\", Max_len=True)\n",
    "emphasize_answer(validset, \"validset\", Max_len=True)"
   ]
  },
  {
   "cell_type": "code",
   "execution_count": null,
   "metadata": {},
   "outputs": [],
   "source": []
  },
  {
   "cell_type": "code",
   "execution_count": null,
   "metadata": {},
   "outputs": [],
   "source": []
  }
 ],
 "metadata": {
  "interpreter": {
   "hash": "d4d1e4263499bec80672ea0156c357c1ee493ec2b1c70f0acce89fc37c4a6abe"
  },
  "kernelspec": {
   "display_name": "Python 3.8.5 64-bit ('base': conda)",
   "name": "python3"
  },
  "language_info": {
   "codemirror_mode": {
    "name": "ipython",
    "version": 3
   },
   "file_extension": ".py",
   "mimetype": "text/x-python",
   "name": "python",
   "nbconvert_exporter": "python",
   "pygments_lexer": "ipython3",
   "version": "3.8.5"
  },
  "orig_nbformat": 4
 },
 "nbformat": 4,
 "nbformat_minor": 2
}
